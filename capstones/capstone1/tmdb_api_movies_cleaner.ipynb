{
 "cells": [
  {
   "cell_type": "code",
   "execution_count": 1,
   "metadata": {},
   "outputs": [],
   "source": [
    "import pandas as pd\n",
    "import numpy as np\n",
    "import json"
   ]
  },
  {
   "cell_type": "code",
   "execution_count": 2,
   "metadata": {},
   "outputs": [
    {
     "name": "stdout",
     "output_type": "stream",
     "text": [
      "<class 'pandas.core.frame.DataFrame'>\n",
      "Int64Index: 800000 entries, 0 to 799999\n",
      "Data columns (total 27 columns):\n",
      " #   Column                 Non-Null Count   Dtype  \n",
      "---  ------                 --------------   -----  \n",
      " 0   adult                  545815 non-null  float64\n",
      " 1   backdrop_path          107987 non-null  object \n",
      " 2   belongs_to_collection  13666 non-null   object \n",
      " 3   budget                 545815 non-null  float64\n",
      " 4   genres                 545815 non-null  object \n",
      " 5   homepage               337756 non-null  object \n",
      " 6   id                     545815 non-null  float64\n",
      " 7   imdb_id                423291 non-null  object \n",
      " 8   original_language      545815 non-null  object \n",
      " 9   original_title         545815 non-null  object \n",
      " 10  overview               545815 non-null  object \n",
      " 11  popularity             545815 non-null  float64\n",
      " 12  poster_path            299801 non-null  object \n",
      " 13  production_companies   545815 non-null  object \n",
      " 14  production_countries   545815 non-null  object \n",
      " 15  release_date           545815 non-null  object \n",
      " 16  revenue                545815 non-null  float64\n",
      " 17  runtime                468328 non-null  float64\n",
      " 18  spoken_languages       545815 non-null  object \n",
      " 19  status                 545815 non-null  object \n",
      " 20  tagline                545815 non-null  object \n",
      " 21  title                  545815 non-null  object \n",
      " 22  video                  545815 non-null  float64\n",
      " 23  vote_average           545815 non-null  float64\n",
      " 24  vote_count             545815 non-null  float64\n",
      " 25  credits                545815 non-null  object \n",
      " 26  reviews                545814 non-null  object \n",
      "dtypes: float64(9), object(18)\n",
      "memory usage: 170.9+ MB\n"
     ]
    }
   ],
   "source": [
    "# read in JSON as DataFrame\n",
    "df = pd.read_json('tmdb_movie_all_unclean.json')\n",
    "df.info()"
   ]
  },
  {
   "cell_type": "code",
   "execution_count": 3,
   "metadata": {},
   "outputs": [
    {
     "data": {
      "text/html": [
       "<div>\n",
       "<style scoped>\n",
       "    .dataframe tbody tr th:only-of-type {\n",
       "        vertical-align: middle;\n",
       "    }\n",
       "\n",
       "    .dataframe tbody tr th {\n",
       "        vertical-align: top;\n",
       "    }\n",
       "\n",
       "    .dataframe thead th {\n",
       "        text-align: right;\n",
       "    }\n",
       "</style>\n",
       "<table border=\"1\" class=\"dataframe\">\n",
       "  <thead>\n",
       "    <tr style=\"text-align: right;\">\n",
       "      <th></th>\n",
       "      <th>0</th>\n",
       "      <th>1</th>\n",
       "      <th>2</th>\n",
       "      <th>3</th>\n",
       "      <th>4</th>\n",
       "    </tr>\n",
       "  </thead>\n",
       "  <tbody>\n",
       "    <tr>\n",
       "      <th>adult</th>\n",
       "      <td>NaN</td>\n",
       "      <td>0</td>\n",
       "      <td>0</td>\n",
       "      <td>NaN</td>\n",
       "      <td>0</td>\n",
       "    </tr>\n",
       "    <tr>\n",
       "      <th>backdrop_path</th>\n",
       "      <td>None</td>\n",
       "      <td>/kpuTCMw3v2AuKjqGS7383uWbc8V.jpg</td>\n",
       "      <td>/jMmHFm0TcjiN9QDICXY2tJcQsDl.jpg</td>\n",
       "      <td>None</td>\n",
       "      <td>/xvjGhJHsArVjCWXb5OARi0PiqvB.jpg</td>\n",
       "    </tr>\n",
       "    <tr>\n",
       "      <th>belongs_to_collection</th>\n",
       "      <td>None</td>\n",
       "      <td>None</td>\n",
       "      <td>None</td>\n",
       "      <td>None</td>\n",
       "      <td>None</td>\n",
       "    </tr>\n",
       "    <tr>\n",
       "      <th>budget</th>\n",
       "      <td>NaN</td>\n",
       "      <td>0</td>\n",
       "      <td>0</td>\n",
       "      <td>NaN</td>\n",
       "      <td>4e+06</td>\n",
       "    </tr>\n",
       "    <tr>\n",
       "      <th>genres</th>\n",
       "      <td>None</td>\n",
       "      <td>[{'id': 18, 'name': 'Drama'}, {'id': 80, 'name...</td>\n",
       "      <td>[{'id': 18, 'name': 'Drama'}, {'id': 35, 'name...</td>\n",
       "      <td>None</td>\n",
       "      <td>[{'id': 80, 'name': 'Crime'}, {'id': 35, 'name...</td>\n",
       "    </tr>\n",
       "    <tr>\n",
       "      <th>homepage</th>\n",
       "      <td>None</td>\n",
       "      <td></td>\n",
       "      <td></td>\n",
       "      <td>None</td>\n",
       "      <td></td>\n",
       "    </tr>\n",
       "    <tr>\n",
       "      <th>id</th>\n",
       "      <td>NaN</td>\n",
       "      <td>2</td>\n",
       "      <td>3</td>\n",
       "      <td>NaN</td>\n",
       "      <td>5</td>\n",
       "    </tr>\n",
       "    <tr>\n",
       "      <th>imdb_id</th>\n",
       "      <td>None</td>\n",
       "      <td>tt0094675</td>\n",
       "      <td>tt0092149</td>\n",
       "      <td>None</td>\n",
       "      <td>tt0113101</td>\n",
       "    </tr>\n",
       "    <tr>\n",
       "      <th>original_language</th>\n",
       "      <td>None</td>\n",
       "      <td>fi</td>\n",
       "      <td>fi</td>\n",
       "      <td>None</td>\n",
       "      <td>en</td>\n",
       "    </tr>\n",
       "    <tr>\n",
       "      <th>original_title</th>\n",
       "      <td>None</td>\n",
       "      <td>Ariel</td>\n",
       "      <td>Varjoja paratiisissa</td>\n",
       "      <td>None</td>\n",
       "      <td>Four Rooms</td>\n",
       "    </tr>\n",
       "    <tr>\n",
       "      <th>overview</th>\n",
       "      <td>None</td>\n",
       "      <td>Taisto Kasurinen is a Finnish coal miner whose...</td>\n",
       "      <td>An episode in the life of Nikander, a garbage ...</td>\n",
       "      <td>None</td>\n",
       "      <td>It's Ted the Bellhop's first night on the job....</td>\n",
       "    </tr>\n",
       "    <tr>\n",
       "      <th>popularity</th>\n",
       "      <td>NaN</td>\n",
       "      <td>8.098</td>\n",
       "      <td>7.568</td>\n",
       "      <td>NaN</td>\n",
       "      <td>13.532</td>\n",
       "    </tr>\n",
       "    <tr>\n",
       "      <th>poster_path</th>\n",
       "      <td>None</td>\n",
       "      <td>/ojDg0PGvs6R9xYFodRct2kdI6wC.jpg</td>\n",
       "      <td>/nj01hspawPof0mJmlgfjuLyJuRN.jpg</td>\n",
       "      <td>None</td>\n",
       "      <td>/xhU6hPDnk4s8iWWKoq4oEmNI600.jpg</td>\n",
       "    </tr>\n",
       "    <tr>\n",
       "      <th>production_companies</th>\n",
       "      <td>None</td>\n",
       "      <td>[{'id': 2303, 'logo_path': None, 'name': 'Vill...</td>\n",
       "      <td>[{'id': 2303, 'logo_path': None, 'name': 'Vill...</td>\n",
       "      <td>None</td>\n",
       "      <td>[{'id': 14, 'logo_path': '/m6AHu84oZQxvq7n1rsv...</td>\n",
       "    </tr>\n",
       "    <tr>\n",
       "      <th>production_countries</th>\n",
       "      <td>None</td>\n",
       "      <td>[{'iso_3166_1': 'FI', 'name': 'Finland'}]</td>\n",
       "      <td>[{'iso_3166_1': 'FI', 'name': 'Finland'}]</td>\n",
       "      <td>None</td>\n",
       "      <td>[{'iso_3166_1': 'US', 'name': 'United States o...</td>\n",
       "    </tr>\n",
       "    <tr>\n",
       "      <th>release_date</th>\n",
       "      <td>None</td>\n",
       "      <td>1988-10-21</td>\n",
       "      <td>1986-10-17</td>\n",
       "      <td>None</td>\n",
       "      <td>1995-12-09</td>\n",
       "    </tr>\n",
       "    <tr>\n",
       "      <th>revenue</th>\n",
       "      <td>NaN</td>\n",
       "      <td>0</td>\n",
       "      <td>0</td>\n",
       "      <td>NaN</td>\n",
       "      <td>4.25735e+06</td>\n",
       "    </tr>\n",
       "    <tr>\n",
       "      <th>runtime</th>\n",
       "      <td>NaN</td>\n",
       "      <td>73</td>\n",
       "      <td>72</td>\n",
       "      <td>NaN</td>\n",
       "      <td>98</td>\n",
       "    </tr>\n",
       "    <tr>\n",
       "      <th>spoken_languages</th>\n",
       "      <td>None</td>\n",
       "      <td>[{'iso_639_1': 'de', 'name': 'Deutsch'}, {'iso...</td>\n",
       "      <td>[{'iso_639_1': 'sv', 'name': 'svenska'}, {'iso...</td>\n",
       "      <td>None</td>\n",
       "      <td>[{'iso_639_1': 'en', 'name': 'English'}]</td>\n",
       "    </tr>\n",
       "    <tr>\n",
       "      <th>status</th>\n",
       "      <td>None</td>\n",
       "      <td>Released</td>\n",
       "      <td>Released</td>\n",
       "      <td>None</td>\n",
       "      <td>Released</td>\n",
       "    </tr>\n",
       "    <tr>\n",
       "      <th>tagline</th>\n",
       "      <td>None</td>\n",
       "      <td></td>\n",
       "      <td></td>\n",
       "      <td>None</td>\n",
       "      <td>Twelve outrageous guests. Four scandalous requ...</td>\n",
       "    </tr>\n",
       "    <tr>\n",
       "      <th>title</th>\n",
       "      <td>None</td>\n",
       "      <td>Ariel</td>\n",
       "      <td>Shadows in Paradise</td>\n",
       "      <td>None</td>\n",
       "      <td>Four Rooms</td>\n",
       "    </tr>\n",
       "    <tr>\n",
       "      <th>video</th>\n",
       "      <td>NaN</td>\n",
       "      <td>0</td>\n",
       "      <td>0</td>\n",
       "      <td>NaN</td>\n",
       "      <td>0</td>\n",
       "    </tr>\n",
       "    <tr>\n",
       "      <th>vote_average</th>\n",
       "      <td>NaN</td>\n",
       "      <td>6.8</td>\n",
       "      <td>7.4</td>\n",
       "      <td>NaN</td>\n",
       "      <td>6</td>\n",
       "    </tr>\n",
       "    <tr>\n",
       "      <th>vote_count</th>\n",
       "      <td>NaN</td>\n",
       "      <td>100</td>\n",
       "      <td>106</td>\n",
       "      <td>NaN</td>\n",
       "      <td>1561</td>\n",
       "    </tr>\n",
       "    <tr>\n",
       "      <th>credits</th>\n",
       "      <td>None</td>\n",
       "      <td>{'cast': [{'cast_id': 3, 'character': 'Taisto ...</td>\n",
       "      <td>{'cast': [{'cast_id': 5, 'character': 'Nikande...</td>\n",
       "      <td>None</td>\n",
       "      <td>{'cast': [{'cast_id': 42, 'character': 'Ted th...</td>\n",
       "    </tr>\n",
       "    <tr>\n",
       "      <th>reviews</th>\n",
       "      <td>None</td>\n",
       "      <td>{'page': 1, 'results': [], 'total_pages': 0, '...</td>\n",
       "      <td>{'page': 1, 'results': [{'author': 'CRCulver',...</td>\n",
       "      <td>None</td>\n",
       "      <td>{'page': 1, 'results': [], 'total_pages': 0, '...</td>\n",
       "    </tr>\n",
       "  </tbody>\n",
       "</table>\n",
       "</div>"
      ],
      "text/plain": [
       "                          0  \\\n",
       "adult                   NaN   \n",
       "backdrop_path          None   \n",
       "belongs_to_collection  None   \n",
       "budget                  NaN   \n",
       "genres                 None   \n",
       "homepage               None   \n",
       "id                      NaN   \n",
       "imdb_id                None   \n",
       "original_language      None   \n",
       "original_title         None   \n",
       "overview               None   \n",
       "popularity              NaN   \n",
       "poster_path            None   \n",
       "production_companies   None   \n",
       "production_countries   None   \n",
       "release_date           None   \n",
       "revenue                 NaN   \n",
       "runtime                 NaN   \n",
       "spoken_languages       None   \n",
       "status                 None   \n",
       "tagline                None   \n",
       "title                  None   \n",
       "video                   NaN   \n",
       "vote_average            NaN   \n",
       "vote_count              NaN   \n",
       "credits                None   \n",
       "reviews                None   \n",
       "\n",
       "                                                                       1  \\\n",
       "adult                                                                  0   \n",
       "backdrop_path                           /kpuTCMw3v2AuKjqGS7383uWbc8V.jpg   \n",
       "belongs_to_collection                                               None   \n",
       "budget                                                                 0   \n",
       "genres                 [{'id': 18, 'name': 'Drama'}, {'id': 80, 'name...   \n",
       "homepage                                                                   \n",
       "id                                                                     2   \n",
       "imdb_id                                                        tt0094675   \n",
       "original_language                                                     fi   \n",
       "original_title                                                     Ariel   \n",
       "overview               Taisto Kasurinen is a Finnish coal miner whose...   \n",
       "popularity                                                         8.098   \n",
       "poster_path                             /ojDg0PGvs6R9xYFodRct2kdI6wC.jpg   \n",
       "production_companies   [{'id': 2303, 'logo_path': None, 'name': 'Vill...   \n",
       "production_countries           [{'iso_3166_1': 'FI', 'name': 'Finland'}]   \n",
       "release_date                                                  1988-10-21   \n",
       "revenue                                                                0   \n",
       "runtime                                                               73   \n",
       "spoken_languages       [{'iso_639_1': 'de', 'name': 'Deutsch'}, {'iso...   \n",
       "status                                                          Released   \n",
       "tagline                                                                    \n",
       "title                                                              Ariel   \n",
       "video                                                                  0   \n",
       "vote_average                                                         6.8   \n",
       "vote_count                                                           100   \n",
       "credits                {'cast': [{'cast_id': 3, 'character': 'Taisto ...   \n",
       "reviews                {'page': 1, 'results': [], 'total_pages': 0, '...   \n",
       "\n",
       "                                                                       2  \\\n",
       "adult                                                                  0   \n",
       "backdrop_path                           /jMmHFm0TcjiN9QDICXY2tJcQsDl.jpg   \n",
       "belongs_to_collection                                               None   \n",
       "budget                                                                 0   \n",
       "genres                 [{'id': 18, 'name': 'Drama'}, {'id': 35, 'name...   \n",
       "homepage                                                                   \n",
       "id                                                                     3   \n",
       "imdb_id                                                        tt0092149   \n",
       "original_language                                                     fi   \n",
       "original_title                                      Varjoja paratiisissa   \n",
       "overview               An episode in the life of Nikander, a garbage ...   \n",
       "popularity                                                         7.568   \n",
       "poster_path                             /nj01hspawPof0mJmlgfjuLyJuRN.jpg   \n",
       "production_companies   [{'id': 2303, 'logo_path': None, 'name': 'Vill...   \n",
       "production_countries           [{'iso_3166_1': 'FI', 'name': 'Finland'}]   \n",
       "release_date                                                  1986-10-17   \n",
       "revenue                                                                0   \n",
       "runtime                                                               72   \n",
       "spoken_languages       [{'iso_639_1': 'sv', 'name': 'svenska'}, {'iso...   \n",
       "status                                                          Released   \n",
       "tagline                                                                    \n",
       "title                                                Shadows in Paradise   \n",
       "video                                                                  0   \n",
       "vote_average                                                         7.4   \n",
       "vote_count                                                           106   \n",
       "credits                {'cast': [{'cast_id': 5, 'character': 'Nikande...   \n",
       "reviews                {'page': 1, 'results': [{'author': 'CRCulver',...   \n",
       "\n",
       "                          3                                                  4  \n",
       "adult                   NaN                                                  0  \n",
       "backdrop_path          None                   /xvjGhJHsArVjCWXb5OARi0PiqvB.jpg  \n",
       "belongs_to_collection  None                                               None  \n",
       "budget                  NaN                                              4e+06  \n",
       "genres                 None  [{'id': 80, 'name': 'Crime'}, {'id': 35, 'name...  \n",
       "homepage               None                                                     \n",
       "id                      NaN                                                  5  \n",
       "imdb_id                None                                          tt0113101  \n",
       "original_language      None                                                 en  \n",
       "original_title         None                                         Four Rooms  \n",
       "overview               None  It's Ted the Bellhop's first night on the job....  \n",
       "popularity              NaN                                             13.532  \n",
       "poster_path            None                   /xhU6hPDnk4s8iWWKoq4oEmNI600.jpg  \n",
       "production_companies   None  [{'id': 14, 'logo_path': '/m6AHu84oZQxvq7n1rsv...  \n",
       "production_countries   None  [{'iso_3166_1': 'US', 'name': 'United States o...  \n",
       "release_date           None                                         1995-12-09  \n",
       "revenue                 NaN                                        4.25735e+06  \n",
       "runtime                 NaN                                                 98  \n",
       "spoken_languages       None           [{'iso_639_1': 'en', 'name': 'English'}]  \n",
       "status                 None                                           Released  \n",
       "tagline                None  Twelve outrageous guests. Four scandalous requ...  \n",
       "title                  None                                         Four Rooms  \n",
       "video                   NaN                                                  0  \n",
       "vote_average            NaN                                                  6  \n",
       "vote_count              NaN                                               1561  \n",
       "credits                None  {'cast': [{'cast_id': 42, 'character': 'Ted th...  \n",
       "reviews                None  {'page': 1, 'results': [], 'total_pages': 0, '...  "
      ]
     },
     "execution_count": 3,
     "metadata": {},
     "output_type": "execute_result"
    }
   ],
   "source": [
    "# look at DataFrame\n",
    "df.head().transpose()"
   ]
  },
  {
   "cell_type": "code",
   "execution_count": 4,
   "metadata": {},
   "outputs": [
    {
     "data": {
      "text/plain": [
       "800000"
      ]
     },
     "execution_count": 4,
     "metadata": {},
     "output_type": "execute_result"
    }
   ],
   "source": [
    "# store number of original entries\n",
    "STARTING_ROWS = df.shape[0]\n",
    "STARTING_ROWS"
   ]
  },
  {
   "cell_type": "code",
   "execution_count": 5,
   "metadata": {},
   "outputs": [],
   "source": [
    "before_dropped = 0\n",
    "def rows_dropped():\n",
    "    \"\"\"Returns the number of rows dropped and rows left since last call\"\"\"\n",
    "    global before_dropped\n",
    "    just_dropped = STARTING_ROWS - before_dropped - df.shape[0]\n",
    "    # adjusts number of row dropped since last call\n",
    "    before_dropped += just_dropped\n",
    "    return (f'{just_dropped} row(s) just dropped.'\\\n",
    "        f' {df.shape[0]} row(s) left.')"
   ]
  },
  {
   "cell_type": "markdown",
   "metadata": {},
   "source": [
    "> **EMPTY ROWS**"
   ]
  },
  {
   "cell_type": "code",
   "execution_count": 6,
   "metadata": {},
   "outputs": [
    {
     "data": {
      "text/plain": [
       "'254185 row(s) just dropped. 545815 row(s) left.'"
      ]
     },
     "execution_count": 6,
     "metadata": {},
     "output_type": "execute_result"
    }
   ],
   "source": [
    "# drop all rows with no values\n",
    "df.dropna(how='all', inplace=True)\n",
    "rows_dropped()"
   ]
  },
  {
   "cell_type": "markdown",
   "metadata": {},
   "source": [
    "> **ADULT**"
   ]
  },
  {
   "cell_type": "code",
   "execution_count": 7,
   "metadata": {},
   "outputs": [
    {
     "data": {
      "text/plain": [
       "<class 'float'>    545815\n",
       "Name: adult, dtype: int64"
      ]
     },
     "execution_count": 7,
     "metadata": {},
     "output_type": "execute_result"
    }
   ],
   "source": [
    "# check data types\n",
    "df['adult'].apply(type).value_counts()"
   ]
  },
  {
   "cell_type": "markdown",
   "metadata": {},
   "source": [
    "The values are all floats."
   ]
  },
  {
   "cell_type": "code",
   "execution_count": 8,
   "metadata": {},
   "outputs": [
    {
     "data": {
      "text/plain": [
       "0.0    511489\n",
       "1.0     34326\n",
       "Name: adult, dtype: int64"
      ]
     },
     "execution_count": 8,
     "metadata": {},
     "output_type": "execute_result"
    }
   ],
   "source": [
    "# look at the adult labels\n",
    "df.adult.value_counts()"
   ]
  },
  {
   "cell_type": "markdown",
   "metadata": {},
   "source": [
    "This column looks clean. Let's keep it \"clean\"."
   ]
  },
  {
   "cell_type": "code",
   "execution_count": 9,
   "metadata": {},
   "outputs": [
    {
     "data": {
      "text/plain": [
       "'34326 row(s) just dropped. 511489 row(s) left.'"
      ]
     },
     "execution_count": 9,
     "metadata": {},
     "output_type": "execute_result"
    }
   ],
   "source": [
    "# drop rows for adult movies\n",
    "df.drop(df[df['adult'] == True].index, inplace=True)\n",
    "rows_dropped()"
   ]
  },
  {
   "cell_type": "markdown",
   "metadata": {},
   "source": [
    "> **ORIGINAL LANGUAGE**"
   ]
  },
  {
   "cell_type": "code",
   "execution_count": 10,
   "metadata": {},
   "outputs": [
    {
     "data": {
      "text/plain": [
       "<class 'str'>    511489\n",
       "Name: original_language, dtype: int64"
      ]
     },
     "execution_count": 10,
     "metadata": {},
     "output_type": "execute_result"
    }
   ],
   "source": [
    "# check data types\n",
    "df['original_language'].apply(type).value_counts()"
   ]
  },
  {
   "cell_type": "markdown",
   "metadata": {},
   "source": [
    "The values are all strings."
   ]
  },
  {
   "cell_type": "code",
   "execution_count": 11,
   "metadata": {},
   "outputs": [
    {
     "data": {
      "text/plain": [
       "en    292137\n",
       "fr     30949\n",
       "de     30876\n",
       "es     23360\n",
       "ja     15894\n",
       "       ...  \n",
       "gv         1\n",
       "tt         1\n",
       "os         1\n",
       "ii         1\n",
       "oj         1\n",
       "Name: original_language, Length: 159, dtype: int64"
      ]
     },
     "execution_count": 11,
     "metadata": {},
     "output_type": "execute_result"
    }
   ],
   "source": [
    "# look at the original language labels\n",
    "df.original_language.value_counts()"
   ]
  },
  {
   "cell_type": "code",
   "execution_count": 12,
   "metadata": {},
   "outputs": [
    {
     "data": {
      "text/plain": [
       "'219352 row(s) just dropped. 292137 row(s) left.'"
      ]
     },
     "execution_count": 12,
     "metadata": {},
     "output_type": "execute_result"
    }
   ],
   "source": [
    "# only keep the English language movies\n",
    "df.drop(df[df['original_language'] != 'en'].index, inplace=True)\n",
    "rows_dropped()"
   ]
  },
  {
   "cell_type": "code",
   "execution_count": 13,
   "metadata": {},
   "outputs": [
    {
     "data": {
      "text/plain": [
       "en    292137\n",
       "Name: original_language, dtype: int64"
      ]
     },
     "execution_count": 13,
     "metadata": {},
     "output_type": "execute_result"
    }
   ],
   "source": [
    "# trust but verify\n",
    "df.original_language.value_counts()"
   ]
  },
  {
   "cell_type": "markdown",
   "metadata": {},
   "source": [
    "> **STATUS**"
   ]
  },
  {
   "cell_type": "code",
   "execution_count": 14,
   "metadata": {},
   "outputs": [
    {
     "data": {
      "text/plain": [
       "<class 'str'>    292137\n",
       "Name: status, dtype: int64"
      ]
     },
     "execution_count": 14,
     "metadata": {},
     "output_type": "execute_result"
    }
   ],
   "source": [
    "# check data types\n",
    "df['status'].apply(type).value_counts()"
   ]
  },
  {
   "cell_type": "markdown",
   "metadata": {},
   "source": [
    "The values are all floats."
   ]
  },
  {
   "cell_type": "code",
   "execution_count": 15,
   "metadata": {},
   "outputs": [
    {
     "data": {
      "text/plain": [
       "Released           288801\n",
       "Planned              1431\n",
       "In Production         880\n",
       "Post Production       805\n",
       "Rumored               132\n",
       "Canceled               88\n",
       "Name: status, dtype: int64"
      ]
     },
     "execution_count": 15,
     "metadata": {},
     "output_type": "execute_result"
    }
   ],
   "source": [
    "# look at the status labels\n",
    "df.status.value_counts()"
   ]
  },
  {
   "cell_type": "code",
   "execution_count": 16,
   "metadata": {},
   "outputs": [
    {
     "data": {
      "text/plain": [
       "'3336 row(s) just dropped. 288801 row(s) left.'"
      ]
     },
     "execution_count": 16,
     "metadata": {},
     "output_type": "execute_result"
    }
   ],
   "source": [
    "# only keep the movies that have been released\n",
    "df.drop(df[df['status'] != 'Released'].index, inplace=True)\n",
    "rows_dropped()"
   ]
  },
  {
   "cell_type": "code",
   "execution_count": 17,
   "metadata": {},
   "outputs": [
    {
     "data": {
      "text/plain": [
       "Released    288801\n",
       "Name: status, dtype: int64"
      ]
     },
     "execution_count": 17,
     "metadata": {},
     "output_type": "execute_result"
    }
   ],
   "source": [
    "# trust but verify\n",
    "df.status.value_counts()"
   ]
  },
  {
   "cell_type": "markdown",
   "metadata": {},
   "source": [
    "> **FEATURE SELECTION**"
   ]
  },
  {
   "cell_type": "markdown",
   "metadata": {},
   "source": [
    "Now that the adult, foreign language, and unreleased movies are gone, I don't need those feature. I'll drop a few others, also."
   ]
  },
  {
   "cell_type": "code",
   "execution_count": 18,
   "metadata": {},
   "outputs": [
    {
     "data": {
      "text/plain": [
       "(288801, 15)"
      ]
     },
     "execution_count": 18,
     "metadata": {},
     "output_type": "execute_result"
    }
   ],
   "source": [
    "# drop features not needed\n",
    "df.drop(['adult', 'backdrop_path', 'belongs_to_collection', 'homepage', 'original_language', \n",
    "         'original_title', 'poster_path', 'production_companies', 'production_countries', \n",
    "         'spoken_languages', 'status', 'video'], axis=1, inplace=True)\n",
    "df.shape"
   ]
  },
  {
   "cell_type": "markdown",
   "metadata": {},
   "source": [
    "> **EMPTY STRINGS**"
   ]
  },
  {
   "cell_type": "code",
   "execution_count": 19,
   "metadata": {},
   "outputs": [
    {
     "data": {
      "text/plain": [
       "budget               0\n",
       "id                   0\n",
       "imdb_id          24263\n",
       "overview          4556\n",
       "popularity           0\n",
       "release_date     29758\n",
       "revenue              0\n",
       "runtime              0\n",
       "tagline         227982\n",
       "title                0\n",
       "vote_average         0\n",
       "vote_count           0\n",
       "dtype: int64"
      ]
     },
     "execution_count": 19,
     "metadata": {},
     "output_type": "execute_result"
    }
   ],
   "source": [
    "# check if missing data is disguised as '' (omitting the columns of lists and dicts)\n",
    "df.drop(['genres', 'credits', 'reviews'], axis=1).isin(['']).sum()"
   ]
  },
  {
   "cell_type": "code",
   "execution_count": 20,
   "metadata": {},
   "outputs": [
    {
     "data": {
      "text/plain": [
       "budget          0\n",
       "id              0\n",
       "imdb_id         0\n",
       "overview        0\n",
       "popularity      0\n",
       "release_date    0\n",
       "revenue         0\n",
       "runtime         0\n",
       "tagline         0\n",
       "title           0\n",
       "vote_average    0\n",
       "vote_count      0\n",
       "dtype: int64"
      ]
     },
     "execution_count": 20,
     "metadata": {},
     "output_type": "execute_result"
    }
   ],
   "source": [
    "# convert '' values to NaN's\n",
    "df.replace(r'^\\s*$', np.NaN, regex=True, inplace=True)\n",
    "df.drop(['genres', 'credits', 'reviews'], axis=1).isin(['']).sum()"
   ]
  },
  {
   "cell_type": "markdown",
   "metadata": {},
   "source": [
    "> **ZERO VALUES**"
   ]
  },
  {
   "cell_type": "code",
   "execution_count": 21,
   "metadata": {},
   "outputs": [
    {
     "data": {
      "text/plain": [
       "budget          271172\n",
       "id                   0\n",
       "imdb_id              0\n",
       "overview             0\n",
       "popularity         114\n",
       "release_date         0\n",
       "revenue         280097\n",
       "runtime          21391\n",
       "tagline              0\n",
       "title                0\n",
       "vote_average    171036\n",
       "vote_count      170814\n",
       "dtype: int64"
      ]
     },
     "execution_count": 21,
     "metadata": {},
     "output_type": "execute_result"
    }
   ],
   "source": [
    "# check if missing data is disguised as 0 (omitting the columns of lists and dicts)\n",
    "df.drop(['genres', 'credits', 'reviews'], axis=1).isin([0]).sum()"
   ]
  },
  {
   "cell_type": "code",
   "execution_count": 22,
   "metadata": {},
   "outputs": [
    {
     "data": {
      "text/plain": [
       "budget          0\n",
       "id              0\n",
       "imdb_id         0\n",
       "overview        0\n",
       "popularity      0\n",
       "release_date    0\n",
       "revenue         0\n",
       "runtime         0\n",
       "tagline         0\n",
       "title           0\n",
       "vote_average    0\n",
       "vote_count      0\n",
       "dtype: int64"
      ]
     },
     "execution_count": 22,
     "metadata": {},
     "output_type": "execute_result"
    }
   ],
   "source": [
    "# convert 0 values to NaN's\n",
    "df = df.replace(0, np.nan)\n",
    "df.drop(['genres', 'credits', 'reviews'], axis=1).isin([0]).sum()"
   ]
  },
  {
   "cell_type": "code",
   "execution_count": 23,
   "metadata": {},
   "outputs": [
    {
     "data": {
      "text/html": [
       "<div>\n",
       "<style scoped>\n",
       "    .dataframe tbody tr th:only-of-type {\n",
       "        vertical-align: middle;\n",
       "    }\n",
       "\n",
       "    .dataframe tbody tr th {\n",
       "        vertical-align: top;\n",
       "    }\n",
       "\n",
       "    .dataframe thead th {\n",
       "        text-align: right;\n",
       "    }\n",
       "</style>\n",
       "<table border=\"1\" class=\"dataframe\">\n",
       "  <thead>\n",
       "    <tr style=\"text-align: right;\">\n",
       "      <th></th>\n",
       "      <th>budget</th>\n",
       "      <th>id</th>\n",
       "      <th>popularity</th>\n",
       "      <th>revenue</th>\n",
       "      <th>runtime</th>\n",
       "      <th>vote_average</th>\n",
       "      <th>vote_count</th>\n",
       "    </tr>\n",
       "  </thead>\n",
       "  <tbody>\n",
       "    <tr>\n",
       "      <th>count</th>\n",
       "      <td>1.762900e+04</td>\n",
       "      <td>288801.000000</td>\n",
       "      <td>288687.000000</td>\n",
       "      <td>8.704000e+03</td>\n",
       "      <td>2.378650e+05</td>\n",
       "      <td>117765.000000</td>\n",
       "      <td>117987.000000</td>\n",
       "    </tr>\n",
       "    <tr>\n",
       "      <th>mean</th>\n",
       "      <td>1.285633e+07</td>\n",
       "      <td>353922.394625</td>\n",
       "      <td>1.636013</td>\n",
       "      <td>6.590827e+07</td>\n",
       "      <td>4.877006e+02</td>\n",
       "      <td>5.995865</td>\n",
       "      <td>93.225932</td>\n",
       "    </tr>\n",
       "    <tr>\n",
       "      <th>std</th>\n",
       "      <td>8.524803e+07</td>\n",
       "      <td>201400.890836</td>\n",
       "      <td>3.059695</td>\n",
       "      <td>1.549029e+08</td>\n",
       "      <td>1.459907e+05</td>\n",
       "      <td>1.847679</td>\n",
       "      <td>661.708424</td>\n",
       "    </tr>\n",
       "    <tr>\n",
       "      <th>min</th>\n",
       "      <td>1.000000e+00</td>\n",
       "      <td>5.000000</td>\n",
       "      <td>0.600000</td>\n",
       "      <td>-1.200000e+01</td>\n",
       "      <td>1.000000e+00</td>\n",
       "      <td>0.500000</td>\n",
       "      <td>1.000000</td>\n",
       "    </tr>\n",
       "    <tr>\n",
       "      <th>25%</th>\n",
       "      <td>8.144000e+03</td>\n",
       "      <td>193034.000000</td>\n",
       "      <td>0.600000</td>\n",
       "      <td>7.598482e+05</td>\n",
       "      <td>1.800000e+01</td>\n",
       "      <td>5.000000</td>\n",
       "      <td>1.000000</td>\n",
       "    </tr>\n",
       "    <tr>\n",
       "      <th>50%</th>\n",
       "      <td>5.000000e+05</td>\n",
       "      <td>351697.000000</td>\n",
       "      <td>0.600000</td>\n",
       "      <td>1.152275e+07</td>\n",
       "      <td>7.000000e+01</td>\n",
       "      <td>6.000000</td>\n",
       "      <td>3.000000</td>\n",
       "    </tr>\n",
       "    <tr>\n",
       "      <th>75%</th>\n",
       "      <td>1.000000e+07</td>\n",
       "      <td>520800.000000</td>\n",
       "      <td>1.400000</td>\n",
       "      <td>5.840275e+07</td>\n",
       "      <td>9.200000e+01</td>\n",
       "      <td>7.000000</td>\n",
       "      <td>9.000000</td>\n",
       "    </tr>\n",
       "    <tr>\n",
       "      <th>max</th>\n",
       "      <td>1.000000e+10</td>\n",
       "      <td>701729.000000</td>\n",
       "      <td>448.572000</td>\n",
       "      <td>2.797801e+09</td>\n",
       "      <td>5.050505e+07</td>\n",
       "      <td>10.000000</td>\n",
       "      <td>25603.000000</td>\n",
       "    </tr>\n",
       "  </tbody>\n",
       "</table>\n",
       "</div>"
      ],
      "text/plain": [
       "             budget             id     popularity       revenue       runtime  \\\n",
       "count  1.762900e+04  288801.000000  288687.000000  8.704000e+03  2.378650e+05   \n",
       "mean   1.285633e+07  353922.394625       1.636013  6.590827e+07  4.877006e+02   \n",
       "std    8.524803e+07  201400.890836       3.059695  1.549029e+08  1.459907e+05   \n",
       "min    1.000000e+00       5.000000       0.600000 -1.200000e+01  1.000000e+00   \n",
       "25%    8.144000e+03  193034.000000       0.600000  7.598482e+05  1.800000e+01   \n",
       "50%    5.000000e+05  351697.000000       0.600000  1.152275e+07  7.000000e+01   \n",
       "75%    1.000000e+07  520800.000000       1.400000  5.840275e+07  9.200000e+01   \n",
       "max    1.000000e+10  701729.000000     448.572000  2.797801e+09  5.050505e+07   \n",
       "\n",
       "        vote_average     vote_count  \n",
       "count  117765.000000  117987.000000  \n",
       "mean        5.995865      93.225932  \n",
       "std         1.847679     661.708424  \n",
       "min         0.500000       1.000000  \n",
       "25%         5.000000       1.000000  \n",
       "50%         6.000000       3.000000  \n",
       "75%         7.000000       9.000000  \n",
       "max        10.000000   25603.000000  "
      ]
     },
     "execution_count": 23,
     "metadata": {},
     "output_type": "execute_result"
    }
   ],
   "source": [
    "# look for anything odd in numeric data\n",
    "df.drop(['genres', 'credits', 'reviews'], axis=1).describe()"
   ]
  },
  {
   "cell_type": "markdown",
   "metadata": {},
   "source": [
    "There are some low values in the budget and revenue data.<br>\n",
    "I will filter by dollar amount on the final DataFrame, because these will have to be adjusted for inflation first.<br>\n",
    "The runtimes will have to be limited in range. I will do this later."
   ]
  },
  {
   "cell_type": "code",
   "execution_count": 24,
   "metadata": {},
   "outputs": [
    {
     "name": "stdout",
     "output_type": "stream",
     "text": [
      "<class 'pandas.core.frame.DataFrame'>\n",
      "Int64Index: 288801 entries, 4 to 701728\n",
      "Data columns (total 15 columns):\n",
      " #   Column        Non-Null Count   Dtype  \n",
      "---  ------        --------------   -----  \n",
      " 0   budget        17629 non-null   float64\n",
      " 1   genres        288801 non-null  object \n",
      " 2   id            288801 non-null  float64\n",
      " 3   imdb_id       204092 non-null  object \n",
      " 4   overview      284188 non-null  object \n",
      " 5   popularity    288687 non-null  float64\n",
      " 6   release_date  259043 non-null  object \n",
      " 7   revenue       8704 non-null    float64\n",
      " 8   runtime       237865 non-null  float64\n",
      " 9   tagline       60811 non-null   object \n",
      " 10  title         288801 non-null  object \n",
      " 11  vote_average  117765 non-null  float64\n",
      " 12  vote_count    117987 non-null  float64\n",
      " 13  credits       288801 non-null  object \n",
      " 14  reviews       288800 non-null  object \n",
      "dtypes: float64(7), object(8)\n",
      "memory usage: 35.3+ MB\n"
     ]
    }
   ],
   "source": [
    "# look at what's left\n",
    "df.info()"
   ]
  },
  {
   "cell_type": "markdown",
   "metadata": {},
   "source": [
    "> **BUDGET**"
   ]
  },
  {
   "cell_type": "code",
   "execution_count": 25,
   "metadata": {},
   "outputs": [
    {
     "data": {
      "text/plain": [
       "<class 'float'>    288801\n",
       "Name: budget, dtype: int64"
      ]
     },
     "execution_count": 25,
     "metadata": {},
     "output_type": "execute_result"
    }
   ],
   "source": [
    "# check data types\n",
    "df['budget'].apply(type).value_counts()"
   ]
  },
  {
   "cell_type": "markdown",
   "metadata": {},
   "source": [
    "The values are all floats."
   ]
  },
  {
   "cell_type": "markdown",
   "metadata": {},
   "source": [
    "This feature, along with revenue, has the most missing values. I will keep them all for now,"
   ]
  },
  {
   "cell_type": "markdown",
   "metadata": {},
   "source": [
    "> **GENRES**"
   ]
  },
  {
   "cell_type": "code",
   "execution_count": 26,
   "metadata": {},
   "outputs": [
    {
     "data": {
      "text/plain": [
       "<class 'list'>    288801\n",
       "Name: genres, dtype: int64"
      ]
     },
     "execution_count": 26,
     "metadata": {},
     "output_type": "execute_result"
    }
   ],
   "source": [
    "# check data types\n",
    "df['genres'].apply(type).value_counts()"
   ]
  },
  {
   "cell_type": "markdown",
   "metadata": {},
   "source": [
    "The values are all lists."
   ]
  },
  {
   "cell_type": "markdown",
   "metadata": {},
   "source": [
    "These are lists of dicts representing genres.<br>\n",
    "Each list may have multiple genres associated with the movie, resulting in multiple dicts per list.<br>\n",
    "I'm going to extract the string that identifies each genre and leave the numerical key behind, along with the dicts.<br>\n",
    "The result will be a column with lists of strings, each string representing the one of the 19 TMDb genre labels.<br>"
   ]
  },
  {
   "cell_type": "code",
   "execution_count": 27,
   "metadata": {},
   "outputs": [],
   "source": [
    "def get_genre_id():\n",
    "    \"\"\"Returns Series of genre names grouped by movie from genres column\"\"\"\n",
    "    # generate outer list\n",
    "    all_vals = []\n",
    "    for row in df['genres']:\n",
    "        # generate inner list\n",
    "        val_lst = []\n",
    "        for d in row:\n",
    "            # add each genre name to inner list for each movie\n",
    "            val_lst.append(d.get('name'))\n",
    "        # add each inner list to outer list\n",
    "        all_vals.append(val_lst)\n",
    "    # convert outer list to Series\n",
    "    return pd.Series(all_vals)"
   ]
  },
  {
   "cell_type": "code",
   "execution_count": 28,
   "metadata": {},
   "outputs": [
    {
     "data": {
      "text/plain": [
       "4         [{'id': 80, 'name': 'Crime'}, {'id': 35, 'name...\n",
       "5         [{'id': 28, 'name': 'Action'}, {'id': 53, 'nam...\n",
       "7                       [{'id': 99, 'name': 'Documentary'}]\n",
       "10        [{'id': 12, 'name': 'Adventure'}, {'id': 28, '...\n",
       "11        [{'id': 16, 'name': 'Animation'}, {'id': 10751...\n",
       "                                ...                        \n",
       "701719    [{'id': 99, 'name': 'Documentary'}, {'id': 16,...\n",
       "701722    [{'id': 99, 'name': 'Documentary'}, {'id': 16,...\n",
       "701723    [{'id': 16, 'name': 'Animation'}, {'id': 12, '...\n",
       "701726                                                   []\n",
       "701728                                                   []\n",
       "Name: genres, Length: 288801, dtype: object"
      ]
     },
     "execution_count": 28,
     "metadata": {},
     "output_type": "execute_result"
    }
   ],
   "source": [
    "# look at original form of genre values\n",
    "df['genres']"
   ]
  },
  {
   "cell_type": "code",
   "execution_count": 29,
   "metadata": {},
   "outputs": [
    {
     "data": {
      "text/plain": [
       "0                              [Crime, Comedy]\n",
       "1                    [Action, Thriller, Crime]\n",
       "2                                [Documentary]\n",
       "3         [Adventure, Action, Science Fiction]\n",
       "4                          [Animation, Family]\n",
       "                          ...                 \n",
       "288796                [Documentary, Animation]\n",
       "288797                [Documentary, Animation]\n",
       "288798                  [Animation, Adventure]\n",
       "288799                                      []\n",
       "288800                                      []\n",
       "Name: genres, Length: 288801, dtype: object"
      ]
     },
     "execution_count": 29,
     "metadata": {},
     "output_type": "execute_result"
    }
   ],
   "source": [
    "# replace genre column with new column\n",
    "df = df.reset_index().assign(genres=pd.DataFrame(get_genre_id(), columns=['genres'])['genres'])\n",
    "df['genres']"
   ]
  },
  {
   "cell_type": "code",
   "execution_count": 30,
   "metadata": {},
   "outputs": [
    {
     "data": {
      "text/plain": [
       "118356"
      ]
     },
     "execution_count": 30,
     "metadata": {},
     "output_type": "execute_result"
    }
   ],
   "source": [
    "# count empty lists\n",
    "df.genres.str.len().eq(0).sum()"
   ]
  },
  {
   "cell_type": "markdown",
   "metadata": {},
   "source": [
    "I will unpack these lists in the final DataFrame."
   ]
  },
  {
   "cell_type": "markdown",
   "metadata": {},
   "source": [
    "> **ID**"
   ]
  },
  {
   "cell_type": "code",
   "execution_count": 31,
   "metadata": {},
   "outputs": [
    {
     "data": {
      "text/plain": [
       "<class 'float'>    288801\n",
       "Name: id, dtype: int64"
      ]
     },
     "execution_count": 31,
     "metadata": {},
     "output_type": "execute_result"
    }
   ],
   "source": [
    "# check data types\n",
    "df['id'].apply(type).value_counts()"
   ]
  },
  {
   "cell_type": "markdown",
   "metadata": {},
   "source": [
    "The values are all floats."
   ]
  },
  {
   "cell_type": "code",
   "execution_count": 32,
   "metadata": {},
   "outputs": [
    {
     "data": {
      "text/plain": [
       "True"
      ]
     },
     "execution_count": 32,
     "metadata": {},
     "output_type": "execute_result"
    }
   ],
   "source": [
    "# looking for duplicate values\n",
    "df['id'].is_unique"
   ]
  },
  {
   "cell_type": "markdown",
   "metadata": {},
   "source": [
    "This will be an optional key to concatenate on with other DataFrames derived from TMDb."
   ]
  },
  {
   "cell_type": "markdown",
   "metadata": {},
   "source": [
    "> **IMDB ID**"
   ]
  },
  {
   "cell_type": "code",
   "execution_count": 33,
   "metadata": {},
   "outputs": [
    {
     "data": {
      "text/plain": [
       "<class 'str'>         204092\n",
       "<class 'NoneType'>     60446\n",
       "<class 'float'>        24263\n",
       "Name: imdb_id, dtype: int64"
      ]
     },
     "execution_count": 33,
     "metadata": {},
     "output_type": "execute_result"
    }
   ],
   "source": [
    "# check data types\n",
    "df['imdb_id'].apply(type).value_counts()"
   ]
  },
  {
   "cell_type": "code",
   "execution_count": 34,
   "metadata": {},
   "outputs": [
    {
     "data": {
      "text/plain": [
       "<class 'str'>      204092\n",
       "<class 'float'>     84709\n",
       "Name: imdb_id, dtype: int64"
      ]
     },
     "execution_count": 34,
     "metadata": {},
     "output_type": "execute_result"
    }
   ],
   "source": [
    "# convert None types to NaN\n",
    "df['imdb_id'] = df['imdb_id'].replace([None], np.NaN)\n",
    "df['imdb_id'].apply(type).value_counts()"
   ]
  },
  {
   "cell_type": "code",
   "execution_count": 35,
   "metadata": {},
   "outputs": [
    {
     "data": {
      "text/plain": [
       "84709"
      ]
     },
     "execution_count": 35,
     "metadata": {},
     "output_type": "execute_result"
    }
   ],
   "source": [
    "# check that number of NaN's matches number of floats\n",
    "df['imdb_id'].isnull().sum()"
   ]
  },
  {
   "cell_type": "markdown",
   "metadata": {},
   "source": [
    "The values are all strings."
   ]
  },
  {
   "cell_type": "code",
   "execution_count": 36,
   "metadata": {},
   "outputs": [
    {
     "data": {
      "text/plain": [
       "0"
      ]
     },
     "execution_count": 36,
     "metadata": {},
     "output_type": "execute_result"
    }
   ],
   "source": [
    "# look for duplicate values that are not NaN\n",
    "df[df.duplicated(subset=['imdb_id'],keep=False)]['imdb_id'].dropna().sum()"
   ]
  },
  {
   "cell_type": "markdown",
   "metadata": {},
   "source": [
    "This will be an optional key to concatenate on with other DataFrames derived from IMBd."
   ]
  },
  {
   "cell_type": "markdown",
   "metadata": {},
   "source": [
    "> **OVERVIEW**"
   ]
  },
  {
   "cell_type": "code",
   "execution_count": 37,
   "metadata": {},
   "outputs": [
    {
     "data": {
      "text/plain": [
       "<class 'str'>      284188\n",
       "<class 'float'>      4613\n",
       "Name: overview, dtype: int64"
      ]
     },
     "execution_count": 37,
     "metadata": {},
     "output_type": "execute_result"
    }
   ],
   "source": [
    "# check data types\n",
    "df['overview'].apply(type).value_counts()"
   ]
  },
  {
   "cell_type": "code",
   "execution_count": 38,
   "metadata": {},
   "outputs": [
    {
     "data": {
      "text/plain": [
       "4613"
      ]
     },
     "execution_count": 38,
     "metadata": {},
     "output_type": "execute_result"
    }
   ],
   "source": [
    "# check that number of NaN's matches number of floats\n",
    "df['overview'].isnull().sum()"
   ]
  },
  {
   "cell_type": "markdown",
   "metadata": {},
   "source": [
    "The values are all strings."
   ]
  },
  {
   "cell_type": "markdown",
   "metadata": {},
   "source": [
    "> **POPULARITY**"
   ]
  },
  {
   "cell_type": "code",
   "execution_count": 39,
   "metadata": {},
   "outputs": [
    {
     "data": {
      "text/plain": [
       "<class 'float'>    288801\n",
       "Name: popularity, dtype: int64"
      ]
     },
     "execution_count": 39,
     "metadata": {},
     "output_type": "execute_result"
    }
   ],
   "source": [
    "# check data types\n",
    "df['popularity'].apply(type).value_counts()"
   ]
  },
  {
   "cell_type": "markdown",
   "metadata": {},
   "source": [
    "The values are all floats."
   ]
  },
  {
   "cell_type": "code",
   "execution_count": 40,
   "metadata": {},
   "outputs": [
    {
     "data": {
      "text/plain": [
       "175140    448.572\n",
       "225881    235.989\n",
       "201136    205.280\n",
       "189812    180.871\n",
       "138521    172.548\n",
       "           ...   \n",
       "288796        NaN\n",
       "288797        NaN\n",
       "288798        NaN\n",
       "288799        NaN\n",
       "288800        NaN\n",
       "Name: popularity, Length: 288801, dtype: float64"
      ]
     },
     "execution_count": 40,
     "metadata": {},
     "output_type": "execute_result"
    }
   ],
   "source": [
    "# check values\n",
    "df.popularity.sort_values(ascending=False)"
   ]
  },
  {
   "cell_type": "markdown",
   "metadata": {},
   "source": [
    "The scale begins at 0.6 and has no limit."
   ]
  },
  {
   "cell_type": "markdown",
   "metadata": {},
   "source": [
    "> **RELEASE DATE**"
   ]
  },
  {
   "cell_type": "code",
   "execution_count": 41,
   "metadata": {},
   "outputs": [
    {
     "data": {
      "text/plain": [
       "<class 'str'>      259043\n",
       "<class 'float'>     29758\n",
       "Name: release_date, dtype: int64"
      ]
     },
     "execution_count": 41,
     "metadata": {},
     "output_type": "execute_result"
    }
   ],
   "source": [
    "# check data types\n",
    "df['release_date'].apply(type).value_counts()"
   ]
  },
  {
   "cell_type": "code",
   "execution_count": 42,
   "metadata": {},
   "outputs": [
    {
     "data": {
      "text/plain": [
       "29758"
      ]
     },
     "execution_count": 42,
     "metadata": {},
     "output_type": "execute_result"
    }
   ],
   "source": [
    "# check that number of NaN's matches number of floats\n",
    "df['release_date'].isnull().sum()"
   ]
  },
  {
   "cell_type": "markdown",
   "metadata": {},
   "source": [
    "The values are all strings."
   ]
  },
  {
   "cell_type": "code",
   "execution_count": 43,
   "metadata": {},
   "outputs": [
    {
     "data": {
      "text/plain": [
       "<class 'pandas._libs.tslibs.timestamps.Timestamp'>    259043\n",
       "<class 'pandas._libs.tslibs.nattype.NaTType'>          29758\n",
       "Name: release_date, dtype: int64"
      ]
     },
     "execution_count": 43,
     "metadata": {},
     "output_type": "execute_result"
    }
   ],
   "source": [
    "# convert release dates to datetime objects\n",
    "df['release_date'] = pd.to_datetime(df['release_date'])\n",
    "df['release_date'].apply(type).value_counts()"
   ]
  },
  {
   "cell_type": "markdown",
   "metadata": {},
   "source": [
    "> **REVENUE**"
   ]
  },
  {
   "cell_type": "code",
   "execution_count": 44,
   "metadata": {},
   "outputs": [
    {
     "data": {
      "text/plain": [
       "<class 'float'>    288801\n",
       "Name: revenue, dtype: int64"
      ]
     },
     "execution_count": 44,
     "metadata": {},
     "output_type": "execute_result"
    }
   ],
   "source": [
    "# check data types\n",
    "df['revenue'].apply(type).value_counts()"
   ]
  },
  {
   "cell_type": "markdown",
   "metadata": {},
   "source": [
    "The values are all floats."
   ]
  },
  {
   "cell_type": "markdown",
   "metadata": {},
   "source": [
    "> **RUNTIME**"
   ]
  },
  {
   "cell_type": "code",
   "execution_count": 45,
   "metadata": {},
   "outputs": [
    {
     "data": {
      "text/plain": [
       "<class 'float'>    288801\n",
       "Name: runtime, dtype: int64"
      ]
     },
     "execution_count": 45,
     "metadata": {},
     "output_type": "execute_result"
    }
   ],
   "source": [
    "# check data types\n",
    "df['runtime'].apply(type).value_counts()"
   ]
  },
  {
   "cell_type": "markdown",
   "metadata": {},
   "source": [
    "The values are all floats."
   ]
  },
  {
   "cell_type": "markdown",
   "metadata": {},
   "source": [
    "I don't want movies that are under 75 minutes, which is the cut off length for a feature film according to the Screen Actors Guild."
   ]
  },
  {
   "cell_type": "code",
   "execution_count": 46,
   "metadata": {},
   "outputs": [
    {
     "data": {
      "text/plain": [
       "'117555 row(s) just dropped. 171246 row(s) left.'"
      ]
     },
     "execution_count": 46,
     "metadata": {},
     "output_type": "execute_result"
    }
   ],
   "source": [
    "# remove films too short to be feature length\n",
    "df.drop(df.loc[df['runtime'] < 70].index, inplace=True)\n",
    "rows_dropped()"
   ]
  },
  {
   "cell_type": "markdown",
   "metadata": {},
   "source": [
    "> **TAGLINE**"
   ]
  },
  {
   "cell_type": "code",
   "execution_count": 47,
   "metadata": {},
   "outputs": [
    {
     "data": {
      "text/plain": [
       "<class 'float'>    125123\n",
       "<class 'str'>       46123\n",
       "Name: tagline, dtype: int64"
      ]
     },
     "execution_count": 47,
     "metadata": {},
     "output_type": "execute_result"
    }
   ],
   "source": [
    "# check data types\n",
    "df['tagline'].apply(type).value_counts()"
   ]
  },
  {
   "cell_type": "code",
   "execution_count": 48,
   "metadata": {},
   "outputs": [
    {
     "data": {
      "text/plain": [
       "125123"
      ]
     },
     "execution_count": 48,
     "metadata": {},
     "output_type": "execute_result"
    }
   ],
   "source": [
    "# check that number of NaN's matches number of floats\n",
    "df['tagline'].isnull().sum()"
   ]
  },
  {
   "cell_type": "markdown",
   "metadata": {},
   "source": [
    "The values are all strings."
   ]
  },
  {
   "cell_type": "markdown",
   "metadata": {},
   "source": [
    "> **TITLE**"
   ]
  },
  {
   "cell_type": "code",
   "execution_count": 49,
   "metadata": {},
   "outputs": [
    {
     "data": {
      "text/plain": [
       "<class 'str'>    171246\n",
       "Name: title, dtype: int64"
      ]
     },
     "execution_count": 49,
     "metadata": {},
     "output_type": "execute_result"
    }
   ],
   "source": [
    "# check data types\n",
    "df['title'].apply(type).value_counts()"
   ]
  },
  {
   "cell_type": "markdown",
   "metadata": {},
   "source": [
    "The values are all strings."
   ]
  },
  {
   "cell_type": "markdown",
   "metadata": {},
   "source": [
    "> **VOTE AVERAGE**"
   ]
  },
  {
   "cell_type": "code",
   "execution_count": 50,
   "metadata": {},
   "outputs": [
    {
     "data": {
      "text/plain": [
       "<class 'float'>    171246\n",
       "Name: vote_average, dtype: int64"
      ]
     },
     "execution_count": 50,
     "metadata": {},
     "output_type": "execute_result"
    }
   ],
   "source": [
    "# check data types\n",
    "df['vote_average'].apply(type).value_counts()"
   ]
  },
  {
   "cell_type": "markdown",
   "metadata": {},
   "source": [
    "The values are all floats."
   ]
  },
  {
   "cell_type": "markdown",
   "metadata": {},
   "source": [
    "> **VOTE COUNT**"
   ]
  },
  {
   "cell_type": "code",
   "execution_count": 51,
   "metadata": {},
   "outputs": [
    {
     "data": {
      "text/plain": [
       "<class 'float'>    171246\n",
       "Name: vote_count, dtype: int64"
      ]
     },
     "execution_count": 51,
     "metadata": {},
     "output_type": "execute_result"
    }
   ],
   "source": [
    "# check data types\n",
    "df['vote_count'].apply(type).value_counts()"
   ]
  },
  {
   "cell_type": "markdown",
   "metadata": {},
   "source": [
    "The values are all floats."
   ]
  },
  {
   "cell_type": "markdown",
   "metadata": {},
   "source": [
    "> **CREDITS**"
   ]
  },
  {
   "cell_type": "code",
   "execution_count": 52,
   "metadata": {},
   "outputs": [
    {
     "data": {
      "text/plain": [
       "<class 'dict'>    171246\n",
       "Name: credits, dtype: int64"
      ]
     },
     "execution_count": 52,
     "metadata": {},
     "output_type": "execute_result"
    }
   ],
   "source": [
    "# check data types\n",
    "df['credits'].apply(type).value_counts()"
   ]
  },
  {
   "cell_type": "markdown",
   "metadata": {},
   "source": [
    "The values are all dicts."
   ]
  },
  {
   "cell_type": "code",
   "execution_count": 53,
   "metadata": {},
   "outputs": [
    {
     "data": {
      "text/plain": [
       "0"
      ]
     },
     "execution_count": 53,
     "metadata": {},
     "output_type": "execute_result"
    }
   ],
   "source": [
    "# count empty dicts\n",
    "df.credits.str.len().eq(0).sum()"
   ]
  },
  {
   "cell_type": "markdown",
   "metadata": {},
   "source": [
    "The dicts each contain 2 lists. The first one holds the cast data. The second one has the crew data."
   ]
  },
  {
   "cell_type": "code",
   "execution_count": 54,
   "metadata": {},
   "outputs": [
    {
     "data": {
      "text/html": [
       "<div>\n",
       "<style scoped>\n",
       "    .dataframe tbody tr th:only-of-type {\n",
       "        vertical-align: middle;\n",
       "    }\n",
       "\n",
       "    .dataframe tbody tr th {\n",
       "        vertical-align: top;\n",
       "    }\n",
       "\n",
       "    .dataframe thead th {\n",
       "        text-align: right;\n",
       "    }\n",
       "</style>\n",
       "<table border=\"1\" class=\"dataframe\">\n",
       "  <thead>\n",
       "    <tr style=\"text-align: right;\">\n",
       "      <th></th>\n",
       "      <th>0</th>\n",
       "      <th>1</th>\n",
       "      <th>2</th>\n",
       "      <th>3</th>\n",
       "      <th>4</th>\n",
       "      <th>5</th>\n",
       "      <th>6</th>\n",
       "      <th>7</th>\n",
       "      <th>8</th>\n",
       "      <th>9</th>\n",
       "      <th>...</th>\n",
       "      <th>171236</th>\n",
       "      <th>171237</th>\n",
       "      <th>171238</th>\n",
       "      <th>171239</th>\n",
       "      <th>171240</th>\n",
       "      <th>171241</th>\n",
       "      <th>171242</th>\n",
       "      <th>171243</th>\n",
       "      <th>171244</th>\n",
       "      <th>171245</th>\n",
       "    </tr>\n",
       "  </thead>\n",
       "  <tbody>\n",
       "    <tr>\n",
       "      <th>budget</th>\n",
       "      <td>4e+06</td>\n",
       "      <td>2.1e+07</td>\n",
       "      <td>42000</td>\n",
       "      <td>1.1e+07</td>\n",
       "      <td>9.4e+07</td>\n",
       "      <td>5.5e+07</td>\n",
       "      <td>1.5e+07</td>\n",
       "      <td>839727</td>\n",
       "      <td>1.28e+07</td>\n",
       "      <td>NaN</td>\n",
       "      <td>...</td>\n",
       "      <td>NaN</td>\n",
       "      <td>NaN</td>\n",
       "      <td>NaN</td>\n",
       "      <td>NaN</td>\n",
       "      <td>NaN</td>\n",
       "      <td>NaN</td>\n",
       "      <td>NaN</td>\n",
       "      <td>NaN</td>\n",
       "      <td>NaN</td>\n",
       "      <td>NaN</td>\n",
       "    </tr>\n",
       "    <tr>\n",
       "      <th>genres</th>\n",
       "      <td>[Crime, Comedy]</td>\n",
       "      <td>[Action, Thriller, Crime]</td>\n",
       "      <td>[Documentary]</td>\n",
       "      <td>[Adventure, Action, Science Fiction]</td>\n",
       "      <td>[Animation, Family]</td>\n",
       "      <td>[Comedy, Drama, Romance]</td>\n",
       "      <td>[Drama]</td>\n",
       "      <td>[Mystery, Drama]</td>\n",
       "      <td>[Drama, Crime]</td>\n",
       "      <td>[Horror, Thriller, Mystery]</td>\n",
       "      <td>...</td>\n",
       "      <td>[Documentary]</td>\n",
       "      <td>[]</td>\n",
       "      <td>[]</td>\n",
       "      <td>[]</td>\n",
       "      <td>[]</td>\n",
       "      <td>[Music]</td>\n",
       "      <td>[]</td>\n",
       "      <td>[Documentary]</td>\n",
       "      <td>[]</td>\n",
       "      <td>[]</td>\n",
       "    </tr>\n",
       "    <tr>\n",
       "      <th>id</th>\n",
       "      <td>5</td>\n",
       "      <td>6</td>\n",
       "      <td>8</td>\n",
       "      <td>11</td>\n",
       "      <td>12</td>\n",
       "      <td>13</td>\n",
       "      <td>14</td>\n",
       "      <td>15</td>\n",
       "      <td>16</td>\n",
       "      <td>17</td>\n",
       "      <td>...</td>\n",
       "      <td>701689</td>\n",
       "      <td>701692</td>\n",
       "      <td>701695</td>\n",
       "      <td>701702</td>\n",
       "      <td>701705</td>\n",
       "      <td>701706</td>\n",
       "      <td>701707</td>\n",
       "      <td>701710</td>\n",
       "      <td>701714</td>\n",
       "      <td>701729</td>\n",
       "    </tr>\n",
       "    <tr>\n",
       "      <th>imdb_id</th>\n",
       "      <td>tt0113101</td>\n",
       "      <td>tt0107286</td>\n",
       "      <td>tt0825671</td>\n",
       "      <td>tt0076759</td>\n",
       "      <td>tt0266543</td>\n",
       "      <td>tt0109830</td>\n",
       "      <td>tt0169547</td>\n",
       "      <td>tt0033467</td>\n",
       "      <td>tt0168629</td>\n",
       "      <td>tt0411267</td>\n",
       "      <td>...</td>\n",
       "      <td>NaN</td>\n",
       "      <td>NaN</td>\n",
       "      <td>NaN</td>\n",
       "      <td>NaN</td>\n",
       "      <td>NaN</td>\n",
       "      <td>NaN</td>\n",
       "      <td>NaN</td>\n",
       "      <td>tt1821695</td>\n",
       "      <td>NaN</td>\n",
       "      <td>NaN</td>\n",
       "    </tr>\n",
       "    <tr>\n",
       "      <th>overview</th>\n",
       "      <td>It's Ted the Bellhop's first night on the job....</td>\n",
       "      <td>While racing to a boxing match, Frank, Mike, J...</td>\n",
       "      <td>Timo Novotny labels his new project an experim...</td>\n",
       "      <td>Princess Leia is captured and held hostage by ...</td>\n",
       "      <td>Nemo, an adventurous young clownfish, is unexp...</td>\n",
       "      <td>A man with a low IQ has accomplished great thi...</td>\n",
       "      <td>Lester Burnham, a depressed suburban father in...</td>\n",
       "      <td>Newspaper magnate, Charles Foster Kane is take...</td>\n",
       "      <td>Selma, a Czech immigrant on the verge of blind...</td>\n",
       "      <td>Adèle and her daughter Sarah are traveling on ...</td>\n",
       "      <td>...</td>\n",
       "      <td>Set at CREST (the Centre for Research and Educ...</td>\n",
       "      <td>Tom and Jerry is an American animated franchis...</td>\n",
       "      <td>This full concert broadcast comes from our 201...</td>\n",
       "      <td>Shakespeare's heartbreaking tale, Nureyev's bl...</td>\n",
       "      <td>Courage the Cowardly Dog is an American animat...</td>\n",
       "      <td>Radiohead's set from June 30, 2017 at the Rock...</td>\n",
       "      <td>‘Rising Silence’ is a journey of relationships...</td>\n",
       "      <td>There are approximately 5.7 million people in ...</td>\n",
       "      <td>SUM 41 performs live at The House of Blues, Cl...</td>\n",
       "      <td>A tantalising trio of cult lesbian movies from...</td>\n",
       "    </tr>\n",
       "    <tr>\n",
       "      <th>popularity</th>\n",
       "      <td>13.532</td>\n",
       "      <td>11.817</td>\n",
       "      <td>2.629</td>\n",
       "      <td>90.645</td>\n",
       "      <td>33.313</td>\n",
       "      <td>33.781</td>\n",
       "      <td>23.513</td>\n",
       "      <td>18.872</td>\n",
       "      <td>16.037</td>\n",
       "      <td>6.766</td>\n",
       "      <td>...</td>\n",
       "      <td>NaN</td>\n",
       "      <td>NaN</td>\n",
       "      <td>NaN</td>\n",
       "      <td>NaN</td>\n",
       "      <td>NaN</td>\n",
       "      <td>NaN</td>\n",
       "      <td>NaN</td>\n",
       "      <td>NaN</td>\n",
       "      <td>NaN</td>\n",
       "      <td>NaN</td>\n",
       "    </tr>\n",
       "    <tr>\n",
       "      <th>release_date</th>\n",
       "      <td>1995-12-09 00:00:00</td>\n",
       "      <td>1993-10-15 00:00:00</td>\n",
       "      <td>2006-01-01 00:00:00</td>\n",
       "      <td>1977-05-25 00:00:00</td>\n",
       "      <td>2003-05-30 00:00:00</td>\n",
       "      <td>1994-07-06 00:00:00</td>\n",
       "      <td>1999-09-15 00:00:00</td>\n",
       "      <td>1941-04-30 00:00:00</td>\n",
       "      <td>2000-05-17 00:00:00</td>\n",
       "      <td>2005-09-28 00:00:00</td>\n",
       "      <td>...</td>\n",
       "      <td>2019-12-31 00:00:00</td>\n",
       "      <td>1940-02-10 00:00:00</td>\n",
       "      <td>2017-06-01 00:00:00</td>\n",
       "      <td>NaT</td>\n",
       "      <td>NaT</td>\n",
       "      <td>2017-06-30 00:00:00</td>\n",
       "      <td>NaT</td>\n",
       "      <td>NaT</td>\n",
       "      <td>NaT</td>\n",
       "      <td>2010-10-04 00:00:00</td>\n",
       "    </tr>\n",
       "    <tr>\n",
       "      <th>revenue</th>\n",
       "      <td>4.25735e+06</td>\n",
       "      <td>1.21369e+07</td>\n",
       "      <td>NaN</td>\n",
       "      <td>7.75398e+08</td>\n",
       "      <td>9.40336e+08</td>\n",
       "      <td>6.77388e+08</td>\n",
       "      <td>3.56297e+08</td>\n",
       "      <td>2.32177e+07</td>\n",
       "      <td>4.00319e+07</td>\n",
       "      <td>NaN</td>\n",
       "      <td>...</td>\n",
       "      <td>NaN</td>\n",
       "      <td>NaN</td>\n",
       "      <td>NaN</td>\n",
       "      <td>NaN</td>\n",
       "      <td>NaN</td>\n",
       "      <td>NaN</td>\n",
       "      <td>NaN</td>\n",
       "      <td>NaN</td>\n",
       "      <td>NaN</td>\n",
       "      <td>NaN</td>\n",
       "    </tr>\n",
       "    <tr>\n",
       "      <th>runtime</th>\n",
       "      <td>98</td>\n",
       "      <td>110</td>\n",
       "      <td>80</td>\n",
       "      <td>121</td>\n",
       "      <td>100</td>\n",
       "      <td>142</td>\n",
       "      <td>122</td>\n",
       "      <td>119</td>\n",
       "      <td>141</td>\n",
       "      <td>87</td>\n",
       "      <td>...</td>\n",
       "      <td>80</td>\n",
       "      <td>NaN</td>\n",
       "      <td>NaN</td>\n",
       "      <td>144</td>\n",
       "      <td>NaN</td>\n",
       "      <td>129</td>\n",
       "      <td>75</td>\n",
       "      <td>85</td>\n",
       "      <td>75</td>\n",
       "      <td>140</td>\n",
       "    </tr>\n",
       "    <tr>\n",
       "      <th>tagline</th>\n",
       "      <td>Twelve outrageous guests. Four scandalous requ...</td>\n",
       "      <td>Don't move. Don't whisper. Don't even breathe.</td>\n",
       "      <td>A Megacities remix.</td>\n",
       "      <td>A long time ago in a galaxy far, far away...</td>\n",
       "      <td>There are 3.7 trillion fish in the ocean. They...</td>\n",
       "      <td>Life is like a box of chocolates...you never k...</td>\n",
       "      <td>Look closer.</td>\n",
       "      <td>It's terrific!</td>\n",
       "      <td>You don't need eyes to see.</td>\n",
       "      <td>One of the living for one of the dead.</td>\n",
       "      <td>...</td>\n",
       "      <td>NaN</td>\n",
       "      <td>NaN</td>\n",
       "      <td>NaN</td>\n",
       "      <td>Shakespeare's heartbreaking tale, Nureyev's bl...</td>\n",
       "      <td>NaN</td>\n",
       "      <td>NaN</td>\n",
       "      <td>NaN</td>\n",
       "      <td>Bipolar and Living</td>\n",
       "      <td>concert, punk rock, live</td>\n",
       "      <td>NaN</td>\n",
       "    </tr>\n",
       "    <tr>\n",
       "      <th>title</th>\n",
       "      <td>Four Rooms</td>\n",
       "      <td>Judgment Night</td>\n",
       "      <td>Life in Loops (A Megacities RMX)</td>\n",
       "      <td>Star Wars</td>\n",
       "      <td>Finding Nemo</td>\n",
       "      <td>Forrest Gump</td>\n",
       "      <td>American Beauty</td>\n",
       "      <td>Citizen Kane</td>\n",
       "      <td>Dancer in the Dark</td>\n",
       "      <td>The Dark</td>\n",
       "      <td>...</td>\n",
       "      <td>RECASTING SELVES</td>\n",
       "      <td>Tom &amp; Jerry</td>\n",
       "      <td>Monteverdi: L’incoronazione di Poppea - La Fenice</td>\n",
       "      <td>English National Ballet's Romeo and Juliet</td>\n",
       "      <td>Courage the Cowardly Dog</td>\n",
       "      <td>Radiohead - Rock Werchter 2017</td>\n",
       "      <td>Rising Silence</td>\n",
       "      <td>Up/Down</td>\n",
       "      <td>Sum 41 : Live at The House of Blues</td>\n",
       "      <td>The Passion Trilogy</td>\n",
       "    </tr>\n",
       "    <tr>\n",
       "      <th>vote_average</th>\n",
       "      <td>6</td>\n",
       "      <td>6.5</td>\n",
       "      <td>7.5</td>\n",
       "      <td>8.2</td>\n",
       "      <td>7.8</td>\n",
       "      <td>8.4</td>\n",
       "      <td>8</td>\n",
       "      <td>8.1</td>\n",
       "      <td>8</td>\n",
       "      <td>5.9</td>\n",
       "      <td>...</td>\n",
       "      <td>NaN</td>\n",
       "      <td>NaN</td>\n",
       "      <td>NaN</td>\n",
       "      <td>NaN</td>\n",
       "      <td>NaN</td>\n",
       "      <td>NaN</td>\n",
       "      <td>NaN</td>\n",
       "      <td>NaN</td>\n",
       "      <td>NaN</td>\n",
       "      <td>NaN</td>\n",
       "    </tr>\n",
       "    <tr>\n",
       "      <th>vote_count</th>\n",
       "      <td>1561</td>\n",
       "      <td>145</td>\n",
       "      <td>11</td>\n",
       "      <td>13502</td>\n",
       "      <td>13407</td>\n",
       "      <td>17780</td>\n",
       "      <td>7872</td>\n",
       "      <td>3018</td>\n",
       "      <td>982</td>\n",
       "      <td>164</td>\n",
       "      <td>...</td>\n",
       "      <td>NaN</td>\n",
       "      <td>NaN</td>\n",
       "      <td>NaN</td>\n",
       "      <td>NaN</td>\n",
       "      <td>NaN</td>\n",
       "      <td>NaN</td>\n",
       "      <td>NaN</td>\n",
       "      <td>NaN</td>\n",
       "      <td>NaN</td>\n",
       "      <td>NaN</td>\n",
       "    </tr>\n",
       "    <tr>\n",
       "      <th>reviews</th>\n",
       "      <td>{'page': 1, 'results': [], 'total_pages': 0, '...</td>\n",
       "      <td>{'page': 1, 'results': [], 'total_pages': 0, '...</td>\n",
       "      <td>{'page': 1, 'results': [], 'total_pages': 0, '...</td>\n",
       "      <td>{'page': 1, 'results': [{'author': 'Cat Elling...</td>\n",
       "      <td>{'page': 1, 'results': [{'author': 'Dave09', '...</td>\n",
       "      <td>{'page': 1, 'results': [], 'total_pages': 0, '...</td>\n",
       "      <td>{'page': 1, 'results': [{'author': 'Nathan Joh...</td>\n",
       "      <td>{'page': 1, 'results': [{'author': 'Gurre', 'c...</td>\n",
       "      <td>{'page': 1, 'results': [], 'total_pages': 0, '...</td>\n",
       "      <td>{'page': 1, 'results': [], 'total_pages': 0, '...</td>\n",
       "      <td>...</td>\n",
       "      <td>{'page': 1, 'results': [], 'total_pages': 0, '...</td>\n",
       "      <td>{'page': 1, 'results': [], 'total_pages': 0, '...</td>\n",
       "      <td>{'page': 1, 'results': [], 'total_pages': 0, '...</td>\n",
       "      <td>{'page': 1, 'results': [], 'total_pages': 0, '...</td>\n",
       "      <td>{'page': 1, 'results': [], 'total_pages': 0, '...</td>\n",
       "      <td>{'page': 1, 'results': [], 'total_pages': 0, '...</td>\n",
       "      <td>{'page': 1, 'results': [], 'total_pages': 0, '...</td>\n",
       "      <td>{'page': 1, 'results': [], 'total_pages': 0, '...</td>\n",
       "      <td>{'page': 1, 'results': [], 'total_pages': 0, '...</td>\n",
       "      <td>{'page': 1, 'results': [], 'total_pages': 0, '...</td>\n",
       "    </tr>\n",
       "    <tr>\n",
       "      <th>cast</th>\n",
       "      <td>[{'cast_id': 42, 'character': 'Ted the Bellhop...</td>\n",
       "      <td>[{'cast_id': 7, 'character': 'Frank Wyatt', 'c...</td>\n",
       "      <td>[]</td>\n",
       "      <td>[{'cast_id': 3, 'character': 'Luke Skywalker',...</td>\n",
       "      <td>[{'cast_id': 8, 'character': 'Marlin (voice)',...</td>\n",
       "      <td>[{'cast_id': 7, 'character': 'Forrest Gump', '...</td>\n",
       "      <td>[{'cast_id': 6, 'character': 'Lester Burnham',...</td>\n",
       "      <td>[{'cast_id': 5, 'character': 'Charles Foster K...</td>\n",
       "      <td>[{'cast_id': 33, 'character': 'Selma Jezkova',...</td>\n",
       "      <td>[{'cast_id': 4, 'character': 'James', 'credit_...</td>\n",
       "      <td>...</td>\n",
       "      <td>[]</td>\n",
       "      <td>[]</td>\n",
       "      <td>[]</td>\n",
       "      <td>[]</td>\n",
       "      <td>[]</td>\n",
       "      <td>[{'cast_id': 1, 'character': '', 'credit_id': ...</td>\n",
       "      <td>[]</td>\n",
       "      <td>[{'cast_id': 1, 'character': '', 'credit_id': ...</td>\n",
       "      <td>[]</td>\n",
       "      <td>[]</td>\n",
       "    </tr>\n",
       "    <tr>\n",
       "      <th>crew</th>\n",
       "      <td>[{'credit_id': '52fe420dc3a36847f800012d', 'de...</td>\n",
       "      <td>[{'credit_id': '52fe420dc3a36847f800023d', 'de...</td>\n",
       "      <td>[{'credit_id': '52fe420dc3a36847f80002b5', 'de...</td>\n",
       "      <td>[{'credit_id': '5e85e7e298f1f10014ab3e74', 'de...</td>\n",
       "      <td>[{'credit_id': '52fe420ec3a36847f80006b1', 'de...</td>\n",
       "      <td>[{'credit_id': '52fe420ec3a36847f800076b', 'de...</td>\n",
       "      <td>[{'credit_id': '52fe420ec3a36847f8000809', 'de...</td>\n",
       "      <td>[{'credit_id': '52fe420ec3a36847f80008f1', 'de...</td>\n",
       "      <td>[{'credit_id': '52fe420ec3a36847f8000981', 'de...</td>\n",
       "      <td>[{'credit_id': '52fe420fc3a36847f8000a7f', 'de...</td>\n",
       "      <td>...</td>\n",
       "      <td>[{'credit_id': '5eb5767f0cb3350021ca0db0', 'de...</td>\n",
       "      <td>[]</td>\n",
       "      <td>[]</td>\n",
       "      <td>[]</td>\n",
       "      <td>[]</td>\n",
       "      <td>[]</td>\n",
       "      <td>[{'credit_id': '5eb583d1ccb15f0020883f21', 'de...</td>\n",
       "      <td>[{'credit_id': '5eb586d4ccb15f00208842ae', 'de...</td>\n",
       "      <td>[]</td>\n",
       "      <td>[{'credit_id': '5eb59491ccb15f002286ee4f', 'de...</td>\n",
       "    </tr>\n",
       "  </tbody>\n",
       "</table>\n",
       "<p>16 rows × 171246 columns</p>\n",
       "</div>"
      ],
      "text/plain": [
       "                                                         0       \\\n",
       "budget                                                    4e+06   \n",
       "genres                                          [Crime, Comedy]   \n",
       "id                                                            5   \n",
       "imdb_id                                               tt0113101   \n",
       "overview      It's Ted the Bellhop's first night on the job....   \n",
       "popularity                                               13.532   \n",
       "release_date                                1995-12-09 00:00:00   \n",
       "revenue                                             4.25735e+06   \n",
       "runtime                                                      98   \n",
       "tagline       Twelve outrageous guests. Four scandalous requ...   \n",
       "title                                                Four Rooms   \n",
       "vote_average                                                  6   \n",
       "vote_count                                                 1561   \n",
       "reviews       {'page': 1, 'results': [], 'total_pages': 0, '...   \n",
       "cast          [{'cast_id': 42, 'character': 'Ted the Bellhop...   \n",
       "crew          [{'credit_id': '52fe420dc3a36847f800012d', 'de...   \n",
       "\n",
       "                                                         1       \\\n",
       "budget                                                  2.1e+07   \n",
       "genres                                [Action, Thriller, Crime]   \n",
       "id                                                            6   \n",
       "imdb_id                                               tt0107286   \n",
       "overview      While racing to a boxing match, Frank, Mike, J...   \n",
       "popularity                                               11.817   \n",
       "release_date                                1993-10-15 00:00:00   \n",
       "revenue                                             1.21369e+07   \n",
       "runtime                                                     110   \n",
       "tagline          Don't move. Don't whisper. Don't even breathe.   \n",
       "title                                            Judgment Night   \n",
       "vote_average                                                6.5   \n",
       "vote_count                                                  145   \n",
       "reviews       {'page': 1, 'results': [], 'total_pages': 0, '...   \n",
       "cast          [{'cast_id': 7, 'character': 'Frank Wyatt', 'c...   \n",
       "crew          [{'credit_id': '52fe420dc3a36847f800023d', 'de...   \n",
       "\n",
       "                                                         2       \\\n",
       "budget                                                    42000   \n",
       "genres                                            [Documentary]   \n",
       "id                                                            8   \n",
       "imdb_id                                               tt0825671   \n",
       "overview      Timo Novotny labels his new project an experim...   \n",
       "popularity                                                2.629   \n",
       "release_date                                2006-01-01 00:00:00   \n",
       "revenue                                                     NaN   \n",
       "runtime                                                      80   \n",
       "tagline                                     A Megacities remix.   \n",
       "title                          Life in Loops (A Megacities RMX)   \n",
       "vote_average                                                7.5   \n",
       "vote_count                                                   11   \n",
       "reviews       {'page': 1, 'results': [], 'total_pages': 0, '...   \n",
       "cast                                                         []   \n",
       "crew          [{'credit_id': '52fe420dc3a36847f80002b5', 'de...   \n",
       "\n",
       "                                                         3       \\\n",
       "budget                                                  1.1e+07   \n",
       "genres                     [Adventure, Action, Science Fiction]   \n",
       "id                                                           11   \n",
       "imdb_id                                               tt0076759   \n",
       "overview      Princess Leia is captured and held hostage by ...   \n",
       "popularity                                               90.645   \n",
       "release_date                                1977-05-25 00:00:00   \n",
       "revenue                                             7.75398e+08   \n",
       "runtime                                                     121   \n",
       "tagline            A long time ago in a galaxy far, far away...   \n",
       "title                                                 Star Wars   \n",
       "vote_average                                                8.2   \n",
       "vote_count                                                13502   \n",
       "reviews       {'page': 1, 'results': [{'author': 'Cat Elling...   \n",
       "cast          [{'cast_id': 3, 'character': 'Luke Skywalker',...   \n",
       "crew          [{'credit_id': '5e85e7e298f1f10014ab3e74', 'de...   \n",
       "\n",
       "                                                         4       \\\n",
       "budget                                                  9.4e+07   \n",
       "genres                                      [Animation, Family]   \n",
       "id                                                           12   \n",
       "imdb_id                                               tt0266543   \n",
       "overview      Nemo, an adventurous young clownfish, is unexp...   \n",
       "popularity                                               33.313   \n",
       "release_date                                2003-05-30 00:00:00   \n",
       "revenue                                             9.40336e+08   \n",
       "runtime                                                     100   \n",
       "tagline       There are 3.7 trillion fish in the ocean. They...   \n",
       "title                                              Finding Nemo   \n",
       "vote_average                                                7.8   \n",
       "vote_count                                                13407   \n",
       "reviews       {'page': 1, 'results': [{'author': 'Dave09', '...   \n",
       "cast          [{'cast_id': 8, 'character': 'Marlin (voice)',...   \n",
       "crew          [{'credit_id': '52fe420ec3a36847f80006b1', 'de...   \n",
       "\n",
       "                                                         5       \\\n",
       "budget                                                  5.5e+07   \n",
       "genres                                 [Comedy, Drama, Romance]   \n",
       "id                                                           13   \n",
       "imdb_id                                               tt0109830   \n",
       "overview      A man with a low IQ has accomplished great thi...   \n",
       "popularity                                               33.781   \n",
       "release_date                                1994-07-06 00:00:00   \n",
       "revenue                                             6.77388e+08   \n",
       "runtime                                                     142   \n",
       "tagline       Life is like a box of chocolates...you never k...   \n",
       "title                                              Forrest Gump   \n",
       "vote_average                                                8.4   \n",
       "vote_count                                                17780   \n",
       "reviews       {'page': 1, 'results': [], 'total_pages': 0, '...   \n",
       "cast          [{'cast_id': 7, 'character': 'Forrest Gump', '...   \n",
       "crew          [{'credit_id': '52fe420ec3a36847f800076b', 'de...   \n",
       "\n",
       "                                                         6       \\\n",
       "budget                                                  1.5e+07   \n",
       "genres                                                  [Drama]   \n",
       "id                                                           14   \n",
       "imdb_id                                               tt0169547   \n",
       "overview      Lester Burnham, a depressed suburban father in...   \n",
       "popularity                                               23.513   \n",
       "release_date                                1999-09-15 00:00:00   \n",
       "revenue                                             3.56297e+08   \n",
       "runtime                                                     122   \n",
       "tagline                                            Look closer.   \n",
       "title                                           American Beauty   \n",
       "vote_average                                                  8   \n",
       "vote_count                                                 7872   \n",
       "reviews       {'page': 1, 'results': [{'author': 'Nathan Joh...   \n",
       "cast          [{'cast_id': 6, 'character': 'Lester Burnham',...   \n",
       "crew          [{'credit_id': '52fe420ec3a36847f8000809', 'de...   \n",
       "\n",
       "                                                         7       \\\n",
       "budget                                                   839727   \n",
       "genres                                         [Mystery, Drama]   \n",
       "id                                                           15   \n",
       "imdb_id                                               tt0033467   \n",
       "overview      Newspaper magnate, Charles Foster Kane is take...   \n",
       "popularity                                               18.872   \n",
       "release_date                                1941-04-30 00:00:00   \n",
       "revenue                                             2.32177e+07   \n",
       "runtime                                                     119   \n",
       "tagline                                          It's terrific!   \n",
       "title                                              Citizen Kane   \n",
       "vote_average                                                8.1   \n",
       "vote_count                                                 3018   \n",
       "reviews       {'page': 1, 'results': [{'author': 'Gurre', 'c...   \n",
       "cast          [{'cast_id': 5, 'character': 'Charles Foster K...   \n",
       "crew          [{'credit_id': '52fe420ec3a36847f80008f1', 'de...   \n",
       "\n",
       "                                                         8       \\\n",
       "budget                                                 1.28e+07   \n",
       "genres                                           [Drama, Crime]   \n",
       "id                                                           16   \n",
       "imdb_id                                               tt0168629   \n",
       "overview      Selma, a Czech immigrant on the verge of blind...   \n",
       "popularity                                               16.037   \n",
       "release_date                                2000-05-17 00:00:00   \n",
       "revenue                                             4.00319e+07   \n",
       "runtime                                                     141   \n",
       "tagline                             You don't need eyes to see.   \n",
       "title                                        Dancer in the Dark   \n",
       "vote_average                                                  8   \n",
       "vote_count                                                  982   \n",
       "reviews       {'page': 1, 'results': [], 'total_pages': 0, '...   \n",
       "cast          [{'cast_id': 33, 'character': 'Selma Jezkova',...   \n",
       "crew          [{'credit_id': '52fe420ec3a36847f8000981', 'de...   \n",
       "\n",
       "                                                         9       ...  \\\n",
       "budget                                                      NaN  ...   \n",
       "genres                              [Horror, Thriller, Mystery]  ...   \n",
       "id                                                           17  ...   \n",
       "imdb_id                                               tt0411267  ...   \n",
       "overview      Adèle and her daughter Sarah are traveling on ...  ...   \n",
       "popularity                                                6.766  ...   \n",
       "release_date                                2005-09-28 00:00:00  ...   \n",
       "revenue                                                     NaN  ...   \n",
       "runtime                                                      87  ...   \n",
       "tagline                  One of the living for one of the dead.  ...   \n",
       "title                                                  The Dark  ...   \n",
       "vote_average                                                5.9  ...   \n",
       "vote_count                                                  164  ...   \n",
       "reviews       {'page': 1, 'results': [], 'total_pages': 0, '...  ...   \n",
       "cast          [{'cast_id': 4, 'character': 'James', 'credit_...  ...   \n",
       "crew          [{'credit_id': '52fe420fc3a36847f8000a7f', 'de...  ...   \n",
       "\n",
       "                                                         171236  \\\n",
       "budget                                                      NaN   \n",
       "genres                                            [Documentary]   \n",
       "id                                                       701689   \n",
       "imdb_id                                                     NaN   \n",
       "overview      Set at CREST (the Centre for Research and Educ...   \n",
       "popularity                                                  NaN   \n",
       "release_date                                2019-12-31 00:00:00   \n",
       "revenue                                                     NaN   \n",
       "runtime                                                      80   \n",
       "tagline                                                     NaN   \n",
       "title                                          RECASTING SELVES   \n",
       "vote_average                                                NaN   \n",
       "vote_count                                                  NaN   \n",
       "reviews       {'page': 1, 'results': [], 'total_pages': 0, '...   \n",
       "cast                                                         []   \n",
       "crew          [{'credit_id': '5eb5767f0cb3350021ca0db0', 'de...   \n",
       "\n",
       "                                                         171237  \\\n",
       "budget                                                      NaN   \n",
       "genres                                                       []   \n",
       "id                                                       701692   \n",
       "imdb_id                                                     NaN   \n",
       "overview      Tom and Jerry is an American animated franchis...   \n",
       "popularity                                                  NaN   \n",
       "release_date                                1940-02-10 00:00:00   \n",
       "revenue                                                     NaN   \n",
       "runtime                                                     NaN   \n",
       "tagline                                                     NaN   \n",
       "title                                               Tom & Jerry   \n",
       "vote_average                                                NaN   \n",
       "vote_count                                                  NaN   \n",
       "reviews       {'page': 1, 'results': [], 'total_pages': 0, '...   \n",
       "cast                                                         []   \n",
       "crew                                                         []   \n",
       "\n",
       "                                                         171238  \\\n",
       "budget                                                      NaN   \n",
       "genres                                                       []   \n",
       "id                                                       701695   \n",
       "imdb_id                                                     NaN   \n",
       "overview      This full concert broadcast comes from our 201...   \n",
       "popularity                                                  NaN   \n",
       "release_date                                2017-06-01 00:00:00   \n",
       "revenue                                                     NaN   \n",
       "runtime                                                     NaN   \n",
       "tagline                                                     NaN   \n",
       "title         Monteverdi: L’incoronazione di Poppea - La Fenice   \n",
       "vote_average                                                NaN   \n",
       "vote_count                                                  NaN   \n",
       "reviews       {'page': 1, 'results': [], 'total_pages': 0, '...   \n",
       "cast                                                         []   \n",
       "crew                                                         []   \n",
       "\n",
       "                                                         171239  \\\n",
       "budget                                                      NaN   \n",
       "genres                                                       []   \n",
       "id                                                       701702   \n",
       "imdb_id                                                     NaN   \n",
       "overview      Shakespeare's heartbreaking tale, Nureyev's bl...   \n",
       "popularity                                                  NaN   \n",
       "release_date                                                NaT   \n",
       "revenue                                                     NaN   \n",
       "runtime                                                     144   \n",
       "tagline       Shakespeare's heartbreaking tale, Nureyev's bl...   \n",
       "title                English National Ballet's Romeo and Juliet   \n",
       "vote_average                                                NaN   \n",
       "vote_count                                                  NaN   \n",
       "reviews       {'page': 1, 'results': [], 'total_pages': 0, '...   \n",
       "cast                                                         []   \n",
       "crew                                                         []   \n",
       "\n",
       "                                                         171240  \\\n",
       "budget                                                      NaN   \n",
       "genres                                                       []   \n",
       "id                                                       701705   \n",
       "imdb_id                                                     NaN   \n",
       "overview      Courage the Cowardly Dog is an American animat...   \n",
       "popularity                                                  NaN   \n",
       "release_date                                                NaT   \n",
       "revenue                                                     NaN   \n",
       "runtime                                                     NaN   \n",
       "tagline                                                     NaN   \n",
       "title                                  Courage the Cowardly Dog   \n",
       "vote_average                                                NaN   \n",
       "vote_count                                                  NaN   \n",
       "reviews       {'page': 1, 'results': [], 'total_pages': 0, '...   \n",
       "cast                                                         []   \n",
       "crew                                                         []   \n",
       "\n",
       "                                                         171241  \\\n",
       "budget                                                      NaN   \n",
       "genres                                                  [Music]   \n",
       "id                                                       701706   \n",
       "imdb_id                                                     NaN   \n",
       "overview      Radiohead's set from June 30, 2017 at the Rock...   \n",
       "popularity                                                  NaN   \n",
       "release_date                                2017-06-30 00:00:00   \n",
       "revenue                                                     NaN   \n",
       "runtime                                                     129   \n",
       "tagline                                                     NaN   \n",
       "title                            Radiohead - Rock Werchter 2017   \n",
       "vote_average                                                NaN   \n",
       "vote_count                                                  NaN   \n",
       "reviews       {'page': 1, 'results': [], 'total_pages': 0, '...   \n",
       "cast          [{'cast_id': 1, 'character': '', 'credit_id': ...   \n",
       "crew                                                         []   \n",
       "\n",
       "                                                         171242  \\\n",
       "budget                                                      NaN   \n",
       "genres                                                       []   \n",
       "id                                                       701707   \n",
       "imdb_id                                                     NaN   \n",
       "overview      ‘Rising Silence’ is a journey of relationships...   \n",
       "popularity                                                  NaN   \n",
       "release_date                                                NaT   \n",
       "revenue                                                     NaN   \n",
       "runtime                                                      75   \n",
       "tagline                                                     NaN   \n",
       "title                                            Rising Silence   \n",
       "vote_average                                                NaN   \n",
       "vote_count                                                  NaN   \n",
       "reviews       {'page': 1, 'results': [], 'total_pages': 0, '...   \n",
       "cast                                                         []   \n",
       "crew          [{'credit_id': '5eb583d1ccb15f0020883f21', 'de...   \n",
       "\n",
       "                                                         171243  \\\n",
       "budget                                                      NaN   \n",
       "genres                                            [Documentary]   \n",
       "id                                                       701710   \n",
       "imdb_id                                               tt1821695   \n",
       "overview      There are approximately 5.7 million people in ...   \n",
       "popularity                                                  NaN   \n",
       "release_date                                                NaT   \n",
       "revenue                                                     NaN   \n",
       "runtime                                                      85   \n",
       "tagline                                      Bipolar and Living   \n",
       "title                                                   Up/Down   \n",
       "vote_average                                                NaN   \n",
       "vote_count                                                  NaN   \n",
       "reviews       {'page': 1, 'results': [], 'total_pages': 0, '...   \n",
       "cast          [{'cast_id': 1, 'character': '', 'credit_id': ...   \n",
       "crew          [{'credit_id': '5eb586d4ccb15f00208842ae', 'de...   \n",
       "\n",
       "                                                         171244  \\\n",
       "budget                                                      NaN   \n",
       "genres                                                       []   \n",
       "id                                                       701714   \n",
       "imdb_id                                                     NaN   \n",
       "overview      SUM 41 performs live at The House of Blues, Cl...   \n",
       "popularity                                                  NaN   \n",
       "release_date                                                NaT   \n",
       "revenue                                                     NaN   \n",
       "runtime                                                      75   \n",
       "tagline                                concert, punk rock, live   \n",
       "title                       Sum 41 : Live at The House of Blues   \n",
       "vote_average                                                NaN   \n",
       "vote_count                                                  NaN   \n",
       "reviews       {'page': 1, 'results': [], 'total_pages': 0, '...   \n",
       "cast                                                         []   \n",
       "crew                                                         []   \n",
       "\n",
       "                                                         171245  \n",
       "budget                                                      NaN  \n",
       "genres                                                       []  \n",
       "id                                                       701729  \n",
       "imdb_id                                                     NaN  \n",
       "overview      A tantalising trio of cult lesbian movies from...  \n",
       "popularity                                                  NaN  \n",
       "release_date                                2010-10-04 00:00:00  \n",
       "revenue                                                     NaN  \n",
       "runtime                                                     140  \n",
       "tagline                                                     NaN  \n",
       "title                                       The Passion Trilogy  \n",
       "vote_average                                                NaN  \n",
       "vote_count                                                  NaN  \n",
       "reviews       {'page': 1, 'results': [], 'total_pages': 0, '...  \n",
       "cast                                                         []  \n",
       "crew          [{'credit_id': '5eb59491ccb15f002286ee4f', 'de...  \n",
       "\n",
       "[16 rows x 171246 columns]"
      ]
     },
     "execution_count": 54,
     "metadata": {},
     "output_type": "execute_result"
    }
   ],
   "source": [
    "# extract cast and crew lists from credits column\n",
    "df = pd.concat([df.reset_index(drop=True), pd.json_normalize(df['credits'])], axis=1).drop(['index', 'credits'], \n",
    "                                                                                           axis=1)\n",
    "df.transpose()"
   ]
  },
  {
   "cell_type": "markdown",
   "metadata": {},
   "source": [
    "> **CAST**"
   ]
  },
  {
   "cell_type": "code",
   "execution_count": 55,
   "metadata": {},
   "outputs": [
    {
     "data": {
      "text/plain": [
       "<class 'list'>    171246\n",
       "Name: cast, dtype: int64"
      ]
     },
     "execution_count": 55,
     "metadata": {},
     "output_type": "execute_result"
    }
   ],
   "source": [
    "# check data types\n",
    "df['cast'].apply(type).value_counts()"
   ]
  },
  {
   "cell_type": "markdown",
   "metadata": {},
   "source": [
    "The values are all lists."
   ]
  },
  {
   "cell_type": "code",
   "execution_count": 56,
   "metadata": {},
   "outputs": [
    {
     "data": {
      "text/plain": [
       "53867"
      ]
     },
     "execution_count": 56,
     "metadata": {},
     "output_type": "execute_result"
    }
   ],
   "source": [
    "# count empty lists\n",
    "df['cast'].str.len().eq(0).sum()"
   ]
  },
  {
   "cell_type": "markdown",
   "metadata": {},
   "source": [
    "> **CREW**"
   ]
  },
  {
   "cell_type": "code",
   "execution_count": 57,
   "metadata": {},
   "outputs": [
    {
     "data": {
      "text/plain": [
       "<class 'list'>    171246\n",
       "Name: crew, dtype: int64"
      ]
     },
     "execution_count": 57,
     "metadata": {},
     "output_type": "execute_result"
    }
   ],
   "source": [
    "# check data types\n",
    "df['crew'].apply(type).value_counts()"
   ]
  },
  {
   "cell_type": "code",
   "execution_count": 58,
   "metadata": {},
   "outputs": [
    {
     "data": {
      "text/plain": [
       "48286"
      ]
     },
     "execution_count": 58,
     "metadata": {},
     "output_type": "execute_result"
    }
   ],
   "source": [
    "# count empty lists\n",
    "df['crew'].str.len().eq(0).sum()"
   ]
  },
  {
   "cell_type": "markdown",
   "metadata": {},
   "source": [
    "> **REVIEWS**"
   ]
  },
  {
   "cell_type": "code",
   "execution_count": 59,
   "metadata": {},
   "outputs": [
    {
     "data": {
      "text/plain": [
       "<class 'dict'>    171246\n",
       "Name: reviews, dtype: int64"
      ]
     },
     "execution_count": 59,
     "metadata": {},
     "output_type": "execute_result"
    }
   ],
   "source": [
    "# check data types\n",
    "df['reviews'].apply(type).value_counts()"
   ]
  },
  {
   "cell_type": "markdown",
   "metadata": {},
   "source": [
    "The values are all dicts."
   ]
  },
  {
   "cell_type": "code",
   "execution_count": 60,
   "metadata": {},
   "outputs": [
    {
     "data": {
      "text/plain": [
       "0"
      ]
     },
     "execution_count": 60,
     "metadata": {},
     "output_type": "execute_result"
    }
   ],
   "source": [
    "# count empty dicts\n",
    "df['reviews'].str.len().eq(0).sum()"
   ]
  },
  {
   "cell_type": "markdown",
   "metadata": {},
   "source": [
    "I only want the text of the review, which is in the results key."
   ]
  },
  {
   "cell_type": "code",
   "execution_count": 61,
   "metadata": {
    "scrolled": false
   },
   "outputs": [
    {
     "data": {
      "text/html": [
       "<div>\n",
       "<style scoped>\n",
       "    .dataframe tbody tr th:only-of-type {\n",
       "        vertical-align: middle;\n",
       "    }\n",
       "\n",
       "    .dataframe tbody tr th {\n",
       "        vertical-align: top;\n",
       "    }\n",
       "\n",
       "    .dataframe thead th {\n",
       "        text-align: right;\n",
       "    }\n",
       "</style>\n",
       "<table border=\"1\" class=\"dataframe\">\n",
       "  <thead>\n",
       "    <tr style=\"text-align: right;\">\n",
       "      <th></th>\n",
       "      <th>0</th>\n",
       "      <th>1</th>\n",
       "      <th>2</th>\n",
       "      <th>3</th>\n",
       "      <th>4</th>\n",
       "      <th>5</th>\n",
       "      <th>6</th>\n",
       "      <th>7</th>\n",
       "      <th>8</th>\n",
       "      <th>9</th>\n",
       "      <th>...</th>\n",
       "      <th>171236</th>\n",
       "      <th>171237</th>\n",
       "      <th>171238</th>\n",
       "      <th>171239</th>\n",
       "      <th>171240</th>\n",
       "      <th>171241</th>\n",
       "      <th>171242</th>\n",
       "      <th>171243</th>\n",
       "      <th>171244</th>\n",
       "      <th>171245</th>\n",
       "    </tr>\n",
       "  </thead>\n",
       "  <tbody>\n",
       "    <tr>\n",
       "      <th>budget</th>\n",
       "      <td>4e+06</td>\n",
       "      <td>2.1e+07</td>\n",
       "      <td>42000</td>\n",
       "      <td>1.1e+07</td>\n",
       "      <td>9.4e+07</td>\n",
       "      <td>5.5e+07</td>\n",
       "      <td>1.5e+07</td>\n",
       "      <td>839727</td>\n",
       "      <td>1.28e+07</td>\n",
       "      <td>NaN</td>\n",
       "      <td>...</td>\n",
       "      <td>NaN</td>\n",
       "      <td>NaN</td>\n",
       "      <td>NaN</td>\n",
       "      <td>NaN</td>\n",
       "      <td>NaN</td>\n",
       "      <td>NaN</td>\n",
       "      <td>NaN</td>\n",
       "      <td>NaN</td>\n",
       "      <td>NaN</td>\n",
       "      <td>NaN</td>\n",
       "    </tr>\n",
       "    <tr>\n",
       "      <th>genres</th>\n",
       "      <td>[Crime, Comedy]</td>\n",
       "      <td>[Action, Thriller, Crime]</td>\n",
       "      <td>[Documentary]</td>\n",
       "      <td>[Adventure, Action, Science Fiction]</td>\n",
       "      <td>[Animation, Family]</td>\n",
       "      <td>[Comedy, Drama, Romance]</td>\n",
       "      <td>[Drama]</td>\n",
       "      <td>[Mystery, Drama]</td>\n",
       "      <td>[Drama, Crime]</td>\n",
       "      <td>[Horror, Thriller, Mystery]</td>\n",
       "      <td>...</td>\n",
       "      <td>[Documentary]</td>\n",
       "      <td>[]</td>\n",
       "      <td>[]</td>\n",
       "      <td>[]</td>\n",
       "      <td>[]</td>\n",
       "      <td>[Music]</td>\n",
       "      <td>[]</td>\n",
       "      <td>[Documentary]</td>\n",
       "      <td>[]</td>\n",
       "      <td>[]</td>\n",
       "    </tr>\n",
       "    <tr>\n",
       "      <th>id</th>\n",
       "      <td>5</td>\n",
       "      <td>6</td>\n",
       "      <td>8</td>\n",
       "      <td>11</td>\n",
       "      <td>12</td>\n",
       "      <td>13</td>\n",
       "      <td>14</td>\n",
       "      <td>15</td>\n",
       "      <td>16</td>\n",
       "      <td>17</td>\n",
       "      <td>...</td>\n",
       "      <td>701689</td>\n",
       "      <td>701692</td>\n",
       "      <td>701695</td>\n",
       "      <td>701702</td>\n",
       "      <td>701705</td>\n",
       "      <td>701706</td>\n",
       "      <td>701707</td>\n",
       "      <td>701710</td>\n",
       "      <td>701714</td>\n",
       "      <td>701729</td>\n",
       "    </tr>\n",
       "    <tr>\n",
       "      <th>imdb_id</th>\n",
       "      <td>tt0113101</td>\n",
       "      <td>tt0107286</td>\n",
       "      <td>tt0825671</td>\n",
       "      <td>tt0076759</td>\n",
       "      <td>tt0266543</td>\n",
       "      <td>tt0109830</td>\n",
       "      <td>tt0169547</td>\n",
       "      <td>tt0033467</td>\n",
       "      <td>tt0168629</td>\n",
       "      <td>tt0411267</td>\n",
       "      <td>...</td>\n",
       "      <td>NaN</td>\n",
       "      <td>NaN</td>\n",
       "      <td>NaN</td>\n",
       "      <td>NaN</td>\n",
       "      <td>NaN</td>\n",
       "      <td>NaN</td>\n",
       "      <td>NaN</td>\n",
       "      <td>tt1821695</td>\n",
       "      <td>NaN</td>\n",
       "      <td>NaN</td>\n",
       "    </tr>\n",
       "    <tr>\n",
       "      <th>overview</th>\n",
       "      <td>It's Ted the Bellhop's first night on the job....</td>\n",
       "      <td>While racing to a boxing match, Frank, Mike, J...</td>\n",
       "      <td>Timo Novotny labels his new project an experim...</td>\n",
       "      <td>Princess Leia is captured and held hostage by ...</td>\n",
       "      <td>Nemo, an adventurous young clownfish, is unexp...</td>\n",
       "      <td>A man with a low IQ has accomplished great thi...</td>\n",
       "      <td>Lester Burnham, a depressed suburban father in...</td>\n",
       "      <td>Newspaper magnate, Charles Foster Kane is take...</td>\n",
       "      <td>Selma, a Czech immigrant on the verge of blind...</td>\n",
       "      <td>Adèle and her daughter Sarah are traveling on ...</td>\n",
       "      <td>...</td>\n",
       "      <td>Set at CREST (the Centre for Research and Educ...</td>\n",
       "      <td>Tom and Jerry is an American animated franchis...</td>\n",
       "      <td>This full concert broadcast comes from our 201...</td>\n",
       "      <td>Shakespeare's heartbreaking tale, Nureyev's bl...</td>\n",
       "      <td>Courage the Cowardly Dog is an American animat...</td>\n",
       "      <td>Radiohead's set from June 30, 2017 at the Rock...</td>\n",
       "      <td>‘Rising Silence’ is a journey of relationships...</td>\n",
       "      <td>There are approximately 5.7 million people in ...</td>\n",
       "      <td>SUM 41 performs live at The House of Blues, Cl...</td>\n",
       "      <td>A tantalising trio of cult lesbian movies from...</td>\n",
       "    </tr>\n",
       "    <tr>\n",
       "      <th>popularity</th>\n",
       "      <td>13.532</td>\n",
       "      <td>11.817</td>\n",
       "      <td>2.629</td>\n",
       "      <td>90.645</td>\n",
       "      <td>33.313</td>\n",
       "      <td>33.781</td>\n",
       "      <td>23.513</td>\n",
       "      <td>18.872</td>\n",
       "      <td>16.037</td>\n",
       "      <td>6.766</td>\n",
       "      <td>...</td>\n",
       "      <td>NaN</td>\n",
       "      <td>NaN</td>\n",
       "      <td>NaN</td>\n",
       "      <td>NaN</td>\n",
       "      <td>NaN</td>\n",
       "      <td>NaN</td>\n",
       "      <td>NaN</td>\n",
       "      <td>NaN</td>\n",
       "      <td>NaN</td>\n",
       "      <td>NaN</td>\n",
       "    </tr>\n",
       "    <tr>\n",
       "      <th>release_date</th>\n",
       "      <td>1995-12-09 00:00:00</td>\n",
       "      <td>1993-10-15 00:00:00</td>\n",
       "      <td>2006-01-01 00:00:00</td>\n",
       "      <td>1977-05-25 00:00:00</td>\n",
       "      <td>2003-05-30 00:00:00</td>\n",
       "      <td>1994-07-06 00:00:00</td>\n",
       "      <td>1999-09-15 00:00:00</td>\n",
       "      <td>1941-04-30 00:00:00</td>\n",
       "      <td>2000-05-17 00:00:00</td>\n",
       "      <td>2005-09-28 00:00:00</td>\n",
       "      <td>...</td>\n",
       "      <td>2019-12-31 00:00:00</td>\n",
       "      <td>1940-02-10 00:00:00</td>\n",
       "      <td>2017-06-01 00:00:00</td>\n",
       "      <td>NaT</td>\n",
       "      <td>NaT</td>\n",
       "      <td>2017-06-30 00:00:00</td>\n",
       "      <td>NaT</td>\n",
       "      <td>NaT</td>\n",
       "      <td>NaT</td>\n",
       "      <td>2010-10-04 00:00:00</td>\n",
       "    </tr>\n",
       "    <tr>\n",
       "      <th>revenue</th>\n",
       "      <td>4.25735e+06</td>\n",
       "      <td>1.21369e+07</td>\n",
       "      <td>NaN</td>\n",
       "      <td>7.75398e+08</td>\n",
       "      <td>9.40336e+08</td>\n",
       "      <td>6.77388e+08</td>\n",
       "      <td>3.56297e+08</td>\n",
       "      <td>2.32177e+07</td>\n",
       "      <td>4.00319e+07</td>\n",
       "      <td>NaN</td>\n",
       "      <td>...</td>\n",
       "      <td>NaN</td>\n",
       "      <td>NaN</td>\n",
       "      <td>NaN</td>\n",
       "      <td>NaN</td>\n",
       "      <td>NaN</td>\n",
       "      <td>NaN</td>\n",
       "      <td>NaN</td>\n",
       "      <td>NaN</td>\n",
       "      <td>NaN</td>\n",
       "      <td>NaN</td>\n",
       "    </tr>\n",
       "    <tr>\n",
       "      <th>runtime</th>\n",
       "      <td>98</td>\n",
       "      <td>110</td>\n",
       "      <td>80</td>\n",
       "      <td>121</td>\n",
       "      <td>100</td>\n",
       "      <td>142</td>\n",
       "      <td>122</td>\n",
       "      <td>119</td>\n",
       "      <td>141</td>\n",
       "      <td>87</td>\n",
       "      <td>...</td>\n",
       "      <td>80</td>\n",
       "      <td>NaN</td>\n",
       "      <td>NaN</td>\n",
       "      <td>144</td>\n",
       "      <td>NaN</td>\n",
       "      <td>129</td>\n",
       "      <td>75</td>\n",
       "      <td>85</td>\n",
       "      <td>75</td>\n",
       "      <td>140</td>\n",
       "    </tr>\n",
       "    <tr>\n",
       "      <th>tagline</th>\n",
       "      <td>Twelve outrageous guests. Four scandalous requ...</td>\n",
       "      <td>Don't move. Don't whisper. Don't even breathe.</td>\n",
       "      <td>A Megacities remix.</td>\n",
       "      <td>A long time ago in a galaxy far, far away...</td>\n",
       "      <td>There are 3.7 trillion fish in the ocean. They...</td>\n",
       "      <td>Life is like a box of chocolates...you never k...</td>\n",
       "      <td>Look closer.</td>\n",
       "      <td>It's terrific!</td>\n",
       "      <td>You don't need eyes to see.</td>\n",
       "      <td>One of the living for one of the dead.</td>\n",
       "      <td>...</td>\n",
       "      <td>NaN</td>\n",
       "      <td>NaN</td>\n",
       "      <td>NaN</td>\n",
       "      <td>Shakespeare's heartbreaking tale, Nureyev's bl...</td>\n",
       "      <td>NaN</td>\n",
       "      <td>NaN</td>\n",
       "      <td>NaN</td>\n",
       "      <td>Bipolar and Living</td>\n",
       "      <td>concert, punk rock, live</td>\n",
       "      <td>NaN</td>\n",
       "    </tr>\n",
       "    <tr>\n",
       "      <th>title</th>\n",
       "      <td>Four Rooms</td>\n",
       "      <td>Judgment Night</td>\n",
       "      <td>Life in Loops (A Megacities RMX)</td>\n",
       "      <td>Star Wars</td>\n",
       "      <td>Finding Nemo</td>\n",
       "      <td>Forrest Gump</td>\n",
       "      <td>American Beauty</td>\n",
       "      <td>Citizen Kane</td>\n",
       "      <td>Dancer in the Dark</td>\n",
       "      <td>The Dark</td>\n",
       "      <td>...</td>\n",
       "      <td>RECASTING SELVES</td>\n",
       "      <td>Tom &amp; Jerry</td>\n",
       "      <td>Monteverdi: L’incoronazione di Poppea - La Fenice</td>\n",
       "      <td>English National Ballet's Romeo and Juliet</td>\n",
       "      <td>Courage the Cowardly Dog</td>\n",
       "      <td>Radiohead - Rock Werchter 2017</td>\n",
       "      <td>Rising Silence</td>\n",
       "      <td>Up/Down</td>\n",
       "      <td>Sum 41 : Live at The House of Blues</td>\n",
       "      <td>The Passion Trilogy</td>\n",
       "    </tr>\n",
       "    <tr>\n",
       "      <th>vote_average</th>\n",
       "      <td>6</td>\n",
       "      <td>6.5</td>\n",
       "      <td>7.5</td>\n",
       "      <td>8.2</td>\n",
       "      <td>7.8</td>\n",
       "      <td>8.4</td>\n",
       "      <td>8</td>\n",
       "      <td>8.1</td>\n",
       "      <td>8</td>\n",
       "      <td>5.9</td>\n",
       "      <td>...</td>\n",
       "      <td>NaN</td>\n",
       "      <td>NaN</td>\n",
       "      <td>NaN</td>\n",
       "      <td>NaN</td>\n",
       "      <td>NaN</td>\n",
       "      <td>NaN</td>\n",
       "      <td>NaN</td>\n",
       "      <td>NaN</td>\n",
       "      <td>NaN</td>\n",
       "      <td>NaN</td>\n",
       "    </tr>\n",
       "    <tr>\n",
       "      <th>vote_count</th>\n",
       "      <td>1561</td>\n",
       "      <td>145</td>\n",
       "      <td>11</td>\n",
       "      <td>13502</td>\n",
       "      <td>13407</td>\n",
       "      <td>17780</td>\n",
       "      <td>7872</td>\n",
       "      <td>3018</td>\n",
       "      <td>982</td>\n",
       "      <td>164</td>\n",
       "      <td>...</td>\n",
       "      <td>NaN</td>\n",
       "      <td>NaN</td>\n",
       "      <td>NaN</td>\n",
       "      <td>NaN</td>\n",
       "      <td>NaN</td>\n",
       "      <td>NaN</td>\n",
       "      <td>NaN</td>\n",
       "      <td>NaN</td>\n",
       "      <td>NaN</td>\n",
       "      <td>NaN</td>\n",
       "    </tr>\n",
       "    <tr>\n",
       "      <th>cast</th>\n",
       "      <td>[{'cast_id': 42, 'character': 'Ted the Bellhop...</td>\n",
       "      <td>[{'cast_id': 7, 'character': 'Frank Wyatt', 'c...</td>\n",
       "      <td>[]</td>\n",
       "      <td>[{'cast_id': 3, 'character': 'Luke Skywalker',...</td>\n",
       "      <td>[{'cast_id': 8, 'character': 'Marlin (voice)',...</td>\n",
       "      <td>[{'cast_id': 7, 'character': 'Forrest Gump', '...</td>\n",
       "      <td>[{'cast_id': 6, 'character': 'Lester Burnham',...</td>\n",
       "      <td>[{'cast_id': 5, 'character': 'Charles Foster K...</td>\n",
       "      <td>[{'cast_id': 33, 'character': 'Selma Jezkova',...</td>\n",
       "      <td>[{'cast_id': 4, 'character': 'James', 'credit_...</td>\n",
       "      <td>...</td>\n",
       "      <td>[]</td>\n",
       "      <td>[]</td>\n",
       "      <td>[]</td>\n",
       "      <td>[]</td>\n",
       "      <td>[]</td>\n",
       "      <td>[{'cast_id': 1, 'character': '', 'credit_id': ...</td>\n",
       "      <td>[]</td>\n",
       "      <td>[{'cast_id': 1, 'character': '', 'credit_id': ...</td>\n",
       "      <td>[]</td>\n",
       "      <td>[]</td>\n",
       "    </tr>\n",
       "    <tr>\n",
       "      <th>crew</th>\n",
       "      <td>[{'credit_id': '52fe420dc3a36847f800012d', 'de...</td>\n",
       "      <td>[{'credit_id': '52fe420dc3a36847f800023d', 'de...</td>\n",
       "      <td>[{'credit_id': '52fe420dc3a36847f80002b5', 'de...</td>\n",
       "      <td>[{'credit_id': '5e85e7e298f1f10014ab3e74', 'de...</td>\n",
       "      <td>[{'credit_id': '52fe420ec3a36847f80006b1', 'de...</td>\n",
       "      <td>[{'credit_id': '52fe420ec3a36847f800076b', 'de...</td>\n",
       "      <td>[{'credit_id': '52fe420ec3a36847f8000809', 'de...</td>\n",
       "      <td>[{'credit_id': '52fe420ec3a36847f80008f1', 'de...</td>\n",
       "      <td>[{'credit_id': '52fe420ec3a36847f8000981', 'de...</td>\n",
       "      <td>[{'credit_id': '52fe420fc3a36847f8000a7f', 'de...</td>\n",
       "      <td>...</td>\n",
       "      <td>[{'credit_id': '5eb5767f0cb3350021ca0db0', 'de...</td>\n",
       "      <td>[]</td>\n",
       "      <td>[]</td>\n",
       "      <td>[]</td>\n",
       "      <td>[]</td>\n",
       "      <td>[]</td>\n",
       "      <td>[{'credit_id': '5eb583d1ccb15f0020883f21', 'de...</td>\n",
       "      <td>[{'credit_id': '5eb586d4ccb15f00208842ae', 'de...</td>\n",
       "      <td>[]</td>\n",
       "      <td>[{'credit_id': '5eb59491ccb15f002286ee4f', 'de...</td>\n",
       "    </tr>\n",
       "    <tr>\n",
       "      <th>reviews</th>\n",
       "      <td>[]</td>\n",
       "      <td>[]</td>\n",
       "      <td>[]</td>\n",
       "      <td>[{'author': 'Cat Ellington', 'content': '(As I...</td>\n",
       "      <td>[{'author': 'Dave09', 'content': 'One of the b...</td>\n",
       "      <td>[]</td>\n",
       "      <td>[{'author': 'Nathan John Cooper', 'content': '...</td>\n",
       "      <td>[{'author': 'Gurre', 'content': '\"The Greatest...</td>\n",
       "      <td>[]</td>\n",
       "      <td>[]</td>\n",
       "      <td>...</td>\n",
       "      <td>[]</td>\n",
       "      <td>[]</td>\n",
       "      <td>[]</td>\n",
       "      <td>[]</td>\n",
       "      <td>[]</td>\n",
       "      <td>[]</td>\n",
       "      <td>[]</td>\n",
       "      <td>[]</td>\n",
       "      <td>[]</td>\n",
       "      <td>[]</td>\n",
       "    </tr>\n",
       "  </tbody>\n",
       "</table>\n",
       "<p>16 rows × 171246 columns</p>\n",
       "</div>"
      ],
      "text/plain": [
       "                                                         0       \\\n",
       "budget                                                    4e+06   \n",
       "genres                                          [Crime, Comedy]   \n",
       "id                                                            5   \n",
       "imdb_id                                               tt0113101   \n",
       "overview      It's Ted the Bellhop's first night on the job....   \n",
       "popularity                                               13.532   \n",
       "release_date                                1995-12-09 00:00:00   \n",
       "revenue                                             4.25735e+06   \n",
       "runtime                                                      98   \n",
       "tagline       Twelve outrageous guests. Four scandalous requ...   \n",
       "title                                                Four Rooms   \n",
       "vote_average                                                  6   \n",
       "vote_count                                                 1561   \n",
       "cast          [{'cast_id': 42, 'character': 'Ted the Bellhop...   \n",
       "crew          [{'credit_id': '52fe420dc3a36847f800012d', 'de...   \n",
       "reviews                                                      []   \n",
       "\n",
       "                                                         1       \\\n",
       "budget                                                  2.1e+07   \n",
       "genres                                [Action, Thriller, Crime]   \n",
       "id                                                            6   \n",
       "imdb_id                                               tt0107286   \n",
       "overview      While racing to a boxing match, Frank, Mike, J...   \n",
       "popularity                                               11.817   \n",
       "release_date                                1993-10-15 00:00:00   \n",
       "revenue                                             1.21369e+07   \n",
       "runtime                                                     110   \n",
       "tagline          Don't move. Don't whisper. Don't even breathe.   \n",
       "title                                            Judgment Night   \n",
       "vote_average                                                6.5   \n",
       "vote_count                                                  145   \n",
       "cast          [{'cast_id': 7, 'character': 'Frank Wyatt', 'c...   \n",
       "crew          [{'credit_id': '52fe420dc3a36847f800023d', 'de...   \n",
       "reviews                                                      []   \n",
       "\n",
       "                                                         2       \\\n",
       "budget                                                    42000   \n",
       "genres                                            [Documentary]   \n",
       "id                                                            8   \n",
       "imdb_id                                               tt0825671   \n",
       "overview      Timo Novotny labels his new project an experim...   \n",
       "popularity                                                2.629   \n",
       "release_date                                2006-01-01 00:00:00   \n",
       "revenue                                                     NaN   \n",
       "runtime                                                      80   \n",
       "tagline                                     A Megacities remix.   \n",
       "title                          Life in Loops (A Megacities RMX)   \n",
       "vote_average                                                7.5   \n",
       "vote_count                                                   11   \n",
       "cast                                                         []   \n",
       "crew          [{'credit_id': '52fe420dc3a36847f80002b5', 'de...   \n",
       "reviews                                                      []   \n",
       "\n",
       "                                                         3       \\\n",
       "budget                                                  1.1e+07   \n",
       "genres                     [Adventure, Action, Science Fiction]   \n",
       "id                                                           11   \n",
       "imdb_id                                               tt0076759   \n",
       "overview      Princess Leia is captured and held hostage by ...   \n",
       "popularity                                               90.645   \n",
       "release_date                                1977-05-25 00:00:00   \n",
       "revenue                                             7.75398e+08   \n",
       "runtime                                                     121   \n",
       "tagline            A long time ago in a galaxy far, far away...   \n",
       "title                                                 Star Wars   \n",
       "vote_average                                                8.2   \n",
       "vote_count                                                13502   \n",
       "cast          [{'cast_id': 3, 'character': 'Luke Skywalker',...   \n",
       "crew          [{'credit_id': '5e85e7e298f1f10014ab3e74', 'de...   \n",
       "reviews       [{'author': 'Cat Ellington', 'content': '(As I...   \n",
       "\n",
       "                                                         4       \\\n",
       "budget                                                  9.4e+07   \n",
       "genres                                      [Animation, Family]   \n",
       "id                                                           12   \n",
       "imdb_id                                               tt0266543   \n",
       "overview      Nemo, an adventurous young clownfish, is unexp...   \n",
       "popularity                                               33.313   \n",
       "release_date                                2003-05-30 00:00:00   \n",
       "revenue                                             9.40336e+08   \n",
       "runtime                                                     100   \n",
       "tagline       There are 3.7 trillion fish in the ocean. They...   \n",
       "title                                              Finding Nemo   \n",
       "vote_average                                                7.8   \n",
       "vote_count                                                13407   \n",
       "cast          [{'cast_id': 8, 'character': 'Marlin (voice)',...   \n",
       "crew          [{'credit_id': '52fe420ec3a36847f80006b1', 'de...   \n",
       "reviews       [{'author': 'Dave09', 'content': 'One of the b...   \n",
       "\n",
       "                                                         5       \\\n",
       "budget                                                  5.5e+07   \n",
       "genres                                 [Comedy, Drama, Romance]   \n",
       "id                                                           13   \n",
       "imdb_id                                               tt0109830   \n",
       "overview      A man with a low IQ has accomplished great thi...   \n",
       "popularity                                               33.781   \n",
       "release_date                                1994-07-06 00:00:00   \n",
       "revenue                                             6.77388e+08   \n",
       "runtime                                                     142   \n",
       "tagline       Life is like a box of chocolates...you never k...   \n",
       "title                                              Forrest Gump   \n",
       "vote_average                                                8.4   \n",
       "vote_count                                                17780   \n",
       "cast          [{'cast_id': 7, 'character': 'Forrest Gump', '...   \n",
       "crew          [{'credit_id': '52fe420ec3a36847f800076b', 'de...   \n",
       "reviews                                                      []   \n",
       "\n",
       "                                                         6       \\\n",
       "budget                                                  1.5e+07   \n",
       "genres                                                  [Drama]   \n",
       "id                                                           14   \n",
       "imdb_id                                               tt0169547   \n",
       "overview      Lester Burnham, a depressed suburban father in...   \n",
       "popularity                                               23.513   \n",
       "release_date                                1999-09-15 00:00:00   \n",
       "revenue                                             3.56297e+08   \n",
       "runtime                                                     122   \n",
       "tagline                                            Look closer.   \n",
       "title                                           American Beauty   \n",
       "vote_average                                                  8   \n",
       "vote_count                                                 7872   \n",
       "cast          [{'cast_id': 6, 'character': 'Lester Burnham',...   \n",
       "crew          [{'credit_id': '52fe420ec3a36847f8000809', 'de...   \n",
       "reviews       [{'author': 'Nathan John Cooper', 'content': '...   \n",
       "\n",
       "                                                         7       \\\n",
       "budget                                                   839727   \n",
       "genres                                         [Mystery, Drama]   \n",
       "id                                                           15   \n",
       "imdb_id                                               tt0033467   \n",
       "overview      Newspaper magnate, Charles Foster Kane is take...   \n",
       "popularity                                               18.872   \n",
       "release_date                                1941-04-30 00:00:00   \n",
       "revenue                                             2.32177e+07   \n",
       "runtime                                                     119   \n",
       "tagline                                          It's terrific!   \n",
       "title                                              Citizen Kane   \n",
       "vote_average                                                8.1   \n",
       "vote_count                                                 3018   \n",
       "cast          [{'cast_id': 5, 'character': 'Charles Foster K...   \n",
       "crew          [{'credit_id': '52fe420ec3a36847f80008f1', 'de...   \n",
       "reviews       [{'author': 'Gurre', 'content': '\"The Greatest...   \n",
       "\n",
       "                                                         8       \\\n",
       "budget                                                 1.28e+07   \n",
       "genres                                           [Drama, Crime]   \n",
       "id                                                           16   \n",
       "imdb_id                                               tt0168629   \n",
       "overview      Selma, a Czech immigrant on the verge of blind...   \n",
       "popularity                                               16.037   \n",
       "release_date                                2000-05-17 00:00:00   \n",
       "revenue                                             4.00319e+07   \n",
       "runtime                                                     141   \n",
       "tagline                             You don't need eyes to see.   \n",
       "title                                        Dancer in the Dark   \n",
       "vote_average                                                  8   \n",
       "vote_count                                                  982   \n",
       "cast          [{'cast_id': 33, 'character': 'Selma Jezkova',...   \n",
       "crew          [{'credit_id': '52fe420ec3a36847f8000981', 'de...   \n",
       "reviews                                                      []   \n",
       "\n",
       "                                                         9       ...  \\\n",
       "budget                                                      NaN  ...   \n",
       "genres                              [Horror, Thriller, Mystery]  ...   \n",
       "id                                                           17  ...   \n",
       "imdb_id                                               tt0411267  ...   \n",
       "overview      Adèle and her daughter Sarah are traveling on ...  ...   \n",
       "popularity                                                6.766  ...   \n",
       "release_date                                2005-09-28 00:00:00  ...   \n",
       "revenue                                                     NaN  ...   \n",
       "runtime                                                      87  ...   \n",
       "tagline                  One of the living for one of the dead.  ...   \n",
       "title                                                  The Dark  ...   \n",
       "vote_average                                                5.9  ...   \n",
       "vote_count                                                  164  ...   \n",
       "cast          [{'cast_id': 4, 'character': 'James', 'credit_...  ...   \n",
       "crew          [{'credit_id': '52fe420fc3a36847f8000a7f', 'de...  ...   \n",
       "reviews                                                      []  ...   \n",
       "\n",
       "                                                         171236  \\\n",
       "budget                                                      NaN   \n",
       "genres                                            [Documentary]   \n",
       "id                                                       701689   \n",
       "imdb_id                                                     NaN   \n",
       "overview      Set at CREST (the Centre for Research and Educ...   \n",
       "popularity                                                  NaN   \n",
       "release_date                                2019-12-31 00:00:00   \n",
       "revenue                                                     NaN   \n",
       "runtime                                                      80   \n",
       "tagline                                                     NaN   \n",
       "title                                          RECASTING SELVES   \n",
       "vote_average                                                NaN   \n",
       "vote_count                                                  NaN   \n",
       "cast                                                         []   \n",
       "crew          [{'credit_id': '5eb5767f0cb3350021ca0db0', 'de...   \n",
       "reviews                                                      []   \n",
       "\n",
       "                                                         171237  \\\n",
       "budget                                                      NaN   \n",
       "genres                                                       []   \n",
       "id                                                       701692   \n",
       "imdb_id                                                     NaN   \n",
       "overview      Tom and Jerry is an American animated franchis...   \n",
       "popularity                                                  NaN   \n",
       "release_date                                1940-02-10 00:00:00   \n",
       "revenue                                                     NaN   \n",
       "runtime                                                     NaN   \n",
       "tagline                                                     NaN   \n",
       "title                                               Tom & Jerry   \n",
       "vote_average                                                NaN   \n",
       "vote_count                                                  NaN   \n",
       "cast                                                         []   \n",
       "crew                                                         []   \n",
       "reviews                                                      []   \n",
       "\n",
       "                                                         171238  \\\n",
       "budget                                                      NaN   \n",
       "genres                                                       []   \n",
       "id                                                       701695   \n",
       "imdb_id                                                     NaN   \n",
       "overview      This full concert broadcast comes from our 201...   \n",
       "popularity                                                  NaN   \n",
       "release_date                                2017-06-01 00:00:00   \n",
       "revenue                                                     NaN   \n",
       "runtime                                                     NaN   \n",
       "tagline                                                     NaN   \n",
       "title         Monteverdi: L’incoronazione di Poppea - La Fenice   \n",
       "vote_average                                                NaN   \n",
       "vote_count                                                  NaN   \n",
       "cast                                                         []   \n",
       "crew                                                         []   \n",
       "reviews                                                      []   \n",
       "\n",
       "                                                         171239  \\\n",
       "budget                                                      NaN   \n",
       "genres                                                       []   \n",
       "id                                                       701702   \n",
       "imdb_id                                                     NaN   \n",
       "overview      Shakespeare's heartbreaking tale, Nureyev's bl...   \n",
       "popularity                                                  NaN   \n",
       "release_date                                                NaT   \n",
       "revenue                                                     NaN   \n",
       "runtime                                                     144   \n",
       "tagline       Shakespeare's heartbreaking tale, Nureyev's bl...   \n",
       "title                English National Ballet's Romeo and Juliet   \n",
       "vote_average                                                NaN   \n",
       "vote_count                                                  NaN   \n",
       "cast                                                         []   \n",
       "crew                                                         []   \n",
       "reviews                                                      []   \n",
       "\n",
       "                                                         171240  \\\n",
       "budget                                                      NaN   \n",
       "genres                                                       []   \n",
       "id                                                       701705   \n",
       "imdb_id                                                     NaN   \n",
       "overview      Courage the Cowardly Dog is an American animat...   \n",
       "popularity                                                  NaN   \n",
       "release_date                                                NaT   \n",
       "revenue                                                     NaN   \n",
       "runtime                                                     NaN   \n",
       "tagline                                                     NaN   \n",
       "title                                  Courage the Cowardly Dog   \n",
       "vote_average                                                NaN   \n",
       "vote_count                                                  NaN   \n",
       "cast                                                         []   \n",
       "crew                                                         []   \n",
       "reviews                                                      []   \n",
       "\n",
       "                                                         171241  \\\n",
       "budget                                                      NaN   \n",
       "genres                                                  [Music]   \n",
       "id                                                       701706   \n",
       "imdb_id                                                     NaN   \n",
       "overview      Radiohead's set from June 30, 2017 at the Rock...   \n",
       "popularity                                                  NaN   \n",
       "release_date                                2017-06-30 00:00:00   \n",
       "revenue                                                     NaN   \n",
       "runtime                                                     129   \n",
       "tagline                                                     NaN   \n",
       "title                            Radiohead - Rock Werchter 2017   \n",
       "vote_average                                                NaN   \n",
       "vote_count                                                  NaN   \n",
       "cast          [{'cast_id': 1, 'character': '', 'credit_id': ...   \n",
       "crew                                                         []   \n",
       "reviews                                                      []   \n",
       "\n",
       "                                                         171242  \\\n",
       "budget                                                      NaN   \n",
       "genres                                                       []   \n",
       "id                                                       701707   \n",
       "imdb_id                                                     NaN   \n",
       "overview      ‘Rising Silence’ is a journey of relationships...   \n",
       "popularity                                                  NaN   \n",
       "release_date                                                NaT   \n",
       "revenue                                                     NaN   \n",
       "runtime                                                      75   \n",
       "tagline                                                     NaN   \n",
       "title                                            Rising Silence   \n",
       "vote_average                                                NaN   \n",
       "vote_count                                                  NaN   \n",
       "cast                                                         []   \n",
       "crew          [{'credit_id': '5eb583d1ccb15f0020883f21', 'de...   \n",
       "reviews                                                      []   \n",
       "\n",
       "                                                         171243  \\\n",
       "budget                                                      NaN   \n",
       "genres                                            [Documentary]   \n",
       "id                                                       701710   \n",
       "imdb_id                                               tt1821695   \n",
       "overview      There are approximately 5.7 million people in ...   \n",
       "popularity                                                  NaN   \n",
       "release_date                                                NaT   \n",
       "revenue                                                     NaN   \n",
       "runtime                                                      85   \n",
       "tagline                                      Bipolar and Living   \n",
       "title                                                   Up/Down   \n",
       "vote_average                                                NaN   \n",
       "vote_count                                                  NaN   \n",
       "cast          [{'cast_id': 1, 'character': '', 'credit_id': ...   \n",
       "crew          [{'credit_id': '5eb586d4ccb15f00208842ae', 'de...   \n",
       "reviews                                                      []   \n",
       "\n",
       "                                                         171244  \\\n",
       "budget                                                      NaN   \n",
       "genres                                                       []   \n",
       "id                                                       701714   \n",
       "imdb_id                                                     NaN   \n",
       "overview      SUM 41 performs live at The House of Blues, Cl...   \n",
       "popularity                                                  NaN   \n",
       "release_date                                                NaT   \n",
       "revenue                                                     NaN   \n",
       "runtime                                                      75   \n",
       "tagline                                concert, punk rock, live   \n",
       "title                       Sum 41 : Live at The House of Blues   \n",
       "vote_average                                                NaN   \n",
       "vote_count                                                  NaN   \n",
       "cast                                                         []   \n",
       "crew                                                         []   \n",
       "reviews                                                      []   \n",
       "\n",
       "                                                         171245  \n",
       "budget                                                      NaN  \n",
       "genres                                                       []  \n",
       "id                                                       701729  \n",
       "imdb_id                                                     NaN  \n",
       "overview      A tantalising trio of cult lesbian movies from...  \n",
       "popularity                                                  NaN  \n",
       "release_date                                2010-10-04 00:00:00  \n",
       "revenue                                                     NaN  \n",
       "runtime                                                     140  \n",
       "tagline                                                     NaN  \n",
       "title                                       The Passion Trilogy  \n",
       "vote_average                                                NaN  \n",
       "vote_count                                                  NaN  \n",
       "cast                                                         []  \n",
       "crew          [{'credit_id': '5eb59491ccb15f002286ee4f', 'de...  \n",
       "reviews                                                      []  \n",
       "\n",
       "[16 rows x 171246 columns]"
      ]
     },
     "execution_count": 61,
     "metadata": {},
     "output_type": "execute_result"
    }
   ],
   "source": [
    "# extract results lists from reviews column\n",
    "df = pd.concat([df, pd.json_normalize(df['reviews'])['results']], \n",
    "          axis=1).drop(['reviews'], axis=1).rename(columns={'results':'reviews'})\n",
    "df.transpose()"
   ]
  },
  {
   "cell_type": "code",
   "execution_count": 62,
   "metadata": {},
   "outputs": [
    {
     "data": {
      "text/plain": [
       "164479"
      ]
     },
     "execution_count": 62,
     "metadata": {},
     "output_type": "execute_result"
    }
   ],
   "source": [
    "# count empty lists\n",
    "df['reviews'].str.len().eq(0).sum()"
   ]
  },
  {
   "cell_type": "code",
   "execution_count": 63,
   "metadata": {
    "scrolled": false
   },
   "outputs": [
    {
     "name": "stdout",
     "output_type": "stream",
     "text": [
      "<class 'pandas.core.frame.DataFrame'>\n",
      "RangeIndex: 171246 entries, 0 to 171245\n",
      "Data columns (total 16 columns):\n",
      " #   Column        Non-Null Count   Dtype         \n",
      "---  ------        --------------   -----         \n",
      " 0   budget        13635 non-null   float64       \n",
      " 1   genres        171246 non-null  object        \n",
      " 2   id            171246 non-null  float64       \n",
      " 3   imdb_id       129045 non-null  object        \n",
      " 4   overview      167715 non-null  object        \n",
      " 5   popularity    171198 non-null  float64       \n",
      " 6   release_date  152368 non-null  datetime64[ns]\n",
      " 7   revenue       8309 non-null    float64       \n",
      " 8   runtime       120310 non-null  float64       \n",
      " 9   tagline       46123 non-null   object        \n",
      " 10  title         171246 non-null  object        \n",
      " 11  vote_average  81872 non-null   float64       \n",
      " 12  vote_count    82029 non-null   float64       \n",
      " 13  cast          171246 non-null  object        \n",
      " 14  crew          171246 non-null  object        \n",
      " 15  reviews       171246 non-null  object        \n",
      "dtypes: datetime64[ns](1), float64(7), object(8)\n",
      "memory usage: 20.9+ MB\n"
     ]
    }
   ],
   "source": [
    "# inspect to verify DataFrame is clean\n",
    "df.info()"
   ]
  },
  {
   "cell_type": "markdown",
   "metadata": {},
   "source": [
    "The only two categories without missing values are id and title, which I can use to match with other datasets.<br>\n",
    "I may need to use data in all of the other columns.<br>\n",
    "I will attempt to fill some of those missing values by leveraging other datasets in a separate notebook.<br>\n",
    "If I need to drop them later, I will do so. For now, I'll accept fewer observations for maximaizing features."
   ]
  },
  {
   "cell_type": "code",
   "execution_count": 64,
   "metadata": {},
   "outputs": [],
   "source": [
    "# store clean data in JSON\n",
    "df.to_json('tmdb_movie_clean.json')"
   ]
  }
 ],
 "metadata": {
  "kernelspec": {
   "display_name": "Python 3",
   "language": "python",
   "name": "python3"
  },
  "language_info": {
   "codemirror_mode": {
    "name": "ipython",
    "version": 3
   },
   "file_extension": ".py",
   "mimetype": "text/x-python",
   "name": "python",
   "nbconvert_exporter": "python",
   "pygments_lexer": "ipython3",
   "version": "3.7.7"
  }
 },
 "nbformat": 4,
 "nbformat_minor": 4
}
