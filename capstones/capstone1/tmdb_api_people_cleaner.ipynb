{
 "cells": [
  {
   "cell_type": "code",
   "execution_count": 1,
   "metadata": {},
   "outputs": [],
   "source": [
    "import pandas as pd\n",
    "import numpy as np\n",
    "import json"
   ]
  },
  {
   "cell_type": "code",
   "execution_count": 2,
   "metadata": {},
   "outputs": [
    {
     "name": "stdout",
     "output_type": "stream",
     "text": [
      "<class 'pandas.core.frame.DataFrame'>\n",
      "Int64Index: 100000 entries, 0 to 99999\n",
      "Data columns (total 14 columns):\n",
      " #   Column                Non-Null Count  Dtype  \n",
      "---  ------                --------------  -----  \n",
      " 0   birthday              36541 non-null  object \n",
      " 1   known_for_department  84356 non-null  object \n",
      " 2   deathday              12317 non-null  object \n",
      " 3   id                    84367 non-null  float64\n",
      " 4   name                  84367 non-null  object \n",
      " 5   also_known_as         84367 non-null  object \n",
      " 6   gender                84367 non-null  float64\n",
      " 7   biography             84367 non-null  object \n",
      " 8   popularity            84367 non-null  float64\n",
      " 9   place_of_birth        30895 non-null  object \n",
      " 10  profile_path          20826 non-null  object \n",
      " 11  adult                 84367 non-null  float64\n",
      " 12  imdb_id               84367 non-null  object \n",
      " 13  homepage              3667 non-null   object \n",
      "dtypes: float64(4), object(10)\n",
      "memory usage: 11.4+ MB\n"
     ]
    }
   ],
   "source": [
    "# read in JSON as DataFrame\n",
    "df = pd.read_json('tmdb_person_100k.json')\n",
    "df.info()"
   ]
  },
  {
   "cell_type": "code",
   "execution_count": 3,
   "metadata": {},
   "outputs": [
    {
     "data": {
      "text/html": [
       "<div>\n",
       "<style scoped>\n",
       "    .dataframe tbody tr th:only-of-type {\n",
       "        vertical-align: middle;\n",
       "    }\n",
       "\n",
       "    .dataframe tbody tr th {\n",
       "        vertical-align: top;\n",
       "    }\n",
       "\n",
       "    .dataframe thead th {\n",
       "        text-align: right;\n",
       "    }\n",
       "</style>\n",
       "<table border=\"1\" class=\"dataframe\">\n",
       "  <thead>\n",
       "    <tr style=\"text-align: right;\">\n",
       "      <th></th>\n",
       "      <th>0</th>\n",
       "      <th>1</th>\n",
       "      <th>2</th>\n",
       "      <th>3</th>\n",
       "      <th>4</th>\n",
       "    </tr>\n",
       "  </thead>\n",
       "  <tbody>\n",
       "    <tr>\n",
       "      <th>birthday</th>\n",
       "      <td>1944-05-14</td>\n",
       "      <td>1951-09-25</td>\n",
       "      <td>1942-07-13</td>\n",
       "      <td>1956-10-21</td>\n",
       "      <td>1913-05-26</td>\n",
       "    </tr>\n",
       "    <tr>\n",
       "      <th>known_for_department</th>\n",
       "      <td>Directing</td>\n",
       "      <td>Acting</td>\n",
       "      <td>Acting</td>\n",
       "      <td>Acting</td>\n",
       "      <td>Acting</td>\n",
       "    </tr>\n",
       "    <tr>\n",
       "      <th>deathday</th>\n",
       "      <td>None</td>\n",
       "      <td>None</td>\n",
       "      <td>None</td>\n",
       "      <td>2016-12-27</td>\n",
       "      <td>1994-08-11</td>\n",
       "    </tr>\n",
       "    <tr>\n",
       "      <th>id</th>\n",
       "      <td>1</td>\n",
       "      <td>2</td>\n",
       "      <td>3</td>\n",
       "      <td>4</td>\n",
       "      <td>5</td>\n",
       "    </tr>\n",
       "    <tr>\n",
       "      <th>name</th>\n",
       "      <td>George Lucas</td>\n",
       "      <td>Mark Hamill</td>\n",
       "      <td>Harrison Ford</td>\n",
       "      <td>Carrie Fisher</td>\n",
       "      <td>Peter Cushing</td>\n",
       "    </tr>\n",
       "    <tr>\n",
       "      <th>also_known_as</th>\n",
       "      <td>[George Walton Lucas Jr. , 乔治·卢卡斯, Джордж Лука...</td>\n",
       "      <td>[Mark Hamil, Mark Richard Hamill, Марк Хэмилл,...</td>\n",
       "      <td>[Гаррісон Форд, Харрисон Форд, هاريسون فورد, 해...</td>\n",
       "      <td>[Carrie Frances Fisher , Кэрри Фишер, Кэрри Фр...</td>\n",
       "      <td>[Peter Wilton Cushing]</td>\n",
       "    </tr>\n",
       "    <tr>\n",
       "      <th>gender</th>\n",
       "      <td>2</td>\n",
       "      <td>2</td>\n",
       "      <td>2</td>\n",
       "      <td>1</td>\n",
       "      <td>2</td>\n",
       "    </tr>\n",
       "    <tr>\n",
       "      <th>biography</th>\n",
       "      <td>George Walton Lucas Jr. (born May 14, 1944) is...</td>\n",
       "      <td>Mark Richard Hamill (born September 25, 1951) ...</td>\n",
       "      <td>Legendary Hollywood Icon Harrison Ford was bor...</td>\n",
       "      <td>Carrie Frances Fisher (21 October 1956 - 27 De...</td>\n",
       "      <td>Peter Wilton Cushing, OBE  (26 May 1913 – 11 A...</td>\n",
       "    </tr>\n",
       "    <tr>\n",
       "      <th>popularity</th>\n",
       "      <td>6.761</td>\n",
       "      <td>10.497</td>\n",
       "      <td>20.349</td>\n",
       "      <td>7.228</td>\n",
       "      <td>3.902</td>\n",
       "    </tr>\n",
       "    <tr>\n",
       "      <th>place_of_birth</th>\n",
       "      <td>Modesto, California, USA</td>\n",
       "      <td>Concord, California, USA</td>\n",
       "      <td>Chicago, Illinois, USA</td>\n",
       "      <td>Beverly Hills, Los Angeles, California, USA</td>\n",
       "      <td>Kenley, Surrey, England, UK</td>\n",
       "    </tr>\n",
       "    <tr>\n",
       "      <th>profile_path</th>\n",
       "      <td>/mDLDvsx8PaZoEThkBdyaG1JxPdf.jpg</td>\n",
       "      <td>/fk8OfdReNltKZqOk2TZgkofCUFq.jpg</td>\n",
       "      <td>/5M7oN3sznp99hWYQ9sX0xheswWX.jpg</td>\n",
       "      <td>/rfJtncHewKVnHjqpIZvjn24ESeC.jpg</td>\n",
       "      <td>/1qtKVu16REL2YLVrhayjVey4al.jpg</td>\n",
       "    </tr>\n",
       "    <tr>\n",
       "      <th>adult</th>\n",
       "      <td>0</td>\n",
       "      <td>0</td>\n",
       "      <td>0</td>\n",
       "      <td>0</td>\n",
       "      <td>0</td>\n",
       "    </tr>\n",
       "    <tr>\n",
       "      <th>imdb_id</th>\n",
       "      <td>nm0000184</td>\n",
       "      <td>nm0000434</td>\n",
       "      <td>nm0000148</td>\n",
       "      <td>nm0000402</td>\n",
       "      <td>nm0001088</td>\n",
       "    </tr>\n",
       "    <tr>\n",
       "      <th>homepage</th>\n",
       "      <td>None</td>\n",
       "      <td>None</td>\n",
       "      <td>None</td>\n",
       "      <td>https://carriefisher.com/</td>\n",
       "      <td>None</td>\n",
       "    </tr>\n",
       "  </tbody>\n",
       "</table>\n",
       "</div>"
      ],
      "text/plain": [
       "                                                                      0  \\\n",
       "birthday                                                     1944-05-14   \n",
       "known_for_department                                          Directing   \n",
       "deathday                                                           None   \n",
       "id                                                                    1   \n",
       "name                                                       George Lucas   \n",
       "also_known_as         [George Walton Lucas Jr. , 乔治·卢卡斯, Джордж Лука...   \n",
       "gender                                                                2   \n",
       "biography             George Walton Lucas Jr. (born May 14, 1944) is...   \n",
       "popularity                                                        6.761   \n",
       "place_of_birth                                 Modesto, California, USA   \n",
       "profile_path                           /mDLDvsx8PaZoEThkBdyaG1JxPdf.jpg   \n",
       "adult                                                                 0   \n",
       "imdb_id                                                       nm0000184   \n",
       "homepage                                                           None   \n",
       "\n",
       "                                                                      1  \\\n",
       "birthday                                                     1951-09-25   \n",
       "known_for_department                                             Acting   \n",
       "deathday                                                           None   \n",
       "id                                                                    2   \n",
       "name                                                        Mark Hamill   \n",
       "also_known_as         [Mark Hamil, Mark Richard Hamill, Марк Хэмилл,...   \n",
       "gender                                                                2   \n",
       "biography             Mark Richard Hamill (born September 25, 1951) ...   \n",
       "popularity                                                       10.497   \n",
       "place_of_birth                                 Concord, California, USA   \n",
       "profile_path                           /fk8OfdReNltKZqOk2TZgkofCUFq.jpg   \n",
       "adult                                                                 0   \n",
       "imdb_id                                                       nm0000434   \n",
       "homepage                                                           None   \n",
       "\n",
       "                                                                      2  \\\n",
       "birthday                                                     1942-07-13   \n",
       "known_for_department                                             Acting   \n",
       "deathday                                                           None   \n",
       "id                                                                    3   \n",
       "name                                                      Harrison Ford   \n",
       "also_known_as         [Гаррісон Форд, Харрисон Форд, هاريسون فورد, 해...   \n",
       "gender                                                                2   \n",
       "biography             Legendary Hollywood Icon Harrison Ford was bor...   \n",
       "popularity                                                       20.349   \n",
       "place_of_birth                                   Chicago, Illinois, USA   \n",
       "profile_path                           /5M7oN3sznp99hWYQ9sX0xheswWX.jpg   \n",
       "adult                                                                 0   \n",
       "imdb_id                                                       nm0000148   \n",
       "homepage                                                           None   \n",
       "\n",
       "                                                                      3  \\\n",
       "birthday                                                     1956-10-21   \n",
       "known_for_department                                             Acting   \n",
       "deathday                                                     2016-12-27   \n",
       "id                                                                    4   \n",
       "name                                                      Carrie Fisher   \n",
       "also_known_as         [Carrie Frances Fisher , Кэрри Фишер, Кэрри Фр...   \n",
       "gender                                                                1   \n",
       "biography             Carrie Frances Fisher (21 October 1956 - 27 De...   \n",
       "popularity                                                        7.228   \n",
       "place_of_birth              Beverly Hills, Los Angeles, California, USA   \n",
       "profile_path                           /rfJtncHewKVnHjqpIZvjn24ESeC.jpg   \n",
       "adult                                                                 0   \n",
       "imdb_id                                                       nm0000402   \n",
       "homepage                                      https://carriefisher.com/   \n",
       "\n",
       "                                                                      4  \n",
       "birthday                                                     1913-05-26  \n",
       "known_for_department                                             Acting  \n",
       "deathday                                                     1994-08-11  \n",
       "id                                                                    5  \n",
       "name                                                      Peter Cushing  \n",
       "also_known_as                                    [Peter Wilton Cushing]  \n",
       "gender                                                                2  \n",
       "biography             Peter Wilton Cushing, OBE  (26 May 1913 – 11 A...  \n",
       "popularity                                                        3.902  \n",
       "place_of_birth                              Kenley, Surrey, England, UK  \n",
       "profile_path                            /1qtKVu16REL2YLVrhayjVey4al.jpg  \n",
       "adult                                                                 0  \n",
       "imdb_id                                                       nm0001088  \n",
       "homepage                                                           None  "
      ]
     },
     "execution_count": 3,
     "metadata": {},
     "output_type": "execute_result"
    }
   ],
   "source": [
    "# look at DataFrame\n",
    "df.head().transpose()"
   ]
  },
  {
   "cell_type": "code",
   "execution_count": 4,
   "metadata": {},
   "outputs": [
    {
     "data": {
      "text/plain": [
       "100000"
      ]
     },
     "execution_count": 4,
     "metadata": {},
     "output_type": "execute_result"
    }
   ],
   "source": [
    "# store number of original entries\n",
    "STARTING_ROWS = df.shape[0]\n",
    "STARTING_ROWS"
   ]
  },
  {
   "cell_type": "code",
   "execution_count": 5,
   "metadata": {},
   "outputs": [],
   "source": [
    "before_dropped = 0\n",
    "def rows_dropped():\n",
    "    \"\"\"Returns the number of rows dropped and rows left since last call\"\"\"\n",
    "    global before_dropped\n",
    "    just_dropped = STARTING_ROWS - before_dropped - df.shape[0]\n",
    "    # adjusts number of row dropped since last call\n",
    "    before_dropped += just_dropped\n",
    "    return (f'{just_dropped} row(s) just dropped.'\\\n",
    "        f' {df.shape[0]} row(s) left.')"
   ]
  },
  {
   "cell_type": "markdown",
   "metadata": {},
   "source": [
    "> **EMPTY ROWS**"
   ]
  },
  {
   "cell_type": "code",
   "execution_count": 6,
   "metadata": {},
   "outputs": [
    {
     "data": {
      "text/plain": [
       "'15633 row(s) just dropped. 84367 row(s) left.'"
      ]
     },
     "execution_count": 6,
     "metadata": {},
     "output_type": "execute_result"
    }
   ],
   "source": [
    "# drop all rows with no values\n",
    "df.dropna(how='all', inplace=True)\n",
    "rows_dropped()"
   ]
  },
  {
   "cell_type": "markdown",
   "metadata": {},
   "source": [
    "> **ADULT**"
   ]
  },
  {
   "cell_type": "code",
   "execution_count": 7,
   "metadata": {},
   "outputs": [
    {
     "data": {
      "text/plain": [
       "<class 'float'>    84367\n",
       "Name: adult, dtype: int64"
      ]
     },
     "execution_count": 7,
     "metadata": {},
     "output_type": "execute_result"
    }
   ],
   "source": [
    "# check data types\n",
    "df['adult'].apply(type).value_counts()"
   ]
  },
  {
   "cell_type": "markdown",
   "metadata": {},
   "source": [
    "These are the same data type."
   ]
  },
  {
   "cell_type": "code",
   "execution_count": 8,
   "metadata": {},
   "outputs": [
    {
     "data": {
      "text/plain": [
       "0.0    83758\n",
       "1.0      609\n",
       "Name: adult, dtype: int64"
      ]
     },
     "execution_count": 8,
     "metadata": {},
     "output_type": "execute_result"
    }
   ],
   "source": [
    "# look at the adult labels\n",
    "df.adult.value_counts()"
   ]
  },
  {
   "cell_type": "markdown",
   "metadata": {},
   "source": [
    "This column looks clean. Let's keep it \"clean\"."
   ]
  },
  {
   "cell_type": "code",
   "execution_count": 9,
   "metadata": {},
   "outputs": [
    {
     "data": {
      "text/plain": [
       "'609 row(s) just dropped. 83758 row(s) left.'"
      ]
     },
     "execution_count": 9,
     "metadata": {},
     "output_type": "execute_result"
    }
   ],
   "source": [
    "# drop rows for adult movies\n",
    "df.drop(df[df['adult'] == True].index, inplace=True)\n",
    "rows_dropped()"
   ]
  },
  {
   "cell_type": "markdown",
   "metadata": {},
   "source": [
    "> **FEATURE SELECTION**"
   ]
  },
  {
   "cell_type": "markdown",
   "metadata": {},
   "source": [
    "Now that the adult movies are gone, I don't need that feature. I'll drop a few others, also."
   ]
  },
  {
   "cell_type": "code",
   "execution_count": 10,
   "metadata": {},
   "outputs": [
    {
     "data": {
      "text/plain": [
       "(83758, 9)"
      ]
     },
     "execution_count": 10,
     "metadata": {},
     "output_type": "execute_result"
    }
   ],
   "source": [
    "# drop features not needed\n",
    "df.drop(['deathday', 'also_known_as', 'profile_path', 'adult', 'homepage'], axis=1, inplace=True)\n",
    "df.shape"
   ]
  },
  {
   "cell_type": "markdown",
   "metadata": {},
   "source": [
    "> **ZERO VALUES**"
   ]
  },
  {
   "cell_type": "code",
   "execution_count": 11,
   "metadata": {},
   "outputs": [
    {
     "data": {
      "text/plain": [
       "birthday                    0\n",
       "known_for_department        0\n",
       "id                          0\n",
       "name                        0\n",
       "gender                  36961\n",
       "biography                   0\n",
       "popularity                  0\n",
       "place_of_birth              0\n",
       "imdb_id                     0\n",
       "dtype: int64"
      ]
     },
     "execution_count": 11,
     "metadata": {},
     "output_type": "execute_result"
    }
   ],
   "source": [
    "# check if missing data is disguised as 0\n",
    "df.isin([0]).sum()"
   ]
  },
  {
   "cell_type": "markdown",
   "metadata": {},
   "source": [
    "This looks good, except for gender. I'll look at that later."
   ]
  },
  {
   "cell_type": "markdown",
   "metadata": {},
   "source": [
    "> **BIRTHDAY**"
   ]
  },
  {
   "cell_type": "code",
   "execution_count": 12,
   "metadata": {},
   "outputs": [
    {
     "data": {
      "text/plain": [
       "<class 'NoneType'>    47497\n",
       "<class 'str'>         36261\n",
       "Name: birthday, dtype: int64"
      ]
     },
     "execution_count": 12,
     "metadata": {},
     "output_type": "execute_result"
    }
   ],
   "source": [
    "# check data types\n",
    "df['birthday'].apply(type).value_counts()"
   ]
  },
  {
   "cell_type": "code",
   "execution_count": 13,
   "metadata": {},
   "outputs": [
    {
     "data": {
      "text/plain": [
       "<class 'float'>    47497\n",
       "<class 'str'>      36261\n",
       "Name: birthday, dtype: int64"
      ]
     },
     "execution_count": 13,
     "metadata": {},
     "output_type": "execute_result"
    }
   ],
   "source": [
    "# convert None types to NaN\n",
    "df['birthday'] = df['birthday'].replace([None], np.NaN)\n",
    "df['birthday'].apply(type).value_counts()"
   ]
  },
  {
   "cell_type": "markdown",
   "metadata": {},
   "source": [
    "All values are strings."
   ]
  },
  {
   "cell_type": "code",
   "execution_count": 14,
   "metadata": {},
   "outputs": [
    {
     "data": {
      "text/plain": [
       "<class 'pandas._libs.tslibs.nattype.NaTType'>         47500\n",
       "<class 'pandas._libs.tslibs.timestamps.Timestamp'>    36258\n",
       "Name: birthday, dtype: int64"
      ]
     },
     "execution_count": 14,
     "metadata": {},
     "output_type": "execute_result"
    }
   ],
   "source": [
    "# convert birthday to datetime objects\n",
    "df['birthday'] = pd.to_datetime(df['birthday'], errors='coerce')\n",
    "df['birthday'].apply(type).value_counts()"
   ]
  },
  {
   "cell_type": "markdown",
   "metadata": {},
   "source": [
    "Birthdays that were out of range were converted to NaT."
   ]
  },
  {
   "cell_type": "markdown",
   "metadata": {},
   "source": [
    "> **KNOWN FOR DEPARTMENT**"
   ]
  },
  {
   "cell_type": "code",
   "execution_count": 15,
   "metadata": {},
   "outputs": [
    {
     "data": {
      "text/plain": [
       "<class 'str'>         83747\n",
       "<class 'NoneType'>       11\n",
       "Name: known_for_department, dtype: int64"
      ]
     },
     "execution_count": 15,
     "metadata": {},
     "output_type": "execute_result"
    }
   ],
   "source": [
    "# check data types\n",
    "df['known_for_department'].apply(type).value_counts()"
   ]
  },
  {
   "cell_type": "markdown",
   "metadata": {},
   "source": [
    "All values are strings"
   ]
  },
  {
   "cell_type": "code",
   "execution_count": 16,
   "metadata": {},
   "outputs": [
    {
     "data": {
      "text/plain": [
       "Acting               47198\n",
       "Production            8600\n",
       "Writing               7512\n",
       "Directing             5090\n",
       "Sound                 3701\n",
       "Editing               2728\n",
       "Art                   2695\n",
       "Camera                2469\n",
       "Costume & Make-Up     1831\n",
       "Crew                  1223\n",
       "Visual Effects         486\n",
       "Lighting               169\n",
       "Creator                 42\n",
       "Actors                   3\n",
       "Name: known_for_department, dtype: int64"
      ]
     },
     "execution_count": 16,
     "metadata": {},
     "output_type": "execute_result"
    }
   ],
   "source": [
    "# look at the department labels\n",
    "df.known_for_department.value_counts()"
   ]
  },
  {
   "cell_type": "code",
   "execution_count": 17,
   "metadata": {},
   "outputs": [
    {
     "data": {
      "text/html": [
       "<div>\n",
       "<style scoped>\n",
       "    .dataframe tbody tr th:only-of-type {\n",
       "        vertical-align: middle;\n",
       "    }\n",
       "\n",
       "    .dataframe tbody tr th {\n",
       "        vertical-align: top;\n",
       "    }\n",
       "\n",
       "    .dataframe thead th {\n",
       "        text-align: right;\n",
       "    }\n",
       "</style>\n",
       "<table border=\"1\" class=\"dataframe\">\n",
       "  <thead>\n",
       "    <tr style=\"text-align: right;\">\n",
       "      <th></th>\n",
       "      <th>birthday</th>\n",
       "      <th>known_for_department</th>\n",
       "      <th>id</th>\n",
       "      <th>name</th>\n",
       "      <th>gender</th>\n",
       "      <th>biography</th>\n",
       "      <th>popularity</th>\n",
       "      <th>place_of_birth</th>\n",
       "      <th>imdb_id</th>\n",
       "    </tr>\n",
       "  </thead>\n",
       "  <tbody>\n",
       "    <tr>\n",
       "      <th>7343</th>\n",
       "      <td>NaT</td>\n",
       "      <td>Actors</td>\n",
       "      <td>7344.0</td>\n",
       "      <td>Martha Crawford</td>\n",
       "      <td>0.0</td>\n",
       "      <td></td>\n",
       "      <td>0.6</td>\n",
       "      <td>None</td>\n",
       "      <td>nm0186895</td>\n",
       "    </tr>\n",
       "    <tr>\n",
       "      <th>14444</th>\n",
       "      <td>NaT</td>\n",
       "      <td>Actors</td>\n",
       "      <td>14445.0</td>\n",
       "      <td>Leigh Walsh</td>\n",
       "      <td>0.0</td>\n",
       "      <td></td>\n",
       "      <td>0.6</td>\n",
       "      <td>None</td>\n",
       "      <td>nm0909741</td>\n",
       "    </tr>\n",
       "    <tr>\n",
       "      <th>16688</th>\n",
       "      <td>NaT</td>\n",
       "      <td>Actors</td>\n",
       "      <td>16689.0</td>\n",
       "      <td>Diana Wiersma</td>\n",
       "      <td>0.0</td>\n",
       "      <td></td>\n",
       "      <td>0.6</td>\n",
       "      <td>None</td>\n",
       "      <td>nm0927560</td>\n",
       "    </tr>\n",
       "  </tbody>\n",
       "</table>\n",
       "</div>"
      ],
      "text/plain": [
       "      birthday known_for_department       id             name  gender  \\\n",
       "7343       NaT               Actors   7344.0  Martha Crawford     0.0   \n",
       "14444      NaT               Actors  14445.0      Leigh Walsh     0.0   \n",
       "16688      NaT               Actors  16689.0    Diana Wiersma     0.0   \n",
       "\n",
       "      biography  popularity place_of_birth    imdb_id  \n",
       "7343                    0.6           None  nm0186895  \n",
       "14444                   0.6           None  nm0909741  \n",
       "16688                   0.6           None  nm0927560  "
      ]
     },
     "execution_count": 17,
     "metadata": {},
     "output_type": "execute_result"
    }
   ],
   "source": [
    "# find rows where department is Actors\n",
    "df[df['known_for_department'] == 'Actors']"
   ]
  },
  {
   "cell_type": "code",
   "execution_count": 18,
   "metadata": {},
   "outputs": [],
   "source": [
    "# change Actors to Acting\n",
    "df.loc[df['known_for_department'] == 'Actors'] = 'Acting'"
   ]
  },
  {
   "cell_type": "code",
   "execution_count": 19,
   "metadata": {},
   "outputs": [
    {
     "data": {
      "text/html": [
       "<div>\n",
       "<style scoped>\n",
       "    .dataframe tbody tr th:only-of-type {\n",
       "        vertical-align: middle;\n",
       "    }\n",
       "\n",
       "    .dataframe tbody tr th {\n",
       "        vertical-align: top;\n",
       "    }\n",
       "\n",
       "    .dataframe thead th {\n",
       "        text-align: right;\n",
       "    }\n",
       "</style>\n",
       "<table border=\"1\" class=\"dataframe\">\n",
       "  <thead>\n",
       "    <tr style=\"text-align: right;\">\n",
       "      <th></th>\n",
       "      <th>birthday</th>\n",
       "      <th>known_for_department</th>\n",
       "      <th>id</th>\n",
       "      <th>name</th>\n",
       "      <th>gender</th>\n",
       "      <th>biography</th>\n",
       "      <th>popularity</th>\n",
       "      <th>place_of_birth</th>\n",
       "      <th>imdb_id</th>\n",
       "    </tr>\n",
       "  </thead>\n",
       "  <tbody>\n",
       "  </tbody>\n",
       "</table>\n",
       "</div>"
      ],
      "text/plain": [
       "Empty DataFrame\n",
       "Columns: [birthday, known_for_department, id, name, gender, biography, popularity, place_of_birth, imdb_id]\n",
       "Index: []"
      ]
     },
     "execution_count": 19,
     "metadata": {},
     "output_type": "execute_result"
    }
   ],
   "source": [
    "# trust but verify\n",
    "df[df['known_for_department'] == 'Actors']"
   ]
  },
  {
   "cell_type": "code",
   "execution_count": 20,
   "metadata": {},
   "outputs": [
    {
     "data": {
      "text/plain": [
       "'11 row(s) just dropped. 83747 row(s) left.'"
      ]
     },
     "execution_count": 20,
     "metadata": {},
     "output_type": "execute_result"
    }
   ],
   "source": [
    "# drop all rows without department data\n",
    "df.dropna(subset=['known_for_department'], inplace=True)\n",
    "rows_dropped()"
   ]
  },
  {
   "cell_type": "markdown",
   "metadata": {},
   "source": [
    "> **id**"
   ]
  },
  {
   "cell_type": "code",
   "execution_count": 21,
   "metadata": {},
   "outputs": [
    {
     "data": {
      "text/plain": [
       "<class 'float'>    83744\n",
       "<class 'str'>          3\n",
       "Name: id, dtype: int64"
      ]
     },
     "execution_count": 21,
     "metadata": {},
     "output_type": "execute_result"
    }
   ],
   "source": [
    "# check data types\n",
    "df['id'].apply(type).value_counts()"
   ]
  },
  {
   "cell_type": "markdown",
   "metadata": {},
   "source": [
    "There's a few suspicious rows here."
   ]
  },
  {
   "cell_type": "code",
   "execution_count": 22,
   "metadata": {},
   "outputs": [
    {
     "data": {
      "text/html": [
       "<div>\n",
       "<style scoped>\n",
       "    .dataframe tbody tr th:only-of-type {\n",
       "        vertical-align: middle;\n",
       "    }\n",
       "\n",
       "    .dataframe tbody tr th {\n",
       "        vertical-align: top;\n",
       "    }\n",
       "\n",
       "    .dataframe thead th {\n",
       "        text-align: right;\n",
       "    }\n",
       "</style>\n",
       "<table border=\"1\" class=\"dataframe\">\n",
       "  <thead>\n",
       "    <tr style=\"text-align: right;\">\n",
       "      <th></th>\n",
       "      <th>birthday</th>\n",
       "      <th>known_for_department</th>\n",
       "      <th>id</th>\n",
       "      <th>name</th>\n",
       "      <th>gender</th>\n",
       "      <th>biography</th>\n",
       "      <th>popularity</th>\n",
       "      <th>place_of_birth</th>\n",
       "      <th>imdb_id</th>\n",
       "    </tr>\n",
       "  </thead>\n",
       "  <tbody>\n",
       "    <tr>\n",
       "      <th>7343</th>\n",
       "      <td>Acting</td>\n",
       "      <td>Acting</td>\n",
       "      <td>Acting</td>\n",
       "      <td>Acting</td>\n",
       "      <td>Acting</td>\n",
       "      <td>Acting</td>\n",
       "      <td>Acting</td>\n",
       "      <td>Acting</td>\n",
       "      <td>Acting</td>\n",
       "    </tr>\n",
       "    <tr>\n",
       "      <th>14444</th>\n",
       "      <td>Acting</td>\n",
       "      <td>Acting</td>\n",
       "      <td>Acting</td>\n",
       "      <td>Acting</td>\n",
       "      <td>Acting</td>\n",
       "      <td>Acting</td>\n",
       "      <td>Acting</td>\n",
       "      <td>Acting</td>\n",
       "      <td>Acting</td>\n",
       "    </tr>\n",
       "    <tr>\n",
       "      <th>16688</th>\n",
       "      <td>Acting</td>\n",
       "      <td>Acting</td>\n",
       "      <td>Acting</td>\n",
       "      <td>Acting</td>\n",
       "      <td>Acting</td>\n",
       "      <td>Acting</td>\n",
       "      <td>Acting</td>\n",
       "      <td>Acting</td>\n",
       "      <td>Acting</td>\n",
       "    </tr>\n",
       "  </tbody>\n",
       "</table>\n",
       "</div>"
      ],
      "text/plain": [
       "      birthday known_for_department      id    name  gender biography  \\\n",
       "7343    Acting               Acting  Acting  Acting  Acting    Acting   \n",
       "14444   Acting               Acting  Acting  Acting  Acting    Acting   \n",
       "16688   Acting               Acting  Acting  Acting  Acting    Acting   \n",
       "\n",
       "      popularity place_of_birth imdb_id  \n",
       "7343      Acting         Acting  Acting  \n",
       "14444     Acting         Acting  Acting  \n",
       "16688     Acting         Acting  Acting  "
      ]
     },
     "execution_count": 22,
     "metadata": {},
     "output_type": "execute_result"
    }
   ],
   "source": [
    "# look at rows with strings\n",
    "df[df['id'].apply(type) == str]"
   ]
  },
  {
   "cell_type": "code",
   "execution_count": 23,
   "metadata": {},
   "outputs": [
    {
     "data": {
      "text/plain": [
       "'3 row(s) just dropped. 83744 row(s) left.'"
      ]
     },
     "execution_count": 23,
     "metadata": {},
     "output_type": "execute_result"
    }
   ],
   "source": [
    "# drop nonsensical rows\n",
    "df.drop(df[df.id.apply(type) == str].index, inplace=True)\n",
    "rows_dropped()"
   ]
  },
  {
   "cell_type": "markdown",
   "metadata": {},
   "source": [
    "> **NAME**"
   ]
  },
  {
   "cell_type": "code",
   "execution_count": 24,
   "metadata": {},
   "outputs": [
    {
     "data": {
      "text/plain": [
       "<class 'str'>    83744\n",
       "Name: name, dtype: int64"
      ]
     },
     "execution_count": 24,
     "metadata": {},
     "output_type": "execute_result"
    }
   ],
   "source": [
    "# check data types\n",
    "df['name'].apply(type).value_counts()"
   ]
  },
  {
   "cell_type": "markdown",
   "metadata": {},
   "source": [
    "This looks good."
   ]
  },
  {
   "cell_type": "markdown",
   "metadata": {},
   "source": [
    "> **GENDER**"
   ]
  },
  {
   "cell_type": "code",
   "execution_count": 25,
   "metadata": {},
   "outputs": [
    {
     "data": {
      "text/plain": [
       "<class 'float'>    83744\n",
       "Name: gender, dtype: int64"
      ]
     },
     "execution_count": 25,
     "metadata": {},
     "output_type": "execute_result"
    }
   ],
   "source": [
    "# check data types\n",
    "df['gender'].apply(type).value_counts()"
   ]
  },
  {
   "cell_type": "markdown",
   "metadata": {},
   "source": [
    "All values are floats."
   ]
  },
  {
   "cell_type": "code",
   "execution_count": 26,
   "metadata": {},
   "outputs": [
    {
     "data": {
      "text/plain": [
       "0.0    36951\n",
       "2.0    33282\n",
       "1.0    13511\n",
       "Name: gender, dtype: int64"
      ]
     },
     "execution_count": 26,
     "metadata": {},
     "output_type": "execute_result"
    }
   ],
   "source": [
    "# check values\n",
    "df.gender.value_counts()"
   ]
  },
  {
   "cell_type": "markdown",
   "metadata": {},
   "source": [
    "Gender type 0 is missing data, 1 is female, and 2 is male."
   ]
  },
  {
   "cell_type": "code",
   "execution_count": 27,
   "metadata": {},
   "outputs": [
    {
     "data": {
      "text/plain": [
       "2.0    33282\n",
       "1.0    13511\n",
       "Name: gender, dtype: int64"
      ]
     },
     "execution_count": 27,
     "metadata": {},
     "output_type": "execute_result"
    }
   ],
   "source": [
    "# convert 0 values to NaN\n",
    "df['gender'] = df['gender'].replace(0, np.NaN)\n",
    "df.gender.value_counts()"
   ]
  },
  {
   "cell_type": "markdown",
   "metadata": {},
   "source": [
    "These look good now."
   ]
  },
  {
   "cell_type": "markdown",
   "metadata": {},
   "source": [
    "> **BIOGRAPHY**"
   ]
  },
  {
   "cell_type": "code",
   "execution_count": 28,
   "metadata": {},
   "outputs": [
    {
     "data": {
      "text/plain": [
       "<class 'str'>    83744\n",
       "Name: biography, dtype: int64"
      ]
     },
     "execution_count": 28,
     "metadata": {},
     "output_type": "execute_result"
    }
   ],
   "source": [
    "# check data types\n",
    "df['biography'].apply(type).value_counts()"
   ]
  },
  {
   "cell_type": "markdown",
   "metadata": {},
   "source": [
    "All values are strings."
   ]
  },
  {
   "cell_type": "markdown",
   "metadata": {},
   "source": [
    "> **POPULARITY**"
   ]
  },
  {
   "cell_type": "code",
   "execution_count": 29,
   "metadata": {},
   "outputs": [
    {
     "data": {
      "text/plain": [
       "<class 'float'>    83744\n",
       "Name: popularity, dtype: int64"
      ]
     },
     "execution_count": 29,
     "metadata": {},
     "output_type": "execute_result"
    }
   ],
   "source": [
    "# check data types\n",
    "df['popularity'].apply(type).value_counts()"
   ]
  },
  {
   "cell_type": "markdown",
   "metadata": {},
   "source": [
    "All vaues are floats."
   ]
  },
  {
   "cell_type": "code",
   "execution_count": 30,
   "metadata": {},
   "outputs": [
    {
     "data": {
      "text/plain": [
       "1244     42.005\n",
       "74567     37.53\n",
       "3222     36.953\n",
       "9826     29.495\n",
       "5008     24.557\n",
       "          ...  \n",
       "58705       0.6\n",
       "58704       0.6\n",
       "58703       0.6\n",
       "58702       0.6\n",
       "99999       0.6\n",
       "Name: popularity, Length: 83744, dtype: object"
      ]
     },
     "execution_count": 30,
     "metadata": {},
     "output_type": "execute_result"
    }
   ],
   "source": [
    "# check values\n",
    "df.popularity.sort_values(ascending=False)"
   ]
  },
  {
   "cell_type": "markdown",
   "metadata": {},
   "source": [
    "The scale is from 0.6 to 100."
   ]
  },
  {
   "cell_type": "markdown",
   "metadata": {},
   "source": [
    "> **PLACE OF BIRTH**"
   ]
  },
  {
   "cell_type": "code",
   "execution_count": 31,
   "metadata": {},
   "outputs": [
    {
     "data": {
      "text/plain": [
       "<class 'NoneType'>    53100\n",
       "<class 'str'>         30644\n",
       "Name: place_of_birth, dtype: int64"
      ]
     },
     "execution_count": 31,
     "metadata": {},
     "output_type": "execute_result"
    }
   ],
   "source": [
    "# check data types\n",
    "df['place_of_birth'].apply(type).value_counts()"
   ]
  },
  {
   "cell_type": "markdown",
   "metadata": {},
   "source": [
    "All values are strings."
   ]
  },
  {
   "cell_type": "code",
   "execution_count": 32,
   "metadata": {},
   "outputs": [
    {
     "data": {
      "text/plain": [
       "<class 'float'>    53100\n",
       "<class 'str'>      30644\n",
       "Name: place_of_birth, dtype: int64"
      ]
     },
     "execution_count": 32,
     "metadata": {},
     "output_type": "execute_result"
    }
   ],
   "source": [
    "# convert None types to NaN\n",
    "df['place_of_birth'] = df['place_of_birth'].replace([None], np.NaN)\n",
    "df['place_of_birth'].apply(type).value_counts()"
   ]
  },
  {
   "cell_type": "markdown",
   "metadata": {},
   "source": [
    "> **IMBD ID**"
   ]
  },
  {
   "cell_type": "code",
   "execution_count": 33,
   "metadata": {},
   "outputs": [
    {
     "data": {
      "text/plain": [
       "<class 'str'>    83744\n",
       "Name: imdb_id, dtype: int64"
      ]
     },
     "execution_count": 33,
     "metadata": {},
     "output_type": "execute_result"
    }
   ],
   "source": [
    "# check data types\n",
    "df['imdb_id'].apply(type).value_counts()"
   ]
  },
  {
   "cell_type": "markdown",
   "metadata": {},
   "source": [
    "All values are strings."
   ]
  },
  {
   "cell_type": "code",
   "execution_count": 34,
   "metadata": {},
   "outputs": [
    {
     "name": "stdout",
     "output_type": "stream",
     "text": [
      "<class 'pandas.core.frame.DataFrame'>\n",
      "Int64Index: 83744 entries, 0 to 99999\n",
      "Data columns (total 9 columns):\n",
      " #   Column                Non-Null Count  Dtype  \n",
      "---  ------                --------------  -----  \n",
      " 0   birthday              36257 non-null  object \n",
      " 1   known_for_department  83744 non-null  object \n",
      " 2   id                    83744 non-null  object \n",
      " 3   name                  83744 non-null  object \n",
      " 4   gender                46793 non-null  float64\n",
      " 5   biography             83744 non-null  object \n",
      " 6   popularity            83744 non-null  object \n",
      " 7   place_of_birth        30644 non-null  object \n",
      " 8   imdb_id               83744 non-null  object \n",
      "dtypes: float64(1), object(8)\n",
      "memory usage: 6.4+ MB\n"
     ]
    }
   ],
   "source": [
    "# inspect to verify DataFrame is clean\n",
    "df.info()"
   ]
  },
  {
   "cell_type": "markdown",
   "metadata": {},
   "source": [
    "The three categories with missing values are birthday, gender, and place of birth.<br>\n",
    "I may need those categories as metadata. I will attempt to fill some of those missing values by leveraging other datasets in a separate notebook.\n",
    "<br>If I need to drop them later, I will do so. For now, I'll accept fewer observations for maximaizing features."
   ]
  },
  {
   "cell_type": "code",
   "execution_count": 35,
   "metadata": {},
   "outputs": [
    {
     "data": {
      "text/html": [
       "<div>\n",
       "<style scoped>\n",
       "    .dataframe tbody tr th:only-of-type {\n",
       "        vertical-align: middle;\n",
       "    }\n",
       "\n",
       "    .dataframe tbody tr th {\n",
       "        vertical-align: top;\n",
       "    }\n",
       "\n",
       "    .dataframe thead th {\n",
       "        text-align: right;\n",
       "    }\n",
       "</style>\n",
       "<table border=\"1\" class=\"dataframe\">\n",
       "  <thead>\n",
       "    <tr style=\"text-align: right;\">\n",
       "      <th></th>\n",
       "      <th>birthday</th>\n",
       "      <th>known_for_department</th>\n",
       "      <th>id</th>\n",
       "      <th>name</th>\n",
       "      <th>gender</th>\n",
       "      <th>biography</th>\n",
       "      <th>popularity</th>\n",
       "      <th>place_of_birth</th>\n",
       "      <th>imdb_id</th>\n",
       "    </tr>\n",
       "  </thead>\n",
       "  <tbody>\n",
       "    <tr>\n",
       "      <th>0</th>\n",
       "      <td>1944-05-14 00:00:00</td>\n",
       "      <td>Directing</td>\n",
       "      <td>1</td>\n",
       "      <td>George Lucas</td>\n",
       "      <td>2.0</td>\n",
       "      <td>George Walton Lucas Jr. (born May 14, 1944) is...</td>\n",
       "      <td>6.761</td>\n",
       "      <td>Modesto, California, USA</td>\n",
       "      <td>nm0000184</td>\n",
       "    </tr>\n",
       "    <tr>\n",
       "      <th>1</th>\n",
       "      <td>1951-09-25 00:00:00</td>\n",
       "      <td>Acting</td>\n",
       "      <td>2</td>\n",
       "      <td>Mark Hamill</td>\n",
       "      <td>2.0</td>\n",
       "      <td>Mark Richard Hamill (born September 25, 1951) ...</td>\n",
       "      <td>10.497</td>\n",
       "      <td>Concord, California, USA</td>\n",
       "      <td>nm0000434</td>\n",
       "    </tr>\n",
       "    <tr>\n",
       "      <th>2</th>\n",
       "      <td>1942-07-13 00:00:00</td>\n",
       "      <td>Acting</td>\n",
       "      <td>3</td>\n",
       "      <td>Harrison Ford</td>\n",
       "      <td>2.0</td>\n",
       "      <td>Legendary Hollywood Icon Harrison Ford was bor...</td>\n",
       "      <td>20.349</td>\n",
       "      <td>Chicago, Illinois, USA</td>\n",
       "      <td>nm0000148</td>\n",
       "    </tr>\n",
       "    <tr>\n",
       "      <th>3</th>\n",
       "      <td>1956-10-21 00:00:00</td>\n",
       "      <td>Acting</td>\n",
       "      <td>4</td>\n",
       "      <td>Carrie Fisher</td>\n",
       "      <td>1.0</td>\n",
       "      <td>Carrie Frances Fisher (21 October 1956 - 27 De...</td>\n",
       "      <td>7.228</td>\n",
       "      <td>Beverly Hills, Los Angeles, California, USA</td>\n",
       "      <td>nm0000402</td>\n",
       "    </tr>\n",
       "    <tr>\n",
       "      <th>4</th>\n",
       "      <td>1913-05-26 00:00:00</td>\n",
       "      <td>Acting</td>\n",
       "      <td>5</td>\n",
       "      <td>Peter Cushing</td>\n",
       "      <td>2.0</td>\n",
       "      <td>Peter Wilton Cushing, OBE  (26 May 1913 – 11 A...</td>\n",
       "      <td>3.902</td>\n",
       "      <td>Kenley, Surrey, England, UK</td>\n",
       "      <td>nm0001088</td>\n",
       "    </tr>\n",
       "    <tr>\n",
       "      <th>5</th>\n",
       "      <td>1946-02-21 00:00:00</td>\n",
       "      <td>Acting</td>\n",
       "      <td>6</td>\n",
       "      <td>Anthony Daniels</td>\n",
       "      <td>2.0</td>\n",
       "      <td>Anthony Daniels (born 21 February 1946) is an ...</td>\n",
       "      <td>4.822</td>\n",
       "      <td>Salisbury, Wiltshire, England, UK</td>\n",
       "      <td>nm0000355</td>\n",
       "    </tr>\n",
       "    <tr>\n",
       "      <th>6</th>\n",
       "      <td>1965-12-03 00:00:00</td>\n",
       "      <td>Writing</td>\n",
       "      <td>7</td>\n",
       "      <td>Andrew Stanton</td>\n",
       "      <td>2.0</td>\n",
       "      <td>Andrew Stanton (born December 3, 1965) is an A...</td>\n",
       "      <td>5.203</td>\n",
       "      <td>Boston, Massachusetts, USA</td>\n",
       "      <td>nm0004056</td>\n",
       "    </tr>\n",
       "    <tr>\n",
       "      <th>7</th>\n",
       "      <td>1967-08-08 00:00:00</td>\n",
       "      <td>Directing</td>\n",
       "      <td>8</td>\n",
       "      <td>Lee Unkrich</td>\n",
       "      <td>2.0</td>\n",
       "      <td>Lee Unkrich is an American director and film e...</td>\n",
       "      <td>2.332</td>\n",
       "      <td>Cleveland, Ohio, USA</td>\n",
       "      <td>nm0881279</td>\n",
       "    </tr>\n",
       "  </tbody>\n",
       "</table>\n",
       "</div>"
      ],
      "text/plain": [
       "              birthday known_for_department id             name  gender  \\\n",
       "0  1944-05-14 00:00:00            Directing  1     George Lucas     2.0   \n",
       "1  1951-09-25 00:00:00               Acting  2      Mark Hamill     2.0   \n",
       "2  1942-07-13 00:00:00               Acting  3    Harrison Ford     2.0   \n",
       "3  1956-10-21 00:00:00               Acting  4    Carrie Fisher     1.0   \n",
       "4  1913-05-26 00:00:00               Acting  5    Peter Cushing     2.0   \n",
       "5  1946-02-21 00:00:00               Acting  6  Anthony Daniels     2.0   \n",
       "6  1965-12-03 00:00:00              Writing  7   Andrew Stanton     2.0   \n",
       "7  1967-08-08 00:00:00            Directing  8      Lee Unkrich     2.0   \n",
       "\n",
       "                                           biography popularity  \\\n",
       "0  George Walton Lucas Jr. (born May 14, 1944) is...      6.761   \n",
       "1  Mark Richard Hamill (born September 25, 1951) ...     10.497   \n",
       "2  Legendary Hollywood Icon Harrison Ford was bor...     20.349   \n",
       "3  Carrie Frances Fisher (21 October 1956 - 27 De...      7.228   \n",
       "4  Peter Wilton Cushing, OBE  (26 May 1913 – 11 A...      3.902   \n",
       "5  Anthony Daniels (born 21 February 1946) is an ...      4.822   \n",
       "6  Andrew Stanton (born December 3, 1965) is an A...      5.203   \n",
       "7  Lee Unkrich is an American director and film e...      2.332   \n",
       "\n",
       "                                place_of_birth    imdb_id  \n",
       "0                     Modesto, California, USA  nm0000184  \n",
       "1                     Concord, California, USA  nm0000434  \n",
       "2                       Chicago, Illinois, USA  nm0000148  \n",
       "3  Beverly Hills, Los Angeles, California, USA  nm0000402  \n",
       "4                  Kenley, Surrey, England, UK  nm0001088  \n",
       "5            Salisbury, Wiltshire, England, UK  nm0000355  \n",
       "6                   Boston, Massachusetts, USA  nm0004056  \n",
       "7                         Cleveland, Ohio, USA  nm0881279  "
      ]
     },
     "execution_count": 35,
     "metadata": {},
     "output_type": "execute_result"
    }
   ],
   "source": [
    "# look at final DataFrame\n",
    "df.head(8)"
   ]
  },
  {
   "cell_type": "code",
   "execution_count": 36,
   "metadata": {},
   "outputs": [],
   "source": [
    "# store clean data in JSON\n",
    "#df.to_json('tmdb_person_1.json')"
   ]
  }
 ],
 "metadata": {
  "kernelspec": {
   "display_name": "Python 3",
   "language": "python",
   "name": "python3"
  },
  "language_info": {
   "codemirror_mode": {
    "name": "ipython",
    "version": 3
   },
   "file_extension": ".py",
   "mimetype": "text/x-python",
   "name": "python",
   "nbconvert_exporter": "python",
   "pygments_lexer": "ipython3",
   "version": "3.7.7"
  }
 },
 "nbformat": 4,
 "nbformat_minor": 4
}
