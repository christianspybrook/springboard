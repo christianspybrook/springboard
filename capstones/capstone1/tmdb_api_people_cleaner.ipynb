{
 "cells": [
  {
   "cell_type": "code",
   "execution_count": 1,
   "metadata": {},
   "outputs": [],
   "source": [
    "import pandas as pd\n",
    "import numpy as np\n",
    "import json"
   ]
  },
  {
   "cell_type": "code",
   "execution_count": 2,
   "metadata": {},
   "outputs": [
    {
     "name": "stdout",
     "output_type": "stream",
     "text": [
      "<class 'pandas.core.frame.DataFrame'>\n",
      "Int64Index: 2700000 entries, 0 to 2699999\n",
      "Data columns (total 14 columns):\n",
      " #   Column                Dtype  \n",
      "---  ------                -----  \n",
      " 0   birthday              object \n",
      " 1   known_for_department  object \n",
      " 2   deathday              object \n",
      " 3   id                    float64\n",
      " 4   name                  object \n",
      " 5   also_known_as         object \n",
      " 6   gender                float64\n",
      " 7   biography             object \n",
      " 8   popularity            float64\n",
      " 9   place_of_birth        object \n",
      " 10  profile_path          object \n",
      " 11  adult                 float64\n",
      " 12  imdb_id               object \n",
      " 13  homepage              object \n",
      "dtypes: float64(4), object(10)\n",
      "memory usage: 309.0+ MB\n"
     ]
    }
   ],
   "source": [
    "# read in JSON as DataFrame\n",
    "df = pd.read_json('tmdb_person_all_unclean.json')\n",
    "df.info()"
   ]
  },
  {
   "cell_type": "code",
   "execution_count": 3,
   "metadata": {},
   "outputs": [
    {
     "data": {
      "text/html": [
       "<div>\n",
       "<style scoped>\n",
       "    .dataframe tbody tr th:only-of-type {\n",
       "        vertical-align: middle;\n",
       "    }\n",
       "\n",
       "    .dataframe tbody tr th {\n",
       "        vertical-align: top;\n",
       "    }\n",
       "\n",
       "    .dataframe thead th {\n",
       "        text-align: right;\n",
       "    }\n",
       "</style>\n",
       "<table border=\"1\" class=\"dataframe\">\n",
       "  <thead>\n",
       "    <tr style=\"text-align: right;\">\n",
       "      <th></th>\n",
       "      <th>0</th>\n",
       "      <th>1</th>\n",
       "      <th>2</th>\n",
       "      <th>3</th>\n",
       "      <th>4</th>\n",
       "    </tr>\n",
       "  </thead>\n",
       "  <tbody>\n",
       "    <tr>\n",
       "      <th>birthday</th>\n",
       "      <td>1944-05-14</td>\n",
       "      <td>1951-09-25</td>\n",
       "      <td>1942-07-13</td>\n",
       "      <td>1956-10-21</td>\n",
       "      <td>1913-05-26</td>\n",
       "    </tr>\n",
       "    <tr>\n",
       "      <th>known_for_department</th>\n",
       "      <td>Directing</td>\n",
       "      <td>Acting</td>\n",
       "      <td>Acting</td>\n",
       "      <td>Acting</td>\n",
       "      <td>Acting</td>\n",
       "    </tr>\n",
       "    <tr>\n",
       "      <th>deathday</th>\n",
       "      <td>None</td>\n",
       "      <td>None</td>\n",
       "      <td>None</td>\n",
       "      <td>2016-12-27</td>\n",
       "      <td>1994-08-11</td>\n",
       "    </tr>\n",
       "    <tr>\n",
       "      <th>id</th>\n",
       "      <td>1</td>\n",
       "      <td>2</td>\n",
       "      <td>3</td>\n",
       "      <td>4</td>\n",
       "      <td>5</td>\n",
       "    </tr>\n",
       "    <tr>\n",
       "      <th>name</th>\n",
       "      <td>George Lucas</td>\n",
       "      <td>Mark Hamill</td>\n",
       "      <td>Harrison Ford</td>\n",
       "      <td>Carrie Fisher</td>\n",
       "      <td>Peter Cushing</td>\n",
       "    </tr>\n",
       "    <tr>\n",
       "      <th>also_known_as</th>\n",
       "      <td>[George Walton Lucas Jr. , 乔治·卢卡斯, Джордж Лука...</td>\n",
       "      <td>[Mark Hamil, Mark Richard Hamill, Марк Хэмилл,...</td>\n",
       "      <td>[Гаррісон Форд, Харрисон Форд, هاريسون فورد, 해...</td>\n",
       "      <td>[Carrie Frances Fisher , Кэрри Фишер, Кэрри Фр...</td>\n",
       "      <td>[Peter Wilton Cushing]</td>\n",
       "    </tr>\n",
       "    <tr>\n",
       "      <th>gender</th>\n",
       "      <td>2</td>\n",
       "      <td>2</td>\n",
       "      <td>2</td>\n",
       "      <td>1</td>\n",
       "      <td>2</td>\n",
       "    </tr>\n",
       "    <tr>\n",
       "      <th>biography</th>\n",
       "      <td>George Walton Lucas Jr. (born May 14, 1944) is...</td>\n",
       "      <td>Mark Richard Hamill (born September 25, 1951) ...</td>\n",
       "      <td>Legendary Hollywood Icon Harrison Ford was bor...</td>\n",
       "      <td>Carrie Frances Fisher (21 October 1956 - 27 De...</td>\n",
       "      <td>Peter Wilton Cushing, OBE  (26 May 1913 – 11 A...</td>\n",
       "    </tr>\n",
       "    <tr>\n",
       "      <th>popularity</th>\n",
       "      <td>6.761</td>\n",
       "      <td>10.497</td>\n",
       "      <td>20.349</td>\n",
       "      <td>7.228</td>\n",
       "      <td>3.902</td>\n",
       "    </tr>\n",
       "    <tr>\n",
       "      <th>place_of_birth</th>\n",
       "      <td>Modesto, California, USA</td>\n",
       "      <td>Concord, California, USA</td>\n",
       "      <td>Chicago, Illinois, USA</td>\n",
       "      <td>Beverly Hills, Los Angeles, California, USA</td>\n",
       "      <td>Kenley, Surrey, England, UK</td>\n",
       "    </tr>\n",
       "    <tr>\n",
       "      <th>profile_path</th>\n",
       "      <td>/mDLDvsx8PaZoEThkBdyaG1JxPdf.jpg</td>\n",
       "      <td>/fk8OfdReNltKZqOk2TZgkofCUFq.jpg</td>\n",
       "      <td>/5M7oN3sznp99hWYQ9sX0xheswWX.jpg</td>\n",
       "      <td>/rfJtncHewKVnHjqpIZvjn24ESeC.jpg</td>\n",
       "      <td>/1qtKVu16REL2YLVrhayjVey4al.jpg</td>\n",
       "    </tr>\n",
       "    <tr>\n",
       "      <th>adult</th>\n",
       "      <td>0</td>\n",
       "      <td>0</td>\n",
       "      <td>0</td>\n",
       "      <td>0</td>\n",
       "      <td>0</td>\n",
       "    </tr>\n",
       "    <tr>\n",
       "      <th>imdb_id</th>\n",
       "      <td>nm0000184</td>\n",
       "      <td>nm0000434</td>\n",
       "      <td>nm0000148</td>\n",
       "      <td>nm0000402</td>\n",
       "      <td>nm0001088</td>\n",
       "    </tr>\n",
       "    <tr>\n",
       "      <th>homepage</th>\n",
       "      <td>None</td>\n",
       "      <td>None</td>\n",
       "      <td>None</td>\n",
       "      <td>https://carriefisher.com/</td>\n",
       "      <td>None</td>\n",
       "    </tr>\n",
       "  </tbody>\n",
       "</table>\n",
       "</div>"
      ],
      "text/plain": [
       "                                                                      0  \\\n",
       "birthday                                                     1944-05-14   \n",
       "known_for_department                                          Directing   \n",
       "deathday                                                           None   \n",
       "id                                                                    1   \n",
       "name                                                       George Lucas   \n",
       "also_known_as         [George Walton Lucas Jr. , 乔治·卢卡斯, Джордж Лука...   \n",
       "gender                                                                2   \n",
       "biography             George Walton Lucas Jr. (born May 14, 1944) is...   \n",
       "popularity                                                        6.761   \n",
       "place_of_birth                                 Modesto, California, USA   \n",
       "profile_path                           /mDLDvsx8PaZoEThkBdyaG1JxPdf.jpg   \n",
       "adult                                                                 0   \n",
       "imdb_id                                                       nm0000184   \n",
       "homepage                                                           None   \n",
       "\n",
       "                                                                      1  \\\n",
       "birthday                                                     1951-09-25   \n",
       "known_for_department                                             Acting   \n",
       "deathday                                                           None   \n",
       "id                                                                    2   \n",
       "name                                                        Mark Hamill   \n",
       "also_known_as         [Mark Hamil, Mark Richard Hamill, Марк Хэмилл,...   \n",
       "gender                                                                2   \n",
       "biography             Mark Richard Hamill (born September 25, 1951) ...   \n",
       "popularity                                                       10.497   \n",
       "place_of_birth                                 Concord, California, USA   \n",
       "profile_path                           /fk8OfdReNltKZqOk2TZgkofCUFq.jpg   \n",
       "adult                                                                 0   \n",
       "imdb_id                                                       nm0000434   \n",
       "homepage                                                           None   \n",
       "\n",
       "                                                                      2  \\\n",
       "birthday                                                     1942-07-13   \n",
       "known_for_department                                             Acting   \n",
       "deathday                                                           None   \n",
       "id                                                                    3   \n",
       "name                                                      Harrison Ford   \n",
       "also_known_as         [Гаррісон Форд, Харрисон Форд, هاريسون فورد, 해...   \n",
       "gender                                                                2   \n",
       "biography             Legendary Hollywood Icon Harrison Ford was bor...   \n",
       "popularity                                                       20.349   \n",
       "place_of_birth                                   Chicago, Illinois, USA   \n",
       "profile_path                           /5M7oN3sznp99hWYQ9sX0xheswWX.jpg   \n",
       "adult                                                                 0   \n",
       "imdb_id                                                       nm0000148   \n",
       "homepage                                                           None   \n",
       "\n",
       "                                                                      3  \\\n",
       "birthday                                                     1956-10-21   \n",
       "known_for_department                                             Acting   \n",
       "deathday                                                     2016-12-27   \n",
       "id                                                                    4   \n",
       "name                                                      Carrie Fisher   \n",
       "also_known_as         [Carrie Frances Fisher , Кэрри Фишер, Кэрри Фр...   \n",
       "gender                                                                1   \n",
       "biography             Carrie Frances Fisher (21 October 1956 - 27 De...   \n",
       "popularity                                                        7.228   \n",
       "place_of_birth              Beverly Hills, Los Angeles, California, USA   \n",
       "profile_path                           /rfJtncHewKVnHjqpIZvjn24ESeC.jpg   \n",
       "adult                                                                 0   \n",
       "imdb_id                                                       nm0000402   \n",
       "homepage                                      https://carriefisher.com/   \n",
       "\n",
       "                                                                      4  \n",
       "birthday                                                     1913-05-26  \n",
       "known_for_department                                             Acting  \n",
       "deathday                                                     1994-08-11  \n",
       "id                                                                    5  \n",
       "name                                                      Peter Cushing  \n",
       "also_known_as                                    [Peter Wilton Cushing]  \n",
       "gender                                                                2  \n",
       "biography             Peter Wilton Cushing, OBE  (26 May 1913 – 11 A...  \n",
       "popularity                                                        3.902  \n",
       "place_of_birth                              Kenley, Surrey, England, UK  \n",
       "profile_path                            /1qtKVu16REL2YLVrhayjVey4al.jpg  \n",
       "adult                                                                 0  \n",
       "imdb_id                                                       nm0001088  \n",
       "homepage                                                           None  "
      ]
     },
     "execution_count": 3,
     "metadata": {},
     "output_type": "execute_result"
    }
   ],
   "source": [
    "# look at DataFrame\n",
    "df.head().transpose()"
   ]
  },
  {
   "cell_type": "code",
   "execution_count": 4,
   "metadata": {},
   "outputs": [
    {
     "data": {
      "text/plain": [
       "2700000"
      ]
     },
     "execution_count": 4,
     "metadata": {},
     "output_type": "execute_result"
    }
   ],
   "source": [
    "# store number of original entries\n",
    "STARTING_ROWS = df.shape[0]\n",
    "STARTING_ROWS"
   ]
  },
  {
   "cell_type": "code",
   "execution_count": 5,
   "metadata": {},
   "outputs": [],
   "source": [
    "before_dropped = 0\n",
    "def rows_dropped():\n",
    "    \"\"\"Returns the number of rows dropped and rows left since last call\"\"\"\n",
    "    global before_dropped\n",
    "    just_dropped = STARTING_ROWS - before_dropped - df.shape[0]\n",
    "    # adjusts number of row dropped since last call\n",
    "    before_dropped += just_dropped\n",
    "    return (f'{just_dropped} row(s) just dropped.'\\\n",
    "        f' {df.shape[0]} row(s) left.')"
   ]
  },
  {
   "cell_type": "markdown",
   "metadata": {},
   "source": [
    "> **EMPTY ROWS**"
   ]
  },
  {
   "cell_type": "code",
   "execution_count": 6,
   "metadata": {},
   "outputs": [
    {
     "data": {
      "text/plain": [
       "'972444 row(s) just dropped. 1727556 row(s) left.'"
      ]
     },
     "execution_count": 6,
     "metadata": {},
     "output_type": "execute_result"
    }
   ],
   "source": [
    "# drop all rows with no values\n",
    "df.dropna(how='all', inplace=True)\n",
    "rows_dropped()"
   ]
  },
  {
   "cell_type": "markdown",
   "metadata": {},
   "source": [
    "> **ADULT**"
   ]
  },
  {
   "cell_type": "code",
   "execution_count": 7,
   "metadata": {},
   "outputs": [
    {
     "data": {
      "text/plain": [
       "<class 'float'>    1727556\n",
       "Name: adult, dtype: int64"
      ]
     },
     "execution_count": 7,
     "metadata": {},
     "output_type": "execute_result"
    }
   ],
   "source": [
    "# check data types\n",
    "df['adult'].apply(type).value_counts()"
   ]
  },
  {
   "cell_type": "markdown",
   "metadata": {},
   "source": [
    "The values are all floats."
   ]
  },
  {
   "cell_type": "code",
   "execution_count": 8,
   "metadata": {},
   "outputs": [
    {
     "data": {
      "text/plain": [
       "0.0    1677573\n",
       "1.0      49983\n",
       "Name: adult, dtype: int64"
      ]
     },
     "execution_count": 8,
     "metadata": {},
     "output_type": "execute_result"
    }
   ],
   "source": [
    "# look at the adult labels\n",
    "df.adult.value_counts()"
   ]
  },
  {
   "cell_type": "markdown",
   "metadata": {},
   "source": [
    "This column looks clean. Let's keep it \"clean\"."
   ]
  },
  {
   "cell_type": "code",
   "execution_count": 9,
   "metadata": {},
   "outputs": [
    {
     "data": {
      "text/plain": [
       "'49983 row(s) just dropped. 1677573 row(s) left.'"
      ]
     },
     "execution_count": 9,
     "metadata": {},
     "output_type": "execute_result"
    }
   ],
   "source": [
    "# drop rows for adult movies\n",
    "df.drop(df[df['adult'] == True].index, inplace=True)\n",
    "rows_dropped()"
   ]
  },
  {
   "cell_type": "markdown",
   "metadata": {},
   "source": [
    "> **FEATURE SELECTION**"
   ]
  },
  {
   "cell_type": "markdown",
   "metadata": {},
   "source": [
    "Now that the adult movies are gone, I don't need that feature. I'll drop a few others, also."
   ]
  },
  {
   "cell_type": "code",
   "execution_count": 10,
   "metadata": {},
   "outputs": [
    {
     "data": {
      "text/plain": [
       "(1677573, 9)"
      ]
     },
     "execution_count": 10,
     "metadata": {},
     "output_type": "execute_result"
    }
   ],
   "source": [
    "# drop features not needed\n",
    "df.drop(['deathday', 'also_known_as', 'profile_path', 'adult', 'homepage'], axis=1, inplace=True)\n",
    "df.shape"
   ]
  },
  {
   "cell_type": "markdown",
   "metadata": {},
   "source": [
    "> **ZERO VALUES**"
   ]
  },
  {
   "cell_type": "code",
   "execution_count": 11,
   "metadata": {},
   "outputs": [
    {
     "data": {
      "text/plain": [
       "birthday                      0\n",
       "known_for_department          0\n",
       "id                            0\n",
       "name                          0\n",
       "gender                  1397829\n",
       "biography                     0\n",
       "popularity                    0\n",
       "place_of_birth                0\n",
       "imdb_id                       0\n",
       "dtype: int64"
      ]
     },
     "execution_count": 11,
     "metadata": {},
     "output_type": "execute_result"
    }
   ],
   "source": [
    "# check if missing data is disguised as 0\n",
    "df.isin([0]).sum()"
   ]
  },
  {
   "cell_type": "markdown",
   "metadata": {},
   "source": [
    "This looks good, except for gender. I'll look at that later."
   ]
  },
  {
   "cell_type": "markdown",
   "metadata": {},
   "source": [
    "> **BIRTHDAY**"
   ]
  },
  {
   "cell_type": "code",
   "execution_count": 12,
   "metadata": {},
   "outputs": [
    {
     "data": {
      "text/plain": [
       "<class 'NoneType'>    1524804\n",
       "<class 'str'>          152769\n",
       "Name: birthday, dtype: int64"
      ]
     },
     "execution_count": 12,
     "metadata": {},
     "output_type": "execute_result"
    }
   ],
   "source": [
    "# check data types\n",
    "df['birthday'].apply(type).value_counts()"
   ]
  },
  {
   "cell_type": "code",
   "execution_count": 13,
   "metadata": {},
   "outputs": [
    {
     "data": {
      "text/plain": [
       "<class 'float'>    1524804\n",
       "<class 'str'>       152769\n",
       "Name: birthday, dtype: int64"
      ]
     },
     "execution_count": 13,
     "metadata": {},
     "output_type": "execute_result"
    }
   ],
   "source": [
    "# convert None types to NaN\n",
    "df['birthday'] = df['birthday'].replace([None], np.NaN)\n",
    "df['birthday'].apply(type).value_counts()"
   ]
  },
  {
   "cell_type": "markdown",
   "metadata": {},
   "source": [
    "The values are all strings."
   ]
  },
  {
   "cell_type": "code",
   "execution_count": 14,
   "metadata": {},
   "outputs": [
    {
     "data": {
      "text/plain": [
       "<class 'pandas._libs.tslibs.nattype.NaTType'>         1524815\n",
       "<class 'pandas._libs.tslibs.timestamps.Timestamp'>     152758\n",
       "Name: birthday, dtype: int64"
      ]
     },
     "execution_count": 14,
     "metadata": {},
     "output_type": "execute_result"
    }
   ],
   "source": [
    "# convert birthday to datetime objects\n",
    "df['birthday'] = pd.to_datetime(df['birthday'], errors='coerce')\n",
    "df['birthday'].apply(type).value_counts()"
   ]
  },
  {
   "cell_type": "markdown",
   "metadata": {},
   "source": [
    "Birthdays that were out of range were converted to NaT.<br>\n",
    "The values are all datetime objects."
   ]
  },
  {
   "cell_type": "markdown",
   "metadata": {},
   "source": [
    "> **KNOWN FOR DEPARTMENT**"
   ]
  },
  {
   "cell_type": "code",
   "execution_count": 15,
   "metadata": {},
   "outputs": [
    {
     "data": {
      "text/plain": [
       "<class 'str'>         1677060\n",
       "<class 'NoneType'>        513\n",
       "Name: known_for_department, dtype: int64"
      ]
     },
     "execution_count": 15,
     "metadata": {},
     "output_type": "execute_result"
    }
   ],
   "source": [
    "# check data types\n",
    "df['known_for_department'].apply(type).value_counts()"
   ]
  },
  {
   "cell_type": "markdown",
   "metadata": {},
   "source": [
    "All values are all strings"
   ]
  },
  {
   "cell_type": "code",
   "execution_count": 16,
   "metadata": {},
   "outputs": [
    {
     "data": {
      "text/plain": [
       "Acting               941186\n",
       "Directing            143417\n",
       "Production           133449\n",
       "Writing              111972\n",
       "Sound                 75535\n",
       "Crew                  56361\n",
       "Camera                47947\n",
       "Art                   45811\n",
       "Editing               38162\n",
       "Costume & Make-Up     37098\n",
       "Visual Effects        27080\n",
       "Lighting              12803\n",
       "Creator                6232\n",
       "Actors                    7\n",
       "Name: known_for_department, dtype: int64"
      ]
     },
     "execution_count": 16,
     "metadata": {},
     "output_type": "execute_result"
    }
   ],
   "source": [
    "# look at the department labels\n",
    "df.known_for_department.value_counts()"
   ]
  },
  {
   "cell_type": "code",
   "execution_count": 17,
   "metadata": {},
   "outputs": [
    {
     "data": {
      "text/html": [
       "<div>\n",
       "<style scoped>\n",
       "    .dataframe tbody tr th:only-of-type {\n",
       "        vertical-align: middle;\n",
       "    }\n",
       "\n",
       "    .dataframe tbody tr th {\n",
       "        vertical-align: top;\n",
       "    }\n",
       "\n",
       "    .dataframe thead th {\n",
       "        text-align: right;\n",
       "    }\n",
       "</style>\n",
       "<table border=\"1\" class=\"dataframe\">\n",
       "  <thead>\n",
       "    <tr style=\"text-align: right;\">\n",
       "      <th></th>\n",
       "      <th>birthday</th>\n",
       "      <th>known_for_department</th>\n",
       "      <th>id</th>\n",
       "      <th>name</th>\n",
       "      <th>gender</th>\n",
       "      <th>biography</th>\n",
       "      <th>popularity</th>\n",
       "      <th>place_of_birth</th>\n",
       "      <th>imdb_id</th>\n",
       "    </tr>\n",
       "  </thead>\n",
       "  <tbody>\n",
       "    <tr>\n",
       "      <th>7343</th>\n",
       "      <td>NaT</td>\n",
       "      <td>Actors</td>\n",
       "      <td>7344.0</td>\n",
       "      <td>Martha Crawford</td>\n",
       "      <td>0.0</td>\n",
       "      <td></td>\n",
       "      <td>0.6</td>\n",
       "      <td>None</td>\n",
       "      <td>nm0186895</td>\n",
       "    </tr>\n",
       "    <tr>\n",
       "      <th>14444</th>\n",
       "      <td>NaT</td>\n",
       "      <td>Actors</td>\n",
       "      <td>14445.0</td>\n",
       "      <td>Leigh Walsh</td>\n",
       "      <td>0.0</td>\n",
       "      <td></td>\n",
       "      <td>0.6</td>\n",
       "      <td>None</td>\n",
       "      <td>nm0909741</td>\n",
       "    </tr>\n",
       "    <tr>\n",
       "      <th>16688</th>\n",
       "      <td>NaT</td>\n",
       "      <td>Actors</td>\n",
       "      <td>16689.0</td>\n",
       "      <td>Diana Wiersma</td>\n",
       "      <td>0.0</td>\n",
       "      <td></td>\n",
       "      <td>0.6</td>\n",
       "      <td>None</td>\n",
       "      <td>nm0927560</td>\n",
       "    </tr>\n",
       "    <tr>\n",
       "      <th>121452</th>\n",
       "      <td>NaT</td>\n",
       "      <td>Actors</td>\n",
       "      <td>121453.0</td>\n",
       "      <td>Miguel Castro</td>\n",
       "      <td>2.0</td>\n",
       "      <td></td>\n",
       "      <td>0.6</td>\n",
       "      <td>None</td>\n",
       "      <td>nm1008574</td>\n",
       "    </tr>\n",
       "    <tr>\n",
       "      <th>130441</th>\n",
       "      <td>NaT</td>\n",
       "      <td>Actors</td>\n",
       "      <td>130442.0</td>\n",
       "      <td>Jimmy Adler</td>\n",
       "      <td>0.0</td>\n",
       "      <td></td>\n",
       "      <td>0.6</td>\n",
       "      <td>None</td>\n",
       "      <td></td>\n",
       "    </tr>\n",
       "    <tr>\n",
       "      <th>130442</th>\n",
       "      <td>NaT</td>\n",
       "      <td>Actors</td>\n",
       "      <td>130443.0</td>\n",
       "      <td>Kimberly Kensington</td>\n",
       "      <td>0.0</td>\n",
       "      <td></td>\n",
       "      <td>0.6</td>\n",
       "      <td>None</td>\n",
       "      <td></td>\n",
       "    </tr>\n",
       "    <tr>\n",
       "      <th>139277</th>\n",
       "      <td>NaT</td>\n",
       "      <td>Actors</td>\n",
       "      <td>139278.0</td>\n",
       "      <td>Matthew Wiatt</td>\n",
       "      <td>0.0</td>\n",
       "      <td></td>\n",
       "      <td>0.6</td>\n",
       "      <td>None</td>\n",
       "      <td>nm2980195</td>\n",
       "    </tr>\n",
       "  </tbody>\n",
       "</table>\n",
       "</div>"
      ],
      "text/plain": [
       "       birthday known_for_department        id                 name  gender  \\\n",
       "7343        NaT               Actors    7344.0      Martha Crawford     0.0   \n",
       "14444       NaT               Actors   14445.0          Leigh Walsh     0.0   \n",
       "16688       NaT               Actors   16689.0        Diana Wiersma     0.0   \n",
       "121452      NaT               Actors  121453.0        Miguel Castro     2.0   \n",
       "130441      NaT               Actors  130442.0          Jimmy Adler     0.0   \n",
       "130442      NaT               Actors  130443.0  Kimberly Kensington     0.0   \n",
       "139277      NaT               Actors  139278.0        Matthew Wiatt     0.0   \n",
       "\n",
       "       biography  popularity place_of_birth    imdb_id  \n",
       "7343                     0.6           None  nm0186895  \n",
       "14444                    0.6           None  nm0909741  \n",
       "16688                    0.6           None  nm0927560  \n",
       "121452                   0.6           None  nm1008574  \n",
       "130441                   0.6           None             \n",
       "130442                   0.6           None             \n",
       "139277                   0.6           None  nm2980195  "
      ]
     },
     "execution_count": 17,
     "metadata": {},
     "output_type": "execute_result"
    }
   ],
   "source": [
    "# find rows where department is Actors\n",
    "df[df['known_for_department'] == 'Actors']"
   ]
  },
  {
   "cell_type": "code",
   "execution_count": 18,
   "metadata": {},
   "outputs": [],
   "source": [
    "# change Actors to Acting\n",
    "df.loc[df['known_for_department'] == 'Actors'] = 'Acting'"
   ]
  },
  {
   "cell_type": "code",
   "execution_count": 19,
   "metadata": {},
   "outputs": [
    {
     "data": {
      "text/html": [
       "<div>\n",
       "<style scoped>\n",
       "    .dataframe tbody tr th:only-of-type {\n",
       "        vertical-align: middle;\n",
       "    }\n",
       "\n",
       "    .dataframe tbody tr th {\n",
       "        vertical-align: top;\n",
       "    }\n",
       "\n",
       "    .dataframe thead th {\n",
       "        text-align: right;\n",
       "    }\n",
       "</style>\n",
       "<table border=\"1\" class=\"dataframe\">\n",
       "  <thead>\n",
       "    <tr style=\"text-align: right;\">\n",
       "      <th></th>\n",
       "      <th>birthday</th>\n",
       "      <th>known_for_department</th>\n",
       "      <th>id</th>\n",
       "      <th>name</th>\n",
       "      <th>gender</th>\n",
       "      <th>biography</th>\n",
       "      <th>popularity</th>\n",
       "      <th>place_of_birth</th>\n",
       "      <th>imdb_id</th>\n",
       "    </tr>\n",
       "  </thead>\n",
       "  <tbody>\n",
       "  </tbody>\n",
       "</table>\n",
       "</div>"
      ],
      "text/plain": [
       "Empty DataFrame\n",
       "Columns: [birthday, known_for_department, id, name, gender, biography, popularity, place_of_birth, imdb_id]\n",
       "Index: []"
      ]
     },
     "execution_count": 19,
     "metadata": {},
     "output_type": "execute_result"
    }
   ],
   "source": [
    "# trust but verify\n",
    "df[df['known_for_department'] == 'Actors']"
   ]
  },
  {
   "cell_type": "code",
   "execution_count": 20,
   "metadata": {},
   "outputs": [
    {
     "data": {
      "text/plain": [
       "'513 row(s) just dropped. 1677060 row(s) left.'"
      ]
     },
     "execution_count": 20,
     "metadata": {},
     "output_type": "execute_result"
    }
   ],
   "source": [
    "# drop all rows without department data\n",
    "df.dropna(subset=['known_for_department'], inplace=True)\n",
    "rows_dropped()"
   ]
  },
  {
   "cell_type": "markdown",
   "metadata": {},
   "source": [
    "> **id**"
   ]
  },
  {
   "cell_type": "code",
   "execution_count": 21,
   "metadata": {},
   "outputs": [
    {
     "data": {
      "text/plain": [
       "<class 'float'>    1677053\n",
       "<class 'str'>            7\n",
       "Name: id, dtype: int64"
      ]
     },
     "execution_count": 21,
     "metadata": {},
     "output_type": "execute_result"
    }
   ],
   "source": [
    "# check data types\n",
    "df['id'].apply(type).value_counts()"
   ]
  },
  {
   "cell_type": "markdown",
   "metadata": {},
   "source": [
    "There's a few suspicious rows here."
   ]
  },
  {
   "cell_type": "code",
   "execution_count": 22,
   "metadata": {},
   "outputs": [
    {
     "data": {
      "text/html": [
       "<div>\n",
       "<style scoped>\n",
       "    .dataframe tbody tr th:only-of-type {\n",
       "        vertical-align: middle;\n",
       "    }\n",
       "\n",
       "    .dataframe tbody tr th {\n",
       "        vertical-align: top;\n",
       "    }\n",
       "\n",
       "    .dataframe thead th {\n",
       "        text-align: right;\n",
       "    }\n",
       "</style>\n",
       "<table border=\"1\" class=\"dataframe\">\n",
       "  <thead>\n",
       "    <tr style=\"text-align: right;\">\n",
       "      <th></th>\n",
       "      <th>birthday</th>\n",
       "      <th>known_for_department</th>\n",
       "      <th>id</th>\n",
       "      <th>name</th>\n",
       "      <th>gender</th>\n",
       "      <th>biography</th>\n",
       "      <th>popularity</th>\n",
       "      <th>place_of_birth</th>\n",
       "      <th>imdb_id</th>\n",
       "    </tr>\n",
       "  </thead>\n",
       "  <tbody>\n",
       "    <tr>\n",
       "      <th>7343</th>\n",
       "      <td>Acting</td>\n",
       "      <td>Acting</td>\n",
       "      <td>Acting</td>\n",
       "      <td>Acting</td>\n",
       "      <td>Acting</td>\n",
       "      <td>Acting</td>\n",
       "      <td>Acting</td>\n",
       "      <td>Acting</td>\n",
       "      <td>Acting</td>\n",
       "    </tr>\n",
       "    <tr>\n",
       "      <th>14444</th>\n",
       "      <td>Acting</td>\n",
       "      <td>Acting</td>\n",
       "      <td>Acting</td>\n",
       "      <td>Acting</td>\n",
       "      <td>Acting</td>\n",
       "      <td>Acting</td>\n",
       "      <td>Acting</td>\n",
       "      <td>Acting</td>\n",
       "      <td>Acting</td>\n",
       "    </tr>\n",
       "    <tr>\n",
       "      <th>16688</th>\n",
       "      <td>Acting</td>\n",
       "      <td>Acting</td>\n",
       "      <td>Acting</td>\n",
       "      <td>Acting</td>\n",
       "      <td>Acting</td>\n",
       "      <td>Acting</td>\n",
       "      <td>Acting</td>\n",
       "      <td>Acting</td>\n",
       "      <td>Acting</td>\n",
       "    </tr>\n",
       "    <tr>\n",
       "      <th>121452</th>\n",
       "      <td>Acting</td>\n",
       "      <td>Acting</td>\n",
       "      <td>Acting</td>\n",
       "      <td>Acting</td>\n",
       "      <td>Acting</td>\n",
       "      <td>Acting</td>\n",
       "      <td>Acting</td>\n",
       "      <td>Acting</td>\n",
       "      <td>Acting</td>\n",
       "    </tr>\n",
       "    <tr>\n",
       "      <th>130441</th>\n",
       "      <td>Acting</td>\n",
       "      <td>Acting</td>\n",
       "      <td>Acting</td>\n",
       "      <td>Acting</td>\n",
       "      <td>Acting</td>\n",
       "      <td>Acting</td>\n",
       "      <td>Acting</td>\n",
       "      <td>Acting</td>\n",
       "      <td>Acting</td>\n",
       "    </tr>\n",
       "    <tr>\n",
       "      <th>130442</th>\n",
       "      <td>Acting</td>\n",
       "      <td>Acting</td>\n",
       "      <td>Acting</td>\n",
       "      <td>Acting</td>\n",
       "      <td>Acting</td>\n",
       "      <td>Acting</td>\n",
       "      <td>Acting</td>\n",
       "      <td>Acting</td>\n",
       "      <td>Acting</td>\n",
       "    </tr>\n",
       "    <tr>\n",
       "      <th>139277</th>\n",
       "      <td>Acting</td>\n",
       "      <td>Acting</td>\n",
       "      <td>Acting</td>\n",
       "      <td>Acting</td>\n",
       "      <td>Acting</td>\n",
       "      <td>Acting</td>\n",
       "      <td>Acting</td>\n",
       "      <td>Acting</td>\n",
       "      <td>Acting</td>\n",
       "    </tr>\n",
       "  </tbody>\n",
       "</table>\n",
       "</div>"
      ],
      "text/plain": [
       "       birthday known_for_department      id    name  gender biography  \\\n",
       "7343     Acting               Acting  Acting  Acting  Acting    Acting   \n",
       "14444    Acting               Acting  Acting  Acting  Acting    Acting   \n",
       "16688    Acting               Acting  Acting  Acting  Acting    Acting   \n",
       "121452   Acting               Acting  Acting  Acting  Acting    Acting   \n",
       "130441   Acting               Acting  Acting  Acting  Acting    Acting   \n",
       "130442   Acting               Acting  Acting  Acting  Acting    Acting   \n",
       "139277   Acting               Acting  Acting  Acting  Acting    Acting   \n",
       "\n",
       "       popularity place_of_birth imdb_id  \n",
       "7343       Acting         Acting  Acting  \n",
       "14444      Acting         Acting  Acting  \n",
       "16688      Acting         Acting  Acting  \n",
       "121452     Acting         Acting  Acting  \n",
       "130441     Acting         Acting  Acting  \n",
       "130442     Acting         Acting  Acting  \n",
       "139277     Acting         Acting  Acting  "
      ]
     },
     "execution_count": 22,
     "metadata": {},
     "output_type": "execute_result"
    }
   ],
   "source": [
    "# look at rows with strings\n",
    "df[df['id'].apply(type) == str]"
   ]
  },
  {
   "cell_type": "code",
   "execution_count": 23,
   "metadata": {},
   "outputs": [
    {
     "data": {
      "text/plain": [
       "'7 row(s) just dropped. 1677053 row(s) left.'"
      ]
     },
     "execution_count": 23,
     "metadata": {},
     "output_type": "execute_result"
    }
   ],
   "source": [
    "# drop nonsensical rows\n",
    "df.drop(df[df.id.apply(type) == str].index, inplace=True)\n",
    "rows_dropped()"
   ]
  },
  {
   "cell_type": "code",
   "execution_count": 24,
   "metadata": {},
   "outputs": [
    {
     "data": {
      "text/plain": [
       "<class 'float'>    1677053\n",
       "Name: id, dtype: int64"
      ]
     },
     "execution_count": 24,
     "metadata": {},
     "output_type": "execute_result"
    }
   ],
   "source": [
    "# check data types\n",
    "df['id'].apply(type).value_counts()"
   ]
  },
  {
   "cell_type": "markdown",
   "metadata": {},
   "source": [
    "The values are all floats."
   ]
  },
  {
   "cell_type": "markdown",
   "metadata": {},
   "source": [
    "> **NAME**"
   ]
  },
  {
   "cell_type": "code",
   "execution_count": 25,
   "metadata": {},
   "outputs": [
    {
     "data": {
      "text/plain": [
       "<class 'str'>    1677053\n",
       "Name: name, dtype: int64"
      ]
     },
     "execution_count": 25,
     "metadata": {},
     "output_type": "execute_result"
    }
   ],
   "source": [
    "# check data types\n",
    "df['name'].apply(type).value_counts()"
   ]
  },
  {
   "cell_type": "markdown",
   "metadata": {},
   "source": [
    "The values are all strings."
   ]
  },
  {
   "cell_type": "markdown",
   "metadata": {},
   "source": [
    "> **GENDER**"
   ]
  },
  {
   "cell_type": "code",
   "execution_count": 26,
   "metadata": {},
   "outputs": [
    {
     "data": {
      "text/plain": [
       "<class 'float'>    1677053\n",
       "Name: gender, dtype: int64"
      ]
     },
     "execution_count": 26,
     "metadata": {},
     "output_type": "execute_result"
    }
   ],
   "source": [
    "# check data types\n",
    "df['gender'].apply(type).value_counts()"
   ]
  },
  {
   "cell_type": "markdown",
   "metadata": {},
   "source": [
    "All values are all floats."
   ]
  },
  {
   "cell_type": "code",
   "execution_count": 27,
   "metadata": {},
   "outputs": [
    {
     "data": {
      "text/plain": [
       "0.0    1397403\n",
       "2.0     177491\n",
       "1.0     102136\n",
       "3.0         23\n",
       "Name: gender, dtype: int64"
      ]
     },
     "execution_count": 27,
     "metadata": {},
     "output_type": "execute_result"
    }
   ],
   "source": [
    "# check values\n",
    "df.gender.value_counts()"
   ]
  },
  {
   "cell_type": "markdown",
   "metadata": {},
   "source": [
    "Gender type 1 is female and 2 is male. All others are missing data."
   ]
  },
  {
   "cell_type": "code",
   "execution_count": 28,
   "metadata": {},
   "outputs": [
    {
     "data": {
      "text/plain": [
       "2.0    177491\n",
       "1.0    102136\n",
       "Name: gender, dtype: int64"
      ]
     },
     "execution_count": 28,
     "metadata": {},
     "output_type": "execute_result"
    }
   ],
   "source": [
    "# convert missing values to NaN\n",
    "df['gender'] = df['gender'].where((df['gender'] == 1) | (df['gender'] == 2))\n",
    "df.gender.value_counts()"
   ]
  },
  {
   "cell_type": "markdown",
   "metadata": {},
   "source": [
    "These look good now."
   ]
  },
  {
   "cell_type": "markdown",
   "metadata": {},
   "source": [
    "> **BIOGRAPHY**"
   ]
  },
  {
   "cell_type": "code",
   "execution_count": 29,
   "metadata": {},
   "outputs": [
    {
     "data": {
      "text/plain": [
       "<class 'str'>    1677053\n",
       "Name: biography, dtype: int64"
      ]
     },
     "execution_count": 29,
     "metadata": {},
     "output_type": "execute_result"
    }
   ],
   "source": [
    "# check data types\n",
    "df['biography'].apply(type).value_counts()"
   ]
  },
  {
   "cell_type": "markdown",
   "metadata": {},
   "source": [
    "All values are all strings."
   ]
  },
  {
   "cell_type": "markdown",
   "metadata": {},
   "source": [
    "> **POPULARITY**"
   ]
  },
  {
   "cell_type": "code",
   "execution_count": 30,
   "metadata": {},
   "outputs": [
    {
     "data": {
      "text/plain": [
       "<class 'float'>    1677053\n",
       "Name: popularity, dtype: int64"
      ]
     },
     "execution_count": 30,
     "metadata": {},
     "output_type": "execute_result"
    }
   ],
   "source": [
    "# check data types\n",
    "df['popularity'].apply(type).value_counts()"
   ]
  },
  {
   "cell_type": "markdown",
   "metadata": {},
   "source": [
    "All vaues are all floats."
   ]
  },
  {
   "cell_type": "code",
   "execution_count": 31,
   "metadata": {},
   "outputs": [
    {
     "data": {
      "text/plain": [
       "1910847    132.816\n",
       "2472212     88.179\n",
       "1642788     51.328\n",
       "208224      48.423\n",
       "1244        42.005\n",
       "            ...   \n",
       "2085725        0.6\n",
       "2085727        0.6\n",
       "2085728        0.6\n",
       "2085729        0.6\n",
       "1782238        0.6\n",
       "Name: popularity, Length: 1677053, dtype: object"
      ]
     },
     "execution_count": 31,
     "metadata": {},
     "output_type": "execute_result"
    }
   ],
   "source": [
    "# check values\n",
    "df.popularity.sort_values(ascending=False)"
   ]
  },
  {
   "cell_type": "markdown",
   "metadata": {},
   "source": [
    "The scale begins at 0.6 and has no limit."
   ]
  },
  {
   "cell_type": "markdown",
   "metadata": {},
   "source": [
    "> **PLACE OF BIRTH**"
   ]
  },
  {
   "cell_type": "code",
   "execution_count": 32,
   "metadata": {},
   "outputs": [
    {
     "data": {
      "text/plain": [
       "<class 'NoneType'>    1547792\n",
       "<class 'str'>          129261\n",
       "Name: place_of_birth, dtype: int64"
      ]
     },
     "execution_count": 32,
     "metadata": {},
     "output_type": "execute_result"
    }
   ],
   "source": [
    "# check data types\n",
    "df['place_of_birth'].apply(type).value_counts()"
   ]
  },
  {
   "cell_type": "code",
   "execution_count": 33,
   "metadata": {},
   "outputs": [
    {
     "data": {
      "text/plain": [
       "<class 'float'>    1547792\n",
       "<class 'str'>       129261\n",
       "Name: place_of_birth, dtype: int64"
      ]
     },
     "execution_count": 33,
     "metadata": {},
     "output_type": "execute_result"
    }
   ],
   "source": [
    "# convert None types to NaN\n",
    "df['place_of_birth'] = df['place_of_birth'].replace([None], np.NaN)\n",
    "df['place_of_birth'].apply(type).value_counts()"
   ]
  },
  {
   "cell_type": "markdown",
   "metadata": {},
   "source": [
    "All values are all strings."
   ]
  },
  {
   "cell_type": "markdown",
   "metadata": {},
   "source": [
    "> **IMBD ID**"
   ]
  },
  {
   "cell_type": "code",
   "execution_count": 34,
   "metadata": {},
   "outputs": [
    {
     "data": {
      "text/plain": [
       "<class 'str'>         1677050\n",
       "<class 'NoneType'>          3\n",
       "Name: imdb_id, dtype: int64"
      ]
     },
     "execution_count": 34,
     "metadata": {},
     "output_type": "execute_result"
    }
   ],
   "source": [
    "# check data types\n",
    "df['imdb_id'].apply(type).value_counts()"
   ]
  },
  {
   "cell_type": "code",
   "execution_count": 35,
   "metadata": {},
   "outputs": [
    {
     "data": {
      "text/plain": [
       "<class 'str'>      1677050\n",
       "<class 'float'>          3\n",
       "Name: imdb_id, dtype: int64"
      ]
     },
     "execution_count": 35,
     "metadata": {},
     "output_type": "execute_result"
    }
   ],
   "source": [
    "# convert None types to NaN\n",
    "df['imdb_id'] = df['imdb_id'].replace([None], np.NaN)\n",
    "df['imdb_id'].apply(type).value_counts()"
   ]
  },
  {
   "cell_type": "markdown",
   "metadata": {},
   "source": [
    "All values are all strings."
   ]
  },
  {
   "cell_type": "code",
   "execution_count": 36,
   "metadata": {},
   "outputs": [
    {
     "name": "stdout",
     "output_type": "stream",
     "text": [
      "<class 'pandas.core.frame.DataFrame'>\n",
      "Int64Index: 1677053 entries, 0 to 2699999\n",
      "Data columns (total 9 columns):\n",
      " #   Column                Non-Null Count    Dtype \n",
      "---  ------                --------------    ----- \n",
      " 0   birthday              152712 non-null   object\n",
      " 1   known_for_department  1677053 non-null  object\n",
      " 2   id                    1677053 non-null  object\n",
      " 3   name                  1677053 non-null  object\n",
      " 4   gender                279627 non-null   object\n",
      " 5   biography             1677053 non-null  object\n",
      " 6   popularity            1677053 non-null  object\n",
      " 7   place_of_birth        129261 non-null   object\n",
      " 8   imdb_id               1677050 non-null  object\n",
      "dtypes: object(9)\n",
      "memory usage: 127.9+ MB\n"
     ]
    }
   ],
   "source": [
    "# inspect to verify DataFrame is clean\n",
    "df.info()"
   ]
  },
  {
   "cell_type": "markdown",
   "metadata": {},
   "source": [
    "The four categories with missing values are birthday, gender, place of birth, and IMDb ID.<br>\n",
    "I may need to use data in the first three as actor metadata. The IMDb ID only has three missing values.<br>\n",
    "I will attempt to fill some of those missing values by leveraging other datasets in a separate notebook.<br>\n",
    "If I need to drop them later, I will do so. For now, I'll accept fewer observations for maximaizing features."
   ]
  },
  {
   "cell_type": "code",
   "execution_count": 37,
   "metadata": {},
   "outputs": [
    {
     "data": {
      "text/plain": [
       "(1677053, 9)"
      ]
     },
     "execution_count": 37,
     "metadata": {},
     "output_type": "execute_result"
    }
   ],
   "source": [
    "# look at final shape\n",
    "df.shape"
   ]
  },
  {
   "cell_type": "code",
   "execution_count": 38,
   "metadata": {},
   "outputs": [],
   "source": [
    "# store clean data in JSON\n",
    "df.to_json('tmdb_person_clean.json')"
   ]
  }
 ],
 "metadata": {
  "kernelspec": {
   "display_name": "Python 3",
   "language": "python",
   "name": "python3"
  },
  "language_info": {
   "codemirror_mode": {
    "name": "ipython",
    "version": 3
   },
   "file_extension": ".py",
   "mimetype": "text/x-python",
   "name": "python",
   "nbconvert_exporter": "python",
   "pygments_lexer": "ipython3",
   "version": "3.7.7"
  }
 },
 "nbformat": 4,
 "nbformat_minor": 4
}
