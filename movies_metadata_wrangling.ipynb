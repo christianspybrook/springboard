{
 "cells": [
  {
   "cell_type": "code",
   "execution_count": 1,
   "metadata": {},
   "outputs": [],
   "source": [
    "import pandas as pd\n",
    "import numpy as np\n",
    "import json"
   ]
  },
  {
   "cell_type": "code",
   "execution_count": 2,
   "metadata": {},
   "outputs": [
    {
     "name": "stderr",
     "output_type": "stream",
     "text": [
      "/home/lord_black/anaconda3/envs/movieCap1/lib/python3.7/site-packages/IPython/core/interactiveshell.py:3063: DtypeWarning: Columns (10) have mixed types.Specify dtype option on import or set low_memory=False.\n",
      "  interactivity=interactivity, compiler=compiler, result=result)\n"
     ]
    },
    {
     "data": {
      "text/html": [
       "<div>\n",
       "<style scoped>\n",
       "    .dataframe tbody tr th:only-of-type {\n",
       "        vertical-align: middle;\n",
       "    }\n",
       "\n",
       "    .dataframe tbody tr th {\n",
       "        vertical-align: top;\n",
       "    }\n",
       "\n",
       "    .dataframe thead th {\n",
       "        text-align: right;\n",
       "    }\n",
       "</style>\n",
       "<table border=\"1\" class=\"dataframe\">\n",
       "  <thead>\n",
       "    <tr style=\"text-align: right;\">\n",
       "      <th></th>\n",
       "      <th>0</th>\n",
       "      <th>1</th>\n",
       "      <th>2</th>\n",
       "      <th>3</th>\n",
       "      <th>4</th>\n",
       "    </tr>\n",
       "  </thead>\n",
       "  <tbody>\n",
       "    <tr>\n",
       "      <th>adult</th>\n",
       "      <td>False</td>\n",
       "      <td>False</td>\n",
       "      <td>False</td>\n",
       "      <td>False</td>\n",
       "      <td>False</td>\n",
       "    </tr>\n",
       "    <tr>\n",
       "      <th>belongs_to_collection</th>\n",
       "      <td>{'id': 10194, 'name': 'Toy Story Collection', ...</td>\n",
       "      <td>NaN</td>\n",
       "      <td>{'id': 119050, 'name': 'Grumpy Old Men Collect...</td>\n",
       "      <td>NaN</td>\n",
       "      <td>{'id': 96871, 'name': 'Father of the Bride Col...</td>\n",
       "    </tr>\n",
       "    <tr>\n",
       "      <th>budget</th>\n",
       "      <td>30000000</td>\n",
       "      <td>65000000</td>\n",
       "      <td>0</td>\n",
       "      <td>16000000</td>\n",
       "      <td>0</td>\n",
       "    </tr>\n",
       "    <tr>\n",
       "      <th>genres</th>\n",
       "      <td>[{'id': 16, 'name': 'Animation'}, {'id': 35, '...</td>\n",
       "      <td>[{'id': 12, 'name': 'Adventure'}, {'id': 14, '...</td>\n",
       "      <td>[{'id': 10749, 'name': 'Romance'}, {'id': 35, ...</td>\n",
       "      <td>[{'id': 35, 'name': 'Comedy'}, {'id': 18, 'nam...</td>\n",
       "      <td>[{'id': 35, 'name': 'Comedy'}]</td>\n",
       "    </tr>\n",
       "    <tr>\n",
       "      <th>homepage</th>\n",
       "      <td>http://toystory.disney.com/toy-story</td>\n",
       "      <td>NaN</td>\n",
       "      <td>NaN</td>\n",
       "      <td>NaN</td>\n",
       "      <td>NaN</td>\n",
       "    </tr>\n",
       "    <tr>\n",
       "      <th>id</th>\n",
       "      <td>862</td>\n",
       "      <td>8844</td>\n",
       "      <td>15602</td>\n",
       "      <td>31357</td>\n",
       "      <td>11862</td>\n",
       "    </tr>\n",
       "    <tr>\n",
       "      <th>imdb_id</th>\n",
       "      <td>tt0114709</td>\n",
       "      <td>tt0113497</td>\n",
       "      <td>tt0113228</td>\n",
       "      <td>tt0114885</td>\n",
       "      <td>tt0113041</td>\n",
       "    </tr>\n",
       "    <tr>\n",
       "      <th>original_language</th>\n",
       "      <td>en</td>\n",
       "      <td>en</td>\n",
       "      <td>en</td>\n",
       "      <td>en</td>\n",
       "      <td>en</td>\n",
       "    </tr>\n",
       "    <tr>\n",
       "      <th>original_title</th>\n",
       "      <td>Toy Story</td>\n",
       "      <td>Jumanji</td>\n",
       "      <td>Grumpier Old Men</td>\n",
       "      <td>Waiting to Exhale</td>\n",
       "      <td>Father of the Bride Part II</td>\n",
       "    </tr>\n",
       "    <tr>\n",
       "      <th>overview</th>\n",
       "      <td>Led by Woody, Andy's toys live happily in his ...</td>\n",
       "      <td>When siblings Judy and Peter discover an encha...</td>\n",
       "      <td>A family wedding reignites the ancient feud be...</td>\n",
       "      <td>Cheated on, mistreated and stepped on, the wom...</td>\n",
       "      <td>Just when George Banks has recovered from his ...</td>\n",
       "    </tr>\n",
       "    <tr>\n",
       "      <th>popularity</th>\n",
       "      <td>21.9469</td>\n",
       "      <td>17.0155</td>\n",
       "      <td>11.7129</td>\n",
       "      <td>3.85949</td>\n",
       "      <td>8.38752</td>\n",
       "    </tr>\n",
       "    <tr>\n",
       "      <th>poster_path</th>\n",
       "      <td>/rhIRbceoE9lR4veEXuwCC2wARtG.jpg</td>\n",
       "      <td>/vzmL6fP7aPKNKPRTFnZmiUfciyV.jpg</td>\n",
       "      <td>/6ksm1sjKMFLbO7UY2i6G1ju9SML.jpg</td>\n",
       "      <td>/16XOMpEaLWkrcPqSQqhTmeJuqQl.jpg</td>\n",
       "      <td>/e64sOI48hQXyru7naBFyssKFxVd.jpg</td>\n",
       "    </tr>\n",
       "    <tr>\n",
       "      <th>production_companies</th>\n",
       "      <td>[{'name': 'Pixar Animation Studios', 'id': 3}]</td>\n",
       "      <td>[{'name': 'TriStar Pictures', 'id': 559}, {'na...</td>\n",
       "      <td>[{'name': 'Warner Bros.', 'id': 6194}, {'name'...</td>\n",
       "      <td>[{'name': 'Twentieth Century Fox Film Corporat...</td>\n",
       "      <td>[{'name': 'Sandollar Productions', 'id': 5842}...</td>\n",
       "    </tr>\n",
       "    <tr>\n",
       "      <th>production_countries</th>\n",
       "      <td>[{'iso_3166_1': 'US', 'name': 'United States o...</td>\n",
       "      <td>[{'iso_3166_1': 'US', 'name': 'United States o...</td>\n",
       "      <td>[{'iso_3166_1': 'US', 'name': 'United States o...</td>\n",
       "      <td>[{'iso_3166_1': 'US', 'name': 'United States o...</td>\n",
       "      <td>[{'iso_3166_1': 'US', 'name': 'United States o...</td>\n",
       "    </tr>\n",
       "    <tr>\n",
       "      <th>release_date</th>\n",
       "      <td>1995-10-30</td>\n",
       "      <td>1995-12-15</td>\n",
       "      <td>1995-12-22</td>\n",
       "      <td>1995-12-22</td>\n",
       "      <td>1995-02-10</td>\n",
       "    </tr>\n",
       "    <tr>\n",
       "      <th>revenue</th>\n",
       "      <td>3.73554e+08</td>\n",
       "      <td>2.62797e+08</td>\n",
       "      <td>0</td>\n",
       "      <td>8.14522e+07</td>\n",
       "      <td>7.65789e+07</td>\n",
       "    </tr>\n",
       "    <tr>\n",
       "      <th>runtime</th>\n",
       "      <td>81</td>\n",
       "      <td>104</td>\n",
       "      <td>101</td>\n",
       "      <td>127</td>\n",
       "      <td>106</td>\n",
       "    </tr>\n",
       "    <tr>\n",
       "      <th>spoken_languages</th>\n",
       "      <td>[{'iso_639_1': 'en', 'name': 'English'}]</td>\n",
       "      <td>[{'iso_639_1': 'en', 'name': 'English'}, {'iso...</td>\n",
       "      <td>[{'iso_639_1': 'en', 'name': 'English'}]</td>\n",
       "      <td>[{'iso_639_1': 'en', 'name': 'English'}]</td>\n",
       "      <td>[{'iso_639_1': 'en', 'name': 'English'}]</td>\n",
       "    </tr>\n",
       "    <tr>\n",
       "      <th>status</th>\n",
       "      <td>Released</td>\n",
       "      <td>Released</td>\n",
       "      <td>Released</td>\n",
       "      <td>Released</td>\n",
       "      <td>Released</td>\n",
       "    </tr>\n",
       "    <tr>\n",
       "      <th>tagline</th>\n",
       "      <td>NaN</td>\n",
       "      <td>Roll the dice and unleash the excitement!</td>\n",
       "      <td>Still Yelling. Still Fighting. Still Ready for...</td>\n",
       "      <td>Friends are the people who let you be yourself...</td>\n",
       "      <td>Just When His World Is Back To Normal... He's ...</td>\n",
       "    </tr>\n",
       "    <tr>\n",
       "      <th>title</th>\n",
       "      <td>Toy Story</td>\n",
       "      <td>Jumanji</td>\n",
       "      <td>Grumpier Old Men</td>\n",
       "      <td>Waiting to Exhale</td>\n",
       "      <td>Father of the Bride Part II</td>\n",
       "    </tr>\n",
       "    <tr>\n",
       "      <th>video</th>\n",
       "      <td>False</td>\n",
       "      <td>False</td>\n",
       "      <td>False</td>\n",
       "      <td>False</td>\n",
       "      <td>False</td>\n",
       "    </tr>\n",
       "    <tr>\n",
       "      <th>vote_average</th>\n",
       "      <td>7.7</td>\n",
       "      <td>6.9</td>\n",
       "      <td>6.5</td>\n",
       "      <td>6.1</td>\n",
       "      <td>5.7</td>\n",
       "    </tr>\n",
       "    <tr>\n",
       "      <th>vote_count</th>\n",
       "      <td>5415</td>\n",
       "      <td>2413</td>\n",
       "      <td>92</td>\n",
       "      <td>34</td>\n",
       "      <td>173</td>\n",
       "    </tr>\n",
       "  </tbody>\n",
       "</table>\n",
       "</div>"
      ],
      "text/plain": [
       "                                                                       0  \\\n",
       "adult                                                              False   \n",
       "belongs_to_collection  {'id': 10194, 'name': 'Toy Story Collection', ...   \n",
       "budget                                                          30000000   \n",
       "genres                 [{'id': 16, 'name': 'Animation'}, {'id': 35, '...   \n",
       "homepage                            http://toystory.disney.com/toy-story   \n",
       "id                                                                   862   \n",
       "imdb_id                                                        tt0114709   \n",
       "original_language                                                     en   \n",
       "original_title                                                 Toy Story   \n",
       "overview               Led by Woody, Andy's toys live happily in his ...   \n",
       "popularity                                                       21.9469   \n",
       "poster_path                             /rhIRbceoE9lR4veEXuwCC2wARtG.jpg   \n",
       "production_companies      [{'name': 'Pixar Animation Studios', 'id': 3}]   \n",
       "production_countries   [{'iso_3166_1': 'US', 'name': 'United States o...   \n",
       "release_date                                                  1995-10-30   \n",
       "revenue                                                      3.73554e+08   \n",
       "runtime                                                               81   \n",
       "spoken_languages                [{'iso_639_1': 'en', 'name': 'English'}]   \n",
       "status                                                          Released   \n",
       "tagline                                                              NaN   \n",
       "title                                                          Toy Story   \n",
       "video                                                              False   \n",
       "vote_average                                                         7.7   \n",
       "vote_count                                                          5415   \n",
       "\n",
       "                                                                       1  \\\n",
       "adult                                                              False   \n",
       "belongs_to_collection                                                NaN   \n",
       "budget                                                          65000000   \n",
       "genres                 [{'id': 12, 'name': 'Adventure'}, {'id': 14, '...   \n",
       "homepage                                                             NaN   \n",
       "id                                                                  8844   \n",
       "imdb_id                                                        tt0113497   \n",
       "original_language                                                     en   \n",
       "original_title                                                   Jumanji   \n",
       "overview               When siblings Judy and Peter discover an encha...   \n",
       "popularity                                                       17.0155   \n",
       "poster_path                             /vzmL6fP7aPKNKPRTFnZmiUfciyV.jpg   \n",
       "production_companies   [{'name': 'TriStar Pictures', 'id': 559}, {'na...   \n",
       "production_countries   [{'iso_3166_1': 'US', 'name': 'United States o...   \n",
       "release_date                                                  1995-12-15   \n",
       "revenue                                                      2.62797e+08   \n",
       "runtime                                                              104   \n",
       "spoken_languages       [{'iso_639_1': 'en', 'name': 'English'}, {'iso...   \n",
       "status                                                          Released   \n",
       "tagline                        Roll the dice and unleash the excitement!   \n",
       "title                                                            Jumanji   \n",
       "video                                                              False   \n",
       "vote_average                                                         6.9   \n",
       "vote_count                                                          2413   \n",
       "\n",
       "                                                                       2  \\\n",
       "adult                                                              False   \n",
       "belongs_to_collection  {'id': 119050, 'name': 'Grumpy Old Men Collect...   \n",
       "budget                                                                 0   \n",
       "genres                 [{'id': 10749, 'name': 'Romance'}, {'id': 35, ...   \n",
       "homepage                                                             NaN   \n",
       "id                                                                 15602   \n",
       "imdb_id                                                        tt0113228   \n",
       "original_language                                                     en   \n",
       "original_title                                          Grumpier Old Men   \n",
       "overview               A family wedding reignites the ancient feud be...   \n",
       "popularity                                                       11.7129   \n",
       "poster_path                             /6ksm1sjKMFLbO7UY2i6G1ju9SML.jpg   \n",
       "production_companies   [{'name': 'Warner Bros.', 'id': 6194}, {'name'...   \n",
       "production_countries   [{'iso_3166_1': 'US', 'name': 'United States o...   \n",
       "release_date                                                  1995-12-22   \n",
       "revenue                                                                0   \n",
       "runtime                                                              101   \n",
       "spoken_languages                [{'iso_639_1': 'en', 'name': 'English'}]   \n",
       "status                                                          Released   \n",
       "tagline                Still Yelling. Still Fighting. Still Ready for...   \n",
       "title                                                   Grumpier Old Men   \n",
       "video                                                              False   \n",
       "vote_average                                                         6.5   \n",
       "vote_count                                                            92   \n",
       "\n",
       "                                                                       3  \\\n",
       "adult                                                              False   \n",
       "belongs_to_collection                                                NaN   \n",
       "budget                                                          16000000   \n",
       "genres                 [{'id': 35, 'name': 'Comedy'}, {'id': 18, 'nam...   \n",
       "homepage                                                             NaN   \n",
       "id                                                                 31357   \n",
       "imdb_id                                                        tt0114885   \n",
       "original_language                                                     en   \n",
       "original_title                                         Waiting to Exhale   \n",
       "overview               Cheated on, mistreated and stepped on, the wom...   \n",
       "popularity                                                       3.85949   \n",
       "poster_path                             /16XOMpEaLWkrcPqSQqhTmeJuqQl.jpg   \n",
       "production_companies   [{'name': 'Twentieth Century Fox Film Corporat...   \n",
       "production_countries   [{'iso_3166_1': 'US', 'name': 'United States o...   \n",
       "release_date                                                  1995-12-22   \n",
       "revenue                                                      8.14522e+07   \n",
       "runtime                                                              127   \n",
       "spoken_languages                [{'iso_639_1': 'en', 'name': 'English'}]   \n",
       "status                                                          Released   \n",
       "tagline                Friends are the people who let you be yourself...   \n",
       "title                                                  Waiting to Exhale   \n",
       "video                                                              False   \n",
       "vote_average                                                         6.1   \n",
       "vote_count                                                            34   \n",
       "\n",
       "                                                                       4  \n",
       "adult                                                              False  \n",
       "belongs_to_collection  {'id': 96871, 'name': 'Father of the Bride Col...  \n",
       "budget                                                                 0  \n",
       "genres                                    [{'id': 35, 'name': 'Comedy'}]  \n",
       "homepage                                                             NaN  \n",
       "id                                                                 11862  \n",
       "imdb_id                                                        tt0113041  \n",
       "original_language                                                     en  \n",
       "original_title                               Father of the Bride Part II  \n",
       "overview               Just when George Banks has recovered from his ...  \n",
       "popularity                                                       8.38752  \n",
       "poster_path                             /e64sOI48hQXyru7naBFyssKFxVd.jpg  \n",
       "production_companies   [{'name': 'Sandollar Productions', 'id': 5842}...  \n",
       "production_countries   [{'iso_3166_1': 'US', 'name': 'United States o...  \n",
       "release_date                                                  1995-02-10  \n",
       "revenue                                                      7.65789e+07  \n",
       "runtime                                                              106  \n",
       "spoken_languages                [{'iso_639_1': 'en', 'name': 'English'}]  \n",
       "status                                                          Released  \n",
       "tagline                Just When His World Is Back To Normal... He's ...  \n",
       "title                                        Father of the Bride Part II  \n",
       "video                                                              False  \n",
       "vote_average                                                         5.7  \n",
       "vote_count                                                           173  "
      ]
     },
     "execution_count": 2,
     "metadata": {},
     "output_type": "execute_result"
    }
   ],
   "source": [
    "# reading in the movies metadata\n",
    "df = pd.read_csv('movies_metadata.csv')\n",
    "df.head().transpose()"
   ]
  },
  {
   "cell_type": "markdown",
   "metadata": {},
   "source": [
    "I get an warning because column 10 has mixed data types."
   ]
  },
  {
   "cell_type": "code",
   "execution_count": 3,
   "metadata": {},
   "outputs": [
    {
     "data": {
      "text/plain": [
       "<class 'float'>    32769\n",
       "<class 'str'>      12697\n",
       "Name: popularity, dtype: int64"
      ]
     },
     "execution_count": 3,
     "metadata": {},
     "output_type": "execute_result"
    }
   ],
   "source": [
    "# look at data types in column 10\n",
    "df['popularity'].apply(type).value_counts()"
   ]
  },
  {
   "cell_type": "markdown",
   "metadata": {},
   "source": [
    "Some of the numeric data are strings."
   ]
  },
  {
   "cell_type": "code",
   "execution_count": 4,
   "metadata": {},
   "outputs": [
    {
     "data": {
      "text/plain": [
       "<class 'float'>    45466\n",
       "Name: popularity, dtype: int64"
      ]
     },
     "execution_count": 4,
     "metadata": {},
     "output_type": "execute_result"
    }
   ],
   "source": [
    "# convert strings to numeric and check that it worked\n",
    "df['popularity'] = pd.to_numeric(df['popularity'], errors='coerce')\n",
    "df['popularity'].apply(type).value_counts()"
   ]
  },
  {
   "cell_type": "code",
   "execution_count": 5,
   "metadata": {},
   "outputs": [
    {
     "data": {
      "text/plain": [
       "(45466, 24)"
      ]
     },
     "execution_count": 5,
     "metadata": {},
     "output_type": "execute_result"
    }
   ],
   "source": [
    "# check number of entries and columns\n",
    "df.shape"
   ]
  },
  {
   "cell_type": "markdown",
   "metadata": {},
   "source": [
    "We are starting with 45,466 entries."
   ]
  },
  {
   "cell_type": "code",
   "execution_count": 6,
   "metadata": {},
   "outputs": [
    {
     "data": {
      "text/plain": [
       "45466"
      ]
     },
     "execution_count": 6,
     "metadata": {},
     "output_type": "execute_result"
    }
   ],
   "source": [
    "# store number of original entries\n",
    "STARTING_ROWS = df.shape[0]\n",
    "STARTING_ROWS"
   ]
  },
  {
   "cell_type": "markdown",
   "metadata": {},
   "source": [
    "I will start by removing columns that I do not need."
   ]
  },
  {
   "cell_type": "code",
   "execution_count": 7,
   "metadata": {},
   "outputs": [],
   "source": [
    "# create a list of features to remove\n",
    "drop_list = ['adult', 'homepage', 'original_language', 'original_title', 'overview', 'popularity', 'poster_path', \n",
    "             'production_companies', 'production_countries', 'spoken_languages', 'status', 'tagline', 'video', \n",
    "             'vote_average', 'vote_count']"
   ]
  },
  {
   "cell_type": "code",
   "execution_count": 8,
   "metadata": {},
   "outputs": [
    {
     "data": {
      "text/html": [
       "<div>\n",
       "<style scoped>\n",
       "    .dataframe tbody tr th:only-of-type {\n",
       "        vertical-align: middle;\n",
       "    }\n",
       "\n",
       "    .dataframe tbody tr th {\n",
       "        vertical-align: top;\n",
       "    }\n",
       "\n",
       "    .dataframe thead th {\n",
       "        text-align: right;\n",
       "    }\n",
       "</style>\n",
       "<table border=\"1\" class=\"dataframe\">\n",
       "  <thead>\n",
       "    <tr style=\"text-align: right;\">\n",
       "      <th></th>\n",
       "      <th>0</th>\n",
       "      <th>1</th>\n",
       "      <th>2</th>\n",
       "      <th>3</th>\n",
       "      <th>4</th>\n",
       "    </tr>\n",
       "  </thead>\n",
       "  <tbody>\n",
       "    <tr>\n",
       "      <th>belongs_to_collection</th>\n",
       "      <td>{'id': 10194, 'name': 'Toy Story Collection', ...</td>\n",
       "      <td>NaN</td>\n",
       "      <td>{'id': 119050, 'name': 'Grumpy Old Men Collect...</td>\n",
       "      <td>NaN</td>\n",
       "      <td>{'id': 96871, 'name': 'Father of the Bride Col...</td>\n",
       "    </tr>\n",
       "    <tr>\n",
       "      <th>budget</th>\n",
       "      <td>30000000</td>\n",
       "      <td>65000000</td>\n",
       "      <td>0</td>\n",
       "      <td>16000000</td>\n",
       "      <td>0</td>\n",
       "    </tr>\n",
       "    <tr>\n",
       "      <th>genres</th>\n",
       "      <td>[{'id': 16, 'name': 'Animation'}, {'id': 35, '...</td>\n",
       "      <td>[{'id': 12, 'name': 'Adventure'}, {'id': 14, '...</td>\n",
       "      <td>[{'id': 10749, 'name': 'Romance'}, {'id': 35, ...</td>\n",
       "      <td>[{'id': 35, 'name': 'Comedy'}, {'id': 18, 'nam...</td>\n",
       "      <td>[{'id': 35, 'name': 'Comedy'}]</td>\n",
       "    </tr>\n",
       "    <tr>\n",
       "      <th>id</th>\n",
       "      <td>862</td>\n",
       "      <td>8844</td>\n",
       "      <td>15602</td>\n",
       "      <td>31357</td>\n",
       "      <td>11862</td>\n",
       "    </tr>\n",
       "    <tr>\n",
       "      <th>imdb_id</th>\n",
       "      <td>tt0114709</td>\n",
       "      <td>tt0113497</td>\n",
       "      <td>tt0113228</td>\n",
       "      <td>tt0114885</td>\n",
       "      <td>tt0113041</td>\n",
       "    </tr>\n",
       "    <tr>\n",
       "      <th>release_date</th>\n",
       "      <td>1995-10-30</td>\n",
       "      <td>1995-12-15</td>\n",
       "      <td>1995-12-22</td>\n",
       "      <td>1995-12-22</td>\n",
       "      <td>1995-02-10</td>\n",
       "    </tr>\n",
       "    <tr>\n",
       "      <th>revenue</th>\n",
       "      <td>3.73554e+08</td>\n",
       "      <td>2.62797e+08</td>\n",
       "      <td>0</td>\n",
       "      <td>8.14522e+07</td>\n",
       "      <td>7.65789e+07</td>\n",
       "    </tr>\n",
       "    <tr>\n",
       "      <th>runtime</th>\n",
       "      <td>81</td>\n",
       "      <td>104</td>\n",
       "      <td>101</td>\n",
       "      <td>127</td>\n",
       "      <td>106</td>\n",
       "    </tr>\n",
       "    <tr>\n",
       "      <th>title</th>\n",
       "      <td>Toy Story</td>\n",
       "      <td>Jumanji</td>\n",
       "      <td>Grumpier Old Men</td>\n",
       "      <td>Waiting to Exhale</td>\n",
       "      <td>Father of the Bride Part II</td>\n",
       "    </tr>\n",
       "  </tbody>\n",
       "</table>\n",
       "</div>"
      ],
      "text/plain": [
       "                                                                       0  \\\n",
       "belongs_to_collection  {'id': 10194, 'name': 'Toy Story Collection', ...   \n",
       "budget                                                          30000000   \n",
       "genres                 [{'id': 16, 'name': 'Animation'}, {'id': 35, '...   \n",
       "id                                                                   862   \n",
       "imdb_id                                                        tt0114709   \n",
       "release_date                                                  1995-10-30   \n",
       "revenue                                                      3.73554e+08   \n",
       "runtime                                                               81   \n",
       "title                                                          Toy Story   \n",
       "\n",
       "                                                                       1  \\\n",
       "belongs_to_collection                                                NaN   \n",
       "budget                                                          65000000   \n",
       "genres                 [{'id': 12, 'name': 'Adventure'}, {'id': 14, '...   \n",
       "id                                                                  8844   \n",
       "imdb_id                                                        tt0113497   \n",
       "release_date                                                  1995-12-15   \n",
       "revenue                                                      2.62797e+08   \n",
       "runtime                                                              104   \n",
       "title                                                            Jumanji   \n",
       "\n",
       "                                                                       2  \\\n",
       "belongs_to_collection  {'id': 119050, 'name': 'Grumpy Old Men Collect...   \n",
       "budget                                                                 0   \n",
       "genres                 [{'id': 10749, 'name': 'Romance'}, {'id': 35, ...   \n",
       "id                                                                 15602   \n",
       "imdb_id                                                        tt0113228   \n",
       "release_date                                                  1995-12-22   \n",
       "revenue                                                                0   \n",
       "runtime                                                              101   \n",
       "title                                                   Grumpier Old Men   \n",
       "\n",
       "                                                                       3  \\\n",
       "belongs_to_collection                                                NaN   \n",
       "budget                                                          16000000   \n",
       "genres                 [{'id': 35, 'name': 'Comedy'}, {'id': 18, 'nam...   \n",
       "id                                                                 31357   \n",
       "imdb_id                                                        tt0114885   \n",
       "release_date                                                  1995-12-22   \n",
       "revenue                                                      8.14522e+07   \n",
       "runtime                                                              127   \n",
       "title                                                  Waiting to Exhale   \n",
       "\n",
       "                                                                       4  \n",
       "belongs_to_collection  {'id': 96871, 'name': 'Father of the Bride Col...  \n",
       "budget                                                                 0  \n",
       "genres                                    [{'id': 35, 'name': 'Comedy'}]  \n",
       "id                                                                 11862  \n",
       "imdb_id                                                        tt0113041  \n",
       "release_date                                                  1995-02-10  \n",
       "revenue                                                      7.65789e+07  \n",
       "runtime                                                              106  \n",
       "title                                        Father of the Bride Part II  "
      ]
     },
     "execution_count": 8,
     "metadata": {},
     "output_type": "execute_result"
    }
   ],
   "source": [
    "# remove the columns not needed\n",
    "df = df.drop(drop_list, axis=1)\n",
    "df.head().transpose()"
   ]
  },
  {
   "cell_type": "code",
   "execution_count": 9,
   "metadata": {},
   "outputs": [
    {
     "data": {
      "text/plain": [
       "(45466, 9)"
      ]
     },
     "execution_count": 9,
     "metadata": {},
     "output_type": "execute_result"
    }
   ],
   "source": [
    "# check number of columns after dropping some\n",
    "df.shape"
   ]
  },
  {
   "cell_type": "code",
   "execution_count": 10,
   "metadata": {},
   "outputs": [
    {
     "name": "stdout",
     "output_type": "stream",
     "text": [
      "<class 'pandas.core.frame.DataFrame'>\n",
      "RangeIndex: 45466 entries, 0 to 45465\n",
      "Data columns (total 9 columns):\n",
      " #   Column                 Non-Null Count  Dtype  \n",
      "---  ------                 --------------  -----  \n",
      " 0   belongs_to_collection  4494 non-null   object \n",
      " 1   budget                 45466 non-null  object \n",
      " 2   genres                 45466 non-null  object \n",
      " 3   id                     45466 non-null  object \n",
      " 4   imdb_id                45449 non-null  object \n",
      " 5   release_date           45379 non-null  object \n",
      " 6   revenue                45460 non-null  float64\n",
      " 7   runtime                45203 non-null  float64\n",
      " 8   title                  45460 non-null  object \n",
      "dtypes: float64(2), object(7)\n",
      "memory usage: 3.1+ MB\n"
     ]
    }
   ],
   "source": [
    "# look at what's left\n",
    "df.info()"
   ]
  },
  {
   "cell_type": "markdown",
   "metadata": {},
   "source": [
    "> **BELONGS TO COLLECTION**"
   ]
  },
  {
   "cell_type": "markdown",
   "metadata": {},
   "source": [
    "I want the collection data to be simple boolean values."
   ]
  },
  {
   "cell_type": "code",
   "execution_count": 11,
   "metadata": {},
   "outputs": [
    {
     "data": {
      "text/plain": [
       "<class 'float'>    40972\n",
       "<class 'str'>       4494\n",
       "Name: belongs_to_collection, dtype: int64"
      ]
     },
     "execution_count": 11,
     "metadata": {},
     "output_type": "execute_result"
    }
   ],
   "source": [
    "# look at the data types for column\n",
    "df['belongs_to_collection'].apply(type).value_counts()"
   ]
  },
  {
   "cell_type": "code",
   "execution_count": 12,
   "metadata": {},
   "outputs": [
    {
     "data": {
      "text/plain": [
       "<class 'bool'>    40972\n",
       "<class 'str'>      4494\n",
       "Name: belongs_to_collection, dtype: int64"
      ]
     },
     "execution_count": 12,
     "metadata": {},
     "output_type": "execute_result"
    }
   ],
   "source": [
    "# convert all the NaN's to False\n",
    "df['belongs_to_collection'] = df['belongs_to_collection'].fillna(False)\n",
    "df['belongs_to_collection'].apply(type).value_counts()"
   ]
  },
  {
   "cell_type": "code",
   "execution_count": 13,
   "metadata": {},
   "outputs": [
    {
     "data": {
      "text/plain": [
       "<class 'bool'>    45466\n",
       "Name: belongs_to_collection, dtype: int64"
      ]
     },
     "execution_count": 13,
     "metadata": {},
     "output_type": "execute_result"
    }
   ],
   "source": [
    "# convert all the strings to True\n",
    "df['belongs_to_collection'] = df['belongs_to_collection'].astype(bool)\n",
    "df['belongs_to_collection'].apply(type).value_counts()"
   ]
  },
  {
   "cell_type": "code",
   "execution_count": 14,
   "metadata": {},
   "outputs": [
    {
     "data": {
      "text/html": [
       "<div>\n",
       "<style scoped>\n",
       "    .dataframe tbody tr th:only-of-type {\n",
       "        vertical-align: middle;\n",
       "    }\n",
       "\n",
       "    .dataframe tbody tr th {\n",
       "        vertical-align: top;\n",
       "    }\n",
       "\n",
       "    .dataframe thead th {\n",
       "        text-align: right;\n",
       "    }\n",
       "</style>\n",
       "<table border=\"1\" class=\"dataframe\">\n",
       "  <thead>\n",
       "    <tr style=\"text-align: right;\">\n",
       "      <th></th>\n",
       "      <th>0</th>\n",
       "      <th>1</th>\n",
       "      <th>2</th>\n",
       "      <th>3</th>\n",
       "      <th>4</th>\n",
       "    </tr>\n",
       "  </thead>\n",
       "  <tbody>\n",
       "    <tr>\n",
       "      <th>belongs_to_collection</th>\n",
       "      <td>True</td>\n",
       "      <td>False</td>\n",
       "      <td>True</td>\n",
       "      <td>False</td>\n",
       "      <td>True</td>\n",
       "    </tr>\n",
       "    <tr>\n",
       "      <th>budget</th>\n",
       "      <td>30000000</td>\n",
       "      <td>65000000</td>\n",
       "      <td>0</td>\n",
       "      <td>16000000</td>\n",
       "      <td>0</td>\n",
       "    </tr>\n",
       "    <tr>\n",
       "      <th>genres</th>\n",
       "      <td>[{'id': 16, 'name': 'Animation'}, {'id': 35, '...</td>\n",
       "      <td>[{'id': 12, 'name': 'Adventure'}, {'id': 14, '...</td>\n",
       "      <td>[{'id': 10749, 'name': 'Romance'}, {'id': 35, ...</td>\n",
       "      <td>[{'id': 35, 'name': 'Comedy'}, {'id': 18, 'nam...</td>\n",
       "      <td>[{'id': 35, 'name': 'Comedy'}]</td>\n",
       "    </tr>\n",
       "    <tr>\n",
       "      <th>id</th>\n",
       "      <td>862</td>\n",
       "      <td>8844</td>\n",
       "      <td>15602</td>\n",
       "      <td>31357</td>\n",
       "      <td>11862</td>\n",
       "    </tr>\n",
       "    <tr>\n",
       "      <th>imdb_id</th>\n",
       "      <td>tt0114709</td>\n",
       "      <td>tt0113497</td>\n",
       "      <td>tt0113228</td>\n",
       "      <td>tt0114885</td>\n",
       "      <td>tt0113041</td>\n",
       "    </tr>\n",
       "    <tr>\n",
       "      <th>release_date</th>\n",
       "      <td>1995-10-30</td>\n",
       "      <td>1995-12-15</td>\n",
       "      <td>1995-12-22</td>\n",
       "      <td>1995-12-22</td>\n",
       "      <td>1995-02-10</td>\n",
       "    </tr>\n",
       "    <tr>\n",
       "      <th>revenue</th>\n",
       "      <td>3.73554e+08</td>\n",
       "      <td>2.62797e+08</td>\n",
       "      <td>0</td>\n",
       "      <td>8.14522e+07</td>\n",
       "      <td>7.65789e+07</td>\n",
       "    </tr>\n",
       "    <tr>\n",
       "      <th>runtime</th>\n",
       "      <td>81</td>\n",
       "      <td>104</td>\n",
       "      <td>101</td>\n",
       "      <td>127</td>\n",
       "      <td>106</td>\n",
       "    </tr>\n",
       "    <tr>\n",
       "      <th>title</th>\n",
       "      <td>Toy Story</td>\n",
       "      <td>Jumanji</td>\n",
       "      <td>Grumpier Old Men</td>\n",
       "      <td>Waiting to Exhale</td>\n",
       "      <td>Father of the Bride Part II</td>\n",
       "    </tr>\n",
       "  </tbody>\n",
       "</table>\n",
       "</div>"
      ],
      "text/plain": [
       "                                                                       0  \\\n",
       "belongs_to_collection                                               True   \n",
       "budget                                                          30000000   \n",
       "genres                 [{'id': 16, 'name': 'Animation'}, {'id': 35, '...   \n",
       "id                                                                   862   \n",
       "imdb_id                                                        tt0114709   \n",
       "release_date                                                  1995-10-30   \n",
       "revenue                                                      3.73554e+08   \n",
       "runtime                                                               81   \n",
       "title                                                          Toy Story   \n",
       "\n",
       "                                                                       1  \\\n",
       "belongs_to_collection                                              False   \n",
       "budget                                                          65000000   \n",
       "genres                 [{'id': 12, 'name': 'Adventure'}, {'id': 14, '...   \n",
       "id                                                                  8844   \n",
       "imdb_id                                                        tt0113497   \n",
       "release_date                                                  1995-12-15   \n",
       "revenue                                                      2.62797e+08   \n",
       "runtime                                                              104   \n",
       "title                                                            Jumanji   \n",
       "\n",
       "                                                                       2  \\\n",
       "belongs_to_collection                                               True   \n",
       "budget                                                                 0   \n",
       "genres                 [{'id': 10749, 'name': 'Romance'}, {'id': 35, ...   \n",
       "id                                                                 15602   \n",
       "imdb_id                                                        tt0113228   \n",
       "release_date                                                  1995-12-22   \n",
       "revenue                                                                0   \n",
       "runtime                                                              101   \n",
       "title                                                   Grumpier Old Men   \n",
       "\n",
       "                                                                       3  \\\n",
       "belongs_to_collection                                              False   \n",
       "budget                                                          16000000   \n",
       "genres                 [{'id': 35, 'name': 'Comedy'}, {'id': 18, 'nam...   \n",
       "id                                                                 31357   \n",
       "imdb_id                                                        tt0114885   \n",
       "release_date                                                  1995-12-22   \n",
       "revenue                                                      8.14522e+07   \n",
       "runtime                                                              127   \n",
       "title                                                  Waiting to Exhale   \n",
       "\n",
       "                                                    4  \n",
       "belongs_to_collection                            True  \n",
       "budget                                              0  \n",
       "genres                 [{'id': 35, 'name': 'Comedy'}]  \n",
       "id                                              11862  \n",
       "imdb_id                                     tt0113041  \n",
       "release_date                               1995-02-10  \n",
       "revenue                                   7.65789e+07  \n",
       "runtime                                           106  \n",
       "title                     Father of the Bride Part II  "
      ]
     },
     "execution_count": 14,
     "metadata": {},
     "output_type": "execute_result"
    }
   ],
   "source": [
    "# inspect to see that it worked\n",
    "df.head().transpose()"
   ]
  },
  {
   "cell_type": "markdown",
   "metadata": {},
   "source": [
    "> **BUDGET**"
   ]
  },
  {
   "cell_type": "markdown",
   "metadata": {},
   "source": [
    "Before attempting to convert budget values to numeric values, I will inspect a few messy rows."
   ]
  },
  {
   "cell_type": "code",
   "execution_count": 15,
   "metadata": {},
   "outputs": [],
   "source": [
    "# make list of indices of messy data\n",
    "messy_budget = [19730, 29503, 35587]"
   ]
  },
  {
   "cell_type": "code",
   "execution_count": 16,
   "metadata": {},
   "outputs": [
    {
     "data": {
      "text/html": [
       "<div>\n",
       "<style scoped>\n",
       "    .dataframe tbody tr th:only-of-type {\n",
       "        vertical-align: middle;\n",
       "    }\n",
       "\n",
       "    .dataframe tbody tr th {\n",
       "        vertical-align: top;\n",
       "    }\n",
       "\n",
       "    .dataframe thead th {\n",
       "        text-align: right;\n",
       "    }\n",
       "</style>\n",
       "<table border=\"1\" class=\"dataframe\">\n",
       "  <thead>\n",
       "    <tr style=\"text-align: right;\">\n",
       "      <th></th>\n",
       "      <th>belongs_to_collection</th>\n",
       "      <th>budget</th>\n",
       "      <th>genres</th>\n",
       "      <th>id</th>\n",
       "      <th>imdb_id</th>\n",
       "      <th>release_date</th>\n",
       "      <th>revenue</th>\n",
       "      <th>runtime</th>\n",
       "      <th>title</th>\n",
       "    </tr>\n",
       "  </thead>\n",
       "  <tbody>\n",
       "    <tr>\n",
       "      <th>19730</th>\n",
       "      <td>True</td>\n",
       "      <td>/ff9qCepilowshEtG2GYWwzt2bs4.jpg</td>\n",
       "      <td>[{'name': 'Carousel Productions', 'id': 11176}...</td>\n",
       "      <td>1997-08-20</td>\n",
       "      <td>0</td>\n",
       "      <td>1</td>\n",
       "      <td>NaN</td>\n",
       "      <td>NaN</td>\n",
       "      <td>NaN</td>\n",
       "    </tr>\n",
       "    <tr>\n",
       "      <th>29503</th>\n",
       "      <td>True</td>\n",
       "      <td>/zV8bHuSL6WXoD6FWogP9j4x80bL.jpg</td>\n",
       "      <td>[{'name': 'Aniplex', 'id': 2883}, {'name': 'Go...</td>\n",
       "      <td>2012-09-29</td>\n",
       "      <td>0</td>\n",
       "      <td>12</td>\n",
       "      <td>NaN</td>\n",
       "      <td>NaN</td>\n",
       "      <td>NaN</td>\n",
       "    </tr>\n",
       "    <tr>\n",
       "      <th>35587</th>\n",
       "      <td>True</td>\n",
       "      <td>/zaSf5OG7V8X8gqFvly88zDdRm46.jpg</td>\n",
       "      <td>[{'name': 'Odyssey Media', 'id': 17161}, {'nam...</td>\n",
       "      <td>2014-01-01</td>\n",
       "      <td>0</td>\n",
       "      <td>22</td>\n",
       "      <td>NaN</td>\n",
       "      <td>NaN</td>\n",
       "      <td>NaN</td>\n",
       "    </tr>\n",
       "  </tbody>\n",
       "</table>\n",
       "</div>"
      ],
      "text/plain": [
       "       belongs_to_collection                            budget  \\\n",
       "19730                   True  /ff9qCepilowshEtG2GYWwzt2bs4.jpg   \n",
       "29503                   True  /zV8bHuSL6WXoD6FWogP9j4x80bL.jpg   \n",
       "35587                   True  /zaSf5OG7V8X8gqFvly88zDdRm46.jpg   \n",
       "\n",
       "                                                  genres          id imdb_id  \\\n",
       "19730  [{'name': 'Carousel Productions', 'id': 11176}...  1997-08-20       0   \n",
       "29503  [{'name': 'Aniplex', 'id': 2883}, {'name': 'Go...  2012-09-29       0   \n",
       "35587  [{'name': 'Odyssey Media', 'id': 17161}, {'nam...  2014-01-01       0   \n",
       "\n",
       "      release_date  revenue  runtime title  \n",
       "19730            1      NaN      NaN   NaN  \n",
       "29503           12      NaN      NaN   NaN  \n",
       "35587           22      NaN      NaN   NaN  "
      ]
     },
     "execution_count": 16,
     "metadata": {},
     "output_type": "execute_result"
    }
   ],
   "source": [
    "# inspect messy rows\n",
    "df.iloc[messy_budget]"
   ]
  },
  {
   "cell_type": "markdown",
   "metadata": {},
   "source": [
    "I can drop these rows completely, since the data is incomprehensible."
   ]
  },
  {
   "cell_type": "code",
   "execution_count": 17,
   "metadata": {},
   "outputs": [],
   "source": [
    "before_dropped = 0\n",
    "def rows_dropped():\n",
    "    \"\"\"Returns the number of rows dropped since last call\"\"\"\n",
    "    global before_dropped\n",
    "    just_dropped = STARTING_ROWS - before_dropped - df.shape[0]\n",
    "    # adjusts number of row dropped since last call\n",
    "    before_dropped += just_dropped\n",
    "    return f'{just_dropped} row(s) just dropped.'"
   ]
  },
  {
   "cell_type": "code",
   "execution_count": 18,
   "metadata": {},
   "outputs": [
    {
     "data": {
      "text/plain": [
       "'3 row(s) just dropped.'"
      ]
     },
     "execution_count": 18,
     "metadata": {},
     "output_type": "execute_result"
    }
   ],
   "source": [
    "# dropping the messy rows\n",
    "df = df.drop(df.index[messy_budget])\n",
    "rows_dropped()"
   ]
  },
  {
   "cell_type": "markdown",
   "metadata": {},
   "source": [
    "Now, I'll inspect the budget data."
   ]
  },
  {
   "cell_type": "code",
   "execution_count": 19,
   "metadata": {},
   "outputs": [
    {
     "data": {
      "text/plain": [
       "<class 'str'>    45463\n",
       "Name: budget, dtype: int64"
      ]
     },
     "execution_count": 19,
     "metadata": {},
     "output_type": "execute_result"
    }
   ],
   "source": [
    "# look at the data types in budget\n",
    "df['budget'].apply(type).value_counts()"
   ]
  },
  {
   "cell_type": "code",
   "execution_count": 20,
   "metadata": {},
   "outputs": [
    {
     "data": {
      "text/plain": [
       "<class 'int'>    45463\n",
       "Name: budget, dtype: int64"
      ]
     },
     "execution_count": 20,
     "metadata": {},
     "output_type": "execute_result"
    }
   ],
   "source": [
    "# converting budget values from strings to numeric\n",
    "df['budget'] = pd.to_numeric(df['budget'])\n",
    "df['budget'].apply(type).value_counts()"
   ]
  },
  {
   "cell_type": "markdown",
   "metadata": {},
   "source": [
    "> **RELEASE DATE**"
   ]
  },
  {
   "cell_type": "markdown",
   "metadata": {},
   "source": [
    "Let's look at the release date column."
   ]
  },
  {
   "cell_type": "code",
   "execution_count": 21,
   "metadata": {},
   "outputs": [
    {
     "data": {
      "text/html": [
       "<div>\n",
       "<style scoped>\n",
       "    .dataframe tbody tr th:only-of-type {\n",
       "        vertical-align: middle;\n",
       "    }\n",
       "\n",
       "    .dataframe tbody tr th {\n",
       "        vertical-align: top;\n",
       "    }\n",
       "\n",
       "    .dataframe thead th {\n",
       "        text-align: right;\n",
       "    }\n",
       "</style>\n",
       "<table border=\"1\" class=\"dataframe\">\n",
       "  <thead>\n",
       "    <tr style=\"text-align: right;\">\n",
       "      <th></th>\n",
       "      <th>0</th>\n",
       "      <th>1</th>\n",
       "      <th>2</th>\n",
       "      <th>3</th>\n",
       "      <th>4</th>\n",
       "    </tr>\n",
       "  </thead>\n",
       "  <tbody>\n",
       "    <tr>\n",
       "      <th>belongs_to_collection</th>\n",
       "      <td>True</td>\n",
       "      <td>False</td>\n",
       "      <td>True</td>\n",
       "      <td>False</td>\n",
       "      <td>True</td>\n",
       "    </tr>\n",
       "    <tr>\n",
       "      <th>budget</th>\n",
       "      <td>30000000</td>\n",
       "      <td>65000000</td>\n",
       "      <td>0</td>\n",
       "      <td>16000000</td>\n",
       "      <td>0</td>\n",
       "    </tr>\n",
       "    <tr>\n",
       "      <th>genres</th>\n",
       "      <td>[{'id': 16, 'name': 'Animation'}, {'id': 35, '...</td>\n",
       "      <td>[{'id': 12, 'name': 'Adventure'}, {'id': 14, '...</td>\n",
       "      <td>[{'id': 10749, 'name': 'Romance'}, {'id': 35, ...</td>\n",
       "      <td>[{'id': 35, 'name': 'Comedy'}, {'id': 18, 'nam...</td>\n",
       "      <td>[{'id': 35, 'name': 'Comedy'}]</td>\n",
       "    </tr>\n",
       "    <tr>\n",
       "      <th>id</th>\n",
       "      <td>862</td>\n",
       "      <td>8844</td>\n",
       "      <td>15602</td>\n",
       "      <td>31357</td>\n",
       "      <td>11862</td>\n",
       "    </tr>\n",
       "    <tr>\n",
       "      <th>imdb_id</th>\n",
       "      <td>tt0114709</td>\n",
       "      <td>tt0113497</td>\n",
       "      <td>tt0113228</td>\n",
       "      <td>tt0114885</td>\n",
       "      <td>tt0113041</td>\n",
       "    </tr>\n",
       "    <tr>\n",
       "      <th>release_date</th>\n",
       "      <td>1995-10-30 00:00:00</td>\n",
       "      <td>1995-12-15 00:00:00</td>\n",
       "      <td>1995-12-22 00:00:00</td>\n",
       "      <td>1995-12-22 00:00:00</td>\n",
       "      <td>1995-02-10 00:00:00</td>\n",
       "    </tr>\n",
       "    <tr>\n",
       "      <th>revenue</th>\n",
       "      <td>3.73554e+08</td>\n",
       "      <td>2.62797e+08</td>\n",
       "      <td>0</td>\n",
       "      <td>8.14522e+07</td>\n",
       "      <td>7.65789e+07</td>\n",
       "    </tr>\n",
       "    <tr>\n",
       "      <th>runtime</th>\n",
       "      <td>81</td>\n",
       "      <td>104</td>\n",
       "      <td>101</td>\n",
       "      <td>127</td>\n",
       "      <td>106</td>\n",
       "    </tr>\n",
       "    <tr>\n",
       "      <th>title</th>\n",
       "      <td>Toy Story</td>\n",
       "      <td>Jumanji</td>\n",
       "      <td>Grumpier Old Men</td>\n",
       "      <td>Waiting to Exhale</td>\n",
       "      <td>Father of the Bride Part II</td>\n",
       "    </tr>\n",
       "  </tbody>\n",
       "</table>\n",
       "</div>"
      ],
      "text/plain": [
       "                                                                       0  \\\n",
       "belongs_to_collection                                               True   \n",
       "budget                                                          30000000   \n",
       "genres                 [{'id': 16, 'name': 'Animation'}, {'id': 35, '...   \n",
       "id                                                                   862   \n",
       "imdb_id                                                        tt0114709   \n",
       "release_date                                         1995-10-30 00:00:00   \n",
       "revenue                                                      3.73554e+08   \n",
       "runtime                                                               81   \n",
       "title                                                          Toy Story   \n",
       "\n",
       "                                                                       1  \\\n",
       "belongs_to_collection                                              False   \n",
       "budget                                                          65000000   \n",
       "genres                 [{'id': 12, 'name': 'Adventure'}, {'id': 14, '...   \n",
       "id                                                                  8844   \n",
       "imdb_id                                                        tt0113497   \n",
       "release_date                                         1995-12-15 00:00:00   \n",
       "revenue                                                      2.62797e+08   \n",
       "runtime                                                              104   \n",
       "title                                                            Jumanji   \n",
       "\n",
       "                                                                       2  \\\n",
       "belongs_to_collection                                               True   \n",
       "budget                                                                 0   \n",
       "genres                 [{'id': 10749, 'name': 'Romance'}, {'id': 35, ...   \n",
       "id                                                                 15602   \n",
       "imdb_id                                                        tt0113228   \n",
       "release_date                                         1995-12-22 00:00:00   \n",
       "revenue                                                                0   \n",
       "runtime                                                              101   \n",
       "title                                                   Grumpier Old Men   \n",
       "\n",
       "                                                                       3  \\\n",
       "belongs_to_collection                                              False   \n",
       "budget                                                          16000000   \n",
       "genres                 [{'id': 35, 'name': 'Comedy'}, {'id': 18, 'nam...   \n",
       "id                                                                 31357   \n",
       "imdb_id                                                        tt0114885   \n",
       "release_date                                         1995-12-22 00:00:00   \n",
       "revenue                                                      8.14522e+07   \n",
       "runtime                                                              127   \n",
       "title                                                  Waiting to Exhale   \n",
       "\n",
       "                                                    4  \n",
       "belongs_to_collection                            True  \n",
       "budget                                              0  \n",
       "genres                 [{'id': 35, 'name': 'Comedy'}]  \n",
       "id                                              11862  \n",
       "imdb_id                                     tt0113041  \n",
       "release_date                      1995-02-10 00:00:00  \n",
       "revenue                                   7.65789e+07  \n",
       "runtime                                           106  \n",
       "title                     Father of the Bride Part II  "
      ]
     },
     "execution_count": 21,
     "metadata": {},
     "output_type": "execute_result"
    }
   ],
   "source": [
    "# convert release dates to datetime objects\n",
    "df['release_date'] = pd.to_datetime(df['release_date'])\n",
    "df.head().transpose()"
   ]
  },
  {
   "cell_type": "code",
   "execution_count": 22,
   "metadata": {},
   "outputs": [
    {
     "data": {
      "text/plain": [
       "1995"
      ]
     },
     "execution_count": 22,
     "metadata": {},
     "output_type": "execute_result"
    }
   ],
   "source": [
    "# check for functionality\n",
    "df['release_date'][0].year"
   ]
  },
  {
   "cell_type": "markdown",
   "metadata": {},
   "source": [
    "Before we continue, let's find out how many missing values in the data are labeled as zero.<br>\n",
    "I will convert them to NaN."
   ]
  },
  {
   "cell_type": "code",
   "execution_count": 23,
   "metadata": {},
   "outputs": [
    {
     "data": {
      "text/plain": [
       "belongs_to_collection    40972\n",
       "budget                   36573\n",
       "genres                       0\n",
       "id                           0\n",
       "imdb_id                      0\n",
       "release_date                 0\n",
       "revenue                  38052\n",
       "runtime                   1558\n",
       "title                        0\n",
       "dtype: int64"
      ]
     },
     "execution_count": 23,
     "metadata": {},
     "output_type": "execute_result"
    }
   ],
   "source": [
    "# finding values == 0\n",
    "df.isin([0]).sum()"
   ]
  },
  {
   "cell_type": "markdown",
   "metadata": {},
   "source": [
    "It seems that there are a lot of missing data hidden in values of 0 in the budget, revenue, and runtime columns."
   ]
  },
  {
   "cell_type": "code",
   "execution_count": 24,
   "metadata": {},
   "outputs": [],
   "source": [
    "# create list of columns with zeros to replace\n",
    "zeros_cols = ['budget', 'revenue', 'runtime']"
   ]
  },
  {
   "cell_type": "code",
   "execution_count": 25,
   "metadata": {},
   "outputs": [
    {
     "data": {
      "text/plain": [
       "belongs_to_collection    40972\n",
       "budget                       0\n",
       "genres                       0\n",
       "id                           0\n",
       "imdb_id                      0\n",
       "release_date                 0\n",
       "revenue                      0\n",
       "runtime                      0\n",
       "title                        0\n",
       "dtype: int64"
      ]
     },
     "execution_count": 25,
     "metadata": {},
     "output_type": "execute_result"
    }
   ],
   "source": [
    "# convert 0 values to NaN's\n",
    "df[zeros_cols] = df[zeros_cols].replace(0, np.nan)\n",
    "df.isin([0]).sum()"
   ]
  },
  {
   "cell_type": "code",
   "execution_count": 26,
   "metadata": {},
   "outputs": [
    {
     "name": "stdout",
     "output_type": "stream",
     "text": [
      "<class 'pandas.core.frame.DataFrame'>\n",
      "Int64Index: 45463 entries, 0 to 45465\n",
      "Data columns (total 9 columns):\n",
      " #   Column                 Non-Null Count  Dtype         \n",
      "---  ------                 --------------  -----         \n",
      " 0   belongs_to_collection  45463 non-null  bool          \n",
      " 1   budget                 8890 non-null   float64       \n",
      " 2   genres                 45463 non-null  object        \n",
      " 3   id                     45463 non-null  object        \n",
      " 4   imdb_id                45446 non-null  object        \n",
      " 5   release_date           45376 non-null  datetime64[ns]\n",
      " 6   revenue                7408 non-null   float64       \n",
      " 7   runtime                43645 non-null  float64       \n",
      " 8   title                  45460 non-null  object        \n",
      "dtypes: bool(1), datetime64[ns](1), float64(3), object(4)\n",
      "memory usage: 4.4+ MB\n"
     ]
    }
   ],
   "source": [
    "# checking with info method, again\n",
    "df.info()"
   ]
  },
  {
   "cell_type": "markdown",
   "metadata": {},
   "source": [
    "> **REVENUE**"
   ]
  },
  {
   "cell_type": "markdown",
   "metadata": {},
   "source": [
    "Now, I'll look at the revenue column, which has either float numbers or NaN's."
   ]
  },
  {
   "cell_type": "code",
   "execution_count": 27,
   "metadata": {},
   "outputs": [
    {
     "data": {
      "text/plain": [
       "belongs_to_collection        0\n",
       "budget                   36573\n",
       "genres                       0\n",
       "id                           0\n",
       "imdb_id                     17\n",
       "release_date                87\n",
       "revenue                  38055\n",
       "runtime                   1818\n",
       "title                        3\n",
       "dtype: int64"
      ]
     },
     "execution_count": 27,
     "metadata": {},
     "output_type": "execute_result"
    }
   ],
   "source": [
    "# get a count on the missing values\n",
    "df.isnull().sum()"
   ]
  },
  {
   "cell_type": "markdown",
   "metadata": {},
   "source": [
    "It looks like this column has the least amount of numerical values, but it appears to be clean."
   ]
  },
  {
   "cell_type": "markdown",
   "metadata": {},
   "source": [
    "> **INFLATION**"
   ]
  },
  {
   "cell_type": "markdown",
   "metadata": {},
   "source": [
    "I need to convert both the budget and revenue data to be adjusted for inflation.<br>\n",
    "I will read in the Consumer Price Index (CPI) data I downloaded from the Federal Reserve Economic Data (FRED)."
   ]
  },
  {
   "cell_type": "code",
   "execution_count": 28,
   "metadata": {},
   "outputs": [
    {
     "data": {
      "text/html": [
       "<div>\n",
       "<style scoped>\n",
       "    .dataframe tbody tr th:only-of-type {\n",
       "        vertical-align: middle;\n",
       "    }\n",
       "\n",
       "    .dataframe tbody tr th {\n",
       "        vertical-align: top;\n",
       "    }\n",
       "\n",
       "    .dataframe thead th {\n",
       "        text-align: right;\n",
       "    }\n",
       "</style>\n",
       "<table border=\"1\" class=\"dataframe\">\n",
       "  <thead>\n",
       "    <tr style=\"text-align: right;\">\n",
       "      <th></th>\n",
       "      <th>DATE</th>\n",
       "      <th>CPIAUCNS</th>\n",
       "    </tr>\n",
       "  </thead>\n",
       "  <tbody>\n",
       "    <tr>\n",
       "      <th>0</th>\n",
       "      <td>1913-01-01</td>\n",
       "      <td>9.8</td>\n",
       "    </tr>\n",
       "    <tr>\n",
       "      <th>1</th>\n",
       "      <td>1913-02-01</td>\n",
       "      <td>9.8</td>\n",
       "    </tr>\n",
       "    <tr>\n",
       "      <th>2</th>\n",
       "      <td>1913-03-01</td>\n",
       "      <td>9.8</td>\n",
       "    </tr>\n",
       "    <tr>\n",
       "      <th>3</th>\n",
       "      <td>1913-04-01</td>\n",
       "      <td>9.8</td>\n",
       "    </tr>\n",
       "    <tr>\n",
       "      <th>4</th>\n",
       "      <td>1913-05-01</td>\n",
       "      <td>9.7</td>\n",
       "    </tr>\n",
       "  </tbody>\n",
       "</table>\n",
       "</div>"
      ],
      "text/plain": [
       "         DATE  CPIAUCNS\n",
       "0  1913-01-01       9.8\n",
       "1  1913-02-01       9.8\n",
       "2  1913-03-01       9.8\n",
       "3  1913-04-01       9.8\n",
       "4  1913-05-01       9.7"
      ]
     },
     "execution_count": 28,
     "metadata": {},
     "output_type": "execute_result"
    }
   ],
   "source": [
    "# load inflacion data\n",
    "inflation_df = pd.read_csv('cpiaucns.csv')\n",
    "inflation_df.head()"
   ]
  },
  {
   "cell_type": "code",
   "execution_count": 29,
   "metadata": {},
   "outputs": [
    {
     "data": {
      "text/html": [
       "<div>\n",
       "<style scoped>\n",
       "    .dataframe tbody tr th:only-of-type {\n",
       "        vertical-align: middle;\n",
       "    }\n",
       "\n",
       "    .dataframe tbody tr th {\n",
       "        vertical-align: top;\n",
       "    }\n",
       "\n",
       "    .dataframe thead th {\n",
       "        text-align: right;\n",
       "    }\n",
       "</style>\n",
       "<table border=\"1\" class=\"dataframe\">\n",
       "  <thead>\n",
       "    <tr style=\"text-align: right;\">\n",
       "      <th></th>\n",
       "      <th>DATE</th>\n",
       "      <th>CPIAUCNS</th>\n",
       "    </tr>\n",
       "  </thead>\n",
       "  <tbody>\n",
       "    <tr>\n",
       "      <th>1282</th>\n",
       "      <td>2019-11-01</td>\n",
       "      <td>257.208</td>\n",
       "    </tr>\n",
       "    <tr>\n",
       "      <th>1283</th>\n",
       "      <td>2019-12-01</td>\n",
       "      <td>256.974</td>\n",
       "    </tr>\n",
       "    <tr>\n",
       "      <th>1284</th>\n",
       "      <td>2020-01-01</td>\n",
       "      <td>257.971</td>\n",
       "    </tr>\n",
       "    <tr>\n",
       "      <th>1285</th>\n",
       "      <td>2020-02-01</td>\n",
       "      <td>258.678</td>\n",
       "    </tr>\n",
       "    <tr>\n",
       "      <th>1286</th>\n",
       "      <td>2020-03-01</td>\n",
       "      <td>258.115</td>\n",
       "    </tr>\n",
       "  </tbody>\n",
       "</table>\n",
       "</div>"
      ],
      "text/plain": [
       "            DATE  CPIAUCNS\n",
       "1282  2019-11-01   257.208\n",
       "1283  2019-12-01   256.974\n",
       "1284  2020-01-01   257.971\n",
       "1285  2020-02-01   258.678\n",
       "1286  2020-03-01   258.115"
      ]
     },
     "execution_count": 29,
     "metadata": {},
     "output_type": "execute_result"
    }
   ],
   "source": [
    "inflation_df.tail()"
   ]
  },
  {
   "cell_type": "markdown",
   "metadata": {},
   "source": [
    "Let's make this DataFrame more pythonic by adjusting the column names."
   ]
  },
  {
   "cell_type": "code",
   "execution_count": 30,
   "metadata": {},
   "outputs": [
    {
     "data": {
      "text/plain": [
       "Index(['date', 'cpiaucns'], dtype='object')"
      ]
     },
     "execution_count": 30,
     "metadata": {},
     "output_type": "execute_result"
    }
   ],
   "source": [
    "# making column names lower case\n",
    "inflation_df.columns = map(str.lower, inflation_df.columns)\n",
    "inflation_df.columns"
   ]
  },
  {
   "cell_type": "markdown",
   "metadata": {},
   "source": [
    "This dataset hold monthly inflation rates from the first month of 1913 until March of 2020."
   ]
  },
  {
   "cell_type": "code",
   "execution_count": 31,
   "metadata": {},
   "outputs": [
    {
     "name": "stdout",
     "output_type": "stream",
     "text": [
      "<class 'pandas.core.frame.DataFrame'>\n",
      "RangeIndex: 1287 entries, 0 to 1286\n",
      "Data columns (total 2 columns):\n",
      " #   Column    Non-Null Count  Dtype  \n",
      "---  ------    --------------  -----  \n",
      " 0   date      1287 non-null   object \n",
      " 1   cpiaucns  1287 non-null   float64\n",
      "dtypes: float64(1), object(1)\n",
      "memory usage: 20.2+ KB\n"
     ]
    }
   ],
   "source": [
    "# checking that the data is clean\n",
    "inflation_df.info()"
   ]
  },
  {
   "cell_type": "markdown",
   "metadata": {},
   "source": [
    "I need to convert the dates to datetime objects."
   ]
  },
  {
   "cell_type": "code",
   "execution_count": 32,
   "metadata": {},
   "outputs": [
    {
     "data": {
      "text/plain": [
       "dtype('<M8[ns]')"
      ]
     },
     "execution_count": 32,
     "metadata": {},
     "output_type": "execute_result"
    }
   ],
   "source": [
    "# convert string dates to datetime objects\n",
    "inflation_df['date'] = pd.to_datetime(inflation_df['date'], format='%Y/%m/%d')\n",
    "inflation_df['date'].dtype"
   ]
  },
  {
   "cell_type": "markdown",
   "metadata": {},
   "source": [
    "I will create an index multiplier column to index all monetary values based on the most current date in this dataset."
   ]
  },
  {
   "cell_type": "code",
   "execution_count": 33,
   "metadata": {},
   "outputs": [
    {
     "data": {
      "text/html": [
       "<div>\n",
       "<style scoped>\n",
       "    .dataframe tbody tr th:only-of-type {\n",
       "        vertical-align: middle;\n",
       "    }\n",
       "\n",
       "    .dataframe tbody tr th {\n",
       "        vertical-align: top;\n",
       "    }\n",
       "\n",
       "    .dataframe thead th {\n",
       "        text-align: right;\n",
       "    }\n",
       "</style>\n",
       "<table border=\"1\" class=\"dataframe\">\n",
       "  <thead>\n",
       "    <tr style=\"text-align: right;\">\n",
       "      <th></th>\n",
       "      <th>date</th>\n",
       "      <th>cpiaucns</th>\n",
       "      <th>cpi_multiplier</th>\n",
       "    </tr>\n",
       "  </thead>\n",
       "  <tbody>\n",
       "    <tr>\n",
       "      <th>0</th>\n",
       "      <td>1913-01-01</td>\n",
       "      <td>9.8</td>\n",
       "      <td>26.338265</td>\n",
       "    </tr>\n",
       "    <tr>\n",
       "      <th>1</th>\n",
       "      <td>1913-02-01</td>\n",
       "      <td>9.8</td>\n",
       "      <td>26.338265</td>\n",
       "    </tr>\n",
       "    <tr>\n",
       "      <th>2</th>\n",
       "      <td>1913-03-01</td>\n",
       "      <td>9.8</td>\n",
       "      <td>26.338265</td>\n",
       "    </tr>\n",
       "    <tr>\n",
       "      <th>3</th>\n",
       "      <td>1913-04-01</td>\n",
       "      <td>9.8</td>\n",
       "      <td>26.338265</td>\n",
       "    </tr>\n",
       "    <tr>\n",
       "      <th>4</th>\n",
       "      <td>1913-05-01</td>\n",
       "      <td>9.7</td>\n",
       "      <td>26.609794</td>\n",
       "    </tr>\n",
       "  </tbody>\n",
       "</table>\n",
       "</div>"
      ],
      "text/plain": [
       "        date  cpiaucns  cpi_multiplier\n",
       "0 1913-01-01       9.8       26.338265\n",
       "1 1913-02-01       9.8       26.338265\n",
       "2 1913-03-01       9.8       26.338265\n",
       "3 1913-04-01       9.8       26.338265\n",
       "4 1913-05-01       9.7       26.609794"
      ]
     },
     "execution_count": 33,
     "metadata": {},
     "output_type": "execute_result"
    }
   ],
   "source": [
    "# making new column for multiplier, and looking at the earliest dates\n",
    "inflation_df['cpi_multiplier'] = inflation_df['cpiaucns'].iloc[-1] / inflation_df['cpiaucns']\n",
    "inflation_df.head()"
   ]
  },
  {
   "cell_type": "code",
   "execution_count": 34,
   "metadata": {},
   "outputs": [
    {
     "data": {
      "text/html": [
       "<div>\n",
       "<style scoped>\n",
       "    .dataframe tbody tr th:only-of-type {\n",
       "        vertical-align: middle;\n",
       "    }\n",
       "\n",
       "    .dataframe tbody tr th {\n",
       "        vertical-align: top;\n",
       "    }\n",
       "\n",
       "    .dataframe thead th {\n",
       "        text-align: right;\n",
       "    }\n",
       "</style>\n",
       "<table border=\"1\" class=\"dataframe\">\n",
       "  <thead>\n",
       "    <tr style=\"text-align: right;\">\n",
       "      <th></th>\n",
       "      <th>date</th>\n",
       "      <th>cpiaucns</th>\n",
       "      <th>cpi_multiplier</th>\n",
       "    </tr>\n",
       "  </thead>\n",
       "  <tbody>\n",
       "    <tr>\n",
       "      <th>1282</th>\n",
       "      <td>2019-11-01</td>\n",
       "      <td>257.208</td>\n",
       "      <td>1.003526</td>\n",
       "    </tr>\n",
       "    <tr>\n",
       "      <th>1283</th>\n",
       "      <td>2019-12-01</td>\n",
       "      <td>256.974</td>\n",
       "      <td>1.004440</td>\n",
       "    </tr>\n",
       "    <tr>\n",
       "      <th>1284</th>\n",
       "      <td>2020-01-01</td>\n",
       "      <td>257.971</td>\n",
       "      <td>1.000558</td>\n",
       "    </tr>\n",
       "    <tr>\n",
       "      <th>1285</th>\n",
       "      <td>2020-02-01</td>\n",
       "      <td>258.678</td>\n",
       "      <td>0.997824</td>\n",
       "    </tr>\n",
       "    <tr>\n",
       "      <th>1286</th>\n",
       "      <td>2020-03-01</td>\n",
       "      <td>258.115</td>\n",
       "      <td>1.000000</td>\n",
       "    </tr>\n",
       "  </tbody>\n",
       "</table>\n",
       "</div>"
      ],
      "text/plain": [
       "           date  cpiaucns  cpi_multiplier\n",
       "1282 2019-11-01   257.208        1.003526\n",
       "1283 2019-12-01   256.974        1.004440\n",
       "1284 2020-01-01   257.971        1.000558\n",
       "1285 2020-02-01   258.678        0.997824\n",
       "1286 2020-03-01   258.115        1.000000"
      ]
     },
     "execution_count": 34,
     "metadata": {},
     "output_type": "execute_result"
    }
   ],
   "source": [
    "# looking at the most recent dates\n",
    "inflation_df.tail()"
   ]
  },
  {
   "cell_type": "markdown",
   "metadata": {},
   "source": [
    "This looks correct.<br>\n",
    "Now I need to merge this into the main DataFrame.<br>\n",
    "First, I need to sort the main DataFrame by date."
   ]
  },
  {
   "cell_type": "code",
   "execution_count": 35,
   "metadata": {},
   "outputs": [
    {
     "data": {
      "text/html": [
       "<div>\n",
       "<style scoped>\n",
       "    .dataframe tbody tr th:only-of-type {\n",
       "        vertical-align: middle;\n",
       "    }\n",
       "\n",
       "    .dataframe tbody tr th {\n",
       "        vertical-align: top;\n",
       "    }\n",
       "\n",
       "    .dataframe thead th {\n",
       "        text-align: right;\n",
       "    }\n",
       "</style>\n",
       "<table border=\"1\" class=\"dataframe\">\n",
       "  <thead>\n",
       "    <tr style=\"text-align: right;\">\n",
       "      <th></th>\n",
       "      <th>belongs_to_collection</th>\n",
       "      <th>budget</th>\n",
       "      <th>genres</th>\n",
       "      <th>id</th>\n",
       "      <th>imdb_id</th>\n",
       "      <th>release_date</th>\n",
       "      <th>revenue</th>\n",
       "      <th>runtime</th>\n",
       "      <th>title</th>\n",
       "    </tr>\n",
       "  </thead>\n",
       "  <tbody>\n",
       "    <tr>\n",
       "      <th>34940</th>\n",
       "      <td>False</td>\n",
       "      <td>NaN</td>\n",
       "      <td>[{'id': 99, 'name': 'Documentary'}]</td>\n",
       "      <td>315946</td>\n",
       "      <td>tt3155794</td>\n",
       "      <td>1874-12-09</td>\n",
       "      <td>NaN</td>\n",
       "      <td>1.0</td>\n",
       "      <td>Passage of Venus</td>\n",
       "    </tr>\n",
       "    <tr>\n",
       "      <th>34937</th>\n",
       "      <td>False</td>\n",
       "      <td>NaN</td>\n",
       "      <td>[{'id': 99, 'name': 'Documentary'}]</td>\n",
       "      <td>194079</td>\n",
       "      <td>tt2221420</td>\n",
       "      <td>1878-06-14</td>\n",
       "      <td>NaN</td>\n",
       "      <td>1.0</td>\n",
       "      <td>Sallie Gardner at a Gallop</td>\n",
       "    </tr>\n",
       "    <tr>\n",
       "      <th>41602</th>\n",
       "      <td>False</td>\n",
       "      <td>NaN</td>\n",
       "      <td>[{'id': 99, 'name': 'Documentary'}]</td>\n",
       "      <td>426903</td>\n",
       "      <td>tt5459794</td>\n",
       "      <td>1883-11-19</td>\n",
       "      <td>NaN</td>\n",
       "      <td>1.0</td>\n",
       "      <td>Buffalo Running</td>\n",
       "    </tr>\n",
       "    <tr>\n",
       "      <th>34933</th>\n",
       "      <td>False</td>\n",
       "      <td>NaN</td>\n",
       "      <td>[{'id': 99, 'name': 'Documentary'}]</td>\n",
       "      <td>159897</td>\n",
       "      <td>tt2075247</td>\n",
       "      <td>1887-08-18</td>\n",
       "      <td>NaN</td>\n",
       "      <td>1.0</td>\n",
       "      <td>Man Walking Around a Corner</td>\n",
       "    </tr>\n",
       "    <tr>\n",
       "      <th>34934</th>\n",
       "      <td>False</td>\n",
       "      <td>NaN</td>\n",
       "      <td>[{'id': 99, 'name': 'Documentary'}]</td>\n",
       "      <td>96882</td>\n",
       "      <td>tt1758563</td>\n",
       "      <td>1888-01-01</td>\n",
       "      <td>NaN</td>\n",
       "      <td>1.0</td>\n",
       "      <td>Accordion Player</td>\n",
       "    </tr>\n",
       "    <tr>\n",
       "      <th>...</th>\n",
       "      <td>...</td>\n",
       "      <td>...</td>\n",
       "      <td>...</td>\n",
       "      <td>...</td>\n",
       "      <td>...</td>\n",
       "      <td>...</td>\n",
       "      <td>...</td>\n",
       "      <td>...</td>\n",
       "      <td>...</td>\n",
       "    </tr>\n",
       "    <tr>\n",
       "      <th>45148</th>\n",
       "      <td>False</td>\n",
       "      <td>NaN</td>\n",
       "      <td>[]</td>\n",
       "      <td>438910</td>\n",
       "      <td>tt0810384</td>\n",
       "      <td>NaT</td>\n",
       "      <td>NaN</td>\n",
       "      <td>76.0</td>\n",
       "      <td>Engineering Red</td>\n",
       "    </tr>\n",
       "    <tr>\n",
       "      <th>45203</th>\n",
       "      <td>False</td>\n",
       "      <td>NaN</td>\n",
       "      <td>[{'id': 9648, 'name': 'Mystery'}, {'id': 878, ...</td>\n",
       "      <td>433711</td>\n",
       "      <td>tt3158690</td>\n",
       "      <td>NaT</td>\n",
       "      <td>NaN</td>\n",
       "      <td>74.0</td>\n",
       "      <td>All Superheroes Must Die 2: The Last Superhero</td>\n",
       "    </tr>\n",
       "    <tr>\n",
       "      <th>45338</th>\n",
       "      <td>False</td>\n",
       "      <td>NaN</td>\n",
       "      <td>[]</td>\n",
       "      <td>335251</td>\n",
       "      <td>tt1883368</td>\n",
       "      <td>NaT</td>\n",
       "      <td>NaN</td>\n",
       "      <td>NaN</td>\n",
       "      <td>The Land Where the Blues Began</td>\n",
       "    </tr>\n",
       "    <tr>\n",
       "      <th>45410</th>\n",
       "      <td>False</td>\n",
       "      <td>NaN</td>\n",
       "      <td>[{'id': 18, 'name': 'Drama'}, {'id': 80, 'name...</td>\n",
       "      <td>449131</td>\n",
       "      <td>tt0321264</td>\n",
       "      <td>NaT</td>\n",
       "      <td>NaN</td>\n",
       "      <td>NaN</td>\n",
       "      <td>Aprel</td>\n",
       "    </tr>\n",
       "    <tr>\n",
       "      <th>45461</th>\n",
       "      <td>False</td>\n",
       "      <td>NaN</td>\n",
       "      <td>[{'id': 18, 'name': 'Drama'}, {'id': 10751, 'n...</td>\n",
       "      <td>439050</td>\n",
       "      <td>tt6209470</td>\n",
       "      <td>NaT</td>\n",
       "      <td>NaN</td>\n",
       "      <td>90.0</td>\n",
       "      <td>Subdue</td>\n",
       "    </tr>\n",
       "  </tbody>\n",
       "</table>\n",
       "<p>45463 rows × 9 columns</p>\n",
       "</div>"
      ],
      "text/plain": [
       "       belongs_to_collection  budget  \\\n",
       "34940                  False     NaN   \n",
       "34937                  False     NaN   \n",
       "41602                  False     NaN   \n",
       "34933                  False     NaN   \n",
       "34934                  False     NaN   \n",
       "...                      ...     ...   \n",
       "45148                  False     NaN   \n",
       "45203                  False     NaN   \n",
       "45338                  False     NaN   \n",
       "45410                  False     NaN   \n",
       "45461                  False     NaN   \n",
       "\n",
       "                                                  genres      id    imdb_id  \\\n",
       "34940                [{'id': 99, 'name': 'Documentary'}]  315946  tt3155794   \n",
       "34937                [{'id': 99, 'name': 'Documentary'}]  194079  tt2221420   \n",
       "41602                [{'id': 99, 'name': 'Documentary'}]  426903  tt5459794   \n",
       "34933                [{'id': 99, 'name': 'Documentary'}]  159897  tt2075247   \n",
       "34934                [{'id': 99, 'name': 'Documentary'}]   96882  tt1758563   \n",
       "...                                                  ...     ...        ...   \n",
       "45148                                                 []  438910  tt0810384   \n",
       "45203  [{'id': 9648, 'name': 'Mystery'}, {'id': 878, ...  433711  tt3158690   \n",
       "45338                                                 []  335251  tt1883368   \n",
       "45410  [{'id': 18, 'name': 'Drama'}, {'id': 80, 'name...  449131  tt0321264   \n",
       "45461  [{'id': 18, 'name': 'Drama'}, {'id': 10751, 'n...  439050  tt6209470   \n",
       "\n",
       "      release_date  revenue  runtime  \\\n",
       "34940   1874-12-09      NaN      1.0   \n",
       "34937   1878-06-14      NaN      1.0   \n",
       "41602   1883-11-19      NaN      1.0   \n",
       "34933   1887-08-18      NaN      1.0   \n",
       "34934   1888-01-01      NaN      1.0   \n",
       "...            ...      ...      ...   \n",
       "45148          NaT      NaN     76.0   \n",
       "45203          NaT      NaN     74.0   \n",
       "45338          NaT      NaN      NaN   \n",
       "45410          NaT      NaN      NaN   \n",
       "45461          NaT      NaN     90.0   \n",
       "\n",
       "                                                title  \n",
       "34940                                Passage of Venus  \n",
       "34937                      Sallie Gardner at a Gallop  \n",
       "41602                                 Buffalo Running  \n",
       "34933                     Man Walking Around a Corner  \n",
       "34934                                Accordion Player  \n",
       "...                                               ...  \n",
       "45148                                 Engineering Red  \n",
       "45203  All Superheroes Must Die 2: The Last Superhero  \n",
       "45338                  The Land Where the Blues Began  \n",
       "45410                                           Aprel  \n",
       "45461                                          Subdue  \n",
       "\n",
       "[45463 rows x 9 columns]"
      ]
     },
     "execution_count": 35,
     "metadata": {},
     "output_type": "execute_result"
    }
   ],
   "source": [
    "# sort by release date\n",
    "df.sort_values('release_date', inplace=True)\n",
    "df"
   ]
  },
  {
   "cell_type": "markdown",
   "metadata": {},
   "source": [
    "I can see that NaT's are at the end."
   ]
  },
  {
   "cell_type": "markdown",
   "metadata": {},
   "source": [
    "I will drop all movies that were made before the earliest date in the CPI data, before merging."
   ]
  },
  {
   "cell_type": "code",
   "execution_count": 36,
   "metadata": {},
   "outputs": [
    {
     "data": {
      "text/plain": [
       "'195 row(s) just dropped.'"
      ]
     },
     "execution_count": 36,
     "metadata": {},
     "output_type": "execute_result"
    }
   ],
   "source": [
    "# dropping movies using conditoinal on lower range of time data in CPI dataset\n",
    "df.drop(df[df['release_date'] < inflation_df['date'][0]].index.tolist(), inplace=True)\n",
    "rows_dropped()"
   ]
  },
  {
   "cell_type": "markdown",
   "metadata": {},
   "source": [
    "I want to use pd.merge_asof, but it won't merge on NaT values.<br>\n",
    "I want to keep these entries, in the event that I eventually find those release dates from another source.<br>\n",
    "My solution is to convert them to an unrealistic movie release date that is out of range of the CPI datset.<br>\n",
    "I will convert them back to NaT after the merge.<br>\n",
    "Another solution would be to extract those entries into their own DataFrame, perform the operations on the original, then merge them back.<br>\n",
    "I will try this method with one of the other datasets."
   ]
  },
  {
   "cell_type": "code",
   "execution_count": 37,
   "metadata": {},
   "outputs": [
    {
     "data": {
      "text/html": [
       "<div>\n",
       "<style scoped>\n",
       "    .dataframe tbody tr th:only-of-type {\n",
       "        vertical-align: middle;\n",
       "    }\n",
       "\n",
       "    .dataframe tbody tr th {\n",
       "        vertical-align: top;\n",
       "    }\n",
       "\n",
       "    .dataframe thead th {\n",
       "        text-align: right;\n",
       "    }\n",
       "</style>\n",
       "<table border=\"1\" class=\"dataframe\">\n",
       "  <thead>\n",
       "    <tr style=\"text-align: right;\">\n",
       "      <th></th>\n",
       "      <th>belongs_to_collection</th>\n",
       "      <th>budget</th>\n",
       "      <th>genres</th>\n",
       "      <th>id</th>\n",
       "      <th>imdb_id</th>\n",
       "      <th>release_date</th>\n",
       "      <th>revenue</th>\n",
       "      <th>runtime</th>\n",
       "      <th>title</th>\n",
       "    </tr>\n",
       "  </thead>\n",
       "  <tbody>\n",
       "    <tr>\n",
       "      <th>45461</th>\n",
       "      <td>False</td>\n",
       "      <td>NaN</td>\n",
       "      <td>[{'id': 18, 'name': 'Drama'}, {'id': 10751, 'n...</td>\n",
       "      <td>439050</td>\n",
       "      <td>tt6209470</td>\n",
       "      <td>1800-01-01</td>\n",
       "      <td>NaN</td>\n",
       "      <td>90.0</td>\n",
       "      <td>Subdue</td>\n",
       "    </tr>\n",
       "    <tr>\n",
       "      <th>21957</th>\n",
       "      <td>False</td>\n",
       "      <td>NaN</td>\n",
       "      <td>[]</td>\n",
       "      <td>250503</td>\n",
       "      <td>tt2424418</td>\n",
       "      <td>1800-01-01</td>\n",
       "      <td>NaN</td>\n",
       "      <td>90.0</td>\n",
       "      <td>Bad Chicken</td>\n",
       "    </tr>\n",
       "    <tr>\n",
       "      <th>22019</th>\n",
       "      <td>False</td>\n",
       "      <td>NaN</td>\n",
       "      <td>[]</td>\n",
       "      <td>173433</td>\n",
       "      <td>tt0839851</td>\n",
       "      <td>1800-01-01</td>\n",
       "      <td>NaN</td>\n",
       "      <td>90.0</td>\n",
       "      <td>Holes in My Shoes</td>\n",
       "    </tr>\n",
       "    <tr>\n",
       "      <th>22798</th>\n",
       "      <td>False</td>\n",
       "      <td>NaN</td>\n",
       "      <td>[]</td>\n",
       "      <td>158517</td>\n",
       "      <td>tt0093383</td>\n",
       "      <td>1800-01-01</td>\n",
       "      <td>NaN</td>\n",
       "      <td>NaN</td>\n",
       "      <td>Lain ulkopuolella</td>\n",
       "    </tr>\n",
       "    <tr>\n",
       "      <th>24050</th>\n",
       "      <td>False</td>\n",
       "      <td>NaN</td>\n",
       "      <td>[{'id': 99, 'name': 'Documentary'}]</td>\n",
       "      <td>173300</td>\n",
       "      <td>tt2452236</td>\n",
       "      <td>1800-01-01</td>\n",
       "      <td>NaN</td>\n",
       "      <td>92.0</td>\n",
       "      <td>Getting Back to Abnormal</td>\n",
       "    </tr>\n",
       "  </tbody>\n",
       "</table>\n",
       "</div>"
      ],
      "text/plain": [
       "       belongs_to_collection  budget  \\\n",
       "45461                  False     NaN   \n",
       "21957                  False     NaN   \n",
       "22019                  False     NaN   \n",
       "22798                  False     NaN   \n",
       "24050                  False     NaN   \n",
       "\n",
       "                                                  genres      id    imdb_id  \\\n",
       "45461  [{'id': 18, 'name': 'Drama'}, {'id': 10751, 'n...  439050  tt6209470   \n",
       "21957                                                 []  250503  tt2424418   \n",
       "22019                                                 []  173433  tt0839851   \n",
       "22798                                                 []  158517  tt0093383   \n",
       "24050                [{'id': 99, 'name': 'Documentary'}]  173300  tt2452236   \n",
       "\n",
       "      release_date  revenue  runtime                     title  \n",
       "45461   1800-01-01      NaN     90.0                    Subdue  \n",
       "21957   1800-01-01      NaN     90.0               Bad Chicken  \n",
       "22019   1800-01-01      NaN     90.0         Holes in My Shoes  \n",
       "22798   1800-01-01      NaN      NaN         Lain ulkopuolella  \n",
       "24050   1800-01-01      NaN     92.0  Getting Back to Abnormal  "
      ]
     },
     "execution_count": 37,
     "metadata": {},
     "output_type": "execute_result"
    }
   ],
   "source": [
    "# fill NaT values and sort by release date\n",
    "df['release_date'] = df['release_date'].fillna(pd.to_datetime('1800-01-01'))\n",
    "df.sort_values('release_date', inplace=True)\n",
    "df.head()"
   ]
  },
  {
   "cell_type": "code",
   "execution_count": 38,
   "metadata": {},
   "outputs": [
    {
     "data": {
      "text/html": [
       "<div>\n",
       "<style scoped>\n",
       "    .dataframe tbody tr th:only-of-type {\n",
       "        vertical-align: middle;\n",
       "    }\n",
       "\n",
       "    .dataframe tbody tr th {\n",
       "        vertical-align: top;\n",
       "    }\n",
       "\n",
       "    .dataframe thead th {\n",
       "        text-align: right;\n",
       "    }\n",
       "</style>\n",
       "<table border=\"1\" class=\"dataframe\">\n",
       "  <thead>\n",
       "    <tr style=\"text-align: right;\">\n",
       "      <th></th>\n",
       "      <th>belongs_to_collection</th>\n",
       "      <th>budget</th>\n",
       "      <th>genres</th>\n",
       "      <th>id</th>\n",
       "      <th>imdb_id</th>\n",
       "      <th>release_date</th>\n",
       "      <th>revenue</th>\n",
       "      <th>runtime</th>\n",
       "      <th>title</th>\n",
       "      <th>date</th>\n",
       "      <th>cpiaucns</th>\n",
       "      <th>cpi_multiplier</th>\n",
       "    </tr>\n",
       "  </thead>\n",
       "  <tbody>\n",
       "    <tr>\n",
       "      <th>0</th>\n",
       "      <td>False</td>\n",
       "      <td>NaN</td>\n",
       "      <td>[{'id': 18, 'name': 'Drama'}, {'id': 10751, 'n...</td>\n",
       "      <td>439050</td>\n",
       "      <td>tt6209470</td>\n",
       "      <td>1800-01-01</td>\n",
       "      <td>NaN</td>\n",
       "      <td>90.0</td>\n",
       "      <td>Subdue</td>\n",
       "      <td>NaT</td>\n",
       "      <td>NaN</td>\n",
       "      <td>NaN</td>\n",
       "    </tr>\n",
       "    <tr>\n",
       "      <th>1</th>\n",
       "      <td>False</td>\n",
       "      <td>NaN</td>\n",
       "      <td>[]</td>\n",
       "      <td>250503</td>\n",
       "      <td>tt2424418</td>\n",
       "      <td>1800-01-01</td>\n",
       "      <td>NaN</td>\n",
       "      <td>90.0</td>\n",
       "      <td>Bad Chicken</td>\n",
       "      <td>NaT</td>\n",
       "      <td>NaN</td>\n",
       "      <td>NaN</td>\n",
       "    </tr>\n",
       "    <tr>\n",
       "      <th>2</th>\n",
       "      <td>False</td>\n",
       "      <td>NaN</td>\n",
       "      <td>[]</td>\n",
       "      <td>173433</td>\n",
       "      <td>tt0839851</td>\n",
       "      <td>1800-01-01</td>\n",
       "      <td>NaN</td>\n",
       "      <td>90.0</td>\n",
       "      <td>Holes in My Shoes</td>\n",
       "      <td>NaT</td>\n",
       "      <td>NaN</td>\n",
       "      <td>NaN</td>\n",
       "    </tr>\n",
       "    <tr>\n",
       "      <th>3</th>\n",
       "      <td>False</td>\n",
       "      <td>NaN</td>\n",
       "      <td>[]</td>\n",
       "      <td>158517</td>\n",
       "      <td>tt0093383</td>\n",
       "      <td>1800-01-01</td>\n",
       "      <td>NaN</td>\n",
       "      <td>NaN</td>\n",
       "      <td>Lain ulkopuolella</td>\n",
       "      <td>NaT</td>\n",
       "      <td>NaN</td>\n",
       "      <td>NaN</td>\n",
       "    </tr>\n",
       "    <tr>\n",
       "      <th>4</th>\n",
       "      <td>False</td>\n",
       "      <td>NaN</td>\n",
       "      <td>[{'id': 99, 'name': 'Documentary'}]</td>\n",
       "      <td>173300</td>\n",
       "      <td>tt2452236</td>\n",
       "      <td>1800-01-01</td>\n",
       "      <td>NaN</td>\n",
       "      <td>92.0</td>\n",
       "      <td>Getting Back to Abnormal</td>\n",
       "      <td>NaT</td>\n",
       "      <td>NaN</td>\n",
       "      <td>NaN</td>\n",
       "    </tr>\n",
       "    <tr>\n",
       "      <th>...</th>\n",
       "      <td>...</td>\n",
       "      <td>...</td>\n",
       "      <td>...</td>\n",
       "      <td>...</td>\n",
       "      <td>...</td>\n",
       "      <td>...</td>\n",
       "      <td>...</td>\n",
       "      <td>...</td>\n",
       "      <td>...</td>\n",
       "      <td>...</td>\n",
       "      <td>...</td>\n",
       "      <td>...</td>\n",
       "    </tr>\n",
       "    <tr>\n",
       "      <th>45263</th>\n",
       "      <td>False</td>\n",
       "      <td>NaN</td>\n",
       "      <td>[{'id': 18, 'name': 'Drama'}]</td>\n",
       "      <td>412059</td>\n",
       "      <td>tt5613402</td>\n",
       "      <td>2018-04-04</td>\n",
       "      <td>NaN</td>\n",
       "      <td>105.0</td>\n",
       "      <td>Mobile Homes</td>\n",
       "      <td>2018-04-01</td>\n",
       "      <td>250.546</td>\n",
       "      <td>1.030210</td>\n",
       "    </tr>\n",
       "    <tr>\n",
       "      <th>45264</th>\n",
       "      <td>False</td>\n",
       "      <td>NaN</td>\n",
       "      <td>[{'id': 18, 'name': 'Drama'}, {'id': 10749, 'n...</td>\n",
       "      <td>332283</td>\n",
       "      <td>tt3906082</td>\n",
       "      <td>2018-04-25</td>\n",
       "      <td>NaN</td>\n",
       "      <td>NaN</td>\n",
       "      <td>Mary Shelley</td>\n",
       "      <td>2018-04-01</td>\n",
       "      <td>250.546</td>\n",
       "      <td>1.030210</td>\n",
       "    </tr>\n",
       "    <tr>\n",
       "      <th>45265</th>\n",
       "      <td>True</td>\n",
       "      <td>NaN</td>\n",
       "      <td>[{'id': 53, 'name': 'Thriller'}, {'id': 28, 'n...</td>\n",
       "      <td>38700</td>\n",
       "      <td>tt1502397</td>\n",
       "      <td>2018-11-07</td>\n",
       "      <td>NaN</td>\n",
       "      <td>NaN</td>\n",
       "      <td>Bad Boys for Life</td>\n",
       "      <td>2018-11-01</td>\n",
       "      <td>252.038</td>\n",
       "      <td>1.024111</td>\n",
       "    </tr>\n",
       "    <tr>\n",
       "      <th>45266</th>\n",
       "      <td>False</td>\n",
       "      <td>12000000.0</td>\n",
       "      <td>[{'id': 35, 'name': 'Comedy'}, {'id': 18, 'nam...</td>\n",
       "      <td>299782</td>\n",
       "      <td>tt0069049</td>\n",
       "      <td>2018-12-31</td>\n",
       "      <td>NaN</td>\n",
       "      <td>NaN</td>\n",
       "      <td>The Other Side of the Wind</td>\n",
       "      <td>2018-12-01</td>\n",
       "      <td>251.233</td>\n",
       "      <td>1.027393</td>\n",
       "    </tr>\n",
       "    <tr>\n",
       "      <th>45267</th>\n",
       "      <td>True</td>\n",
       "      <td>NaN</td>\n",
       "      <td>[{'id': 28, 'name': 'Action'}, {'id': 12, 'nam...</td>\n",
       "      <td>76600</td>\n",
       "      <td>tt1630029</td>\n",
       "      <td>2020-12-16</td>\n",
       "      <td>NaN</td>\n",
       "      <td>NaN</td>\n",
       "      <td>Avatar 2</td>\n",
       "      <td>2020-03-01</td>\n",
       "      <td>258.115</td>\n",
       "      <td>1.000000</td>\n",
       "    </tr>\n",
       "  </tbody>\n",
       "</table>\n",
       "<p>45268 rows × 12 columns</p>\n",
       "</div>"
      ],
      "text/plain": [
       "       belongs_to_collection      budget  \\\n",
       "0                      False         NaN   \n",
       "1                      False         NaN   \n",
       "2                      False         NaN   \n",
       "3                      False         NaN   \n",
       "4                      False         NaN   \n",
       "...                      ...         ...   \n",
       "45263                  False         NaN   \n",
       "45264                  False         NaN   \n",
       "45265                   True         NaN   \n",
       "45266                  False  12000000.0   \n",
       "45267                   True         NaN   \n",
       "\n",
       "                                                  genres      id    imdb_id  \\\n",
       "0      [{'id': 18, 'name': 'Drama'}, {'id': 10751, 'n...  439050  tt6209470   \n",
       "1                                                     []  250503  tt2424418   \n",
       "2                                                     []  173433  tt0839851   \n",
       "3                                                     []  158517  tt0093383   \n",
       "4                    [{'id': 99, 'name': 'Documentary'}]  173300  tt2452236   \n",
       "...                                                  ...     ...        ...   \n",
       "45263                      [{'id': 18, 'name': 'Drama'}]  412059  tt5613402   \n",
       "45264  [{'id': 18, 'name': 'Drama'}, {'id': 10749, 'n...  332283  tt3906082   \n",
       "45265  [{'id': 53, 'name': 'Thriller'}, {'id': 28, 'n...   38700  tt1502397   \n",
       "45266  [{'id': 35, 'name': 'Comedy'}, {'id': 18, 'nam...  299782  tt0069049   \n",
       "45267  [{'id': 28, 'name': 'Action'}, {'id': 12, 'nam...   76600  tt1630029   \n",
       "\n",
       "      release_date  revenue  runtime                       title       date  \\\n",
       "0       1800-01-01      NaN     90.0                      Subdue        NaT   \n",
       "1       1800-01-01      NaN     90.0                 Bad Chicken        NaT   \n",
       "2       1800-01-01      NaN     90.0           Holes in My Shoes        NaT   \n",
       "3       1800-01-01      NaN      NaN           Lain ulkopuolella        NaT   \n",
       "4       1800-01-01      NaN     92.0    Getting Back to Abnormal        NaT   \n",
       "...            ...      ...      ...                         ...        ...   \n",
       "45263   2018-04-04      NaN    105.0                Mobile Homes 2018-04-01   \n",
       "45264   2018-04-25      NaN      NaN                Mary Shelley 2018-04-01   \n",
       "45265   2018-11-07      NaN      NaN           Bad Boys for Life 2018-11-01   \n",
       "45266   2018-12-31      NaN      NaN  The Other Side of the Wind 2018-12-01   \n",
       "45267   2020-12-16      NaN      NaN                    Avatar 2 2020-03-01   \n",
       "\n",
       "       cpiaucns  cpi_multiplier  \n",
       "0           NaN             NaN  \n",
       "1           NaN             NaN  \n",
       "2           NaN             NaN  \n",
       "3           NaN             NaN  \n",
       "4           NaN             NaN  \n",
       "...         ...             ...  \n",
       "45263   250.546        1.030210  \n",
       "45264   250.546        1.030210  \n",
       "45265   252.038        1.024111  \n",
       "45266   251.233        1.027393  \n",
       "45267   258.115        1.000000  \n",
       "\n",
       "[45268 rows x 12 columns]"
      ]
     },
     "execution_count": 38,
     "metadata": {},
     "output_type": "execute_result"
    }
   ],
   "source": [
    "# merge the two datasets aligning the CPI dates to the nearest release dates going forward\n",
    "df = pd.merge_asof(df, inflation_df, left_on='release_date', right_on='date')\n",
    "df"
   ]
  },
  {
   "cell_type": "markdown",
   "metadata": {},
   "source": [
    "In the rows that do not have valid release date data, all the CPI values have become NaN.<br>\n",
    "The rest of the CPI data looks good."
   ]
  },
  {
   "cell_type": "code",
   "execution_count": 39,
   "metadata": {},
   "outputs": [
    {
     "data": {
      "text/html": [
       "<div>\n",
       "<style scoped>\n",
       "    .dataframe tbody tr th:only-of-type {\n",
       "        vertical-align: middle;\n",
       "    }\n",
       "\n",
       "    .dataframe tbody tr th {\n",
       "        vertical-align: top;\n",
       "    }\n",
       "\n",
       "    .dataframe thead th {\n",
       "        text-align: right;\n",
       "    }\n",
       "</style>\n",
       "<table border=\"1\" class=\"dataframe\">\n",
       "  <thead>\n",
       "    <tr style=\"text-align: right;\">\n",
       "      <th></th>\n",
       "      <th>belongs_to_collection</th>\n",
       "      <th>budget</th>\n",
       "      <th>genres</th>\n",
       "      <th>id</th>\n",
       "      <th>imdb_id</th>\n",
       "      <th>release_date</th>\n",
       "      <th>revenue</th>\n",
       "      <th>runtime</th>\n",
       "      <th>title</th>\n",
       "      <th>date</th>\n",
       "      <th>cpiaucns</th>\n",
       "      <th>cpi_multiplier</th>\n",
       "    </tr>\n",
       "  </thead>\n",
       "  <tbody>\n",
       "    <tr>\n",
       "      <th>87</th>\n",
       "      <td>False</td>\n",
       "      <td>NaN</td>\n",
       "      <td>[]</td>\n",
       "      <td>127017</td>\n",
       "      <td>tt0003016</td>\n",
       "      <td>1913-01-01</td>\n",
       "      <td>NaN</td>\n",
       "      <td>28.0</td>\n",
       "      <td>The Inside of the White Slave Traffic</td>\n",
       "      <td>1913-01-01</td>\n",
       "      <td>9.8</td>\n",
       "      <td>26.338265</td>\n",
       "    </tr>\n",
       "    <tr>\n",
       "      <th>88</th>\n",
       "      <td>False</td>\n",
       "      <td>NaN</td>\n",
       "      <td>[{'id': 28, 'name': 'Action'}, {'id': 37, 'nam...</td>\n",
       "      <td>125673</td>\n",
       "      <td>tt0003662</td>\n",
       "      <td>1913-01-01</td>\n",
       "      <td>NaN</td>\n",
       "      <td>29.0</td>\n",
       "      <td>The Battle at Elderbush Gulch</td>\n",
       "      <td>1913-01-01</td>\n",
       "      <td>9.8</td>\n",
       "      <td>26.338265</td>\n",
       "    </tr>\n",
       "    <tr>\n",
       "      <th>89</th>\n",
       "      <td>False</td>\n",
       "      <td>NaN</td>\n",
       "      <td>[]</td>\n",
       "      <td>116857</td>\n",
       "      <td>tt0002795</td>\n",
       "      <td>1913-01-01</td>\n",
       "      <td>NaN</td>\n",
       "      <td>17.0</td>\n",
       "      <td>Death's Marathon</td>\n",
       "      <td>1913-01-01</td>\n",
       "      <td>9.8</td>\n",
       "      <td>26.338265</td>\n",
       "    </tr>\n",
       "    <tr>\n",
       "      <th>90</th>\n",
       "      <td>False</td>\n",
       "      <td>NaN</td>\n",
       "      <td>[]</td>\n",
       "      <td>375298</td>\n",
       "      <td>tt0249011</td>\n",
       "      <td>1913-03-31</td>\n",
       "      <td>NaN</td>\n",
       "      <td>8.0</td>\n",
       "      <td>Milling the Militants</td>\n",
       "      <td>1913-03-01</td>\n",
       "      <td>9.8</td>\n",
       "      <td>26.338265</td>\n",
       "    </tr>\n",
       "    <tr>\n",
       "      <th>91</th>\n",
       "      <td>True</td>\n",
       "      <td>NaN</td>\n",
       "      <td>[{'id': 80, 'name': 'Crime'}, {'id': 18, 'name...</td>\n",
       "      <td>56508</td>\n",
       "      <td>tt0002844</td>\n",
       "      <td>1913-05-09</td>\n",
       "      <td>NaN</td>\n",
       "      <td>54.0</td>\n",
       "      <td>Fantômas: In the Shadow of the Guillotine</td>\n",
       "      <td>1913-05-01</td>\n",
       "      <td>9.7</td>\n",
       "      <td>26.609794</td>\n",
       "    </tr>\n",
       "    <tr>\n",
       "      <th>...</th>\n",
       "      <td>...</td>\n",
       "      <td>...</td>\n",
       "      <td>...</td>\n",
       "      <td>...</td>\n",
       "      <td>...</td>\n",
       "      <td>...</td>\n",
       "      <td>...</td>\n",
       "      <td>...</td>\n",
       "      <td>...</td>\n",
       "      <td>...</td>\n",
       "      <td>...</td>\n",
       "      <td>...</td>\n",
       "    </tr>\n",
       "    <tr>\n",
       "      <th>82</th>\n",
       "      <td>False</td>\n",
       "      <td>NaN</td>\n",
       "      <td>[]</td>\n",
       "      <td>343227</td>\n",
       "      <td>tt1247269</td>\n",
       "      <td>NaT</td>\n",
       "      <td>NaN</td>\n",
       "      <td>98.0</td>\n",
       "      <td>El pejesapo</td>\n",
       "      <td>NaT</td>\n",
       "      <td>NaN</td>\n",
       "      <td>NaN</td>\n",
       "    </tr>\n",
       "    <tr>\n",
       "      <th>83</th>\n",
       "      <td>False</td>\n",
       "      <td>NaN</td>\n",
       "      <td>[{'id': 99, 'name': 'Documentary'}]</td>\n",
       "      <td>410142</td>\n",
       "      <td>tt4150988</td>\n",
       "      <td>NaT</td>\n",
       "      <td>NaN</td>\n",
       "      <td>NaN</td>\n",
       "      <td>Lo Sound Desert</td>\n",
       "      <td>NaT</td>\n",
       "      <td>NaN</td>\n",
       "      <td>NaN</td>\n",
       "    </tr>\n",
       "    <tr>\n",
       "      <th>84</th>\n",
       "      <td>False</td>\n",
       "      <td>NaN</td>\n",
       "      <td>[{'id': 99, 'name': 'Documentary'}, {'id': 12,...</td>\n",
       "      <td>164134</td>\n",
       "      <td>tt2091383</td>\n",
       "      <td>NaT</td>\n",
       "      <td>NaN</td>\n",
       "      <td>70.0</td>\n",
       "      <td>Pad Yatra: A Green Odyssey</td>\n",
       "      <td>NaT</td>\n",
       "      <td>NaN</td>\n",
       "      <td>NaN</td>\n",
       "    </tr>\n",
       "    <tr>\n",
       "      <th>85</th>\n",
       "      <td>False</td>\n",
       "      <td>NaN</td>\n",
       "      <td>[]</td>\n",
       "      <td>38061</td>\n",
       "      <td>tt0222730</td>\n",
       "      <td>NaT</td>\n",
       "      <td>NaN</td>\n",
       "      <td>57.0</td>\n",
       "      <td>Anybody's Son Will Do</td>\n",
       "      <td>NaT</td>\n",
       "      <td>NaN</td>\n",
       "      <td>NaN</td>\n",
       "    </tr>\n",
       "    <tr>\n",
       "      <th>86</th>\n",
       "      <td>False</td>\n",
       "      <td>NaN</td>\n",
       "      <td>[{'id': 18, 'name': 'Drama'}, {'id': 80, 'name...</td>\n",
       "      <td>449131</td>\n",
       "      <td>tt0321264</td>\n",
       "      <td>NaT</td>\n",
       "      <td>NaN</td>\n",
       "      <td>NaN</td>\n",
       "      <td>Aprel</td>\n",
       "      <td>NaT</td>\n",
       "      <td>NaN</td>\n",
       "      <td>NaN</td>\n",
       "    </tr>\n",
       "  </tbody>\n",
       "</table>\n",
       "<p>45268 rows × 12 columns</p>\n",
       "</div>"
      ],
      "text/plain": [
       "    belongs_to_collection  budget  \\\n",
       "87                  False     NaN   \n",
       "88                  False     NaN   \n",
       "89                  False     NaN   \n",
       "90                  False     NaN   \n",
       "91                   True     NaN   \n",
       "..                    ...     ...   \n",
       "82                  False     NaN   \n",
       "83                  False     NaN   \n",
       "84                  False     NaN   \n",
       "85                  False     NaN   \n",
       "86                  False     NaN   \n",
       "\n",
       "                                               genres      id    imdb_id  \\\n",
       "87                                                 []  127017  tt0003016   \n",
       "88  [{'id': 28, 'name': 'Action'}, {'id': 37, 'nam...  125673  tt0003662   \n",
       "89                                                 []  116857  tt0002795   \n",
       "90                                                 []  375298  tt0249011   \n",
       "91  [{'id': 80, 'name': 'Crime'}, {'id': 18, 'name...   56508  tt0002844   \n",
       "..                                                ...     ...        ...   \n",
       "82                                                 []  343227  tt1247269   \n",
       "83                [{'id': 99, 'name': 'Documentary'}]  410142  tt4150988   \n",
       "84  [{'id': 99, 'name': 'Documentary'}, {'id': 12,...  164134  tt2091383   \n",
       "85                                                 []   38061  tt0222730   \n",
       "86  [{'id': 18, 'name': 'Drama'}, {'id': 80, 'name...  449131  tt0321264   \n",
       "\n",
       "   release_date  revenue  runtime                                      title  \\\n",
       "87   1913-01-01      NaN     28.0      The Inside of the White Slave Traffic   \n",
       "88   1913-01-01      NaN     29.0              The Battle at Elderbush Gulch   \n",
       "89   1913-01-01      NaN     17.0                           Death's Marathon   \n",
       "90   1913-03-31      NaN      8.0                      Milling the Militants   \n",
       "91   1913-05-09      NaN     54.0  Fantômas: In the Shadow of the Guillotine   \n",
       "..          ...      ...      ...                                        ...   \n",
       "82          NaT      NaN     98.0                                El pejesapo   \n",
       "83          NaT      NaN      NaN                            Lo Sound Desert   \n",
       "84          NaT      NaN     70.0                 Pad Yatra: A Green Odyssey   \n",
       "85          NaT      NaN     57.0                      Anybody's Son Will Do   \n",
       "86          NaT      NaN      NaN                                      Aprel   \n",
       "\n",
       "         date  cpiaucns  cpi_multiplier  \n",
       "87 1913-01-01       9.8       26.338265  \n",
       "88 1913-01-01       9.8       26.338265  \n",
       "89 1913-01-01       9.8       26.338265  \n",
       "90 1913-03-01       9.8       26.338265  \n",
       "91 1913-05-01       9.7       26.609794  \n",
       "..        ...       ...             ...  \n",
       "82        NaT       NaN             NaN  \n",
       "83        NaT       NaN             NaN  \n",
       "84        NaT       NaN             NaN  \n",
       "85        NaT       NaN             NaN  \n",
       "86        NaT       NaN             NaN  \n",
       "\n",
       "[45268 rows x 12 columns]"
      ]
     },
     "execution_count": 39,
     "metadata": {},
     "output_type": "execute_result"
    }
   ],
   "source": [
    "# convert missing release dates back to NaT and sort by release date\n",
    "df['release_date'] = df['release_date'].replace(pd.to_datetime('1800-01-01'), np.nan)\n",
    "df.sort_values('release_date', inplace=True)\n",
    "df"
   ]
  },
  {
   "cell_type": "markdown",
   "metadata": {},
   "source": [
    "The main DataFrame is back to its original form with the CPI data added."
   ]
  },
  {
   "cell_type": "markdown",
   "metadata": {},
   "source": [
    "I can get rid of the CPI values and their dates.<br>\n",
    "I only need the multipliers going forward."
   ]
  },
  {
   "cell_type": "code",
   "execution_count": 40,
   "metadata": {},
   "outputs": [
    {
     "data": {
      "text/html": [
       "<div>\n",
       "<style scoped>\n",
       "    .dataframe tbody tr th:only-of-type {\n",
       "        vertical-align: middle;\n",
       "    }\n",
       "\n",
       "    .dataframe tbody tr th {\n",
       "        vertical-align: top;\n",
       "    }\n",
       "\n",
       "    .dataframe thead th {\n",
       "        text-align: right;\n",
       "    }\n",
       "</style>\n",
       "<table border=\"1\" class=\"dataframe\">\n",
       "  <thead>\n",
       "    <tr style=\"text-align: right;\">\n",
       "      <th></th>\n",
       "      <th>87</th>\n",
       "      <th>88</th>\n",
       "      <th>89</th>\n",
       "      <th>90</th>\n",
       "      <th>91</th>\n",
       "    </tr>\n",
       "  </thead>\n",
       "  <tbody>\n",
       "    <tr>\n",
       "      <th>belongs_to_collection</th>\n",
       "      <td>False</td>\n",
       "      <td>False</td>\n",
       "      <td>False</td>\n",
       "      <td>False</td>\n",
       "      <td>True</td>\n",
       "    </tr>\n",
       "    <tr>\n",
       "      <th>budget</th>\n",
       "      <td>NaN</td>\n",
       "      <td>NaN</td>\n",
       "      <td>NaN</td>\n",
       "      <td>NaN</td>\n",
       "      <td>NaN</td>\n",
       "    </tr>\n",
       "    <tr>\n",
       "      <th>genres</th>\n",
       "      <td>[]</td>\n",
       "      <td>[{'id': 28, 'name': 'Action'}, {'id': 37, 'nam...</td>\n",
       "      <td>[]</td>\n",
       "      <td>[]</td>\n",
       "      <td>[{'id': 80, 'name': 'Crime'}, {'id': 18, 'name...</td>\n",
       "    </tr>\n",
       "    <tr>\n",
       "      <th>id</th>\n",
       "      <td>127017</td>\n",
       "      <td>125673</td>\n",
       "      <td>116857</td>\n",
       "      <td>375298</td>\n",
       "      <td>56508</td>\n",
       "    </tr>\n",
       "    <tr>\n",
       "      <th>imdb_id</th>\n",
       "      <td>tt0003016</td>\n",
       "      <td>tt0003662</td>\n",
       "      <td>tt0002795</td>\n",
       "      <td>tt0249011</td>\n",
       "      <td>tt0002844</td>\n",
       "    </tr>\n",
       "    <tr>\n",
       "      <th>release_date</th>\n",
       "      <td>1913-01-01 00:00:00</td>\n",
       "      <td>1913-01-01 00:00:00</td>\n",
       "      <td>1913-01-01 00:00:00</td>\n",
       "      <td>1913-03-31 00:00:00</td>\n",
       "      <td>1913-05-09 00:00:00</td>\n",
       "    </tr>\n",
       "    <tr>\n",
       "      <th>revenue</th>\n",
       "      <td>NaN</td>\n",
       "      <td>NaN</td>\n",
       "      <td>NaN</td>\n",
       "      <td>NaN</td>\n",
       "      <td>NaN</td>\n",
       "    </tr>\n",
       "    <tr>\n",
       "      <th>runtime</th>\n",
       "      <td>28</td>\n",
       "      <td>29</td>\n",
       "      <td>17</td>\n",
       "      <td>8</td>\n",
       "      <td>54</td>\n",
       "    </tr>\n",
       "    <tr>\n",
       "      <th>title</th>\n",
       "      <td>The Inside of the White Slave Traffic</td>\n",
       "      <td>The Battle at Elderbush Gulch</td>\n",
       "      <td>Death's Marathon</td>\n",
       "      <td>Milling the Militants</td>\n",
       "      <td>Fantômas: In the Shadow of the Guillotine</td>\n",
       "    </tr>\n",
       "    <tr>\n",
       "      <th>cpi_multiplier</th>\n",
       "      <td>26.3383</td>\n",
       "      <td>26.3383</td>\n",
       "      <td>26.3383</td>\n",
       "      <td>26.3383</td>\n",
       "      <td>26.6098</td>\n",
       "    </tr>\n",
       "  </tbody>\n",
       "</table>\n",
       "</div>"
      ],
      "text/plain": [
       "                                                          87  \\\n",
       "belongs_to_collection                                  False   \n",
       "budget                                                   NaN   \n",
       "genres                                                    []   \n",
       "id                                                    127017   \n",
       "imdb_id                                            tt0003016   \n",
       "release_date                             1913-01-01 00:00:00   \n",
       "revenue                                                  NaN   \n",
       "runtime                                                   28   \n",
       "title                  The Inside of the White Slave Traffic   \n",
       "cpi_multiplier                                       26.3383   \n",
       "\n",
       "                                                                      88  \\\n",
       "belongs_to_collection                                              False   \n",
       "budget                                                               NaN   \n",
       "genres                 [{'id': 28, 'name': 'Action'}, {'id': 37, 'nam...   \n",
       "id                                                                125673   \n",
       "imdb_id                                                        tt0003662   \n",
       "release_date                                         1913-01-01 00:00:00   \n",
       "revenue                                                              NaN   \n",
       "runtime                                                               29   \n",
       "title                                      The Battle at Elderbush Gulch   \n",
       "cpi_multiplier                                                   26.3383   \n",
       "\n",
       "                                        89                     90  \\\n",
       "belongs_to_collection                False                  False   \n",
       "budget                                 NaN                    NaN   \n",
       "genres                                  []                     []   \n",
       "id                                  116857                 375298   \n",
       "imdb_id                          tt0002795              tt0249011   \n",
       "release_date           1913-01-01 00:00:00    1913-03-31 00:00:00   \n",
       "revenue                                NaN                    NaN   \n",
       "runtime                                 17                      8   \n",
       "title                     Death's Marathon  Milling the Militants   \n",
       "cpi_multiplier                     26.3383                26.3383   \n",
       "\n",
       "                                                                      91  \n",
       "belongs_to_collection                                               True  \n",
       "budget                                                               NaN  \n",
       "genres                 [{'id': 80, 'name': 'Crime'}, {'id': 18, 'name...  \n",
       "id                                                                 56508  \n",
       "imdb_id                                                        tt0002844  \n",
       "release_date                                         1913-05-09 00:00:00  \n",
       "revenue                                                              NaN  \n",
       "runtime                                                               54  \n",
       "title                          Fantômas: In the Shadow of the Guillotine  \n",
       "cpi_multiplier                                                   26.6098  "
      ]
     },
     "execution_count": 40,
     "metadata": {},
     "output_type": "execute_result"
    }
   ],
   "source": [
    "# drop CPI and CPI date data\n",
    "df.drop(['date', 'cpiaucns'], axis=1, inplace=True)\n",
    "df.head().transpose()"
   ]
  },
  {
   "cell_type": "markdown",
   "metadata": {},
   "source": [
    "From here I can take the multiplier and scale both the budget and revenue data.<br>\n",
    "I will wait until I have merged this with other datasets and extracted more information from the websites, as those values may change.<br>\n",
    "This is a demonstration that it can be done."
   ]
  },
  {
   "cell_type": "markdown",
   "metadata": {},
   "source": [
    "> **ID**"
   ]
  },
  {
   "cell_type": "markdown",
   "metadata": {},
   "source": [
    "The id column is the TMDbID for the movie.<br>\n",
    "Let's look at this one next.<br>\n",
    "It has no missing values, but it is a string."
   ]
  },
  {
   "cell_type": "code",
   "execution_count": 41,
   "metadata": {},
   "outputs": [
    {
     "data": {
      "text/plain": [
       "<class 'int'>    45268\n",
       "Name: id, dtype: int64"
      ]
     },
     "execution_count": 41,
     "metadata": {},
     "output_type": "execute_result"
    }
   ],
   "source": [
    "# make id column integer values\n",
    "df['id'] = pd.to_numeric(df['id']).astype(int)\n",
    "df['id'].apply(type).value_counts()"
   ]
  },
  {
   "cell_type": "code",
   "execution_count": 42,
   "metadata": {},
   "outputs": [
    {
     "data": {
      "text/plain": [
       "0"
      ]
     },
     "execution_count": 42,
     "metadata": {},
     "output_type": "execute_result"
    }
   ],
   "source": [
    "# checking that no values are zero\n",
    "df['id'].isin([0]).sum()"
   ]
  },
  {
   "cell_type": "markdown",
   "metadata": {},
   "source": [
    "> **IMDB ID**"
   ]
  },
  {
   "cell_type": "markdown",
   "metadata": {},
   "source": [
    "Now, the imdb_id has the tt prefix attached that I would like to remove, as it is not used when doing API requests with imdbpy."
   ]
  },
  {
   "cell_type": "code",
   "execution_count": 43,
   "metadata": {},
   "outputs": [
    {
     "data": {
      "text/html": [
       "<div>\n",
       "<style scoped>\n",
       "    .dataframe tbody tr th:only-of-type {\n",
       "        vertical-align: middle;\n",
       "    }\n",
       "\n",
       "    .dataframe tbody tr th {\n",
       "        vertical-align: top;\n",
       "    }\n",
       "\n",
       "    .dataframe thead th {\n",
       "        text-align: right;\n",
       "    }\n",
       "</style>\n",
       "<table border=\"1\" class=\"dataframe\">\n",
       "  <thead>\n",
       "    <tr style=\"text-align: right;\">\n",
       "      <th></th>\n",
       "      <th>87</th>\n",
       "      <th>88</th>\n",
       "      <th>89</th>\n",
       "      <th>90</th>\n",
       "      <th>91</th>\n",
       "    </tr>\n",
       "  </thead>\n",
       "  <tbody>\n",
       "    <tr>\n",
       "      <th>belongs_to_collection</th>\n",
       "      <td>False</td>\n",
       "      <td>False</td>\n",
       "      <td>False</td>\n",
       "      <td>False</td>\n",
       "      <td>True</td>\n",
       "    </tr>\n",
       "    <tr>\n",
       "      <th>budget</th>\n",
       "      <td>NaN</td>\n",
       "      <td>NaN</td>\n",
       "      <td>NaN</td>\n",
       "      <td>NaN</td>\n",
       "      <td>NaN</td>\n",
       "    </tr>\n",
       "    <tr>\n",
       "      <th>genres</th>\n",
       "      <td>[]</td>\n",
       "      <td>[{'id': 28, 'name': 'Action'}, {'id': 37, 'nam...</td>\n",
       "      <td>[]</td>\n",
       "      <td>[]</td>\n",
       "      <td>[{'id': 80, 'name': 'Crime'}, {'id': 18, 'name...</td>\n",
       "    </tr>\n",
       "    <tr>\n",
       "      <th>id</th>\n",
       "      <td>127017</td>\n",
       "      <td>125673</td>\n",
       "      <td>116857</td>\n",
       "      <td>375298</td>\n",
       "      <td>56508</td>\n",
       "    </tr>\n",
       "    <tr>\n",
       "      <th>imdb_id</th>\n",
       "      <td>0003016</td>\n",
       "      <td>0003662</td>\n",
       "      <td>0002795</td>\n",
       "      <td>0249011</td>\n",
       "      <td>0002844</td>\n",
       "    </tr>\n",
       "    <tr>\n",
       "      <th>release_date</th>\n",
       "      <td>1913-01-01 00:00:00</td>\n",
       "      <td>1913-01-01 00:00:00</td>\n",
       "      <td>1913-01-01 00:00:00</td>\n",
       "      <td>1913-03-31 00:00:00</td>\n",
       "      <td>1913-05-09 00:00:00</td>\n",
       "    </tr>\n",
       "    <tr>\n",
       "      <th>revenue</th>\n",
       "      <td>NaN</td>\n",
       "      <td>NaN</td>\n",
       "      <td>NaN</td>\n",
       "      <td>NaN</td>\n",
       "      <td>NaN</td>\n",
       "    </tr>\n",
       "    <tr>\n",
       "      <th>runtime</th>\n",
       "      <td>28</td>\n",
       "      <td>29</td>\n",
       "      <td>17</td>\n",
       "      <td>8</td>\n",
       "      <td>54</td>\n",
       "    </tr>\n",
       "    <tr>\n",
       "      <th>title</th>\n",
       "      <td>The Inside of the White Slave Traffic</td>\n",
       "      <td>The Battle at Elderbush Gulch</td>\n",
       "      <td>Death's Marathon</td>\n",
       "      <td>Milling the Militants</td>\n",
       "      <td>Fantômas: In the Shadow of the Guillotine</td>\n",
       "    </tr>\n",
       "    <tr>\n",
       "      <th>cpi_multiplier</th>\n",
       "      <td>26.3383</td>\n",
       "      <td>26.3383</td>\n",
       "      <td>26.3383</td>\n",
       "      <td>26.3383</td>\n",
       "      <td>26.6098</td>\n",
       "    </tr>\n",
       "  </tbody>\n",
       "</table>\n",
       "</div>"
      ],
      "text/plain": [
       "                                                          87  \\\n",
       "belongs_to_collection                                  False   \n",
       "budget                                                   NaN   \n",
       "genres                                                    []   \n",
       "id                                                    127017   \n",
       "imdb_id                                              0003016   \n",
       "release_date                             1913-01-01 00:00:00   \n",
       "revenue                                                  NaN   \n",
       "runtime                                                   28   \n",
       "title                  The Inside of the White Slave Traffic   \n",
       "cpi_multiplier                                       26.3383   \n",
       "\n",
       "                                                                      88  \\\n",
       "belongs_to_collection                                              False   \n",
       "budget                                                               NaN   \n",
       "genres                 [{'id': 28, 'name': 'Action'}, {'id': 37, 'nam...   \n",
       "id                                                                125673   \n",
       "imdb_id                                                          0003662   \n",
       "release_date                                         1913-01-01 00:00:00   \n",
       "revenue                                                              NaN   \n",
       "runtime                                                               29   \n",
       "title                                      The Battle at Elderbush Gulch   \n",
       "cpi_multiplier                                                   26.3383   \n",
       "\n",
       "                                        89                     90  \\\n",
       "belongs_to_collection                False                  False   \n",
       "budget                                 NaN                    NaN   \n",
       "genres                                  []                     []   \n",
       "id                                  116857                 375298   \n",
       "imdb_id                            0002795                0249011   \n",
       "release_date           1913-01-01 00:00:00    1913-03-31 00:00:00   \n",
       "revenue                                NaN                    NaN   \n",
       "runtime                                 17                      8   \n",
       "title                     Death's Marathon  Milling the Militants   \n",
       "cpi_multiplier                     26.3383                26.3383   \n",
       "\n",
       "                                                                      91  \n",
       "belongs_to_collection                                               True  \n",
       "budget                                                               NaN  \n",
       "genres                 [{'id': 80, 'name': 'Crime'}, {'id': 18, 'name...  \n",
       "id                                                                 56508  \n",
       "imdb_id                                                          0002844  \n",
       "release_date                                         1913-05-09 00:00:00  \n",
       "revenue                                                              NaN  \n",
       "runtime                                                               54  \n",
       "title                          Fantômas: In the Shadow of the Guillotine  \n",
       "cpi_multiplier                                                   26.6098  "
      ]
     },
     "execution_count": 43,
     "metadata": {},
     "output_type": "execute_result"
    }
   ],
   "source": [
    "# remove prefix\n",
    "df['imdb_id'] = df['imdb_id'].str.split('tt', expand=True)[1]\n",
    "df.head().transpose()"
   ]
  },
  {
   "cell_type": "code",
   "execution_count": 44,
   "metadata": {},
   "outputs": [
    {
     "data": {
      "text/plain": [
       "<class 'int'>                            45251\n",
       "<class 'pandas._libs.missing.NAType'>       17\n",
       "Name: imdb_id, dtype: int64"
      ]
     },
     "execution_count": 44,
     "metadata": {},
     "output_type": "execute_result"
    }
   ],
   "source": [
    "# make imdb_id column integer values\n",
    "df['imdb_id'] = pd.to_numeric(df['imdb_id']).astype('Int64')\n",
    "df['imdb_id'].apply(type).value_counts()"
   ]
  },
  {
   "cell_type": "code",
   "execution_count": 45,
   "metadata": {},
   "outputs": [
    {
     "data": {
      "text/plain": [
       "0"
      ]
     },
     "execution_count": 45,
     "metadata": {},
     "output_type": "execute_result"
    }
   ],
   "source": [
    "# checking that no values are zero\n",
    "df['imdb_id'].isin([0]).sum()"
   ]
  },
  {
   "cell_type": "markdown",
   "metadata": {},
   "source": [
    "> **GENRES**"
   ]
  },
  {
   "cell_type": "markdown",
   "metadata": {},
   "source": [
    "Let's tackle the genres colummn.<br>\n",
    "I requested the movie genre id information from the TMDb website."
   ]
  },
  {
   "cell_type": "code",
   "execution_count": 46,
   "metadata": {},
   "outputs": [],
   "source": [
    "# making a list of genre id's\n",
    "genres_id = [28, 12, 16, 35, 80, 99, 18, 10751, 14, 36, 27, 10402, 9648, 10749, 878, 10770, 53, 10752, 37]"
   ]
  },
  {
   "cell_type": "code",
   "execution_count": 47,
   "metadata": {},
   "outputs": [],
   "source": [
    "# making a list of genre names\n",
    "genres_name = ['Action', 'Adventure', 'Animation', 'Comedy', 'Crime', 'Documentary', 'Drama', 'Family', \n",
    "               'Fantasy', 'History', 'Horror', 'Music', 'Mystery', 'Romance', 'Science Fiction', 'TV Movie', \n",
    "               'Thriller', 'War', 'Western']"
   ]
  },
  {
   "cell_type": "code",
   "execution_count": 48,
   "metadata": {},
   "outputs": [
    {
     "data": {
      "text/plain": [
       "{28: 'Action',\n",
       " 12: 'Adventure',\n",
       " 16: 'Animation',\n",
       " 35: 'Comedy',\n",
       " 80: 'Crime',\n",
       " 99: 'Documentary',\n",
       " 18: 'Drama',\n",
       " 10751: 'Family',\n",
       " 14: 'Fantasy',\n",
       " 36: 'History',\n",
       " 27: 'Horror',\n",
       " 10402: 'Music',\n",
       " 9648: 'Mystery',\n",
       " 10749: 'Romance',\n",
       " 878: 'Science Fiction',\n",
       " 10770: 'TV Movie',\n",
       " 53: 'Thriller',\n",
       " 10752: 'War',\n",
       " 37: 'Western'}"
      ]
     },
     "execution_count": 48,
     "metadata": {},
     "output_type": "execute_result"
    }
   ],
   "source": [
    "# creating a dictionary to hold the genre id information\n",
    "genres = dict(zip(genres_id, genres_name))\n",
    "genres"
   ]
  },
  {
   "cell_type": "markdown",
   "metadata": {},
   "source": [
    "This dictionary allows me to only retain the id part of the genres column. The names can be referenced if needed."
   ]
  },
  {
   "cell_type": "code",
   "execution_count": 49,
   "metadata": {},
   "outputs": [
    {
     "data": {
      "text/plain": [
       "\"[{'id': 18, 'name': 'Drama'}, {'id': 10751, 'name': 'Family'}]\""
      ]
     },
     "execution_count": 49,
     "metadata": {},
     "output_type": "execute_result"
    }
   ],
   "source": [
    "# notice this is almost a JSON-like object\n",
    "df['genres'][0]"
   ]
  },
  {
   "cell_type": "markdown",
   "metadata": {},
   "source": [
    "The string needs to have all double quotes throughout."
   ]
  },
  {
   "cell_type": "code",
   "execution_count": 50,
   "metadata": {},
   "outputs": [
    {
     "data": {
      "text/plain": [
       "'[{\"id\": 18, \"name\": \"Drama\"}, {\"id\": 10751, \"name\": \"Family\"}]'"
      ]
     },
     "execution_count": 50,
     "metadata": {},
     "output_type": "execute_result"
    }
   ],
   "source": [
    "# convert single to double quotes to use JSON module\n",
    "df['genres'] = df['genres'].str.replace('\\'', '\\\"')\n",
    "df['genres'][0]"
   ]
  },
  {
   "cell_type": "code",
   "execution_count": 51,
   "metadata": {},
   "outputs": [],
   "source": [
    "# use JSON module to convert genres column of strings to Series of dicts\n",
    "gen_series = df['genres'].apply(json.loads)"
   ]
  },
  {
   "cell_type": "code",
   "execution_count": 52,
   "metadata": {},
   "outputs": [
    {
     "data": {
      "text/html": [
       "<div>\n",
       "<style scoped>\n",
       "    .dataframe tbody tr th:only-of-type {\n",
       "        vertical-align: middle;\n",
       "    }\n",
       "\n",
       "    .dataframe tbody tr th {\n",
       "        vertical-align: top;\n",
       "    }\n",
       "\n",
       "    .dataframe thead th {\n",
       "        text-align: right;\n",
       "    }\n",
       "</style>\n",
       "<table border=\"1\" class=\"dataframe\">\n",
       "  <thead>\n",
       "    <tr style=\"text-align: right;\">\n",
       "      <th></th>\n",
       "      <th>87</th>\n",
       "      <th>88</th>\n",
       "      <th>89</th>\n",
       "      <th>90</th>\n",
       "      <th>91</th>\n",
       "    </tr>\n",
       "  </thead>\n",
       "  <tbody>\n",
       "    <tr>\n",
       "      <th>belongs_to_collection</th>\n",
       "      <td>False</td>\n",
       "      <td>False</td>\n",
       "      <td>False</td>\n",
       "      <td>False</td>\n",
       "      <td>True</td>\n",
       "    </tr>\n",
       "    <tr>\n",
       "      <th>budget</th>\n",
       "      <td>NaN</td>\n",
       "      <td>NaN</td>\n",
       "      <td>NaN</td>\n",
       "      <td>NaN</td>\n",
       "      <td>NaN</td>\n",
       "    </tr>\n",
       "    <tr>\n",
       "      <th>id</th>\n",
       "      <td>127017</td>\n",
       "      <td>125673</td>\n",
       "      <td>116857</td>\n",
       "      <td>375298</td>\n",
       "      <td>56508</td>\n",
       "    </tr>\n",
       "    <tr>\n",
       "      <th>imdb_id</th>\n",
       "      <td>3016</td>\n",
       "      <td>3662</td>\n",
       "      <td>2795</td>\n",
       "      <td>249011</td>\n",
       "      <td>2844</td>\n",
       "    </tr>\n",
       "    <tr>\n",
       "      <th>release_date</th>\n",
       "      <td>1913-01-01 00:00:00</td>\n",
       "      <td>1913-01-01 00:00:00</td>\n",
       "      <td>1913-01-01 00:00:00</td>\n",
       "      <td>1913-03-31 00:00:00</td>\n",
       "      <td>1913-05-09 00:00:00</td>\n",
       "    </tr>\n",
       "    <tr>\n",
       "      <th>revenue</th>\n",
       "      <td>NaN</td>\n",
       "      <td>NaN</td>\n",
       "      <td>NaN</td>\n",
       "      <td>NaN</td>\n",
       "      <td>NaN</td>\n",
       "    </tr>\n",
       "    <tr>\n",
       "      <th>runtime</th>\n",
       "      <td>28</td>\n",
       "      <td>29</td>\n",
       "      <td>17</td>\n",
       "      <td>8</td>\n",
       "      <td>54</td>\n",
       "    </tr>\n",
       "    <tr>\n",
       "      <th>title</th>\n",
       "      <td>The Inside of the White Slave Traffic</td>\n",
       "      <td>The Battle at Elderbush Gulch</td>\n",
       "      <td>Death's Marathon</td>\n",
       "      <td>Milling the Militants</td>\n",
       "      <td>Fantômas: In the Shadow of the Guillotine</td>\n",
       "    </tr>\n",
       "    <tr>\n",
       "      <th>cpi_multiplier</th>\n",
       "      <td>26.3383</td>\n",
       "      <td>26.3383</td>\n",
       "      <td>26.3383</td>\n",
       "      <td>26.3383</td>\n",
       "      <td>26.6098</td>\n",
       "    </tr>\n",
       "    <tr>\n",
       "      <th>genres</th>\n",
       "      <td>[]</td>\n",
       "      <td>[{'id': 28, 'name': 'Action'}, {'id': 37, 'nam...</td>\n",
       "      <td>[]</td>\n",
       "      <td>[]</td>\n",
       "      <td>[{'id': 80, 'name': 'Crime'}, {'id': 18, 'name...</td>\n",
       "    </tr>\n",
       "  </tbody>\n",
       "</table>\n",
       "</div>"
      ],
      "text/plain": [
       "                                                          87  \\\n",
       "belongs_to_collection                                  False   \n",
       "budget                                                   NaN   \n",
       "id                                                    127017   \n",
       "imdb_id                                                 3016   \n",
       "release_date                             1913-01-01 00:00:00   \n",
       "revenue                                                  NaN   \n",
       "runtime                                                   28   \n",
       "title                  The Inside of the White Slave Traffic   \n",
       "cpi_multiplier                                       26.3383   \n",
       "genres                                                    []   \n",
       "\n",
       "                                                                      88  \\\n",
       "belongs_to_collection                                              False   \n",
       "budget                                                               NaN   \n",
       "id                                                                125673   \n",
       "imdb_id                                                             3662   \n",
       "release_date                                         1913-01-01 00:00:00   \n",
       "revenue                                                              NaN   \n",
       "runtime                                                               29   \n",
       "title                                      The Battle at Elderbush Gulch   \n",
       "cpi_multiplier                                                   26.3383   \n",
       "genres                 [{'id': 28, 'name': 'Action'}, {'id': 37, 'nam...   \n",
       "\n",
       "                                        89                     90  \\\n",
       "belongs_to_collection                False                  False   \n",
       "budget                                 NaN                    NaN   \n",
       "id                                  116857                 375298   \n",
       "imdb_id                               2795                 249011   \n",
       "release_date           1913-01-01 00:00:00    1913-03-31 00:00:00   \n",
       "revenue                                NaN                    NaN   \n",
       "runtime                                 17                      8   \n",
       "title                     Death's Marathon  Milling the Militants   \n",
       "cpi_multiplier                     26.3383                26.3383   \n",
       "genres                                  []                     []   \n",
       "\n",
       "                                                                      91  \n",
       "belongs_to_collection                                               True  \n",
       "budget                                                               NaN  \n",
       "id                                                                 56508  \n",
       "imdb_id                                                             2844  \n",
       "release_date                                         1913-05-09 00:00:00  \n",
       "revenue                                                              NaN  \n",
       "runtime                                                               54  \n",
       "title                          Fantômas: In the Shadow of the Guillotine  \n",
       "cpi_multiplier                                                   26.6098  \n",
       "genres                 [{'id': 80, 'name': 'Crime'}, {'id': 18, 'name...  "
      ]
     },
     "execution_count": 52,
     "metadata": {},
     "output_type": "execute_result"
    }
   ],
   "source": [
    "# replace the original genres column with the new one\n",
    "df = df.drop('genres', axis=1).join(gen_series)\n",
    "df.head().transpose()"
   ]
  },
  {
   "cell_type": "markdown",
   "metadata": {},
   "source": [
    "Now, I will extract the genre id's from the values of the genre column and discard the rest of the information."
   ]
  },
  {
   "cell_type": "code",
   "execution_count": 53,
   "metadata": {},
   "outputs": [],
   "source": [
    "def get_genre_id():\n",
    "    \"\"\"Returns Series of genre id's grouped by movie from genres column\"\"\"\n",
    "    # generate outer list\n",
    "    all_vals = []\n",
    "    for row in df['genres']:\n",
    "        # generate inner list\n",
    "        val_lst = []\n",
    "        for d in row:\n",
    "            # add each genre id to inner list for each movie\n",
    "            val_lst.append(d.get('id'))\n",
    "        # add each inner list to outer list\n",
    "        all_vals.append(val_lst)\n",
    "    # convert outer list to Series\n",
    "    return pd.Series(all_vals)"
   ]
  },
  {
   "cell_type": "code",
   "execution_count": 54,
   "metadata": {},
   "outputs": [
    {
     "data": {
      "text/plain": [
       "0              []\n",
       "1        [28, 37]\n",
       "2              []\n",
       "3              []\n",
       "4        [80, 18]\n",
       "           ...   \n",
       "45263          []\n",
       "45264        [99]\n",
       "45265    [99, 12]\n",
       "45266          []\n",
       "45267    [18, 80]\n",
       "Length: 45268, dtype: object"
      ]
     },
     "execution_count": 54,
     "metadata": {},
     "output_type": "execute_result"
    }
   ],
   "source": [
    "# check that function works\n",
    "get_genre_id()"
   ]
  },
  {
   "cell_type": "code",
   "execution_count": 55,
   "metadata": {},
   "outputs": [
    {
     "data": {
      "text/html": [
       "<div>\n",
       "<style scoped>\n",
       "    .dataframe tbody tr th:only-of-type {\n",
       "        vertical-align: middle;\n",
       "    }\n",
       "\n",
       "    .dataframe tbody tr th {\n",
       "        vertical-align: top;\n",
       "    }\n",
       "\n",
       "    .dataframe thead th {\n",
       "        text-align: right;\n",
       "    }\n",
       "</style>\n",
       "<table border=\"1\" class=\"dataframe\">\n",
       "  <thead>\n",
       "    <tr style=\"text-align: right;\">\n",
       "      <th></th>\n",
       "      <th>87</th>\n",
       "      <th>88</th>\n",
       "      <th>89</th>\n",
       "      <th>90</th>\n",
       "      <th>91</th>\n",
       "    </tr>\n",
       "  </thead>\n",
       "  <tbody>\n",
       "    <tr>\n",
       "      <th>belongs_to_collection</th>\n",
       "      <td>False</td>\n",
       "      <td>False</td>\n",
       "      <td>False</td>\n",
       "      <td>False</td>\n",
       "      <td>True</td>\n",
       "    </tr>\n",
       "    <tr>\n",
       "      <th>budget</th>\n",
       "      <td>NaN</td>\n",
       "      <td>NaN</td>\n",
       "      <td>NaN</td>\n",
       "      <td>NaN</td>\n",
       "      <td>NaN</td>\n",
       "    </tr>\n",
       "    <tr>\n",
       "      <th>id</th>\n",
       "      <td>127017</td>\n",
       "      <td>125673</td>\n",
       "      <td>116857</td>\n",
       "      <td>375298</td>\n",
       "      <td>56508</td>\n",
       "    </tr>\n",
       "    <tr>\n",
       "      <th>imdb_id</th>\n",
       "      <td>3016</td>\n",
       "      <td>3662</td>\n",
       "      <td>2795</td>\n",
       "      <td>249011</td>\n",
       "      <td>2844</td>\n",
       "    </tr>\n",
       "    <tr>\n",
       "      <th>release_date</th>\n",
       "      <td>1913-01-01 00:00:00</td>\n",
       "      <td>1913-01-01 00:00:00</td>\n",
       "      <td>1913-01-01 00:00:00</td>\n",
       "      <td>1913-03-31 00:00:00</td>\n",
       "      <td>1913-05-09 00:00:00</td>\n",
       "    </tr>\n",
       "    <tr>\n",
       "      <th>revenue</th>\n",
       "      <td>NaN</td>\n",
       "      <td>NaN</td>\n",
       "      <td>NaN</td>\n",
       "      <td>NaN</td>\n",
       "      <td>NaN</td>\n",
       "    </tr>\n",
       "    <tr>\n",
       "      <th>runtime</th>\n",
       "      <td>28</td>\n",
       "      <td>29</td>\n",
       "      <td>17</td>\n",
       "      <td>8</td>\n",
       "      <td>54</td>\n",
       "    </tr>\n",
       "    <tr>\n",
       "      <th>title</th>\n",
       "      <td>The Inside of the White Slave Traffic</td>\n",
       "      <td>The Battle at Elderbush Gulch</td>\n",
       "      <td>Death's Marathon</td>\n",
       "      <td>Milling the Militants</td>\n",
       "      <td>Fantômas: In the Shadow of the Guillotine</td>\n",
       "    </tr>\n",
       "    <tr>\n",
       "      <th>cpi_multiplier</th>\n",
       "      <td>26.3383</td>\n",
       "      <td>26.3383</td>\n",
       "      <td>26.3383</td>\n",
       "      <td>26.3383</td>\n",
       "      <td>26.6098</td>\n",
       "    </tr>\n",
       "    <tr>\n",
       "      <th>genres</th>\n",
       "      <td>[35]</td>\n",
       "      <td>[10749, 35]</td>\n",
       "      <td>[12]</td>\n",
       "      <td>[18]</td>\n",
       "      <td>[12, 18, 28, 878]</td>\n",
       "    </tr>\n",
       "  </tbody>\n",
       "</table>\n",
       "</div>"
      ],
      "text/plain": [
       "                                                          87  \\\n",
       "belongs_to_collection                                  False   \n",
       "budget                                                   NaN   \n",
       "id                                                    127017   \n",
       "imdb_id                                                 3016   \n",
       "release_date                             1913-01-01 00:00:00   \n",
       "revenue                                                  NaN   \n",
       "runtime                                                   28   \n",
       "title                  The Inside of the White Slave Traffic   \n",
       "cpi_multiplier                                       26.3383   \n",
       "genres                                                  [35]   \n",
       "\n",
       "                                                  88                   89  \\\n",
       "belongs_to_collection                          False                False   \n",
       "budget                                           NaN                  NaN   \n",
       "id                                            125673               116857   \n",
       "imdb_id                                         3662                 2795   \n",
       "release_date                     1913-01-01 00:00:00  1913-01-01 00:00:00   \n",
       "revenue                                          NaN                  NaN   \n",
       "runtime                                           29                   17   \n",
       "title                  The Battle at Elderbush Gulch     Death's Marathon   \n",
       "cpi_multiplier                               26.3383              26.3383   \n",
       "genres                                   [10749, 35]                 [12]   \n",
       "\n",
       "                                          90  \\\n",
       "belongs_to_collection                  False   \n",
       "budget                                   NaN   \n",
       "id                                    375298   \n",
       "imdb_id                               249011   \n",
       "release_date             1913-03-31 00:00:00   \n",
       "revenue                                  NaN   \n",
       "runtime                                    8   \n",
       "title                  Milling the Militants   \n",
       "cpi_multiplier                       26.3383   \n",
       "genres                                  [18]   \n",
       "\n",
       "                                                              91  \n",
       "belongs_to_collection                                       True  \n",
       "budget                                                       NaN  \n",
       "id                                                         56508  \n",
       "imdb_id                                                     2844  \n",
       "release_date                                 1913-05-09 00:00:00  \n",
       "revenue                                                      NaN  \n",
       "runtime                                                       54  \n",
       "title                  Fantômas: In the Shadow of the Guillotine  \n",
       "cpi_multiplier                                           26.6098  \n",
       "genres                                         [12, 18, 28, 878]  "
      ]
     },
     "execution_count": 55,
     "metadata": {},
     "output_type": "execute_result"
    }
   ],
   "source": [
    "# replace genre column with new sparse column\n",
    "df['genres'] = get_genre_id()\n",
    "df.head().transpose()"
   ]
  },
  {
   "cell_type": "code",
   "execution_count": 56,
   "metadata": {},
   "outputs": [
    {
     "name": "stdout",
     "output_type": "stream",
     "text": [
      "<class 'pandas.core.frame.DataFrame'>\n",
      "Int64Index: 45268 entries, 87 to 86\n",
      "Data columns (total 10 columns):\n",
      " #   Column                 Non-Null Count  Dtype         \n",
      "---  ------                 --------------  -----         \n",
      " 0   belongs_to_collection  45268 non-null  bool          \n",
      " 1   budget                 8886 non-null   float64       \n",
      " 2   id                     45268 non-null  int64         \n",
      " 3   imdb_id                45251 non-null  Int64         \n",
      " 4   release_date           45181 non-null  datetime64[ns]\n",
      " 5   revenue                7408 non-null   float64       \n",
      " 6   runtime                43451 non-null  float64       \n",
      " 7   title                  45265 non-null  object        \n",
      " 8   cpi_multiplier         45181 non-null  float64       \n",
      " 9   genres                 45268 non-null  object        \n",
      "dtypes: Int64(1), bool(1), datetime64[ns](1), float64(4), int64(1), object(2)\n",
      "memory usage: 4.8+ MB\n"
     ]
    }
   ],
   "source": [
    "# see what's left\n",
    "df.info()"
   ]
  },
  {
   "cell_type": "markdown",
   "metadata": {},
   "source": [
    "> **RUNTIME**"
   ]
  },
  {
   "cell_type": "markdown",
   "metadata": {},
   "source": [
    "Now, we can look at the runtime column.<br>\n",
    "I don't want movies that are under 75 minutes, which is the cut off length for a feature film according to the Screen Actors Guild."
   ]
  },
  {
   "cell_type": "code",
   "execution_count": 57,
   "metadata": {},
   "outputs": [
    {
     "data": {
      "text/plain": [
       "'3294 row(s) just dropped.'"
      ]
     },
     "execution_count": 57,
     "metadata": {},
     "output_type": "execute_result"
    }
   ],
   "source": [
    "# remove films too short, then check\n",
    "df.drop(df.loc[df['runtime'] < 70].index, inplace=True)\n",
    "rows_dropped()"
   ]
  },
  {
   "cell_type": "markdown",
   "metadata": {},
   "source": [
    "That's a lot of entries to lose."
   ]
  },
  {
   "cell_type": "code",
   "execution_count": 58,
   "metadata": {},
   "outputs": [
    {
     "data": {
      "text/plain": [
       "0"
      ]
     },
     "execution_count": 58,
     "metadata": {},
     "output_type": "execute_result"
    }
   ],
   "source": [
    "# check that it worked\n",
    "df[df['runtime'] < 70]['runtime'].count()"
   ]
  },
  {
   "cell_type": "markdown",
   "metadata": {},
   "source": [
    "> **TITLE**"
   ]
  },
  {
   "cell_type": "markdown",
   "metadata": {},
   "source": [
    "The final column is the title.<br>\n",
    "The data looks clean, but I'd like to know that it has only one data type."
   ]
  },
  {
   "cell_type": "code",
   "execution_count": 59,
   "metadata": {},
   "outputs": [
    {
     "data": {
      "text/plain": [
       "False"
      ]
     },
     "execution_count": 59,
     "metadata": {},
     "output_type": "execute_result"
    }
   ],
   "source": [
    "# check for equality with same array after having converted its values to strings\n",
    "np.array_equal(df.title, df.title.astype(str))"
   ]
  },
  {
   "cell_type": "markdown",
   "metadata": {},
   "source": [
    "This doesn't look good. I need to find those values and inspect further."
   ]
  },
  {
   "cell_type": "code",
   "execution_count": 60,
   "metadata": {},
   "outputs": [
    {
     "data": {
      "text/plain": [
       "<class 'str'>      41971\n",
       "<class 'float'>        3\n",
       "Name: title, dtype: int64"
      ]
     },
     "execution_count": 60,
     "metadata": {},
     "output_type": "execute_result"
    }
   ],
   "source": [
    "# check data types in column\n",
    "df['title'].apply(type).value_counts()"
   ]
  },
  {
   "cell_type": "code",
   "execution_count": 61,
   "metadata": {},
   "outputs": [
    {
     "name": "stdout",
     "output_type": "stream",
     "text": [
      "nan\n",
      "nan\n",
      "nan\n"
     ]
    }
   ],
   "source": [
    "# look at the float values\n",
    "for x in df['title']:\n",
    "    if isinstance(x, float):\n",
    "        print(x)"
   ]
  },
  {
   "cell_type": "markdown",
   "metadata": {},
   "source": [
    "These are only the missing values. So, this column should be clean."
   ]
  },
  {
   "cell_type": "code",
   "execution_count": 62,
   "metadata": {},
   "outputs": [
    {
     "data": {
      "text/plain": [
       "(41974, 10)"
      ]
     },
     "execution_count": 62,
     "metadata": {},
     "output_type": "execute_result"
    }
   ],
   "source": [
    "# check number of entries and columns\n",
    "df.shape"
   ]
  },
  {
   "cell_type": "markdown",
   "metadata": {},
   "source": [
    "Also, I'd like to make sure there are no duplicate rows."
   ]
  },
  {
   "cell_type": "markdown",
   "metadata": {},
   "source": [
    "I need to make sure that the genres column is not a list before checking for duplicate rows."
   ]
  },
  {
   "cell_type": "code",
   "execution_count": 64,
   "metadata": {},
   "outputs": [
    {
     "data": {
      "text/plain": [
       "'1 row(s) just dropped.'"
      ]
     },
     "execution_count": 64,
     "metadata": {},
     "output_type": "execute_result"
    }
   ],
   "source": [
    "df = df.loc[df.astype(str).drop_duplicates().index]\n",
    "rows_dropped()"
   ]
  },
  {
   "cell_type": "markdown",
   "metadata": {},
   "source": [
    "As I will be merging all datasets by their IMBdID, I want to use that column as the DataFrame key.<br>\n",
    "I will check that its values are unique."
   ]
  },
  {
   "cell_type": "code",
   "execution_count": 65,
   "metadata": {},
   "outputs": [
    {
     "data": {
      "text/plain": [
       "False"
      ]
     },
     "execution_count": 65,
     "metadata": {},
     "output_type": "execute_result"
    }
   ],
   "source": [
    "# looking for duplicate values\n",
    "df['imdb_id'].is_unique"
   ]
  },
  {
   "cell_type": "code",
   "execution_count": 66,
   "metadata": {},
   "outputs": [
    {
     "data": {
      "text/plain": [
       "70"
      ]
     },
     "execution_count": 66,
     "metadata": {},
     "output_type": "execute_result"
    }
   ],
   "source": [
    "# count how many duplicate values are in the column\n",
    "len(list(df[df.duplicated(subset=['imdb_id'],keep=False)]['imdb_id']))"
   ]
  },
  {
   "cell_type": "code",
   "execution_count": 67,
   "metadata": {},
   "outputs": [
    {
     "data": {
      "text/plain": [
       "16"
      ]
     },
     "execution_count": 67,
     "metadata": {},
     "output_type": "execute_result"
    }
   ],
   "source": [
    "# get a count on the missing values, which are counted in the 70 above\n",
    "df['imdb_id'].isnull().sum()"
   ]
  },
  {
   "cell_type": "code",
   "execution_count": 68,
   "metadata": {},
   "outputs": [
    {
     "name": "stdout",
     "output_type": "stream",
     "text": [
      "[22537, 22537, 22879, 22879, 46468, 46468, 62229, 62229, 67306, 67306, 80000, 80000, 82992, 82992, 84387, 84387, 100361, 100361, 111613, 111613, 235679, 235679, 287635, 287635, 295682, 295682, 157472, 157472, 270288, 270288, 454792, 454792, 499537, 499537, 499456, 499456, 446676, 446676, 1180333, 1180333, 1327820, 1327820, 1701210, 1701210, 1736049, 1736049, 2018086, 2018086, 1821641, 1821641, 2121382, 2121382, 2818654, 2818654]\n"
     ]
    }
   ],
   "source": [
    "# look at duplicate values that are not NaN\n",
    "dup_lst = list(df[df.duplicated(subset=['imdb_id'],keep=False)]['imdb_id'].dropna())\n",
    "print(dup_lst)"
   ]
  },
  {
   "cell_type": "code",
   "execution_count": 69,
   "metadata": {},
   "outputs": [
    {
     "name": "stdout",
     "output_type": "stream",
     "text": [
      "[80000, 499456, 295682, 46468, 454792, 22537, 100361, 287635, 62229, 235679, 157472, 84387, 2018086, 2121382, 1180333, 82992, 1821641, 1327820, 270288, 499537, 446676, 1701210, 2818654, 22879, 67306, 1736049, 111613]\n"
     ]
    }
   ],
   "source": [
    "# make the id's unique\n",
    "dup_lst = list(set(dup_lst))\n",
    "print(dup_lst)"
   ]
  },
  {
   "cell_type": "code",
   "execution_count": 70,
   "metadata": {},
   "outputs": [
    {
     "data": {
      "text/html": [
       "<div>\n",
       "<style scoped>\n",
       "    .dataframe tbody tr th:only-of-type {\n",
       "        vertical-align: middle;\n",
       "    }\n",
       "\n",
       "    .dataframe tbody tr th {\n",
       "        vertical-align: top;\n",
       "    }\n",
       "\n",
       "    .dataframe thead th {\n",
       "        text-align: right;\n",
       "    }\n",
       "</style>\n",
       "<table border=\"1\" class=\"dataframe\">\n",
       "  <thead>\n",
       "    <tr style=\"text-align: right;\">\n",
       "      <th></th>\n",
       "      <th>belongs_to_collection</th>\n",
       "      <th>budget</th>\n",
       "      <th>id</th>\n",
       "      <th>imdb_id</th>\n",
       "      <th>release_date</th>\n",
       "      <th>revenue</th>\n",
       "      <th>runtime</th>\n",
       "      <th>title</th>\n",
       "      <th>cpi_multiplier</th>\n",
       "      <th>genres</th>\n",
       "    </tr>\n",
       "  </thead>\n",
       "  <tbody>\n",
       "    <tr>\n",
       "      <th>798</th>\n",
       "      <td>False</td>\n",
       "      <td>NaN</td>\n",
       "      <td>99080</td>\n",
       "      <td>22537</td>\n",
       "      <td>1931-06-21</td>\n",
       "      <td>NaN</td>\n",
       "      <td>70.0</td>\n",
       "      <td>The Viking</td>\n",
       "      <td>17.093709</td>\n",
       "      <td>[10749]</td>\n",
       "    </tr>\n",
       "    <tr>\n",
       "      <th>800</th>\n",
       "      <td>False</td>\n",
       "      <td>NaN</td>\n",
       "      <td>99080</td>\n",
       "      <td>22537</td>\n",
       "      <td>1931-06-21</td>\n",
       "      <td>NaN</td>\n",
       "      <td>70.0</td>\n",
       "      <td>The Viking</td>\n",
       "      <td>17.093709</td>\n",
       "      <td>[28, 18]</td>\n",
       "    </tr>\n",
       "  </tbody>\n",
       "</table>\n",
       "</div>"
      ],
      "text/plain": [
       "     belongs_to_collection  budget     id  imdb_id release_date  revenue  \\\n",
       "798                  False     NaN  99080    22537   1931-06-21      NaN   \n",
       "800                  False     NaN  99080    22537   1931-06-21      NaN   \n",
       "\n",
       "     runtime       title  cpi_multiplier    genres  \n",
       "798     70.0  The Viking       17.093709   [10749]  \n",
       "800     70.0  The Viking       17.093709  [28, 18]  "
      ]
     },
     "execution_count": 70,
     "metadata": {},
     "output_type": "execute_result"
    }
   ],
   "source": [
    "# look at one pair\n",
    "df.loc[lambda x: x['imdb_id'] == 22537, :]"
   ]
  },
  {
   "cell_type": "code",
   "execution_count": 71,
   "metadata": {},
   "outputs": [
    {
     "data": {
      "text/html": [
       "<div>\n",
       "<style scoped>\n",
       "    .dataframe tbody tr th:only-of-type {\n",
       "        vertical-align: middle;\n",
       "    }\n",
       "\n",
       "    .dataframe tbody tr th {\n",
       "        vertical-align: top;\n",
       "    }\n",
       "\n",
       "    .dataframe thead th {\n",
       "        text-align: right;\n",
       "    }\n",
       "</style>\n",
       "<table border=\"1\" class=\"dataframe\">\n",
       "  <thead>\n",
       "    <tr style=\"text-align: right;\">\n",
       "      <th></th>\n",
       "      <th>belongs_to_collection</th>\n",
       "      <th>budget</th>\n",
       "      <th>id</th>\n",
       "      <th>imdb_id</th>\n",
       "      <th>release_date</th>\n",
       "      <th>revenue</th>\n",
       "      <th>runtime</th>\n",
       "      <th>title</th>\n",
       "      <th>cpi_multiplier</th>\n",
       "      <th>genres</th>\n",
       "    </tr>\n",
       "  </thead>\n",
       "  <tbody>\n",
       "    <tr>\n",
       "      <th>970</th>\n",
       "      <td>False</td>\n",
       "      <td>4.0</td>\n",
       "      <td>22649</td>\n",
       "      <td>22879</td>\n",
       "      <td>1932-12-08</td>\n",
       "      <td>25.0</td>\n",
       "      <td>89.0</td>\n",
       "      <td>A Farewell to Arms</td>\n",
       "      <td>19.703435</td>\n",
       "      <td>[80]</td>\n",
       "    </tr>\n",
       "    <tr>\n",
       "      <th>971</th>\n",
       "      <td>False</td>\n",
       "      <td>4.0</td>\n",
       "      <td>22649</td>\n",
       "      <td>22879</td>\n",
       "      <td>1932-12-08</td>\n",
       "      <td>25.0</td>\n",
       "      <td>89.0</td>\n",
       "      <td>A Farewell to Arms</td>\n",
       "      <td>19.703435</td>\n",
       "      <td>[35, 18, 10749]</td>\n",
       "    </tr>\n",
       "  </tbody>\n",
       "</table>\n",
       "</div>"
      ],
      "text/plain": [
       "     belongs_to_collection  budget     id  imdb_id release_date  revenue  \\\n",
       "970                  False     4.0  22649    22879   1932-12-08     25.0   \n",
       "971                  False     4.0  22649    22879   1932-12-08     25.0   \n",
       "\n",
       "     runtime               title  cpi_multiplier           genres  \n",
       "970     89.0  A Farewell to Arms       19.703435             [80]  \n",
       "971     89.0  A Farewell to Arms       19.703435  [35, 18, 10749]  "
      ]
     },
     "execution_count": 71,
     "metadata": {},
     "output_type": "execute_result"
    }
   ],
   "source": [
    "# look at another pair\n",
    "df.loc[lambda x: x['imdb_id'] == 22879, :]"
   ]
  },
  {
   "cell_type": "markdown",
   "metadata": {},
   "source": [
    "Now, I want to note a couple of things.<br>\n",
    "First, after filtering out the the genres column, there are no duplicate IMDbID's.<br>\n",
    "The genres are the values causing the trouble.<br>\n",
    "I checked the samples shown above using a TMDb request.<br>\n",
    "The request for the first movie has all the genres from the union of the two duplicates, plus one additional genre.<br>\n",
    "The request for the second movie has two genres from the second duplicate, one from the first duplicate, and one additional genre.<br>\n",
    "The accuracy of the genre data is questionable.<br>\n",
    "Second, while looking at the second sample, I notice that both the revenue and budget values seem quite low.<br>\n",
    "The accuracy of the budget and revenue data is questionable, as well.<br>\n",
    "I suspect that once my datasets have been cleaned and wrangled, I will have to perform value validation by sampling through requests.<br>\n",
    "The integrity of the data must be verified."
   ]
  },
  {
   "cell_type": "markdown",
   "metadata": {},
   "source": [
    "I would like to combine the genre values from each duplicate pair to proceed.<br>\n",
    "I would like to use either groupby or pivot table to do this.<br>\n",
    "I can't to that, because both groupby and pivot table will drop rows that have NaN's in any index column, even if the rows match."
   ]
  },
  {
   "cell_type": "code",
   "execution_count": 72,
   "metadata": {},
   "outputs": [
    {
     "data": {
      "text/html": [
       "<div>\n",
       "<style scoped>\n",
       "    .dataframe tbody tr th:only-of-type {\n",
       "        vertical-align: middle;\n",
       "    }\n",
       "\n",
       "    .dataframe tbody tr th {\n",
       "        vertical-align: top;\n",
       "    }\n",
       "\n",
       "    .dataframe thead th {\n",
       "        text-align: right;\n",
       "    }\n",
       "</style>\n",
       "<table border=\"1\" class=\"dataframe\">\n",
       "  <thead>\n",
       "    <tr style=\"text-align: right;\">\n",
       "      <th></th>\n",
       "      <th>belongs_to_collection</th>\n",
       "      <th>budget</th>\n",
       "      <th>id</th>\n",
       "      <th>imdb_id</th>\n",
       "      <th>release_date</th>\n",
       "      <th>revenue</th>\n",
       "      <th>runtime</th>\n",
       "      <th>title</th>\n",
       "      <th>cpi_multiplier</th>\n",
       "      <th>genres</th>\n",
       "    </tr>\n",
       "  </thead>\n",
       "  <tbody>\n",
       "    <tr>\n",
       "      <th>4119</th>\n",
       "      <td>False</td>\n",
       "      <td>NaN</td>\n",
       "      <td>132641</td>\n",
       "      <td>46468</td>\n",
       "      <td>1953-04-29</td>\n",
       "      <td>NaN</td>\n",
       "      <td>89.0</td>\n",
       "      <td>Wife</td>\n",
       "      <td>9.703571</td>\n",
       "      <td>[80, 18, 9648, 10749, 53]</td>\n",
       "    </tr>\n",
       "    <tr>\n",
       "      <th>4120</th>\n",
       "      <td>False</td>\n",
       "      <td>NaN</td>\n",
       "      <td>132641</td>\n",
       "      <td>46468</td>\n",
       "      <td>1953-04-29</td>\n",
       "      <td>NaN</td>\n",
       "      <td>89.0</td>\n",
       "      <td>Wife</td>\n",
       "      <td>9.703571</td>\n",
       "      <td>[18]</td>\n",
       "    </tr>\n",
       "  </tbody>\n",
       "</table>\n",
       "</div>"
      ],
      "text/plain": [
       "      belongs_to_collection  budget      id  imdb_id release_date  revenue  \\\n",
       "4119                  False     NaN  132641    46468   1953-04-29      NaN   \n",
       "4120                  False     NaN  132641    46468   1953-04-29      NaN   \n",
       "\n",
       "      runtime title  cpi_multiplier                     genres  \n",
       "4119     89.0  Wife        9.703571  [80, 18, 9648, 10749, 53]  \n",
       "4120     89.0  Wife        9.703571                       [18]  "
      ]
     },
     "execution_count": 72,
     "metadata": {},
     "output_type": "execute_result"
    }
   ],
   "source": [
    "# look at a pair that will be dropped by groupby if I try to combine all the genres into one list\n",
    "df.loc[lambda x: x['imdb_id'] == 46468, :]"
   ]
  },
  {
   "cell_type": "markdown",
   "metadata": {},
   "source": [
    "I am going to end this here, because wrangling data containing null values is not a good idea.<br>\n",
    "My strategy going forward will be to break off the incomplete entries to a separate file and concatenate them back if I find the missing data.<br>\n",
    "After going through the same kind of problems with the CPI data, lesson learned."
   ]
  },
  {
   "cell_type": "code",
   "execution_count": null,
   "metadata": {},
   "outputs": [],
   "source": []
  },
  {
   "cell_type": "code",
   "execution_count": null,
   "metadata": {},
   "outputs": [],
   "source": []
  },
  {
   "cell_type": "code",
   "execution_count": null,
   "metadata": {},
   "outputs": [],
   "source": []
  },
  {
   "cell_type": "code",
   "execution_count": null,
   "metadata": {},
   "outputs": [],
   "source": []
  },
  {
   "cell_type": "code",
   "execution_count": null,
   "metadata": {},
   "outputs": [],
   "source": []
  },
  {
   "cell_type": "code",
   "execution_count": null,
   "metadata": {},
   "outputs": [],
   "source": []
  },
  {
   "cell_type": "markdown",
   "metadata": {},
   "source": [
    "Below is some code that I was using to try to fix the genre problem.<br>\n",
    "Look at it if you want, but it was pretty much a waste of time.<br>\n",
    "I am keeping it here for now, just in case I ever need to look back at some of the things that I tried."
   ]
  },
  {
   "cell_type": "code",
   "execution_count": null,
   "metadata": {},
   "outputs": [],
   "source": []
  },
  {
   "cell_type": "code",
   "execution_count": 73,
   "metadata": {},
   "outputs": [
    {
     "ename": "SystemExit",
     "evalue": "Stop right there!",
     "output_type": "error",
     "traceback": [
      "An exception has occurred, use %tb to see the full traceback.\n",
      "\u001b[0;31mSystemExit\u001b[0m\u001b[0;31m:\u001b[0m Stop right there!\n"
     ]
    },
    {
     "name": "stderr",
     "output_type": "stream",
     "text": [
      "/home/lord_black/anaconda3/envs/movieCap1/lib/python3.7/site-packages/IPython/core/interactiveshell.py:3339: UserWarning: To exit: use 'exit', 'quit', or Ctrl-D.\n",
      "  warn(\"To exit: use 'exit', 'quit', or Ctrl-D.\", stacklevel=1)\n"
     ]
    }
   ],
   "source": [
    "raise SystemExit(\"Stop right there!\")"
   ]
  },
  {
   "cell_type": "code",
   "execution_count": null,
   "metadata": {},
   "outputs": [],
   "source": []
  },
  {
   "cell_type": "code",
   "execution_count": null,
   "metadata": {},
   "outputs": [],
   "source": [
    "# looking for null values\n",
    "for val in dup_lst:\n",
    "    print(df.loc[lambda x: x['imdb_id'] == val, :].isnull().sum())"
   ]
  },
  {
   "cell_type": "markdown",
   "metadata": {},
   "source": [
    "All the null values ar either in the budget or revenue columns"
   ]
  },
  {
   "cell_type": "code",
   "execution_count": null,
   "metadata": {},
   "outputs": [],
   "source": [
    "# this was a complete mess, did not work\n",
    "# trying to convert budget and revenue to strings in order to use groupby, but I was only modifying a slice\n",
    "for val in dup_lst:\n",
    "    df.loc[lambda x: x['imdb_id'] == val, :]['budget'] = df.loc[lambda x: x['imdb_id'] == val, :]['budget'].astype(str)\n",
    "    df.loc[lambda x: x['imdb_id'] == val, :]['revenue'] = df.loc[lambda x: x['imdb_id'] == val, :]['revenue'].astype(str)"
   ]
  },
  {
   "cell_type": "code",
   "execution_count": null,
   "metadata": {},
   "outputs": [],
   "source": []
  },
  {
   "cell_type": "code",
   "execution_count": null,
   "metadata": {},
   "outputs": [],
   "source": [
    "# testing converting NaN to string\n",
    "df.loc[lambda x: x['imdb_id'] == 46468, :]['budget'].astype(str)"
   ]
  },
  {
   "cell_type": "code",
   "execution_count": null,
   "metadata": {},
   "outputs": [],
   "source": [
    "# checking type\n",
    "type(df.loc[lambda x: x['imdb_id'] == 46468, :].at[4119, 'budget'])"
   ]
  },
  {
   "cell_type": "code",
   "execution_count": null,
   "metadata": {},
   "outputs": [],
   "source": []
  },
  {
   "cell_type": "code",
   "execution_count": null,
   "metadata": {},
   "outputs": [],
   "source": [
    "# this part worked, figured out a way to get all of the genres together if there weren't any NaN's\n",
    "# had to make them strings, then groupby\n",
    "# convert genres to a string to aggregate using groupby\n",
    "df['genres'] = df['genres'].map(lambda x: str(x).strip('[]'))\n",
    "df.loc[lambda x: x['imdb_id'] == 46468, :]"
   ]
  },
  {
   "cell_type": "code",
   "execution_count": null,
   "metadata": {},
   "outputs": [],
   "source": []
  },
  {
   "cell_type": "code",
   "execution_count": null,
   "metadata": {},
   "outputs": [],
   "source": [
    "# make list of columns to group by\n",
    "gr_columns = [x for x in df.columns if x not in ['genres']]\n",
    "print(gr_columns)"
   ]
  },
  {
   "cell_type": "code",
   "execution_count": null,
   "metadata": {},
   "outputs": [],
   "source": []
  },
  {
   "cell_type": "code",
   "execution_count": null,
   "metadata": {},
   "outputs": [],
   "source": [
    "# verifying that I can put the NaN's back after using groupby\n",
    "df.loc[lambda x: x['imdb_id'] == 46468, :]['budget'].astype(str).replace('nan', np.nan)"
   ]
  },
  {
   "cell_type": "code",
   "execution_count": null,
   "metadata": {},
   "outputs": [],
   "source": []
  },
  {
   "cell_type": "code",
   "execution_count": null,
   "metadata": {},
   "outputs": [],
   "source": [
    "# this worked\n",
    "# testing the groupby with string data types for genres\n",
    "# combine genre keys\n",
    "df.loc[lambda x: x['imdb_id'] == 22879, :].groupby(gr_columns).agg(lambda x: ', '.join(x))"
   ]
  },
  {
   "cell_type": "code",
   "execution_count": null,
   "metadata": {},
   "outputs": [],
   "source": [
    "# this did not work\n",
    "# it returned an empty Series because of the NaN's\n",
    "# combine genre keys\n",
    "df.loc[lambda x: x['imdb_id'] == 46468, :].groupby(gr_columns).agg(lambda x: ', '.join(x))"
   ]
  },
  {
   "cell_type": "code",
   "execution_count": null,
   "metadata": {},
   "outputs": [],
   "source": []
  },
  {
   "cell_type": "code",
   "execution_count": null,
   "metadata": {},
   "outputs": [],
   "source": [
    "# this worked\n",
    "# a different syntax using groupby\n",
    "df.loc[lambda x: x['imdb_id'] == 22879, :].groupby(gr_columns).agg({'genres': ', '.join})"
   ]
  },
  {
   "cell_type": "code",
   "execution_count": null,
   "metadata": {},
   "outputs": [],
   "source": [
    "# did not work beacuse of NaN's\n",
    "# returned an empty Series with a column label\n",
    "df.loc[lambda x: x['imdb_id'] == 46468, :].groupby(gr_columns).agg({'genres': ', '.join})"
   ]
  },
  {
   "cell_type": "code",
   "execution_count": null,
   "metadata": {},
   "outputs": [],
   "source": []
  },
  {
   "cell_type": "code",
   "execution_count": null,
   "metadata": {},
   "outputs": [],
   "source": [
    "# this works\n",
    "# making sure I could put the strings back into a list once combined\n",
    "df.loc[lambda x: x['imdb_id'] == 22879, :]['genres'].map(lambda x: x.split(\",\"))"
   ]
  },
  {
   "cell_type": "code",
   "execution_count": null,
   "metadata": {},
   "outputs": [],
   "source": []
  },
  {
   "cell_type": "code",
   "execution_count": null,
   "metadata": {},
   "outputs": [],
   "source": [
    "# combining the genres using pivot table\n",
    "# this worked, no NaN's\n",
    "df.loc[lambda x: x['imdb_id'] == 22879, :].pivot_table(index=gr_columns, values=['genres'], aggfunc=lambda x: ', '.join(x))"
   ]
  },
  {
   "cell_type": "code",
   "execution_count": null,
   "metadata": {},
   "outputs": [],
   "source": [
    "# no success with pivot table and NaN's\n",
    "df.loc[lambda x: x['imdb_id'] == 46468, :].pivot_table(index=gr_columns, values=['genres'], aggfunc=lambda x: ', '.join(x))"
   ]
  },
  {
   "cell_type": "code",
   "execution_count": null,
   "metadata": {},
   "outputs": [],
   "source": []
  },
  {
   "cell_type": "code",
   "execution_count": null,
   "metadata": {},
   "outputs": [],
   "source": [
    "# this worked\n",
    "# combined genres and put them back into a list\n",
    "df.loc[lambda x: x['imdb_id'] == 22879, :].pivot_table(index=gr_columns, values=['genres'], aggfunc=lambda x: list(x))"
   ]
  },
  {
   "cell_type": "code",
   "execution_count": null,
   "metadata": {},
   "outputs": [],
   "source": []
  },
  {
   "cell_type": "code",
   "execution_count": null,
   "metadata": {},
   "outputs": [],
   "source": [
    "# this worked\n",
    "# combined genres and put them back into a list with only unique values\n",
    "df.loc[lambda x: x['imdb_id'] == 22879, :].pivot_table(index=gr_columns, values=['genres'], aggfunc=lambda x: list(set(x)))"
   ]
  },
  {
   "cell_type": "code",
   "execution_count": null,
   "metadata": {},
   "outputs": [],
   "source": []
  },
  {
   "cell_type": "code",
   "execution_count": null,
   "metadata": {},
   "outputs": [],
   "source": [
    "# idecies of duplicates in case needed to select\n",
    "dup_ind = list(df[df.duplicated(subset=['imdb_id'],keep=False)].index)\n",
    "print(dup_ind)"
   ]
  },
  {
   "cell_type": "code",
   "execution_count": null,
   "metadata": {},
   "outputs": [],
   "source": []
  },
  {
   "cell_type": "code",
   "execution_count": null,
   "metadata": {},
   "outputs": [],
   "source": [
    "# Things to do later..."
   ]
  },
  {
   "cell_type": "code",
   "execution_count": null,
   "metadata": {},
   "outputs": [],
   "source": []
  },
  {
   "cell_type": "code",
   "execution_count": null,
   "metadata": {},
   "outputs": [],
   "source": [
    "#df.columns = ['a','b','c']"
   ]
  },
  {
   "cell_type": "code",
   "execution_count": null,
   "metadata": {},
   "outputs": [],
   "source": [
    "#df.rename(columns={'old_name': 'new_ name'})"
   ]
  },
  {
   "cell_type": "code",
   "execution_count": null,
   "metadata": {},
   "outputs": [],
   "source": [
    "#df.set_index('column_one')"
   ]
  },
  {
   "cell_type": "code",
   "execution_count": null,
   "metadata": {},
   "outputs": [],
   "source": [
    "#df.describe()"
   ]
  },
  {
   "cell_type": "code",
   "execution_count": null,
   "metadata": {},
   "outputs": [],
   "source": [
    "#s.value_counts(dropna=False) | View unique values and counts"
   ]
  },
  {
   "cell_type": "code",
   "execution_count": null,
   "metadata": {},
   "outputs": [],
   "source": [
    "#df.apply(pd.Series.value_counts)"
   ]
  },
  {
   "cell_type": "code",
   "execution_count": null,
   "metadata": {},
   "outputs": [],
   "source": []
  },
  {
   "cell_type": "code",
   "execution_count": null,
   "metadata": {},
   "outputs": [],
   "source": [
    "# Save files..."
   ]
  },
  {
   "cell_type": "code",
   "execution_count": null,
   "metadata": {},
   "outputs": [],
   "source": []
  },
  {
   "cell_type": "code",
   "execution_count": 75,
   "metadata": {},
   "outputs": [],
   "source": [
    "#df.to_csv('movies_metadata_cleanish.csv')"
   ]
  },
  {
   "cell_type": "code",
   "execution_count": 76,
   "metadata": {},
   "outputs": [],
   "source": [
    "#inflation_df.to_csv('cpi_multiplier.csv')"
   ]
  }
 ],
 "metadata": {
  "kernelspec": {
   "display_name": "Python 3",
   "language": "python",
   "name": "python3"
  },
  "language_info": {
   "codemirror_mode": {
    "name": "ipython",
    "version": 3
   },
   "file_extension": ".py",
   "mimetype": "text/x-python",
   "name": "python",
   "nbconvert_exporter": "python",
   "pygments_lexer": "ipython3",
   "version": "3.7.7"
  }
 },
 "nbformat": 4,
 "nbformat_minor": 4
}
