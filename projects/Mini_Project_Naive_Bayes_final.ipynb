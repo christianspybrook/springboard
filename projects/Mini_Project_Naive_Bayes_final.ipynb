{
 "cells": [
  {
   "cell_type": "markdown",
   "metadata": {},
   "source": [
    "# Basic Text Classification with Naive Bayes\n",
    "***\n",
    "In the mini-project, you'll learn the basics of text analysis using a subset of movie reviews from the rotten tomatoes database. You'll also use a fundamental technique in Bayesian inference, called Naive Bayes. This mini-project is based on [Lab 10 of Harvard's CS109](https://github.com/cs109/2015lab10) class.  Please free to go to the original lab for additional exercises and solutions."
   ]
  },
  {
   "cell_type": "code",
   "execution_count": 1,
   "metadata": {},
   "outputs": [],
   "source": [
    "%matplotlib inline\n",
    "import numpy as np\n",
    "import scipy as sp\n",
    "import matplotlib as mpl\n",
    "import matplotlib.cm as cm\n",
    "import matplotlib.pyplot as plt\n",
    "import pandas as pd\n",
    "import seaborn as sns\n",
    "from six.moves import range\n",
    "\n",
    "# Setup Pandas\n",
    "pd.set_option('display.width', 500)\n",
    "pd.set_option('display.max_columns', 100)\n",
    "pd.set_option('display.notebook_repr_html', True)\n",
    "\n",
    "# Setup Seaborn\n",
    "sns.set_style(\"whitegrid\")\n",
    "sns.set_context(\"poster\")"
   ]
  },
  {
   "cell_type": "code",
   "execution_count": 2,
   "metadata": {},
   "outputs": [],
   "source": [
    "# import my tools\n",
    "from sklearn.model_selection import train_test_split\n",
    "from sklearn.naive_bayes import MultinomialNB\n",
    "from sklearn.metrics import classification_report, confusion_matrix, roc_auc_score, roc_curve\n",
    "from IPython.display import display_html"
   ]
  },
  {
   "cell_type": "code",
   "execution_count": 3,
   "metadata": {},
   "outputs": [],
   "source": [
    "# import more plotting tools\n",
    "from IPython.core.pylabtools import figsize\n",
    "# set grid size\n",
    "figsize(12, 4)"
   ]
  },
  {
   "cell_type": "code",
   "execution_count": 4,
   "metadata": {},
   "outputs": [
    {
     "name": "stdout",
     "output_type": "stream",
     "text": [
      "Use \"mp.colors(<index>)\" as color attribute for Seaborn plots.\n",
      "This is your color palette...\n"
     ]
    },
    {
     "data": {
      "image/png": "[encoded data removed]",
      "text/plain": [
       "<Figure size 504x72 with 1 Axes>"
      ]
     },
     "metadata": {},
     "output_type": "display_data"
    }
   ],
   "source": [
    "# import custom palette\n",
    "import my_palette as mp"
   ]
  },
  {
   "cell_type": "markdown",
   "metadata": {},
   "source": [
    "# Table of Contents\n",
    "\n",
    "* [Rotten Tomatoes Dataset](#Rotten-Tomatoes-Dataset)\n",
    "    * [Explore](#Explore)\n",
    "* [The Vector Space Model and a Search Engine](#The-Vector-Space-Model-and-a-Search-Engine)\n",
    "    * [In Code](#In-Code)\n",
    "* [Naive Bayes](#Naive-Bayes)\n",
    "    * [Multinomial Naive Bayes and Other Likelihood Functions](#Multinomial-Naive-Bayes-and-Other-Likelihood-Functions)\n",
    "    * [Picking Hyperparameters for Naive Bayes and Text Maintenance](#Picking-Hyperparameters-for-Naive-Bayes-and-Text-Maintenance)\n",
    "* [Interpretation](#Interpretation)\n"
   ]
  },
  {
   "cell_type": "markdown",
   "metadata": {},
   "source": [
    "## Rotten Tomatoes Dataset"
   ]
  },
  {
   "cell_type": "code",
   "execution_count": 5,
   "metadata": {},
   "outputs": [
    {
     "data": {
      "text/html": [
       "<div>\n",
       "<style scoped>\n",
       "    .dataframe tbody tr th:only-of-type {\n",
       "        vertical-align: middle;\n",
       "    }\n",
       "\n",
       "    .dataframe tbody tr th {\n",
       "        vertical-align: top;\n",
       "    }\n",
       "\n",
       "    .dataframe thead th {\n",
       "        text-align: right;\n",
       "    }\n",
       "</style>\n",
       "<table border=\"1\" class=\"dataframe\">\n",
       "  <thead>\n",
       "    <tr style=\"text-align: right;\">\n",
       "      <th></th>\n",
       "      <th>critic</th>\n",
       "      <th>fresh</th>\n",
       "      <th>imdb</th>\n",
       "      <th>publication</th>\n",
       "      <th>quote</th>\n",
       "      <th>review_date</th>\n",
       "      <th>rtid</th>\n",
       "      <th>title</th>\n",
       "    </tr>\n",
       "  </thead>\n",
       "  <tbody>\n",
       "    <tr>\n",
       "      <th>1</th>\n",
       "      <td>Derek Adams</td>\n",
       "      <td>fresh</td>\n",
       "      <td>114709</td>\n",
       "      <td>Time Out</td>\n",
       "      <td>So ingenious in concept, design and execution ...</td>\n",
       "      <td>2009-10-04</td>\n",
       "      <td>9559</td>\n",
       "      <td>Toy story</td>\n",
       "    </tr>\n",
       "    <tr>\n",
       "      <th>2</th>\n",
       "      <td>Richard Corliss</td>\n",
       "      <td>fresh</td>\n",
       "      <td>114709</td>\n",
       "      <td>TIME Magazine</td>\n",
       "      <td>The year's most inventive comedy.</td>\n",
       "      <td>2008-08-31</td>\n",
       "      <td>9559</td>\n",
       "      <td>Toy story</td>\n",
       "    </tr>\n",
       "    <tr>\n",
       "      <th>3</th>\n",
       "      <td>David Ansen</td>\n",
       "      <td>fresh</td>\n",
       "      <td>114709</td>\n",
       "      <td>Newsweek</td>\n",
       "      <td>A winning animated feature that has something ...</td>\n",
       "      <td>2008-08-18</td>\n",
       "      <td>9559</td>\n",
       "      <td>Toy story</td>\n",
       "    </tr>\n",
       "    <tr>\n",
       "      <th>4</th>\n",
       "      <td>Leonard Klady</td>\n",
       "      <td>fresh</td>\n",
       "      <td>114709</td>\n",
       "      <td>Variety</td>\n",
       "      <td>The film sports a provocative and appealing st...</td>\n",
       "      <td>2008-06-09</td>\n",
       "      <td>9559</td>\n",
       "      <td>Toy story</td>\n",
       "    </tr>\n",
       "    <tr>\n",
       "      <th>5</th>\n",
       "      <td>Jonathan Rosenbaum</td>\n",
       "      <td>fresh</td>\n",
       "      <td>114709</td>\n",
       "      <td>Chicago Reader</td>\n",
       "      <td>An entertaining computer-generated, hyperreali...</td>\n",
       "      <td>2008-03-10</td>\n",
       "      <td>9559</td>\n",
       "      <td>Toy story</td>\n",
       "    </tr>\n",
       "  </tbody>\n",
       "</table>\n",
       "</div>"
      ],
      "text/plain": [
       "               critic  fresh    imdb     publication                                              quote review_date  rtid      title\n",
       "1         Derek Adams  fresh  114709        Time Out  So ingenious in concept, design and execution ...  2009-10-04  9559  Toy story\n",
       "2     Richard Corliss  fresh  114709   TIME Magazine                  The year's most inventive comedy.  2008-08-31  9559  Toy story\n",
       "3         David Ansen  fresh  114709        Newsweek  A winning animated feature that has something ...  2008-08-18  9559  Toy story\n",
       "4       Leonard Klady  fresh  114709         Variety  The film sports a provocative and appealing st...  2008-06-09  9559  Toy story\n",
       "5  Jonathan Rosenbaum  fresh  114709  Chicago Reader  An entertaining computer-generated, hyperreali...  2008-03-10  9559  Toy story"
      ]
     },
     "execution_count": 5,
     "metadata": {},
     "output_type": "execute_result"
    }
   ],
   "source": [
    "critics = pd.read_csv('./critics.csv')\n",
    "#let's drop rows with missing quotes\n",
    "critics = critics[~critics.quote.isnull()]\n",
    "critics.head()"
   ]
  },
  {
   "cell_type": "code",
   "execution_count": 6,
   "metadata": {},
   "outputs": [
    {
     "name": "stdout",
     "output_type": "stream",
     "text": [
      "<class 'pandas.core.frame.DataFrame'>\n",
      "Int64Index: 15561 entries, 1 to 27616\n",
      "Data columns (total 8 columns):\n",
      " #   Column       Non-Null Count  Dtype \n",
      "---  ------       --------------  ----- \n",
      " 0   critic       14792 non-null  object\n",
      " 1   fresh        15561 non-null  object\n",
      " 2   imdb         15561 non-null  int64 \n",
      " 3   publication  15561 non-null  object\n",
      " 4   quote        15561 non-null  object\n",
      " 5   review_date  15561 non-null  object\n",
      " 6   rtid         15561 non-null  int64 \n",
      " 7   title        15561 non-null  object\n",
      "dtypes: int64(2), object(6)\n",
      "memory usage: 1.1+ MB\n"
     ]
    }
   ],
   "source": [
    "# observe data\n",
    "critics.info()"
   ]
  },
  {
   "cell_type": "code",
   "execution_count": 7,
   "metadata": {},
   "outputs": [
    {
     "data": {
      "text/plain": [
       "769"
      ]
     },
     "execution_count": 7,
     "metadata": {},
     "output_type": "execute_result"
    }
   ],
   "source": [
    "# count rows with missing critics\n",
    "critics['critic'].isna().sum()"
   ]
  },
  {
   "cell_type": "markdown",
   "metadata": {},
   "source": [
    "The critic column has missing data. These rows should be discarded if analyzing by critic."
   ]
  },
  {
   "cell_type": "code",
   "execution_count": 8,
   "metadata": {},
   "outputs": [
    {
     "data": {
      "text/plain": [
       "fresh     9482\n",
       "rotten    6052\n",
       "none        27\n",
       "Name: fresh, dtype: int64"
      ]
     },
     "execution_count": 8,
     "metadata": {},
     "output_type": "execute_result"
    }
   ],
   "source": [
    "# observe unique values in fresh column\n",
    "critics['fresh'].value_counts()"
   ]
  },
  {
   "cell_type": "markdown",
   "metadata": {},
   "source": [
    "The fresh column has missing data. These rows should be dropped if predicting freshness."
   ]
  },
  {
   "cell_type": "code",
   "execution_count": 9,
   "metadata": {},
   "outputs": [
    {
     "data": {
      "text/plain": [
       "Roger Ebert           1132\n",
       "James Berardinelli     804\n",
       "Janet Maslin           515\n",
       "Variety Staff          430\n",
       "Jonathan Rosenbaum     412\n",
       "                      ... \n",
       "Milo Miles               1\n",
       "Leba Hertz               1\n",
       "Athima Chansanchai       1\n",
       "David Mermelstein        1\n",
       "Simon Houpt              1\n",
       "Name: critic, Length: 622, dtype: int64"
      ]
     },
     "execution_count": 9,
     "metadata": {},
     "output_type": "execute_result"
    }
   ],
   "source": [
    "# observe the critics\n",
    "critics['critic'].value_counts()"
   ]
  },
  {
   "cell_type": "code",
   "execution_count": 10,
   "metadata": {},
   "outputs": [
    {
     "data": {
      "text/plain": [
       "0.12441359809780864"
      ]
     },
     "execution_count": 10,
     "metadata": {},
     "output_type": "execute_result"
    }
   ],
   "source": [
    "# get percent of reviews from top two critics\n",
    "np.sum(list(np.divide(critics['critic'].value_counts().to_list(), len(critics['critic'])))[0:2])"
   ]
  },
  {
   "cell_type": "markdown",
   "metadata": {},
   "source": [
    "Over 12% of the reviews are attributed to two critics. This data is unbalanced."
   ]
  },
  {
   "cell_type": "code",
   "execution_count": 11,
   "metadata": {},
   "outputs": [
    {
     "data": {
      "image/png": "[encoded data removed]",
      "text/plain": [
       "<Figure size 864x288 with 1 Axes>"
      ]
     },
     "metadata": {},
     "output_type": "display_data"
    }
   ],
   "source": [
    "# quickly visually observe the unbalanced data\n",
    "critics['critic'].value_counts().plot.hist();"
   ]
  },
  {
   "cell_type": "markdown",
   "metadata": {},
   "source": [
    "### Explore"
   ]
  },
  {
   "cell_type": "code",
   "execution_count": 12,
   "metadata": {},
   "outputs": [
    {
     "name": "stdout",
     "output_type": "stream",
     "text": [
      "Number of reviews: 15561\n",
      "Number of critics: 623\n",
      "Number of movies:  1921\n"
     ]
    }
   ],
   "source": [
    "n_reviews = len(critics)\n",
    "n_movies = critics.rtid.unique().size\n",
    "n_critics = critics.critic.unique().size\n",
    "\n",
    "\n",
    "print(\"Number of reviews: {:d}\".format(n_reviews))\n",
    "print(\"Number of critics: {:d}\".format(n_critics))\n",
    "print(\"Number of movies:  {:d}\".format(n_movies))"
   ]
  },
  {
   "cell_type": "code",
   "execution_count": 13,
   "metadata": {},
   "outputs": [
    {
     "data": {
      "image/png": "[encoded data removed]",
      "text/plain": [
       "<Figure size 864x288 with 1 Axes>"
      ]
     },
     "metadata": {},
     "output_type": "display_data"
    }
   ],
   "source": [
    "df = critics.copy()\n",
    "df['fresh'] = df.fresh == 'fresh' # make fresh column boolean\n",
    "grp = df.groupby('critic') # aggregate by critic\n",
    "counts = grp.critic.count()  # number of reviews by each critic\n",
    "means = grp.fresh.mean()     # average freshness for each critic\n",
    "\n",
    "means[counts > 100].hist(bins=10, edgecolor='w', lw=1)\n",
    "plt.xlabel(\"Average Rating per critic\")\n",
    "plt.ylabel(\"Number of Critics\")\n",
    "plt.yticks([0, 2, 4, 6, 8, 10]);"
   ]
  },
  {
   "cell_type": "markdown",
   "metadata": {},
   "source": [
    "Before continuing, it should be noted that the label on the x axis is misleading.<br>\n",
    "There are no ratings in this plot, only the averages of recommendations whether to see a movie or not to see a movie."
   ]
  },
  {
   "cell_type": "code",
   "execution_count": 14,
   "metadata": {},
   "outputs": [
    {
     "data": {
      "text/plain": [
       "108"
      ]
     },
     "execution_count": 14,
     "metadata": {},
     "output_type": "execute_result"
    }
   ],
   "source": [
    "# observe number of critics with no favorable recommendations in full dataset\n",
    "(means == 0).sum()"
   ]
  },
  {
   "cell_type": "code",
   "execution_count": 15,
   "metadata": {},
   "outputs": [
    {
     "data": {
      "text/plain": [
       "194"
      ]
     },
     "execution_count": 15,
     "metadata": {},
     "output_type": "execute_result"
    }
   ],
   "source": [
    "# observe number of critics with all favorable recommendations in full dataset\n",
    "(means == 1).sum()"
   ]
  },
  {
   "cell_type": "code",
   "execution_count": 16,
   "metadata": {},
   "outputs": [
    {
     "data": {
      "text/plain": [
       "0.48475120385232745"
      ]
     },
     "execution_count": 16,
     "metadata": {},
     "output_type": "execute_result"
    }
   ],
   "source": [
    "# observe percentage of critics in full dataset with no varience in their freshness ratings\n",
    "(means == 0).append(means == 1).sum() / n_critics"
   ]
  },
  {
   "cell_type": "markdown",
   "metadata": {},
   "source": [
    "Almost half of these reviews come from critics who give all movies the same recommendation."
   ]
  },
  {
   "cell_type": "markdown",
   "metadata": {},
   "source": [
    "<div class=\"span5 alert alert-info\">\n",
    "<h3>Exercise Set I</h3>\n",
    "<br/>\n",
    "<b>Exercise:</b> Look at the histogram above. Tell a story about the average ratings per critic. What shape does the distribution look like? What is interesting about the distribution? What might explain these interesting things?\n",
    "</div>"
   ]
  },
  {
   "cell_type": "markdown",
   "metadata": {},
   "source": [
    "The histogram was constructed to exclude critics with a low number of recommendations.<br>\n",
    "I will observe what choosing a threshold of 100 recommendations does to the data."
   ]
  },
  {
   "cell_type": "code",
   "execution_count": 17,
   "metadata": {},
   "outputs": [
    {
     "data": {
      "text/plain": [
       "37"
      ]
     },
     "execution_count": 17,
     "metadata": {},
     "output_type": "execute_result"
    }
   ],
   "source": [
    "# get number of critics included in histogram\n",
    "len(means[counts > 100])"
   ]
  },
  {
   "cell_type": "markdown",
   "metadata": {},
   "source": [
    "The sample size is relatively small."
   ]
  },
  {
   "cell_type": "code",
   "execution_count": 18,
   "metadata": {},
   "outputs": [
    {
     "data": {
      "text/plain": [
       "0.0593900481540931"
      ]
     },
     "execution_count": 18,
     "metadata": {},
     "output_type": "execute_result"
    }
   ],
   "source": [
    "# get percentage of critics included in histogram\n",
    "len(means[counts > 100]) / n_critics"
   ]
  },
  {
   "cell_type": "markdown",
   "metadata": {},
   "source": [
    "Plotting only those critics with more than 100 recommendations is like starting over with a new dataset.<br>\n",
    "These critics account for just under 6% of the original set."
   ]
  },
  {
   "cell_type": "code",
   "execution_count": 19,
   "metadata": {},
   "outputs": [
    {
     "data": {
      "text/plain": [
       "True"
      ]
     },
     "execution_count": 19,
     "metadata": {},
     "output_type": "execute_result"
    }
   ],
   "source": [
    "# determining negative skewness\n",
    "means[counts > 100].mean() < means[counts > 100].median()"
   ]
  },
  {
   "cell_type": "code",
   "execution_count": 20,
   "metadata": {},
   "outputs": [
    {
     "data": {
      "text/plain": [
       "(0.3620689655172414, 0.8114035087719298)"
      ]
     },
     "execution_count": 20,
     "metadata": {},
     "output_type": "execute_result"
    }
   ],
   "source": [
    "# get the range of average recommendations\n",
    "means[counts > 100].min(), means[counts > 100].max()"
   ]
  },
  {
   "cell_type": "code",
   "execution_count": 21,
   "metadata": {},
   "outputs": [
    {
     "data": {
      "text/plain": [
       "(0.5973196238943221, 0.10073968323719852)"
      ]
     },
     "execution_count": 21,
     "metadata": {},
     "output_type": "execute_result"
    }
   ],
   "source": [
    "# get the mean and standard deviation of the distribution\n",
    "means.mean(), np.std(means[counts > 100])"
   ]
  },
  {
   "cell_type": "markdown",
   "metadata": {},
   "source": [
    "The story of the average recommendations per critic is that established critics will recommend a movie more than not recommend a movie.<br>\n",
    "This is observed by the left-skew of the distribution.<br>\n",
    "The range strays about two standard deviations from the mean on either side, implying that established critics are not overly harsh or lenient.<br>\n",
    "The distribution appears bimodal, but the small sample size begs us to use a unimodal shape if we were fitting a curve to it."
   ]
  },
  {
   "cell_type": "code",
   "execution_count": 22,
   "metadata": {},
   "outputs": [
    {
     "data": {
      "image/png": "[encoded data removed]",
      "text/plain": [
       "<Figure size 864x288 with 1 Axes>"
      ]
     },
     "metadata": {},
     "output_type": "display_data"
    }
   ],
   "source": [
    "# plot critic distribution using larger bins\n",
    "\n",
    "means[counts > 100].hist(bins=7, edgecolor='w', lw=1)\n",
    "plt.xlabel(\"Average Recommendation Per Critic\")\n",
    "plt.ylabel(\"Number of Critics\")\n",
    "plt.yticks([0, 2, 4, 6, 8, 10]);"
   ]
  },
  {
   "cell_type": "markdown",
   "metadata": {},
   "source": [
    "By changing the bin size, I am able to erase the bimodal shape of the distribution, making it appear closer to normal.<br>\n",
    "This implies that the truth of the bimodality of the distribution needs further investigation."
   ]
  },
  {
   "cell_type": "markdown",
   "metadata": {},
   "source": [
    "Something intersting to note about the distribution is that established critics recommend seeing a movie more than they recommend not seeing a movie.<br>\n",
    "The reason for this may be self preservation.<br>\n",
    "If a movie is more likely to be a waste of time and/or money, then the potential viewer may want to find something else to do other than watch a movie.<br>\n",
    "Then, they wouldn't need a movie critic."
   ]
  },
  {
   "cell_type": "markdown",
   "metadata": {},
   "source": [
    "## The Vector Space Model and a Search Engine"
   ]
  },
  {
   "cell_type": "markdown",
   "metadata": {},
   "source": [
    "All the diagrams here are snipped from [*Introduction to Information Retrieval* by Manning et. al.]( http://nlp.stanford.edu/IR-book/) which is a great resource on text processing. For additional information on text mining and natural language processing, see [*Foundations of Statistical Natural Language Processing* by Manning and Schutze](http://nlp.stanford.edu/fsnlp/).\n",
    "\n",
    "Also check out Python packages [`nltk`](http://www.nltk.org/), [`spaCy`](https://spacy.io/), [`pattern`](http://www.clips.ua.ac.be/pattern), and their associated resources. Also see [`word2vec`](https://en.wikipedia.org/wiki/Word2vec).\n",
    "\n",
    "Let us define the vector derived from document $d$ by $\\bar V(d)$. What does this mean? Each document is treated as a vector containing information about the words contained in it. Each vector has the same length and each entry \"slot\" in the vector contains some kind of data about the words that appear in the document such as presence/absence (1/0), count (an integer) or some other statistic. Each vector has the same length because each document shared the same vocabulary across the full collection of documents -- this collection is called a *corpus*.\n",
    "\n",
    "To define the vocabulary, we take a union of all words we have seen in all documents. We then just associate an array index with them. So \"hello\" may be at index 5 and \"world\" at index 99.\n",
    "\n",
    "Suppose we have the following corpus:\n",
    "\n",
    "`A Fox one day spied a beautiful bunch of ripe grapes hanging from a vine trained along the branches of a tree. The grapes seemed ready to burst with juice, and the Fox's mouth watered as he gazed longingly at them.`\n",
    "\n",
    "Suppose we treat each sentence as a document $d$. The vocabulary (often called the *lexicon*) is the following:\n",
    "\n",
    "$V = \\left\\{\\right.$ `a, along, and, as, at, beautiful, branches, bunch, burst, day, fox, fox's, from, gazed, grapes, hanging, he, juice, longingly, mouth, of, one, ready, ripe, seemed, spied, the, them, to, trained, tree, vine, watered, with`$\\left.\\right\\}$\n",
    "\n",
    "Then the document\n",
    "\n",
    "`A Fox one day spied a beautiful bunch of ripe grapes hanging from a vine trained along the branches of a tree`\n",
    "\n",
    "may be represented as the following sparse vector of word counts:\n",
    "\n",
    "$$\\bar V(d) = \\left( 4,1,0,0,0,1,1,1,0,1,1,0,1,0,1,1,0,0,0,0,2,1,0,1,0,0,1,0,0,1,1,1,0,0 \\right)$$\n",
    "\n",
    "or more succinctly as\n",
    "\n",
    "`[(0, 4), (1, 1), (5, 1), (6, 1), (7, 1), (9, 1), (10, 1), (12, 1), (14, 1), (15, 1), (20, 2), (21, 1), (23, 1),`\n",
    "`(26, 1), (29,1), (30, 1), (31, 1)]`\n",
    "\n",
    "along with a dictionary\n",
    "\n",
    "``\n",
    "{\n",
    "    0: a, 1: along, 5: beautiful, 6: branches, 7: bunch, 9: day, 10: fox, 12: from, 14: grapes, 15: hanging, 19: mouth, 20: of, 21: one, 23: ripe, 24: seemed, 25: spied, 26: the, 29:trained, 30: tree, 31: vine, \n",
    "}\n",
    "``\n",
    "\n",
    "Then, a set of documents becomes, in the usual `sklearn` style, a sparse matrix with rows being sparse arrays representing documents and columns representing the features/words in the vocabulary.\n",
    "\n",
    "Notice that this representation loses the relative ordering of the terms in the document. That is \"cat ate rat\" and \"rat ate cat\" are the same. Thus, this representation is also known as the Bag-Of-Words representation.\n",
    "\n",
    "Here is another example, from the book quoted above, although the matrix is transposed here so that documents are columns:\n",
    "\n",
    "![novel terms](terms.png)\n",
    "\n",
    "Such a matrix is also catted a Term-Document Matrix. Here, the terms being indexed could be stemmed before indexing; for instance, `jealous` and `jealousy` after stemming are the same feature. One could also make use of other \"Natural Language Processing\" transformations in constructing the vocabulary. We could use Lemmatization, which reduces words to lemmas: work, working, worked would all reduce to work. We could remove \"stopwords\" from our vocabulary, such as common words like \"the\". We could look for particular parts of speech, such as adjectives. This is often done in Sentiment Analysis. And so on. It all depends on our application.\n",
    "\n",
    "From the book:\n",
    ">The standard way of quantifying the similarity between two documents $d_1$ and $d_2$  is to compute the cosine similarity of their vector representations $\\bar V(d_1)$ and $\\bar V(d_2)$:\n",
    "\n",
    "$$S_{12} = \\frac{\\bar V(d_1) \\cdot \\bar V(d_2)}{|\\bar V(d_1)| \\times |\\bar V(d_2)|}$$\n",
    "\n",
    "![Vector Space Model](vsm.png)\n",
    "\n",
    "\n",
    ">There is a far more compelling reason to represent documents as vectors: we can also view a query as a vector. Consider the query q = jealous gossip. This query turns into the unit vector $\\bar V(q)$ = (0, 0.707, 0.707) on the three coordinates below. \n",
    "\n",
    "![novel terms](terms2.png)\n",
    "\n",
    ">The key idea now: to assign to each document d a score equal to the dot product:\n",
    "\n",
    "$$\\bar V(q) \\cdot \\bar V(d)$$\n",
    "\n",
    "Then we can use this simple Vector Model as a Search engine."
   ]
  },
  {
   "cell_type": "markdown",
   "metadata": {},
   "source": [
    "### In Code"
   ]
  },
  {
   "cell_type": "code",
   "execution_count": 23,
   "metadata": {},
   "outputs": [
    {
     "name": "stdout",
     "output_type": "stream",
     "text": [
      "Original text is\n",
      "Hop on pop\n",
      "Hop off pop\n",
      "Hop Hop hop\n",
      "\n",
      "Transformed text vector is \n",
      "[[1 0 1 1]\n",
      " [1 1 0 1]\n",
      " [3 0 0 0]]\n",
      "\n",
      "Words for each feature:\n",
      "['hop', 'off', 'on', 'pop']\n"
     ]
    }
   ],
   "source": [
    "from sklearn.feature_extraction.text import CountVectorizer\n",
    "\n",
    "text = ['Hop on pop', 'Hop off pop', 'Hop Hop hop']\n",
    "print(\"Original text is\\n{}\".format('\\n'.join(text)))\n",
    "\n",
    "vectorizer = CountVectorizer(min_df=0)\n",
    "\n",
    "# call `fit` to build the vocabulary\n",
    "vectorizer.fit(text)\n",
    "\n",
    "# call `transform` to convert text to a bag of words\n",
    "x = vectorizer.transform(text)\n",
    "\n",
    "# CountVectorizer uses a sparse array to save memory, but it's easier in this assignment to \n",
    "# convert back to a \"normal\" numpy array\n",
    "x = x.toarray()\n",
    "\n",
    "print(\"\")\n",
    "print(\"Transformed text vector is \\n{}\".format(x))\n",
    "\n",
    "# `get_feature_names` tracks which word is associated with each column of the transformed x\n",
    "print(\"\")\n",
    "print(\"Words for each feature:\")\n",
    "print(vectorizer.get_feature_names())\n",
    "\n",
    "# Notice that the bag of words treatment doesn't preserve information about the *order* of words, \n",
    "# just their frequency"
   ]
  },
  {
   "cell_type": "code",
   "execution_count": 24,
   "metadata": {},
   "outputs": [],
   "source": [
    "def make_xy(critics, vectorizer=None):\n",
    "    #Your code here    \n",
    "    if vectorizer is None:\n",
    "        vectorizer = CountVectorizer()\n",
    "    X = vectorizer.fit_transform(critics.quote)\n",
    "    X = X.tocsc()  # some versions of sklearn return COO format\n",
    "    y = (critics.fresh == 'fresh').values.astype(np.int)\n",
    "    return X, y\n",
    "X, y = make_xy(critics)"
   ]
  },
  {
   "cell_type": "markdown",
   "metadata": {},
   "source": [
    "## Naive Bayes"
   ]
  },
  {
   "cell_type": "markdown",
   "metadata": {},
   "source": [
    "From Bayes' Theorem, we have that\n",
    "\n",
    "$$P(c \\vert f) = \\frac{P(c \\cap f)}{P(f)}$$\n",
    "\n",
    "where $c$ represents a *class* or category, and $f$ represents a feature vector, such as $\\bar V(d)$ as above. **We are computing the probability that a document (or whatever we are classifying) belongs to category *c* given the features in the document.** $P(f)$ is really just a normalization constant, so the literature usually writes Bayes' Theorem in context of Naive Bayes as\n",
    "\n",
    "$$P(c \\vert f) \\propto P(f \\vert c) P(c) $$\n",
    "\n",
    "$P(c)$ is called the *prior* and is simply the probability of seeing class $c$. But what is $P(f \\vert c)$? This is the probability that we see feature set $f$ given that this document is actually in class $c$. This is called the *likelihood* and comes from the data. One of the major assumptions of the Naive Bayes model is that the features are *conditionally independent* given the class. While the presence of a particular discriminative word may uniquely identify the document as being part of class $c$ and thus violate general feature independence, conditional independence means that the presence of that term is independent of all the other words that appear *within that class*. This is a very important distinction. Recall that if two events are independent, then:\n",
    "\n",
    "$$P(A \\cap B) = P(A) \\cdot P(B)$$\n",
    "\n",
    "Thus, conditional independence implies\n",
    "\n",
    "$$P(f \\vert c)  = \\prod_i P(f_i | c) $$\n",
    "\n",
    "where $f_i$ is an individual feature (a word in this example).\n",
    "\n",
    "To make a classification, we then choose the class $c$ such that $P(c \\vert f)$ is maximal.\n",
    "\n",
    "There is a small caveat when computing these probabilities. For [floating point underflow](http://nlp.stanford.edu/IR-book/html/htmledition/naive-bayes-text-classification-1.html) we change the product into a sum by going into log space. This is called the LogSumExp trick. So:\n",
    "\n",
    "$$\\log P(f \\vert c)  = \\sum_i \\log P(f_i \\vert c) $$\n",
    "\n",
    "There is another caveat. What if we see a term that didn't exist in the training data? This means that $P(f_i \\vert c) = 0$ for that term, and thus $P(f \\vert c)  = \\prod_i P(f_i | c) = 0$, which doesn't help us at all. Instead of using zeros, we add a small negligible value called $\\alpha$ to each count. This is called Laplace Smoothing.\n",
    "\n",
    "$$P(f_i \\vert c) = \\frac{N_{ic}+\\alpha}{N_c + \\alpha N_i}$$\n",
    "\n",
    "where $N_{ic}$ is the number of times feature $i$ was seen in class $c$, $N_c$ is the number of times class $c$ was seen and $N_i$ is the number of times feature $i$ was seen globally. $\\alpha$ is sometimes called a regularization parameter."
   ]
  },
  {
   "cell_type": "markdown",
   "metadata": {},
   "source": [
    "### Multinomial Naive Bayes and Other Likelihood Functions\n",
    "\n",
    "Since we are modeling word counts, we are using variation of Naive Bayes called Multinomial Naive Bayes. This is because the likelihood function actually takes the form of the multinomial distribution.\n",
    "\n",
    "$$P(f \\vert c) = \\frac{\\left( \\sum_i f_i \\right)!}{\\prod_i f_i!} \\prod_{f_i} P(f_i \\vert c)^{f_i} \\propto \\prod_{i} P(f_i \\vert c)$$\n",
    "\n",
    "where the nasty term out front is absorbed as a normalization constant such that probabilities sum to 1.\n",
    "\n",
    "There are many other variations of Naive Bayes, all which depend on what type of value $f_i$ takes. If $f_i$ is continuous, we may be able to use *Gaussian Naive Bayes*. First compute the mean and variance for each class $c$. Then the likelihood, $P(f \\vert c)$ is given as follows\n",
    "\n",
    "$$P(f_i = v \\vert c) = \\frac{1}{\\sqrt{2\\pi \\sigma^2_c}} e^{- \\frac{\\left( v - \\mu_c \\right)^2}{2 \\sigma^2_c}}$$"
   ]
  },
  {
   "cell_type": "markdown",
   "metadata": {},
   "source": [
    "<div class=\"span5 alert alert-info\">\n",
    "<h3>Exercise Set II</h3>\n",
    "\n",
    "<p><b>Exercise:</b> Implement a simple Naive Bayes classifier:</p>\n",
    "\n",
    "<ol>\n",
    "<li> split the data set into a training and test set\n",
    "<li> Use `scikit-learn`'s `MultinomialNB()` classifier with default parameters.\n",
    "<li> train the classifier over the training set and test on the test set\n",
    "<li> print the accuracy scores for both the training and the test sets\n",
    "</ol>\n",
    "\n",
    "What do you notice? Is this a good classifier? If not, why not?\n",
    "</div>"
   ]
  },
  {
   "cell_type": "code",
   "execution_count": 25,
   "metadata": {},
   "outputs": [],
   "source": [
    "#your turn"
   ]
  },
  {
   "cell_type": "code",
   "execution_count": 26,
   "metadata": {},
   "outputs": [
    {
     "data": {
      "text/plain": [
       "fresh     9482\n",
       "rotten    6052\n",
       "none        27\n",
       "Name: fresh, dtype: int64"
      ]
     },
     "execution_count": 26,
     "metadata": {},
     "output_type": "execute_result"
    }
   ],
   "source": [
    "# recall this missing data\n",
    "critics[['quote', 'fresh']]\n",
    "critics.fresh.value_counts()"
   ]
  },
  {
   "cell_type": "markdown",
   "metadata": {},
   "source": [
    "Although it will require some modifications to the preloaded code in this notebook, I feel that it is important to use clean data.<br>\n",
    "The preloaded code converts these missing values to negative reviews without justification.<br>\n",
    "I will crate my own DataFrame and modify it accordingly."
   ]
  },
  {
   "cell_type": "code",
   "execution_count": 27,
   "metadata": {},
   "outputs": [
    {
     "data": {
      "text/plain": [
       "fresh     9482\n",
       "rotten    6052\n",
       "none        27\n",
       "Name: fresh, dtype: int64"
      ]
     },
     "execution_count": 27,
     "metadata": {},
     "output_type": "execute_result"
    }
   ],
   "source": [
    "# create new DataFrame and check values\n",
    "my_df = critics[['quote', 'fresh']]\n",
    "my_df['fresh'].value_counts()"
   ]
  },
  {
   "cell_type": "code",
   "execution_count": 28,
   "metadata": {},
   "outputs": [
    {
     "data": {
      "text/plain": [
       "fresh     9482\n",
       "rotten    6052\n",
       "Name: fresh, dtype: int64"
      ]
     },
     "execution_count": 28,
     "metadata": {},
     "output_type": "execute_result"
    }
   ],
   "source": [
    "# drop missing values\n",
    "my_df = my_df[my_df['fresh'] != 'none']\n",
    "my_df['fresh'].value_counts()"
   ]
  },
  {
   "cell_type": "code",
   "execution_count": 29,
   "metadata": {},
   "outputs": [],
   "source": [
    "# reset index\n",
    "my_df.reset_index(inplace=True)"
   ]
  },
  {
   "cell_type": "code",
   "execution_count": 30,
   "metadata": {},
   "outputs": [],
   "source": [
    "# create function to return data using CountVectorizer with customizable parameters\n",
    "def my_make_xy(df, min_df=1, max_df=1.0, stop_words=None):\n",
    "    \"\"\"Returns vectorized movie reviews and boolean freshness ratings\"\"\"\n",
    "    vectorizer = CountVectorizer(min_df=min_df, max_df=max_df, stop_words=stop_words)\n",
    "    X = vectorizer.fit_transform(df['quote'])\n",
    "    y = (df['fresh'] == 'fresh').values.astype(np.int)\n",
    "    return X, y, vectorizer"
   ]
  },
  {
   "cell_type": "code",
   "execution_count": 31,
   "metadata": {},
   "outputs": [],
   "source": [
    "# create dataset with custom function\n",
    "X, y, _ = my_make_xy(my_df)"
   ]
  },
  {
   "cell_type": "markdown",
   "metadata": {},
   "source": [
    "I observed results for a range of percentage choices for splitting the data.<br>\n",
    "Purely looking to maximize accuracy, the sweet spot was a 90/10 split.<br>\n",
    "Before choosing this split, I wanted to make sure that the training and test sample sets each had similar means to the original observations as a whole."
   ]
  },
  {
   "cell_type": "code",
   "execution_count": 32,
   "metadata": {},
   "outputs": [
    {
     "data": {
      "text/html": [
       "<style  type=\"text/css\" >\n",
       "</style><table id=\"T_53a82676_a0ad_11ea_90a8_1d86c4c7e225\" style='display:inline'><caption>90:10 Classification Report</caption><thead>    <tr>        <th class=\"blank level0\" ></th>        <th class=\"col_heading level0 col0\" >precision</th>        <th class=\"col_heading level0 col1\" >recall</th>        <th class=\"col_heading level0 col2\" >f1-score</th>        <th class=\"col_heading level0 col3\" >support</th>    </tr></thead><tbody>\n",
       "                <tr>\n",
       "                        <th id=\"T_53a82676_a0ad_11ea_90a8_1d86c4c7e225level0_row0\" class=\"row_heading level0 row0\" >0</th>\n",
       "                        <td id=\"T_53a82676_a0ad_11ea_90a8_1d86c4c7e225row0_col0\" class=\"data row0 col0\" >0.777143</td>\n",
       "                        <td id=\"T_53a82676_a0ad_11ea_90a8_1d86c4c7e225row0_col1\" class=\"data row0 col1\" >0.672158</td>\n",
       "                        <td id=\"T_53a82676_a0ad_11ea_90a8_1d86c4c7e225row0_col2\" class=\"data row0 col2\" >0.720848</td>\n",
       "                        <td id=\"T_53a82676_a0ad_11ea_90a8_1d86c4c7e225row0_col3\" class=\"data row0 col3\" >607.000000</td>\n",
       "            </tr>\n",
       "            <tr>\n",
       "                        <th id=\"T_53a82676_a0ad_11ea_90a8_1d86c4c7e225level0_row1\" class=\"row_heading level0 row1\" >1</th>\n",
       "                        <td id=\"T_53a82676_a0ad_11ea_90a8_1d86c4c7e225row1_col0\" class=\"data row1 col0\" >0.806608</td>\n",
       "                        <td id=\"T_53a82676_a0ad_11ea_90a8_1d86c4c7e225row1_col1\" class=\"data row1 col1\" >0.876452</td>\n",
       "                        <td id=\"T_53a82676_a0ad_11ea_90a8_1d86c4c7e225row1_col2\" class=\"data row1 col2\" >0.840081</td>\n",
       "                        <td id=\"T_53a82676_a0ad_11ea_90a8_1d86c4c7e225row1_col3\" class=\"data row1 col3\" >947.000000</td>\n",
       "            </tr>\n",
       "            <tr>\n",
       "                        <th id=\"T_53a82676_a0ad_11ea_90a8_1d86c4c7e225level0_row2\" class=\"row_heading level0 row2\" >accuracy</th>\n",
       "                        <td id=\"T_53a82676_a0ad_11ea_90a8_1d86c4c7e225row2_col0\" class=\"data row2 col0\" >0.796654</td>\n",
       "                        <td id=\"T_53a82676_a0ad_11ea_90a8_1d86c4c7e225row2_col1\" class=\"data row2 col1\" >0.796654</td>\n",
       "                        <td id=\"T_53a82676_a0ad_11ea_90a8_1d86c4c7e225row2_col2\" class=\"data row2 col2\" >0.796654</td>\n",
       "                        <td id=\"T_53a82676_a0ad_11ea_90a8_1d86c4c7e225row2_col3\" class=\"data row2 col3\" >0.796654</td>\n",
       "            </tr>\n",
       "            <tr>\n",
       "                        <th id=\"T_53a82676_a0ad_11ea_90a8_1d86c4c7e225level0_row3\" class=\"row_heading level0 row3\" >macro avg</th>\n",
       "                        <td id=\"T_53a82676_a0ad_11ea_90a8_1d86c4c7e225row3_col0\" class=\"data row3 col0\" >0.791876</td>\n",
       "                        <td id=\"T_53a82676_a0ad_11ea_90a8_1d86c4c7e225row3_col1\" class=\"data row3 col1\" >0.774305</td>\n",
       "                        <td id=\"T_53a82676_a0ad_11ea_90a8_1d86c4c7e225row3_col2\" class=\"data row3 col2\" >0.780465</td>\n",
       "                        <td id=\"T_53a82676_a0ad_11ea_90a8_1d86c4c7e225row3_col3\" class=\"data row3 col3\" >1554.000000</td>\n",
       "            </tr>\n",
       "            <tr>\n",
       "                        <th id=\"T_53a82676_a0ad_11ea_90a8_1d86c4c7e225level0_row4\" class=\"row_heading level0 row4\" >weighted avg</th>\n",
       "                        <td id=\"T_53a82676_a0ad_11ea_90a8_1d86c4c7e225row4_col0\" class=\"data row4 col0\" >0.795099</td>\n",
       "                        <td id=\"T_53a82676_a0ad_11ea_90a8_1d86c4c7e225row4_col1\" class=\"data row4 col1\" >0.796654</td>\n",
       "                        <td id=\"T_53a82676_a0ad_11ea_90a8_1d86c4c7e225row4_col2\" class=\"data row4 col2\" >0.793508</td>\n",
       "                        <td id=\"T_53a82676_a0ad_11ea_90a8_1d86c4c7e225row4_col3\" class=\"data row4 col3\" >1554.000000</td>\n",
       "            </tr>\n",
       "    </tbody></table><style  type=\"text/css\" >\n",
       "</style><table id=\"T_53a87ffe_a0ad_11ea_90a8_1d86c4c7e225\" style='display:inline'><caption>80:20 Classification Report</caption><thead>    <tr>        <th class=\"blank level0\" ></th>        <th class=\"col_heading level0 col0\" >precision</th>        <th class=\"col_heading level0 col1\" >recall</th>        <th class=\"col_heading level0 col2\" >f1-score</th>        <th class=\"col_heading level0 col3\" >support</th>    </tr></thead><tbody>\n",
       "                <tr>\n",
       "                        <th id=\"T_53a87ffe_a0ad_11ea_90a8_1d86c4c7e225level0_row0\" class=\"row_heading level0 row0\" >0</th>\n",
       "                        <td id=\"T_53a87ffe_a0ad_11ea_90a8_1d86c4c7e225row0_col0\" class=\"data row0 col0\" >0.760386</td>\n",
       "                        <td id=\"T_53a87ffe_a0ad_11ea_90a8_1d86c4c7e225row0_col1\" class=\"data row0 col1\" >0.636731</td>\n",
       "                        <td id=\"T_53a87ffe_a0ad_11ea_90a8_1d86c4c7e225row0_col2\" class=\"data row0 col2\" >0.693087</td>\n",
       "                        <td id=\"T_53a87ffe_a0ad_11ea_90a8_1d86c4c7e225row0_col3\" class=\"data row0 col3\" >1236.000000</td>\n",
       "            </tr>\n",
       "            <tr>\n",
       "                        <th id=\"T_53a87ffe_a0ad_11ea_90a8_1d86c4c7e225level0_row1\" class=\"row_heading level0 row1\" >1</th>\n",
       "                        <td id=\"T_53a87ffe_a0ad_11ea_90a8_1d86c4c7e225row1_col0\" class=\"data row1 col0\" >0.783301</td>\n",
       "                        <td id=\"T_53a87ffe_a0ad_11ea_90a8_1d86c4c7e225row1_col1\" class=\"data row1 col1\" >0.867451</td>\n",
       "                        <td id=\"T_53a87ffe_a0ad_11ea_90a8_1d86c4c7e225row1_col2\" class=\"data row1 col2\" >0.823231</td>\n",
       "                        <td id=\"T_53a87ffe_a0ad_11ea_90a8_1d86c4c7e225row1_col3\" class=\"data row1 col3\" >1871.000000</td>\n",
       "            </tr>\n",
       "            <tr>\n",
       "                        <th id=\"T_53a87ffe_a0ad_11ea_90a8_1d86c4c7e225level0_row2\" class=\"row_heading level0 row2\" >accuracy</th>\n",
       "                        <td id=\"T_53a87ffe_a0ad_11ea_90a8_1d86c4c7e225row2_col0\" class=\"data row2 col0\" >0.775668</td>\n",
       "                        <td id=\"T_53a87ffe_a0ad_11ea_90a8_1d86c4c7e225row2_col1\" class=\"data row2 col1\" >0.775668</td>\n",
       "                        <td id=\"T_53a87ffe_a0ad_11ea_90a8_1d86c4c7e225row2_col2\" class=\"data row2 col2\" >0.775668</td>\n",
       "                        <td id=\"T_53a87ffe_a0ad_11ea_90a8_1d86c4c7e225row2_col3\" class=\"data row2 col3\" >0.775668</td>\n",
       "            </tr>\n",
       "            <tr>\n",
       "                        <th id=\"T_53a87ffe_a0ad_11ea_90a8_1d86c4c7e225level0_row3\" class=\"row_heading level0 row3\" >macro avg</th>\n",
       "                        <td id=\"T_53a87ffe_a0ad_11ea_90a8_1d86c4c7e225row3_col0\" class=\"data row3 col0\" >0.771844</td>\n",
       "                        <td id=\"T_53a87ffe_a0ad_11ea_90a8_1d86c4c7e225row3_col1\" class=\"data row3 col1\" >0.752091</td>\n",
       "                        <td id=\"T_53a87ffe_a0ad_11ea_90a8_1d86c4c7e225row3_col2\" class=\"data row3 col2\" >0.758159</td>\n",
       "                        <td id=\"T_53a87ffe_a0ad_11ea_90a8_1d86c4c7e225row3_col3\" class=\"data row3 col3\" >3107.000000</td>\n",
       "            </tr>\n",
       "            <tr>\n",
       "                        <th id=\"T_53a87ffe_a0ad_11ea_90a8_1d86c4c7e225level0_row4\" class=\"row_heading level0 row4\" >weighted avg</th>\n",
       "                        <td id=\"T_53a87ffe_a0ad_11ea_90a8_1d86c4c7e225row4_col0\" class=\"data row4 col0\" >0.774185</td>\n",
       "                        <td id=\"T_53a87ffe_a0ad_11ea_90a8_1d86c4c7e225row4_col1\" class=\"data row4 col1\" >0.775668</td>\n",
       "                        <td id=\"T_53a87ffe_a0ad_11ea_90a8_1d86c4c7e225row4_col2\" class=\"data row4 col2\" >0.771458</td>\n",
       "                        <td id=\"T_53a87ffe_a0ad_11ea_90a8_1d86c4c7e225row4_col3\" class=\"data row4 col3\" >3107.000000</td>\n",
       "            </tr>\n",
       "    </tbody></table><style  type=\"text/css\" >\n",
       "</style><table id=\"T_53a8b92e_a0ad_11ea_90a8_1d86c4c7e225\" style='display:inline'><caption>90:10 Confusion Matrix</caption><thead>    <tr>        <th class=\"blank level0\" ></th>        <th class=\"col_heading level0 col0\" >0</th>        <th class=\"col_heading level0 col1\" >1</th>    </tr></thead><tbody>\n",
       "                <tr>\n",
       "                        <th id=\"T_53a8b92e_a0ad_11ea_90a8_1d86c4c7e225level0_row0\" class=\"row_heading level0 row0\" >0</th>\n",
       "                        <td id=\"T_53a8b92e_a0ad_11ea_90a8_1d86c4c7e225row0_col0\" class=\"data row0 col0\" >408</td>\n",
       "                        <td id=\"T_53a8b92e_a0ad_11ea_90a8_1d86c4c7e225row0_col1\" class=\"data row0 col1\" >199</td>\n",
       "            </tr>\n",
       "            <tr>\n",
       "                        <th id=\"T_53a8b92e_a0ad_11ea_90a8_1d86c4c7e225level0_row1\" class=\"row_heading level0 row1\" >1</th>\n",
       "                        <td id=\"T_53a8b92e_a0ad_11ea_90a8_1d86c4c7e225row1_col0\" class=\"data row1 col0\" >117</td>\n",
       "                        <td id=\"T_53a8b92e_a0ad_11ea_90a8_1d86c4c7e225row1_col1\" class=\"data row1 col1\" >830</td>\n",
       "            </tr>\n",
       "    </tbody></table><style  type=\"text/css\" >\n",
       "</style><table id=\"T_53a8cac2_a0ad_11ea_90a8_1d86c4c7e225\" style='display:inline'><caption>80:20 Confusion Matrix</caption><thead>    <tr>        <th class=\"blank level0\" ></th>        <th class=\"col_heading level0 col0\" >0</th>        <th class=\"col_heading level0 col1\" >1</th>    </tr></thead><tbody>\n",
       "                <tr>\n",
       "                        <th id=\"T_53a8cac2_a0ad_11ea_90a8_1d86c4c7e225level0_row0\" class=\"row_heading level0 row0\" >0</th>\n",
       "                        <td id=\"T_53a8cac2_a0ad_11ea_90a8_1d86c4c7e225row0_col0\" class=\"data row0 col0\" >787</td>\n",
       "                        <td id=\"T_53a8cac2_a0ad_11ea_90a8_1d86c4c7e225row0_col1\" class=\"data row0 col1\" >449</td>\n",
       "            </tr>\n",
       "            <tr>\n",
       "                        <th id=\"T_53a8cac2_a0ad_11ea_90a8_1d86c4c7e225level0_row1\" class=\"row_heading level0 row1\" >1</th>\n",
       "                        <td id=\"T_53a8cac2_a0ad_11ea_90a8_1d86c4c7e225row1_col0\" class=\"data row1 col0\" >248</td>\n",
       "                        <td id=\"T_53a8cac2_a0ad_11ea_90a8_1d86c4c7e225row1_col1\" class=\"data row1 col1\" >1623</td>\n",
       "            </tr>\n",
       "    </tbody></table>"
      ]
     },
     "metadata": {},
     "output_type": "display_data"
    },
    {
     "data": {
      "image/png": "[encoded data removed]",
      "text/plain": [
       "<Figure size 1008x360 with 5 Axes>"
      ]
     },
     "metadata": {},
     "output_type": "display_data"
    }
   ],
   "source": [
    "# plot distribution means of training and test sets to compare to unsplit target set\n",
    "\n",
    "figsize(14, 5)\n",
    "\n",
    "fig, axes = plt.subplots(1, 5, sharey=True)\n",
    "fig.subplots_adjust(hspace=0)\n",
    "\n",
    "# perform a 90/10 split of the target variable into train and test sets\n",
    "X_train, X_test, y_train, y_test = train_test_split(X, y, test_size=0.1, random_state=27)\n",
    "clf = MultinomialNB()\n",
    "clf.fit(X_train, y_train)\n",
    "\n",
    "# get classification report and confusion matrix\n",
    "cr_90_10_df = pd.DataFrame(classification_report(y_test, clf.predict(X_test), digits=3, output_dict=True)).transpose()\n",
    "cm_90_10_df = pd.DataFrame(confusion_matrix(y_test, clf.predict(X_test)))\n",
    "\n",
    "# transform data to plot\n",
    "y_df = pd.DataFrame([y, y_train, y_test], index=['y', 'y_train', 'y_test'])\n",
    "y_df = y_df.transpose()\n",
    "\n",
    "sns.pointplot(data=y_df, y='y', ax=axes[0], color=mp.colors(1))\n",
    "axes[0].set(xlabel='y', ylabel='Ave. Recommendation')\n",
    "\n",
    "sns.pointplot(data=y_df, y='y_train', ax=axes[1])\n",
    "axes[1].set(xlabel='y_train:90%', ylabel=None)\n",
    "\n",
    "sns.pointplot(data=y_df, y='y_test', ax=axes[2], color=mp.colors(2))\n",
    "axes[2].set(xlabel='y_test:10%', ylabel=None)\n",
    "\n",
    "# perform an 80/20 split of the target variable into train and test sets\n",
    "X_train, X_test, y_train, y_test = train_test_split(X, y, test_size=0.2, random_state=27)\n",
    "clf = MultinomialNB()\n",
    "clf.fit(X_train, y_train)\n",
    "\n",
    "# get classification report and confusion matrix\n",
    "cr_80_20_df = pd.DataFrame(classification_report(y_test, clf.predict(X_test), digits=3, output_dict=True)).transpose()\n",
    "cm_80_20_df = pd.DataFrame(confusion_matrix(y_test, clf.predict(X_test)))\n",
    "\n",
    "# transform data to plot\n",
    "y_df = pd.DataFrame([y, y_train, y_test], index=['y', 'y_train', 'y_test'])\n",
    "y_df = y_df.transpose()\n",
    "\n",
    "sns.pointplot(data=y_df, y='y_train', ax=axes[3])\n",
    "axes[3].set(xlabel='y_train:80%', ylabel=None)\n",
    "\n",
    "sns.pointplot(data=y_df, y='y_test', ax=axes[4], color=mp.colors(2))\n",
    "axes[4].set(xlabel='y_test:20%', ylabel=None)\n",
    "\n",
    "plt.ylim(0.58, 0.64)\n",
    "plt.yticks(np.divide([y for y in range (58, 65, 1)], 100))\n",
    "\n",
    "plt.suptitle('Recommendation Distribution')\n",
    "\n",
    "# display classification report and confusion matrix\n",
    "df1_styler = cr_90_10_df.style.set_table_attributes(\"style='display:inline'\").set_caption('90:10 Classification Report')\n",
    "df2_styler = cr_80_20_df.style.set_table_attributes(\"style='display:inline'\").set_caption('80:20 Classification Report')\n",
    "df3_styler = cm_90_10_df.style.set_table_attributes(\"style='display:inline'\").set_caption('90:10 Confusion Matrix')\n",
    "df4_styler = cm_80_20_df.style.set_table_attributes(\"style='display:inline'\").set_caption('80:20 Confusion Matrix')\n",
    "\n",
    "display_html(df1_styler._repr_html_() + df2_styler._repr_html_() + df3_styler._repr_html_() \n",
    "             + df4_styler._repr_html_(), raw=True)"
   ]
  },
  {
   "cell_type": "markdown",
   "metadata": {},
   "source": [
    "The 90/10 split outperforms the traditional 80/20 split in every evaluation metric."
   ]
  },
  {
   "cell_type": "markdown",
   "metadata": {},
   "source": [
    "The mean of training set for the 90/10 split is closer to the full set than that of the 80/20 split.<br>\n",
    "This is not surprising, since they hold nearly the same data points.<br>\n",
    "What is surprising is that the same holds true for the mean of the test sets.<br>\n",
    "This may be due to random chance, as the model is the same for both classifications, and only the data is different."
   ]
  },
  {
   "cell_type": "code",
   "execution_count": 33,
   "metadata": {},
   "outputs": [],
   "source": [
    "# split the data into train and test sets\n",
    "X_train, X_test, y_train, y_test = train_test_split(X, y, test_size=0.1, random_state=27)"
   ]
  },
  {
   "cell_type": "code",
   "execution_count": 34,
   "metadata": {},
   "outputs": [],
   "source": [
    "# instantiate the classifier\n",
    "clf = MultinomialNB()"
   ]
  },
  {
   "cell_type": "code",
   "execution_count": 35,
   "metadata": {},
   "outputs": [
    {
     "data": {
      "text/plain": [
       "MultinomialNB(alpha=1.0, class_prior=None, fit_prior=True)"
      ]
     },
     "execution_count": 35,
     "metadata": {},
     "output_type": "execute_result"
    }
   ],
   "source": [
    "# train the model\n",
    "clf.fit(X_train, y_train)"
   ]
  },
  {
   "cell_type": "code",
   "execution_count": 36,
   "metadata": {},
   "outputs": [],
   "source": [
    "# get classification report and confusion matrix\n",
    "cr_train_df = pd.DataFrame(classification_report(y_train, clf.predict(X_train), digits=3, output_dict=True)).transpose()\n",
    "cm_train_df = pd.DataFrame(confusion_matrix(y_train, clf.predict(X_train)))\n",
    "cr_test_df = pd.DataFrame(classification_report(y_test, clf.predict(X_test), digits=3, output_dict=True)).transpose()\n",
    "cm_test_df = pd.DataFrame(confusion_matrix(y_test, clf.predict(X_test)))"
   ]
  },
  {
   "cell_type": "code",
   "execution_count": 37,
   "metadata": {},
   "outputs": [],
   "source": [
    "# get ROC data\n",
    "fpr_train, tpr_train, thresholds_train = roc_curve(y_train, clf.predict(X_train))\n",
    "roc_score_train = roc_auc_score(y_train, clf.predict(X_train))\n",
    "fpr_test, tpr_test, thresholds_test = roc_curve(y_test, clf.predict(X_test))\n",
    "roc_score_test = roc_auc_score(y_test, clf.predict(X_test))"
   ]
  },
  {
   "cell_type": "code",
   "execution_count": 38,
   "metadata": {},
   "outputs": [
    {
     "data": {
      "text/plain": [
       "'Accuracy score on the training data: 0.9160228898426324'"
      ]
     },
     "execution_count": 38,
     "metadata": {},
     "output_type": "execute_result"
    }
   ],
   "source": [
    "# get accuracy score on train set\n",
    "f'Accuracy score on the training data: {clf.score(X_train, y_train)}'"
   ]
  },
  {
   "cell_type": "code",
   "execution_count": 39,
   "metadata": {},
   "outputs": [
    {
     "data": {
      "text/plain": [
       "'Accuracy score on the testing data: 0.7966537966537967'"
      ]
     },
     "execution_count": 39,
     "metadata": {},
     "output_type": "execute_result"
    }
   ],
   "source": [
    "# get accuracy score on test set\n",
    "f'Accuracy score on the testing data: {clf.score(X_test, y_test)}'"
   ]
  },
  {
   "cell_type": "markdown",
   "metadata": {},
   "source": [
    "The accuracy scores are far apart.<br>\n",
    "This is an indication that this model is overfit.<br>\n",
    "This classifier may be better if it were less complex"
   ]
  },
  {
   "cell_type": "code",
   "execution_count": 40,
   "metadata": {},
   "outputs": [
    {
     "data": {
      "text/html": [
       "<style  type=\"text/css\" >\n",
       "</style><table id=\"T_53d4b89e_a0ad_11ea_90a8_1d86c4c7e225\" style='display:inline'><caption>Training Classification Report</caption><thead>    <tr>        <th class=\"blank level0\" ></th>        <th class=\"col_heading level0 col0\" >precision</th>        <th class=\"col_heading level0 col1\" >recall</th>        <th class=\"col_heading level0 col2\" >f1-score</th>        <th class=\"col_heading level0 col3\" >support</th>    </tr></thead><tbody>\n",
       "                <tr>\n",
       "                        <th id=\"T_53d4b89e_a0ad_11ea_90a8_1d86c4c7e225level0_row0\" class=\"row_heading level0 row0\" >0</th>\n",
       "                        <td id=\"T_53d4b89e_a0ad_11ea_90a8_1d86c4c7e225row0_col0\" class=\"data row0 col0\" >0.917498</td>\n",
       "                        <td id=\"T_53d4b89e_a0ad_11ea_90a8_1d86c4c7e225row0_col1\" class=\"data row0 col1\" >0.861892</td>\n",
       "                        <td id=\"T_53d4b89e_a0ad_11ea_90a8_1d86c4c7e225row0_col2\" class=\"data row0 col2\" >0.888826</td>\n",
       "                        <td id=\"T_53d4b89e_a0ad_11ea_90a8_1d86c4c7e225row0_col3\" class=\"data row0 col3\" >5445.000000</td>\n",
       "            </tr>\n",
       "            <tr>\n",
       "                        <th id=\"T_53d4b89e_a0ad_11ea_90a8_1d86c4c7e225level0_row1\" class=\"row_heading level0 row1\" >1</th>\n",
       "                        <td id=\"T_53d4b89e_a0ad_11ea_90a8_1d86c4c7e225row1_col0\" class=\"data row1 col0\" >0.915172</td>\n",
       "                        <td id=\"T_53d4b89e_a0ad_11ea_90a8_1d86c4c7e225row1_col1\" class=\"data row1 col1\" >0.950557</td>\n",
       "                        <td id=\"T_53d4b89e_a0ad_11ea_90a8_1d86c4c7e225row1_col2\" class=\"data row1 col2\" >0.932529</td>\n",
       "                        <td id=\"T_53d4b89e_a0ad_11ea_90a8_1d86c4c7e225row1_col3\" class=\"data row1 col3\" >8535.000000</td>\n",
       "            </tr>\n",
       "            <tr>\n",
       "                        <th id=\"T_53d4b89e_a0ad_11ea_90a8_1d86c4c7e225level0_row2\" class=\"row_heading level0 row2\" >accuracy</th>\n",
       "                        <td id=\"T_53d4b89e_a0ad_11ea_90a8_1d86c4c7e225row2_col0\" class=\"data row2 col0\" >0.916023</td>\n",
       "                        <td id=\"T_53d4b89e_a0ad_11ea_90a8_1d86c4c7e225row2_col1\" class=\"data row2 col1\" >0.916023</td>\n",
       "                        <td id=\"T_53d4b89e_a0ad_11ea_90a8_1d86c4c7e225row2_col2\" class=\"data row2 col2\" >0.916023</td>\n",
       "                        <td id=\"T_53d4b89e_a0ad_11ea_90a8_1d86c4c7e225row2_col3\" class=\"data row2 col3\" >0.916023</td>\n",
       "            </tr>\n",
       "            <tr>\n",
       "                        <th id=\"T_53d4b89e_a0ad_11ea_90a8_1d86c4c7e225level0_row3\" class=\"row_heading level0 row3\" >macro avg</th>\n",
       "                        <td id=\"T_53d4b89e_a0ad_11ea_90a8_1d86c4c7e225row3_col0\" class=\"data row3 col0\" >0.916335</td>\n",
       "                        <td id=\"T_53d4b89e_a0ad_11ea_90a8_1d86c4c7e225row3_col1\" class=\"data row3 col1\" >0.906224</td>\n",
       "                        <td id=\"T_53d4b89e_a0ad_11ea_90a8_1d86c4c7e225row3_col2\" class=\"data row3 col2\" >0.910677</td>\n",
       "                        <td id=\"T_53d4b89e_a0ad_11ea_90a8_1d86c4c7e225row3_col3\" class=\"data row3 col3\" >13980.000000</td>\n",
       "            </tr>\n",
       "            <tr>\n",
       "                        <th id=\"T_53d4b89e_a0ad_11ea_90a8_1d86c4c7e225level0_row4\" class=\"row_heading level0 row4\" >weighted avg</th>\n",
       "                        <td id=\"T_53d4b89e_a0ad_11ea_90a8_1d86c4c7e225row4_col0\" class=\"data row4 col0\" >0.916078</td>\n",
       "                        <td id=\"T_53d4b89e_a0ad_11ea_90a8_1d86c4c7e225row4_col1\" class=\"data row4 col1\" >0.916023</td>\n",
       "                        <td id=\"T_53d4b89e_a0ad_11ea_90a8_1d86c4c7e225row4_col2\" class=\"data row4 col2\" >0.915507</td>\n",
       "                        <td id=\"T_53d4b89e_a0ad_11ea_90a8_1d86c4c7e225row4_col3\" class=\"data row4 col3\" >13980.000000</td>\n",
       "            </tr>\n",
       "    </tbody></table><style  type=\"text/css\" >\n",
       "</style><table id=\"T_53d4eff8_a0ad_11ea_90a8_1d86c4c7e225\" style='display:inline'><caption>Test Classification Report</caption><thead>    <tr>        <th class=\"blank level0\" ></th>        <th class=\"col_heading level0 col0\" >precision</th>        <th class=\"col_heading level0 col1\" >recall</th>        <th class=\"col_heading level0 col2\" >f1-score</th>        <th class=\"col_heading level0 col3\" >support</th>    </tr></thead><tbody>\n",
       "                <tr>\n",
       "                        <th id=\"T_53d4eff8_a0ad_11ea_90a8_1d86c4c7e225level0_row0\" class=\"row_heading level0 row0\" >0</th>\n",
       "                        <td id=\"T_53d4eff8_a0ad_11ea_90a8_1d86c4c7e225row0_col0\" class=\"data row0 col0\" >0.777143</td>\n",
       "                        <td id=\"T_53d4eff8_a0ad_11ea_90a8_1d86c4c7e225row0_col1\" class=\"data row0 col1\" >0.672158</td>\n",
       "                        <td id=\"T_53d4eff8_a0ad_11ea_90a8_1d86c4c7e225row0_col2\" class=\"data row0 col2\" >0.720848</td>\n",
       "                        <td id=\"T_53d4eff8_a0ad_11ea_90a8_1d86c4c7e225row0_col3\" class=\"data row0 col3\" >607.000000</td>\n",
       "            </tr>\n",
       "            <tr>\n",
       "                        <th id=\"T_53d4eff8_a0ad_11ea_90a8_1d86c4c7e225level0_row1\" class=\"row_heading level0 row1\" >1</th>\n",
       "                        <td id=\"T_53d4eff8_a0ad_11ea_90a8_1d86c4c7e225row1_col0\" class=\"data row1 col0\" >0.806608</td>\n",
       "                        <td id=\"T_53d4eff8_a0ad_11ea_90a8_1d86c4c7e225row1_col1\" class=\"data row1 col1\" >0.876452</td>\n",
       "                        <td id=\"T_53d4eff8_a0ad_11ea_90a8_1d86c4c7e225row1_col2\" class=\"data row1 col2\" >0.840081</td>\n",
       "                        <td id=\"T_53d4eff8_a0ad_11ea_90a8_1d86c4c7e225row1_col3\" class=\"data row1 col3\" >947.000000</td>\n",
       "            </tr>\n",
       "            <tr>\n",
       "                        <th id=\"T_53d4eff8_a0ad_11ea_90a8_1d86c4c7e225level0_row2\" class=\"row_heading level0 row2\" >accuracy</th>\n",
       "                        <td id=\"T_53d4eff8_a0ad_11ea_90a8_1d86c4c7e225row2_col0\" class=\"data row2 col0\" >0.796654</td>\n",
       "                        <td id=\"T_53d4eff8_a0ad_11ea_90a8_1d86c4c7e225row2_col1\" class=\"data row2 col1\" >0.796654</td>\n",
       "                        <td id=\"T_53d4eff8_a0ad_11ea_90a8_1d86c4c7e225row2_col2\" class=\"data row2 col2\" >0.796654</td>\n",
       "                        <td id=\"T_53d4eff8_a0ad_11ea_90a8_1d86c4c7e225row2_col3\" class=\"data row2 col3\" >0.796654</td>\n",
       "            </tr>\n",
       "            <tr>\n",
       "                        <th id=\"T_53d4eff8_a0ad_11ea_90a8_1d86c4c7e225level0_row3\" class=\"row_heading level0 row3\" >macro avg</th>\n",
       "                        <td id=\"T_53d4eff8_a0ad_11ea_90a8_1d86c4c7e225row3_col0\" class=\"data row3 col0\" >0.791876</td>\n",
       "                        <td id=\"T_53d4eff8_a0ad_11ea_90a8_1d86c4c7e225row3_col1\" class=\"data row3 col1\" >0.774305</td>\n",
       "                        <td id=\"T_53d4eff8_a0ad_11ea_90a8_1d86c4c7e225row3_col2\" class=\"data row3 col2\" >0.780465</td>\n",
       "                        <td id=\"T_53d4eff8_a0ad_11ea_90a8_1d86c4c7e225row3_col3\" class=\"data row3 col3\" >1554.000000</td>\n",
       "            </tr>\n",
       "            <tr>\n",
       "                        <th id=\"T_53d4eff8_a0ad_11ea_90a8_1d86c4c7e225level0_row4\" class=\"row_heading level0 row4\" >weighted avg</th>\n",
       "                        <td id=\"T_53d4eff8_a0ad_11ea_90a8_1d86c4c7e225row4_col0\" class=\"data row4 col0\" >0.795099</td>\n",
       "                        <td id=\"T_53d4eff8_a0ad_11ea_90a8_1d86c4c7e225row4_col1\" class=\"data row4 col1\" >0.796654</td>\n",
       "                        <td id=\"T_53d4eff8_a0ad_11ea_90a8_1d86c4c7e225row4_col2\" class=\"data row4 col2\" >0.793508</td>\n",
       "                        <td id=\"T_53d4eff8_a0ad_11ea_90a8_1d86c4c7e225row4_col3\" class=\"data row4 col3\" >1554.000000</td>\n",
       "            </tr>\n",
       "    </tbody></table><style  type=\"text/css\" >\n",
       "</style><table id=\"T_53d51e1a_a0ad_11ea_90a8_1d86c4c7e225\" style='display:inline'><caption>Training Confusion Matrix</caption><thead>    <tr>        <th class=\"blank level0\" ></th>        <th class=\"col_heading level0 col0\" >0</th>        <th class=\"col_heading level0 col1\" >1</th>    </tr></thead><tbody>\n",
       "                <tr>\n",
       "                        <th id=\"T_53d51e1a_a0ad_11ea_90a8_1d86c4c7e225level0_row0\" class=\"row_heading level0 row0\" >0</th>\n",
       "                        <td id=\"T_53d51e1a_a0ad_11ea_90a8_1d86c4c7e225row0_col0\" class=\"data row0 col0\" >4693</td>\n",
       "                        <td id=\"T_53d51e1a_a0ad_11ea_90a8_1d86c4c7e225row0_col1\" class=\"data row0 col1\" >752</td>\n",
       "            </tr>\n",
       "            <tr>\n",
       "                        <th id=\"T_53d51e1a_a0ad_11ea_90a8_1d86c4c7e225level0_row1\" class=\"row_heading level0 row1\" >1</th>\n",
       "                        <td id=\"T_53d51e1a_a0ad_11ea_90a8_1d86c4c7e225row1_col0\" class=\"data row1 col0\" >422</td>\n",
       "                        <td id=\"T_53d51e1a_a0ad_11ea_90a8_1d86c4c7e225row1_col1\" class=\"data row1 col1\" >8113</td>\n",
       "            </tr>\n",
       "    </tbody></table><style  type=\"text/css\" >\n",
       "</style><table id=\"T_53d52e96_a0ad_11ea_90a8_1d86c4c7e225\" style='display:inline'><caption>Test Confusion Matrix</caption><thead>    <tr>        <th class=\"blank level0\" ></th>        <th class=\"col_heading level0 col0\" >0</th>        <th class=\"col_heading level0 col1\" >1</th>    </tr></thead><tbody>\n",
       "                <tr>\n",
       "                        <th id=\"T_53d52e96_a0ad_11ea_90a8_1d86c4c7e225level0_row0\" class=\"row_heading level0 row0\" >0</th>\n",
       "                        <td id=\"T_53d52e96_a0ad_11ea_90a8_1d86c4c7e225row0_col0\" class=\"data row0 col0\" >408</td>\n",
       "                        <td id=\"T_53d52e96_a0ad_11ea_90a8_1d86c4c7e225row0_col1\" class=\"data row0 col1\" >199</td>\n",
       "            </tr>\n",
       "            <tr>\n",
       "                        <th id=\"T_53d52e96_a0ad_11ea_90a8_1d86c4c7e225level0_row1\" class=\"row_heading level0 row1\" >1</th>\n",
       "                        <td id=\"T_53d52e96_a0ad_11ea_90a8_1d86c4c7e225row1_col0\" class=\"data row1 col0\" >117</td>\n",
       "                        <td id=\"T_53d52e96_a0ad_11ea_90a8_1d86c4c7e225row1_col1\" class=\"data row1 col1\" >830</td>\n",
       "            </tr>\n",
       "    </tbody></table>"
      ]
     },
     "metadata": {},
     "output_type": "display_data"
    }
   ],
   "source": [
    "# display classification report and confusion matrix\n",
    "df1_styler = cr_train_df.style.set_table_attributes(\"style='display:inline'\").set_caption('Training Classification Report')\n",
    "df2_styler = cr_test_df.style.set_table_attributes(\"style='display:inline'\").set_caption('Test Classification Report')\n",
    "df3_styler = cm_train_df.style.set_table_attributes(\"style='display:inline'\").set_caption('Training Confusion Matrix')\n",
    "df4_styler = cm_test_df.style.set_table_attributes(\"style='display:inline'\").set_caption('Test Confusion Matrix')\n",
    "\n",
    "display_html(df1_styler._repr_html_() + df2_styler._repr_html_() + df3_styler._repr_html_() \n",
    "             + df4_styler._repr_html_(), raw=True)"
   ]
  },
  {
   "cell_type": "markdown",
   "metadata": {},
   "source": [
    "The reports show the gap between the performances on the two datasets.<br>\n",
    "The plot of the ROC curves visualizes this gap."
   ]
  },
  {
   "cell_type": "code",
   "execution_count": 41,
   "metadata": {},
   "outputs": [
    {
     "data": {
      "image/png": "[encoded data removed]",
      "text/plain": [
       "<Figure size 1008x360 with 1 Axes>"
      ]
     },
     "metadata": {},
     "output_type": "display_data"
    }
   ],
   "source": [
    "# plot ROC curves\n",
    "\n",
    "ax = sns.lineplot(fpr_train, tpr_train, color=mp.colors(4), label='Training Model')\n",
    "ax = sns.lineplot(fpr_test, tpr_test, color=mp.colors(5), label='Test Model')\n",
    "\n",
    "plt.xlabel('False Positive Rate')\n",
    "plt.ylabel('True Positive Rate')\n",
    "\n",
    "plt.legend()\n",
    "plt.title('ROC Curves');"
   ]
  },
  {
   "cell_type": "code",
   "execution_count": 42,
   "metadata": {},
   "outputs": [
    {
     "data": {
      "text/plain": [
       "'Training ROC AUC Score: 0.9062240878185917, Test ROC AUC Score: 0.774305054198727'"
      ]
     },
     "execution_count": 42,
     "metadata": {},
     "output_type": "execute_result"
    }
   ],
   "source": [
    "f'Training ROC AUC Score: {roc_score_train}, Test ROC AUC Score: {roc_score_test}'"
   ]
  },
  {
   "cell_type": "markdown",
   "metadata": {},
   "source": [
    "There are a few things that could be done to improve the model:\n",
    " - Custom tokenization to remove punctuation such as apostrophes in contractions\n",
    " - Removal of stop words to reduce noise\n",
    " - Stemming or lemmatization to combine similar words based on their common root\n",
    " - Use cross-valisation to guard against overfitting\n",
    " - Use probabilities for feature selection"
   ]
  },
  {
   "cell_type": "markdown",
   "metadata": {},
   "source": [
    "### Picking Hyperparameters for Naive Bayes and Text Maintenance"
   ]
  },
  {
   "cell_type": "markdown",
   "metadata": {},
   "source": [
    "We need to know what value to use for $\\alpha$, and we also need to know which words to include in the vocabulary. As mentioned earlier, some words are obvious stopwords. Other words appear so infrequently that they serve as noise, and other words in addition to stopwords appear so frequently that they may also serve as noise."
   ]
  },
  {
   "cell_type": "markdown",
   "metadata": {},
   "source": [
    "First, let's find an appropriate value for `min_df` for the `CountVectorizer`. `min_df` can be either an integer or a float/decimal. If it is an integer, `min_df` represents the minimum number of documents a word must appear in for it to be included in the vocabulary. If it is a float, it represents the minimum *percentage* of documents a word must appear in to be included in the vocabulary. From the documentation:"
   ]
  },
  {
   "cell_type": "markdown",
   "metadata": {},
   "source": [
    ">min_df: When building the vocabulary ignore terms that have a document frequency strictly lower than the given threshold. This value is also called cut-off in the literature. If float, the parameter represents a proportion of documents, integer absolute counts. This parameter is ignored if vocabulary is not None."
   ]
  },
  {
   "cell_type": "markdown",
   "metadata": {},
   "source": [
    "<div class=\"span5 alert alert-info\">\n",
    "<h3>Exercise Set III</h3>\n",
    "\n",
    "<p><b>Exercise:</b> Construct the cumulative distribution of document frequencies (df). The $x$-axis is a document count $x_i$ and the $y$-axis is the percentage of words that appear less than $x_i$ times. For example, at $x=5$, plot a point representing the percentage or number of words that appear in 5 or fewer documents.</p>\n",
    "\n",
    "<p><b>Exercise:</b> Look for the point at which the curve begins climbing steeply. This may be a good value for `min_df`. If we were interested in also picking `max_df`, we would likely pick the value where the curve starts to plateau. What value did you choose?</p>\n",
    "</div>"
   ]
  },
  {
   "cell_type": "code",
   "execution_count": 43,
   "metadata": {},
   "outputs": [],
   "source": [
    "# Your turn."
   ]
  },
  {
   "cell_type": "markdown",
   "metadata": {},
   "source": [
    "Let's examine the matrix a little more closely"
   ]
  },
  {
   "cell_type": "code",
   "execution_count": 44,
   "metadata": {},
   "outputs": [
    {
     "data": {
      "text/plain": [
       "'The number of documents in this dataset is 15,534'"
      ]
     },
     "execution_count": 44,
     "metadata": {},
     "output_type": "execute_result"
    }
   ],
   "source": [
    "f'The number of documents in this dataset is {np.size(X, 0):,}'"
   ]
  },
  {
   "cell_type": "code",
   "execution_count": 45,
   "metadata": {},
   "outputs": [
    {
     "data": {
      "text/plain": [
       "'The number of words in this corpus is 22,400'"
      ]
     },
     "execution_count": 45,
     "metadata": {},
     "output_type": "execute_result"
    }
   ],
   "source": [
    "f'The number of words in this corpus is {np.size(X, 1):,}'"
   ]
  },
  {
   "cell_type": "markdown",
   "metadata": {},
   "source": [
    "There are almost as many documents as there are words."
   ]
  },
  {
   "cell_type": "code",
   "execution_count": 46,
   "metadata": {},
   "outputs": [],
   "source": [
    "def get_word_counts(min_df=1, max_df=1.0, stop_words=None):\n",
    "    \"\"\"Returns a sorted word and frequency list and a stop word set \"\"\"\n",
    "    cv = CountVectorizer(min_df=min_df, max_df=max_df, stop_words=stop_words)\n",
    "    V = cv.fit_transform(my_df['quote'])\n",
    "    words_lst = cv.get_feature_names()\n",
    "    counts_lst = V.toarray().sum(axis=0)\n",
    "    sort_words = sorted(dict(zip(words_lst, counts_lst)).items(), key=lambda x: x[1], reverse=True)\n",
    "    return sort_words, cv.stop_words_"
   ]
  },
  {
   "cell_type": "code",
   "execution_count": 47,
   "metadata": {},
   "outputs": [
    {
     "data": {
      "text/html": [
       "<div>\n",
       "<style scoped>\n",
       "    .dataframe tbody tr th:only-of-type {\n",
       "        vertical-align: middle;\n",
       "    }\n",
       "\n",
       "    .dataframe tbody tr th {\n",
       "        vertical-align: top;\n",
       "    }\n",
       "\n",
       "    .dataframe thead th {\n",
       "        text-align: right;\n",
       "    }\n",
       "</style>\n",
       "<table border=\"1\" class=\"dataframe\">\n",
       "  <thead>\n",
       "    <tr style=\"text-align: right;\">\n",
       "      <th></th>\n",
       "      <th>word</th>\n",
       "      <th>freq</th>\n",
       "    </tr>\n",
       "  </thead>\n",
       "  <tbody>\n",
       "    <tr>\n",
       "      <th>0</th>\n",
       "      <td>the</td>\n",
       "      <td>16782</td>\n",
       "    </tr>\n",
       "    <tr>\n",
       "      <th>1</th>\n",
       "      <td>and</td>\n",
       "      <td>9887</td>\n",
       "    </tr>\n",
       "    <tr>\n",
       "      <th>2</th>\n",
       "      <td>of</td>\n",
       "      <td>9761</td>\n",
       "    </tr>\n",
       "  </tbody>\n",
       "</table>\n",
       "</div>"
      ],
      "text/plain": [
       "  word   freq\n",
       "0  the  16782\n",
       "1  and   9887\n",
       "2   of   9761"
      ]
     },
     "execution_count": 47,
     "metadata": {},
     "output_type": "execute_result"
    }
   ],
   "source": [
    "# create DataFrame of words in corpus and the number of their document appearances\n",
    "words_df = pd.DataFrame(get_word_counts()[0], columns=['word', 'freq'])\n",
    "words_df.head(3)"
   ]
  },
  {
   "cell_type": "code",
   "execution_count": 48,
   "metadata": {},
   "outputs": [
    {
     "data": {
      "image/png": "[encoded data removed]",
      "text/plain": [
       "<Figure size 1008x360 with 1 Axes>"
      ]
     },
     "metadata": {},
     "output_type": "display_data"
    }
   ],
   "source": [
    "# plot CDF of documents for number of word appearances\n",
    "\n",
    "sns.kdeplot(words_df['freq'].sort_values(), cumulative=True, clip=(0, 10000), shade=True, color=mp.colors(2))\n",
    "\n",
    "plt.xticks([x for x in range (0, 10001, 1000)]);\n",
    "\n",
    "plt.xlabel('Number of Documents')\n",
    "plt.title('Document CDF');"
   ]
  },
  {
   "cell_type": "markdown",
   "metadata": {},
   "source": [
    "Let's focus on different parts of the plot."
   ]
  },
  {
   "cell_type": "code",
   "execution_count": 49,
   "metadata": {},
   "outputs": [
    {
     "data": {
      "image/png": "[encoded data removed]",
      "text/plain": [
       "<Figure size 1008x360 with 1 Axes>"
      ]
     },
     "metadata": {},
     "output_type": "display_data"
    }
   ],
   "source": [
    "# plot CDF of documents for lowest number of word appearances\n",
    "\n",
    "sns.kdeplot(words_df['freq'].sort_values(), cumulative=True, clip=(0, 8), shade=True, color=mp.colors(2))\n",
    "\n",
    "plt.xticks([x for x in range (0, 8, 1)])\n",
    "\n",
    "plt.xlabel('Number of Documents')\n",
    "plt.title('Document CDF');"
   ]
  },
  {
   "cell_type": "code",
   "execution_count": 50,
   "metadata": {},
   "outputs": [
    {
     "data": {
      "text/plain": [
       "9547"
      ]
     },
     "execution_count": 50,
     "metadata": {},
     "output_type": "execute_result"
    }
   ],
   "source": [
    "# get number of words appearing in only one document\n",
    "(words_df['freq'].sort_values() == 1).sum()"
   ]
  },
  {
   "cell_type": "markdown",
   "metadata": {},
   "source": [
    "The curve begins to climb steeply right away.<br>\n",
    "I will try a value of min_df=2."
   ]
  },
  {
   "cell_type": "code",
   "execution_count": 51,
   "metadata": {},
   "outputs": [
    {
     "data": {
      "image/png": "[encoded data removed]",
      "text/plain": [
       "<Figure size 1008x360 with 1 Axes>"
      ]
     },
     "metadata": {},
     "output_type": "display_data"
    }
   ],
   "source": [
    "# plot CDF of documents where additon of word appearances starts to decline\n",
    "\n",
    "sns.kdeplot(words_df['freq'].sort_values(), cumulative=True, clip=(30, 160), shade=True, color=mp.colors(2))\n",
    "\n",
    "plt.ylim(0.9, 1)\n",
    "\n",
    "plt.xticks([x for x in range (20, 161, 20)])\n",
    "\n",
    "plt.xlabel('Number of Documents')\n",
    "plt.title('Document CDF');"
   ]
  },
  {
   "cell_type": "markdown",
   "metadata": {},
   "source": [
    "This curve doesn't quite plateau, but it does seem to slow it's bending around 100 documents.<br>\n",
    "A grid search should be used to determine the cutoff.<br>\n",
    "I will try a value of max_df=100."
   ]
  },
  {
   "cell_type": "markdown",
   "metadata": {},
   "source": [
    "Now, I want to look at the words that I will be dropping."
   ]
  },
  {
   "cell_type": "code",
   "execution_count": 52,
   "metadata": {},
   "outputs": [
    {
     "name": "stdout",
     "output_type": "stream",
     "text": [
      "[('the', 16782), ('and', 9887), ('of', 9761), ('to', 6228), ('is', 5969), ('it', 5325), ('in', 4245), ('that', 3676), ('as', 2854), ('with', 2570), ('but', 2406), ('this', 2332), ('film', 2264), ('movie', 2197), ('for', 2144), ('its', 1902), ('an', 1834), ('you', 1406), ('be', 1404), ('on', 1389), ('by', 1330), ('has', 1298), ('one', 1294), ('not', 1236), ('are', 1155), ('more', 1119), ('his', 1081), ('all', 1068), ('than', 1037), ('at', 1023), ('about', 1017), ('from', 990), ('have', 885), ('so', 873), ('like', 864), ('most', 821), ('there', 788), ('what', 743), ('if', 711), ('he', 703), ('or', 701), ('good', 689), ('can', 686), ('who', 686), ('up', 663), ('story', 657), ('into', 643), ('much', 613), ('out', 598), ('comedy', 588), ('even', 572), ('time', 545), ('too', 544), ('best', 538), ('director', 529), ('just', 507), ('no', 504), ('which', 496), ('well', 477), ('they', 472), ('funny', 468), ('some', 460), ('movies', 443), ('when', 438), ('make', 437), ('their', 437), ('will', 433), ('only', 432), ('was', 422), ('characters', 416), ('may', 415), ('been', 412), ('way', 398), ('action', 396), ('we', 388), ('first', 387), ('never', 385), ('made', 383), ('little', 368), ('very', 368), ('makes', 367), ('enough', 364), ('picture', 363), ('work', 354), ('us', 343), ('doesn', 341), ('new', 340), ('great', 335), ('any', 329), ('fun', 323), ('does', 322), ('here', 320), ('two', 306), ('films', 303), ('life', 301), ('her', 296), ('still', 296), ('them', 294), ('something', 293), ('over', 289)]\n"
     ]
    },
    {
     "data": {
      "text/plain": [
       "'Stop Words: set()'"
      ]
     },
     "execution_count": 52,
     "metadata": {},
     "output_type": "execute_result"
    }
   ],
   "source": [
    "# get top words while not removing stop words\n",
    "sort_words, stop_words = get_word_counts()\n",
    "print(sort_words[:100])\n",
    "f'Stop Words: {stop_words}'"
   ]
  },
  {
   "cell_type": "markdown",
   "metadata": {},
   "source": [
    "These are the top 30 words. Except for film and movie, they all seem very common to daily use."
   ]
  },
  {
   "cell_type": "code",
   "execution_count": 53,
   "metadata": {},
   "outputs": [
    {
     "name": "stdout",
     "output_type": "stream",
     "text": [
      "[('the', 16782), ('and', 9887), ('of', 9761), ('to', 6228), ('is', 5969), ('it', 5325), ('in', 4245), ('that', 3676), ('as', 2854), ('with', 2570), ('but', 2406), ('this', 2332), ('film', 2264), ('movie', 2197), ('for', 2144)]\n"
     ]
    },
    {
     "data": {
      "text/plain": [
       "'Number of Stop Words: 9582'"
      ]
     },
     "execution_count": 53,
     "metadata": {},
     "output_type": "execute_result"
    }
   ],
   "source": [
    "# get top words appearing in 2 documents or more and count of stop words omitted\n",
    "sort_words, stop_words = get_word_counts(min_df=2)\n",
    "print(sort_words[:15])\n",
    "f'Number of Stop Words: {len(stop_words)}'"
   ]
  },
  {
   "cell_type": "markdown",
   "metadata": {},
   "source": [
    "This is a lot of words, but they only appear in one document each."
   ]
  },
  {
   "cell_type": "code",
   "execution_count": 54,
   "metadata": {},
   "outputs": [
    {
     "name": "stdout",
     "output_type": "stream",
     "text": [
      "[('ll', 103), ('my', 103), ('especially', 101), ('level', 101), ('sweet', 101), ('energy', 100), ('jokes', 100), ('kids', 100), ('scene', 100), ('wit', 100), ('actor', 99), ('dark', 99), ('version', 99), ('days', 98), ('light', 98)]\n"
     ]
    },
    {
     "data": {
      "text/plain": [
       "\"Stop Words: {'which', 'motion', 'funny', 'very', 'become', 'you', 'look', 'he', 'end', 'an', 'part', 'three', 'into', 'while', 'by', 'always', 'clever', 'out', 'humor', 'real', 'feature', 'one', 'him', 'give', 'bad', 'other', 'action', 'least', 'half', 'director', 'such', 'acting', 'work', 'see', 'on', 'quite', 'from', 'series', 'probably', 'adventure', 'can', 'takes', 'still', 'me', 'find', 'power', 'black', 'watch', 'just', 'intelligent', 'that', 'pretty', 'every', 'family', 'only', 'been', 'film', 'anyone', 'full', 'character', 'up', 'first', 'simply', 'isn', 'entertainment', 'turns', 'laughs', 'big', 'minutes', 'do', 'come', 'small', 'art', 'comes', 'in', 'our', 'this', 'worth', 'had', 'also', 'some', 'about', 'don', 'once', 'may', 'better', 'set', 'enjoyable', 'day', 'could', 'as', 'were', 'through', 'cast', 'long', 'drama', 'story', 'around', 'after', 'itself', 'not', 'say', 'many', 'before', 'so', 'people', 'bit', 'actors', 'role', 'disney', 'sense', 'being', 'comedy', 'play', 'little', 'years', 'heart', 'new', 'we', 'much', 'comic', 'high', 'although', 'whose', 'are', 'go', 'true', 'great', 'who', 'less', 'movies', 'seen', 'make', 'love', 'off', 'done', 'style', 'dialogue', 'goes', 'between', 'sometimes', 'what', 'yet', 'emotional', 're', 'but', 'best', 'hard', 'has', 'how', 'of', 'keep', 'should', 'plot', 'time', 'fantasy', 'smart', 'fine', 'if', 'picture', 'hollywood', 'then', 'good', 'really', 'special', 'us', 'these', 'all', 'well', 'romance', 'no', 'life', 'self', 'feels', 'its', 'old', 'script', 'take', 'want', 'and', 'top', 'down', 'screenplay', 'works', 'characters', 'anything', 'feel', 'going', 'genre', 'experience', 'book', 'directed', 'ever', 'films', 'piece', 'young', 'they', 'their', 'know', 'war', 'world', 'together', 'she', 'doesn', 'made', 'point', 'for', 'your', 'performance', 'human', 'entertaining', 'her', 'seem', 'horror', 'when', 'tale', 'at', 'fun', 'man', 'thriller', 'them', 'last', 'something', 'whole', 'along', 'visual', 'two', 'nothing', 'with', 'material', 'have', 'makes', 'american', 'far', 'now', 've', 'audience', 'does', 'everything', 'looks', 'never', 'both', 'same', 'star', 'moments', 'it', 'might', 'watching', 'gives', 'scenes', 'here', 'to', 'too', 'would', 'seems', 'times', 'romantic', 'despite', 'think', 'narrative', 'rather', 'be', 'way', 'original', 'screen', 'thing', 'writer', 'there', 'direction', 'most', 'making', 'where', 'even', 'hitchcock', 'without', 'since', 'though', 'over', 'enough', 'kind', 'classic', 'often', 'than', 'effects', 'those', 'year', 'is', 'movie', 'show', 'his', 'gets', 'music', 'because', 'again', 'few', 'interesting', 'will', 'another', 'own', 'suspense', 'get', 'almost', 'more', 'the', 'right', 'was', 'john', 'like', 'back', 'any', 'things', 'mr', 'performances', 'lot', 'or'}\""
      ]
     },
     "execution_count": 54,
     "metadata": {},
     "output_type": "execute_result"
    }
   ],
   "source": [
    "# get top words appearing in 100 documents or less and stop words omitted\n",
    "sort_words, stop_words = get_word_counts(max_df=100)\n",
    "print(sort_words[:15])\n",
    "f'Stop Words: {stop_words}'"
   ]
  },
  {
   "cell_type": "markdown",
   "metadata": {},
   "source": [
    "In a general context these word may be overused, but for classifying movie recommendations some of them hold more moviegoer specific value.<br>\n",
    "I would want to keep these words:\n",
    " - good, intelligent, funny, disney, love, bad, special, entertaining, emotional, great, hitchcock, laughs, interesting, cleaver, enjoyable"
   ]
  },
  {
   "cell_type": "markdown",
   "metadata": {},
   "source": [
    "It is odd that the top 5 words left in the corpus each appear in over 100 documents, as the function is supposed to drop them.."
   ]
  },
  {
   "cell_type": "markdown",
   "metadata": {},
   "source": [
    "After observing model accuracy through a wide range of max_df, I found the best number for my data was around 800 document appearances.<br>\n",
    "Unfortuately, when using any cutoff value at all for max_df, the performance scores drop.<br>\n",
    "I will not set this parameter for my model."
   ]
  },
  {
   "cell_type": "markdown",
   "metadata": {},
   "source": [
    "The parameter $\\alpha$ is chosen to be a small value that simply avoids having zeros in the probability computations. This value can sometimes be chosen arbitrarily with domain expertise, but we will use K-fold cross validation. In K-fold cross-validation, we divide the data into $K$ non-overlapping parts. We train on $K-1$ of the folds and test on the remaining fold. We then iterate, so that each fold serves as the test fold exactly once. The function `cv_score` performs the K-fold cross-validation algorithm for us, but we need to pass a function that measures the performance of the algorithm on each fold. "
   ]
  },
  {
   "cell_type": "code",
   "execution_count": 55,
   "metadata": {},
   "outputs": [],
   "source": [
    "from sklearn.model_selection import KFold\n",
    "def cv_score(clf, X, y, scorefunc):\n",
    "    result = 0.\n",
    "    nfold = 5\n",
    "    for train, test in KFold(nfold).split(X): # split data into train/test groups, 5 times\n",
    "        clf.fit(X[train], y[train]) # fit the classifier, passed is as clf.\n",
    "        result += scorefunc(clf, X[test], y[test]) # evaluate score function on held-out data\n",
    "    return result / nfold # average"
   ]
  },
  {
   "cell_type": "markdown",
   "metadata": {},
   "source": [
    "I will make my own function with customized parameters."
   ]
  },
  {
   "cell_type": "code",
   "execution_count": 56,
   "metadata": {},
   "outputs": [],
   "source": [
    "def my_cv_score(clf, X, y, scorefunc):\n",
    "    \"\"\"Returns average of 10 fold cross validation\"\"\"\n",
    "    result = 0\n",
    "    # do more folds\n",
    "    nfold = 10\n",
    "    # shuffle data and set random number generator\n",
    "    for train, test in KFold(nfold, shuffle=True, random_state=27).split(X):\n",
    "        clf.fit(X[train], y[train])\n",
    "        result += scorefunc(clf, X[test], y[test])\n",
    "    return result / nfold"
   ]
  },
  {
   "cell_type": "markdown",
   "metadata": {},
   "source": [
    "We use the log-likelihood as the score here in `scorefunc`. The higher the log-likelihood, the better. Indeed, what we do in `cv_score` above is to implement the cross-validation part of `GridSearchCV`.\n",
    "\n",
    "The custom scoring function `scorefunc` allows us to use different metrics depending on the decision risk we care about (precision, accuracy, profit etc.) directly on the validation set. You will often find people using `roc_auc`, precision, recall, or `F1-score` as the scoring function."
   ]
  },
  {
   "cell_type": "code",
   "execution_count": 57,
   "metadata": {},
   "outputs": [],
   "source": [
    "def log_likelihood(clf, x, y):\n",
    "    prob = clf.predict_log_proba(x)\n",
    "    rotten = y == 0\n",
    "    fresh = ~rotten\n",
    "    return prob[rotten, 0].sum() + prob[fresh, 1].sum()"
   ]
  },
  {
   "cell_type": "markdown",
   "metadata": {},
   "source": [
    "We'll cross-validate over the regularization parameter $\\alpha$."
   ]
  },
  {
   "cell_type": "markdown",
   "metadata": {},
   "source": [
    "Let's set up the train and test masks first, and then we can run the cross-validation procedure."
   ]
  },
  {
   "cell_type": "code",
   "execution_count": 58,
   "metadata": {},
   "outputs": [],
   "source": [
    "from sklearn.model_selection import train_test_split\n",
    "_, itest = train_test_split(range(critics.shape[0]), train_size=0.7)\n",
    "mask = np.zeros(critics.shape[0], dtype=np.bool)\n",
    "mask[itest] = True"
   ]
  },
  {
   "cell_type": "code",
   "execution_count": 59,
   "metadata": {},
   "outputs": [
    {
     "data": {
      "text/plain": [
       "(15561, 10892, 4669)"
      ]
     },
     "execution_count": 59,
     "metadata": {},
     "output_type": "execute_result"
    }
   ],
   "source": [
    "# observe proportions of split\n",
    "critics.shape[0], len(_), len(itest)"
   ]
  },
  {
   "cell_type": "markdown",
   "metadata": {},
   "source": [
    "This mask is the length of the TEST data.<br>\n",
    "In the preloaded code below, it is used to get the TRAINING sets.<br>\n",
    "I will continue using my own code, as this is not correct."
   ]
  },
  {
   "cell_type": "markdown",
   "metadata": {},
   "source": [
    "<div class=\"span5 alert alert-info\">\n",
    "<h3>Exercise Set IV</h3>\n",
    "\n",
    "<p><b>Exercise:</b> What does using the function `log_likelihood` as the score mean? What are we trying to optimize for?</p>\n",
    "\n",
    "<p><b>Exercise:</b> Without writing any code, what do you think would happen if you choose a value of $\\alpha$ that is too high?</p>\n",
    "\n",
    "<p><b>Exercise:</b> Using the skeleton code below, find the best values of the parameter `alpha`, and use the value of `min_df` you chose in the previous exercise set. Use the `cv_score` function above with the `log_likelihood` function for scoring.</p>\n",
    "</div>"
   ]
  },
  {
   "cell_type": "markdown",
   "metadata": {},
   "source": [
    "The log-likelihood function gives the probabilities of observing our data given a distribution of the regulatization parameter ($\\alpha$).<br>\n",
    "We are using the maximum likelihood estimate (MLE) to find the best $\\alpha$ such that our observed data is most probable through maximizing the log-likelihood."
   ]
  },
  {
   "cell_type": "markdown",
   "metadata": {},
   "source": [
    "To make predictions using Naive Bayes, we need to find out which class has the larger probability.<br>\n",
    "Here we are calculating joint probabilities, which involves multiplying probabilities together.<br>\n",
    "This may result in very small numbers.<br>\n",
    "By taking the log of the probabilities we can avoid running into difficulties with the precision our floating point values."
   ]
  },
  {
   "cell_type": "markdown",
   "metadata": {},
   "source": [
    "Higher values of $\\alpha$ will assign higher probabilities to words that our model has not seen.<br>\n",
    "Chooing an $\\alpha$ that is too high will cause our classifier to underfit, because as $\\alpha$ --> ${\\infty}$, our variance --> 0, and the bias gets very high.<br>\n",
    "In other words, with very high $\\alpha$ the classifier does not change, regardless of the data."
   ]
  },
  {
   "cell_type": "code",
   "execution_count": 60,
   "metadata": {},
   "outputs": [],
   "source": [
    "from sklearn.naive_bayes import MultinomialNB\n",
    "\n",
    "#the grid of parameters to search over\n",
    "alphas = [.1, 1, 5, 10, 50]\n",
    "best_min_df = 2 # YOUR TURN: put your value of min_df here.\n",
    "\n",
    "#Find the best value for alpha and min_df, and the best classifier\n",
    "best_alpha = None\n",
    "maxscore=-np.inf\n",
    "for alpha in alphas:\n",
    "    vectorizer = CountVectorizer(min_df=best_min_df)       \n",
    "    Xthis, ythis = make_xy(critics, vectorizer)\n",
    "    Xtrainthis = Xthis[mask]\n",
    "    ytrainthis = ythis[mask]\n",
    "    # your turn  "
   ]
  },
  {
   "cell_type": "code",
   "execution_count": 61,
   "metadata": {},
   "outputs": [
    {
     "data": {
      "text/plain": [
       "(15561, 4669, 4669)"
      ]
     },
     "execution_count": 61,
     "metadata": {},
     "output_type": "execute_result"
    }
   ],
   "source": [
    "# observe proportions of split\n",
    "critics.shape[0], Xtrainthis.shape[0], len(ytrainthis)"
   ]
  },
  {
   "cell_type": "markdown",
   "metadata": {},
   "source": [
    "As mentioned, the skeleton code above incorrectly names the test set as the training set, as it is 30% of the observations."
   ]
  },
  {
   "cell_type": "code",
   "execution_count": 62,
   "metadata": {},
   "outputs": [],
   "source": [
    "# reset mask to the size of my data and test split size\n",
    "\n",
    "# create list (itest) of random integers the length of the y_test portion of the split\n",
    "_, itest = train_test_split(range(my_df.shape[0]), train_size=0.9, random_state=27)\n",
    "# create array of False values whose length is equal to the full number of observations (documents)\n",
    "mask = np.zeros(my_df.shape[0], dtype=np.bool)\n",
    "# change False values to True at the indices that match the values found in itest list\n",
    "mask[itest] = True"
   ]
  },
  {
   "cell_type": "code",
   "execution_count": 63,
   "metadata": {},
   "outputs": [
    {
     "data": {
      "text/plain": [
       "(15534, 13980, 1554)"
      ]
     },
     "execution_count": 63,
     "metadata": {},
     "output_type": "execute_result"
    }
   ],
   "source": [
    "# observe proportions of split\n",
    "my_df.shape[0], len(_), len(itest)"
   ]
  },
  {
   "cell_type": "markdown",
   "metadata": {},
   "source": [
    "These are the correct proportions for the split I want."
   ]
  },
  {
   "cell_type": "code",
   "execution_count": 64,
   "metadata": {},
   "outputs": [],
   "source": [
    "def get_best_alpha():\n",
    "    \"\"\"Returns log likelihood scores and best score for a range of regularization parameters\"\"\"\n",
    "    # initialize return values\n",
    "    best_score = -np.inf\n",
    "    best_alpha = None\n",
    "    results = {}\n",
    "    for alpha in alphas:\n",
    "        # prepare data with chosen min_df argument\n",
    "        X, y, _ = my_make_xy(my_df, min_df=2)\n",
    "        # extract test sets with mask array\n",
    "        X_test = X[mask]\n",
    "        y_test = y[mask]\n",
    "        # instanciate classifier for each value of alpha\n",
    "        clf = MultinomialNB(alpha)\n",
    "        # score each classifier\n",
    "        score = my_cv_score(clf, X_test, y_test, log_likelihood)\n",
    "        # get each score\n",
    "        results[alpha] = score\n",
    "        # set best alpha and its score\n",
    "        if score > best_score:\n",
    "            best_score = score\n",
    "            best_alpha = alpha\n",
    "    return results, best_alpha, best_score        "
   ]
  },
  {
   "cell_type": "code",
   "execution_count": 65,
   "metadata": {},
   "outputs": [
    {
     "data": {
      "text/plain": [
       "('Best alpha: 1  score: -140.8675904277695',\n",
       " {0.1: -182.95210897441362,\n",
       "  1: -140.8675904277695,\n",
       "  5: -208.76570099912814,\n",
       "  10: -217.91574475419776,\n",
       "  50: -190.6863914803402})"
      ]
     },
     "execution_count": 65,
     "metadata": {},
     "output_type": "execute_result"
    }
   ],
   "source": [
    "results, best_alpha, best_score = get_best_alpha()\n",
    "f'Best alpha: {best_alpha}  score: {best_score}', results"
   ]
  },
  {
   "cell_type": "code",
   "execution_count": 66,
   "metadata": {},
   "outputs": [
    {
     "name": "stdout",
     "output_type": "stream",
     "text": [
      "alpha: 1\n"
     ]
    }
   ],
   "source": [
    "print(\"alpha: {}\".format(best_alpha))"
   ]
  },
  {
   "cell_type": "markdown",
   "metadata": {},
   "source": [
    "<div class=\"span5 alert alert-info\">\n",
    "<h3>Exercise Set V: Working with the Best Parameters</h3>\n",
    "\n",
    "<p><b>Exercise:</b> Using the best value of  `alpha` you just found, calculate the accuracy on the training and test sets. Is this classifier better? Why (not)?</p>\n",
    "\n",
    "</div>"
   ]
  },
  {
   "cell_type": "code",
   "execution_count": 67,
   "metadata": {},
   "outputs": [],
   "source": [
    "# reset mask back to preloaded data to ensure notebook cells run\n",
    "_, itest = train_test_split(range(critics.shape[0]), train_size=0.7)\n",
    "mask = np.zeros(critics.shape[0], dtype=np.bool)\n",
    "mask[itest] = True"
   ]
  },
  {
   "cell_type": "markdown",
   "metadata": {},
   "source": [
    "This is the preloaded code below that I will not use."
   ]
  },
  {
   "cell_type": "code",
   "execution_count": 68,
   "metadata": {},
   "outputs": [
    {
     "name": "stdout",
     "output_type": "stream",
     "text": [
      "Accuracy on training data: 0.934033\n",
      "Accuracy on test data:     0.749449\n"
     ]
    }
   ],
   "source": [
    "vectorizer = CountVectorizer(min_df=best_min_df)\n",
    "X, y = make_xy(critics, vectorizer)\n",
    "xtrain=X[mask]\n",
    "ytrain=y[mask]\n",
    "xtest=X[~mask]\n",
    "ytest=y[~mask]\n",
    "\n",
    "clf = MultinomialNB(alpha=best_alpha).fit(xtrain, ytrain)\n",
    "\n",
    "#your turn. Print the accuracy on the test and training dataset\n",
    "training_accuracy = clf.score(xtrain, ytrain)\n",
    "test_accuracy = clf.score(xtest, ytest)\n",
    "\n",
    "print(\"Accuracy on training data: {:2f}\".format(training_accuracy))\n",
    "print(\"Accuracy on test data:     {:2f}\".format(test_accuracy))"
   ]
  },
  {
   "cell_type": "code",
   "execution_count": 69,
   "metadata": {},
   "outputs": [
    {
     "data": {
      "text/plain": [
       "(15561, 4669, 10892)"
      ]
     },
     "execution_count": 69,
     "metadata": {},
     "output_type": "execute_result"
    }
   ],
   "source": [
    "# observe proportions of split\n",
    "critics.shape[0], xtrain.shape[0], xtest.shape[0]"
   ]
  },
  {
   "cell_type": "markdown",
   "metadata": {},
   "source": [
    "As noted, there is a logical error in the preloaded code pertaining to the implementation of the mask.<br>\n",
    "If used, this will give incorrect results."
   ]
  },
  {
   "cell_type": "code",
   "execution_count": 70,
   "metadata": {},
   "outputs": [
    {
     "name": "stdout",
     "output_type": "stream",
     "text": [
      "[[2445 1791]\n",
      " [ 938 5718]]\n"
     ]
    }
   ],
   "source": [
    "from sklearn.metrics import confusion_matrix\n",
    "print(confusion_matrix(ytest, clf.predict(xtest)))"
   ]
  },
  {
   "cell_type": "markdown",
   "metadata": {},
   "source": [
    "Now, I will use my data and functions."
   ]
  },
  {
   "cell_type": "code",
   "execution_count": 71,
   "metadata": {},
   "outputs": [],
   "source": [
    "#your turn. Print the accuracy on the test and training dataset"
   ]
  },
  {
   "cell_type": "code",
   "execution_count": 72,
   "metadata": {},
   "outputs": [],
   "source": [
    "# reset mask back to my data\n",
    "_, itest = train_test_split(range(my_df.shape[0]), train_size=0.9, random_state=27)\n",
    "mask = np.zeros(my_df.shape[0], dtype=np.bool)\n",
    "mask[itest] = True"
   ]
  },
  {
   "cell_type": "code",
   "execution_count": 73,
   "metadata": {},
   "outputs": [
    {
     "name": "stdout",
     "output_type": "stream",
     "text": [
      "Accuracy on training data: 0.893419\n",
      "Accuracy on test data:     0.799871\n"
     ]
    }
   ],
   "source": [
    "# change a couple of items to fit my data and custom function\n",
    "X, y, _ = my_make_xy(my_df, min_df=2)\n",
    "# code the mask assignments correctly to gain 5% accuracy\n",
    "xtrain = X[~mask]\n",
    "ytrain = y[~mask]\n",
    "xtest= X [mask]\n",
    "ytest= y [mask]\n",
    "\n",
    "clf = MultinomialNB(alpha=best_alpha).fit(xtrain, ytrain)\n",
    "\n",
    "# get accuracy on test and training dataset\n",
    "training_accuracy = clf.score(xtrain, ytrain)\n",
    "test_accuracy = clf.score(xtest, ytest)\n",
    "\n",
    "# get classification report and confusion matrix\n",
    "cr_train_df_new = pd.DataFrame(classification_report(ytrain, clf.predict(xtrain), digits=3, output_dict=True)).transpose()\n",
    "cm_train_df_new = pd.DataFrame(confusion_matrix(ytrain, clf.predict(xtrain)))\n",
    "cr_test_df_new = pd.DataFrame(classification_report(ytest, clf.predict(xtest), digits=3, output_dict=True)).transpose()\n",
    "cm_test_df_new = pd.DataFrame(confusion_matrix(ytest, clf.predict(xtest)))\n",
    "\n",
    "# get ROC data\n",
    "fpr_train_new, tpr_train_new, thresholds_new = roc_curve(ytrain, clf.predict(xtrain))\n",
    "roc_score_train_new = roc_auc_score(ytrain, clf.predict(xtrain))\n",
    "fpr_test_new, tpr_test_new, thresholds_new = roc_curve(ytest, clf.predict(xtest))\n",
    "roc_score_test_new = roc_auc_score(ytest, clf.predict(xtest))\n",
    "\n",
    "print(\"Accuracy on training data: {:2f}\".format(training_accuracy))\n",
    "print(\"Accuracy on test data:     {:2f}\".format(test_accuracy))"
   ]
  },
  {
   "cell_type": "code",
   "execution_count": 74,
   "metadata": {},
   "outputs": [
    {
     "name": "stdout",
     "output_type": "stream",
     "text": [
      "[[431 176]\n",
      " [135 812]]\n"
     ]
    }
   ],
   "source": [
    "print(confusion_matrix(ytest, clf.predict(xtest)))"
   ]
  },
  {
   "cell_type": "code",
   "execution_count": 75,
   "metadata": {},
   "outputs": [
    {
     "data": {
      "text/html": [
       "<style  type=\"text/css\" >\n",
       "</style><table id=\"T_5ce598cc_a0ad_11ea_90a8_1d86c4c7e225\" style='display:inline'><caption>Old Training Classification Report</caption><thead>    <tr>        <th class=\"blank level0\" ></th>        <th class=\"col_heading level0 col0\" >precision</th>        <th class=\"col_heading level0 col1\" >recall</th>        <th class=\"col_heading level0 col2\" >f1-score</th>        <th class=\"col_heading level0 col3\" >support</th>    </tr></thead><tbody>\n",
       "                <tr>\n",
       "                        <th id=\"T_5ce598cc_a0ad_11ea_90a8_1d86c4c7e225level0_row0\" class=\"row_heading level0 row0\" >0</th>\n",
       "                        <td id=\"T_5ce598cc_a0ad_11ea_90a8_1d86c4c7e225row0_col0\" class=\"data row0 col0\" >0.917498</td>\n",
       "                        <td id=\"T_5ce598cc_a0ad_11ea_90a8_1d86c4c7e225row0_col1\" class=\"data row0 col1\" >0.861892</td>\n",
       "                        <td id=\"T_5ce598cc_a0ad_11ea_90a8_1d86c4c7e225row0_col2\" class=\"data row0 col2\" >0.888826</td>\n",
       "                        <td id=\"T_5ce598cc_a0ad_11ea_90a8_1d86c4c7e225row0_col3\" class=\"data row0 col3\" >5445.000000</td>\n",
       "            </tr>\n",
       "            <tr>\n",
       "                        <th id=\"T_5ce598cc_a0ad_11ea_90a8_1d86c4c7e225level0_row1\" class=\"row_heading level0 row1\" >1</th>\n",
       "                        <td id=\"T_5ce598cc_a0ad_11ea_90a8_1d86c4c7e225row1_col0\" class=\"data row1 col0\" >0.915172</td>\n",
       "                        <td id=\"T_5ce598cc_a0ad_11ea_90a8_1d86c4c7e225row1_col1\" class=\"data row1 col1\" >0.950557</td>\n",
       "                        <td id=\"T_5ce598cc_a0ad_11ea_90a8_1d86c4c7e225row1_col2\" class=\"data row1 col2\" >0.932529</td>\n",
       "                        <td id=\"T_5ce598cc_a0ad_11ea_90a8_1d86c4c7e225row1_col3\" class=\"data row1 col3\" >8535.000000</td>\n",
       "            </tr>\n",
       "            <tr>\n",
       "                        <th id=\"T_5ce598cc_a0ad_11ea_90a8_1d86c4c7e225level0_row2\" class=\"row_heading level0 row2\" >accuracy</th>\n",
       "                        <td id=\"T_5ce598cc_a0ad_11ea_90a8_1d86c4c7e225row2_col0\" class=\"data row2 col0\" >0.916023</td>\n",
       "                        <td id=\"T_5ce598cc_a0ad_11ea_90a8_1d86c4c7e225row2_col1\" class=\"data row2 col1\" >0.916023</td>\n",
       "                        <td id=\"T_5ce598cc_a0ad_11ea_90a8_1d86c4c7e225row2_col2\" class=\"data row2 col2\" >0.916023</td>\n",
       "                        <td id=\"T_5ce598cc_a0ad_11ea_90a8_1d86c4c7e225row2_col3\" class=\"data row2 col3\" >0.916023</td>\n",
       "            </tr>\n",
       "            <tr>\n",
       "                        <th id=\"T_5ce598cc_a0ad_11ea_90a8_1d86c4c7e225level0_row3\" class=\"row_heading level0 row3\" >macro avg</th>\n",
       "                        <td id=\"T_5ce598cc_a0ad_11ea_90a8_1d86c4c7e225row3_col0\" class=\"data row3 col0\" >0.916335</td>\n",
       "                        <td id=\"T_5ce598cc_a0ad_11ea_90a8_1d86c4c7e225row3_col1\" class=\"data row3 col1\" >0.906224</td>\n",
       "                        <td id=\"T_5ce598cc_a0ad_11ea_90a8_1d86c4c7e225row3_col2\" class=\"data row3 col2\" >0.910677</td>\n",
       "                        <td id=\"T_5ce598cc_a0ad_11ea_90a8_1d86c4c7e225row3_col3\" class=\"data row3 col3\" >13980.000000</td>\n",
       "            </tr>\n",
       "            <tr>\n",
       "                        <th id=\"T_5ce598cc_a0ad_11ea_90a8_1d86c4c7e225level0_row4\" class=\"row_heading level0 row4\" >weighted avg</th>\n",
       "                        <td id=\"T_5ce598cc_a0ad_11ea_90a8_1d86c4c7e225row4_col0\" class=\"data row4 col0\" >0.916078</td>\n",
       "                        <td id=\"T_5ce598cc_a0ad_11ea_90a8_1d86c4c7e225row4_col1\" class=\"data row4 col1\" >0.916023</td>\n",
       "                        <td id=\"T_5ce598cc_a0ad_11ea_90a8_1d86c4c7e225row4_col2\" class=\"data row4 col2\" >0.915507</td>\n",
       "                        <td id=\"T_5ce598cc_a0ad_11ea_90a8_1d86c4c7e225row4_col3\" class=\"data row4 col3\" >13980.000000</td>\n",
       "            </tr>\n",
       "    </tbody></table><style  type=\"text/css\" >\n",
       "</style><table id=\"T_5ce5c73e_a0ad_11ea_90a8_1d86c4c7e225\" style='display:inline'><caption>New Training Classification Report</caption><thead>    <tr>        <th class=\"blank level0\" ></th>        <th class=\"col_heading level0 col0\" >precision</th>        <th class=\"col_heading level0 col1\" >recall</th>        <th class=\"col_heading level0 col2\" >f1-score</th>        <th class=\"col_heading level0 col3\" >support</th>    </tr></thead><tbody>\n",
       "                <tr>\n",
       "                        <th id=\"T_5ce5c73e_a0ad_11ea_90a8_1d86c4c7e225level0_row0\" class=\"row_heading level0 row0\" >0</th>\n",
       "                        <td id=\"T_5ce5c73e_a0ad_11ea_90a8_1d86c4c7e225row0_col0\" class=\"data row0 col0\" >0.867087</td>\n",
       "                        <td id=\"T_5ce5c73e_a0ad_11ea_90a8_1d86c4c7e225row0_col1\" class=\"data row0 col1\" >0.857851</td>\n",
       "                        <td id=\"T_5ce5c73e_a0ad_11ea_90a8_1d86c4c7e225row0_col2\" class=\"data row0 col2\" >0.862445</td>\n",
       "                        <td id=\"T_5ce5c73e_a0ad_11ea_90a8_1d86c4c7e225row0_col3\" class=\"data row0 col3\" >5445.000000</td>\n",
       "            </tr>\n",
       "            <tr>\n",
       "                        <th id=\"T_5ce5c73e_a0ad_11ea_90a8_1d86c4c7e225level0_row1\" class=\"row_heading level0 row1\" >1</th>\n",
       "                        <td id=\"T_5ce5c73e_a0ad_11ea_90a8_1d86c4c7e225row1_col0\" class=\"data row1 col0\" >0.909927</td>\n",
       "                        <td id=\"T_5ce5c73e_a0ad_11ea_90a8_1d86c4c7e225row1_col1\" class=\"data row1 col1\" >0.916110</td>\n",
       "                        <td id=\"T_5ce5c73e_a0ad_11ea_90a8_1d86c4c7e225row1_col2\" class=\"data row1 col2\" >0.913008</td>\n",
       "                        <td id=\"T_5ce5c73e_a0ad_11ea_90a8_1d86c4c7e225row1_col3\" class=\"data row1 col3\" >8535.000000</td>\n",
       "            </tr>\n",
       "            <tr>\n",
       "                        <th id=\"T_5ce5c73e_a0ad_11ea_90a8_1d86c4c7e225level0_row2\" class=\"row_heading level0 row2\" >accuracy</th>\n",
       "                        <td id=\"T_5ce5c73e_a0ad_11ea_90a8_1d86c4c7e225row2_col0\" class=\"data row2 col0\" >0.893419</td>\n",
       "                        <td id=\"T_5ce5c73e_a0ad_11ea_90a8_1d86c4c7e225row2_col1\" class=\"data row2 col1\" >0.893419</td>\n",
       "                        <td id=\"T_5ce5c73e_a0ad_11ea_90a8_1d86c4c7e225row2_col2\" class=\"data row2 col2\" >0.893419</td>\n",
       "                        <td id=\"T_5ce5c73e_a0ad_11ea_90a8_1d86c4c7e225row2_col3\" class=\"data row2 col3\" >0.893419</td>\n",
       "            </tr>\n",
       "            <tr>\n",
       "                        <th id=\"T_5ce5c73e_a0ad_11ea_90a8_1d86c4c7e225level0_row3\" class=\"row_heading level0 row3\" >macro avg</th>\n",
       "                        <td id=\"T_5ce5c73e_a0ad_11ea_90a8_1d86c4c7e225row3_col0\" class=\"data row3 col0\" >0.888507</td>\n",
       "                        <td id=\"T_5ce5c73e_a0ad_11ea_90a8_1d86c4c7e225row3_col1\" class=\"data row3 col1\" >0.886981</td>\n",
       "                        <td id=\"T_5ce5c73e_a0ad_11ea_90a8_1d86c4c7e225row3_col2\" class=\"data row3 col2\" >0.887726</td>\n",
       "                        <td id=\"T_5ce5c73e_a0ad_11ea_90a8_1d86c4c7e225row3_col3\" class=\"data row3 col3\" >13980.000000</td>\n",
       "            </tr>\n",
       "            <tr>\n",
       "                        <th id=\"T_5ce5c73e_a0ad_11ea_90a8_1d86c4c7e225level0_row4\" class=\"row_heading level0 row4\" >weighted avg</th>\n",
       "                        <td id=\"T_5ce5c73e_a0ad_11ea_90a8_1d86c4c7e225row4_col0\" class=\"data row4 col0\" >0.893241</td>\n",
       "                        <td id=\"T_5ce5c73e_a0ad_11ea_90a8_1d86c4c7e225row4_col1\" class=\"data row4 col1\" >0.893419</td>\n",
       "                        <td id=\"T_5ce5c73e_a0ad_11ea_90a8_1d86c4c7e225row4_col2\" class=\"data row4 col2\" >0.893314</td>\n",
       "                        <td id=\"T_5ce5c73e_a0ad_11ea_90a8_1d86c4c7e225row4_col3\" class=\"data row4 col3\" >13980.000000</td>\n",
       "            </tr>\n",
       "    </tbody></table><style  type=\"text/css\" >\n",
       "</style><table id=\"T_5ce5f7ae_a0ad_11ea_90a8_1d86c4c7e225\" style='display:inline'><caption>Old Training Confusion Matrix</caption><thead>    <tr>        <th class=\"blank level0\" ></th>        <th class=\"col_heading level0 col0\" >0</th>        <th class=\"col_heading level0 col1\" >1</th>    </tr></thead><tbody>\n",
       "                <tr>\n",
       "                        <th id=\"T_5ce5f7ae_a0ad_11ea_90a8_1d86c4c7e225level0_row0\" class=\"row_heading level0 row0\" >0</th>\n",
       "                        <td id=\"T_5ce5f7ae_a0ad_11ea_90a8_1d86c4c7e225row0_col0\" class=\"data row0 col0\" >4693</td>\n",
       "                        <td id=\"T_5ce5f7ae_a0ad_11ea_90a8_1d86c4c7e225row0_col1\" class=\"data row0 col1\" >752</td>\n",
       "            </tr>\n",
       "            <tr>\n",
       "                        <th id=\"T_5ce5f7ae_a0ad_11ea_90a8_1d86c4c7e225level0_row1\" class=\"row_heading level0 row1\" >1</th>\n",
       "                        <td id=\"T_5ce5f7ae_a0ad_11ea_90a8_1d86c4c7e225row1_col0\" class=\"data row1 col0\" >422</td>\n",
       "                        <td id=\"T_5ce5f7ae_a0ad_11ea_90a8_1d86c4c7e225row1_col1\" class=\"data row1 col1\" >8113</td>\n",
       "            </tr>\n",
       "    </tbody></table><style  type=\"text/css\" >\n",
       "</style><table id=\"T_5ce605aa_a0ad_11ea_90a8_1d86c4c7e225\" style='display:inline'><caption>New Training Confusion Matrix</caption><thead>    <tr>        <th class=\"blank level0\" ></th>        <th class=\"col_heading level0 col0\" >0</th>        <th class=\"col_heading level0 col1\" >1</th>    </tr></thead><tbody>\n",
       "                <tr>\n",
       "                        <th id=\"T_5ce605aa_a0ad_11ea_90a8_1d86c4c7e225level0_row0\" class=\"row_heading level0 row0\" >0</th>\n",
       "                        <td id=\"T_5ce605aa_a0ad_11ea_90a8_1d86c4c7e225row0_col0\" class=\"data row0 col0\" >4671</td>\n",
       "                        <td id=\"T_5ce605aa_a0ad_11ea_90a8_1d86c4c7e225row0_col1\" class=\"data row0 col1\" >774</td>\n",
       "            </tr>\n",
       "            <tr>\n",
       "                        <th id=\"T_5ce605aa_a0ad_11ea_90a8_1d86c4c7e225level0_row1\" class=\"row_heading level0 row1\" >1</th>\n",
       "                        <td id=\"T_5ce605aa_a0ad_11ea_90a8_1d86c4c7e225row1_col0\" class=\"data row1 col0\" >716</td>\n",
       "                        <td id=\"T_5ce605aa_a0ad_11ea_90a8_1d86c4c7e225row1_col1\" class=\"data row1 col1\" >7819</td>\n",
       "            </tr>\n",
       "    </tbody></table>"
      ]
     },
     "metadata": {},
     "output_type": "display_data"
    }
   ],
   "source": [
    "# display classification report and confusion matrix for training model\n",
    "df1_styler = cr_train_df.style.set_table_attributes(\"style='display:inline'\").set_caption('Old Training Classification Report')\n",
    "df2_styler = cr_train_df_new.style.set_table_attributes(\"style='display:inline'\").set_caption('New Training Classification Report')\n",
    "df3_styler = cm_train_df.style.set_table_attributes(\"style='display:inline'\").set_caption('Old Training Confusion Matrix')\n",
    "df4_styler = cm_train_df_new.style.set_table_attributes(\"style='display:inline'\").set_caption('New Training Confusion Matrix')\n",
    "\n",
    "display_html(df1_styler._repr_html_() + df2_styler._repr_html_() + df3_styler._repr_html_() \n",
    "             + df4_styler._repr_html_(), raw=True)"
   ]
  },
  {
   "cell_type": "markdown",
   "metadata": {},
   "source": [
    "The new model is overfitting less on the training set."
   ]
  },
  {
   "cell_type": "code",
   "execution_count": 76,
   "metadata": {},
   "outputs": [
    {
     "data": {
      "text/html": [
       "<style  type=\"text/css\" >\n",
       "</style><table id=\"T_5ce6eace_a0ad_11ea_90a8_1d86c4c7e225\" style='display:inline'><caption>Old Test Classification Report</caption><thead>    <tr>        <th class=\"blank level0\" ></th>        <th class=\"col_heading level0 col0\" >precision</th>        <th class=\"col_heading level0 col1\" >recall</th>        <th class=\"col_heading level0 col2\" >f1-score</th>        <th class=\"col_heading level0 col3\" >support</th>    </tr></thead><tbody>\n",
       "                <tr>\n",
       "                        <th id=\"T_5ce6eace_a0ad_11ea_90a8_1d86c4c7e225level0_row0\" class=\"row_heading level0 row0\" >0</th>\n",
       "                        <td id=\"T_5ce6eace_a0ad_11ea_90a8_1d86c4c7e225row0_col0\" class=\"data row0 col0\" >0.777143</td>\n",
       "                        <td id=\"T_5ce6eace_a0ad_11ea_90a8_1d86c4c7e225row0_col1\" class=\"data row0 col1\" >0.672158</td>\n",
       "                        <td id=\"T_5ce6eace_a0ad_11ea_90a8_1d86c4c7e225row0_col2\" class=\"data row0 col2\" >0.720848</td>\n",
       "                        <td id=\"T_5ce6eace_a0ad_11ea_90a8_1d86c4c7e225row0_col3\" class=\"data row0 col3\" >607.000000</td>\n",
       "            </tr>\n",
       "            <tr>\n",
       "                        <th id=\"T_5ce6eace_a0ad_11ea_90a8_1d86c4c7e225level0_row1\" class=\"row_heading level0 row1\" >1</th>\n",
       "                        <td id=\"T_5ce6eace_a0ad_11ea_90a8_1d86c4c7e225row1_col0\" class=\"data row1 col0\" >0.806608</td>\n",
       "                        <td id=\"T_5ce6eace_a0ad_11ea_90a8_1d86c4c7e225row1_col1\" class=\"data row1 col1\" >0.876452</td>\n",
       "                        <td id=\"T_5ce6eace_a0ad_11ea_90a8_1d86c4c7e225row1_col2\" class=\"data row1 col2\" >0.840081</td>\n",
       "                        <td id=\"T_5ce6eace_a0ad_11ea_90a8_1d86c4c7e225row1_col3\" class=\"data row1 col3\" >947.000000</td>\n",
       "            </tr>\n",
       "            <tr>\n",
       "                        <th id=\"T_5ce6eace_a0ad_11ea_90a8_1d86c4c7e225level0_row2\" class=\"row_heading level0 row2\" >accuracy</th>\n",
       "                        <td id=\"T_5ce6eace_a0ad_11ea_90a8_1d86c4c7e225row2_col0\" class=\"data row2 col0\" >0.796654</td>\n",
       "                        <td id=\"T_5ce6eace_a0ad_11ea_90a8_1d86c4c7e225row2_col1\" class=\"data row2 col1\" >0.796654</td>\n",
       "                        <td id=\"T_5ce6eace_a0ad_11ea_90a8_1d86c4c7e225row2_col2\" class=\"data row2 col2\" >0.796654</td>\n",
       "                        <td id=\"T_5ce6eace_a0ad_11ea_90a8_1d86c4c7e225row2_col3\" class=\"data row2 col3\" >0.796654</td>\n",
       "            </tr>\n",
       "            <tr>\n",
       "                        <th id=\"T_5ce6eace_a0ad_11ea_90a8_1d86c4c7e225level0_row3\" class=\"row_heading level0 row3\" >macro avg</th>\n",
       "                        <td id=\"T_5ce6eace_a0ad_11ea_90a8_1d86c4c7e225row3_col0\" class=\"data row3 col0\" >0.791876</td>\n",
       "                        <td id=\"T_5ce6eace_a0ad_11ea_90a8_1d86c4c7e225row3_col1\" class=\"data row3 col1\" >0.774305</td>\n",
       "                        <td id=\"T_5ce6eace_a0ad_11ea_90a8_1d86c4c7e225row3_col2\" class=\"data row3 col2\" >0.780465</td>\n",
       "                        <td id=\"T_5ce6eace_a0ad_11ea_90a8_1d86c4c7e225row3_col3\" class=\"data row3 col3\" >1554.000000</td>\n",
       "            </tr>\n",
       "            <tr>\n",
       "                        <th id=\"T_5ce6eace_a0ad_11ea_90a8_1d86c4c7e225level0_row4\" class=\"row_heading level0 row4\" >weighted avg</th>\n",
       "                        <td id=\"T_5ce6eace_a0ad_11ea_90a8_1d86c4c7e225row4_col0\" class=\"data row4 col0\" >0.795099</td>\n",
       "                        <td id=\"T_5ce6eace_a0ad_11ea_90a8_1d86c4c7e225row4_col1\" class=\"data row4 col1\" >0.796654</td>\n",
       "                        <td id=\"T_5ce6eace_a0ad_11ea_90a8_1d86c4c7e225row4_col2\" class=\"data row4 col2\" >0.793508</td>\n",
       "                        <td id=\"T_5ce6eace_a0ad_11ea_90a8_1d86c4c7e225row4_col3\" class=\"data row4 col3\" >1554.000000</td>\n",
       "            </tr>\n",
       "    </tbody></table><style  type=\"text/css\" >\n",
       "</style><table id=\"T_5ce718dc_a0ad_11ea_90a8_1d86c4c7e225\" style='display:inline'><caption>New Test Classification Report</caption><thead>    <tr>        <th class=\"blank level0\" ></th>        <th class=\"col_heading level0 col0\" >precision</th>        <th class=\"col_heading level0 col1\" >recall</th>        <th class=\"col_heading level0 col2\" >f1-score</th>        <th class=\"col_heading level0 col3\" >support</th>    </tr></thead><tbody>\n",
       "                <tr>\n",
       "                        <th id=\"T_5ce718dc_a0ad_11ea_90a8_1d86c4c7e225level0_row0\" class=\"row_heading level0 row0\" >0</th>\n",
       "                        <td id=\"T_5ce718dc_a0ad_11ea_90a8_1d86c4c7e225row0_col0\" class=\"data row0 col0\" >0.761484</td>\n",
       "                        <td id=\"T_5ce718dc_a0ad_11ea_90a8_1d86c4c7e225row0_col1\" class=\"data row0 col1\" >0.710049</td>\n",
       "                        <td id=\"T_5ce718dc_a0ad_11ea_90a8_1d86c4c7e225row0_col2\" class=\"data row0 col2\" >0.734868</td>\n",
       "                        <td id=\"T_5ce718dc_a0ad_11ea_90a8_1d86c4c7e225row0_col3\" class=\"data row0 col3\" >607.000000</td>\n",
       "            </tr>\n",
       "            <tr>\n",
       "                        <th id=\"T_5ce718dc_a0ad_11ea_90a8_1d86c4c7e225level0_row1\" class=\"row_heading level0 row1\" >1</th>\n",
       "                        <td id=\"T_5ce718dc_a0ad_11ea_90a8_1d86c4c7e225row1_col0\" class=\"data row1 col0\" >0.821862</td>\n",
       "                        <td id=\"T_5ce718dc_a0ad_11ea_90a8_1d86c4c7e225row1_col1\" class=\"data row1 col1\" >0.857445</td>\n",
       "                        <td id=\"T_5ce718dc_a0ad_11ea_90a8_1d86c4c7e225row1_col2\" class=\"data row1 col2\" >0.839276</td>\n",
       "                        <td id=\"T_5ce718dc_a0ad_11ea_90a8_1d86c4c7e225row1_col3\" class=\"data row1 col3\" >947.000000</td>\n",
       "            </tr>\n",
       "            <tr>\n",
       "                        <th id=\"T_5ce718dc_a0ad_11ea_90a8_1d86c4c7e225level0_row2\" class=\"row_heading level0 row2\" >accuracy</th>\n",
       "                        <td id=\"T_5ce718dc_a0ad_11ea_90a8_1d86c4c7e225row2_col0\" class=\"data row2 col0\" >0.799871</td>\n",
       "                        <td id=\"T_5ce718dc_a0ad_11ea_90a8_1d86c4c7e225row2_col1\" class=\"data row2 col1\" >0.799871</td>\n",
       "                        <td id=\"T_5ce718dc_a0ad_11ea_90a8_1d86c4c7e225row2_col2\" class=\"data row2 col2\" >0.799871</td>\n",
       "                        <td id=\"T_5ce718dc_a0ad_11ea_90a8_1d86c4c7e225row2_col3\" class=\"data row2 col3\" >0.799871</td>\n",
       "            </tr>\n",
       "            <tr>\n",
       "                        <th id=\"T_5ce718dc_a0ad_11ea_90a8_1d86c4c7e225level0_row3\" class=\"row_heading level0 row3\" >macro avg</th>\n",
       "                        <td id=\"T_5ce718dc_a0ad_11ea_90a8_1d86c4c7e225row3_col0\" class=\"data row3 col0\" >0.791673</td>\n",
       "                        <td id=\"T_5ce718dc_a0ad_11ea_90a8_1d86c4c7e225row3_col1\" class=\"data row3 col1\" >0.783747</td>\n",
       "                        <td id=\"T_5ce718dc_a0ad_11ea_90a8_1d86c4c7e225row3_col2\" class=\"data row3 col2\" >0.787072</td>\n",
       "                        <td id=\"T_5ce718dc_a0ad_11ea_90a8_1d86c4c7e225row3_col3\" class=\"data row3 col3\" >1554.000000</td>\n",
       "            </tr>\n",
       "            <tr>\n",
       "                        <th id=\"T_5ce718dc_a0ad_11ea_90a8_1d86c4c7e225level0_row4\" class=\"row_heading level0 row4\" >weighted avg</th>\n",
       "                        <td id=\"T_5ce718dc_a0ad_11ea_90a8_1d86c4c7e225row4_col0\" class=\"data row4 col0\" >0.798278</td>\n",
       "                        <td id=\"T_5ce718dc_a0ad_11ea_90a8_1d86c4c7e225row4_col1\" class=\"data row4 col1\" >0.799871</td>\n",
       "                        <td id=\"T_5ce718dc_a0ad_11ea_90a8_1d86c4c7e225row4_col2\" class=\"data row4 col2\" >0.798494</td>\n",
       "                        <td id=\"T_5ce718dc_a0ad_11ea_90a8_1d86c4c7e225row4_col3\" class=\"data row4 col3\" >1554.000000</td>\n",
       "            </tr>\n",
       "    </tbody></table><style  type=\"text/css\" >\n",
       "</style><table id=\"T_5ce74bae_a0ad_11ea_90a8_1d86c4c7e225\" style='display:inline'><caption>Old Test Confusion Matrix</caption><thead>    <tr>        <th class=\"blank level0\" ></th>        <th class=\"col_heading level0 col0\" >0</th>        <th class=\"col_heading level0 col1\" >1</th>    </tr></thead><tbody>\n",
       "                <tr>\n",
       "                        <th id=\"T_5ce74bae_a0ad_11ea_90a8_1d86c4c7e225level0_row0\" class=\"row_heading level0 row0\" >0</th>\n",
       "                        <td id=\"T_5ce74bae_a0ad_11ea_90a8_1d86c4c7e225row0_col0\" class=\"data row0 col0\" >408</td>\n",
       "                        <td id=\"T_5ce74bae_a0ad_11ea_90a8_1d86c4c7e225row0_col1\" class=\"data row0 col1\" >199</td>\n",
       "            </tr>\n",
       "            <tr>\n",
       "                        <th id=\"T_5ce74bae_a0ad_11ea_90a8_1d86c4c7e225level0_row1\" class=\"row_heading level0 row1\" >1</th>\n",
       "                        <td id=\"T_5ce74bae_a0ad_11ea_90a8_1d86c4c7e225row1_col0\" class=\"data row1 col0\" >117</td>\n",
       "                        <td id=\"T_5ce74bae_a0ad_11ea_90a8_1d86c4c7e225row1_col1\" class=\"data row1 col1\" >830</td>\n",
       "            </tr>\n",
       "    </tbody></table><style  type=\"text/css\" >\n",
       "</style><table id=\"T_5ce759aa_a0ad_11ea_90a8_1d86c4c7e225\" style='display:inline'><caption>New Test Confusion Matrix</caption><thead>    <tr>        <th class=\"blank level0\" ></th>        <th class=\"col_heading level0 col0\" >0</th>        <th class=\"col_heading level0 col1\" >1</th>    </tr></thead><tbody>\n",
       "                <tr>\n",
       "                        <th id=\"T_5ce759aa_a0ad_11ea_90a8_1d86c4c7e225level0_row0\" class=\"row_heading level0 row0\" >0</th>\n",
       "                        <td id=\"T_5ce759aa_a0ad_11ea_90a8_1d86c4c7e225row0_col0\" class=\"data row0 col0\" >431</td>\n",
       "                        <td id=\"T_5ce759aa_a0ad_11ea_90a8_1d86c4c7e225row0_col1\" class=\"data row0 col1\" >176</td>\n",
       "            </tr>\n",
       "            <tr>\n",
       "                        <th id=\"T_5ce759aa_a0ad_11ea_90a8_1d86c4c7e225level0_row1\" class=\"row_heading level0 row1\" >1</th>\n",
       "                        <td id=\"T_5ce759aa_a0ad_11ea_90a8_1d86c4c7e225row1_col0\" class=\"data row1 col0\" >135</td>\n",
       "                        <td id=\"T_5ce759aa_a0ad_11ea_90a8_1d86c4c7e225row1_col1\" class=\"data row1 col1\" >812</td>\n",
       "            </tr>\n",
       "    </tbody></table>"
      ]
     },
     "metadata": {},
     "output_type": "display_data"
    }
   ],
   "source": [
    "# display classification report and confusion matrix for test model\n",
    "df1_styler = cr_test_df.style.set_table_attributes(\"style='display:inline'\").set_caption('Old Test Classification Report')\n",
    "df2_styler = cr_test_df_new.style.set_table_attributes(\"style='display:inline'\").set_caption('New Test Classification Report')\n",
    "df3_styler = cm_test_df.style.set_table_attributes(\"style='display:inline'\").set_caption('Old Test Confusion Matrix')\n",
    "df4_styler = cm_test_df_new.style.set_table_attributes(\"style='display:inline'\").set_caption('New Test Confusion Matrix')\n",
    "\n",
    "display_html(df1_styler._repr_html_() + df2_styler._repr_html_() + df3_styler._repr_html_() \n",
    "             + df4_styler._repr_html_(), raw=True)"
   ]
  },
  {
   "cell_type": "markdown",
   "metadata": {},
   "source": [
    "The new model correctly classified a larger percentage of actual rotten movies than the default model did.<br>\n",
    "Although, it did not do the same when classifying actual fresh movies.<br>\n",
    "Also, the new model had a larger percentage of the movies it classified as fresh that were actually freah movies than the default model did.<br>\n",
    "The opposite was true about the movies that it classified as rotten."
   ]
  },
  {
   "cell_type": "markdown",
   "metadata": {},
   "source": [
    "Looking at the F1 scores, the both models are better classifiers of fresh movies than they are of rotten movies."
   ]
  },
  {
   "cell_type": "code",
   "execution_count": 77,
   "metadata": {},
   "outputs": [
    {
     "data": {
      "text/plain": [
       "'Old Model Training Accuracy: 0.9160228898426324, New Model Training Accuracy: 0.8934191702432046'"
      ]
     },
     "execution_count": 77,
     "metadata": {},
     "output_type": "execute_result"
    }
   ],
   "source": [
    "old_train_accuracy = cr_train_df['support']['accuracy']\n",
    "new_train_accuracy = cr_train_df_new['support']['accuracy']\n",
    "f'Old Model Training Accuracy: {old_train_accuracy}, New Model Training Accuracy: {new_train_accuracy}'"
   ]
  },
  {
   "cell_type": "code",
   "execution_count": 78,
   "metadata": {},
   "outputs": [
    {
     "data": {
      "text/plain": [
       "'Old Model Testing Accuracy: 0.7966537966537967, New Model Testing Accuracy: 0.7998712998712999'"
      ]
     },
     "execution_count": 78,
     "metadata": {},
     "output_type": "execute_result"
    }
   ],
   "source": [
    "old_test_accuracy = cr_test_df['support']['accuracy']\n",
    "new_test_accuracy = cr_test_df_new['support']['accuracy']\n",
    "f'Old Model Testing Accuracy: {old_test_accuracy}, New Model Testing Accuracy: {new_test_accuracy}'"
   ]
  },
  {
   "cell_type": "code",
   "execution_count": 79,
   "metadata": {},
   "outputs": [
    {
     "data": {
      "text/plain": [
       "True"
      ]
     },
     "execution_count": 79,
     "metadata": {},
     "output_type": "execute_result"
    }
   ],
   "source": [
    "# check if difference between scores of training and test predictions decreased\n",
    "(new_train_accuracy - new_test_accuracy) < (old_train_accuracy - old_test_accuracy)"
   ]
  },
  {
   "cell_type": "markdown",
   "metadata": {},
   "source": [
    "The gap in accuracy between training and test predictions has narrowed."
   ]
  },
  {
   "cell_type": "code",
   "execution_count": 80,
   "metadata": {},
   "outputs": [
    {
     "data": {
      "image/png": "[encoded data removed]",
      "text/plain": [
       "<Figure size 1008x360 with 1 Axes>"
      ]
     },
     "metadata": {},
     "output_type": "display_data"
    }
   ],
   "source": [
    "# plot ROC curves\n",
    "\n",
    "ax = sns.lineplot(fpr_train, tpr_train, color=mp.colors(4), label='Old Training Model')\n",
    "ax = sns.lineplot(fpr_train_new, tpr_train_new, color=mp.colors(2), label='New Training Model')\n",
    "ax = sns.lineplot(fpr_test_new, tpr_test_new, color=mp.colors(1), label='New Test Model')\n",
    "ax = sns.lineplot(fpr_test, tpr_test, color=mp.colors(5), label='Old Test Model')\n",
    "\n",
    "plt.xlabel('False Positive Rate')\n",
    "plt.ylabel('True Positive Rate')\n",
    "\n",
    "plt.legend()\n",
    "plt.title('ROC Curves');"
   ]
  },
  {
   "cell_type": "code",
   "execution_count": 81,
   "metadata": {},
   "outputs": [
    {
     "data": {
      "text/plain": [
       "'Old Training Model ROC AUC Score: 0.9062240878185917, New Training Model ROC AUC Score: 0.8869806872043651'"
      ]
     },
     "execution_count": 81,
     "metadata": {},
     "output_type": "execute_result"
    }
   ],
   "source": [
    "f'Old Training Model ROC AUC Score: {roc_score_train}, New Training Model ROC AUC Score: {roc_score_train_new}'"
   ]
  },
  {
   "cell_type": "code",
   "execution_count": 82,
   "metadata": {},
   "outputs": [
    {
     "data": {
      "text/plain": [
       "'Old Test Model ROC AUC Score: 0.774305054198727, New Test Model ROC AUC Score: 0.7837469925838816'"
      ]
     },
     "execution_count": 82,
     "metadata": {},
     "output_type": "execute_result"
    }
   ],
   "source": [
    "f'Old Test Model ROC AUC Score: {roc_score_test}, New Test Model ROC AUC Score: {roc_score_test_new}'"
   ]
  },
  {
   "cell_type": "markdown",
   "metadata": {},
   "source": [
    "As can be clearly seen in the ROC plot, the gap has narrowed between the performances on the training and test sets.<br>\n",
    "The new model is overfitting less on the training data and is a better predictor than the default model."
   ]
  },
  {
   "cell_type": "markdown",
   "metadata": {},
   "source": [
    "## Interpretation"
   ]
  },
  {
   "cell_type": "markdown",
   "metadata": {},
   "source": [
    "### What are the strongly predictive features?\n",
    "\n",
    "We use a neat trick to identify strongly predictive features (i.e. words). \n",
    "\n",
    "* first, create a data set such that each row has exactly one feature. This is represented by the identity matrix.\n",
    "* use the trained classifier to make predictions on this matrix\n",
    "* sort the rows by predicted probabilities, and pick the top and bottom $K$ rows"
   ]
  },
  {
   "cell_type": "code",
   "execution_count": 83,
   "metadata": {},
   "outputs": [
    {
     "name": "stdout",
     "output_type": "stream",
     "text": [
      "Good words\t     P(fresh | word)\n",
      "          delicately 0.98\n",
      "           absorbing 0.97\n",
      "            captures 0.97\n",
      "              torrid 0.97\n",
      "        intertwining 0.96\n",
      "                 rot 0.96\n",
      "          mysterious 0.96\n",
      "                seat 0.96\n",
      "           childhood 0.96\n",
      "        experiencing 0.95\n",
      "Bad words\t     P(fresh | word)\n",
      "           trademark 0.08\n",
      "       unpretentious 0.07\n",
      "            unflashy 0.07\n",
      "                wish 0.06\n",
      "            ignorant 0.06\n",
      "               dirty 0.06\n",
      "               bland 0.05\n",
      "          poetically 0.04\n",
      "             unhappy 0.04\n",
      "                laff 0.03\n"
     ]
    }
   ],
   "source": [
    "words = np.array(vectorizer.get_feature_names())\n",
    "\n",
    "x = np.eye(xtest.shape[1])\n",
    "probs = clf.predict_log_proba(x)[:, 0]\n",
    "ind = np.argsort(probs)\n",
    "\n",
    "good_words = words[ind[:10]]\n",
    "bad_words = words[ind[-10:]]\n",
    "\n",
    "good_prob = probs[ind[:10]]\n",
    "bad_prob = probs[ind[-10:]]\n",
    "\n",
    "print(\"Good words\\t     P(fresh | word)\")\n",
    "for w, p in zip(good_words, good_prob):\n",
    "    print(\"{:>20}\".format(w), \"{:.2f}\".format(1 - np.exp(p)))\n",
    "    \n",
    "print(\"Bad words\\t     P(fresh | word)\")\n",
    "for w, p in zip(bad_words, bad_prob):\n",
    "    print(\"{:>20}\".format(w), \"{:.2f}\".format(1 - np.exp(p)))"
   ]
  },
  {
   "cell_type": "markdown",
   "metadata": {},
   "source": [
    "<div class=\"span5 alert alert-info\">\n",
    "<h3>Exercise Set VI</h3>\n",
    "\n",
    "<p><b>Exercise:</b> Why does this method work? What does the probability for each row in the identity matrix represent</p>\n",
    "\n",
    "</div>"
   ]
  },
  {
   "cell_type": "markdown",
   "metadata": {},
   "source": [
    "The classifier is predicting the target class of a word by treating each word as the only one in a test document.<br>\n",
    "This results in assigning a class to each word based on the probability that it is associated with the positive target class. "
   ]
  },
  {
   "cell_type": "markdown",
   "metadata": {},
   "source": [
    "The above exercise is an example of *feature selection*. There are many other feature selection methods. A list of feature selection methods available in `sklearn` is [here](http://scikit-learn.org/stable/modules/classes.html#module-sklearn.feature_selection). The most common feature selection technique for text mining is the chi-squared $\\left( \\chi^2 \\right)$ [method](http://nlp.stanford.edu/IR-book/html/htmledition/feature-selectionchi2-feature-selection-1.html)."
   ]
  },
  {
   "cell_type": "markdown",
   "metadata": {},
   "source": [
    "### Prediction Errors\n",
    "\n",
    "We can see mis-predictions as well."
   ]
  },
  {
   "cell_type": "markdown",
   "metadata": {},
   "source": [
    "I am leaving this preloaded code below, but need to add some cells to ensure the notebook runs through."
   ]
  },
  {
   "cell_type": "code",
   "execution_count": 84,
   "metadata": {},
   "outputs": [],
   "source": [
    "# reset mask back to preloaded data\n",
    "_, itest = train_test_split(range(critics.shape[0]), train_size=0.7)\n",
    "mask = np.zeros(critics.shape[0], dtype=np.bool)\n",
    "mask[itest] = True"
   ]
  },
  {
   "cell_type": "code",
   "execution_count": 85,
   "metadata": {},
   "outputs": [],
   "source": [
    "# retrain model on preloaded data\n",
    "vectorizer = CountVectorizer(min_df=best_min_df)\n",
    "X, y = make_xy(critics, vectorizer)\n",
    "xtrain=X[mask]\n",
    "ytrain=y[mask]\n",
    "xtest=X[~mask]\n",
    "ytest=y[~mask]\n",
    "\n",
    "clf = MultinomialNB(alpha=best_alpha).fit(xtrain, ytrain)"
   ]
  },
  {
   "cell_type": "code",
   "execution_count": 86,
   "metadata": {},
   "outputs": [
    {
     "name": "stdout",
     "output_type": "stream",
     "text": [
      "Mis-predicted Rotten quotes\n",
      "---------------------------\n",
      "What if this lesser-known chapter of German resistance had been more deeply captured? What if the moral conflicts running through this movie about love of country and revolt said more about Germany, war and, yes, genocide?\n",
      "\n",
      "An ambitious, serious but not particularly stimulating musical feature that unconvincingly attempts to graft warm and cuddly family-film motifs onto turbulent aspects of modern history and mythology.\n",
      "\n",
      "Highly stylized fashion-wise but awkwardly unfocused in its plotlines, it aims for the western iconography of Sam Peckinpah and Sergio Leone but never gets past its own directorial hurdles.\n",
      "\n",
      "Benefits from a lively lead performance by the miscast Denzel Washington but doesn't come within light years of the book, one of the greatest American autobiographies.\n",
      "\n",
      "Night Watch was one of the most popular movies ever released in Russia. That just proves there's no accounting for taste, in film or in human sacrifice.\n",
      "\n",
      "Mis-predicted Fresh quotes\n",
      "--------------------------\n",
      "The repetitive plot is essentially a string of excuses for fantastical combat sequences, but somehow several characters' insistence that violence is bad doesn't come off as hypocritical.\n",
      "\n",
      "Certain, probably arrested, personalities (like mine) just find this kind of sh*t pretty funny and any attempt to talk your way around that is, as Cartman would say, blowing bubbles out your *ss.\n",
      "\n",
      "Desert Wind will be of interest to men -- and especially to women, who might learn much they didn't know about the opposite sex.\n",
      "\n",
      "Although it doesn't have Kate Beckinsale, her guns ablazin', vamped out in the latest vampire-slaying couture, Night Watch is vastly more fun than the similar-themed Underworld pics.\n",
      "\n",
      "Considering the recent screen standards in book musicals with five numbers for 100 to 110 minutes of running time this Metro Santaclausing of numbers becomes virtually a double-feature filmusical.\n",
      "\n"
     ]
    }
   ],
   "source": [
    "x, y = make_xy(critics, vectorizer)\n",
    "\n",
    "prob = clf.predict_proba(x)[:, 0]\n",
    "predict = clf.predict(x)\n",
    "\n",
    "bad_rotten = np.argsort(prob[y == 0])[:5]\n",
    "bad_fresh = np.argsort(prob[y == 1])[-5:]\n",
    "\n",
    "print(\"Mis-predicted Rotten quotes\")\n",
    "print('---------------------------')\n",
    "for row in bad_rotten:\n",
    "    print(critics[y == 0].quote.iloc[row])\n",
    "    print(\"\")\n",
    "\n",
    "print(\"Mis-predicted Fresh quotes\")\n",
    "print('--------------------------')\n",
    "for row in bad_fresh:\n",
    "    print(critics[y == 1].quote.iloc[row])\n",
    "    print(\"\")"
   ]
  },
  {
   "cell_type": "markdown",
   "metadata": {},
   "source": [
    "Now, I will use my data and functions to see what output they produce."
   ]
  },
  {
   "cell_type": "code",
   "execution_count": 87,
   "metadata": {},
   "outputs": [],
   "source": [
    "# reset mask back to my data\n",
    "_, itest = train_test_split(range(my_df.shape[0]), train_size=0.9, random_state=27)\n",
    "mask = np.zeros(my_df.shape[0], dtype=np.bool)\n",
    "mask[itest] = True"
   ]
  },
  {
   "cell_type": "code",
   "execution_count": 88,
   "metadata": {},
   "outputs": [],
   "source": [
    "# retrain model on my data\n",
    "X, y, _ = my_make_xy(my_df, min_df=2)\n",
    "xtrain = X[~mask]\n",
    "ytrain = y[~mask]\n",
    "xtest = X[mask]\n",
    "ytest = y[mask]\n",
    "\n",
    "clf = MultinomialNB(alpha=best_alpha).fit(xtrain, ytrain)"
   ]
  },
  {
   "cell_type": "code",
   "execution_count": 89,
   "metadata": {},
   "outputs": [
    {
     "name": "stdout",
     "output_type": "stream",
     "text": [
      "Mis-predicted Rotten quotes\n",
      "---------------------------\n",
      "This pacifist spirit of brotherhood echoes the heroics in Princess Mononoke and other anime titles, but the artistic gap between the Miyazaki masterpiece and this project is huge.\n",
      "\n",
      "Malkovich does such wonderfully unexpected things, especially with his line readings, that he leaves us dumbfounded. No other performer is more effortlessly unnerving than this perversely gifted actor.\n",
      "\n",
      "If it's to be experienced at all, Return to Paradise is best seen as a lively piece of pulp, not a profound exploration of the vagaries of the human soul.\n",
      "\n",
      "All of this would work better if Robinson built up the reality of the town more, made the citizens a more palpable presence, as Frank Capra did in Hollywood's greatest fable-fantasy, It's a Wonderful Life.\n",
      "\n",
      "Handsome, but curiously cold, considering the emotional heat of Anglo-Irish matters. Fortunately, Liam Neeson commands almost every frame.\n",
      "\n",
      "Mis-predicted Fresh quotes\n",
      "--------------------------\n",
      "The gangland plot is flimsy (bad guy Peter Greene wears too much eyeliner), and the jokes are erratic, but it's a far better showcase for Carrey's comic-from-Uranus talent than Ace Ventura.\n",
      "\n",
      "Certain, probably arrested, personalities (like mine) just find this kind of sh*t pretty funny and any attempt to talk your way around that is, as Cartman would say, blowing bubbles out your *ss.\n",
      "\n",
      "Some of the gags don't work, but fewer than in any previous Brooks film that I've seen, and when the jokes are meant to be bad, they are riotously poor. What more can one ask of Mel Brooks?\n",
      "\n",
      "There are occasional flashes that the film may be patronizing the lower end of the blue-collar mentality, as much if not more than the characters who keep putting Rocky down on the screen. However, Avildsen is noted for creating such ambiguities.\n",
      "\n",
      "Mr. Raimi is limited by a sketch mentality, which means his jokes tend to be over long before his films end. But his tastes for visual mischief and crazy, ill-advised homage can still make for sly, sporadic fun.\n",
      "\n"
     ]
    }
   ],
   "source": [
    "# get wrong predictions from my data\n",
    "x, y, _ = my_make_xy(my_df, min_df=2)\n",
    "\n",
    "prob = clf.predict_proba(x)[:, 0]\n",
    "predict = clf.predict(x)\n",
    "\n",
    "bad_rotten = np.argsort(prob[y == 0])[:5]\n",
    "bad_fresh = np.argsort(prob[y == 1])[-5:]\n",
    "\n",
    "print(\"Mis-predicted Rotten quotes\")\n",
    "print('---------------------------')\n",
    "for row in bad_rotten:\n",
    "    print(my_df[y == 0]['quote'].iloc[row])\n",
    "    print(\"\")\n",
    "\n",
    "print(\"Mis-predicted Fresh quotes\")\n",
    "print('--------------------------')\n",
    "for row in bad_fresh:\n",
    "    print(my_df[y == 1]['quote'].iloc[row])\n",
    "    print(\"\")"
   ]
  },
  {
   "cell_type": "code",
   "execution_count": 90,
   "metadata": {},
   "outputs": [
    {
     "data": {
      "text/html": [
       "<div>\n",
       "<style scoped>\n",
       "    .dataframe tbody tr th:only-of-type {\n",
       "        vertical-align: middle;\n",
       "    }\n",
       "\n",
       "    .dataframe tbody tr th {\n",
       "        vertical-align: top;\n",
       "    }\n",
       "\n",
       "    .dataframe thead th {\n",
       "        text-align: right;\n",
       "    }\n",
       "</style>\n",
       "<table border=\"1\" class=\"dataframe\">\n",
       "  <thead>\n",
       "    <tr style=\"text-align: right;\">\n",
       "      <th></th>\n",
       "      <th>index</th>\n",
       "      <th>quote</th>\n",
       "      <th>fresh</th>\n",
       "    </tr>\n",
       "  </thead>\n",
       "  <tbody>\n",
       "    <tr>\n",
       "      <th>2634</th>\n",
       "      <td>4809</td>\n",
       "      <td>Malkovich does such wonderfully unexpected thi...</td>\n",
       "      <td>rotten</td>\n",
       "    </tr>\n",
       "  </tbody>\n",
       "</table>\n",
       "</div>"
      ],
      "text/plain": [
       "      index                                              quote   fresh\n",
       "2634   4809  Malkovich does such wonderfully unexpected thi...  rotten"
      ]
     },
     "execution_count": 90,
     "metadata": {},
     "output_type": "execute_result"
    }
   ],
   "source": [
    "# observe missed rotten quote\n",
    "my_df[my_df['quote'] == \n",
    "      'Malkovich does such wonderfully unexpected things, especially with his line readings, that he leaves us dumbfounded. No other performer is more effortlessly unnerving than this perversely gifted actor.']"
   ]
  },
  {
   "cell_type": "markdown",
   "metadata": {},
   "source": [
    "I am not surprised that this one was missed.<br>\n",
    "There is nothing in this quote that would suggest a negative recommendation."
   ]
  },
  {
   "cell_type": "code",
   "execution_count": 91,
   "metadata": {},
   "outputs": [
    {
     "data": {
      "text/html": [
       "<div>\n",
       "<style scoped>\n",
       "    .dataframe tbody tr th:only-of-type {\n",
       "        vertical-align: middle;\n",
       "    }\n",
       "\n",
       "    .dataframe tbody tr th {\n",
       "        vertical-align: top;\n",
       "    }\n",
       "\n",
       "    .dataframe thead th {\n",
       "        text-align: right;\n",
       "    }\n",
       "</style>\n",
       "<table border=\"1\" class=\"dataframe\">\n",
       "  <thead>\n",
       "    <tr style=\"text-align: right;\">\n",
       "      <th></th>\n",
       "      <th>index</th>\n",
       "      <th>quote</th>\n",
       "      <th>fresh</th>\n",
       "    </tr>\n",
       "  </thead>\n",
       "  <tbody>\n",
       "    <tr>\n",
       "      <th>6166</th>\n",
       "      <td>10633</td>\n",
       "      <td>Some of the gags don't work, but fewer than in...</td>\n",
       "      <td>fresh</td>\n",
       "    </tr>\n",
       "  </tbody>\n",
       "</table>\n",
       "</div>"
      ],
      "text/plain": [
       "      index                                              quote  fresh\n",
       "6166  10633  Some of the gags don't work, but fewer than in...  fresh"
      ]
     },
     "execution_count": 91,
     "metadata": {},
     "output_type": "execute_result"
    }
   ],
   "source": [
    "# observe missed fresh quote\n",
    "my_df[my_df['quote'] == \n",
    "      \"Some of the gags don't work, but fewer than in any previous Brooks film that I've seen, and when the jokes are meant to be bad, they are riotously poor. What more can one ask of Mel Brooks?\"]"
   ]
  },
  {
   "cell_type": "markdown",
   "metadata": {},
   "source": [
    "This is an example of a positive recommendation based on a comparison to other movies made by the same person, instead of to movies in general.<br>\n",
    "It is not surprising that most of the missed positive recommendations were on reviews with this subjective view."
   ]
  },
  {
   "cell_type": "markdown",
   "metadata": {},
   "source": [
    "<div class=\"span5 alert alert-info\">\n",
    "<h3>Exercise Set VII: Predicting the Freshness for a New Review</h3>\n",
    "<br/>\n",
    "<div>\n",
    "<b>Exercise:</b>\n",
    "<ul>\n",
    "<li> Using your best trained classifier, predict the freshness of the following sentence: *'This movie is not remarkable, touching, or superb in any way'*\n",
    "<li> Is the result what you'd expect? Why (not)?\n",
    "</ul>\n",
    "</div>\n",
    "</div>"
   ]
  },
  {
   "cell_type": "code",
   "execution_count": 92,
   "metadata": {},
   "outputs": [],
   "source": [
    "#your turn"
   ]
  },
  {
   "cell_type": "code",
   "execution_count": 93,
   "metadata": {},
   "outputs": [],
   "source": [
    "# retrain model on my data\n",
    "X, y, vectorizer = my_make_xy(my_df, min_df=2)\n",
    "xtrain = X[~mask]\n",
    "ytrain = y[~mask]\n",
    "xtest = X[mask]\n",
    "ytest = y[mask]\n",
    "\n",
    "clf = MultinomialNB(alpha=best_alpha).fit(xtrain, ytrain)"
   ]
  },
  {
   "cell_type": "code",
   "execution_count": 94,
   "metadata": {},
   "outputs": [],
   "source": [
    "# set new test data\n",
    "holdout_doc = ['This movie is not remarkable, touching, or superb in any way']"
   ]
  },
  {
   "cell_type": "code",
   "execution_count": 95,
   "metadata": {},
   "outputs": [],
   "source": [
    "# convert new data to sparze matrix\n",
    "holdout_matrix = vectorizer.transform(holdout_doc)"
   ]
  },
  {
   "cell_type": "code",
   "execution_count": 96,
   "metadata": {
    "scrolled": true
   },
   "outputs": [
    {
     "data": {
      "text/plain": [
       "'The predicted class is fresh.'"
      ]
     },
     "execution_count": 96,
     "metadata": {},
     "output_type": "execute_result"
    }
   ],
   "source": [
    "# predict class\n",
    "f'The predicted class is fresh.'if clf.predict(holdout_matrix)[0] == 1 else f'The predicted class is rotten.'"
   ]
  },
  {
   "cell_type": "markdown",
   "metadata": {},
   "source": [
    "This is what I expected.<br>\n",
    "The classifier is not trained to consider word contexts such as sentence negations."
   ]
  },
  {
   "cell_type": "markdown",
   "metadata": {},
   "source": [
    "### Aside: TF-IDF Weighting for Term Importance\n",
    "\n",
    "TF-IDF stands for \n",
    "\n",
    "`Term-Frequency X Inverse Document Frequency`.\n",
    "\n",
    "In the standard `CountVectorizer` model above, we used just the term frequency in a document of words in our vocabulary. In TF-IDF, we weight this term frequency by the inverse of its popularity in all documents. For example, if the word \"movie\" showed up in all the documents, it would not have much predictive value. It could actually be considered a stopword. By weighing its counts by 1 divided by its overall frequency, we downweight it. We can then use this TF-IDF weighted features as inputs to any classifier. **TF-IDF is essentially a measure of term importance, and of how discriminative a word is in a corpus.** There are a variety of nuances involved in computing TF-IDF, mainly involving where to add the smoothing term to avoid division by 0, or log of 0 errors. The formula for TF-IDF in `scikit-learn` differs from that of most textbooks: \n",
    "\n",
    "$$\\mbox{TF-IDF}(t, d) = \\mbox{TF}(t, d)\\times \\mbox{IDF}(t) = n_{td} \\log{\\left( \\frac{\\vert D \\vert}{\\vert d : t \\in d \\vert} + 1 \\right)}$$\n",
    "\n",
    "where $n_{td}$ is the number of times term $t$ occurs in document $d$, $\\vert D \\vert$ is the number of documents, and $\\vert d : t \\in d \\vert$ is the number of documents that contain $t$"
   ]
  },
  {
   "cell_type": "code",
   "execution_count": 97,
   "metadata": {},
   "outputs": [],
   "source": [
    "# http://scikit-learn.org/dev/modules/feature_extraction.html#text-feature-extraction\n",
    "# http://scikit-learn.org/dev/modules/classes.html#text-feature-extraction-ref\n",
    "from sklearn.feature_extraction.text import TfidfVectorizer\n",
    "tfidfvectorizer = TfidfVectorizer(min_df=1, stop_words='english')\n",
    "Xtfidf=tfidfvectorizer.fit_transform(critics.quote)"
   ]
  },
  {
   "cell_type": "markdown",
   "metadata": {},
   "source": [
    "<div class=\"span5 alert alert-info\">\n",
    "<h3>Exercise Set VIII: Enrichment <b>(Optional)</b></h3>\n",
    "\n",
    "<p>\n",
    "There are several additional things we could try. Try some of these as exercises:\n",
    "<ol>\n",
    "<li> Build a Naive Bayes model where the features are n-grams instead of words. N-grams are phrases containing n words next to each other: a bigram contains 2 words, a trigram contains 3 words, and 6-gram contains 6 words. This is useful because \"not good\" and \"so good\" mean very different things. On the other hand, as n increases, the model does not scale well since the feature set becomes more sparse.\n",
    "<li> Try a model besides Naive Bayes, one that would allow for interactions between words -- for example, a Random Forest classifier.\n",
    "<li> Try adding supplemental features -- information about genre, director, cast, etc.\n",
    "<li> Use word2vec or [Latent Dirichlet Allocation](https://en.wikipedia.org/wiki/Latent_Dirichlet_allocation) to group words into topics and use those topics for prediction.\n",
    "<li> Use TF-IDF weighting instead of word counts.\n",
    "</ol>\n",
    "</p>\n",
    "\n",
    "<b>Exercise:</b> Try at least one of these ideas to improve the model (or any other ideas of your own). Implement here and report on the result. \n",
    "</div>"
   ]
  },
  {
   "cell_type": "code",
   "execution_count": 98,
   "metadata": {},
   "outputs": [],
   "source": [
    "# Your turn"
   ]
  }
 ],
 "metadata": {
  "kernelspec": {
   "display_name": "Python 3",
   "language": "python",
   "name": "python3"
  },
  "language_info": {
   "codemirror_mode": {
    "name": "ipython",
    "version": 3
   },
   "file_extension": ".py",
   "mimetype": "text/x-python",
   "name": "python",
   "nbconvert_exporter": "python",
   "pygments_lexer": "ipython3",
   "version": "3.7.7"
  }
 },
 "nbformat": 4,
 "nbformat_minor": 1
}
