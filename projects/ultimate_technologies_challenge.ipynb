{
 "cells": [
  {
   "cell_type": "code",
   "execution_count": 1,
   "metadata": {},
   "outputs": [
    {
     "data": {
      "text/html": [
       "<style>.container { width: 930px !important; }</style>"
      ],
      "text/plain": [
       "<IPython.core.display.HTML object>"
      ]
     },
     "metadata": {},
     "output_type": "display_data"
    }
   ],
   "source": [
    "# set cell display width\n",
    "from IPython.display import display, HTML\n",
    "display(HTML('<style>.container { width: 930px !important; }</style>'))"
   ]
  },
  {
   "cell_type": "code",
   "execution_count": 2,
   "metadata": {},
   "outputs": [],
   "source": [
    "# import ML tools\n",
    "import pandas as pd\n",
    "import numpy as np\n",
    "import datetime\n",
    "from pandas.api.types import CategoricalDtype\n",
    "import xgboost as xgb\n",
    "from sklearn.model_selection import train_test_split, cross_val_score\n",
    "from sklearn.metrics import (\n",
    "    classification_report, confusion_matrix, roc_auc_score, roc_curve)"
   ]
  },
  {
   "cell_type": "code",
   "execution_count": 3,
   "metadata": {},
   "outputs": [],
   "source": [
    "# import plotting tools\n",
    "import matplotlib.pyplot as plt\n",
    "import matplotlib.dates as mdates\n",
    "import seaborn as sns\n",
    "from IPython.core.pylabtools import figsize\n",
    "from IPython.display import display_html\n",
    "# set grid size and style\n",
    "figsize(12, 4)\n",
    "sns.set_style('whitegrid')"
   ]
  },
  {
   "cell_type": "code",
   "execution_count": 4,
   "metadata": {},
   "outputs": [
    {
     "name": "stdout",
     "output_type": "stream",
     "text": [
      "Use \"mp.colors(<index>)\" as color attribute for Seaborn plots.\n",
      "This is your color palette...\n"
     ]
    },
    {
     "data": {
      "image/png": "[encoded data removed]",
      "text/plain": [
       "<Figure size 504x72 with 1 Axes>"
      ]
     },
     "metadata": {},
     "output_type": "display_data"
    }
   ],
   "source": [
    "# import custom palette\n",
    "from custom_modules import my_palette as mp"
   ]
  },
  {
   "cell_type": "markdown",
   "metadata": {},
   "source": [
    "> **PART 1: EXPLORATORY DATA ANALYSIS**"
   ]
  },
  {
   "cell_type": "code",
   "execution_count": 5,
   "metadata": {},
   "outputs": [],
   "source": [
    "# read in first dataset\n",
    "logins_df = pd.read_json('logins.json')"
   ]
  },
  {
   "cell_type": "code",
   "execution_count": 6,
   "metadata": {},
   "outputs": [
    {
     "data": {
      "text/plain": [
       "(93142, 1)"
      ]
     },
     "execution_count": 6,
     "metadata": {},
     "output_type": "execute_result"
    }
   ],
   "source": [
    "# observe dimensionality of dataset\n",
    "logins_df.shape"
   ]
  },
  {
   "cell_type": "markdown",
   "metadata": {},
   "source": [
    "This dataset has many observations of one feature."
   ]
  },
  {
   "cell_type": "code",
   "execution_count": 7,
   "metadata": {},
   "outputs": [
    {
     "name": "stdout",
     "output_type": "stream",
     "text": [
      "<class 'pandas.core.frame.DataFrame'>\n",
      "RangeIndex: 93142 entries, 0 to 93141\n",
      "Data columns (total 1 columns):\n",
      " #   Column      Non-Null Count  Dtype         \n",
      "---  ------      --------------  -----         \n",
      " 0   login_time  93142 non-null  datetime64[ns]\n",
      "dtypes: datetime64[ns](1)\n",
      "memory usage: 727.8 KB\n"
     ]
    }
   ],
   "source": [
    "# observe feature name, data type, and possible null values\n",
    "logins_df.info()"
   ]
  },
  {
   "cell_type": "markdown",
   "metadata": {},
   "source": [
    "We have a bunch of Datetime objects."
   ]
  },
  {
   "cell_type": "code",
   "execution_count": 8,
   "metadata": {},
   "outputs": [
    {
     "data": {
      "text/plain": [
       "count                   93142\n",
       "unique                  92265\n",
       "top       1970-02-12 11:16:53\n",
       "freq                        3\n",
       "first     1970-01-01 20:12:16\n",
       "last      1970-04-13 18:57:38\n",
       "Name: login_time, dtype: object"
      ]
     },
     "execution_count": 8,
     "metadata": {},
     "output_type": "execute_result"
    }
   ],
   "source": [
    "# observe timestamp range\n",
    "logins_df['login_time'].describe()"
   ]
  },
  {
   "cell_type": "markdown",
   "metadata": {},
   "source": [
    "The data covers about three and a half months."
   ]
  },
  {
   "cell_type": "code",
   "execution_count": 9,
   "metadata": {},
   "outputs": [
    {
     "data": {
      "text/html": [
       "<div>\n",
       "<style scoped>\n",
       "    .dataframe tbody tr th:only-of-type {\n",
       "        vertical-align: middle;\n",
       "    }\n",
       "\n",
       "    .dataframe tbody tr th {\n",
       "        vertical-align: top;\n",
       "    }\n",
       "\n",
       "    .dataframe thead th {\n",
       "        text-align: right;\n",
       "    }\n",
       "</style>\n",
       "<table border=\"1\" class=\"dataframe\">\n",
       "  <thead>\n",
       "    <tr style=\"text-align: right;\">\n",
       "      <th></th>\n",
       "      <th>login_time</th>\n",
       "    </tr>\n",
       "  </thead>\n",
       "  <tbody>\n",
       "    <tr>\n",
       "      <th>0</th>\n",
       "      <td>1970-01-01 20:13:18</td>\n",
       "    </tr>\n",
       "    <tr>\n",
       "      <th>1</th>\n",
       "      <td>1970-01-01 20:16:10</td>\n",
       "    </tr>\n",
       "    <tr>\n",
       "      <th>2</th>\n",
       "      <td>1970-01-01 20:16:37</td>\n",
       "    </tr>\n",
       "    <tr>\n",
       "      <th>3</th>\n",
       "      <td>1970-01-01 20:16:36</td>\n",
       "    </tr>\n",
       "    <tr>\n",
       "      <th>4</th>\n",
       "      <td>1970-01-01 20:26:21</td>\n",
       "    </tr>\n",
       "  </tbody>\n",
       "</table>\n",
       "</div>"
      ],
      "text/plain": [
       "           login_time\n",
       "0 1970-01-01 20:13:18\n",
       "1 1970-01-01 20:16:10\n",
       "2 1970-01-01 20:16:37\n",
       "3 1970-01-01 20:16:36\n",
       "4 1970-01-01 20:26:21"
      ]
     },
     "execution_count": 9,
     "metadata": {},
     "output_type": "execute_result"
    }
   ],
   "source": [
    "# observe some data\n",
    "logins_df.head()"
   ]
  },
  {
   "cell_type": "markdown",
   "metadata": {},
   "source": [
    "Aside from the obvious impossibility of logins occurring in the early 1970s, the data appears to be clean."
   ]
  },
  {
   "cell_type": "code",
   "execution_count": 10,
   "metadata": {},
   "outputs": [
    {
     "data": {
      "image/png": "[encoded data removed]",
      "text/plain": [
       "<Figure size 864x288 with 1 Axes>"
      ]
     },
     "metadata": {},
     "output_type": "display_data"
    }
   ],
   "source": [
    "# plot timestamp cumulative distribution\n",
    "\n",
    "sns.lineplot(\n",
    "    x=logins_df['login_time'], \n",
    "    y=np.linspace(0, len(logins_df['login_time']), \n",
    "                  num=len(logins_df['login_time'])), color=mp.colors(3))\n",
    "\n",
    "plt.xlabel('Time Stamp', fontsize=15)\n",
    "plt.ylabel('Count', fontsize=15)\n",
    "plt.title('Time Stamp Cumulative Counts', fontsize=15);"
   ]
  },
  {
   "cell_type": "markdown",
   "metadata": {},
   "source": [
    "The frequency of timestamps appears constant throughout the entire window.<br>\n",
    "There is no indication of seasonality."
   ]
  },
  {
   "cell_type": "code",
   "execution_count": 11,
   "metadata": {},
   "outputs": [
    {
     "data": {
      "text/html": [
       "<div>\n",
       "<style scoped>\n",
       "    .dataframe tbody tr th:only-of-type {\n",
       "        vertical-align: middle;\n",
       "    }\n",
       "\n",
       "    .dataframe tbody tr th {\n",
       "        vertical-align: top;\n",
       "    }\n",
       "\n",
       "    .dataframe thead th {\n",
       "        text-align: right;\n",
       "    }\n",
       "</style>\n",
       "<table border=\"1\" class=\"dataframe\">\n",
       "  <thead>\n",
       "    <tr style=\"text-align: right;\">\n",
       "      <th></th>\n",
       "      <th>login_time</th>\n",
       "    </tr>\n",
       "  </thead>\n",
       "  <tbody>\n",
       "    <tr>\n",
       "      <th>0</th>\n",
       "      <td>1970-01-01 20:15:00</td>\n",
       "    </tr>\n",
       "    <tr>\n",
       "      <th>1</th>\n",
       "      <td>1970-01-01 20:15:00</td>\n",
       "    </tr>\n",
       "    <tr>\n",
       "      <th>2</th>\n",
       "      <td>1970-01-01 20:15:00</td>\n",
       "    </tr>\n",
       "    <tr>\n",
       "      <th>3</th>\n",
       "      <td>1970-01-01 20:15:00</td>\n",
       "    </tr>\n",
       "    <tr>\n",
       "      <th>4</th>\n",
       "      <td>1970-01-01 20:30:00</td>\n",
       "    </tr>\n",
       "  </tbody>\n",
       "</table>\n",
       "</div>"
      ],
      "text/plain": [
       "           login_time\n",
       "0 1970-01-01 20:15:00\n",
       "1 1970-01-01 20:15:00\n",
       "2 1970-01-01 20:15:00\n",
       "3 1970-01-01 20:15:00\n",
       "4 1970-01-01 20:30:00"
      ]
     },
     "execution_count": 11,
     "metadata": {},
     "output_type": "execute_result"
    }
   ],
   "source": [
    "# round timestamps to 15 minute intervals\n",
    "logins_df['login_time'] = logins_df['login_time'].dt.round('15min') \n",
    "logins_df.head()"
   ]
  },
  {
   "cell_type": "code",
   "execution_count": 12,
   "metadata": {},
   "outputs": [
    {
     "data": {
      "text/html": [
       "<div>\n",
       "<style scoped>\n",
       "    .dataframe tbody tr th:only-of-type {\n",
       "        vertical-align: middle;\n",
       "    }\n",
       "\n",
       "    .dataframe tbody tr th {\n",
       "        vertical-align: top;\n",
       "    }\n",
       "\n",
       "    .dataframe thead th {\n",
       "        text-align: right;\n",
       "    }\n",
       "</style>\n",
       "<table border=\"1\" class=\"dataframe\">\n",
       "  <thead>\n",
       "    <tr style=\"text-align: right;\">\n",
       "      <th></th>\n",
       "      <th>login_time</th>\n",
       "      <th>day</th>\n",
       "    </tr>\n",
       "  </thead>\n",
       "  <tbody>\n",
       "    <tr>\n",
       "      <th>0</th>\n",
       "      <td>1970-01-01 20:15:00</td>\n",
       "      <td>Thursday</td>\n",
       "    </tr>\n",
       "    <tr>\n",
       "      <th>1</th>\n",
       "      <td>1970-01-01 20:15:00</td>\n",
       "      <td>Thursday</td>\n",
       "    </tr>\n",
       "    <tr>\n",
       "      <th>2</th>\n",
       "      <td>1970-01-01 20:15:00</td>\n",
       "      <td>Thursday</td>\n",
       "    </tr>\n",
       "    <tr>\n",
       "      <th>3</th>\n",
       "      <td>1970-01-01 20:15:00</td>\n",
       "      <td>Thursday</td>\n",
       "    </tr>\n",
       "    <tr>\n",
       "      <th>4</th>\n",
       "      <td>1970-01-01 20:30:00</td>\n",
       "      <td>Thursday</td>\n",
       "    </tr>\n",
       "  </tbody>\n",
       "</table>\n",
       "</div>"
      ],
      "text/plain": [
       "           login_time       day\n",
       "0 1970-01-01 20:15:00  Thursday\n",
       "1 1970-01-01 20:15:00  Thursday\n",
       "2 1970-01-01 20:15:00  Thursday\n",
       "3 1970-01-01 20:15:00  Thursday\n",
       "4 1970-01-01 20:30:00  Thursday"
      ]
     },
     "execution_count": 12,
     "metadata": {},
     "output_type": "execute_result"
    }
   ],
   "source": [
    "# create day of the week feature\n",
    "logins_df['day'] = logins_df['login_time'].apply(pd.Timestamp.day_name)\n",
    "logins_df.head()"
   ]
  },
  {
   "cell_type": "code",
   "execution_count": 13,
   "metadata": {},
   "outputs": [
    {
     "data": {
      "text/html": [
       "<div>\n",
       "<style scoped>\n",
       "    .dataframe tbody tr th:only-of-type {\n",
       "        vertical-align: middle;\n",
       "    }\n",
       "\n",
       "    .dataframe tbody tr th {\n",
       "        vertical-align: top;\n",
       "    }\n",
       "\n",
       "    .dataframe thead th {\n",
       "        text-align: right;\n",
       "    }\n",
       "</style>\n",
       "<table border=\"1\" class=\"dataframe\">\n",
       "  <thead>\n",
       "    <tr style=\"text-align: right;\">\n",
       "      <th></th>\n",
       "      <th>day</th>\n",
       "      <th>login_time</th>\n",
       "    </tr>\n",
       "  </thead>\n",
       "  <tbody>\n",
       "    <tr>\n",
       "      <th>0</th>\n",
       "      <td>Friday</td>\n",
       "      <td>15172</td>\n",
       "    </tr>\n",
       "    <tr>\n",
       "      <th>1</th>\n",
       "      <td>Monday</td>\n",
       "      <td>8836</td>\n",
       "    </tr>\n",
       "    <tr>\n",
       "      <th>2</th>\n",
       "      <td>Saturday</td>\n",
       "      <td>19415</td>\n",
       "    </tr>\n",
       "    <tr>\n",
       "      <th>3</th>\n",
       "      <td>Sunday</td>\n",
       "      <td>18204</td>\n",
       "    </tr>\n",
       "    <tr>\n",
       "      <th>4</th>\n",
       "      <td>Thursday</td>\n",
       "      <td>11963</td>\n",
       "    </tr>\n",
       "    <tr>\n",
       "      <th>5</th>\n",
       "      <td>Tuesday</td>\n",
       "      <td>9251</td>\n",
       "    </tr>\n",
       "    <tr>\n",
       "      <th>6</th>\n",
       "      <td>Wednesday</td>\n",
       "      <td>10301</td>\n",
       "    </tr>\n",
       "  </tbody>\n",
       "</table>\n",
       "</div>"
      ],
      "text/plain": [
       "         day  login_time\n",
       "0     Friday       15172\n",
       "1     Monday        8836\n",
       "2   Saturday       19415\n",
       "3     Sunday       18204\n",
       "4   Thursday       11963\n",
       "5    Tuesday        9251\n",
       "6  Wednesday       10301"
      ]
     },
     "execution_count": 13,
     "metadata": {},
     "output_type": "execute_result"
    }
   ],
   "source": [
    "# count timestamps grouped by day of the week\n",
    "days_df = logins_df.groupby(['day'], as_index=False).count()\n",
    "days_df"
   ]
  },
  {
   "cell_type": "code",
   "execution_count": 14,
   "metadata": {},
   "outputs": [],
   "source": [
    "# create ordered categories list for sorting days of the week\n",
    "days_lst = ['Monday', 'Tuesday', 'Wednesday', 'Thursday', 'Friday', 'Saturday', 'Sunday']\n",
    "cat_type = CategoricalDtype(categories=days_lst, ordered=True)"
   ]
  },
  {
   "cell_type": "code",
   "execution_count": 15,
   "metadata": {},
   "outputs": [],
   "source": [
    "# convert day of the week values to ordered categories\n",
    "days_df['day'] = days_df['day'].astype(cat_type)"
   ]
  },
  {
   "cell_type": "code",
   "execution_count": 16,
   "metadata": {},
   "outputs": [
    {
     "data": {
      "image/png": "[encoded data removed]",
      "text/plain": [
       "<Figure size 360x360 with 1 Axes>"
      ]
     },
     "metadata": {},
     "output_type": "display_data"
    }
   ],
   "source": [
    "# plot login counts by day\n",
    "\n",
    "sns.catplot(x='day', y='login_time', data=days_df, kind='bar')\n",
    "\n",
    "plt.xticks(rotation=60)\n",
    "\n",
    "plt.xlabel('Day of the Week', fontsize=15)\n",
    "plt.ylabel('Count', fontsize=15)\n",
    "plt.title('Total Login Count by Day', fontsize=15);"
   ]
  },
  {
   "cell_type": "markdown",
   "metadata": {},
   "source": [
    "User logins steadily increase throughout the week, peaking on Saturday."
   ]
  },
  {
   "cell_type": "code",
   "execution_count": 17,
   "metadata": {},
   "outputs": [
    {
     "data": {
      "text/html": [
       "<div>\n",
       "<style scoped>\n",
       "    .dataframe tbody tr th:only-of-type {\n",
       "        vertical-align: middle;\n",
       "    }\n",
       "\n",
       "    .dataframe tbody tr th {\n",
       "        vertical-align: top;\n",
       "    }\n",
       "\n",
       "    .dataframe thead th {\n",
       "        text-align: right;\n",
       "    }\n",
       "</style>\n",
       "<table border=\"1\" class=\"dataframe\">\n",
       "  <thead>\n",
       "    <tr style=\"text-align: right;\">\n",
       "      <th></th>\n",
       "      <th>Friday</th>\n",
       "      <th>Monday</th>\n",
       "      <th>Saturday</th>\n",
       "      <th>Sunday</th>\n",
       "      <th>Thursday</th>\n",
       "      <th>Tuesday</th>\n",
       "      <th>Wednesday</th>\n",
       "    </tr>\n",
       "  </thead>\n",
       "  <tbody>\n",
       "    <tr>\n",
       "      <th>0</th>\n",
       "      <td>1970-01-02</td>\n",
       "      <td>1970-01-05</td>\n",
       "      <td>1970-01-03</td>\n",
       "      <td>1970-01-04</td>\n",
       "      <td>1970-01-01 20:15:00</td>\n",
       "      <td>1970-01-06</td>\n",
       "      <td>1970-01-07</td>\n",
       "    </tr>\n",
       "    <tr>\n",
       "      <th>1</th>\n",
       "      <td>1970-01-02</td>\n",
       "      <td>1970-01-05</td>\n",
       "      <td>1970-01-03</td>\n",
       "      <td>1970-01-04</td>\n",
       "      <td>1970-01-01 20:15:00</td>\n",
       "      <td>1970-01-06</td>\n",
       "      <td>1970-01-07</td>\n",
       "    </tr>\n",
       "    <tr>\n",
       "      <th>2</th>\n",
       "      <td>1970-01-02</td>\n",
       "      <td>1970-01-05</td>\n",
       "      <td>1970-01-03</td>\n",
       "      <td>1970-01-04</td>\n",
       "      <td>1970-01-01 20:15:00</td>\n",
       "      <td>1970-01-06</td>\n",
       "      <td>1970-01-07</td>\n",
       "    </tr>\n",
       "  </tbody>\n",
       "</table>\n",
       "</div>"
      ],
      "text/plain": [
       "      Friday     Monday   Saturday     Sunday            Thursday    Tuesday  \\\n",
       "0 1970-01-02 1970-01-05 1970-01-03 1970-01-04 1970-01-01 20:15:00 1970-01-06   \n",
       "1 1970-01-02 1970-01-05 1970-01-03 1970-01-04 1970-01-01 20:15:00 1970-01-06   \n",
       "2 1970-01-02 1970-01-05 1970-01-03 1970-01-04 1970-01-01 20:15:00 1970-01-06   \n",
       "\n",
       "   Wednesday  \n",
       "0 1970-01-07  \n",
       "1 1970-01-07  \n",
       "2 1970-01-07  "
      ]
     },
     "execution_count": 17,
     "metadata": {},
     "output_type": "execute_result"
    }
   ],
   "source": [
    "# get day of week DataFrame\n",
    "dow_df = logins_df.set_index(\n",
    "    [logins_df.groupby(\n",
    "        'day')['day'].cumcount(), 'day'])['login_time'].unstack().rename_axis(columns=None)\n",
    "dow_df.head(3)"
   ]
  },
  {
   "cell_type": "code",
   "execution_count": 18,
   "metadata": {},
   "outputs": [
    {
     "data": {
      "text/html": [
       "<div>\n",
       "<style scoped>\n",
       "    .dataframe tbody tr th:only-of-type {\n",
       "        vertical-align: middle;\n",
       "    }\n",
       "\n",
       "    .dataframe tbody tr th {\n",
       "        vertical-align: top;\n",
       "    }\n",
       "\n",
       "    .dataframe thead th {\n",
       "        text-align: right;\n",
       "    }\n",
       "</style>\n",
       "<table border=\"1\" class=\"dataframe\">\n",
       "  <thead>\n",
       "    <tr style=\"text-align: right;\">\n",
       "      <th></th>\n",
       "      <th>Friday</th>\n",
       "      <th>Monday</th>\n",
       "      <th>Saturday</th>\n",
       "      <th>Sunday</th>\n",
       "      <th>Thursday</th>\n",
       "      <th>Tuesday</th>\n",
       "      <th>Wednesday</th>\n",
       "    </tr>\n",
       "  </thead>\n",
       "  <tbody>\n",
       "    <tr>\n",
       "      <th>0</th>\n",
       "      <td>00:00:00</td>\n",
       "      <td>00:00:00</td>\n",
       "      <td>00:00:00</td>\n",
       "      <td>00:00:00</td>\n",
       "      <td>20:15:00</td>\n",
       "      <td>00:00:00</td>\n",
       "      <td>00:00:00</td>\n",
       "    </tr>\n",
       "    <tr>\n",
       "      <th>1</th>\n",
       "      <td>00:00:00</td>\n",
       "      <td>00:00:00</td>\n",
       "      <td>00:00:00</td>\n",
       "      <td>00:00:00</td>\n",
       "      <td>20:15:00</td>\n",
       "      <td>00:00:00</td>\n",
       "      <td>00:00:00</td>\n",
       "    </tr>\n",
       "    <tr>\n",
       "      <th>2</th>\n",
       "      <td>00:00:00</td>\n",
       "      <td>00:00:00</td>\n",
       "      <td>00:00:00</td>\n",
       "      <td>00:00:00</td>\n",
       "      <td>20:15:00</td>\n",
       "      <td>00:00:00</td>\n",
       "      <td>00:00:00</td>\n",
       "    </tr>\n",
       "    <tr>\n",
       "      <th>3</th>\n",
       "      <td>00:00:00</td>\n",
       "      <td>00:15:00</td>\n",
       "      <td>00:00:00</td>\n",
       "      <td>00:00:00</td>\n",
       "      <td>20:15:00</td>\n",
       "      <td>00:15:00</td>\n",
       "      <td>00:00:00</td>\n",
       "    </tr>\n",
       "    <tr>\n",
       "      <th>4</th>\n",
       "      <td>00:00:00</td>\n",
       "      <td>00:00:00</td>\n",
       "      <td>00:00:00</td>\n",
       "      <td>00:00:00</td>\n",
       "      <td>20:30:00</td>\n",
       "      <td>00:15:00</td>\n",
       "      <td>00:00:00</td>\n",
       "    </tr>\n",
       "    <tr>\n",
       "      <th>...</th>\n",
       "      <td>...</td>\n",
       "      <td>...</td>\n",
       "      <td>...</td>\n",
       "      <td>...</td>\n",
       "      <td>...</td>\n",
       "      <td>...</td>\n",
       "      <td>...</td>\n",
       "    </tr>\n",
       "    <tr>\n",
       "      <th>19410</th>\n",
       "      <td>NaT</td>\n",
       "      <td>NaT</td>\n",
       "      <td>23:45:00</td>\n",
       "      <td>NaT</td>\n",
       "      <td>NaT</td>\n",
       "      <td>NaT</td>\n",
       "      <td>NaT</td>\n",
       "    </tr>\n",
       "    <tr>\n",
       "      <th>19411</th>\n",
       "      <td>NaT</td>\n",
       "      <td>NaT</td>\n",
       "      <td>23:45:00</td>\n",
       "      <td>NaT</td>\n",
       "      <td>NaT</td>\n",
       "      <td>NaT</td>\n",
       "      <td>NaT</td>\n",
       "    </tr>\n",
       "    <tr>\n",
       "      <th>19412</th>\n",
       "      <td>NaT</td>\n",
       "      <td>NaT</td>\n",
       "      <td>23:45:00</td>\n",
       "      <td>NaT</td>\n",
       "      <td>NaT</td>\n",
       "      <td>NaT</td>\n",
       "      <td>NaT</td>\n",
       "    </tr>\n",
       "    <tr>\n",
       "      <th>19413</th>\n",
       "      <td>NaT</td>\n",
       "      <td>NaT</td>\n",
       "      <td>23:45:00</td>\n",
       "      <td>NaT</td>\n",
       "      <td>NaT</td>\n",
       "      <td>NaT</td>\n",
       "      <td>NaT</td>\n",
       "    </tr>\n",
       "    <tr>\n",
       "      <th>19414</th>\n",
       "      <td>NaT</td>\n",
       "      <td>NaT</td>\n",
       "      <td>23:45:00</td>\n",
       "      <td>NaT</td>\n",
       "      <td>NaT</td>\n",
       "      <td>NaT</td>\n",
       "      <td>NaT</td>\n",
       "    </tr>\n",
       "  </tbody>\n",
       "</table>\n",
       "<p>19415 rows × 7 columns</p>\n",
       "</div>"
      ],
      "text/plain": [
       "         Friday    Monday  Saturday    Sunday  Thursday   Tuesday Wednesday\n",
       "0      00:00:00  00:00:00  00:00:00  00:00:00  20:15:00  00:00:00  00:00:00\n",
       "1      00:00:00  00:00:00  00:00:00  00:00:00  20:15:00  00:00:00  00:00:00\n",
       "2      00:00:00  00:00:00  00:00:00  00:00:00  20:15:00  00:00:00  00:00:00\n",
       "3      00:00:00  00:15:00  00:00:00  00:00:00  20:15:00  00:15:00  00:00:00\n",
       "4      00:00:00  00:00:00  00:00:00  00:00:00  20:30:00  00:15:00  00:00:00\n",
       "...         ...       ...       ...       ...       ...       ...       ...\n",
       "19410       NaT       NaT  23:45:00       NaT       NaT       NaT       NaT\n",
       "19411       NaT       NaT  23:45:00       NaT       NaT       NaT       NaT\n",
       "19412       NaT       NaT  23:45:00       NaT       NaT       NaT       NaT\n",
       "19413       NaT       NaT  23:45:00       NaT       NaT       NaT       NaT\n",
       "19414       NaT       NaT  23:45:00       NaT       NaT       NaT       NaT\n",
       "\n",
       "[19415 rows x 7 columns]"
      ]
     },
     "execution_count": 18,
     "metadata": {},
     "output_type": "execute_result"
    }
   ],
   "source": [
    "# get time of day DataFrame\n",
    "tod_df = pd.DataFrame([dow_df[a].dt.time for a in dow_df], dow_df.columns).transpose()\n",
    "tod_df"
   ]
  },
  {
   "cell_type": "code",
   "execution_count": 19,
   "metadata": {},
   "outputs": [
    {
     "data": {
      "text/html": [
       "<div>\n",
       "<style scoped>\n",
       "    .dataframe tbody tr th:only-of-type {\n",
       "        vertical-align: middle;\n",
       "    }\n",
       "\n",
       "    .dataframe tbody tr th {\n",
       "        vertical-align: top;\n",
       "    }\n",
       "\n",
       "    .dataframe thead th {\n",
       "        text-align: right;\n",
       "    }\n",
       "</style>\n",
       "<table border=\"1\" class=\"dataframe\">\n",
       "  <thead>\n",
       "    <tr style=\"text-align: right;\">\n",
       "      <th></th>\n",
       "      <th>Friday</th>\n",
       "      <th>Monday</th>\n",
       "      <th>Saturday</th>\n",
       "      <th>Sunday</th>\n",
       "      <th>Thursday</th>\n",
       "      <th>Tuesday</th>\n",
       "      <th>Wednesday</th>\n",
       "    </tr>\n",
       "  </thead>\n",
       "  <tbody>\n",
       "    <tr>\n",
       "      <th>count</th>\n",
       "      <td>15172</td>\n",
       "      <td>8836</td>\n",
       "      <td>19415</td>\n",
       "      <td>18204</td>\n",
       "      <td>11963</td>\n",
       "      <td>9251</td>\n",
       "      <td>10301</td>\n",
       "    </tr>\n",
       "    <tr>\n",
       "      <th>unique</th>\n",
       "      <td>96</td>\n",
       "      <td>96</td>\n",
       "      <td>96</td>\n",
       "      <td>96</td>\n",
       "      <td>96</td>\n",
       "      <td>96</td>\n",
       "      <td>96</td>\n",
       "    </tr>\n",
       "    <tr>\n",
       "      <th>top</th>\n",
       "      <td>22:30:00</td>\n",
       "      <td>11:30:00</td>\n",
       "      <td>04:45:00</td>\n",
       "      <td>04:45:00</td>\n",
       "      <td>23:15:00</td>\n",
       "      <td>11:45:00</td>\n",
       "      <td>11:45:00</td>\n",
       "    </tr>\n",
       "    <tr>\n",
       "      <th>freq</th>\n",
       "      <td>419</td>\n",
       "      <td>252</td>\n",
       "      <td>513</td>\n",
       "      <td>601</td>\n",
       "      <td>286</td>\n",
       "      <td>273</td>\n",
       "      <td>308</td>\n",
       "    </tr>\n",
       "  </tbody>\n",
       "</table>\n",
       "</div>"
      ],
      "text/plain": [
       "          Friday    Monday  Saturday    Sunday  Thursday   Tuesday Wednesday\n",
       "count      15172      8836     19415     18204     11963      9251     10301\n",
       "unique        96        96        96        96        96        96        96\n",
       "top     22:30:00  11:30:00  04:45:00  04:45:00  23:15:00  11:45:00  11:45:00\n",
       "freq         419       252       513       601       286       273       308"
      ]
     },
     "execution_count": 19,
     "metadata": {},
     "output_type": "execute_result"
    }
   ],
   "source": [
    "# observe frequencies and most common times of day\n",
    "tod_df.describe()"
   ]
  },
  {
   "cell_type": "code",
   "execution_count": 20,
   "metadata": {},
   "outputs": [
    {
     "data": {
      "text/html": [
       "<div>\n",
       "<style scoped>\n",
       "    .dataframe tbody tr th:only-of-type {\n",
       "        vertical-align: middle;\n",
       "    }\n",
       "\n",
       "    .dataframe tbody tr th {\n",
       "        vertical-align: top;\n",
       "    }\n",
       "\n",
       "    .dataframe thead th {\n",
       "        text-align: right;\n",
       "    }\n",
       "</style>\n",
       "<table border=\"1\" class=\"dataframe\">\n",
       "  <thead>\n",
       "    <tr style=\"text-align: right;\">\n",
       "      <th></th>\n",
       "      <th>Monday</th>\n",
       "      <th>Tuesday</th>\n",
       "      <th>Wednesday</th>\n",
       "      <th>Thursday</th>\n",
       "      <th>Friday</th>\n",
       "      <th>Saturday</th>\n",
       "      <th>Sunday</th>\n",
       "    </tr>\n",
       "  </thead>\n",
       "  <tbody>\n",
       "    <tr>\n",
       "      <th>00:00:00</th>\n",
       "      <td>158</td>\n",
       "      <td>138</td>\n",
       "      <td>173</td>\n",
       "      <td>232</td>\n",
       "      <td>234</td>\n",
       "      <td>304</td>\n",
       "      <td>258</td>\n",
       "    </tr>\n",
       "    <tr>\n",
       "      <th>00:15:00</th>\n",
       "      <td>111</td>\n",
       "      <td>163</td>\n",
       "      <td>157</td>\n",
       "      <td>218</td>\n",
       "      <td>253</td>\n",
       "      <td>319</td>\n",
       "      <td>261</td>\n",
       "    </tr>\n",
       "    <tr>\n",
       "      <th>00:30:00</th>\n",
       "      <td>144</td>\n",
       "      <td>148</td>\n",
       "      <td>185</td>\n",
       "      <td>199</td>\n",
       "      <td>250</td>\n",
       "      <td>310</td>\n",
       "      <td>267</td>\n",
       "    </tr>\n",
       "    <tr>\n",
       "      <th>00:45:00</th>\n",
       "      <td>139</td>\n",
       "      <td>152</td>\n",
       "      <td>155</td>\n",
       "      <td>187</td>\n",
       "      <td>245</td>\n",
       "      <td>311</td>\n",
       "      <td>314</td>\n",
       "    </tr>\n",
       "    <tr>\n",
       "      <th>01:00:00</th>\n",
       "      <td>109</td>\n",
       "      <td>141</td>\n",
       "      <td>205</td>\n",
       "      <td>216</td>\n",
       "      <td>231</td>\n",
       "      <td>334</td>\n",
       "      <td>273</td>\n",
       "    </tr>\n",
       "  </tbody>\n",
       "</table>\n",
       "</div>"
      ],
      "text/plain": [
       "          Monday  Tuesday  Wednesday  Thursday  Friday  Saturday  Sunday\n",
       "00:00:00     158      138        173       232     234       304     258\n",
       "00:15:00     111      163        157       218     253       319     261\n",
       "00:30:00     144      148        185       199     250       310     267\n",
       "00:45:00     139      152        155       187     245       311     314\n",
       "01:00:00     109      141        205       216     231       334     273"
      ]
     },
     "execution_count": 20,
     "metadata": {},
     "output_type": "execute_result"
    }
   ],
   "source": [
    "# get counts for time of day by days of week\n",
    "tod_counts_df = tod_df.apply(lambda x: x.value_counts()).reindex(columns=days_lst)\n",
    "tod_counts_df.head()"
   ]
  },
  {
   "cell_type": "code",
   "execution_count": 21,
   "metadata": {},
   "outputs": [],
   "source": [
    "def plot_hours_of_day(data):\n",
    "    \"\"\"Plots hourly distribution of logins by day of the week\"\"\"\n",
    "    plt.subplots(1, figsize=(16, 10))\n",
    "    # set color palate cycle\n",
    "    day_color = 0\n",
    "    for day in data.columns:\n",
    "        sns.lineplot(x=np.linspace(0, len(data[day]), num=len(data[day])), \n",
    "                     y=data[day], \n",
    "                     label=day, color=mp.colors(day_color))\n",
    "        # get next color\n",
    "        day_color += 1\n",
    "    # make fancy time tick labels\n",
    "    xtick_vals = np.arange(0, len(data.index) + 1, 4)\n",
    "    xtick_names = np.asarray([datetime.time(i).strftime('%I %p') for i in range(24)])\n",
    "    plt.xticks(xtick_vals, xtick_names, rotation=60)\n",
    "    \n",
    "    plt.xlabel('Time of Day', fontsize=20)\n",
    "    plt.ylabel('Count', fontsize=20)\n",
    "    \n",
    "    # spruce up legend\n",
    "    leg = plt.legend(ncol=3, fontsize='x-large', markerscale=10)\n",
    "    for legend in range(len(data.columns)):\n",
    "        leg.get_lines()[legend].set_linewidth(6)\n",
    "        \n",
    "    plt.title('Days of Week Frequencies by Time of Day', fontsize=20);"
   ]
  },
  {
   "cell_type": "code",
   "execution_count": 22,
   "metadata": {},
   "outputs": [
    {
     "data": {
      "image/png": "[encoded data removed]",
      "text/plain": [
       "<Figure size 1152x720 with 1 Axes>"
      ]
     },
     "metadata": {},
     "output_type": "display_data"
    }
   ],
   "source": [
    "# plot login time of day by occurances for each day of week\n",
    "plot_hours_of_day(tod_counts_df)"
   ]
  },
  {
   "cell_type": "markdown",
   "metadata": {},
   "source": [
    "The days of the week show clear distinctions with respect to the variables plotted."
   ]
  },
  {
   "cell_type": "markdown",
   "metadata": {},
   "source": [
    "* Midnight-7AM:\n",
    "    - weekday logins steadily decline (work week)\n",
    "    - relative frequencies of usage during the weekdays increase as the week progresses\n",
    "    - weekend calls rise until 5AM, then fall sharply (nightlife)\n",
    "* 7AM-9AM:<br>\n",
    "    - lowest time of usage for all days\n",
    "    - weekend logins are a bit higher than they are for weekdays (walk of shame)\n",
    "* 9AM-Noon:\n",
    "    - calls increase for all days\n",
    "    - weekday usage increases more sharply than weekend usage (9-5ers)\n",
    "* Noon-5PM:<br>\n",
    "    - weekday logins decline steadily\n",
    "    - weekend usage increases until 2PM, then holds steady (brunch)\n",
    "* 5PM-8PM:<br>\n",
    "    - calls on all days hold steady, except Friday, which rise (TGIF)\n",
    "    - Friday-Sunday usage is greater than for other days\n",
    "* 8PM-10PM:<br>\n",
    "    - logins on all days increase\n",
    "* 10PM-Midnight:<br>\n",
    "    - overall, usage declines for every day\n",
    "    - Wednesday-Sunday logins increase until just before 11PM, then start to decline\n",
    "    - Friday calls are the most frequent (weekend warrior)\n",
    "    - Thursday and Sunday logins are the next strongest (Friday eve)"
   ]
  },
  {
   "cell_type": "code",
   "execution_count": null,
   "metadata": {},
   "outputs": [],
   "source": []
  },
  {
   "cell_type": "markdown",
   "metadata": {},
   "source": [
    "> **PART 2: EXPERIMENT & METRICS DESIGN**"
   ]
  },
  {
   "cell_type": "markdown",
   "metadata": {},
   "source": [
    "First, I would want to know the business motivation behind the desire for drivers to serve both cities.<br>\n",
    "Let's assume the answer is to increase profit, which dovetails with an increased number of daily rides.<br>\n",
    "Due to the activity patterns of the two cities, the company would be able to serve both without hiring additional drivers.<br>\n",
    "Establishing these goals from the outset will help me to generate an appropriate business question that can be tested."
   ]
  },
  {
   "cell_type": "markdown",
   "metadata": {},
   "source": [
    "Next, I would verify that the company has the necessary data to analyze the effects of the proposed changes.<br>\n",
    "I would need the pretest average profit per ride, over all drivers, and the pretest number of rides for each driver.<br>\n",
    "The number of rides would need to be separable by whether or not a bridge crossing was performed."
   ]
  },
  {
   "cell_type": "markdown",
   "metadata": {},
   "source": [
    "This would allow me to calculate the pretest profits generated by each driver.<br>\n",
    "With this data, I could compute the average difference of profit posttest vs. pretest generated by each driver.<br>\n",
    "This distribution can be used to give statistical significance to the effect of the experiment."
   ]
  },
  {
   "cell_type": "markdown",
   "metadata": {},
   "source": [
    "$$\\delta Profit\\;=\\;ProfitPosttest\\;-\\;ProfitPretest$$\n",
    "$$= AveProfit\\;/\\; Ride\\;*\\;[\\delta RidesNoBridge + \\delta RidesYesBridge]\\;-\\;RidesYesBridgePosttest\\;*\\;TollCost$$"
   ]
  },
  {
   "cell_type": "markdown",
   "metadata": {},
   "source": [
    "I would choose mean difference in profit for each driver as the key metric to measure the success of this experiment.<br>\n",
    "This is the goal of the experiment, as defined by the company."
   ]
  },
  {
   "cell_type": "markdown",
   "metadata": {},
   "source": [
    "* Define Question\n",
    "    - Will the added cost of reimbursed bridge tolls result in increased average driver profit?\n",
    "* Identify Variables\n",
    "    - Independent Variables\n",
    "        - Change in Number of Rides Where Driver Used the Bridge\n",
    "        - Change in Number of Rides Where Driver Did Not Use the Bridge\n",
    "        - Number of Rides Where Driver Used the Bridge (posttest)\n",
    "        - Average Profit per ride for Each Driver  (pretest)\n",
    "        - Bridge Toll Cost Per Ride (pretest: zero, posttest: constant)\n",
    "    - Dependent Variable\n",
    "        - Change in Profit for Each Driver\n",
    "* Generate Hypothesis (paired-samples t test)\n",
    "    - H0: The mean difference in driver profit will not be statistically different from zero.\n",
    "    - HA: Reimbursing toll costs will have a statistically significant effect on average driver profit.\n",
    "* Determine Experimental Design\n",
    "    - There will be only one factor that the experiment will vary, the reimbursed cost of the bridge toll.\n",
    "    - The experiment has a within-participants design, where all drivers will be reimbursed.\n",
    "* Develop Experimental Procedure\n",
    "    - The experiment will use GPS location and toll receipts to track which drivers crossed the bridge during their rides.\n",
    "    - I will perform a two-sample bootstrap hypothesis test for the difference of the mean profit of the drivers.\n",
    "    - Whether or not the null hypothesis is accepted will be determined by a confidence interval of no less than 95%.\n",
    "* Analyze Results and Recommendation\n",
    "    - After analysis, let's assume there is a real positive effect.\n",
    "    - I would recommend that the company implement this change to the business model.\n",
    "    - It would be an effective way to utilize current resources to generate additional profit.\n",
    "* Next Steps\n",
    "    - Other factors could be analyzed to provide deeper insight toward improving the results of future testing.\n",
    "    - The drivers can be divided by the city they originally preferred to see if one used the bridge more than the other.\n",
    "    - These effects should be monitored over a period of at least a year to observe seasonal variation."
   ]
  },
  {
   "cell_type": "code",
   "execution_count": null,
   "metadata": {},
   "outputs": [],
   "source": []
  },
  {
   "cell_type": "markdown",
   "metadata": {},
   "source": [
    "> **PART 3: PREDICTIVE MODELING**"
   ]
  },
  {
   "cell_type": "code",
   "execution_count": 23,
   "metadata": {},
   "outputs": [],
   "source": [
    "# read in second dataset\n",
    "df = pd.read_json('ultimate_data_challenge.json')"
   ]
  },
  {
   "cell_type": "code",
   "execution_count": 24,
   "metadata": {},
   "outputs": [
    {
     "data": {
      "text/plain": [
       "(50000, 12)"
      ]
     },
     "execution_count": 24,
     "metadata": {},
     "output_type": "execute_result"
    }
   ],
   "source": [
    "# observe dimensionality of dataset\n",
    "df.shape"
   ]
  },
  {
   "cell_type": "code",
   "execution_count": 25,
   "metadata": {},
   "outputs": [
    {
     "name": "stdout",
     "output_type": "stream",
     "text": [
      "<class 'pandas.core.frame.DataFrame'>\n",
      "RangeIndex: 50000 entries, 0 to 49999\n",
      "Data columns (total 12 columns):\n",
      " #   Column                  Non-Null Count  Dtype  \n",
      "---  ------                  --------------  -----  \n",
      " 0   city                    50000 non-null  object \n",
      " 1   trips_in_first_30_days  50000 non-null  int64  \n",
      " 2   signup_date             50000 non-null  object \n",
      " 3   avg_rating_of_driver    41878 non-null  float64\n",
      " 4   avg_surge               50000 non-null  float64\n",
      " 5   last_trip_date          50000 non-null  object \n",
      " 6   phone                   49604 non-null  object \n",
      " 7   surge_pct               50000 non-null  float64\n",
      " 8   ultimate_black_user     50000 non-null  bool   \n",
      " 9   weekday_pct             50000 non-null  float64\n",
      " 10  avg_dist                50000 non-null  float64\n",
      " 11  avg_rating_by_driver    49799 non-null  float64\n",
      "dtypes: bool(1), float64(6), int64(1), object(4)\n",
      "memory usage: 4.2+ MB\n"
     ]
    }
   ],
   "source": [
    "# observe feature names, data types, and possible null values\n",
    "df.info()"
   ]
  },
  {
   "cell_type": "code",
   "execution_count": 26,
   "metadata": {},
   "outputs": [
    {
     "data": {
      "text/html": [
       "<div>\n",
       "<style scoped>\n",
       "    .dataframe tbody tr th:only-of-type {\n",
       "        vertical-align: middle;\n",
       "    }\n",
       "\n",
       "    .dataframe tbody tr th {\n",
       "        vertical-align: top;\n",
       "    }\n",
       "\n",
       "    .dataframe thead th {\n",
       "        text-align: right;\n",
       "    }\n",
       "</style>\n",
       "<table border=\"1\" class=\"dataframe\">\n",
       "  <thead>\n",
       "    <tr style=\"text-align: right;\">\n",
       "      <th></th>\n",
       "      <th>trips_in_first_30_days</th>\n",
       "      <th>avg_rating_of_driver</th>\n",
       "      <th>avg_surge</th>\n",
       "      <th>surge_pct</th>\n",
       "      <th>weekday_pct</th>\n",
       "      <th>avg_dist</th>\n",
       "      <th>avg_rating_by_driver</th>\n",
       "    </tr>\n",
       "  </thead>\n",
       "  <tbody>\n",
       "    <tr>\n",
       "      <th>count</th>\n",
       "      <td>50000.000000</td>\n",
       "      <td>41878.000000</td>\n",
       "      <td>50000.000000</td>\n",
       "      <td>50000.000000</td>\n",
       "      <td>50000.000000</td>\n",
       "      <td>50000.000000</td>\n",
       "      <td>49799.000000</td>\n",
       "    </tr>\n",
       "    <tr>\n",
       "      <th>mean</th>\n",
       "      <td>2.278200</td>\n",
       "      <td>4.601559</td>\n",
       "      <td>1.074764</td>\n",
       "      <td>8.849536</td>\n",
       "      <td>60.926084</td>\n",
       "      <td>5.796827</td>\n",
       "      <td>4.778158</td>\n",
       "    </tr>\n",
       "    <tr>\n",
       "      <th>std</th>\n",
       "      <td>3.792684</td>\n",
       "      <td>0.617338</td>\n",
       "      <td>0.222336</td>\n",
       "      <td>19.958811</td>\n",
       "      <td>37.081503</td>\n",
       "      <td>5.707357</td>\n",
       "      <td>0.446652</td>\n",
       "    </tr>\n",
       "    <tr>\n",
       "      <th>min</th>\n",
       "      <td>0.000000</td>\n",
       "      <td>1.000000</td>\n",
       "      <td>1.000000</td>\n",
       "      <td>0.000000</td>\n",
       "      <td>0.000000</td>\n",
       "      <td>0.000000</td>\n",
       "      <td>1.000000</td>\n",
       "    </tr>\n",
       "    <tr>\n",
       "      <th>25%</th>\n",
       "      <td>0.000000</td>\n",
       "      <td>4.300000</td>\n",
       "      <td>1.000000</td>\n",
       "      <td>0.000000</td>\n",
       "      <td>33.300000</td>\n",
       "      <td>2.420000</td>\n",
       "      <td>4.700000</td>\n",
       "    </tr>\n",
       "    <tr>\n",
       "      <th>50%</th>\n",
       "      <td>1.000000</td>\n",
       "      <td>4.900000</td>\n",
       "      <td>1.000000</td>\n",
       "      <td>0.000000</td>\n",
       "      <td>66.700000</td>\n",
       "      <td>3.880000</td>\n",
       "      <td>5.000000</td>\n",
       "    </tr>\n",
       "    <tr>\n",
       "      <th>75%</th>\n",
       "      <td>3.000000</td>\n",
       "      <td>5.000000</td>\n",
       "      <td>1.050000</td>\n",
       "      <td>8.600000</td>\n",
       "      <td>100.000000</td>\n",
       "      <td>6.940000</td>\n",
       "      <td>5.000000</td>\n",
       "    </tr>\n",
       "    <tr>\n",
       "      <th>max</th>\n",
       "      <td>125.000000</td>\n",
       "      <td>5.000000</td>\n",
       "      <td>8.000000</td>\n",
       "      <td>100.000000</td>\n",
       "      <td>100.000000</td>\n",
       "      <td>160.960000</td>\n",
       "      <td>5.000000</td>\n",
       "    </tr>\n",
       "  </tbody>\n",
       "</table>\n",
       "</div>"
      ],
      "text/plain": [
       "       trips_in_first_30_days  avg_rating_of_driver     avg_surge  \\\n",
       "count            50000.000000          41878.000000  50000.000000   \n",
       "mean                 2.278200              4.601559      1.074764   \n",
       "std                  3.792684              0.617338      0.222336   \n",
       "min                  0.000000              1.000000      1.000000   \n",
       "25%                  0.000000              4.300000      1.000000   \n",
       "50%                  1.000000              4.900000      1.000000   \n",
       "75%                  3.000000              5.000000      1.050000   \n",
       "max                125.000000              5.000000      8.000000   \n",
       "\n",
       "          surge_pct   weekday_pct      avg_dist  avg_rating_by_driver  \n",
       "count  50000.000000  50000.000000  50000.000000          49799.000000  \n",
       "mean       8.849536     60.926084      5.796827              4.778158  \n",
       "std       19.958811     37.081503      5.707357              0.446652  \n",
       "min        0.000000      0.000000      0.000000              1.000000  \n",
       "25%        0.000000     33.300000      2.420000              4.700000  \n",
       "50%        0.000000     66.700000      3.880000              5.000000  \n",
       "75%        8.600000    100.000000      6.940000              5.000000  \n",
       "max      100.000000    100.000000    160.960000              5.000000  "
      ]
     },
     "execution_count": 26,
     "metadata": {},
     "output_type": "execute_result"
    }
   ],
   "source": [
    "# observe feature ranges\n",
    "df.describe()"
   ]
  },
  {
   "cell_type": "markdown",
   "metadata": {},
   "source": [
    "There's one user who took 125 trips in the first 30 days, over 4 times a day.<br>\n",
    "This is most likely a data error."
   ]
  },
  {
   "cell_type": "code",
   "execution_count": 27,
   "metadata": {},
   "outputs": [
    {
     "data": {
      "text/plain": [
       "18514    125\n",
       "99        73\n",
       "3030      71\n",
       "29070     63\n",
       "48804     58\n",
       "Name: trips_in_first_30_days, dtype: int64"
      ]
     },
     "execution_count": 27,
     "metadata": {},
     "output_type": "execute_result"
    }
   ],
   "source": [
    "# observe any extreme values\n",
    "df['trips_in_first_30_days'].sort_values(ascending=False)[:5]"
   ]
  },
  {
   "cell_type": "markdown",
   "metadata": {},
   "source": [
    "The other high values seem plausible.<br>\n",
    "I will remove that observation."
   ]
  },
  {
   "cell_type": "code",
   "execution_count": 28,
   "metadata": {},
   "outputs": [
    {
     "data": {
      "text/plain": [
       "73"
      ]
     },
     "execution_count": 28,
     "metadata": {},
     "output_type": "execute_result"
    }
   ],
   "source": [
    "# drop outlier\n",
    "df.drop(\n",
    "    df[df['trips_in_first_30_days'] == df['trips_in_first_30_days'].max()].index, \n",
    "    inplace=True)\n",
    "df['trips_in_first_30_days'].max()"
   ]
  },
  {
   "cell_type": "code",
   "execution_count": 29,
   "metadata": {},
   "outputs": [
    {
     "data": {
      "text/plain": [
       "20701    160.96\n",
       "534      129.89\n",
       "1302      79.69\n",
       "22290     79.34\n",
       "47595     77.13\n",
       "Name: avg_dist, dtype: float64"
      ]
     },
     "execution_count": 29,
     "metadata": {},
     "output_type": "execute_result"
    }
   ],
   "source": [
    "# observe other extreme values\n",
    "df['avg_dist'].sort_values(ascending=False)[:5]"
   ]
  },
  {
   "cell_type": "markdown",
   "metadata": {},
   "source": [
    "Although there are two observations that are extreme, it is likely that these data points are reliable."
   ]
  },
  {
   "cell_type": "code",
   "execution_count": 30,
   "metadata": {},
   "outputs": [
    {
     "data": {
      "text/html": [
       "<div>\n",
       "<style scoped>\n",
       "    .dataframe tbody tr th:only-of-type {\n",
       "        vertical-align: middle;\n",
       "    }\n",
       "\n",
       "    .dataframe tbody tr th {\n",
       "        vertical-align: top;\n",
       "    }\n",
       "\n",
       "    .dataframe thead th {\n",
       "        text-align: right;\n",
       "    }\n",
       "</style>\n",
       "<table border=\"1\" class=\"dataframe\">\n",
       "  <thead>\n",
       "    <tr style=\"text-align: right;\">\n",
       "      <th></th>\n",
       "      <th>city</th>\n",
       "      <th>trips_in_first_30_days</th>\n",
       "      <th>signup_date</th>\n",
       "      <th>avg_rating_of_driver</th>\n",
       "      <th>avg_surge</th>\n",
       "      <th>last_trip_date</th>\n",
       "      <th>phone</th>\n",
       "      <th>surge_pct</th>\n",
       "      <th>ultimate_black_user</th>\n",
       "      <th>weekday_pct</th>\n",
       "      <th>avg_dist</th>\n",
       "      <th>avg_rating_by_driver</th>\n",
       "    </tr>\n",
       "  </thead>\n",
       "  <tbody>\n",
       "    <tr>\n",
       "      <th>0</th>\n",
       "      <td>King's Landing</td>\n",
       "      <td>4</td>\n",
       "      <td>2014-01-25</td>\n",
       "      <td>4.7</td>\n",
       "      <td>1.10</td>\n",
       "      <td>2014-06-17</td>\n",
       "      <td>iPhone</td>\n",
       "      <td>15.4</td>\n",
       "      <td>True</td>\n",
       "      <td>46.2</td>\n",
       "      <td>3.67</td>\n",
       "      <td>5.0</td>\n",
       "    </tr>\n",
       "    <tr>\n",
       "      <th>1</th>\n",
       "      <td>Astapor</td>\n",
       "      <td>0</td>\n",
       "      <td>2014-01-29</td>\n",
       "      <td>5.0</td>\n",
       "      <td>1.00</td>\n",
       "      <td>2014-05-05</td>\n",
       "      <td>Android</td>\n",
       "      <td>0.0</td>\n",
       "      <td>False</td>\n",
       "      <td>50.0</td>\n",
       "      <td>8.26</td>\n",
       "      <td>5.0</td>\n",
       "    </tr>\n",
       "    <tr>\n",
       "      <th>2</th>\n",
       "      <td>Astapor</td>\n",
       "      <td>3</td>\n",
       "      <td>2014-01-06</td>\n",
       "      <td>4.3</td>\n",
       "      <td>1.00</td>\n",
       "      <td>2014-01-07</td>\n",
       "      <td>iPhone</td>\n",
       "      <td>0.0</td>\n",
       "      <td>False</td>\n",
       "      <td>100.0</td>\n",
       "      <td>0.77</td>\n",
       "      <td>5.0</td>\n",
       "    </tr>\n",
       "    <tr>\n",
       "      <th>3</th>\n",
       "      <td>King's Landing</td>\n",
       "      <td>9</td>\n",
       "      <td>2014-01-10</td>\n",
       "      <td>4.6</td>\n",
       "      <td>1.14</td>\n",
       "      <td>2014-06-29</td>\n",
       "      <td>iPhone</td>\n",
       "      <td>20.0</td>\n",
       "      <td>True</td>\n",
       "      <td>80.0</td>\n",
       "      <td>2.36</td>\n",
       "      <td>4.9</td>\n",
       "    </tr>\n",
       "    <tr>\n",
       "      <th>4</th>\n",
       "      <td>Winterfell</td>\n",
       "      <td>14</td>\n",
       "      <td>2014-01-27</td>\n",
       "      <td>4.4</td>\n",
       "      <td>1.19</td>\n",
       "      <td>2014-03-15</td>\n",
       "      <td>Android</td>\n",
       "      <td>11.8</td>\n",
       "      <td>False</td>\n",
       "      <td>82.4</td>\n",
       "      <td>3.13</td>\n",
       "      <td>4.9</td>\n",
       "    </tr>\n",
       "  </tbody>\n",
       "</table>\n",
       "</div>"
      ],
      "text/plain": [
       "             city  trips_in_first_30_days signup_date  avg_rating_of_driver  \\\n",
       "0  King's Landing                       4  2014-01-25                   4.7   \n",
       "1         Astapor                       0  2014-01-29                   5.0   \n",
       "2         Astapor                       3  2014-01-06                   4.3   \n",
       "3  King's Landing                       9  2014-01-10                   4.6   \n",
       "4      Winterfell                      14  2014-01-27                   4.4   \n",
       "\n",
       "   avg_surge last_trip_date    phone  surge_pct  ultimate_black_user  \\\n",
       "0       1.10     2014-06-17   iPhone       15.4                 True   \n",
       "1       1.00     2014-05-05  Android        0.0                False   \n",
       "2       1.00     2014-01-07   iPhone        0.0                False   \n",
       "3       1.14     2014-06-29   iPhone       20.0                 True   \n",
       "4       1.19     2014-03-15  Android       11.8                False   \n",
       "\n",
       "   weekday_pct  avg_dist  avg_rating_by_driver  \n",
       "0         46.2      3.67                   5.0  \n",
       "1         50.0      8.26                   5.0  \n",
       "2        100.0      0.77                   5.0  \n",
       "3         80.0      2.36                   4.9  \n",
       "4         82.4      3.13                   4.9  "
      ]
     },
     "execution_count": 30,
     "metadata": {},
     "output_type": "execute_result"
    }
   ],
   "source": [
    "# observe some data\n",
    "df.head()"
   ]
  },
  {
   "cell_type": "code",
   "execution_count": 31,
   "metadata": {},
   "outputs": [
    {
     "name": "stdout",
     "output_type": "stream",
     "text": [
      "Winterfell        23336\n",
      "Astapor           16534\n",
      "King's Landing    10129\n",
      "Name: city, dtype: int64\n",
      "\n",
      "iPhone     34581\n",
      "Android    15022\n",
      "Name: phone, dtype: int64\n"
     ]
    }
   ],
   "source": [
    "# get counts for categorical variables\n",
    "print(df['city'].value_counts(), df['phone'].value_counts(), sep='\\n\\n')"
   ]
  },
  {
   "cell_type": "code",
   "execution_count": 32,
   "metadata": {},
   "outputs": [
    {
     "name": "stdout",
     "output_type": "stream",
     "text": [
      "<class 'str'>\n",
      "\n",
      "<class 'str'>\n"
     ]
    }
   ],
   "source": [
    "# check data types\n",
    "print(type(df['signup_date'][0]), type(df['last_trip_date'][0]), sep='\\n\\n')"
   ]
  },
  {
   "cell_type": "code",
   "execution_count": 33,
   "metadata": {},
   "outputs": [],
   "source": [
    "# convert time strings to useful  objects\n",
    "df['signup_date'] = df['signup_date'].apply(pd.Timestamp)\n",
    "df['last_trip_date'] = df['last_trip_date'].apply(pd.Timestamp)"
   ]
  },
  {
   "cell_type": "code",
   "execution_count": 34,
   "metadata": {},
   "outputs": [
    {
     "name": "stdout",
     "output_type": "stream",
     "text": [
      "<class 'pandas._libs.tslibs.timestamps.Timestamp'>\n",
      "\n",
      "<class 'pandas._libs.tslibs.timestamps.Timestamp'>\n"
     ]
    }
   ],
   "source": [
    "# trust but verify\n",
    "print(type(df['signup_date'][0]), type(df['last_trip_date'][0]), sep='\\n\\n')"
   ]
  },
  {
   "cell_type": "code",
   "execution_count": 35,
   "metadata": {},
   "outputs": [
    {
     "data": {
      "text/plain": [
       "count                   49999\n",
       "unique                     31\n",
       "top       2014-01-18 00:00:00\n",
       "freq                     2948\n",
       "first     2014-01-01 00:00:00\n",
       "last      2014-01-31 00:00:00\n",
       "Name: signup_date, dtype: object"
      ]
     },
     "execution_count": 35,
     "metadata": {},
     "output_type": "execute_result"
    }
   ],
   "source": [
    "# observe feature ranges\n",
    "df['signup_date'].describe()"
   ]
  },
  {
   "cell_type": "code",
   "execution_count": 36,
   "metadata": {},
   "outputs": [
    {
     "data": {
      "text/plain": [
       "count                   49999\n",
       "unique                    182\n",
       "top       2014-06-29 00:00:00\n",
       "freq                     2036\n",
       "first     2014-01-01 00:00:00\n",
       "last      2014-07-01 00:00:00\n",
       "Name: last_trip_date, dtype: object"
      ]
     },
     "execution_count": 36,
     "metadata": {},
     "output_type": "execute_result"
    }
   ],
   "source": [
    "# observe feature ranges\n",
    "df['last_trip_date'].describe()"
   ]
  },
  {
   "cell_type": "code",
   "execution_count": 37,
   "metadata": {},
   "outputs": [
    {
     "data": {
      "text/plain": [
       "city                           King's Landing\n",
       "trips_in_first_30_days                      4\n",
       "signup_date               2014-01-25 00:00:00\n",
       "avg_rating_of_driver                      4.7\n",
       "avg_surge                                 1.1\n",
       "last_trip_date            2014-06-17 00:00:00\n",
       "phone                                  iPhone\n",
       "surge_pct                                15.4\n",
       "ultimate_black_user                      True\n",
       "weekday_pct                              46.2\n",
       "avg_dist                                 3.67\n",
       "avg_rating_by_driver                        5\n",
       "Name: 0, dtype: object"
      ]
     },
     "execution_count": 37,
     "metadata": {},
     "output_type": "execute_result"
    }
   ],
   "source": [
    "# observe one user\n",
    "df.loc[0]"
   ]
  },
  {
   "cell_type": "code",
   "execution_count": 38,
   "metadata": {},
   "outputs": [
    {
     "data": {
      "text/plain": [
       "0"
      ]
     },
     "execution_count": 38,
     "metadata": {},
     "output_type": "execute_result"
    }
   ],
   "source": [
    "# check time data integrity\n",
    "np.sum(df['last_trip_date'] - df['signup_date'] < pd.Timedelta('0 days'))"
   ]
  },
  {
   "cell_type": "code",
   "execution_count": 39,
   "metadata": {},
   "outputs": [
    {
     "data": {
      "text/plain": [
       "Timestamp('2014-07-01 00:00:00')"
      ]
     },
     "execution_count": 39,
     "metadata": {},
     "output_type": "execute_result"
    }
   ],
   "source": [
    "# get hypothetical current date\n",
    "today = df['last_trip_date'].max()\n",
    "today"
   ]
  },
  {
   "cell_type": "code",
   "execution_count": 40,
   "metadata": {},
   "outputs": [
    {
     "data": {
      "text/plain": [
       "Timedelta('30 days 00:00:00')"
      ]
     },
     "execution_count": 40,
     "metadata": {},
     "output_type": "execute_result"
    }
   ],
   "source": [
    "# get 30 day Timedelta\n",
    "delta_30 = pd.Timedelta('30 days')\n",
    "delta_30"
   ]
  },
  {
   "cell_type": "code",
   "execution_count": 41,
   "metadata": {},
   "outputs": [],
   "source": [
    "def set_retained_value(row, val):\n",
    "    \"\"\"Assigns retained value based on boolean time condition\"\"\"\n",
    "    return val[row]"
   ]
  },
  {
   "cell_type": "code",
   "execution_count": 42,
   "metadata": {},
   "outputs": [],
   "source": [
    "# set boolean value assignments\n",
    "retained_dict = {True: 1, False: 0}"
   ]
  },
  {
   "cell_type": "code",
   "execution_count": 43,
   "metadata": {},
   "outputs": [
    {
     "data": {
      "text/html": [
       "<div>\n",
       "<style scoped>\n",
       "    .dataframe tbody tr th:only-of-type {\n",
       "        vertical-align: middle;\n",
       "    }\n",
       "\n",
       "    .dataframe tbody tr th {\n",
       "        vertical-align: top;\n",
       "    }\n",
       "\n",
       "    .dataframe thead th {\n",
       "        text-align: right;\n",
       "    }\n",
       "</style>\n",
       "<table border=\"1\" class=\"dataframe\">\n",
       "  <thead>\n",
       "    <tr style=\"text-align: right;\">\n",
       "      <th></th>\n",
       "      <th>last_trip_date</th>\n",
       "      <th>retained</th>\n",
       "    </tr>\n",
       "  </thead>\n",
       "  <tbody>\n",
       "    <tr>\n",
       "      <th>0</th>\n",
       "      <td>2014-06-17</td>\n",
       "      <td>1</td>\n",
       "    </tr>\n",
       "    <tr>\n",
       "      <th>1</th>\n",
       "      <td>2014-05-05</td>\n",
       "      <td>0</td>\n",
       "    </tr>\n",
       "    <tr>\n",
       "      <th>2</th>\n",
       "      <td>2014-01-07</td>\n",
       "      <td>0</td>\n",
       "    </tr>\n",
       "    <tr>\n",
       "      <th>3</th>\n",
       "      <td>2014-06-29</td>\n",
       "      <td>1</td>\n",
       "    </tr>\n",
       "    <tr>\n",
       "      <th>4</th>\n",
       "      <td>2014-03-15</td>\n",
       "      <td>0</td>\n",
       "    </tr>\n",
       "  </tbody>\n",
       "</table>\n",
       "</div>"
      ],
      "text/plain": [
       "  last_trip_date  retained\n",
       "0     2014-06-17         1\n",
       "1     2014-05-05         0\n",
       "2     2014-01-07         0\n",
       "3     2014-06-29         1\n",
       "4     2014-03-15         0"
      ]
     },
     "execution_count": 43,
     "metadata": {},
     "output_type": "execute_result"
    }
   ],
   "source": [
    "# create binary retained user feature\n",
    "df['retained'] = (today - df['last_trip_date'] <= delta_30).apply(\n",
    "    set_retained_value, args=(retained_dict, ))\n",
    "df[['last_trip_date', 'retained']].head()"
   ]
  },
  {
   "cell_type": "code",
   "execution_count": 44,
   "metadata": {},
   "outputs": [
    {
     "name": "stdout",
     "output_type": "stream",
     "text": [
      "The retention rate is: 38.0%.\n"
     ]
    }
   ],
   "source": [
    "# get retention rate for January signups\n",
    "print('The retention rate is: {}%.'.format(np.round(df['retained'].mean() * 100)))"
   ]
  },
  {
   "cell_type": "markdown",
   "metadata": {},
   "source": [
    "A little over a third of the people who signed up were retained."
   ]
  },
  {
   "cell_type": "code",
   "execution_count": 45,
   "metadata": {},
   "outputs": [],
   "source": [
    "def plot_correlations(data):\n",
    "    \"\"\"Return heatmap plot of correlations\"\"\"\n",
    "    fig, ax = plt.subplots(figsize=(6.5,6.5))\n",
    "\n",
    "    sns.set(font_scale=0.8)\n",
    "    sns.heatmap(\n",
    "        data.corr(), vmin=0, vmax=1.0, center=0, fmt='0.2f', square=True, \n",
    "        linewidths=0.5, annot=True, cbar_kws={\"shrink\": 0.60});"
   ]
  },
  {
   "cell_type": "code",
   "execution_count": 46,
   "metadata": {},
   "outputs": [
    {
     "data": {
      "image/png": "[encoded data removed]",
      "text/plain": [
       "<Figure size 468x468 with 2 Axes>"
      ]
     },
     "metadata": {},
     "output_type": "display_data"
    }
   ],
   "source": [
    "# plot correlations in dataset\n",
    "plot_correlations(df)"
   ]
  },
  {
   "cell_type": "markdown",
   "metadata": {},
   "source": [
    "The obligatory correlation plot offers little insight."
   ]
  },
  {
   "cell_type": "code",
   "execution_count": 47,
   "metadata": {},
   "outputs": [],
   "source": [
    "def plot_categoricals(data):\n",
    "    \"\"\"Plots target variable grouped by each categorical feature\"\"\"\n",
    "    # establish figure height\n",
    "    num_subplots = len(data.columns) - 1\n",
    "    fig_height = num_subplots * 4\n",
    "    fig, axes = plt.subplots(nrows=num_subplots, figsize=(12, fig_height))\n",
    "    # plot features in dataset\n",
    "    count = 1\n",
    "    for col in data.drop('retained', axis=1):\n",
    "        plt.subplot(num_subplots, 1, count)\n",
    "        plt.ylim(0, 0.7)\n",
    "        # gather retained data by feature\n",
    "        feature_df = data.groupby(col)['retained'].mean().reset_index()\n",
    "        # mix up the color palette\n",
    "        palette = [mp.colors(count - 1), mp.colors(count + 3), mp.colors(count + 2)]\n",
    "        # plot feature values vs. retention rate\n",
    "        sns.barplot(x=col, y='retained', data=feature_df, palette=palette)\n",
    "        # get count of unique values in category\n",
    "        num_cats = len(data[col].dropna().unique())\n",
    "        # plot average retention rates\n",
    "        plt.hlines(df['retained'].mean(), xmin=-0.5, xmax=num_cats - 0.5, \n",
    "                   linestyles=(0, (3, 1, 1, 1)), \n",
    "                   label='Average Overall Retention Rate', colors='k')\n",
    "        plt.hlines(feature_df['retained'].mean(), xmin=-0.5, xmax=num_cats - 0.5, \n",
    "                   linestyles=(0, (3, 1, 1, 1, 1, 1)), \n",
    "                   label='Average Categorical Retention Rate', colors='r')\n",
    "        count += 1\n",
    "        plt.xlabel(col, fontsize=15)\n",
    "        plt.ylabel('Retention Rate', fontsize=15)\n",
    "        plt.legend(loc=2, fontsize='large')\n",
    "    plt.suptitle(\"Retention Rate for Catergorical Variables\", y=1.04, fontsize=20)\n",
    "    plt.tight_layout();"
   ]
  },
  {
   "cell_type": "code",
   "execution_count": 48,
   "metadata": {},
   "outputs": [
    {
     "data": {
      "text/plain": [
       "['city', 'phone', 'ultimate_black_user']"
      ]
     },
     "execution_count": 48,
     "metadata": {},
     "output_type": "execute_result"
    }
   ],
   "source": [
    "# pick out categorical variables\n",
    "cat_cols_lst = [feature for feature in df.columns if (\n",
    "    type(df[feature][0]) is str) | (\n",
    "    type(df[feature][0]) is np.bool_)]\n",
    "cat_cols_lst"
   ]
  },
  {
   "cell_type": "code",
   "execution_count": 49,
   "metadata": {},
   "outputs": [
    {
     "data": {
      "image/png": "[encoded data removed]",
      "text/plain": [
       "<Figure size 864x864 with 3 Axes>"
      ]
     },
     "metadata": {},
     "output_type": "display_data"
    }
   ],
   "source": [
    "# plot categorical variables vs target\n",
    "plot_categoricals(df[cat_cols_lst + ['retained']])"
   ]
  },
  {
   "cell_type": "markdown",
   "metadata": {},
   "source": [
    "King's Landing inhabitants, iPhone users, and Ultimate Black Users have the highest retention rates in their categories."
   ]
  },
  {
   "cell_type": "markdown",
   "metadata": {},
   "source": [
    "I will use XGBoost to perform a binary classification for retained users.<br>\n",
    "Tree boosting is well known to give accurate predictions on a wide range of machine learning problems.<br>\n",
    "XGBoost is one of the fastest performing models and scaling is not required.<br>\n",
    "Slower methods such as logistic regression or K-Nearest Neighbors could be used, as well."
   ]
  },
  {
   "cell_type": "markdown",
   "metadata": {},
   "source": [
    "One concern is that trees sometimes perform poorly on the sparse data I'll create with the Pandas get dummies method."
   ]
  },
  {
   "cell_type": "code",
   "execution_count": 50,
   "metadata": {},
   "outputs": [],
   "source": [
    "# separate data into features and target\n",
    "X = df.drop('retained', axis=1)\n",
    "y = df['retained']"
   ]
  },
  {
   "cell_type": "code",
   "execution_count": 51,
   "metadata": {},
   "outputs": [
    {
     "data": {
      "text/plain": [
       "numpy.bool_"
      ]
     },
     "execution_count": 51,
     "metadata": {},
     "output_type": "execute_result"
    }
   ],
   "source": [
    "# check data type before encoding\n",
    "type(X['ultimate_black_user'][0])"
   ]
  },
  {
   "cell_type": "code",
   "execution_count": 52,
   "metadata": {},
   "outputs": [
    {
     "data": {
      "text/plain": [
       "str"
      ]
     },
     "execution_count": 52,
     "metadata": {},
     "output_type": "execute_result"
    }
   ],
   "source": [
    "# convert data type\n",
    "X['ultimate_black_user'] = X['ultimate_black_user'].astype(str)\n",
    "type(X['ultimate_black_user'][0])"
   ]
  },
  {
   "cell_type": "code",
   "execution_count": 53,
   "metadata": {},
   "outputs": [
    {
     "data": {
      "text/html": [
       "<div>\n",
       "<style scoped>\n",
       "    .dataframe tbody tr th:only-of-type {\n",
       "        vertical-align: middle;\n",
       "    }\n",
       "\n",
       "    .dataframe tbody tr th {\n",
       "        vertical-align: top;\n",
       "    }\n",
       "\n",
       "    .dataframe thead th {\n",
       "        text-align: right;\n",
       "    }\n",
       "</style>\n",
       "<table border=\"1\" class=\"dataframe\">\n",
       "  <thead>\n",
       "    <tr style=\"text-align: right;\">\n",
       "      <th></th>\n",
       "      <th>trips_in_first_30_days</th>\n",
       "      <th>signup_date</th>\n",
       "      <th>avg_rating_of_driver</th>\n",
       "      <th>avg_surge</th>\n",
       "      <th>last_trip_date</th>\n",
       "      <th>surge_pct</th>\n",
       "      <th>weekday_pct</th>\n",
       "      <th>avg_dist</th>\n",
       "      <th>avg_rating_by_driver</th>\n",
       "      <th>city_astapor</th>\n",
       "      <th>city_king's landing</th>\n",
       "      <th>city_winterfell</th>\n",
       "      <th>phone_android</th>\n",
       "      <th>phone_iphone</th>\n",
       "      <th>ultimate_black_user_false</th>\n",
       "      <th>ultimate_black_user_true</th>\n",
       "    </tr>\n",
       "  </thead>\n",
       "  <tbody>\n",
       "    <tr>\n",
       "      <th>0</th>\n",
       "      <td>4</td>\n",
       "      <td>2014-01-25</td>\n",
       "      <td>4.7</td>\n",
       "      <td>1.10</td>\n",
       "      <td>2014-06-17</td>\n",
       "      <td>15.4</td>\n",
       "      <td>46.2</td>\n",
       "      <td>3.67</td>\n",
       "      <td>5.0</td>\n",
       "      <td>0</td>\n",
       "      <td>1</td>\n",
       "      <td>0</td>\n",
       "      <td>0</td>\n",
       "      <td>1</td>\n",
       "      <td>0</td>\n",
       "      <td>1</td>\n",
       "    </tr>\n",
       "    <tr>\n",
       "      <th>1</th>\n",
       "      <td>0</td>\n",
       "      <td>2014-01-29</td>\n",
       "      <td>5.0</td>\n",
       "      <td>1.00</td>\n",
       "      <td>2014-05-05</td>\n",
       "      <td>0.0</td>\n",
       "      <td>50.0</td>\n",
       "      <td>8.26</td>\n",
       "      <td>5.0</td>\n",
       "      <td>1</td>\n",
       "      <td>0</td>\n",
       "      <td>0</td>\n",
       "      <td>1</td>\n",
       "      <td>0</td>\n",
       "      <td>1</td>\n",
       "      <td>0</td>\n",
       "    </tr>\n",
       "    <tr>\n",
       "      <th>2</th>\n",
       "      <td>3</td>\n",
       "      <td>2014-01-06</td>\n",
       "      <td>4.3</td>\n",
       "      <td>1.00</td>\n",
       "      <td>2014-01-07</td>\n",
       "      <td>0.0</td>\n",
       "      <td>100.0</td>\n",
       "      <td>0.77</td>\n",
       "      <td>5.0</td>\n",
       "      <td>1</td>\n",
       "      <td>0</td>\n",
       "      <td>0</td>\n",
       "      <td>0</td>\n",
       "      <td>1</td>\n",
       "      <td>1</td>\n",
       "      <td>0</td>\n",
       "    </tr>\n",
       "    <tr>\n",
       "      <th>3</th>\n",
       "      <td>9</td>\n",
       "      <td>2014-01-10</td>\n",
       "      <td>4.6</td>\n",
       "      <td>1.14</td>\n",
       "      <td>2014-06-29</td>\n",
       "      <td>20.0</td>\n",
       "      <td>80.0</td>\n",
       "      <td>2.36</td>\n",
       "      <td>4.9</td>\n",
       "      <td>0</td>\n",
       "      <td>1</td>\n",
       "      <td>0</td>\n",
       "      <td>0</td>\n",
       "      <td>1</td>\n",
       "      <td>0</td>\n",
       "      <td>1</td>\n",
       "    </tr>\n",
       "    <tr>\n",
       "      <th>4</th>\n",
       "      <td>14</td>\n",
       "      <td>2014-01-27</td>\n",
       "      <td>4.4</td>\n",
       "      <td>1.19</td>\n",
       "      <td>2014-03-15</td>\n",
       "      <td>11.8</td>\n",
       "      <td>82.4</td>\n",
       "      <td>3.13</td>\n",
       "      <td>4.9</td>\n",
       "      <td>0</td>\n",
       "      <td>0</td>\n",
       "      <td>1</td>\n",
       "      <td>1</td>\n",
       "      <td>0</td>\n",
       "      <td>1</td>\n",
       "      <td>0</td>\n",
       "    </tr>\n",
       "  </tbody>\n",
       "</table>\n",
       "</div>"
      ],
      "text/plain": [
       "   trips_in_first_30_days signup_date  avg_rating_of_driver  avg_surge  \\\n",
       "0                       4  2014-01-25                   4.7       1.10   \n",
       "1                       0  2014-01-29                   5.0       1.00   \n",
       "2                       3  2014-01-06                   4.3       1.00   \n",
       "3                       9  2014-01-10                   4.6       1.14   \n",
       "4                      14  2014-01-27                   4.4       1.19   \n",
       "\n",
       "  last_trip_date  surge_pct  weekday_pct  avg_dist  avg_rating_by_driver  \\\n",
       "0     2014-06-17       15.4         46.2      3.67                   5.0   \n",
       "1     2014-05-05        0.0         50.0      8.26                   5.0   \n",
       "2     2014-01-07        0.0        100.0      0.77                   5.0   \n",
       "3     2014-06-29       20.0         80.0      2.36                   4.9   \n",
       "4     2014-03-15       11.8         82.4      3.13                   4.9   \n",
       "\n",
       "   city_astapor  city_king's landing  city_winterfell  phone_android  \\\n",
       "0             0                    1                0              0   \n",
       "1             1                    0                0              1   \n",
       "2             1                    0                0              0   \n",
       "3             0                    1                0              0   \n",
       "4             0                    0                1              1   \n",
       "\n",
       "   phone_iphone  ultimate_black_user_false  ultimate_black_user_true  \n",
       "0             1                          0                         1  \n",
       "1             0                          1                         0  \n",
       "2             1                          1                         0  \n",
       "3             1                          0                         1  \n",
       "4             0                          1                         0  "
      ]
     },
     "execution_count": 53,
     "metadata": {},
     "output_type": "execute_result"
    }
   ],
   "source": [
    "# encode categorical variables\n",
    "X = pd.get_dummies(X, prefix=cat_cols_lst).rename(str.lower, axis=1)\n",
    "X.head()"
   ]
  },
  {
   "cell_type": "markdown",
   "metadata": {},
   "source": [
    "Concerning the Timestamp columns, I'm going to drop them.<br>\n",
    "The signup date is a fairly random number between 1 and 31.<br>\n",
    "There may be some prediction value gained by convering it to days of the week, but I'm deciding to proceed without it.<br>\n",
    "The last trip date has already been used to determine the retained status.<br>\n",
    "Keeping this feature may open the model up to a data leak and cause overfitting."
   ]
  },
  {
   "cell_type": "code",
   "execution_count": 54,
   "metadata": {},
   "outputs": [
    {
     "data": {
      "text/html": [
       "<div>\n",
       "<style scoped>\n",
       "    .dataframe tbody tr th:only-of-type {\n",
       "        vertical-align: middle;\n",
       "    }\n",
       "\n",
       "    .dataframe tbody tr th {\n",
       "        vertical-align: top;\n",
       "    }\n",
       "\n",
       "    .dataframe thead th {\n",
       "        text-align: right;\n",
       "    }\n",
       "</style>\n",
       "<table border=\"1\" class=\"dataframe\">\n",
       "  <thead>\n",
       "    <tr style=\"text-align: right;\">\n",
       "      <th></th>\n",
       "      <th>trips_in_first_30_days</th>\n",
       "      <th>avg_rating_of_driver</th>\n",
       "      <th>avg_surge</th>\n",
       "      <th>surge_pct</th>\n",
       "      <th>weekday_pct</th>\n",
       "      <th>avg_dist</th>\n",
       "      <th>avg_rating_by_driver</th>\n",
       "      <th>city_astapor</th>\n",
       "      <th>city_king's landing</th>\n",
       "      <th>city_winterfell</th>\n",
       "      <th>phone_android</th>\n",
       "      <th>phone_iphone</th>\n",
       "      <th>ultimate_black_user_false</th>\n",
       "      <th>ultimate_black_user_true</th>\n",
       "    </tr>\n",
       "  </thead>\n",
       "  <tbody>\n",
       "    <tr>\n",
       "      <th>0</th>\n",
       "      <td>4</td>\n",
       "      <td>4.7</td>\n",
       "      <td>1.10</td>\n",
       "      <td>15.4</td>\n",
       "      <td>46.2</td>\n",
       "      <td>3.67</td>\n",
       "      <td>5.0</td>\n",
       "      <td>0</td>\n",
       "      <td>1</td>\n",
       "      <td>0</td>\n",
       "      <td>0</td>\n",
       "      <td>1</td>\n",
       "      <td>0</td>\n",
       "      <td>1</td>\n",
       "    </tr>\n",
       "    <tr>\n",
       "      <th>1</th>\n",
       "      <td>0</td>\n",
       "      <td>5.0</td>\n",
       "      <td>1.00</td>\n",
       "      <td>0.0</td>\n",
       "      <td>50.0</td>\n",
       "      <td>8.26</td>\n",
       "      <td>5.0</td>\n",
       "      <td>1</td>\n",
       "      <td>0</td>\n",
       "      <td>0</td>\n",
       "      <td>1</td>\n",
       "      <td>0</td>\n",
       "      <td>1</td>\n",
       "      <td>0</td>\n",
       "    </tr>\n",
       "    <tr>\n",
       "      <th>2</th>\n",
       "      <td>3</td>\n",
       "      <td>4.3</td>\n",
       "      <td>1.00</td>\n",
       "      <td>0.0</td>\n",
       "      <td>100.0</td>\n",
       "      <td>0.77</td>\n",
       "      <td>5.0</td>\n",
       "      <td>1</td>\n",
       "      <td>0</td>\n",
       "      <td>0</td>\n",
       "      <td>0</td>\n",
       "      <td>1</td>\n",
       "      <td>1</td>\n",
       "      <td>0</td>\n",
       "    </tr>\n",
       "    <tr>\n",
       "      <th>3</th>\n",
       "      <td>9</td>\n",
       "      <td>4.6</td>\n",
       "      <td>1.14</td>\n",
       "      <td>20.0</td>\n",
       "      <td>80.0</td>\n",
       "      <td>2.36</td>\n",
       "      <td>4.9</td>\n",
       "      <td>0</td>\n",
       "      <td>1</td>\n",
       "      <td>0</td>\n",
       "      <td>0</td>\n",
       "      <td>1</td>\n",
       "      <td>0</td>\n",
       "      <td>1</td>\n",
       "    </tr>\n",
       "    <tr>\n",
       "      <th>4</th>\n",
       "      <td>14</td>\n",
       "      <td>4.4</td>\n",
       "      <td>1.19</td>\n",
       "      <td>11.8</td>\n",
       "      <td>82.4</td>\n",
       "      <td>3.13</td>\n",
       "      <td>4.9</td>\n",
       "      <td>0</td>\n",
       "      <td>0</td>\n",
       "      <td>1</td>\n",
       "      <td>1</td>\n",
       "      <td>0</td>\n",
       "      <td>1</td>\n",
       "      <td>0</td>\n",
       "    </tr>\n",
       "  </tbody>\n",
       "</table>\n",
       "</div>"
      ],
      "text/plain": [
       "   trips_in_first_30_days  avg_rating_of_driver  avg_surge  surge_pct  \\\n",
       "0                       4                   4.7       1.10       15.4   \n",
       "1                       0                   5.0       1.00        0.0   \n",
       "2                       3                   4.3       1.00        0.0   \n",
       "3                       9                   4.6       1.14       20.0   \n",
       "4                      14                   4.4       1.19       11.8   \n",
       "\n",
       "   weekday_pct  avg_dist  avg_rating_by_driver  city_astapor  \\\n",
       "0         46.2      3.67                   5.0             0   \n",
       "1         50.0      8.26                   5.0             1   \n",
       "2        100.0      0.77                   5.0             1   \n",
       "3         80.0      2.36                   4.9             0   \n",
       "4         82.4      3.13                   4.9             0   \n",
       "\n",
       "   city_king's landing  city_winterfell  phone_android  phone_iphone  \\\n",
       "0                    1                0              0             1   \n",
       "1                    0                0              1             0   \n",
       "2                    0                0              0             1   \n",
       "3                    1                0              0             1   \n",
       "4                    0                1              1             0   \n",
       "\n",
       "   ultimate_black_user_false  ultimate_black_user_true  \n",
       "0                          0                         1  \n",
       "1                          1                         0  \n",
       "2                          1                         0  \n",
       "3                          0                         1  \n",
       "4                          1                         0  "
      ]
     },
     "execution_count": 54,
     "metadata": {},
     "output_type": "execute_result"
    }
   ],
   "source": [
    "# drop Timestamp objects\n",
    "X.drop(['signup_date', 'last_trip_date'], axis=1, inplace=True)\n",
    "X.head()"
   ]
  },
  {
   "cell_type": "code",
   "execution_count": 55,
   "metadata": {},
   "outputs": [],
   "source": [
    "# split dataset\n",
    "X_train, X_test, y_train, y_test = train_test_split(\n",
    "    X, y, test_size=0.2, random_state=27)"
   ]
  },
  {
   "cell_type": "code",
   "execution_count": 56,
   "metadata": {},
   "outputs": [],
   "source": [
    "def get_base_model(features, target):\n",
    "    \"\"\"Return base XGBoost classifier model\"\"\"\n",
    "    model = xgb.XGBClassifier(objective='binary:logistic', random_state=27, n_jobs=-1)\n",
    "    model.fit(features, target)\n",
    "    \n",
    "    return model"
   ]
  },
  {
   "cell_type": "code",
   "execution_count": 57,
   "metadata": {},
   "outputs": [],
   "source": [
    "def get_params(model):\n",
    "    \"\"\"Return hyperparameters of interest from classifier\"\"\"\n",
    "    series = pd.Series(\n",
    "        model.get_params(), name='model_params').drop(\n",
    "        ['base_score', 'booster', 'missing', 'n_jobs', 'nthread', 'objective', \n",
    "         'random_state', 'scale_pos_weight', 'seed', 'silent', 'verbosity'])\n",
    "    \n",
    "    return series"
   ]
  },
  {
   "cell_type": "code",
   "execution_count": 58,
   "metadata": {},
   "outputs": [
    {
     "data": {
      "text/plain": [
       "colsample_bylevel      1\n",
       "colsample_bynode       1\n",
       "colsample_bytree       1\n",
       "gamma                  0\n",
       "learning_rate        0.1\n",
       "max_delta_step         0\n",
       "max_depth              3\n",
       "min_child_weight       1\n",
       "n_estimators         100\n",
       "reg_alpha              0\n",
       "reg_lambda             1\n",
       "subsample              1\n",
       "Name: model_params, dtype: object"
      ]
     },
     "execution_count": 58,
     "metadata": {},
     "output_type": "execute_result"
    }
   ],
   "source": [
    "# instantiate base model for given target and get parameters\n",
    "base_model = get_base_model(X_train, y_train)\n",
    "get_params(base_model)"
   ]
  },
  {
   "cell_type": "code",
   "execution_count": 59,
   "metadata": {},
   "outputs": [],
   "source": [
    "def get_cv_adj_r2(features, target, model):\n",
    "    \"\"\"Return cross-validation average adjusted R2 score and adjusted R2 score range\"\"\"\n",
    "    cv_results = cross_val_score(model, features, target, cv=10, n_jobs=-1)\n",
    "    \n",
    "    n = features.shape[0]\n",
    "    p = features.shape[1]\n",
    "    adj_r2 = 1 - (1 - cv_results) * ((n - 1)  / (n - p - 1))\n",
    "\n",
    "    # get range of scores\n",
    "    results_range = (np.min(adj_r2), np.max(adj_r2))\n",
    "    # get average score and round to 5 decimal places\n",
    "    ave_result = np.mean(adj_r2)\n",
    "\n",
    "    return f'Average Adjusted R2 Score: {ave_result:.4f}, Range: ({results_range[0]:.4f}, {results_range[1]:.4f})'"
   ]
  },
  {
   "cell_type": "code",
   "execution_count": 60,
   "metadata": {},
   "outputs": [
    {
     "data": {
      "text/plain": [
       "'Average Adjusted R2 Score: 0.7863, Range: (0.7759, 0.7982)'"
      ]
     },
     "execution_count": 60,
     "metadata": {},
     "output_type": "execute_result"
    }
   ],
   "source": [
    "# get statistics for 10 fold cross-validation\n",
    "get_cv_adj_r2(X_train, y_train, base_model)"
   ]
  },
  {
   "cell_type": "markdown",
   "metadata": {},
   "source": [
    "The base model is a fairly strong predictor with a narrow range of cross-validation scores."
   ]
  },
  {
   "cell_type": "code",
   "execution_count": 61,
   "metadata": {},
   "outputs": [],
   "source": [
    "def plot_predictions(features, target, model):\n",
    "    \"\"\"Return plot of distribution of residuals\"\"\"\n",
    "    X_train, X_test, y_train, y_test = train_test_split(\n",
    "        features, target, test_size=0.2, random_state=27)\n",
    "    guesses = []\n",
    "    for guess, truth in zip(model.predict(X_test), y_test):\n",
    "        if guess == truth:\n",
    "            guesses.append('Good Guess')\n",
    "        else:\n",
    "            guesses.append('Bad Guess')\n",
    "    sns.countplot(guesses)"
   ]
  },
  {
   "cell_type": "code",
   "execution_count": 62,
   "metadata": {},
   "outputs": [
    {
     "data": {
      "image/png": "[encoded data removed]",
      "text/plain": [
       "<Figure size 864x288 with 1 Axes>"
      ]
     },
     "metadata": {},
     "output_type": "display_data"
    }
   ],
   "source": [
    "# plot prediction for out of the box binary classifier model\n",
    "plot_predictions(X_train, y_train, base_model)"
   ]
  },
  {
   "cell_type": "markdown",
   "metadata": {},
   "source": [
    "We have a fairly good guessing machine."
   ]
  },
  {
   "cell_type": "code",
   "execution_count": 63,
   "metadata": {},
   "outputs": [],
   "source": [
    "def get_reports(features, target, model):\n",
    "    \"\"\"Return classification reports and confusion matrices for traning and test data\"\"\"\n",
    "    X_train, X_test, y_train, y_test = train_test_split(\n",
    "        features, target, test_size=0.2, random_state=27)    \n",
    "    # get classification reports\n",
    "    cr_train_df = pd.DataFrame(\n",
    "        classification_report(\n",
    "            y_train, model.predict(X_train), digits=3, output_dict=True)).transpose()\n",
    "    cr_test_df = pd.DataFrame(\n",
    "        classification_report(\n",
    "            y_test, model.predict(X_test), digits=3, output_dict=True)).transpose()\n",
    "    # get confusion matrices\n",
    "    cm_train_df = pd.DataFrame(\n",
    "        confusion_matrix(y_train, model.predict(X_train)))\n",
    "    cm_test_df = pd.DataFrame(\n",
    "        confusion_matrix(y_test, model.predict(X_test)))\n",
    "    # prep data for HTML display\n",
    "    df1_styler = cr_train_df.style.set_table_attributes(\n",
    "        \"style='display:inline'\").set_caption(\n",
    "        'Training Classification Report')\n",
    "    df2_styler = cr_test_df.style.set_table_attributes(\n",
    "        \"style='display:inline'\").set_caption(\n",
    "        'Test Classification Report')\n",
    "    df3_styler = cm_train_df.style.set_table_attributes(\n",
    "        \"style='display:inline'\").set_caption(\n",
    "        'Training Confusion Matrix')\n",
    "    df4_styler = cm_test_df.style.set_table_attributes(\n",
    "        \"style='display:inline'\").set_caption(\n",
    "        'Test Confusion Matrix')\n",
    "    # display reports and matrices\n",
    "    display_html(\n",
    "        df1_styler._repr_html_() \n",
    "        + df2_styler._repr_html_() \n",
    "        + df3_styler._repr_html_() \n",
    "        + df4_styler._repr_html_(), raw=True)    "
   ]
  },
  {
   "cell_type": "code",
   "execution_count": 64,
   "metadata": {},
   "outputs": [
    {
     "data": {
      "text/html": [
       "<style  type=\"text/css\" >\n",
       "</style><table id=\"T_cff8d09e_df92_11ea_9c06_ebbc616cf56a\" style='display:inline'><caption>Training Classification Report</caption><thead>    <tr>        <th class=\"blank level0\" ></th>        <th class=\"col_heading level0 col0\" >precision</th>        <th class=\"col_heading level0 col1\" >recall</th>        <th class=\"col_heading level0 col2\" >f1-score</th>        <th class=\"col_heading level0 col3\" >support</th>    </tr></thead><tbody>\n",
       "                <tr>\n",
       "                        <th id=\"T_cff8d09e_df92_11ea_9c06_ebbc616cf56alevel0_row0\" class=\"row_heading level0 row0\" >0</th>\n",
       "                        <td id=\"T_cff8d09e_df92_11ea_9c06_ebbc616cf56arow0_col0\" class=\"data row0 col0\" >0.811685</td>\n",
       "                        <td id=\"T_cff8d09e_df92_11ea_9c06_ebbc616cf56arow0_col1\" class=\"data row0 col1\" >0.860886</td>\n",
       "                        <td id=\"T_cff8d09e_df92_11ea_9c06_ebbc616cf56arow0_col2\" class=\"data row0 col2\" >0.835562</td>\n",
       "                        <td id=\"T_cff8d09e_df92_11ea_9c06_ebbc616cf56arow0_col3\" class=\"data row0 col3\" >19962.000000</td>\n",
       "            </tr>\n",
       "            <tr>\n",
       "                        <th id=\"T_cff8d09e_df92_11ea_9c06_ebbc616cf56alevel0_row1\" class=\"row_heading level0 row1\" >1</th>\n",
       "                        <td id=\"T_cff8d09e_df92_11ea_9c06_ebbc616cf56arow1_col0\" class=\"data row1 col0\" >0.743512</td>\n",
       "                        <td id=\"T_cff8d09e_df92_11ea_9c06_ebbc616cf56arow1_col1\" class=\"data row1 col1\" >0.668771</td>\n",
       "                        <td id=\"T_cff8d09e_df92_11ea_9c06_ebbc616cf56arow1_col2\" class=\"data row1 col2\" >0.704164</td>\n",
       "                        <td id=\"T_cff8d09e_df92_11ea_9c06_ebbc616cf56arow1_col3\" class=\"data row1 col3\" >12037.000000</td>\n",
       "            </tr>\n",
       "            <tr>\n",
       "                        <th id=\"T_cff8d09e_df92_11ea_9c06_ebbc616cf56alevel0_row2\" class=\"row_heading level0 row2\" >accuracy</th>\n",
       "                        <td id=\"T_cff8d09e_df92_11ea_9c06_ebbc616cf56arow2_col0\" class=\"data row2 col0\" >0.788618</td>\n",
       "                        <td id=\"T_cff8d09e_df92_11ea_9c06_ebbc616cf56arow2_col1\" class=\"data row2 col1\" >0.788618</td>\n",
       "                        <td id=\"T_cff8d09e_df92_11ea_9c06_ebbc616cf56arow2_col2\" class=\"data row2 col2\" >0.788618</td>\n",
       "                        <td id=\"T_cff8d09e_df92_11ea_9c06_ebbc616cf56arow2_col3\" class=\"data row2 col3\" >0.788618</td>\n",
       "            </tr>\n",
       "            <tr>\n",
       "                        <th id=\"T_cff8d09e_df92_11ea_9c06_ebbc616cf56alevel0_row3\" class=\"row_heading level0 row3\" >macro avg</th>\n",
       "                        <td id=\"T_cff8d09e_df92_11ea_9c06_ebbc616cf56arow3_col0\" class=\"data row3 col0\" >0.777598</td>\n",
       "                        <td id=\"T_cff8d09e_df92_11ea_9c06_ebbc616cf56arow3_col1\" class=\"data row3 col1\" >0.764828</td>\n",
       "                        <td id=\"T_cff8d09e_df92_11ea_9c06_ebbc616cf56arow3_col2\" class=\"data row3 col2\" >0.769863</td>\n",
       "                        <td id=\"T_cff8d09e_df92_11ea_9c06_ebbc616cf56arow3_col3\" class=\"data row3 col3\" >31999.000000</td>\n",
       "            </tr>\n",
       "            <tr>\n",
       "                        <th id=\"T_cff8d09e_df92_11ea_9c06_ebbc616cf56alevel0_row4\" class=\"row_heading level0 row4\" >weighted avg</th>\n",
       "                        <td id=\"T_cff8d09e_df92_11ea_9c06_ebbc616cf56arow4_col0\" class=\"data row4 col0\" >0.786040</td>\n",
       "                        <td id=\"T_cff8d09e_df92_11ea_9c06_ebbc616cf56arow4_col1\" class=\"data row4 col1\" >0.788618</td>\n",
       "                        <td id=\"T_cff8d09e_df92_11ea_9c06_ebbc616cf56arow4_col2\" class=\"data row4 col2\" >0.786134</td>\n",
       "                        <td id=\"T_cff8d09e_df92_11ea_9c06_ebbc616cf56arow4_col3\" class=\"data row4 col3\" >31999.000000</td>\n",
       "            </tr>\n",
       "    </tbody></table><style  type=\"text/css\" >\n",
       "</style><table id=\"T_cff92f58_df92_11ea_9c06_ebbc616cf56a\" style='display:inline'><caption>Test Classification Report</caption><thead>    <tr>        <th class=\"blank level0\" ></th>        <th class=\"col_heading level0 col0\" >precision</th>        <th class=\"col_heading level0 col1\" >recall</th>        <th class=\"col_heading level0 col2\" >f1-score</th>        <th class=\"col_heading level0 col3\" >support</th>    </tr></thead><tbody>\n",
       "                <tr>\n",
       "                        <th id=\"T_cff92f58_df92_11ea_9c06_ebbc616cf56alevel0_row0\" class=\"row_heading level0 row0\" >0</th>\n",
       "                        <td id=\"T_cff92f58_df92_11ea_9c06_ebbc616cf56arow0_col0\" class=\"data row0 col0\" >0.813049</td>\n",
       "                        <td id=\"T_cff92f58_df92_11ea_9c06_ebbc616cf56arow0_col1\" class=\"data row0 col1\" >0.865300</td>\n",
       "                        <td id=\"T_cff92f58_df92_11ea_9c06_ebbc616cf56arow0_col2\" class=\"data row0 col2\" >0.838361</td>\n",
       "                        <td id=\"T_cff92f58_df92_11ea_9c06_ebbc616cf56arow0_col3\" class=\"data row0 col3\" >5026.000000</td>\n",
       "            </tr>\n",
       "            <tr>\n",
       "                        <th id=\"T_cff92f58_df92_11ea_9c06_ebbc616cf56alevel0_row1\" class=\"row_heading level0 row1\" >1</th>\n",
       "                        <td id=\"T_cff92f58_df92_11ea_9c06_ebbc616cf56arow1_col0\" class=\"data row1 col0\" >0.744625</td>\n",
       "                        <td id=\"T_cff92f58_df92_11ea_9c06_ebbc616cf56arow1_col1\" class=\"data row1 col1\" >0.663753</td>\n",
       "                        <td id=\"T_cff92f58_df92_11ea_9c06_ebbc616cf56arow1_col2\" class=\"data row1 col2\" >0.701867</td>\n",
       "                        <td id=\"T_cff92f58_df92_11ea_9c06_ebbc616cf56arow1_col3\" class=\"data row1 col3\" >2974.000000</td>\n",
       "            </tr>\n",
       "            <tr>\n",
       "                        <th id=\"T_cff92f58_df92_11ea_9c06_ebbc616cf56alevel0_row2\" class=\"row_heading level0 row2\" >accuracy</th>\n",
       "                        <td id=\"T_cff92f58_df92_11ea_9c06_ebbc616cf56arow2_col0\" class=\"data row2 col0\" >0.790375</td>\n",
       "                        <td id=\"T_cff92f58_df92_11ea_9c06_ebbc616cf56arow2_col1\" class=\"data row2 col1\" >0.790375</td>\n",
       "                        <td id=\"T_cff92f58_df92_11ea_9c06_ebbc616cf56arow2_col2\" class=\"data row2 col2\" >0.790375</td>\n",
       "                        <td id=\"T_cff92f58_df92_11ea_9c06_ebbc616cf56arow2_col3\" class=\"data row2 col3\" >0.790375</td>\n",
       "            </tr>\n",
       "            <tr>\n",
       "                        <th id=\"T_cff92f58_df92_11ea_9c06_ebbc616cf56alevel0_row3\" class=\"row_heading level0 row3\" >macro avg</th>\n",
       "                        <td id=\"T_cff92f58_df92_11ea_9c06_ebbc616cf56arow3_col0\" class=\"data row3 col0\" >0.778837</td>\n",
       "                        <td id=\"T_cff92f58_df92_11ea_9c06_ebbc616cf56arow3_col1\" class=\"data row3 col1\" >0.764526</td>\n",
       "                        <td id=\"T_cff92f58_df92_11ea_9c06_ebbc616cf56arow3_col2\" class=\"data row3 col2\" >0.770114</td>\n",
       "                        <td id=\"T_cff92f58_df92_11ea_9c06_ebbc616cf56arow3_col3\" class=\"data row3 col3\" >8000.000000</td>\n",
       "            </tr>\n",
       "            <tr>\n",
       "                        <th id=\"T_cff92f58_df92_11ea_9c06_ebbc616cf56alevel0_row4\" class=\"row_heading level0 row4\" >weighted avg</th>\n",
       "                        <td id=\"T_cff92f58_df92_11ea_9c06_ebbc616cf56arow4_col0\" class=\"data row4 col0\" >0.787612</td>\n",
       "                        <td id=\"T_cff92f58_df92_11ea_9c06_ebbc616cf56arow4_col1\" class=\"data row4 col1\" >0.790375</td>\n",
       "                        <td id=\"T_cff92f58_df92_11ea_9c06_ebbc616cf56arow4_col2\" class=\"data row4 col2\" >0.787620</td>\n",
       "                        <td id=\"T_cff92f58_df92_11ea_9c06_ebbc616cf56arow4_col3\" class=\"data row4 col3\" >8000.000000</td>\n",
       "            </tr>\n",
       "    </tbody></table><style  type=\"text/css\" >\n",
       "</style><table id=\"T_cff96fb8_df92_11ea_9c06_ebbc616cf56a\" style='display:inline'><caption>Training Confusion Matrix</caption><thead>    <tr>        <th class=\"blank level0\" ></th>        <th class=\"col_heading level0 col0\" >0</th>        <th class=\"col_heading level0 col1\" >1</th>    </tr></thead><tbody>\n",
       "                <tr>\n",
       "                        <th id=\"T_cff96fb8_df92_11ea_9c06_ebbc616cf56alevel0_row0\" class=\"row_heading level0 row0\" >0</th>\n",
       "                        <td id=\"T_cff96fb8_df92_11ea_9c06_ebbc616cf56arow0_col0\" class=\"data row0 col0\" >17185</td>\n",
       "                        <td id=\"T_cff96fb8_df92_11ea_9c06_ebbc616cf56arow0_col1\" class=\"data row0 col1\" >2777</td>\n",
       "            </tr>\n",
       "            <tr>\n",
       "                        <th id=\"T_cff96fb8_df92_11ea_9c06_ebbc616cf56alevel0_row1\" class=\"row_heading level0 row1\" >1</th>\n",
       "                        <td id=\"T_cff96fb8_df92_11ea_9c06_ebbc616cf56arow1_col0\" class=\"data row1 col0\" >3987</td>\n",
       "                        <td id=\"T_cff96fb8_df92_11ea_9c06_ebbc616cf56arow1_col1\" class=\"data row1 col1\" >8050</td>\n",
       "            </tr>\n",
       "    </tbody></table><style  type=\"text/css\" >\n",
       "</style><table id=\"T_cff987b4_df92_11ea_9c06_ebbc616cf56a\" style='display:inline'><caption>Test Confusion Matrix</caption><thead>    <tr>        <th class=\"blank level0\" ></th>        <th class=\"col_heading level0 col0\" >0</th>        <th class=\"col_heading level0 col1\" >1</th>    </tr></thead><tbody>\n",
       "                <tr>\n",
       "                        <th id=\"T_cff987b4_df92_11ea_9c06_ebbc616cf56alevel0_row0\" class=\"row_heading level0 row0\" >0</th>\n",
       "                        <td id=\"T_cff987b4_df92_11ea_9c06_ebbc616cf56arow0_col0\" class=\"data row0 col0\" >4349</td>\n",
       "                        <td id=\"T_cff987b4_df92_11ea_9c06_ebbc616cf56arow0_col1\" class=\"data row0 col1\" >677</td>\n",
       "            </tr>\n",
       "            <tr>\n",
       "                        <th id=\"T_cff987b4_df92_11ea_9c06_ebbc616cf56alevel0_row1\" class=\"row_heading level0 row1\" >1</th>\n",
       "                        <td id=\"T_cff987b4_df92_11ea_9c06_ebbc616cf56arow1_col0\" class=\"data row1 col0\" >1000</td>\n",
       "                        <td id=\"T_cff987b4_df92_11ea_9c06_ebbc616cf56arow1_col1\" class=\"data row1 col1\" >1974</td>\n",
       "            </tr>\n",
       "    </tbody></table>"
      ]
     },
     "metadata": {},
     "output_type": "display_data"
    }
   ],
   "source": [
    "# observe classification metrics\n",
    "get_reports(X_train, y_train, base_model)"
   ]
  },
  {
   "cell_type": "markdown",
   "metadata": {},
   "source": [
    "The model is better at predicting users who will churn than it is at predicting users who will stay.<br>\n",
    "It only correctly labeled 2/3 of the users who actually stayed.<br>\n",
    "It correctly labeled 86% of the users who churned."
   ]
  },
  {
   "cell_type": "code",
   "execution_count": 65,
   "metadata": {},
   "outputs": [],
   "source": [
    "def plot_roc_curve(features, target, model):\n",
    "    \"\"\"Return ROC curve\"\"\"\n",
    "    X_train, X_test, y_train, y_test = train_test_split(\n",
    "        features, target, test_size=0.2, random_state=27) \n",
    "    # get ROC data for training data\n",
    "    fpr_train, tpr_train = roc_curve(y_train, model.predict(X_train))[:2]\n",
    "    roc_score_train = roc_auc_score(y_train, model.predict(X_train))\n",
    "    # get ROC data for test data\n",
    "    fpr_test, tpr_test = roc_curve(y_test, model.predict(X_test))[:2]\n",
    "    roc_score_test = roc_auc_score(y_test, model.predict(X_test))\n",
    "    \n",
    "    ax = sns.lineplot(fpr_train, tpr_train, color=mp.colors(4), label='Training Model')\n",
    "    ax = sns.lineplot(fpr_test, tpr_test, color=mp.colors(5), label='Test Model')\n",
    "\n",
    "    plt.xlabel('False Positive Rate')\n",
    "    plt.ylabel('True Positive Rate')\n",
    "\n",
    "    plt.legend()\n",
    "    plt.title('ROC Curves');\n",
    "    return f'Training ROC AUC Score: {roc_score_train:.4f}, Test ROC AUC Score: {roc_score_test:.4f}'"
   ]
  },
  {
   "cell_type": "code",
   "execution_count": 66,
   "metadata": {},
   "outputs": [
    {
     "data": {
      "text/plain": [
       "'Training ROC AUC Score: 0.7648, Test ROC AUC Score: 0.7645'"
      ]
     },
     "execution_count": 66,
     "metadata": {},
     "output_type": "execute_result"
    },
    {
     "data": {
      "image/png": "[encoded data removed]",
      "text/plain": [
       "<Figure size 864x288 with 1 Axes>"
      ]
     },
     "metadata": {},
     "output_type": "display_data"
    }
   ],
   "source": [
    "# observe ROC AUC scores and ROC curves for both training and test data\n",
    "plot_roc_curve(X_train, y_train, base_model)"
   ]
  },
  {
   "cell_type": "markdown",
   "metadata": {},
   "source": [
    "The model performs the same on the test data as it does on the training data.<br>\n",
    "This indicates that the model is generalizable to new data."
   ]
  },
  {
   "cell_type": "code",
   "execution_count": 67,
   "metadata": {},
   "outputs": [],
   "source": [
    "def plot_feature_importance(model):\n",
    "    \"\"\"Plots the features by importance to model prediction\"\"\"\n",
    "    sns.set_style('dark')\n",
    "    \n",
    "    ax = xgb.plot_importance(base_model)\n",
    "    \n",
    "    ax.figure.set_size_inches(12, 8)\n",
    "    \n",
    "    plt.xlabel('F-score', fontsize=15)\n",
    "    plt.ylabel('Features', fontsize=18)\n",
    "    plt.title('Feature Importance', fontsize=20);"
   ]
  },
  {
   "cell_type": "code",
   "execution_count": 68,
   "metadata": {},
   "outputs": [
    {
     "data": {
      "image/png": "[encoded data removed]",
      "text/plain": [
       "<Figure size 864x576 with 1 Axes>"
      ]
     },
     "metadata": {},
     "output_type": "display_data"
    }
   ],
   "source": [
    "# observe feature importance\n",
    "plot_feature_importance(base_model)"
   ]
  },
  {
   "cell_type": "markdown",
   "metadata": {},
   "source": [
    "The most important features in predicting user retention were trips in 1st 30 days, average distance, and weekday percent."
   ]
  },
  {
   "cell_type": "markdown",
   "metadata": {},
   "source": [
    "I'll observe the plot of the most dominant feature for the predictions."
   ]
  },
  {
   "cell_type": "code",
   "execution_count": 69,
   "metadata": {},
   "outputs": [
    {
     "data": {
      "image/png": "[encoded data removed]",
      "text/plain": [
       "<Figure size 864x288 with 1 Axes>"
      ]
     },
     "metadata": {},
     "output_type": "display_data"
    }
   ],
   "source": [
    "# plot trips taken in the first 30 days after signup vs. retention rate\n",
    "sns.barplot(x='trips_in_first_30_days', y='retained', \n",
    "            data=df.groupby('trips_in_first_30_days')['retained'].mean().reset_index(), \n",
    "            color=mp.colors(3))\n",
    "plt.hlines(df['retained'].mean(), 0, 57, label='Average Retention')\n",
    "\n",
    "plt.legend(fontsize='x-large')\n",
    "plt.title('Retention Rates Compared to Number of Trips', fontsize=15);"
   ]
  },
  {
   "cell_type": "markdown",
   "metadata": {},
   "source": [
    "In general, once a user exceeded 2 trips in the first month, their retention rate was above average.<br>\n",
    "The data may imply that familiarity is a factor in user retention.<br>\n",
    "This may be leveraged by offering a discount on the first 3 trips after signup to ensure users exceed this threshold."
   ]
  },
  {
   "cell_type": "code",
   "execution_count": null,
   "metadata": {},
   "outputs": [],
   "source": []
  }
 ],
 "metadata": {
  "kernelspec": {
   "display_name": "Python 3",
   "language": "python",
   "name": "python3"
  },
  "language_info": {
   "codemirror_mode": {
    "name": "ipython",
    "version": 3
   },
   "file_extension": ".py",
   "mimetype": "text/x-python",
   "name": "python",
   "nbconvert_exporter": "python",
   "pygments_lexer": "ipython3",
   "version": "3.7.7"
  }
 },
 "nbformat": 4,
 "nbformat_minor": 4
}
