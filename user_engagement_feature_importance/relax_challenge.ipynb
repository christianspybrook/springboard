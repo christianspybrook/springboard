{
 "cells": [
  {
   "cell_type": "code",
   "execution_count": 1,
   "metadata": {},
   "outputs": [
    {
     "data": {
      "text/html": [
       "<style>.container { width: 930px !important; }</style>"
      ],
      "text/plain": [
       "<IPython.core.display.HTML object>"
      ]
     },
     "metadata": {},
     "output_type": "display_data"
    }
   ],
   "source": [
    "# import display tools\n",
    "from IPython.display import display, HTML\n",
    "# set display dimensions\n",
    "display(HTML('<style>.container { width: 930px !important; }</style>'))"
   ]
  },
  {
   "cell_type": "code",
   "execution_count": 2,
   "metadata": {},
   "outputs": [],
   "source": [
    "# import ML tools\n",
    "import pandas as pd\n",
    "import numpy as np\n",
    "from sklearn.model_selection import train_test_split\n",
    "from sklearn.ensemble import RandomForestClassifier\n",
    "from sklearn.metrics import (\n",
    "    classification_report, confusion_matrix, precision_recall_curve)"
   ]
  },
  {
   "cell_type": "code",
   "execution_count": 3,
   "metadata": {},
   "outputs": [],
   "source": [
    "# import plotting tools\n",
    "import matplotlib.pyplot as plt\n",
    "# import matplotlib.dates as mdates\n",
    "import seaborn as sns\n",
    "from IPython.core.pylabtools import figsize\n",
    "from IPython.display import display_html\n",
    "# set grid size and style\n",
    "figsize(12, 4)\n",
    "sns.set_style('whitegrid')"
   ]
  },
  {
   "cell_type": "code",
   "execution_count": 4,
   "metadata": {},
   "outputs": [
    {
     "name": "stdout",
     "output_type": "stream",
     "text": [
      "Use \"mp.colors(<index>)\" as color attribute for Seaborn plots.\n",
      "This is your color palette...\n"
     ]
    },
    {
     "data": {
      "image/png": "[encoded data removed]",
      "text/plain": [
       "<Figure size 504x72 with 1 Axes>"
      ]
     },
     "metadata": {},
     "output_type": "display_data"
    }
   ],
   "source": [
    "# import custom palette\n",
    "from custom_modules import my_palette as mp"
   ]
  },
  {
   "cell_type": "code",
   "execution_count": null,
   "metadata": {},
   "outputs": [],
   "source": []
  },
  {
   "cell_type": "markdown",
   "metadata": {},
   "source": [
    " > **USER DATA**"
   ]
  },
  {
   "cell_type": "code",
   "execution_count": 5,
   "metadata": {},
   "outputs": [],
   "source": [
    "# read in first dataset\n",
    "users_df = pd.read_csv('takehome_users.csv', encoding='ISO-8859-1')"
   ]
  },
  {
   "cell_type": "code",
   "execution_count": 6,
   "metadata": {},
   "outputs": [
    {
     "data": {
      "text/plain": [
       "(12000, 10)"
      ]
     },
     "execution_count": 6,
     "metadata": {},
     "output_type": "execute_result"
    }
   ],
   "source": [
    "# observe dimensionality of dataset\n",
    "users_df.shape"
   ]
  },
  {
   "cell_type": "code",
   "execution_count": 7,
   "metadata": {},
   "outputs": [
    {
     "name": "stdout",
     "output_type": "stream",
     "text": [
      "<class 'pandas.core.frame.DataFrame'>\n",
      "RangeIndex: 12000 entries, 0 to 11999\n",
      "Data columns (total 10 columns):\n",
      " #   Column                      Non-Null Count  Dtype  \n",
      "---  ------                      --------------  -----  \n",
      " 0   object_id                   12000 non-null  int64  \n",
      " 1   creation_time               12000 non-null  object \n",
      " 2   name                        12000 non-null  object \n",
      " 3   email                       12000 non-null  object \n",
      " 4   creation_source             12000 non-null  object \n",
      " 5   last_session_creation_time  8823 non-null   float64\n",
      " 6   opted_in_to_mailing_list    12000 non-null  int64  \n",
      " 7   enabled_for_marketing_drip  12000 non-null  int64  \n",
      " 8   org_id                      12000 non-null  int64  \n",
      " 9   invited_by_user_id          6417 non-null   float64\n",
      "dtypes: float64(2), int64(4), object(4)\n",
      "memory usage: 937.6+ KB\n"
     ]
    }
   ],
   "source": [
    "# observe feature name, data type, and possible null values\n",
    "users_df.info()"
   ]
  },
  {
   "cell_type": "markdown",
   "metadata": {},
   "source": [
    "The time features have different data types.<br>\n",
    "Creation time is an object (string), and last session is a float."
   ]
  },
  {
   "cell_type": "markdown",
   "metadata": {},
   "source": [
    "There are missing data to handle, as well."
   ]
  },
  {
   "cell_type": "markdown",
   "metadata": {},
   "source": [
    "First, I need to wrangle these column names, way too long.<br>\n",
    "And what's up with object ID?"
   ]
  },
  {
   "cell_type": "code",
   "execution_count": 8,
   "metadata": {},
   "outputs": [
    {
     "data": {
      "text/plain": [
       "Index(['user_id', 'creation_time', 'name', 'email', 'creation_source',\n",
       "       'last_session', 'mailing_list', 'marketing_drip', 'org_id',\n",
       "       'invitee_id'],\n",
       "      dtype='object')"
      ]
     },
     "execution_count": 8,
     "metadata": {},
     "output_type": "execute_result"
    }
   ],
   "source": [
    "users_df.rename(columns={'object_id': 'user_id', \n",
    "                         'last_session_creation_time': 'last_session', \n",
    "                         'opted_in_to_mailing_list': 'mailing_list', \n",
    "                         'enabled_for_marketing_drip': 'marketing_drip', \n",
    "                         'invited_by_user_id': 'invitee_id'}, inplace=True)\n",
    "users_df.columns"
   ]
  },
  {
   "cell_type": "markdown",
   "metadata": {},
   "source": [
    "I will convert the time features to Pandas Timestamp object."
   ]
  },
  {
   "cell_type": "code",
   "execution_count": 9,
   "metadata": {},
   "outputs": [
    {
     "name": "stdout",
     "output_type": "stream",
     "text": [
      "<class 'str'>\n",
      "\n",
      "<class 'numpy.float64'>\n"
     ]
    }
   ],
   "source": [
    "# check data types\n",
    "print(type(\n",
    "    users_df['creation_time'][0]), type(\n",
    "    users_df['last_session'][0]), sep='\\n\\n')"
   ]
  },
  {
   "cell_type": "code",
   "execution_count": 10,
   "metadata": {},
   "outputs": [],
   "source": [
    "# convert time strings to useful  objects\n",
    "users_df['creation_time'] = pd.to_datetime(\n",
    "    users_df['creation_time'])\n",
    "users_df['last_session'] = pd.to_datetime(\n",
    "    users_df['last_session'], unit='s')"
   ]
  },
  {
   "cell_type": "code",
   "execution_count": 11,
   "metadata": {},
   "outputs": [
    {
     "name": "stdout",
     "output_type": "stream",
     "text": [
      "<class 'pandas._libs.tslibs.timestamps.Timestamp'>\n",
      "\n",
      "<class 'pandas._libs.tslibs.timestamps.Timestamp'>\n"
     ]
    }
   ],
   "source": [
    "# trust but verify\n",
    "print(type(\n",
    "    users_df['creation_time'][0]), type(\n",
    "    users_df['last_session'][0]), sep='\\n\\n')"
   ]
  },
  {
   "cell_type": "code",
   "execution_count": 12,
   "metadata": {},
   "outputs": [
    {
     "data": {
      "text/html": [
       "<div>\n",
       "<style scoped>\n",
       "    .dataframe tbody tr th:only-of-type {\n",
       "        vertical-align: middle;\n",
       "    }\n",
       "\n",
       "    .dataframe tbody tr th {\n",
       "        vertical-align: top;\n",
       "    }\n",
       "\n",
       "    .dataframe thead th {\n",
       "        text-align: right;\n",
       "    }\n",
       "</style>\n",
       "<table border=\"1\" class=\"dataframe\">\n",
       "  <thead>\n",
       "    <tr style=\"text-align: right;\">\n",
       "      <th></th>\n",
       "      <th>user_id</th>\n",
       "      <th>creation_time</th>\n",
       "      <th>name</th>\n",
       "      <th>email</th>\n",
       "      <th>creation_source</th>\n",
       "      <th>last_session</th>\n",
       "      <th>mailing_list</th>\n",
       "      <th>marketing_drip</th>\n",
       "      <th>org_id</th>\n",
       "      <th>invitee_id</th>\n",
       "    </tr>\n",
       "  </thead>\n",
       "  <tbody>\n",
       "    <tr>\n",
       "      <th>7</th>\n",
       "      <td>8</td>\n",
       "      <td>2013-07-31 05:34:02</td>\n",
       "      <td>Hamilton Danielle</td>\n",
       "      <td>DanielleHamilton@yahoo.com</td>\n",
       "      <td>PERSONAL_PROJECTS</td>\n",
       "      <td>NaT</td>\n",
       "      <td>1</td>\n",
       "      <td>1</td>\n",
       "      <td>74</td>\n",
       "      <td>NaN</td>\n",
       "    </tr>\n",
       "    <tr>\n",
       "      <th>8</th>\n",
       "      <td>9</td>\n",
       "      <td>2013-11-05 04:04:24</td>\n",
       "      <td>Amsel Paul</td>\n",
       "      <td>PaulAmsel@hotmail.com</td>\n",
       "      <td>PERSONAL_PROJECTS</td>\n",
       "      <td>NaT</td>\n",
       "      <td>0</td>\n",
       "      <td>0</td>\n",
       "      <td>302</td>\n",
       "      <td>NaN</td>\n",
       "    </tr>\n",
       "    <tr>\n",
       "      <th>11</th>\n",
       "      <td>12</td>\n",
       "      <td>2014-04-17 23:48:38</td>\n",
       "      <td>Mathiesen Lærke</td>\n",
       "      <td>LaerkeLMathiesen@cuvox.de</td>\n",
       "      <td>ORG_INVITE</td>\n",
       "      <td>NaT</td>\n",
       "      <td>0</td>\n",
       "      <td>0</td>\n",
       "      <td>130</td>\n",
       "      <td>9270.0</td>\n",
       "    </tr>\n",
       "  </tbody>\n",
       "</table>\n",
       "</div>"
      ],
      "text/plain": [
       "    user_id       creation_time               name  \\\n",
       "7         8 2013-07-31 05:34:02  Hamilton Danielle   \n",
       "8         9 2013-11-05 04:04:24         Amsel Paul   \n",
       "11       12 2014-04-17 23:48:38    Mathiesen Lærke   \n",
       "\n",
       "                         email    creation_source last_session  mailing_list  \\\n",
       "7   DanielleHamilton@yahoo.com  PERSONAL_PROJECTS          NaT             1   \n",
       "8        PaulAmsel@hotmail.com  PERSONAL_PROJECTS          NaT             0   \n",
       "11   LaerkeLMathiesen@cuvox.de         ORG_INVITE          NaT             0   \n",
       "\n",
       "    marketing_drip  org_id  invitee_id  \n",
       "7                1      74         NaN  \n",
       "8                0     302         NaN  \n",
       "11               0     130      9270.0  "
      ]
     },
     "execution_count": 12,
     "metadata": {},
     "output_type": "execute_result"
    }
   ],
   "source": [
    "# observe some users with missing time data\n",
    "users_df[users_df['last_session'].isnull()].head(3)"
   ]
  },
  {
   "cell_type": "markdown",
   "metadata": {},
   "source": [
    "Now, I will impute the missing values in the last session column.<br>\n",
    "I know that the users were logged in when they signed up.<br>\n",
    "I will use those dates as the imputed values of the missing last login times."
   ]
  },
  {
   "cell_type": "code",
   "execution_count": 13,
   "metadata": {},
   "outputs": [],
   "source": [
    "# create boolean filter to select observations with NaT values\n",
    "nat_filter = users_df.loc[\n",
    "    users_df['last_session'].isnull()]['last_session'].index"
   ]
  },
  {
   "cell_type": "code",
   "execution_count": 14,
   "metadata": {},
   "outputs": [
    {
     "data": {
      "text/html": [
       "<div>\n",
       "<style scoped>\n",
       "    .dataframe tbody tr th:only-of-type {\n",
       "        vertical-align: middle;\n",
       "    }\n",
       "\n",
       "    .dataframe tbody tr th {\n",
       "        vertical-align: top;\n",
       "    }\n",
       "\n",
       "    .dataframe thead th {\n",
       "        text-align: right;\n",
       "    }\n",
       "</style>\n",
       "<table border=\"1\" class=\"dataframe\">\n",
       "  <thead>\n",
       "    <tr style=\"text-align: right;\">\n",
       "      <th></th>\n",
       "      <th>user_id</th>\n",
       "      <th>creation_time</th>\n",
       "      <th>name</th>\n",
       "      <th>email</th>\n",
       "      <th>creation_source</th>\n",
       "      <th>last_session</th>\n",
       "      <th>mailing_list</th>\n",
       "      <th>marketing_drip</th>\n",
       "      <th>org_id</th>\n",
       "      <th>invitee_id</th>\n",
       "    </tr>\n",
       "  </thead>\n",
       "  <tbody>\n",
       "  </tbody>\n",
       "</table>\n",
       "</div>"
      ],
      "text/plain": [
       "Empty DataFrame\n",
       "Columns: [user_id, creation_time, name, email, creation_source, last_session, mailing_list, marketing_drip, org_id, invitee_id]\n",
       "Index: []"
      ]
     },
     "execution_count": 14,
     "metadata": {},
     "output_type": "execute_result"
    }
   ],
   "source": [
    "# impute missing dates with dates of signup\n",
    "users_df.loc[\n",
    "    nat_filter, 'last_session'] = users_df.iloc[\n",
    "    nat_filter]['creation_time']\n",
    "# check that it worked\n",
    "users_df[users_df['last_session'].isnull()].head(3)"
   ]
  },
  {
   "cell_type": "code",
   "execution_count": 15,
   "metadata": {},
   "outputs": [
    {
     "data": {
      "text/html": [
       "<div>\n",
       "<style scoped>\n",
       "    .dataframe tbody tr th:only-of-type {\n",
       "        vertical-align: middle;\n",
       "    }\n",
       "\n",
       "    .dataframe tbody tr th {\n",
       "        vertical-align: top;\n",
       "    }\n",
       "\n",
       "    .dataframe thead th {\n",
       "        text-align: right;\n",
       "    }\n",
       "</style>\n",
       "<table border=\"1\" class=\"dataframe\">\n",
       "  <thead>\n",
       "    <tr style=\"text-align: right;\">\n",
       "      <th></th>\n",
       "      <th>user_id</th>\n",
       "      <th>creation_time</th>\n",
       "      <th>name</th>\n",
       "      <th>email</th>\n",
       "      <th>creation_source</th>\n",
       "      <th>last_session</th>\n",
       "      <th>mailing_list</th>\n",
       "      <th>marketing_drip</th>\n",
       "      <th>org_id</th>\n",
       "      <th>invitee_id</th>\n",
       "    </tr>\n",
       "  </thead>\n",
       "  <tbody>\n",
       "    <tr>\n",
       "      <th>0</th>\n",
       "      <td>1</td>\n",
       "      <td>2014-04-22 03:53:30</td>\n",
       "      <td>Clausen August</td>\n",
       "      <td>AugustCClausen@yahoo.com</td>\n",
       "      <td>GUEST_INVITE</td>\n",
       "      <td>2014-04-22 03:53:30</td>\n",
       "      <td>1</td>\n",
       "      <td>0</td>\n",
       "      <td>11</td>\n",
       "      <td>10803.0</td>\n",
       "    </tr>\n",
       "    <tr>\n",
       "      <th>1</th>\n",
       "      <td>2</td>\n",
       "      <td>2013-11-15 03:45:04</td>\n",
       "      <td>Poole Matthew</td>\n",
       "      <td>MatthewPoole@gustr.com</td>\n",
       "      <td>ORG_INVITE</td>\n",
       "      <td>2014-03-31 03:45:04</td>\n",
       "      <td>0</td>\n",
       "      <td>0</td>\n",
       "      <td>1</td>\n",
       "      <td>316.0</td>\n",
       "    </tr>\n",
       "    <tr>\n",
       "      <th>2</th>\n",
       "      <td>3</td>\n",
       "      <td>2013-03-19 23:14:52</td>\n",
       "      <td>Bottrill Mitchell</td>\n",
       "      <td>MitchellBottrill@gustr.com</td>\n",
       "      <td>ORG_INVITE</td>\n",
       "      <td>2013-03-19 23:14:52</td>\n",
       "      <td>0</td>\n",
       "      <td>0</td>\n",
       "      <td>94</td>\n",
       "      <td>1525.0</td>\n",
       "    </tr>\n",
       "    <tr>\n",
       "      <th>3</th>\n",
       "      <td>4</td>\n",
       "      <td>2013-05-21 08:09:28</td>\n",
       "      <td>Clausen Nicklas</td>\n",
       "      <td>NicklasSClausen@yahoo.com</td>\n",
       "      <td>GUEST_INVITE</td>\n",
       "      <td>2013-05-22 08:09:28</td>\n",
       "      <td>0</td>\n",
       "      <td>0</td>\n",
       "      <td>1</td>\n",
       "      <td>5151.0</td>\n",
       "    </tr>\n",
       "    <tr>\n",
       "      <th>4</th>\n",
       "      <td>5</td>\n",
       "      <td>2013-01-17 10:14:20</td>\n",
       "      <td>Raw Grace</td>\n",
       "      <td>GraceRaw@yahoo.com</td>\n",
       "      <td>GUEST_INVITE</td>\n",
       "      <td>2013-01-22 10:14:20</td>\n",
       "      <td>0</td>\n",
       "      <td>0</td>\n",
       "      <td>193</td>\n",
       "      <td>5240.0</td>\n",
       "    </tr>\n",
       "  </tbody>\n",
       "</table>\n",
       "</div>"
      ],
      "text/plain": [
       "   user_id       creation_time               name                       email  \\\n",
       "0        1 2014-04-22 03:53:30     Clausen August    AugustCClausen@yahoo.com   \n",
       "1        2 2013-11-15 03:45:04      Poole Matthew      MatthewPoole@gustr.com   \n",
       "2        3 2013-03-19 23:14:52  Bottrill Mitchell  MitchellBottrill@gustr.com   \n",
       "3        4 2013-05-21 08:09:28    Clausen Nicklas   NicklasSClausen@yahoo.com   \n",
       "4        5 2013-01-17 10:14:20          Raw Grace          GraceRaw@yahoo.com   \n",
       "\n",
       "  creation_source        last_session  mailing_list  marketing_drip  org_id  \\\n",
       "0    GUEST_INVITE 2014-04-22 03:53:30             1               0      11   \n",
       "1      ORG_INVITE 2014-03-31 03:45:04             0               0       1   \n",
       "2      ORG_INVITE 2013-03-19 23:14:52             0               0      94   \n",
       "3    GUEST_INVITE 2013-05-22 08:09:28             0               0       1   \n",
       "4    GUEST_INVITE 2013-01-22 10:14:20             0               0     193   \n",
       "\n",
       "   invitee_id  \n",
       "0     10803.0  \n",
       "1       316.0  \n",
       "2      1525.0  \n",
       "3      5151.0  \n",
       "4      5240.0  "
      ]
     },
     "execution_count": 15,
     "metadata": {},
     "output_type": "execute_result"
    }
   ],
   "source": [
    "# observe some data\n",
    "users_df.head()"
   ]
  },
  {
   "cell_type": "code",
   "execution_count": 16,
   "metadata": {},
   "outputs": [
    {
     "data": {
      "text/html": [
       "<div>\n",
       "<style scoped>\n",
       "    .dataframe tbody tr th:only-of-type {\n",
       "        vertical-align: middle;\n",
       "    }\n",
       "\n",
       "    .dataframe tbody tr th {\n",
       "        vertical-align: top;\n",
       "    }\n",
       "\n",
       "    .dataframe thead th {\n",
       "        text-align: right;\n",
       "    }\n",
       "</style>\n",
       "<table border=\"1\" class=\"dataframe\">\n",
       "  <thead>\n",
       "    <tr style=\"text-align: right;\">\n",
       "      <th></th>\n",
       "      <th>user_id</th>\n",
       "      <th>creation_time</th>\n",
       "      <th>name</th>\n",
       "      <th>email</th>\n",
       "      <th>creation_source</th>\n",
       "      <th>last_session</th>\n",
       "      <th>mailing_list</th>\n",
       "      <th>marketing_drip</th>\n",
       "      <th>org_id</th>\n",
       "      <th>invitee_id</th>\n",
       "    </tr>\n",
       "  </thead>\n",
       "  <tbody>\n",
       "    <tr>\n",
       "      <th>6</th>\n",
       "      <td>7</td>\n",
       "      <td>2012-12-16 13:24:32</td>\n",
       "      <td>Sewell Tyler</td>\n",
       "      <td>TylerSewell@jourrapide.com</td>\n",
       "      <td>SIGNUP</td>\n",
       "      <td>2012-12-20 13:24:32</td>\n",
       "      <td>0</td>\n",
       "      <td>1</td>\n",
       "      <td>37</td>\n",
       "      <td>NaN</td>\n",
       "    </tr>\n",
       "    <tr>\n",
       "      <th>7</th>\n",
       "      <td>8</td>\n",
       "      <td>2013-07-31 05:34:02</td>\n",
       "      <td>Hamilton Danielle</td>\n",
       "      <td>DanielleHamilton@yahoo.com</td>\n",
       "      <td>PERSONAL_PROJECTS</td>\n",
       "      <td>2013-07-31 05:34:02</td>\n",
       "      <td>1</td>\n",
       "      <td>1</td>\n",
       "      <td>74</td>\n",
       "      <td>NaN</td>\n",
       "    </tr>\n",
       "    <tr>\n",
       "      <th>8</th>\n",
       "      <td>9</td>\n",
       "      <td>2013-11-05 04:04:24</td>\n",
       "      <td>Amsel Paul</td>\n",
       "      <td>PaulAmsel@hotmail.com</td>\n",
       "      <td>PERSONAL_PROJECTS</td>\n",
       "      <td>2013-11-05 04:04:24</td>\n",
       "      <td>0</td>\n",
       "      <td>0</td>\n",
       "      <td>302</td>\n",
       "      <td>NaN</td>\n",
       "    </tr>\n",
       "  </tbody>\n",
       "</table>\n",
       "</div>"
      ],
      "text/plain": [
       "   user_id       creation_time               name                       email  \\\n",
       "6        7 2012-12-16 13:24:32       Sewell Tyler  TylerSewell@jourrapide.com   \n",
       "7        8 2013-07-31 05:34:02  Hamilton Danielle  DanielleHamilton@yahoo.com   \n",
       "8        9 2013-11-05 04:04:24         Amsel Paul       PaulAmsel@hotmail.com   \n",
       "\n",
       "     creation_source        last_session  mailing_list  marketing_drip  \\\n",
       "6             SIGNUP 2012-12-20 13:24:32             0               1   \n",
       "7  PERSONAL_PROJECTS 2013-07-31 05:34:02             1               1   \n",
       "8  PERSONAL_PROJECTS 2013-11-05 04:04:24             0               0   \n",
       "\n",
       "   org_id  invitee_id  \n",
       "6      37         NaN  \n",
       "7      74         NaN  \n",
       "8     302         NaN  "
      ]
     },
     "execution_count": 16,
     "metadata": {},
     "output_type": "execute_result"
    }
   ],
   "source": [
    "# observe some invitees with missing ID data\n",
    "users_df[users_df['invitee_id'].isnull()].head(3)"
   ]
  },
  {
   "cell_type": "markdown",
   "metadata": {},
   "source": [
    "Now, I will encode the users who were not recommended by another user with the value 0."
   ]
  },
  {
   "cell_type": "code",
   "execution_count": 17,
   "metadata": {},
   "outputs": [
    {
     "data": {
      "text/html": [
       "<div>\n",
       "<style scoped>\n",
       "    .dataframe tbody tr th:only-of-type {\n",
       "        vertical-align: middle;\n",
       "    }\n",
       "\n",
       "    .dataframe tbody tr th {\n",
       "        vertical-align: top;\n",
       "    }\n",
       "\n",
       "    .dataframe thead th {\n",
       "        text-align: right;\n",
       "    }\n",
       "</style>\n",
       "<table border=\"1\" class=\"dataframe\">\n",
       "  <thead>\n",
       "    <tr style=\"text-align: right;\">\n",
       "      <th></th>\n",
       "      <th>user_id</th>\n",
       "      <th>creation_time</th>\n",
       "      <th>name</th>\n",
       "      <th>email</th>\n",
       "      <th>creation_source</th>\n",
       "      <th>last_session</th>\n",
       "      <th>mailing_list</th>\n",
       "      <th>marketing_drip</th>\n",
       "      <th>org_id</th>\n",
       "      <th>invitee_id</th>\n",
       "    </tr>\n",
       "  </thead>\n",
       "  <tbody>\n",
       "  </tbody>\n",
       "</table>\n",
       "</div>"
      ],
      "text/plain": [
       "Empty DataFrame\n",
       "Columns: [user_id, creation_time, name, email, creation_source, last_session, mailing_list, marketing_drip, org_id, invitee_id]\n",
       "Index: []"
      ]
     },
     "execution_count": 17,
     "metadata": {},
     "output_type": "execute_result"
    }
   ],
   "source": [
    "# check that no one is using ID = 0\n",
    "users_df[users_df['invitee_id'] == 0]"
   ]
  },
  {
   "cell_type": "code",
   "execution_count": 18,
   "metadata": {},
   "outputs": [],
   "source": [
    "# create boolean filter to select observations with NaN values\n",
    "nan_filter = users_df.loc[\n",
    "    users_df['invitee_id'].isnull()]['invitee_id'].index"
   ]
  },
  {
   "cell_type": "code",
   "execution_count": 19,
   "metadata": {},
   "outputs": [
    {
     "data": {
      "text/html": [
       "<div>\n",
       "<style scoped>\n",
       "    .dataframe tbody tr th:only-of-type {\n",
       "        vertical-align: middle;\n",
       "    }\n",
       "\n",
       "    .dataframe tbody tr th {\n",
       "        vertical-align: top;\n",
       "    }\n",
       "\n",
       "    .dataframe thead th {\n",
       "        text-align: right;\n",
       "    }\n",
       "</style>\n",
       "<table border=\"1\" class=\"dataframe\">\n",
       "  <thead>\n",
       "    <tr style=\"text-align: right;\">\n",
       "      <th></th>\n",
       "      <th>user_id</th>\n",
       "      <th>creation_time</th>\n",
       "      <th>name</th>\n",
       "      <th>email</th>\n",
       "      <th>creation_source</th>\n",
       "      <th>last_session</th>\n",
       "      <th>mailing_list</th>\n",
       "      <th>marketing_drip</th>\n",
       "      <th>org_id</th>\n",
       "      <th>invitee_id</th>\n",
       "    </tr>\n",
       "  </thead>\n",
       "  <tbody>\n",
       "  </tbody>\n",
       "</table>\n",
       "</div>"
      ],
      "text/plain": [
       "Empty DataFrame\n",
       "Columns: [user_id, creation_time, name, email, creation_source, last_session, mailing_list, marketing_drip, org_id, invitee_id]\n",
       "Index: []"
      ]
     },
     "execution_count": 19,
     "metadata": {},
     "output_type": "execute_result"
    }
   ],
   "source": [
    "# impute missing IDs with the value 0\n",
    "users_df.loc[\n",
    "    nan_filter, 'invitee_id'] = 0\n",
    "# check that it worked\n",
    "users_df[users_df['last_session'].isnull()].head(3)"
   ]
  },
  {
   "cell_type": "code",
   "execution_count": 20,
   "metadata": {},
   "outputs": [
    {
     "name": "stdout",
     "output_type": "stream",
     "text": [
      "<class 'pandas.core.frame.DataFrame'>\n",
      "RangeIndex: 12000 entries, 0 to 11999\n",
      "Data columns (total 10 columns):\n",
      " #   Column           Non-Null Count  Dtype         \n",
      "---  ------           --------------  -----         \n",
      " 0   user_id          12000 non-null  int64         \n",
      " 1   creation_time    12000 non-null  datetime64[ns]\n",
      " 2   name             12000 non-null  object        \n",
      " 3   email            12000 non-null  object        \n",
      " 4   creation_source  12000 non-null  object        \n",
      " 5   last_session     12000 non-null  datetime64[ns]\n",
      " 6   mailing_list     12000 non-null  int64         \n",
      " 7   marketing_drip   12000 non-null  int64         \n",
      " 8   org_id           12000 non-null  int64         \n",
      " 9   invitee_id       12000 non-null  float64       \n",
      "dtypes: datetime64[ns](2), float64(1), int64(4), object(3)\n",
      "memory usage: 937.6+ KB\n"
     ]
    }
   ],
   "source": [
    "# observe new data types and verify the absence of null values\n",
    "users_df.info()"
   ]
  },
  {
   "cell_type": "markdown",
   "metadata": {},
   "source": [
    "I will examine the string variables, now."
   ]
  },
  {
   "cell_type": "code",
   "execution_count": 21,
   "metadata": {},
   "outputs": [
    {
     "data": {
      "text/plain": [
       "0"
      ]
     },
     "execution_count": 21,
     "metadata": {},
     "output_type": "execute_result"
    }
   ],
   "source": [
    "# look for empty strings\n",
    "np.sum(users_df[['name', 'email', 'creation_source']].values == '')"
   ]
  },
  {
   "cell_type": "code",
   "execution_count": 22,
   "metadata": {},
   "outputs": [
    {
     "data": {
      "text/plain": [
       "ORG_INVITE            4254\n",
       "GUEST_INVITE          2163\n",
       "PERSONAL_PROJECTS     2111\n",
       "SIGNUP                2087\n",
       "SIGNUP_GOOGLE_AUTH    1385\n",
       "Name: creation_source, dtype: int64"
      ]
     },
     "execution_count": 22,
     "metadata": {},
     "output_type": "execute_result"
    }
   ],
   "source": [
    "# observe values for the categorical column\n",
    "users_df['creation_source'].value_counts()"
   ]
  },
  {
   "cell_type": "markdown",
   "metadata": {},
   "source": [
    "The categories are as expected."
   ]
  },
  {
   "cell_type": "markdown",
   "metadata": {},
   "source": [
    "I will extract the service provider from the email string.<br>\n",
    "It may be useful for prediction."
   ]
  },
  {
   "cell_type": "code",
   "execution_count": 23,
   "metadata": {},
   "outputs": [
    {
     "data": {
      "text/html": [
       "<div>\n",
       "<style scoped>\n",
       "    .dataframe tbody tr th:only-of-type {\n",
       "        vertical-align: middle;\n",
       "    }\n",
       "\n",
       "    .dataframe tbody tr th {\n",
       "        vertical-align: top;\n",
       "    }\n",
       "\n",
       "    .dataframe thead th {\n",
       "        text-align: right;\n",
       "    }\n",
       "</style>\n",
       "<table border=\"1\" class=\"dataframe\">\n",
       "  <thead>\n",
       "    <tr style=\"text-align: right;\">\n",
       "      <th></th>\n",
       "      <th>provider</th>\n",
       "    </tr>\n",
       "  </thead>\n",
       "  <tbody>\n",
       "    <tr>\n",
       "      <th>0</th>\n",
       "      <td>yahoo</td>\n",
       "    </tr>\n",
       "    <tr>\n",
       "      <th>1</th>\n",
       "      <td>gustr</td>\n",
       "    </tr>\n",
       "    <tr>\n",
       "      <th>2</th>\n",
       "      <td>gustr</td>\n",
       "    </tr>\n",
       "    <tr>\n",
       "      <th>3</th>\n",
       "      <td>yahoo</td>\n",
       "    </tr>\n",
       "    <tr>\n",
       "      <th>4</th>\n",
       "      <td>yahoo</td>\n",
       "    </tr>\n",
       "  </tbody>\n",
       "</table>\n",
       "</div>"
      ],
      "text/plain": [
       "  provider\n",
       "0    yahoo\n",
       "1    gustr\n",
       "2    gustr\n",
       "3    yahoo\n",
       "4    yahoo"
      ]
     },
     "execution_count": 23,
     "metadata": {},
     "output_type": "execute_result"
    }
   ],
   "source": [
    "# break off email feature to inspect\n",
    "email_df = pd.DataFrame(data=users_df['email'].str.split(\n",
    "    '@', expand=True)[1].str.split(\n",
    "    '.', expand=True)[0]).rename(columns={0: 'provider'})\n",
    "email_df.head()"
   ]
  },
  {
   "cell_type": "code",
   "execution_count": 24,
   "metadata": {},
   "outputs": [
    {
     "data": {
      "text/plain": [
       "gmail         3562\n",
       "yahoo         2447\n",
       "jourrapide    1259\n",
       "cuvox         1202\n",
       "gustr         1179\n",
       "              ... \n",
       "gzhjb            1\n",
       "cvwyc            1\n",
       "ptatt            1\n",
       "xuifc            1\n",
       "wwrtt            1\n",
       "Name: provider, Length: 1184, dtype: int64"
      ]
     },
     "execution_count": 24,
     "metadata": {},
     "output_type": "execute_result"
    }
   ],
   "source": [
    "# observe values for service providers\n",
    "email_df['provider'].value_counts()"
   ]
  },
  {
   "cell_type": "markdown",
   "metadata": {},
   "source": [
    "With over a thousand providers, I'm not sure it will be useful."
   ]
  },
  {
   "cell_type": "code",
   "execution_count": 25,
   "metadata": {},
   "outputs": [
    {
     "data": {
      "text/plain": [
       "gmail         3562\n",
       "yahoo         2447\n",
       "jourrapide    1259\n",
       "cuvox         1202\n",
       "gustr         1179\n",
       "hotmail       1165\n",
       "xvnbr            2\n",
       "luque            2\n",
       "Name: provider, dtype: int64"
      ]
     },
     "execution_count": 25,
     "metadata": {},
     "output_type": "execute_result"
    }
   ],
   "source": [
    "# look for good cutoff\n",
    "email_df['provider'].value_counts().head(8)"
   ]
  },
  {
   "cell_type": "markdown",
   "metadata": {},
   "source": [
    "On second thought, there really are only 6 major providers, then everyone else.<br>\n",
    "I'll rename the minor providers."
   ]
  },
  {
   "cell_type": "code",
   "execution_count": 26,
   "metadata": {},
   "outputs": [
    {
     "data": {
      "text/plain": [
       "['gmail', 'yahoo', 'jourrapide', 'cuvox', 'gustr', 'hotmail']"
      ]
     },
     "execution_count": 26,
     "metadata": {},
     "output_type": "execute_result"
    }
   ],
   "source": [
    "# get a-list of providers\n",
    "a_provider_lst = email_df['provider'].value_counts().head(6).index.to_list()\n",
    "a_provider_lst"
   ]
  },
  {
   "cell_type": "code",
   "execution_count": 27,
   "metadata": {},
   "outputs": [
    {
     "data": {
      "text/html": [
       "<div>\n",
       "<style scoped>\n",
       "    .dataframe tbody tr th:only-of-type {\n",
       "        vertical-align: middle;\n",
       "    }\n",
       "\n",
       "    .dataframe tbody tr th {\n",
       "        vertical-align: top;\n",
       "    }\n",
       "\n",
       "    .dataframe thead th {\n",
       "        text-align: right;\n",
       "    }\n",
       "</style>\n",
       "<table border=\"1\" class=\"dataframe\">\n",
       "  <thead>\n",
       "    <tr style=\"text-align: right;\">\n",
       "      <th></th>\n",
       "      <th>provider</th>\n",
       "    </tr>\n",
       "  </thead>\n",
       "  <tbody>\n",
       "    <tr>\n",
       "      <th>19</th>\n",
       "      <td>uhzdq</td>\n",
       "    </tr>\n",
       "    <tr>\n",
       "      <th>42</th>\n",
       "      <td>yyyxt</td>\n",
       "    </tr>\n",
       "    <tr>\n",
       "      <th>47</th>\n",
       "      <td>cslyn</td>\n",
       "    </tr>\n",
       "    <tr>\n",
       "      <th>63</th>\n",
       "      <td>xhtxh</td>\n",
       "    </tr>\n",
       "    <tr>\n",
       "      <th>75</th>\n",
       "      <td>aethf</td>\n",
       "    </tr>\n",
       "    <tr>\n",
       "      <th>...</th>\n",
       "      <td>...</td>\n",
       "    </tr>\n",
       "    <tr>\n",
       "      <th>11963</th>\n",
       "      <td>owujh</td>\n",
       "    </tr>\n",
       "    <tr>\n",
       "      <th>11979</th>\n",
       "      <td>cgbld</td>\n",
       "    </tr>\n",
       "    <tr>\n",
       "      <th>11986</th>\n",
       "      <td>uyhoy</td>\n",
       "    </tr>\n",
       "    <tr>\n",
       "      <th>11993</th>\n",
       "      <td>eaouk</td>\n",
       "    </tr>\n",
       "    <tr>\n",
       "      <th>11998</th>\n",
       "      <td>iuxiw</td>\n",
       "    </tr>\n",
       "  </tbody>\n",
       "</table>\n",
       "<p>1186 rows × 1 columns</p>\n",
       "</div>"
      ],
      "text/plain": [
       "      provider\n",
       "19       uhzdq\n",
       "42       yyyxt\n",
       "47       cslyn\n",
       "63       xhtxh\n",
       "75       aethf\n",
       "...        ...\n",
       "11963    owujh\n",
       "11979    cgbld\n",
       "11986    uyhoy\n",
       "11993    eaouk\n",
       "11998    iuxiw\n",
       "\n",
       "[1186 rows x 1 columns]"
      ]
     },
     "execution_count": 27,
     "metadata": {},
     "output_type": "execute_result"
    }
   ],
   "source": [
    "# observe b-list providers\n",
    "email_df[~email_df['provider'].isin(a_provider_lst)]"
   ]
  },
  {
   "cell_type": "code",
   "execution_count": 28,
   "metadata": {},
   "outputs": [
    {
     "data": {
      "text/html": [
       "<div>\n",
       "<style scoped>\n",
       "    .dataframe tbody tr th:only-of-type {\n",
       "        vertical-align: middle;\n",
       "    }\n",
       "\n",
       "    .dataframe tbody tr th {\n",
       "        vertical-align: top;\n",
       "    }\n",
       "\n",
       "    .dataframe thead th {\n",
       "        text-align: right;\n",
       "    }\n",
       "</style>\n",
       "<table border=\"1\" class=\"dataframe\">\n",
       "  <thead>\n",
       "    <tr style=\"text-align: right;\">\n",
       "      <th></th>\n",
       "      <th>provider</th>\n",
       "    </tr>\n",
       "  </thead>\n",
       "  <tbody>\n",
       "    <tr>\n",
       "      <th>74</th>\n",
       "      <td>cuvox</td>\n",
       "    </tr>\n",
       "    <tr>\n",
       "      <th>75</th>\n",
       "      <td>other</td>\n",
       "    </tr>\n",
       "    <tr>\n",
       "      <th>76</th>\n",
       "      <td>jourrapide</td>\n",
       "    </tr>\n",
       "    <tr>\n",
       "      <th>77</th>\n",
       "      <td>other</td>\n",
       "    </tr>\n",
       "    <tr>\n",
       "      <th>78</th>\n",
       "      <td>gmail</td>\n",
       "    </tr>\n",
       "  </tbody>\n",
       "</table>\n",
       "</div>"
      ],
      "text/plain": [
       "      provider\n",
       "74       cuvox\n",
       "75       other\n",
       "76  jourrapide\n",
       "77       other\n",
       "78       gmail"
      ]
     },
     "execution_count": 28,
     "metadata": {},
     "output_type": "execute_result"
    }
   ],
   "source": [
    "# rename b-list providers\n",
    "email_df['provider'][~email_df['provider'].isin(a_provider_lst)] = 'other'\n",
    "email_df[74:79]"
   ]
  },
  {
   "cell_type": "code",
   "execution_count": 29,
   "metadata": {},
   "outputs": [
    {
     "data": {
      "text/html": [
       "<div>\n",
       "<style scoped>\n",
       "    .dataframe tbody tr th:only-of-type {\n",
       "        vertical-align: middle;\n",
       "    }\n",
       "\n",
       "    .dataframe tbody tr th {\n",
       "        vertical-align: top;\n",
       "    }\n",
       "\n",
       "    .dataframe thead th {\n",
       "        text-align: right;\n",
       "    }\n",
       "</style>\n",
       "<table border=\"1\" class=\"dataframe\">\n",
       "  <thead>\n",
       "    <tr style=\"text-align: right;\">\n",
       "      <th></th>\n",
       "      <th>user_id</th>\n",
       "      <th>creation_time</th>\n",
       "      <th>name</th>\n",
       "      <th>email</th>\n",
       "      <th>creation_source</th>\n",
       "      <th>last_session</th>\n",
       "      <th>mailing_list</th>\n",
       "      <th>marketing_drip</th>\n",
       "      <th>org_id</th>\n",
       "      <th>invitee_id</th>\n",
       "    </tr>\n",
       "  </thead>\n",
       "  <tbody>\n",
       "    <tr>\n",
       "      <th>0</th>\n",
       "      <td>1</td>\n",
       "      <td>2014-04-22 03:53:30</td>\n",
       "      <td>Clausen August</td>\n",
       "      <td>yahoo</td>\n",
       "      <td>GUEST_INVITE</td>\n",
       "      <td>2014-04-22 03:53:30</td>\n",
       "      <td>1</td>\n",
       "      <td>0</td>\n",
       "      <td>11</td>\n",
       "      <td>10803.0</td>\n",
       "    </tr>\n",
       "    <tr>\n",
       "      <th>1</th>\n",
       "      <td>2</td>\n",
       "      <td>2013-11-15 03:45:04</td>\n",
       "      <td>Poole Matthew</td>\n",
       "      <td>gustr</td>\n",
       "      <td>ORG_INVITE</td>\n",
       "      <td>2014-03-31 03:45:04</td>\n",
       "      <td>0</td>\n",
       "      <td>0</td>\n",
       "      <td>1</td>\n",
       "      <td>316.0</td>\n",
       "    </tr>\n",
       "    <tr>\n",
       "      <th>2</th>\n",
       "      <td>3</td>\n",
       "      <td>2013-03-19 23:14:52</td>\n",
       "      <td>Bottrill Mitchell</td>\n",
       "      <td>gustr</td>\n",
       "      <td>ORG_INVITE</td>\n",
       "      <td>2013-03-19 23:14:52</td>\n",
       "      <td>0</td>\n",
       "      <td>0</td>\n",
       "      <td>94</td>\n",
       "      <td>1525.0</td>\n",
       "    </tr>\n",
       "  </tbody>\n",
       "</table>\n",
       "</div>"
      ],
      "text/plain": [
       "   user_id       creation_time               name  email creation_source  \\\n",
       "0        1 2014-04-22 03:53:30     Clausen August  yahoo    GUEST_INVITE   \n",
       "1        2 2013-11-15 03:45:04      Poole Matthew  gustr      ORG_INVITE   \n",
       "2        3 2013-03-19 23:14:52  Bottrill Mitchell  gustr      ORG_INVITE   \n",
       "\n",
       "         last_session  mailing_list  marketing_drip  org_id  invitee_id  \n",
       "0 2014-04-22 03:53:30             1               0      11     10803.0  \n",
       "1 2014-03-31 03:45:04             0               0       1       316.0  \n",
       "2 2013-03-19 23:14:52             0               0      94      1525.0  "
      ]
     },
     "execution_count": 29,
     "metadata": {},
     "output_type": "execute_result"
    }
   ],
   "source": [
    "# replace email column with provider column\n",
    "users_df['email'] = email_df['provider']\n",
    "users_df.head(3)"
   ]
  },
  {
   "cell_type": "code",
   "execution_count": 30,
   "metadata": {},
   "outputs": [
    {
     "data": {
      "text/plain": [
       "0.0        5583\n",
       "10741.0      13\n",
       "2527.0       12\n",
       "1525.0       11\n",
       "2308.0       11\n",
       "           ... \n",
       "7941.0        1\n",
       "4134.0        1\n",
       "6101.0        1\n",
       "129.0         1\n",
       "594.0         1\n",
       "Name: invitee_id, Length: 2565, dtype: int64"
      ]
     },
     "execution_count": 30,
     "metadata": {},
     "output_type": "execute_result"
    }
   ],
   "source": [
    "# observe the number of different users who invited another user\n",
    "users_df['invitee_id'].value_counts()"
   ]
  },
  {
   "cell_type": "markdown",
   "metadata": {},
   "source": [
    "This is a lot of IDs.<br>\n",
    "I will create a new feature that reflects whether or not the user was invited."
   ]
  },
  {
   "cell_type": "code",
   "execution_count": 31,
   "metadata": {},
   "outputs": [],
   "source": [
    "def set_boolean_value(row, val):\n",
    "    \"\"\"Assigns values based on boolean ID condition\"\"\"\n",
    "    return val[row]"
   ]
  },
  {
   "cell_type": "code",
   "execution_count": 32,
   "metadata": {},
   "outputs": [],
   "source": [
    "# set boolean value assignments\n",
    "bool_dict = {True: 1, False: 0}"
   ]
  },
  {
   "cell_type": "code",
   "execution_count": 33,
   "metadata": {},
   "outputs": [
    {
     "data": {
      "text/html": [
       "<div>\n",
       "<style scoped>\n",
       "    .dataframe tbody tr th:only-of-type {\n",
       "        vertical-align: middle;\n",
       "    }\n",
       "\n",
       "    .dataframe tbody tr th {\n",
       "        vertical-align: top;\n",
       "    }\n",
       "\n",
       "    .dataframe thead th {\n",
       "        text-align: right;\n",
       "    }\n",
       "</style>\n",
       "<table border=\"1\" class=\"dataframe\">\n",
       "  <thead>\n",
       "    <tr style=\"text-align: right;\">\n",
       "      <th></th>\n",
       "      <th>invitee_id</th>\n",
       "      <th>invited</th>\n",
       "    </tr>\n",
       "  </thead>\n",
       "  <tbody>\n",
       "    <tr>\n",
       "      <th>11995</th>\n",
       "      <td>8263.0</td>\n",
       "      <td>1</td>\n",
       "    </tr>\n",
       "    <tr>\n",
       "      <th>11996</th>\n",
       "      <td>0.0</td>\n",
       "      <td>0</td>\n",
       "    </tr>\n",
       "    <tr>\n",
       "      <th>11997</th>\n",
       "      <td>8074.0</td>\n",
       "      <td>1</td>\n",
       "    </tr>\n",
       "    <tr>\n",
       "      <th>11998</th>\n",
       "      <td>0.0</td>\n",
       "      <td>0</td>\n",
       "    </tr>\n",
       "    <tr>\n",
       "      <th>11999</th>\n",
       "      <td>0.0</td>\n",
       "      <td>0</td>\n",
       "    </tr>\n",
       "  </tbody>\n",
       "</table>\n",
       "</div>"
      ],
      "text/plain": [
       "       invitee_id  invited\n",
       "11995      8263.0        1\n",
       "11996         0.0        0\n",
       "11997      8074.0        1\n",
       "11998         0.0        0\n",
       "11999         0.0        0"
      ]
     },
     "execution_count": 33,
     "metadata": {},
     "output_type": "execute_result"
    }
   ],
   "source": [
    "# create binary invited user feature\n",
    "users_df['invited'] = (users_df['invitee_id'] != 0).apply(\n",
    "    set_boolean_value, args=(bool_dict, ))\n",
    "# verify that it worked\n",
    "users_df[['invitee_id', 'invited']].tail()"
   ]
  },
  {
   "cell_type": "code",
   "execution_count": 34,
   "metadata": {},
   "outputs": [
    {
     "data": {
      "text/plain": [
       "0      319\n",
       "1      233\n",
       "2      201\n",
       "3      168\n",
       "4      159\n",
       "      ... \n",
       "396      9\n",
       "400      8\n",
       "397      8\n",
       "386      7\n",
       "416      2\n",
       "Name: org_id, Length: 417, dtype: int64"
      ]
     },
     "execution_count": 34,
     "metadata": {},
     "output_type": "execute_result"
    }
   ],
   "source": [
    "# observe the number of different user organizations\n",
    "users_df['org_id'].value_counts()"
   ]
  },
  {
   "cell_type": "markdown",
   "metadata": {},
   "source": [
    "Because it's the largest occurence, I'll assume that organization zero identifies no affilaition.<br>\n",
    "I'll do the same boolean convertion to this category, as well."
   ]
  },
  {
   "cell_type": "code",
   "execution_count": 35,
   "metadata": {},
   "outputs": [
    {
     "data": {
      "text/html": [
       "<div>\n",
       "<style scoped>\n",
       "    .dataframe tbody tr th:only-of-type {\n",
       "        vertical-align: middle;\n",
       "    }\n",
       "\n",
       "    .dataframe tbody tr th {\n",
       "        vertical-align: top;\n",
       "    }\n",
       "\n",
       "    .dataframe thead th {\n",
       "        text-align: right;\n",
       "    }\n",
       "</style>\n",
       "<table border=\"1\" class=\"dataframe\">\n",
       "  <thead>\n",
       "    <tr style=\"text-align: right;\">\n",
       "      <th></th>\n",
       "      <th>org_id</th>\n",
       "      <th>org_member</th>\n",
       "    </tr>\n",
       "  </thead>\n",
       "  <tbody>\n",
       "    <tr>\n",
       "      <th>49</th>\n",
       "      <td>61</td>\n",
       "      <td>1</td>\n",
       "    </tr>\n",
       "    <tr>\n",
       "      <th>50</th>\n",
       "      <td>0</td>\n",
       "      <td>0</td>\n",
       "    </tr>\n",
       "    <tr>\n",
       "      <th>51</th>\n",
       "      <td>0</td>\n",
       "      <td>0</td>\n",
       "    </tr>\n",
       "    <tr>\n",
       "      <th>52</th>\n",
       "      <td>37</td>\n",
       "      <td>1</td>\n",
       "    </tr>\n",
       "  </tbody>\n",
       "</table>\n",
       "</div>"
      ],
      "text/plain": [
       "    org_id  org_member\n",
       "49      61           1\n",
       "50       0           0\n",
       "51       0           0\n",
       "52      37           1"
      ]
     },
     "execution_count": 35,
     "metadata": {},
     "output_type": "execute_result"
    }
   ],
   "source": [
    "# create binary organization member feature\n",
    "users_df['org_member'] = (users_df['org_id'] != 0).apply(\n",
    "    set_boolean_value, args=(bool_dict, ))\n",
    "# verify that it worked\n",
    "users_df[['org_id', 'org_member']][49:53]"
   ]
  },
  {
   "cell_type": "code",
   "execution_count": 36,
   "metadata": {},
   "outputs": [
    {
     "data": {
      "text/html": [
       "<div>\n",
       "<style scoped>\n",
       "    .dataframe tbody tr th:only-of-type {\n",
       "        vertical-align: middle;\n",
       "    }\n",
       "\n",
       "    .dataframe tbody tr th {\n",
       "        vertical-align: top;\n",
       "    }\n",
       "\n",
       "    .dataframe thead th {\n",
       "        text-align: right;\n",
       "    }\n",
       "</style>\n",
       "<table border=\"1\" class=\"dataframe\">\n",
       "  <thead>\n",
       "    <tr style=\"text-align: right;\">\n",
       "      <th></th>\n",
       "      <th>user_id</th>\n",
       "      <th>mailing_list</th>\n",
       "      <th>marketing_drip</th>\n",
       "      <th>invited</th>\n",
       "      <th>org_member</th>\n",
       "    </tr>\n",
       "  </thead>\n",
       "  <tbody>\n",
       "    <tr>\n",
       "      <th>count</th>\n",
       "      <td>12000.00000</td>\n",
       "      <td>12000.000000</td>\n",
       "      <td>12000.000000</td>\n",
       "      <td>12000.000000</td>\n",
       "      <td>12000.000000</td>\n",
       "    </tr>\n",
       "    <tr>\n",
       "      <th>mean</th>\n",
       "      <td>6000.50000</td>\n",
       "      <td>0.249500</td>\n",
       "      <td>0.149333</td>\n",
       "      <td>0.534750</td>\n",
       "      <td>0.973417</td>\n",
       "    </tr>\n",
       "    <tr>\n",
       "      <th>std</th>\n",
       "      <td>3464.24595</td>\n",
       "      <td>0.432742</td>\n",
       "      <td>0.356432</td>\n",
       "      <td>0.498812</td>\n",
       "      <td>0.160869</td>\n",
       "    </tr>\n",
       "    <tr>\n",
       "      <th>min</th>\n",
       "      <td>1.00000</td>\n",
       "      <td>0.000000</td>\n",
       "      <td>0.000000</td>\n",
       "      <td>0.000000</td>\n",
       "      <td>0.000000</td>\n",
       "    </tr>\n",
       "    <tr>\n",
       "      <th>25%</th>\n",
       "      <td>3000.75000</td>\n",
       "      <td>0.000000</td>\n",
       "      <td>0.000000</td>\n",
       "      <td>0.000000</td>\n",
       "      <td>1.000000</td>\n",
       "    </tr>\n",
       "    <tr>\n",
       "      <th>50%</th>\n",
       "      <td>6000.50000</td>\n",
       "      <td>0.000000</td>\n",
       "      <td>0.000000</td>\n",
       "      <td>1.000000</td>\n",
       "      <td>1.000000</td>\n",
       "    </tr>\n",
       "    <tr>\n",
       "      <th>75%</th>\n",
       "      <td>9000.25000</td>\n",
       "      <td>0.000000</td>\n",
       "      <td>0.000000</td>\n",
       "      <td>1.000000</td>\n",
       "      <td>1.000000</td>\n",
       "    </tr>\n",
       "    <tr>\n",
       "      <th>max</th>\n",
       "      <td>12000.00000</td>\n",
       "      <td>1.000000</td>\n",
       "      <td>1.000000</td>\n",
       "      <td>1.000000</td>\n",
       "      <td>1.000000</td>\n",
       "    </tr>\n",
       "  </tbody>\n",
       "</table>\n",
       "</div>"
      ],
      "text/plain": [
       "           user_id  mailing_list  marketing_drip       invited    org_member\n",
       "count  12000.00000  12000.000000    12000.000000  12000.000000  12000.000000\n",
       "mean    6000.50000      0.249500        0.149333      0.534750      0.973417\n",
       "std     3464.24595      0.432742        0.356432      0.498812      0.160869\n",
       "min        1.00000      0.000000        0.000000      0.000000      0.000000\n",
       "25%     3000.75000      0.000000        0.000000      0.000000      1.000000\n",
       "50%     6000.50000      0.000000        0.000000      1.000000      1.000000\n",
       "75%     9000.25000      0.000000        0.000000      1.000000      1.000000\n",
       "max    12000.00000      1.000000        1.000000      1.000000      1.000000"
      ]
     },
     "execution_count": 36,
     "metadata": {},
     "output_type": "execute_result"
    }
   ],
   "source": [
    "# observe range of variables\n",
    "users_df.drop(['org_id', 'invitee_id'], axis=1).describe()"
   ]
  },
  {
   "cell_type": "markdown",
   "metadata": {},
   "source": [
    "Nearly 25% of those who signed up opted into the marketing emails.<br>\n",
    "Those who agreed to receive the email marketing drip accounted for just under 15% of all users.<br>\n",
    "Over 53% of users were invited by another member.<br>\n",
    "Over 97% of users belong to an organization."
   ]
  },
  {
   "cell_type": "markdown",
   "metadata": {},
   "source": [
    "The large number of users who are in an organization and invited by other users may yield some fruitful leads."
   ]
  },
  {
   "cell_type": "code",
   "execution_count": 37,
   "metadata": {},
   "outputs": [
    {
     "data": {
      "text/html": [
       "<div>\n",
       "<style scoped>\n",
       "    .dataframe tbody tr th:only-of-type {\n",
       "        vertical-align: middle;\n",
       "    }\n",
       "\n",
       "    .dataframe tbody tr th {\n",
       "        vertical-align: top;\n",
       "    }\n",
       "\n",
       "    .dataframe thead th {\n",
       "        text-align: right;\n",
       "    }\n",
       "</style>\n",
       "<table border=\"1\" class=\"dataframe\">\n",
       "  <thead>\n",
       "    <tr style=\"text-align: right;\">\n",
       "      <th></th>\n",
       "      <th>user_id</th>\n",
       "      <th>creation_time</th>\n",
       "      <th>name</th>\n",
       "      <th>email</th>\n",
       "      <th>creation_source</th>\n",
       "      <th>last_session</th>\n",
       "      <th>mailing_list</th>\n",
       "      <th>marketing_drip</th>\n",
       "      <th>org_id</th>\n",
       "      <th>invitee_id</th>\n",
       "      <th>invited</th>\n",
       "      <th>org_member</th>\n",
       "    </tr>\n",
       "  </thead>\n",
       "  <tbody>\n",
       "    <tr>\n",
       "      <th>0</th>\n",
       "      <td>1</td>\n",
       "      <td>2014-04-22 03:53:30</td>\n",
       "      <td>Clausen August</td>\n",
       "      <td>yahoo</td>\n",
       "      <td>GUEST_INVITE</td>\n",
       "      <td>2014-04-22 03:53:30</td>\n",
       "      <td>1</td>\n",
       "      <td>0</td>\n",
       "      <td>11</td>\n",
       "      <td>10803.0</td>\n",
       "      <td>1</td>\n",
       "      <td>1</td>\n",
       "    </tr>\n",
       "    <tr>\n",
       "      <th>1</th>\n",
       "      <td>2</td>\n",
       "      <td>2013-11-15 03:45:04</td>\n",
       "      <td>Poole Matthew</td>\n",
       "      <td>gustr</td>\n",
       "      <td>ORG_INVITE</td>\n",
       "      <td>2014-03-31 03:45:04</td>\n",
       "      <td>0</td>\n",
       "      <td>0</td>\n",
       "      <td>1</td>\n",
       "      <td>316.0</td>\n",
       "      <td>1</td>\n",
       "      <td>1</td>\n",
       "    </tr>\n",
       "    <tr>\n",
       "      <th>2</th>\n",
       "      <td>3</td>\n",
       "      <td>2013-03-19 23:14:52</td>\n",
       "      <td>Bottrill Mitchell</td>\n",
       "      <td>gustr</td>\n",
       "      <td>ORG_INVITE</td>\n",
       "      <td>2013-03-19 23:14:52</td>\n",
       "      <td>0</td>\n",
       "      <td>0</td>\n",
       "      <td>94</td>\n",
       "      <td>1525.0</td>\n",
       "      <td>1</td>\n",
       "      <td>1</td>\n",
       "    </tr>\n",
       "    <tr>\n",
       "      <th>3</th>\n",
       "      <td>4</td>\n",
       "      <td>2013-05-21 08:09:28</td>\n",
       "      <td>Clausen Nicklas</td>\n",
       "      <td>yahoo</td>\n",
       "      <td>GUEST_INVITE</td>\n",
       "      <td>2013-05-22 08:09:28</td>\n",
       "      <td>0</td>\n",
       "      <td>0</td>\n",
       "      <td>1</td>\n",
       "      <td>5151.0</td>\n",
       "      <td>1</td>\n",
       "      <td>1</td>\n",
       "    </tr>\n",
       "    <tr>\n",
       "      <th>4</th>\n",
       "      <td>5</td>\n",
       "      <td>2013-01-17 10:14:20</td>\n",
       "      <td>Raw Grace</td>\n",
       "      <td>yahoo</td>\n",
       "      <td>GUEST_INVITE</td>\n",
       "      <td>2013-01-22 10:14:20</td>\n",
       "      <td>0</td>\n",
       "      <td>0</td>\n",
       "      <td>193</td>\n",
       "      <td>5240.0</td>\n",
       "      <td>1</td>\n",
       "      <td>1</td>\n",
       "    </tr>\n",
       "  </tbody>\n",
       "</table>\n",
       "</div>"
      ],
      "text/plain": [
       "   user_id       creation_time               name  email creation_source  \\\n",
       "0        1 2014-04-22 03:53:30     Clausen August  yahoo    GUEST_INVITE   \n",
       "1        2 2013-11-15 03:45:04      Poole Matthew  gustr      ORG_INVITE   \n",
       "2        3 2013-03-19 23:14:52  Bottrill Mitchell  gustr      ORG_INVITE   \n",
       "3        4 2013-05-21 08:09:28    Clausen Nicklas  yahoo    GUEST_INVITE   \n",
       "4        5 2013-01-17 10:14:20          Raw Grace  yahoo    GUEST_INVITE   \n",
       "\n",
       "         last_session  mailing_list  marketing_drip  org_id  invitee_id  \\\n",
       "0 2014-04-22 03:53:30             1               0      11     10803.0   \n",
       "1 2014-03-31 03:45:04             0               0       1       316.0   \n",
       "2 2013-03-19 23:14:52             0               0      94      1525.0   \n",
       "3 2013-05-22 08:09:28             0               0       1      5151.0   \n",
       "4 2013-01-22 10:14:20             0               0     193      5240.0   \n",
       "\n",
       "   invited  org_member  \n",
       "0        1           1  \n",
       "1        1           1  \n",
       "2        1           1  \n",
       "3        1           1  \n",
       "4        1           1  "
      ]
     },
     "execution_count": 37,
     "metadata": {},
     "output_type": "execute_result"
    }
   ],
   "source": [
    "# observe some data\n",
    "users_df.head()"
   ]
  },
  {
   "cell_type": "markdown",
   "metadata": {},
   "source": [
    "This dataset looks good.<br>\n",
    "I'll work with the other one, now."
   ]
  },
  {
   "cell_type": "code",
   "execution_count": null,
   "metadata": {},
   "outputs": [],
   "source": []
  },
  {
   "cell_type": "markdown",
   "metadata": {},
   "source": [
    " > **LOGIN DATA**"
   ]
  },
  {
   "cell_type": "code",
   "execution_count": 38,
   "metadata": {},
   "outputs": [],
   "source": [
    "# read in second dataset\n",
    "engagement_df = pd.read_csv('takehome_user_engagement.csv')"
   ]
  },
  {
   "cell_type": "code",
   "execution_count": 39,
   "metadata": {},
   "outputs": [
    {
     "data": {
      "text/plain": [
       "(207917, 3)"
      ]
     },
     "execution_count": 39,
     "metadata": {},
     "output_type": "execute_result"
    }
   ],
   "source": [
    "# observe dimensionality of dataset\n",
    "engagement_df.shape"
   ]
  },
  {
   "cell_type": "code",
   "execution_count": 40,
   "metadata": {},
   "outputs": [
    {
     "name": "stdout",
     "output_type": "stream",
     "text": [
      "<class 'pandas.core.frame.DataFrame'>\n",
      "RangeIndex: 207917 entries, 0 to 207916\n",
      "Data columns (total 3 columns):\n",
      " #   Column      Non-Null Count   Dtype \n",
      "---  ------      --------------   ----- \n",
      " 0   time_stamp  207917 non-null  object\n",
      " 1   user_id     207917 non-null  int64 \n",
      " 2   visited     207917 non-null  int64 \n",
      "dtypes: int64(2), object(1)\n",
      "memory usage: 4.8+ MB\n"
     ]
    }
   ],
   "source": [
    "# observe feature names, data types, and possible null values\n",
    "engagement_df.info()"
   ]
  },
  {
   "cell_type": "markdown",
   "metadata": {},
   "source": [
    "I'll apply the same technique to the time data here, too."
   ]
  },
  {
   "cell_type": "code",
   "execution_count": 41,
   "metadata": {},
   "outputs": [
    {
     "name": "stdout",
     "output_type": "stream",
     "text": [
      "<class 'str'>\n"
     ]
    }
   ],
   "source": [
    "# check data type\n",
    "print(type(engagement_df['time_stamp'][0]))"
   ]
  },
  {
   "cell_type": "code",
   "execution_count": 42,
   "metadata": {},
   "outputs": [],
   "source": [
    "# convert time string to useful  object\n",
    "engagement_df['time_stamp'] = pd.to_datetime(engagement_df['time_stamp'])"
   ]
  },
  {
   "cell_type": "code",
   "execution_count": 43,
   "metadata": {},
   "outputs": [
    {
     "name": "stdout",
     "output_type": "stream",
     "text": [
      "<class 'pandas._libs.tslibs.timestamps.Timestamp'>\n"
     ]
    }
   ],
   "source": [
    "# trust but verify\n",
    "print(type(engagement_df['time_stamp'][0]))"
   ]
  },
  {
   "cell_type": "code",
   "execution_count": 44,
   "metadata": {},
   "outputs": [
    {
     "name": "stdout",
     "output_type": "stream",
     "text": [
      "count                   12000\n",
      "unique                  11996\n",
      "top       2014-02-11 17:57:53\n",
      "freq                        2\n",
      "first     2012-05-31 00:43:27\n",
      "last      2014-05-30 23:59:19\n",
      "Name: creation_time, dtype: object\n",
      "\n",
      "count                  207917\n",
      "unique                 207220\n",
      "top       2014-02-05 03:09:54\n",
      "freq                        2\n",
      "first     2012-05-31 08:20:06\n",
      "last      2014-06-06 14:58:50\n",
      "Name: time_stamp, dtype: object\n",
      "\n",
      "count                   12000\n",
      "unique                  11998\n",
      "top       2014-06-04 07:46:58\n",
      "freq                        2\n",
      "first     2012-05-31 08:20:06\n",
      "last      2014-06-06 14:58:50\n",
      "Name: last_session, dtype: object\n"
     ]
    }
   ],
   "source": [
    "# observe timestamp ranges\n",
    "print(users_df['creation_time'].describe(), \n",
    "      engagement_df['time_stamp'].describe(), \n",
    "      users_df['last_session'].describe(), sep='\\n\\n')"
   ]
  },
  {
   "cell_type": "markdown",
   "metadata": {},
   "source": [
    "Chronologically, the times are aligned in a logical order.<br>\n",
    "The first signup was May 31st, 2012. All other timestamps are after that one.<br>\n",
    "The last login was on Juse 6th, 2014. All of the signups are before that date."
   ]
  },
  {
   "cell_type": "code",
   "execution_count": 45,
   "metadata": {},
   "outputs": [
    {
     "data": {
      "text/plain": [
       "8823"
      ]
     },
     "execution_count": 45,
     "metadata": {},
     "output_type": "execute_result"
    }
   ],
   "source": [
    "# get count of unique user IDs\n",
    "len(engagement_df['user_id'].unique())"
   ]
  },
  {
   "cell_type": "markdown",
   "metadata": {},
   "source": [
    "Not all of the users from the first dataset have logins in this dataset."
   ]
  },
  {
   "cell_type": "code",
   "execution_count": 46,
   "metadata": {},
   "outputs": [
    {
     "data": {
      "text/plain": [
       "1    207917\n",
       "Name: visited, dtype: int64"
      ]
     },
     "execution_count": 46,
     "metadata": {},
     "output_type": "execute_result"
    }
   ],
   "source": [
    "# observe visited feature\n",
    "engagement_df['visited'].value_counts()"
   ]
  },
  {
   "cell_type": "markdown",
   "metadata": {},
   "source": [
    "This is a feature designed to help to count the number of logins when aggregating."
   ]
  },
  {
   "cell_type": "markdown",
   "metadata": {},
   "source": [
    "I will use this to count the the occurances of logins in 7 day windows, then sort for adopted users.<br>\n",
    "Values of 0 will be assigned to users whose activity does not qualify them for adoption.<br>\n",
    "Values of 1 will be for those users who have been adopted."
   ]
  },
  {
   "cell_type": "markdown",
   "metadata": {},
   "source": [
    "I will separate these users into two classes of activity to hunt for insights.<br>\n",
    "Class 0 will be the users who logged in more than once.<br>\n",
    "Class 1 will be the one-and-done users, who only logged in once."
   ]
  },
  {
   "cell_type": "code",
   "execution_count": 47,
   "metadata": {},
   "outputs": [],
   "source": [
    "def counts_in_window(df):\n",
    "    \"\"\"Creates count features for number of logins in 7 day window & retains window data\"\"\"\n",
    "    # get array of unique user IDs\n",
    "    user_id_arr = df['user_id'].unique()\n",
    "    # create empty DataFrame\n",
    "    logins_df = pd.DataFrame(\n",
    "        index=user_id_arr, \n",
    "        columns=['adopted_user', 'loser_class', 'total_logins', 'window_count'])\n",
    "    # cycle through users\n",
    "    for user in df['user_id'].unique():\n",
    "        # partition users\n",
    "        user_df = df[df['user_id'] == user]\n",
    "        # get count of logins by 7 day windows\n",
    "        logins_arr = user_df.rolling(\n",
    "            '7D', on='time_stamp')['visited'].sum().values.astype('int')\n",
    "        # assign boolean values to user for adopted and class features\n",
    "        if logins_arr[logins_arr > 2].size > 0:\n",
    "            # assign adopted value to adopted users\n",
    "            logins_df.loc[user, 'adopted_user'] = 1\n",
    "            # assign class value to adopted users\n",
    "            logins_df.loc[user, 'loser_class'] = 0    \n",
    "        else:\n",
    "            # assign adopted value to users not adopted\n",
    "            logins_df.loc[user, 'adopted_user'] = 0\n",
    "            if logins_arr.size > 1:\n",
    "                # assign class value to users not adopted but active\n",
    "                logins_df.loc[user, 'loser_class'] = 0\n",
    "            else:\n",
    "                # assign class value to one-and-done users\n",
    "                logins_df.loc[user, 'loser_class'] = 1\n",
    "        # capture all 7 day window data\n",
    "        logins_df.loc[user, 'window_count'] = logins_arr\n",
    "    # get number of logins\n",
    "    logins_df.loc[:, 'total_logins'] = logins_df['window_count'].apply(sum).values\n",
    "  \n",
    "    return logins_df"
   ]
  },
  {
   "cell_type": "code",
   "execution_count": 48,
   "metadata": {},
   "outputs": [
    {
     "data": {
      "text/html": [
       "<div>\n",
       "<style scoped>\n",
       "    .dataframe tbody tr th:only-of-type {\n",
       "        vertical-align: middle;\n",
       "    }\n",
       "\n",
       "    .dataframe tbody tr th {\n",
       "        vertical-align: top;\n",
       "    }\n",
       "\n",
       "    .dataframe thead th {\n",
       "        text-align: right;\n",
       "    }\n",
       "</style>\n",
       "<table border=\"1\" class=\"dataframe\">\n",
       "  <thead>\n",
       "    <tr style=\"text-align: right;\">\n",
       "      <th></th>\n",
       "      <th>user_id</th>\n",
       "      <th>adopted_user</th>\n",
       "      <th>loser_class</th>\n",
       "      <th>total_logins</th>\n",
       "      <th>window_count</th>\n",
       "    </tr>\n",
       "  </thead>\n",
       "  <tbody>\n",
       "    <tr>\n",
       "      <th>11</th>\n",
       "      <td>17</td>\n",
       "      <td>0</td>\n",
       "      <td>1</td>\n",
       "      <td>1</td>\n",
       "      <td>[1]</td>\n",
       "    </tr>\n",
       "    <tr>\n",
       "      <th>12</th>\n",
       "      <td>19</td>\n",
       "      <td>0</td>\n",
       "      <td>0</td>\n",
       "      <td>3</td>\n",
       "      <td>[1, 2]</td>\n",
       "    </tr>\n",
       "    <tr>\n",
       "      <th>13</th>\n",
       "      <td>20</td>\n",
       "      <td>1</td>\n",
       "      <td>0</td>\n",
       "      <td>12</td>\n",
       "      <td>[1, 2, 3, 1, 2, 1, 2]</td>\n",
       "    </tr>\n",
       "    <tr>\n",
       "      <th>14</th>\n",
       "      <td>21</td>\n",
       "      <td>0</td>\n",
       "      <td>1</td>\n",
       "      <td>1</td>\n",
       "      <td>[1]</td>\n",
       "    </tr>\n",
       "  </tbody>\n",
       "</table>\n",
       "</div>"
      ],
      "text/plain": [
       "    user_id adopted_user loser_class  total_logins           window_count\n",
       "11       17            0           1             1                    [1]\n",
       "12       19            0           0             3                 [1, 2]\n",
       "13       20            1           0            12  [1, 2, 3, 1, 2, 1, 2]\n",
       "14       21            0           1             1                    [1]"
      ]
     },
     "execution_count": 48,
     "metadata": {},
     "output_type": "execute_result"
    }
   ],
   "source": [
    "# create login DataFrame with new features and bring along login window count arrays, just in case\n",
    "logins_df = counts_in_window(engagement_df).rename_axis('user_id').reset_index()\n",
    "logins_df[11:15]"
   ]
  },
  {
   "cell_type": "code",
   "execution_count": 49,
   "metadata": {},
   "outputs": [],
   "source": [
    "# convert data types for ML algo needs\n",
    "users_df['invitee_id'] = users_df['invitee_id'].astype(np.int64)\n",
    "logins_df['adopted_user'] = logins_df['adopted_user'].astype(np.int64)\n",
    "logins_df['loser_class'] = logins_df['loser_class'].astype(np.int64)"
   ]
  },
  {
   "cell_type": "code",
   "execution_count": 50,
   "metadata": {},
   "outputs": [
    {
     "data": {
      "text/plain": [
       "8823"
      ]
     },
     "execution_count": 50,
     "metadata": {},
     "output_type": "execute_result"
    }
   ],
   "source": [
    "# get number of users in this dataset\n",
    "logins_df.shape[0]"
   ]
  },
  {
   "cell_type": "markdown",
   "metadata": {},
   "source": [
    "This one looks good, as well.<br>\n",
    "I'll put it all together, now."
   ]
  },
  {
   "cell_type": "code",
   "execution_count": null,
   "metadata": {},
   "outputs": [],
   "source": []
  },
  {
   "cell_type": "markdown",
   "metadata": {},
   "source": [
    " > **COMBINED DATA**"
   ]
  },
  {
   "cell_type": "code",
   "execution_count": 51,
   "metadata": {},
   "outputs": [
    {
     "data": {
      "text/html": [
       "<div>\n",
       "<style scoped>\n",
       "    .dataframe tbody tr th:only-of-type {\n",
       "        vertical-align: middle;\n",
       "    }\n",
       "\n",
       "    .dataframe tbody tr th {\n",
       "        vertical-align: top;\n",
       "    }\n",
       "\n",
       "    .dataframe thead th {\n",
       "        text-align: right;\n",
       "    }\n",
       "</style>\n",
       "<table border=\"1\" class=\"dataframe\">\n",
       "  <thead>\n",
       "    <tr style=\"text-align: right;\">\n",
       "      <th></th>\n",
       "      <th>user_id</th>\n",
       "      <th>creation_time</th>\n",
       "      <th>name</th>\n",
       "      <th>email</th>\n",
       "      <th>creation_source</th>\n",
       "      <th>last_session</th>\n",
       "      <th>mailing_list</th>\n",
       "      <th>marketing_drip</th>\n",
       "      <th>org_id</th>\n",
       "      <th>invitee_id</th>\n",
       "      <th>invited</th>\n",
       "      <th>org_member</th>\n",
       "      <th>adopted_user</th>\n",
       "      <th>loser_class</th>\n",
       "      <th>total_logins</th>\n",
       "      <th>window_count</th>\n",
       "    </tr>\n",
       "  </thead>\n",
       "  <tbody>\n",
       "    <tr>\n",
       "      <th>0</th>\n",
       "      <td>1</td>\n",
       "      <td>2014-04-22 03:53:30</td>\n",
       "      <td>Clausen August</td>\n",
       "      <td>yahoo</td>\n",
       "      <td>GUEST_INVITE</td>\n",
       "      <td>2014-04-22 03:53:30</td>\n",
       "      <td>1</td>\n",
       "      <td>0</td>\n",
       "      <td>11</td>\n",
       "      <td>10803</td>\n",
       "      <td>1</td>\n",
       "      <td>1</td>\n",
       "      <td>0</td>\n",
       "      <td>1</td>\n",
       "      <td>1</td>\n",
       "      <td>[1]</td>\n",
       "    </tr>\n",
       "    <tr>\n",
       "      <th>1</th>\n",
       "      <td>2</td>\n",
       "      <td>2013-11-15 03:45:04</td>\n",
       "      <td>Poole Matthew</td>\n",
       "      <td>gustr</td>\n",
       "      <td>ORG_INVITE</td>\n",
       "      <td>2014-03-31 03:45:04</td>\n",
       "      <td>0</td>\n",
       "      <td>0</td>\n",
       "      <td>1</td>\n",
       "      <td>316</td>\n",
       "      <td>1</td>\n",
       "      <td>1</td>\n",
       "      <td>1</td>\n",
       "      <td>0</td>\n",
       "      <td>22</td>\n",
       "      <td>[1, 1, 1, 1, 2, 1, 1, 2, 3, 3, 2, 1, 2, 1]</td>\n",
       "    </tr>\n",
       "    <tr>\n",
       "      <th>2</th>\n",
       "      <td>3</td>\n",
       "      <td>2013-03-19 23:14:52</td>\n",
       "      <td>Bottrill Mitchell</td>\n",
       "      <td>gustr</td>\n",
       "      <td>ORG_INVITE</td>\n",
       "      <td>2013-03-19 23:14:52</td>\n",
       "      <td>0</td>\n",
       "      <td>0</td>\n",
       "      <td>94</td>\n",
       "      <td>1525</td>\n",
       "      <td>1</td>\n",
       "      <td>1</td>\n",
       "      <td>0</td>\n",
       "      <td>1</td>\n",
       "      <td>1</td>\n",
       "      <td>[1]</td>\n",
       "    </tr>\n",
       "    <tr>\n",
       "      <th>3</th>\n",
       "      <td>4</td>\n",
       "      <td>2013-05-21 08:09:28</td>\n",
       "      <td>Clausen Nicklas</td>\n",
       "      <td>yahoo</td>\n",
       "      <td>GUEST_INVITE</td>\n",
       "      <td>2013-05-22 08:09:28</td>\n",
       "      <td>0</td>\n",
       "      <td>0</td>\n",
       "      <td>1</td>\n",
       "      <td>5151</td>\n",
       "      <td>1</td>\n",
       "      <td>1</td>\n",
       "      <td>0</td>\n",
       "      <td>1</td>\n",
       "      <td>1</td>\n",
       "      <td>[1]</td>\n",
       "    </tr>\n",
       "    <tr>\n",
       "      <th>4</th>\n",
       "      <td>5</td>\n",
       "      <td>2013-01-17 10:14:20</td>\n",
       "      <td>Raw Grace</td>\n",
       "      <td>yahoo</td>\n",
       "      <td>GUEST_INVITE</td>\n",
       "      <td>2013-01-22 10:14:20</td>\n",
       "      <td>0</td>\n",
       "      <td>0</td>\n",
       "      <td>193</td>\n",
       "      <td>5240</td>\n",
       "      <td>1</td>\n",
       "      <td>1</td>\n",
       "      <td>0</td>\n",
       "      <td>1</td>\n",
       "      <td>1</td>\n",
       "      <td>[1]</td>\n",
       "    </tr>\n",
       "  </tbody>\n",
       "</table>\n",
       "</div>"
      ],
      "text/plain": [
       "   user_id       creation_time               name  email creation_source  \\\n",
       "0        1 2014-04-22 03:53:30     Clausen August  yahoo    GUEST_INVITE   \n",
       "1        2 2013-11-15 03:45:04      Poole Matthew  gustr      ORG_INVITE   \n",
       "2        3 2013-03-19 23:14:52  Bottrill Mitchell  gustr      ORG_INVITE   \n",
       "3        4 2013-05-21 08:09:28    Clausen Nicklas  yahoo    GUEST_INVITE   \n",
       "4        5 2013-01-17 10:14:20          Raw Grace  yahoo    GUEST_INVITE   \n",
       "\n",
       "         last_session  mailing_list  marketing_drip  org_id  invitee_id  \\\n",
       "0 2014-04-22 03:53:30             1               0      11       10803   \n",
       "1 2014-03-31 03:45:04             0               0       1         316   \n",
       "2 2013-03-19 23:14:52             0               0      94        1525   \n",
       "3 2013-05-22 08:09:28             0               0       1        5151   \n",
       "4 2013-01-22 10:14:20             0               0     193        5240   \n",
       "\n",
       "   invited  org_member  adopted_user  loser_class  total_logins  \\\n",
       "0        1           1             0            1             1   \n",
       "1        1           1             1            0            22   \n",
       "2        1           1             0            1             1   \n",
       "3        1           1             0            1             1   \n",
       "4        1           1             0            1             1   \n",
       "\n",
       "                                 window_count  \n",
       "0                                         [1]  \n",
       "1  [1, 1, 1, 1, 2, 1, 1, 2, 3, 3, 2, 1, 2, 1]  \n",
       "2                                         [1]  \n",
       "3                                         [1]  \n",
       "4                                         [1]  "
      ]
     },
     "execution_count": 51,
     "metadata": {},
     "output_type": "execute_result"
    }
   ],
   "source": [
    "# combine user DataFrames\n",
    "df = users_df.merge(logins_df, on='user_id')\n",
    "df.head()"
   ]
  },
  {
   "cell_type": "code",
   "execution_count": 52,
   "metadata": {},
   "outputs": [
    {
     "name": "stdout",
     "output_type": "stream",
     "text": [
      "18.2% of users have been adopted.\n"
     ]
    }
   ],
   "source": [
    "# get percent of adopted users\n",
    "adopted_percent = df['adopted_user'].value_counts()[1] / df.shape[0] * 100\n",
    "print('{}% of users have been adopted.'.format(np.round(adopted_percent, 1)))"
   ]
  },
  {
   "cell_type": "markdown",
   "metadata": {},
   "source": [
    "As the goal is to increase adopted users, there is a lot of room for improvement."
   ]
  },
  {
   "cell_type": "markdown",
   "metadata": {},
   "source": [
    "Let's predict!"
   ]
  },
  {
   "cell_type": "code",
   "execution_count": null,
   "metadata": {},
   "outputs": [],
   "source": []
  },
  {
   "cell_type": "markdown",
   "metadata": {},
   "source": [
    " > **MODELING**"
   ]
  },
  {
   "cell_type": "markdown",
   "metadata": {},
   "source": [
    "I will drop some of the features to start the modeling.<br>\n",
    "I don't expect a user's Id number or name to be strong predictors.<br>\n",
    "As for the account creation date and last login date, there may be something there, but I'll see how far I get without them."
   ]
  },
  {
   "cell_type": "code",
   "execution_count": 53,
   "metadata": {},
   "outputs": [],
   "source": [
    "# separate data into features and target\n",
    "X = df.drop(\n",
    "    ['user_id', 'creation_time', 'name', 'last_session', \n",
    "     'adopted_user', 'window_count'], axis=1)\n",
    "y = df['adopted_user']"
   ]
  },
  {
   "cell_type": "code",
   "execution_count": 54,
   "metadata": {},
   "outputs": [
    {
     "data": {
      "text/html": [
       "<div>\n",
       "<style scoped>\n",
       "    .dataframe tbody tr th:only-of-type {\n",
       "        vertical-align: middle;\n",
       "    }\n",
       "\n",
       "    .dataframe tbody tr th {\n",
       "        vertical-align: top;\n",
       "    }\n",
       "\n",
       "    .dataframe thead th {\n",
       "        text-align: right;\n",
       "    }\n",
       "</style>\n",
       "<table border=\"1\" class=\"dataframe\">\n",
       "  <thead>\n",
       "    <tr style=\"text-align: right;\">\n",
       "      <th></th>\n",
       "      <th>mailing_list</th>\n",
       "      <th>marketing_drip</th>\n",
       "      <th>org_id</th>\n",
       "      <th>invitee_id</th>\n",
       "      <th>invited</th>\n",
       "      <th>org_member</th>\n",
       "      <th>loser_class</th>\n",
       "      <th>total_logins</th>\n",
       "      <th>provider_cuvox</th>\n",
       "      <th>provider_gmail</th>\n",
       "      <th>provider_gustr</th>\n",
       "      <th>provider_hotmail</th>\n",
       "      <th>provider_jourrapide</th>\n",
       "      <th>provider_other</th>\n",
       "      <th>provider_yahoo</th>\n",
       "      <th>source_guest_invite</th>\n",
       "      <th>source_org_invite</th>\n",
       "      <th>source_personal_projects</th>\n",
       "      <th>source_signup</th>\n",
       "      <th>source_signup_google_auth</th>\n",
       "    </tr>\n",
       "  </thead>\n",
       "  <tbody>\n",
       "    <tr>\n",
       "      <th>0</th>\n",
       "      <td>1</td>\n",
       "      <td>0</td>\n",
       "      <td>11</td>\n",
       "      <td>10803</td>\n",
       "      <td>1</td>\n",
       "      <td>1</td>\n",
       "      <td>1</td>\n",
       "      <td>1</td>\n",
       "      <td>0</td>\n",
       "      <td>0</td>\n",
       "      <td>0</td>\n",
       "      <td>0</td>\n",
       "      <td>0</td>\n",
       "      <td>0</td>\n",
       "      <td>1</td>\n",
       "      <td>1</td>\n",
       "      <td>0</td>\n",
       "      <td>0</td>\n",
       "      <td>0</td>\n",
       "      <td>0</td>\n",
       "    </tr>\n",
       "    <tr>\n",
       "      <th>1</th>\n",
       "      <td>0</td>\n",
       "      <td>0</td>\n",
       "      <td>1</td>\n",
       "      <td>316</td>\n",
       "      <td>1</td>\n",
       "      <td>1</td>\n",
       "      <td>0</td>\n",
       "      <td>22</td>\n",
       "      <td>0</td>\n",
       "      <td>0</td>\n",
       "      <td>1</td>\n",
       "      <td>0</td>\n",
       "      <td>0</td>\n",
       "      <td>0</td>\n",
       "      <td>0</td>\n",
       "      <td>0</td>\n",
       "      <td>1</td>\n",
       "      <td>0</td>\n",
       "      <td>0</td>\n",
       "      <td>0</td>\n",
       "    </tr>\n",
       "    <tr>\n",
       "      <th>2</th>\n",
       "      <td>0</td>\n",
       "      <td>0</td>\n",
       "      <td>94</td>\n",
       "      <td>1525</td>\n",
       "      <td>1</td>\n",
       "      <td>1</td>\n",
       "      <td>1</td>\n",
       "      <td>1</td>\n",
       "      <td>0</td>\n",
       "      <td>0</td>\n",
       "      <td>1</td>\n",
       "      <td>0</td>\n",
       "      <td>0</td>\n",
       "      <td>0</td>\n",
       "      <td>0</td>\n",
       "      <td>0</td>\n",
       "      <td>1</td>\n",
       "      <td>0</td>\n",
       "      <td>0</td>\n",
       "      <td>0</td>\n",
       "    </tr>\n",
       "    <tr>\n",
       "      <th>3</th>\n",
       "      <td>0</td>\n",
       "      <td>0</td>\n",
       "      <td>1</td>\n",
       "      <td>5151</td>\n",
       "      <td>1</td>\n",
       "      <td>1</td>\n",
       "      <td>1</td>\n",
       "      <td>1</td>\n",
       "      <td>0</td>\n",
       "      <td>0</td>\n",
       "      <td>0</td>\n",
       "      <td>0</td>\n",
       "      <td>0</td>\n",
       "      <td>0</td>\n",
       "      <td>1</td>\n",
       "      <td>1</td>\n",
       "      <td>0</td>\n",
       "      <td>0</td>\n",
       "      <td>0</td>\n",
       "      <td>0</td>\n",
       "    </tr>\n",
       "    <tr>\n",
       "      <th>4</th>\n",
       "      <td>0</td>\n",
       "      <td>0</td>\n",
       "      <td>193</td>\n",
       "      <td>5240</td>\n",
       "      <td>1</td>\n",
       "      <td>1</td>\n",
       "      <td>1</td>\n",
       "      <td>1</td>\n",
       "      <td>0</td>\n",
       "      <td>0</td>\n",
       "      <td>0</td>\n",
       "      <td>0</td>\n",
       "      <td>0</td>\n",
       "      <td>0</td>\n",
       "      <td>1</td>\n",
       "      <td>1</td>\n",
       "      <td>0</td>\n",
       "      <td>0</td>\n",
       "      <td>0</td>\n",
       "      <td>0</td>\n",
       "    </tr>\n",
       "  </tbody>\n",
       "</table>\n",
       "</div>"
      ],
      "text/plain": [
       "   mailing_list  marketing_drip  org_id  invitee_id  invited  org_member  \\\n",
       "0             1               0      11       10803        1           1   \n",
       "1             0               0       1         316        1           1   \n",
       "2             0               0      94        1525        1           1   \n",
       "3             0               0       1        5151        1           1   \n",
       "4             0               0     193        5240        1           1   \n",
       "\n",
       "   loser_class  total_logins  provider_cuvox  provider_gmail  provider_gustr  \\\n",
       "0            1             1               0               0               0   \n",
       "1            0            22               0               0               1   \n",
       "2            1             1               0               0               1   \n",
       "3            1             1               0               0               0   \n",
       "4            1             1               0               0               0   \n",
       "\n",
       "   provider_hotmail  provider_jourrapide  provider_other  provider_yahoo  \\\n",
       "0                 0                    0               0               1   \n",
       "1                 0                    0               0               0   \n",
       "2                 0                    0               0               0   \n",
       "3                 0                    0               0               1   \n",
       "4                 0                    0               0               1   \n",
       "\n",
       "   source_guest_invite  source_org_invite  source_personal_projects  \\\n",
       "0                    1                  0                         0   \n",
       "1                    0                  1                         0   \n",
       "2                    0                  1                         0   \n",
       "3                    1                  0                         0   \n",
       "4                    1                  0                         0   \n",
       "\n",
       "   source_signup  source_signup_google_auth  \n",
       "0              0                          0  \n",
       "1              0                          0  \n",
       "2              0                          0  \n",
       "3              0                          0  \n",
       "4              0                          0  "
      ]
     },
     "execution_count": 54,
     "metadata": {},
     "output_type": "execute_result"
    }
   ],
   "source": [
    "# encode categorical variables\n",
    "X = pd.get_dummies(\n",
    "    X, prefix={'creation_source': 'source', 'email': 'provider'}).rename(str.lower, axis=1)\n",
    "X.head()"
   ]
  },
  {
   "cell_type": "code",
   "execution_count": 55,
   "metadata": {},
   "outputs": [],
   "source": [
    "def get_base_model(features, target):\n",
    "    \"\"\"Return base random forest classification model\"\"\"\n",
    "    X_train, X_test, y_train, y_test = train_test_split(\n",
    "        features, target, test_size=0.2, random_state=27)\n",
    "    model = RandomForestClassifier(random_state=27, n_jobs=-1)\n",
    "    model.fit(X_train, y_train)\n",
    "    \n",
    "    return model"
   ]
  },
  {
   "cell_type": "code",
   "execution_count": 56,
   "metadata": {},
   "outputs": [],
   "source": [
    "def get_params(model):\n",
    "    \"\"\"Return hyperparameters of interest from classifier\"\"\"\n",
    "    series = pd.Series(\n",
    "        model.get_params(), name='model_params').drop([\n",
    "        'bootstrap', 'ccp_alpha', 'class_weight', 'min_impurity_decrease', \n",
    "        'min_impurity_split', 'min_weight_fraction_leaf', 'n_jobs', \n",
    "        'oob_score', 'random_state', 'verbose', 'warm_start'])\n",
    "    \n",
    "    return series"
   ]
  },
  {
   "cell_type": "code",
   "execution_count": 57,
   "metadata": {},
   "outputs": [],
   "source": [
    "# split dataset\n",
    "X_train, X_test, y_train, y_test = train_test_split(\n",
    "    X, y, test_size=0.2, random_state=27)"
   ]
  },
  {
   "cell_type": "code",
   "execution_count": 58,
   "metadata": {},
   "outputs": [
    {
     "data": {
      "text/plain": [
       "criterion            gini\n",
       "max_depth            None\n",
       "max_features         auto\n",
       "max_leaf_nodes       None\n",
       "max_samples          None\n",
       "min_samples_leaf        1\n",
       "min_samples_split       2\n",
       "n_estimators          100\n",
       "Name: model_params, dtype: object"
      ]
     },
     "execution_count": 58,
     "metadata": {},
     "output_type": "execute_result"
    }
   ],
   "source": [
    "# instantiate base model and get parameters\n",
    "base_model = get_base_model(X, y)\n",
    "get_params(base_model)"
   ]
  },
  {
   "cell_type": "code",
   "execution_count": 59,
   "metadata": {},
   "outputs": [],
   "source": [
    "def get_reports(features, target, model):\n",
    "    \"\"\"Return classification reports, confusion matrices, f1 scores, and PR curves\"\"\"\n",
    "    X_train, X_test, y_train, y_test = train_test_split(\n",
    "        features, target, test_size=0.2, random_state=27)    \n",
    "    # get classification reports\n",
    "    cr_train_df = pd.DataFrame(\n",
    "        classification_report(\n",
    "            y_train, model.predict(X_train), digits=3, output_dict=True)).transpose()\n",
    "    cr_test_df = pd.DataFrame(\n",
    "        classification_report(\n",
    "            y_test, model.predict(X_test), digits=3, output_dict=True)).transpose()\n",
    "    # get confusion matrices\n",
    "    cm_train_df = pd.DataFrame(\n",
    "        confusion_matrix(y_train, model.predict(X_train)))\n",
    "    cm_test_df = pd.DataFrame(\n",
    "        confusion_matrix(y_test, model.predict(X_test)))\n",
    "    # prep data for HTML display\n",
    "    df1_styler = cr_train_df.style.set_table_attributes(\n",
    "        \"style='display:inline'\").set_caption(\n",
    "        'Training Classification Report')\n",
    "    df2_styler = cr_test_df.style.set_table_attributes(\n",
    "        \"style='display:inline'\").set_caption(\n",
    "        'Test Classification Report')\n",
    "    df3_styler = cm_train_df.style.set_table_attributes(\n",
    "        \"style='display:inline'\").set_caption(\n",
    "        'Training Confusion Matrix')\n",
    "    df4_styler = cm_test_df.style.set_table_attributes(\n",
    "        \"style='display:inline'\").set_caption(\n",
    "        'Test Confusion Matrix')\n",
    "    # display reports and matrices\n",
    "    display_html(\n",
    "        df1_styler._repr_html_() \n",
    "        + df2_styler._repr_html_() \n",
    "        + df3_styler._repr_html_() \n",
    "        + df4_styler._repr_html_(), raw=True) \n",
    "    # get values from confusion matrices\n",
    "    tp_train = cm_train_df.loc[0, 0]\n",
    "    fn_train = cm_train_df.loc[0, 1]\n",
    "    fp_train = cm_train_df.loc[1, 0]\n",
    "    tn_train = cm_train_df.loc[1, 1]\n",
    "    tp_test = cm_test_df.loc[0, 0]\n",
    "    fn_test = cm_test_df.loc[0, 1]\n",
    "    fp_test = cm_test_df.loc[1, 0]\n",
    "    tn_test = cm_test_df.loc[1, 1] \n",
    "    # get f1 scores\n",
    "    f1_train = 2 * tp_train / (2 * tp_train + fp_train + fn_train)\n",
    "    f1_test = 2 * tp_test / (2 * tp_test + fp_test + fn_test)     \n",
    "    # get PR curve data\n",
    "    precision_train, recall_train = precision_recall_curve(\n",
    "        y_train, model.predict(X_train))[:2]\n",
    "    precision_test, recall_test = precision_recall_curve(\n",
    "        y_test, model.predict(X_test))[:2]\n",
    "    # plot precision recall curves\n",
    "    sns.lineplot(recall_train, precision_train, color=mp.colors(4), label='Training Model')\n",
    "    sns.lineplot(recall_test, precision_test, color=mp.colors(5), label='Test Model')\n",
    "\n",
    "    plt.xlabel('Recall')\n",
    "    plt.ylabel('Precision')\n",
    "\n",
    "    plt.legend(loc=3)\n",
    "    plt.title('Precision Recall Curves');\n",
    "    \n",
    "    return f'Training f1 Score: {f1_train:.4f}    Test f1 Score: {f1_test:.4f}'    "
   ]
  },
  {
   "cell_type": "code",
   "execution_count": 60,
   "metadata": {},
   "outputs": [
    {
     "data": {
      "text/html": [
       "<style  type=\"text/css\" >\n",
       "</style><table id=\"T_23a966d2_e1e0_11ea_89ca_89f27664e01d\" style='display:inline'><caption>Training Classification Report</caption><thead>    <tr>        <th class=\"blank level0\" ></th>        <th class=\"col_heading level0 col0\" >precision</th>        <th class=\"col_heading level0 col1\" >recall</th>        <th class=\"col_heading level0 col2\" >f1-score</th>        <th class=\"col_heading level0 col3\" >support</th>    </tr></thead><tbody>\n",
       "                <tr>\n",
       "                        <th id=\"T_23a966d2_e1e0_11ea_89ca_89f27664e01dlevel0_row0\" class=\"row_heading level0 row0\" >0</th>\n",
       "                        <td id=\"T_23a966d2_e1e0_11ea_89ca_89f27664e01drow0_col0\" class=\"data row0 col0\" >0.999783</td>\n",
       "                        <td id=\"T_23a966d2_e1e0_11ea_89ca_89f27664e01drow0_col1\" class=\"data row0 col1\" >1.000000</td>\n",
       "                        <td id=\"T_23a966d2_e1e0_11ea_89ca_89f27664e01drow0_col2\" class=\"data row0 col2\" >0.999891</td>\n",
       "                        <td id=\"T_23a966d2_e1e0_11ea_89ca_89f27664e01drow0_col3\" class=\"data row0 col3\" >4601.000000</td>\n",
       "            </tr>\n",
       "            <tr>\n",
       "                        <th id=\"T_23a966d2_e1e0_11ea_89ca_89f27664e01dlevel0_row1\" class=\"row_heading level0 row1\" >1</th>\n",
       "                        <td id=\"T_23a966d2_e1e0_11ea_89ca_89f27664e01drow1_col0\" class=\"data row1 col0\" >1.000000</td>\n",
       "                        <td id=\"T_23a966d2_e1e0_11ea_89ca_89f27664e01drow1_col1\" class=\"data row1 col1\" >0.999043</td>\n",
       "                        <td id=\"T_23a966d2_e1e0_11ea_89ca_89f27664e01drow1_col2\" class=\"data row1 col2\" >0.999521</td>\n",
       "                        <td id=\"T_23a966d2_e1e0_11ea_89ca_89f27664e01drow1_col3\" class=\"data row1 col3\" >1045.000000</td>\n",
       "            </tr>\n",
       "            <tr>\n",
       "                        <th id=\"T_23a966d2_e1e0_11ea_89ca_89f27664e01dlevel0_row2\" class=\"row_heading level0 row2\" >accuracy</th>\n",
       "                        <td id=\"T_23a966d2_e1e0_11ea_89ca_89f27664e01drow2_col0\" class=\"data row2 col0\" >0.999823</td>\n",
       "                        <td id=\"T_23a966d2_e1e0_11ea_89ca_89f27664e01drow2_col1\" class=\"data row2 col1\" >0.999823</td>\n",
       "                        <td id=\"T_23a966d2_e1e0_11ea_89ca_89f27664e01drow2_col2\" class=\"data row2 col2\" >0.999823</td>\n",
       "                        <td id=\"T_23a966d2_e1e0_11ea_89ca_89f27664e01drow2_col3\" class=\"data row2 col3\" >0.999823</td>\n",
       "            </tr>\n",
       "            <tr>\n",
       "                        <th id=\"T_23a966d2_e1e0_11ea_89ca_89f27664e01dlevel0_row3\" class=\"row_heading level0 row3\" >macro avg</th>\n",
       "                        <td id=\"T_23a966d2_e1e0_11ea_89ca_89f27664e01drow3_col0\" class=\"data row3 col0\" >0.999891</td>\n",
       "                        <td id=\"T_23a966d2_e1e0_11ea_89ca_89f27664e01drow3_col1\" class=\"data row3 col1\" >0.999522</td>\n",
       "                        <td id=\"T_23a966d2_e1e0_11ea_89ca_89f27664e01drow3_col2\" class=\"data row3 col2\" >0.999706</td>\n",
       "                        <td id=\"T_23a966d2_e1e0_11ea_89ca_89f27664e01drow3_col3\" class=\"data row3 col3\" >5646.000000</td>\n",
       "            </tr>\n",
       "            <tr>\n",
       "                        <th id=\"T_23a966d2_e1e0_11ea_89ca_89f27664e01dlevel0_row4\" class=\"row_heading level0 row4\" >weighted avg</th>\n",
       "                        <td id=\"T_23a966d2_e1e0_11ea_89ca_89f27664e01drow4_col0\" class=\"data row4 col0\" >0.999823</td>\n",
       "                        <td id=\"T_23a966d2_e1e0_11ea_89ca_89f27664e01drow4_col1\" class=\"data row4 col1\" >0.999823</td>\n",
       "                        <td id=\"T_23a966d2_e1e0_11ea_89ca_89f27664e01drow4_col2\" class=\"data row4 col2\" >0.999823</td>\n",
       "                        <td id=\"T_23a966d2_e1e0_11ea_89ca_89f27664e01drow4_col3\" class=\"data row4 col3\" >5646.000000</td>\n",
       "            </tr>\n",
       "    </tbody></table><style  type=\"text/css\" >\n",
       "</style><table id=\"T_23a9c4e2_e1e0_11ea_89ca_89f27664e01d\" style='display:inline'><caption>Test Classification Report</caption><thead>    <tr>        <th class=\"blank level0\" ></th>        <th class=\"col_heading level0 col0\" >precision</th>        <th class=\"col_heading level0 col1\" >recall</th>        <th class=\"col_heading level0 col2\" >f1-score</th>        <th class=\"col_heading level0 col3\" >support</th>    </tr></thead><tbody>\n",
       "                <tr>\n",
       "                        <th id=\"T_23a9c4e2_e1e0_11ea_89ca_89f27664e01dlevel0_row0\" class=\"row_heading level0 row0\" >0</th>\n",
       "                        <td id=\"T_23a9c4e2_e1e0_11ea_89ca_89f27664e01drow0_col0\" class=\"data row0 col0\" >1.000000</td>\n",
       "                        <td id=\"T_23a9c4e2_e1e0_11ea_89ca_89f27664e01drow0_col1\" class=\"data row0 col1\" >1.000000</td>\n",
       "                        <td id=\"T_23a9c4e2_e1e0_11ea_89ca_89f27664e01drow0_col2\" class=\"data row0 col2\" >1.000000</td>\n",
       "                        <td id=\"T_23a9c4e2_e1e0_11ea_89ca_89f27664e01drow0_col3\" class=\"data row0 col3\" >1165.000000</td>\n",
       "            </tr>\n",
       "            <tr>\n",
       "                        <th id=\"T_23a9c4e2_e1e0_11ea_89ca_89f27664e01dlevel0_row1\" class=\"row_heading level0 row1\" >1</th>\n",
       "                        <td id=\"T_23a9c4e2_e1e0_11ea_89ca_89f27664e01drow1_col0\" class=\"data row1 col0\" >1.000000</td>\n",
       "                        <td id=\"T_23a9c4e2_e1e0_11ea_89ca_89f27664e01drow1_col1\" class=\"data row1 col1\" >1.000000</td>\n",
       "                        <td id=\"T_23a9c4e2_e1e0_11ea_89ca_89f27664e01drow1_col2\" class=\"data row1 col2\" >1.000000</td>\n",
       "                        <td id=\"T_23a9c4e2_e1e0_11ea_89ca_89f27664e01drow1_col3\" class=\"data row1 col3\" >247.000000</td>\n",
       "            </tr>\n",
       "            <tr>\n",
       "                        <th id=\"T_23a9c4e2_e1e0_11ea_89ca_89f27664e01dlevel0_row2\" class=\"row_heading level0 row2\" >accuracy</th>\n",
       "                        <td id=\"T_23a9c4e2_e1e0_11ea_89ca_89f27664e01drow2_col0\" class=\"data row2 col0\" >1.000000</td>\n",
       "                        <td id=\"T_23a9c4e2_e1e0_11ea_89ca_89f27664e01drow2_col1\" class=\"data row2 col1\" >1.000000</td>\n",
       "                        <td id=\"T_23a9c4e2_e1e0_11ea_89ca_89f27664e01drow2_col2\" class=\"data row2 col2\" >1.000000</td>\n",
       "                        <td id=\"T_23a9c4e2_e1e0_11ea_89ca_89f27664e01drow2_col3\" class=\"data row2 col3\" >1.000000</td>\n",
       "            </tr>\n",
       "            <tr>\n",
       "                        <th id=\"T_23a9c4e2_e1e0_11ea_89ca_89f27664e01dlevel0_row3\" class=\"row_heading level0 row3\" >macro avg</th>\n",
       "                        <td id=\"T_23a9c4e2_e1e0_11ea_89ca_89f27664e01drow3_col0\" class=\"data row3 col0\" >1.000000</td>\n",
       "                        <td id=\"T_23a9c4e2_e1e0_11ea_89ca_89f27664e01drow3_col1\" class=\"data row3 col1\" >1.000000</td>\n",
       "                        <td id=\"T_23a9c4e2_e1e0_11ea_89ca_89f27664e01drow3_col2\" class=\"data row3 col2\" >1.000000</td>\n",
       "                        <td id=\"T_23a9c4e2_e1e0_11ea_89ca_89f27664e01drow3_col3\" class=\"data row3 col3\" >1412.000000</td>\n",
       "            </tr>\n",
       "            <tr>\n",
       "                        <th id=\"T_23a9c4e2_e1e0_11ea_89ca_89f27664e01dlevel0_row4\" class=\"row_heading level0 row4\" >weighted avg</th>\n",
       "                        <td id=\"T_23a9c4e2_e1e0_11ea_89ca_89f27664e01drow4_col0\" class=\"data row4 col0\" >1.000000</td>\n",
       "                        <td id=\"T_23a9c4e2_e1e0_11ea_89ca_89f27664e01drow4_col1\" class=\"data row4 col1\" >1.000000</td>\n",
       "                        <td id=\"T_23a9c4e2_e1e0_11ea_89ca_89f27664e01drow4_col2\" class=\"data row4 col2\" >1.000000</td>\n",
       "                        <td id=\"T_23a9c4e2_e1e0_11ea_89ca_89f27664e01drow4_col3\" class=\"data row4 col3\" >1412.000000</td>\n",
       "            </tr>\n",
       "    </tbody></table><style  type=\"text/css\" >\n",
       "</style><table id=\"T_23a9f46c_e1e0_11ea_89ca_89f27664e01d\" style='display:inline'><caption>Training Confusion Matrix</caption><thead>    <tr>        <th class=\"blank level0\" ></th>        <th class=\"col_heading level0 col0\" >0</th>        <th class=\"col_heading level0 col1\" >1</th>    </tr></thead><tbody>\n",
       "                <tr>\n",
       "                        <th id=\"T_23a9f46c_e1e0_11ea_89ca_89f27664e01dlevel0_row0\" class=\"row_heading level0 row0\" >0</th>\n",
       "                        <td id=\"T_23a9f46c_e1e0_11ea_89ca_89f27664e01drow0_col0\" class=\"data row0 col0\" >4601</td>\n",
       "                        <td id=\"T_23a9f46c_e1e0_11ea_89ca_89f27664e01drow0_col1\" class=\"data row0 col1\" >0</td>\n",
       "            </tr>\n",
       "            <tr>\n",
       "                        <th id=\"T_23a9f46c_e1e0_11ea_89ca_89f27664e01dlevel0_row1\" class=\"row_heading level0 row1\" >1</th>\n",
       "                        <td id=\"T_23a9f46c_e1e0_11ea_89ca_89f27664e01drow1_col0\" class=\"data row1 col0\" >1</td>\n",
       "                        <td id=\"T_23a9f46c_e1e0_11ea_89ca_89f27664e01drow1_col1\" class=\"data row1 col1\" >1044</td>\n",
       "            </tr>\n",
       "    </tbody></table><style  type=\"text/css\" >\n",
       "</style><table id=\"T_23aa0498_e1e0_11ea_89ca_89f27664e01d\" style='display:inline'><caption>Test Confusion Matrix</caption><thead>    <tr>        <th class=\"blank level0\" ></th>        <th class=\"col_heading level0 col0\" >0</th>        <th class=\"col_heading level0 col1\" >1</th>    </tr></thead><tbody>\n",
       "                <tr>\n",
       "                        <th id=\"T_23aa0498_e1e0_11ea_89ca_89f27664e01dlevel0_row0\" class=\"row_heading level0 row0\" >0</th>\n",
       "                        <td id=\"T_23aa0498_e1e0_11ea_89ca_89f27664e01drow0_col0\" class=\"data row0 col0\" >1165</td>\n",
       "                        <td id=\"T_23aa0498_e1e0_11ea_89ca_89f27664e01drow0_col1\" class=\"data row0 col1\" >0</td>\n",
       "            </tr>\n",
       "            <tr>\n",
       "                        <th id=\"T_23aa0498_e1e0_11ea_89ca_89f27664e01dlevel0_row1\" class=\"row_heading level0 row1\" >1</th>\n",
       "                        <td id=\"T_23aa0498_e1e0_11ea_89ca_89f27664e01drow1_col0\" class=\"data row1 col0\" >0</td>\n",
       "                        <td id=\"T_23aa0498_e1e0_11ea_89ca_89f27664e01drow1_col1\" class=\"data row1 col1\" >247</td>\n",
       "            </tr>\n",
       "    </tbody></table>"
      ]
     },
     "metadata": {},
     "output_type": "display_data"
    },
    {
     "data": {
      "text/plain": [
       "'Training f1 Score: 0.9999    Test f1 Score: 1.0000'"
      ]
     },
     "execution_count": 60,
     "metadata": {},
     "output_type": "execute_result"
    },
    {
     "data": {
      "image/png": "[encoded data removed]",
      "text/plain": [
       "<Figure size 864x288 with 1 Axes>"
      ]
     },
     "metadata": {},
     "output_type": "display_data"
    }
   ],
   "source": [
    "# observe classification metrics\n",
    "get_reports(X_train, y_train, base_model)"
   ]
  },
  {
   "cell_type": "code",
   "execution_count": 61,
   "metadata": {},
   "outputs": [],
   "source": [
    "def plot_feature_importance(features, model):\n",
    "    \"\"\"Plots the predictors by importance to model\"\"\"\n",
    "    # create DataFrame of importances\n",
    "    importance_df = pd.DataFrame(\n",
    "        [model.feature_importances_], \n",
    "        index=['importance'], \n",
    "        columns=features.columns).transpose().sort_values('importance', ascending=False)\n",
    "    # set grid\n",
    "    fig, axes = plt.subplots(nrows=1, figsize=(12, 8))\n",
    "    # set y range\n",
    "    y_range = list(range(importance_df.shape[0]))\n",
    "    \n",
    "    plt.subplot(1, 1, 1)\n",
    "    sns.barplot(importance_df['importance'], y_range, \n",
    "                orient='h', color=mp.colors(1))\n",
    "    \n",
    "    plt.yticks(y_range, importance_df.index.to_list())\n",
    "    plt.xlabel('Feature Importance', fontsize=15);\n",
    "    plt.ylabel('Feature', fontsize=15)\n",
    "    \n",
    "    plt.title('Feature Importance for Predictions', fontsize=15);\n",
    "    \n",
    "    return importance_df"
   ]
  },
  {
   "cell_type": "code",
   "execution_count": 62,
   "metadata": {},
   "outputs": [
    {
     "data": {
      "text/html": [
       "<div>\n",
       "<style scoped>\n",
       "    .dataframe tbody tr th:only-of-type {\n",
       "        vertical-align: middle;\n",
       "    }\n",
       "\n",
       "    .dataframe tbody tr th {\n",
       "        vertical-align: top;\n",
       "    }\n",
       "\n",
       "    .dataframe thead th {\n",
       "        text-align: right;\n",
       "    }\n",
       "</style>\n",
       "<table border=\"1\" class=\"dataframe\">\n",
       "  <thead>\n",
       "    <tr style=\"text-align: right;\">\n",
       "      <th></th>\n",
       "      <th>importance</th>\n",
       "    </tr>\n",
       "  </thead>\n",
       "  <tbody>\n",
       "    <tr>\n",
       "      <th>total_logins</th>\n",
       "      <td>0.660596</td>\n",
       "    </tr>\n",
       "    <tr>\n",
       "      <th>loser_class</th>\n",
       "      <td>0.255706</td>\n",
       "    </tr>\n",
       "    <tr>\n",
       "      <th>org_id</th>\n",
       "      <td>0.037187</td>\n",
       "    </tr>\n",
       "    <tr>\n",
       "      <th>invitee_id</th>\n",
       "      <td>0.019019</td>\n",
       "    </tr>\n",
       "    <tr>\n",
       "      <th>mailing_list</th>\n",
       "      <td>0.003531</td>\n",
       "    </tr>\n",
       "    <tr>\n",
       "      <th>marketing_drip</th>\n",
       "      <td>0.002791</td>\n",
       "    </tr>\n",
       "    <tr>\n",
       "      <th>provider_hotmail</th>\n",
       "      <td>0.002362</td>\n",
       "    </tr>\n",
       "    <tr>\n",
       "      <th>provider_gmail</th>\n",
       "      <td>0.002349</td>\n",
       "    </tr>\n",
       "    <tr>\n",
       "      <th>source_guest_invite</th>\n",
       "      <td>0.001966</td>\n",
       "    </tr>\n",
       "    <tr>\n",
       "      <th>provider_yahoo</th>\n",
       "      <td>0.001882</td>\n",
       "    </tr>\n",
       "    <tr>\n",
       "      <th>provider_jourrapide</th>\n",
       "      <td>0.001724</td>\n",
       "    </tr>\n",
       "    <tr>\n",
       "      <th>source_org_invite</th>\n",
       "      <td>0.001449</td>\n",
       "    </tr>\n",
       "    <tr>\n",
       "      <th>provider_other</th>\n",
       "      <td>0.001387</td>\n",
       "    </tr>\n",
       "    <tr>\n",
       "      <th>provider_gustr</th>\n",
       "      <td>0.001385</td>\n",
       "    </tr>\n",
       "    <tr>\n",
       "      <th>provider_cuvox</th>\n",
       "      <td>0.001305</td>\n",
       "    </tr>\n",
       "    <tr>\n",
       "      <th>source_signup</th>\n",
       "      <td>0.001219</td>\n",
       "    </tr>\n",
       "    <tr>\n",
       "      <th>source_personal_projects</th>\n",
       "      <td>0.001205</td>\n",
       "    </tr>\n",
       "    <tr>\n",
       "      <th>org_member</th>\n",
       "      <td>0.001179</td>\n",
       "    </tr>\n",
       "    <tr>\n",
       "      <th>invited</th>\n",
       "      <td>0.001009</td>\n",
       "    </tr>\n",
       "    <tr>\n",
       "      <th>source_signup_google_auth</th>\n",
       "      <td>0.000750</td>\n",
       "    </tr>\n",
       "  </tbody>\n",
       "</table>\n",
       "</div>"
      ],
      "text/plain": [
       "                           importance\n",
       "total_logins                 0.660596\n",
       "loser_class                  0.255706\n",
       "org_id                       0.037187\n",
       "invitee_id                   0.019019\n",
       "mailing_list                 0.003531\n",
       "marketing_drip               0.002791\n",
       "provider_hotmail             0.002362\n",
       "provider_gmail               0.002349\n",
       "source_guest_invite          0.001966\n",
       "provider_yahoo               0.001882\n",
       "provider_jourrapide          0.001724\n",
       "source_org_invite            0.001449\n",
       "provider_other               0.001387\n",
       "provider_gustr               0.001385\n",
       "provider_cuvox               0.001305\n",
       "source_signup                0.001219\n",
       "source_personal_projects     0.001205\n",
       "org_member                   0.001179\n",
       "invited                      0.001009\n",
       "source_signup_google_auth    0.000750"
      ]
     },
     "execution_count": 62,
     "metadata": {},
     "output_type": "execute_result"
    },
    {
     "data": {
      "image/png": "[encoded data removed]",
      "text/plain": [
       "<Figure size 864x576 with 1 Axes>"
      ]
     },
     "metadata": {},
     "output_type": "display_data"
    }
   ],
   "source": [
    "# list feature importances and plot\n",
    "plot_feature_importance(X_train, base_model)"
   ]
  },
  {
   "cell_type": "markdown",
   "metadata": {},
   "source": [
    "The model performs too well.<br>\n",
    "Saying users are more likely to be adopted if they log in more is almost trivial.<br>\n",
    "It's difficult to observe what other factors may be in play.<br>\n",
    "I will remove the dominant feature to gain deeper insight."
   ]
  },
  {
   "cell_type": "code",
   "execution_count": 63,
   "metadata": {},
   "outputs": [],
   "source": [
    "# separate data into features and target without login count\n",
    "X_no_count = df.drop(\n",
    "    ['user_id', 'creation_time', 'name', 'last_session', \n",
    "     'adopted_user', 'total_logins', 'window_count'], axis=1)\n",
    "y_no_count = df['adopted_user']"
   ]
  },
  {
   "cell_type": "code",
   "execution_count": 64,
   "metadata": {},
   "outputs": [
    {
     "data": {
      "text/html": [
       "<div>\n",
       "<style scoped>\n",
       "    .dataframe tbody tr th:only-of-type {\n",
       "        vertical-align: middle;\n",
       "    }\n",
       "\n",
       "    .dataframe tbody tr th {\n",
       "        vertical-align: top;\n",
       "    }\n",
       "\n",
       "    .dataframe thead th {\n",
       "        text-align: right;\n",
       "    }\n",
       "</style>\n",
       "<table border=\"1\" class=\"dataframe\">\n",
       "  <thead>\n",
       "    <tr style=\"text-align: right;\">\n",
       "      <th></th>\n",
       "      <th>mailing_list</th>\n",
       "      <th>marketing_drip</th>\n",
       "      <th>org_id</th>\n",
       "      <th>invitee_id</th>\n",
       "      <th>invited</th>\n",
       "      <th>org_member</th>\n",
       "      <th>loser_class</th>\n",
       "      <th>provider_cuvox</th>\n",
       "      <th>provider_gmail</th>\n",
       "      <th>provider_gustr</th>\n",
       "      <th>provider_hotmail</th>\n",
       "      <th>provider_jourrapide</th>\n",
       "      <th>provider_other</th>\n",
       "      <th>provider_yahoo</th>\n",
       "      <th>source_guest_invite</th>\n",
       "      <th>source_org_invite</th>\n",
       "      <th>source_personal_projects</th>\n",
       "      <th>source_signup</th>\n",
       "      <th>source_signup_google_auth</th>\n",
       "    </tr>\n",
       "  </thead>\n",
       "  <tbody>\n",
       "    <tr>\n",
       "      <th>0</th>\n",
       "      <td>1</td>\n",
       "      <td>0</td>\n",
       "      <td>11</td>\n",
       "      <td>10803</td>\n",
       "      <td>1</td>\n",
       "      <td>1</td>\n",
       "      <td>1</td>\n",
       "      <td>0</td>\n",
       "      <td>0</td>\n",
       "      <td>0</td>\n",
       "      <td>0</td>\n",
       "      <td>0</td>\n",
       "      <td>0</td>\n",
       "      <td>1</td>\n",
       "      <td>1</td>\n",
       "      <td>0</td>\n",
       "      <td>0</td>\n",
       "      <td>0</td>\n",
       "      <td>0</td>\n",
       "    </tr>\n",
       "    <tr>\n",
       "      <th>1</th>\n",
       "      <td>0</td>\n",
       "      <td>0</td>\n",
       "      <td>1</td>\n",
       "      <td>316</td>\n",
       "      <td>1</td>\n",
       "      <td>1</td>\n",
       "      <td>0</td>\n",
       "      <td>0</td>\n",
       "      <td>0</td>\n",
       "      <td>1</td>\n",
       "      <td>0</td>\n",
       "      <td>0</td>\n",
       "      <td>0</td>\n",
       "      <td>0</td>\n",
       "      <td>0</td>\n",
       "      <td>1</td>\n",
       "      <td>0</td>\n",
       "      <td>0</td>\n",
       "      <td>0</td>\n",
       "    </tr>\n",
       "    <tr>\n",
       "      <th>2</th>\n",
       "      <td>0</td>\n",
       "      <td>0</td>\n",
       "      <td>94</td>\n",
       "      <td>1525</td>\n",
       "      <td>1</td>\n",
       "      <td>1</td>\n",
       "      <td>1</td>\n",
       "      <td>0</td>\n",
       "      <td>0</td>\n",
       "      <td>1</td>\n",
       "      <td>0</td>\n",
       "      <td>0</td>\n",
       "      <td>0</td>\n",
       "      <td>0</td>\n",
       "      <td>0</td>\n",
       "      <td>1</td>\n",
       "      <td>0</td>\n",
       "      <td>0</td>\n",
       "      <td>0</td>\n",
       "    </tr>\n",
       "    <tr>\n",
       "      <th>3</th>\n",
       "      <td>0</td>\n",
       "      <td>0</td>\n",
       "      <td>1</td>\n",
       "      <td>5151</td>\n",
       "      <td>1</td>\n",
       "      <td>1</td>\n",
       "      <td>1</td>\n",
       "      <td>0</td>\n",
       "      <td>0</td>\n",
       "      <td>0</td>\n",
       "      <td>0</td>\n",
       "      <td>0</td>\n",
       "      <td>0</td>\n",
       "      <td>1</td>\n",
       "      <td>1</td>\n",
       "      <td>0</td>\n",
       "      <td>0</td>\n",
       "      <td>0</td>\n",
       "      <td>0</td>\n",
       "    </tr>\n",
       "    <tr>\n",
       "      <th>4</th>\n",
       "      <td>0</td>\n",
       "      <td>0</td>\n",
       "      <td>193</td>\n",
       "      <td>5240</td>\n",
       "      <td>1</td>\n",
       "      <td>1</td>\n",
       "      <td>1</td>\n",
       "      <td>0</td>\n",
       "      <td>0</td>\n",
       "      <td>0</td>\n",
       "      <td>0</td>\n",
       "      <td>0</td>\n",
       "      <td>0</td>\n",
       "      <td>1</td>\n",
       "      <td>1</td>\n",
       "      <td>0</td>\n",
       "      <td>0</td>\n",
       "      <td>0</td>\n",
       "      <td>0</td>\n",
       "    </tr>\n",
       "  </tbody>\n",
       "</table>\n",
       "</div>"
      ],
      "text/plain": [
       "   mailing_list  marketing_drip  org_id  invitee_id  invited  org_member  \\\n",
       "0             1               0      11       10803        1           1   \n",
       "1             0               0       1         316        1           1   \n",
       "2             0               0      94        1525        1           1   \n",
       "3             0               0       1        5151        1           1   \n",
       "4             0               0     193        5240        1           1   \n",
       "\n",
       "   loser_class  provider_cuvox  provider_gmail  provider_gustr  \\\n",
       "0            1               0               0               0   \n",
       "1            0               0               0               1   \n",
       "2            1               0               0               1   \n",
       "3            1               0               0               0   \n",
       "4            1               0               0               0   \n",
       "\n",
       "   provider_hotmail  provider_jourrapide  provider_other  provider_yahoo  \\\n",
       "0                 0                    0               0               1   \n",
       "1                 0                    0               0               0   \n",
       "2                 0                    0               0               0   \n",
       "3                 0                    0               0               1   \n",
       "4                 0                    0               0               1   \n",
       "\n",
       "   source_guest_invite  source_org_invite  source_personal_projects  \\\n",
       "0                    1                  0                         0   \n",
       "1                    0                  1                         0   \n",
       "2                    0                  1                         0   \n",
       "3                    1                  0                         0   \n",
       "4                    1                  0                         0   \n",
       "\n",
       "   source_signup  source_signup_google_auth  \n",
       "0              0                          0  \n",
       "1              0                          0  \n",
       "2              0                          0  \n",
       "3              0                          0  \n",
       "4              0                          0  "
      ]
     },
     "execution_count": 64,
     "metadata": {},
     "output_type": "execute_result"
    }
   ],
   "source": [
    "# encode categorical variables\n",
    "X_no_count = pd.get_dummies(\n",
    "    X_no_count, \n",
    "    prefix={'creation_source': 'source', 'email': 'provider'}).rename(str.lower, axis=1)\n",
    "X_no_count.head()"
   ]
  },
  {
   "cell_type": "code",
   "execution_count": 65,
   "metadata": {},
   "outputs": [],
   "source": [
    "# split dataset\n",
    "X_train_no_count, X_test_no_count, y_train_no_count, y_test_no_count = train_test_split(\n",
    "    X_no_count, y_no_count, test_size=0.2, random_state=27)"
   ]
  },
  {
   "cell_type": "code",
   "execution_count": 66,
   "metadata": {},
   "outputs": [
    {
     "data": {
      "text/plain": [
       "criterion            gini\n",
       "max_depth            None\n",
       "max_features         auto\n",
       "max_leaf_nodes       None\n",
       "max_samples          None\n",
       "min_samples_leaf        1\n",
       "min_samples_split       2\n",
       "n_estimators          100\n",
       "Name: model_params, dtype: object"
      ]
     },
     "execution_count": 66,
     "metadata": {},
     "output_type": "execute_result"
    }
   ],
   "source": [
    "# instantiate base model and get parameters\n",
    "base_model_no_count = get_base_model(X_no_count, y_no_count)\n",
    "get_params(base_model_no_count)"
   ]
  },
  {
   "cell_type": "code",
   "execution_count": 67,
   "metadata": {},
   "outputs": [
    {
     "data": {
      "text/html": [
       "<style  type=\"text/css\" >\n",
       "</style><table id=\"T_24b4a960_e1e0_11ea_89ca_89f27664e01d\" style='display:inline'><caption>Training Classification Report</caption><thead>    <tr>        <th class=\"blank level0\" ></th>        <th class=\"col_heading level0 col0\" >precision</th>        <th class=\"col_heading level0 col1\" >recall</th>        <th class=\"col_heading level0 col2\" >f1-score</th>        <th class=\"col_heading level0 col3\" >support</th>    </tr></thead><tbody>\n",
       "                <tr>\n",
       "                        <th id=\"T_24b4a960_e1e0_11ea_89ca_89f27664e01dlevel0_row0\" class=\"row_heading level0 row0\" >0</th>\n",
       "                        <td id=\"T_24b4a960_e1e0_11ea_89ca_89f27664e01drow0_col0\" class=\"data row0 col0\" >0.997172</td>\n",
       "                        <td id=\"T_24b4a960_e1e0_11ea_89ca_89f27664e01drow0_col1\" class=\"data row0 col1\" >0.996305</td>\n",
       "                        <td id=\"T_24b4a960_e1e0_11ea_89ca_89f27664e01drow0_col2\" class=\"data row0 col2\" >0.996738</td>\n",
       "                        <td id=\"T_24b4a960_e1e0_11ea_89ca_89f27664e01drow0_col3\" class=\"data row0 col3\" >4601.000000</td>\n",
       "            </tr>\n",
       "            <tr>\n",
       "                        <th id=\"T_24b4a960_e1e0_11ea_89ca_89f27664e01dlevel0_row1\" class=\"row_heading level0 row1\" >1</th>\n",
       "                        <td id=\"T_24b4a960_e1e0_11ea_89ca_89f27664e01drow1_col0\" class=\"data row1 col0\" >0.983794</td>\n",
       "                        <td id=\"T_24b4a960_e1e0_11ea_89ca_89f27664e01drow1_col1\" class=\"data row1 col1\" >0.987560</td>\n",
       "                        <td id=\"T_24b4a960_e1e0_11ea_89ca_89f27664e01drow1_col2\" class=\"data row1 col2\" >0.985673</td>\n",
       "                        <td id=\"T_24b4a960_e1e0_11ea_89ca_89f27664e01drow1_col3\" class=\"data row1 col3\" >1045.000000</td>\n",
       "            </tr>\n",
       "            <tr>\n",
       "                        <th id=\"T_24b4a960_e1e0_11ea_89ca_89f27664e01dlevel0_row2\" class=\"row_heading level0 row2\" >accuracy</th>\n",
       "                        <td id=\"T_24b4a960_e1e0_11ea_89ca_89f27664e01drow2_col0\" class=\"data row2 col0\" >0.994687</td>\n",
       "                        <td id=\"T_24b4a960_e1e0_11ea_89ca_89f27664e01drow2_col1\" class=\"data row2 col1\" >0.994687</td>\n",
       "                        <td id=\"T_24b4a960_e1e0_11ea_89ca_89f27664e01drow2_col2\" class=\"data row2 col2\" >0.994687</td>\n",
       "                        <td id=\"T_24b4a960_e1e0_11ea_89ca_89f27664e01drow2_col3\" class=\"data row2 col3\" >0.994687</td>\n",
       "            </tr>\n",
       "            <tr>\n",
       "                        <th id=\"T_24b4a960_e1e0_11ea_89ca_89f27664e01dlevel0_row3\" class=\"row_heading level0 row3\" >macro avg</th>\n",
       "                        <td id=\"T_24b4a960_e1e0_11ea_89ca_89f27664e01drow3_col0\" class=\"data row3 col0\" >0.990483</td>\n",
       "                        <td id=\"T_24b4a960_e1e0_11ea_89ca_89f27664e01drow3_col1\" class=\"data row3 col1\" >0.991932</td>\n",
       "                        <td id=\"T_24b4a960_e1e0_11ea_89ca_89f27664e01drow3_col2\" class=\"data row3 col2\" >0.991206</td>\n",
       "                        <td id=\"T_24b4a960_e1e0_11ea_89ca_89f27664e01drow3_col3\" class=\"data row3 col3\" >5646.000000</td>\n",
       "            </tr>\n",
       "            <tr>\n",
       "                        <th id=\"T_24b4a960_e1e0_11ea_89ca_89f27664e01dlevel0_row4\" class=\"row_heading level0 row4\" >weighted avg</th>\n",
       "                        <td id=\"T_24b4a960_e1e0_11ea_89ca_89f27664e01drow4_col0\" class=\"data row4 col0\" >0.994696</td>\n",
       "                        <td id=\"T_24b4a960_e1e0_11ea_89ca_89f27664e01drow4_col1\" class=\"data row4 col1\" >0.994687</td>\n",
       "                        <td id=\"T_24b4a960_e1e0_11ea_89ca_89f27664e01drow4_col2\" class=\"data row4 col2\" >0.994690</td>\n",
       "                        <td id=\"T_24b4a960_e1e0_11ea_89ca_89f27664e01drow4_col3\" class=\"data row4 col3\" >5646.000000</td>\n",
       "            </tr>\n",
       "    </tbody></table><style  type=\"text/css\" >\n",
       "</style><table id=\"T_24b4fc80_e1e0_11ea_89ca_89f27664e01d\" style='display:inline'><caption>Test Classification Report</caption><thead>    <tr>        <th class=\"blank level0\" ></th>        <th class=\"col_heading level0 col0\" >precision</th>        <th class=\"col_heading level0 col1\" >recall</th>        <th class=\"col_heading level0 col2\" >f1-score</th>        <th class=\"col_heading level0 col3\" >support</th>    </tr></thead><tbody>\n",
       "                <tr>\n",
       "                        <th id=\"T_24b4fc80_e1e0_11ea_89ca_89f27664e01dlevel0_row0\" class=\"row_heading level0 row0\" >0</th>\n",
       "                        <td id=\"T_24b4fc80_e1e0_11ea_89ca_89f27664e01drow0_col0\" class=\"data row0 col0\" >0.997418</td>\n",
       "                        <td id=\"T_24b4fc80_e1e0_11ea_89ca_89f27664e01drow0_col1\" class=\"data row0 col1\" >0.994850</td>\n",
       "                        <td id=\"T_24b4fc80_e1e0_11ea_89ca_89f27664e01drow0_col2\" class=\"data row0 col2\" >0.996132</td>\n",
       "                        <td id=\"T_24b4fc80_e1e0_11ea_89ca_89f27664e01drow0_col3\" class=\"data row0 col3\" >1165.000000</td>\n",
       "            </tr>\n",
       "            <tr>\n",
       "                        <th id=\"T_24b4fc80_e1e0_11ea_89ca_89f27664e01dlevel0_row1\" class=\"row_heading level0 row1\" >1</th>\n",
       "                        <td id=\"T_24b4fc80_e1e0_11ea_89ca_89f27664e01drow1_col0\" class=\"data row1 col0\" >0.976000</td>\n",
       "                        <td id=\"T_24b4fc80_e1e0_11ea_89ca_89f27664e01drow1_col1\" class=\"data row1 col1\" >0.987854</td>\n",
       "                        <td id=\"T_24b4fc80_e1e0_11ea_89ca_89f27664e01drow1_col2\" class=\"data row1 col2\" >0.981891</td>\n",
       "                        <td id=\"T_24b4fc80_e1e0_11ea_89ca_89f27664e01drow1_col3\" class=\"data row1 col3\" >247.000000</td>\n",
       "            </tr>\n",
       "            <tr>\n",
       "                        <th id=\"T_24b4fc80_e1e0_11ea_89ca_89f27664e01dlevel0_row2\" class=\"row_heading level0 row2\" >accuracy</th>\n",
       "                        <td id=\"T_24b4fc80_e1e0_11ea_89ca_89f27664e01drow2_col0\" class=\"data row2 col0\" >0.993626</td>\n",
       "                        <td id=\"T_24b4fc80_e1e0_11ea_89ca_89f27664e01drow2_col1\" class=\"data row2 col1\" >0.993626</td>\n",
       "                        <td id=\"T_24b4fc80_e1e0_11ea_89ca_89f27664e01drow2_col2\" class=\"data row2 col2\" >0.993626</td>\n",
       "                        <td id=\"T_24b4fc80_e1e0_11ea_89ca_89f27664e01drow2_col3\" class=\"data row2 col3\" >0.993626</td>\n",
       "            </tr>\n",
       "            <tr>\n",
       "                        <th id=\"T_24b4fc80_e1e0_11ea_89ca_89f27664e01dlevel0_row3\" class=\"row_heading level0 row3\" >macro avg</th>\n",
       "                        <td id=\"T_24b4fc80_e1e0_11ea_89ca_89f27664e01drow3_col0\" class=\"data row3 col0\" >0.986709</td>\n",
       "                        <td id=\"T_24b4fc80_e1e0_11ea_89ca_89f27664e01drow3_col1\" class=\"data row3 col1\" >0.991352</td>\n",
       "                        <td id=\"T_24b4fc80_e1e0_11ea_89ca_89f27664e01drow3_col2\" class=\"data row3 col2\" >0.989012</td>\n",
       "                        <td id=\"T_24b4fc80_e1e0_11ea_89ca_89f27664e01drow3_col3\" class=\"data row3 col3\" >1412.000000</td>\n",
       "            </tr>\n",
       "            <tr>\n",
       "                        <th id=\"T_24b4fc80_e1e0_11ea_89ca_89f27664e01dlevel0_row4\" class=\"row_heading level0 row4\" >weighted avg</th>\n",
       "                        <td id=\"T_24b4fc80_e1e0_11ea_89ca_89f27664e01drow4_col0\" class=\"data row4 col0\" >0.993672</td>\n",
       "                        <td id=\"T_24b4fc80_e1e0_11ea_89ca_89f27664e01drow4_col1\" class=\"data row4 col1\" >0.993626</td>\n",
       "                        <td id=\"T_24b4fc80_e1e0_11ea_89ca_89f27664e01drow4_col2\" class=\"data row4 col2\" >0.993641</td>\n",
       "                        <td id=\"T_24b4fc80_e1e0_11ea_89ca_89f27664e01drow4_col3\" class=\"data row4 col3\" >1412.000000</td>\n",
       "            </tr>\n",
       "    </tbody></table><style  type=\"text/css\" >\n",
       "</style><table id=\"T_24b548ca_e1e0_11ea_89ca_89f27664e01d\" style='display:inline'><caption>Training Confusion Matrix</caption><thead>    <tr>        <th class=\"blank level0\" ></th>        <th class=\"col_heading level0 col0\" >0</th>        <th class=\"col_heading level0 col1\" >1</th>    </tr></thead><tbody>\n",
       "                <tr>\n",
       "                        <th id=\"T_24b548ca_e1e0_11ea_89ca_89f27664e01dlevel0_row0\" class=\"row_heading level0 row0\" >0</th>\n",
       "                        <td id=\"T_24b548ca_e1e0_11ea_89ca_89f27664e01drow0_col0\" class=\"data row0 col0\" >4584</td>\n",
       "                        <td id=\"T_24b548ca_e1e0_11ea_89ca_89f27664e01drow0_col1\" class=\"data row0 col1\" >17</td>\n",
       "            </tr>\n",
       "            <tr>\n",
       "                        <th id=\"T_24b548ca_e1e0_11ea_89ca_89f27664e01dlevel0_row1\" class=\"row_heading level0 row1\" >1</th>\n",
       "                        <td id=\"T_24b548ca_e1e0_11ea_89ca_89f27664e01drow1_col0\" class=\"data row1 col0\" >13</td>\n",
       "                        <td id=\"T_24b548ca_e1e0_11ea_89ca_89f27664e01drow1_col1\" class=\"data row1 col1\" >1032</td>\n",
       "            </tr>\n",
       "    </tbody></table><style  type=\"text/css\" >\n",
       "</style><table id=\"T_24b563dc_e1e0_11ea_89ca_89f27664e01d\" style='display:inline'><caption>Test Confusion Matrix</caption><thead>    <tr>        <th class=\"blank level0\" ></th>        <th class=\"col_heading level0 col0\" >0</th>        <th class=\"col_heading level0 col1\" >1</th>    </tr></thead><tbody>\n",
       "                <tr>\n",
       "                        <th id=\"T_24b563dc_e1e0_11ea_89ca_89f27664e01dlevel0_row0\" class=\"row_heading level0 row0\" >0</th>\n",
       "                        <td id=\"T_24b563dc_e1e0_11ea_89ca_89f27664e01drow0_col0\" class=\"data row0 col0\" >1159</td>\n",
       "                        <td id=\"T_24b563dc_e1e0_11ea_89ca_89f27664e01drow0_col1\" class=\"data row0 col1\" >6</td>\n",
       "            </tr>\n",
       "            <tr>\n",
       "                        <th id=\"T_24b563dc_e1e0_11ea_89ca_89f27664e01dlevel0_row1\" class=\"row_heading level0 row1\" >1</th>\n",
       "                        <td id=\"T_24b563dc_e1e0_11ea_89ca_89f27664e01drow1_col0\" class=\"data row1 col0\" >3</td>\n",
       "                        <td id=\"T_24b563dc_e1e0_11ea_89ca_89f27664e01drow1_col1\" class=\"data row1 col1\" >244</td>\n",
       "            </tr>\n",
       "    </tbody></table>"
      ]
     },
     "metadata": {},
     "output_type": "display_data"
    },
    {
     "data": {
      "text/plain": [
       "'Training f1 Score: 0.9967    Test f1 Score: 0.9961'"
      ]
     },
     "execution_count": 67,
     "metadata": {},
     "output_type": "execute_result"
    },
    {
     "data": {
      "image/png": "[encoded data removed]",
      "text/plain": [
       "<Figure size 864x288 with 1 Axes>"
      ]
     },
     "metadata": {},
     "output_type": "display_data"
    }
   ],
   "source": [
    "# observe classification metrics\n",
    "get_reports(X_train_no_count, y_train_no_count, base_model_no_count)"
   ]
  },
  {
   "cell_type": "code",
   "execution_count": 68,
   "metadata": {},
   "outputs": [
    {
     "data": {
      "text/html": [
       "<div>\n",
       "<style scoped>\n",
       "    .dataframe tbody tr th:only-of-type {\n",
       "        vertical-align: middle;\n",
       "    }\n",
       "\n",
       "    .dataframe tbody tr th {\n",
       "        vertical-align: top;\n",
       "    }\n",
       "\n",
       "    .dataframe thead th {\n",
       "        text-align: right;\n",
       "    }\n",
       "</style>\n",
       "<table border=\"1\" class=\"dataframe\">\n",
       "  <thead>\n",
       "    <tr style=\"text-align: right;\">\n",
       "      <th></th>\n",
       "      <th>importance</th>\n",
       "    </tr>\n",
       "  </thead>\n",
       "  <tbody>\n",
       "    <tr>\n",
       "      <th>loser_class</th>\n",
       "      <td>0.528232</td>\n",
       "    </tr>\n",
       "    <tr>\n",
       "      <th>org_id</th>\n",
       "      <td>0.272917</td>\n",
       "    </tr>\n",
       "    <tr>\n",
       "      <th>invitee_id</th>\n",
       "      <td>0.119679</td>\n",
       "    </tr>\n",
       "    <tr>\n",
       "      <th>mailing_list</th>\n",
       "      <td>0.015101</td>\n",
       "    </tr>\n",
       "    <tr>\n",
       "      <th>marketing_drip</th>\n",
       "      <td>0.011125</td>\n",
       "    </tr>\n",
       "    <tr>\n",
       "      <th>provider_yahoo</th>\n",
       "      <td>0.005546</td>\n",
       "    </tr>\n",
       "    <tr>\n",
       "      <th>provider_gmail</th>\n",
       "      <td>0.005527</td>\n",
       "    </tr>\n",
       "    <tr>\n",
       "      <th>provider_gustr</th>\n",
       "      <td>0.005146</td>\n",
       "    </tr>\n",
       "    <tr>\n",
       "      <th>provider_hotmail</th>\n",
       "      <td>0.005004</td>\n",
       "    </tr>\n",
       "    <tr>\n",
       "      <th>provider_jourrapide</th>\n",
       "      <td>0.004724</td>\n",
       "    </tr>\n",
       "    <tr>\n",
       "      <th>provider_other</th>\n",
       "      <td>0.004604</td>\n",
       "    </tr>\n",
       "    <tr>\n",
       "      <th>provider_cuvox</th>\n",
       "      <td>0.004201</td>\n",
       "    </tr>\n",
       "    <tr>\n",
       "      <th>source_guest_invite</th>\n",
       "      <td>0.003630</td>\n",
       "    </tr>\n",
       "    <tr>\n",
       "      <th>source_org_invite</th>\n",
       "      <td>0.003401</td>\n",
       "    </tr>\n",
       "    <tr>\n",
       "      <th>source_personal_projects</th>\n",
       "      <td>0.002713</td>\n",
       "    </tr>\n",
       "    <tr>\n",
       "      <th>source_signup</th>\n",
       "      <td>0.002662</td>\n",
       "    </tr>\n",
       "    <tr>\n",
       "      <th>org_member</th>\n",
       "      <td>0.002295</td>\n",
       "    </tr>\n",
       "    <tr>\n",
       "      <th>invited</th>\n",
       "      <td>0.002079</td>\n",
       "    </tr>\n",
       "    <tr>\n",
       "      <th>source_signup_google_auth</th>\n",
       "      <td>0.001415</td>\n",
       "    </tr>\n",
       "  </tbody>\n",
       "</table>\n",
       "</div>"
      ],
      "text/plain": [
       "                           importance\n",
       "loser_class                  0.528232\n",
       "org_id                       0.272917\n",
       "invitee_id                   0.119679\n",
       "mailing_list                 0.015101\n",
       "marketing_drip               0.011125\n",
       "provider_yahoo               0.005546\n",
       "provider_gmail               0.005527\n",
       "provider_gustr               0.005146\n",
       "provider_hotmail             0.005004\n",
       "provider_jourrapide          0.004724\n",
       "provider_other               0.004604\n",
       "provider_cuvox               0.004201\n",
       "source_guest_invite          0.003630\n",
       "source_org_invite            0.003401\n",
       "source_personal_projects     0.002713\n",
       "source_signup                0.002662\n",
       "org_member                   0.002295\n",
       "invited                      0.002079\n",
       "source_signup_google_auth    0.001415"
      ]
     },
     "execution_count": 68,
     "metadata": {},
     "output_type": "execute_result"
    },
    {
     "data": {
      "image/png": "[encoded data removed]",
      "text/plain": [
       "<Figure size 864x576 with 1 Axes>"
      ]
     },
     "metadata": {},
     "output_type": "display_data"
    }
   ],
   "source": [
    "# list feature importances and plot\n",
    "plot_feature_importance(X_train_no_count, base_model_no_count)"
   ]
  },
  {
   "cell_type": "markdown",
   "metadata": {},
   "source": [
    "Great. The model still has excellent performance, without the obvious observation."
   ]
  },
  {
   "cell_type": "markdown",
   "metadata": {},
   "source": [
    "The loser class is important to observe.<br>\n",
    "It distinguishes those users who are still active from ones who never really joined, as well as the adopted users.<br>\n",
    "These active users should be recruited for more activity, until they become adopted.<br>\n",
    "For clarification, they will have values of 0 for loser class and 0 for adopted class."
   ]
  },
  {
   "cell_type": "code",
   "execution_count": 69,
   "metadata": {},
   "outputs": [
    {
     "data": {
      "text/plain": [
       "6235"
      ]
     },
     "execution_count": 69,
     "metadata": {},
     "output_type": "execute_result"
    }
   ],
   "source": [
    "# extract the users that never stuck around\n",
    "loser_users_df = df[df['loser_class'] == 1]\n",
    "loser_users_df.shape[0]"
   ]
  },
  {
   "cell_type": "code",
   "execution_count": 70,
   "metadata": {},
   "outputs": [
    {
     "data": {
      "text/plain": [
       "986"
      ]
     },
     "execution_count": 70,
     "metadata": {},
     "output_type": "execute_result"
    }
   ],
   "source": [
    "# extract the users that should get more attention\n",
    "target_users_df = df[(df['loser_class'] == 0) & (df['adopted_user'] == 0)]\n",
    "target_users_df.shape[0]"
   ]
  },
  {
   "cell_type": "code",
   "execution_count": 71,
   "metadata": {},
   "outputs": [
    {
     "data": {
      "text/plain": [
       "1602"
      ]
     },
     "execution_count": 71,
     "metadata": {},
     "output_type": "execute_result"
    }
   ],
   "source": [
    "# extract the users that are adopted\n",
    "adopted_users_df = df[df['adopted_user'] == 1]\n",
    "adopted_users_df.shape[0]"
   ]
  },
  {
   "cell_type": "markdown",
   "metadata": {},
   "source": [
    "There are quit a lot of people who are in the data, but are not active users."
   ]
  },
  {
   "cell_type": "code",
   "execution_count": 72,
   "metadata": {},
   "outputs": [
    {
     "data": {
      "image/png": "[encoded data removed]",
      "text/plain": [
       "<Figure size 864x288 with 1 Axes>"
      ]
     },
     "metadata": {},
     "output_type": "display_data"
    }
   ],
   "source": [
    "# plot counts of adopted users and users not considered adopted, split by active users\n",
    "sns.countplot(x='adopted_user', hue='loser_class', data=df)\n",
    "plt.title('Counts of Adopted Feature');"
   ]
  },
  {
   "cell_type": "markdown",
   "metadata": {},
   "source": [
    "Since organization ID was an important feature, I will contrast membership with respect to the different types of users."
   ]
  },
  {
   "cell_type": "code",
   "execution_count": 73,
   "metadata": {},
   "outputs": [
    {
     "data": {
      "image/png": "[encoded data removed]",
      "text/plain": [
       "<Figure size 864x288 with 1 Axes>"
      ]
     },
     "metadata": {},
     "output_type": "display_data"
    }
   ],
   "source": [
    "# plot counts of adopted users and users not adopted, split by organizational membership\n",
    "sns.countplot(x='adopted_user', hue='org_member', data=df)\n",
    "plt.title('Counts of Adopted Feature');"
   ]
  },
  {
   "cell_type": "code",
   "execution_count": 74,
   "metadata": {},
   "outputs": [
    {
     "data": {
      "image/png": "[encoded data removed]",
      "text/plain": [
       "<Figure size 864x288 with 1 Axes>"
      ]
     },
     "metadata": {},
     "output_type": "display_data"
    }
   ],
   "source": [
    "# plot counts of organizational membership, split by active users\n",
    "sns.countplot(x='org_member', hue='loser_class', data=df)\n",
    "plt.title('Counts of Organizational Feature');"
   ]
  },
  {
   "cell_type": "markdown",
   "metadata": {},
   "source": [
    "Most of the adopted users belonged to an organization, but so did most of the users that were not active.<br>\n",
    "I will look for distinctions with respect to whether or not the person was invited by another user."
   ]
  },
  {
   "cell_type": "code",
   "execution_count": 75,
   "metadata": {},
   "outputs": [
    {
     "data": {
      "image/png": "[encoded data removed]",
      "text/plain": [
       "<Figure size 864x288 with 1 Axes>"
      ]
     },
     "metadata": {},
     "output_type": "display_data"
    }
   ],
   "source": [
    "# plot counts of adopted users and users not adopted, split by member invitation\n",
    "sns.countplot(x='adopted_user', data=df, hue='invited')\n",
    "plt.title('Counts of Adopted Feature');"
   ]
  },
  {
   "cell_type": "code",
   "execution_count": 76,
   "metadata": {},
   "outputs": [
    {
     "data": {
      "image/png": "[encoded data removed]",
      "text/plain": [
       "<Figure size 864x288 with 1 Axes>"
      ]
     },
     "metadata": {},
     "output_type": "display_data"
    }
   ],
   "source": [
    "# plot counts of member invitation, split by active users\n",
    "sns.countplot(x='invited', data=df, hue='loser_class')\n",
    "plt.title('Counts of Invited Feature');"
   ]
  },
  {
   "cell_type": "markdown",
   "metadata": {},
   "source": [
    "The splits are fairly even, here.<br>\n",
    "I feel that the amount of not active users is dominating the comparison.<br>\n",
    "I will remove those users and look for distinctions between the other two groups."
   ]
  },
  {
   "cell_type": "code",
   "execution_count": 77,
   "metadata": {},
   "outputs": [
    {
     "data": {
      "text/plain": [
       "2588"
      ]
     },
     "execution_count": 77,
     "metadata": {},
     "output_type": "execute_result"
    }
   ],
   "source": [
    "# group the active users to distinguish them\n",
    "active_users_df = pd.concat([target_users_df, adopted_users_df])\n",
    "active_users_df.shape[0]"
   ]
  },
  {
   "cell_type": "code",
   "execution_count": 78,
   "metadata": {},
   "outputs": [],
   "source": [
    "# separate data into features and target with only active users\n",
    "X_no_losers = active_users_df.drop(\n",
    "    ['user_id', 'creation_time', 'name', 'last_session', \n",
    "     'adopted_user', 'loser_class', 'total_logins', 'window_count'], axis=1)\n",
    "y_no_losers = active_users_df['adopted_user']"
   ]
  },
  {
   "cell_type": "code",
   "execution_count": 79,
   "metadata": {},
   "outputs": [
    {
     "data": {
      "text/html": [
       "<div>\n",
       "<style scoped>\n",
       "    .dataframe tbody tr th:only-of-type {\n",
       "        vertical-align: middle;\n",
       "    }\n",
       "\n",
       "    .dataframe tbody tr th {\n",
       "        vertical-align: top;\n",
       "    }\n",
       "\n",
       "    .dataframe thead th {\n",
       "        text-align: right;\n",
       "    }\n",
       "</style>\n",
       "<table border=\"1\" class=\"dataframe\">\n",
       "  <thead>\n",
       "    <tr style=\"text-align: right;\">\n",
       "      <th></th>\n",
       "      <th>mailing_list</th>\n",
       "      <th>marketing_drip</th>\n",
       "      <th>org_id</th>\n",
       "      <th>invitee_id</th>\n",
       "      <th>invited</th>\n",
       "      <th>org_member</th>\n",
       "      <th>provider_cuvox</th>\n",
       "      <th>provider_gmail</th>\n",
       "      <th>provider_gustr</th>\n",
       "      <th>provider_hotmail</th>\n",
       "      <th>provider_jourrapide</th>\n",
       "      <th>provider_other</th>\n",
       "      <th>provider_yahoo</th>\n",
       "      <th>source_guest_invite</th>\n",
       "      <th>source_org_invite</th>\n",
       "      <th>source_personal_projects</th>\n",
       "      <th>source_signup</th>\n",
       "      <th>source_signup_google_auth</th>\n",
       "    </tr>\n",
       "  </thead>\n",
       "  <tbody>\n",
       "    <tr>\n",
       "      <th>12</th>\n",
       "      <td>1</td>\n",
       "      <td>0</td>\n",
       "      <td>0</td>\n",
       "      <td>0</td>\n",
       "      <td>0</td>\n",
       "      <td>0</td>\n",
       "      <td>0</td>\n",
       "      <td>1</td>\n",
       "      <td>0</td>\n",
       "      <td>0</td>\n",
       "      <td>0</td>\n",
       "      <td>0</td>\n",
       "      <td>0</td>\n",
       "      <td>0</td>\n",
       "      <td>0</td>\n",
       "      <td>0</td>\n",
       "      <td>1</td>\n",
       "      <td>0</td>\n",
       "    </tr>\n",
       "    <tr>\n",
       "      <th>18</th>\n",
       "      <td>1</td>\n",
       "      <td>0</td>\n",
       "      <td>81</td>\n",
       "      <td>6312</td>\n",
       "      <td>1</td>\n",
       "      <td>1</td>\n",
       "      <td>0</td>\n",
       "      <td>0</td>\n",
       "      <td>0</td>\n",
       "      <td>0</td>\n",
       "      <td>1</td>\n",
       "      <td>0</td>\n",
       "      <td>0</td>\n",
       "      <td>1</td>\n",
       "      <td>0</td>\n",
       "      <td>0</td>\n",
       "      <td>0</td>\n",
       "      <td>0</td>\n",
       "    </tr>\n",
       "    <tr>\n",
       "      <th>44</th>\n",
       "      <td>0</td>\n",
       "      <td>0</td>\n",
       "      <td>325</td>\n",
       "      <td>0</td>\n",
       "      <td>0</td>\n",
       "      <td>1</td>\n",
       "      <td>0</td>\n",
       "      <td>1</td>\n",
       "      <td>0</td>\n",
       "      <td>0</td>\n",
       "      <td>0</td>\n",
       "      <td>0</td>\n",
       "      <td>0</td>\n",
       "      <td>0</td>\n",
       "      <td>0</td>\n",
       "      <td>0</td>\n",
       "      <td>0</td>\n",
       "      <td>1</td>\n",
       "    </tr>\n",
       "    <tr>\n",
       "      <th>45</th>\n",
       "      <td>0</td>\n",
       "      <td>0</td>\n",
       "      <td>88</td>\n",
       "      <td>3463</td>\n",
       "      <td>1</td>\n",
       "      <td>1</td>\n",
       "      <td>0</td>\n",
       "      <td>1</td>\n",
       "      <td>0</td>\n",
       "      <td>0</td>\n",
       "      <td>0</td>\n",
       "      <td>0</td>\n",
       "      <td>0</td>\n",
       "      <td>0</td>\n",
       "      <td>1</td>\n",
       "      <td>0</td>\n",
       "      <td>0</td>\n",
       "      <td>0</td>\n",
       "    </tr>\n",
       "    <tr>\n",
       "      <th>59</th>\n",
       "      <td>1</td>\n",
       "      <td>1</td>\n",
       "      <td>68</td>\n",
       "      <td>0</td>\n",
       "      <td>0</td>\n",
       "      <td>1</td>\n",
       "      <td>0</td>\n",
       "      <td>0</td>\n",
       "      <td>0</td>\n",
       "      <td>0</td>\n",
       "      <td>1</td>\n",
       "      <td>0</td>\n",
       "      <td>0</td>\n",
       "      <td>0</td>\n",
       "      <td>0</td>\n",
       "      <td>0</td>\n",
       "      <td>1</td>\n",
       "      <td>0</td>\n",
       "    </tr>\n",
       "  </tbody>\n",
       "</table>\n",
       "</div>"
      ],
      "text/plain": [
       "    mailing_list  marketing_drip  org_id  invitee_id  invited  org_member  \\\n",
       "12             1               0       0           0        0           0   \n",
       "18             1               0      81        6312        1           1   \n",
       "44             0               0     325           0        0           1   \n",
       "45             0               0      88        3463        1           1   \n",
       "59             1               1      68           0        0           1   \n",
       "\n",
       "    provider_cuvox  provider_gmail  provider_gustr  provider_hotmail  \\\n",
       "12               0               1               0                 0   \n",
       "18               0               0               0                 0   \n",
       "44               0               1               0                 0   \n",
       "45               0               1               0                 0   \n",
       "59               0               0               0                 0   \n",
       "\n",
       "    provider_jourrapide  provider_other  provider_yahoo  source_guest_invite  \\\n",
       "12                    0               0               0                    0   \n",
       "18                    1               0               0                    1   \n",
       "44                    0               0               0                    0   \n",
       "45                    0               0               0                    0   \n",
       "59                    1               0               0                    0   \n",
       "\n",
       "    source_org_invite  source_personal_projects  source_signup  \\\n",
       "12                  0                         0              1   \n",
       "18                  0                         0              0   \n",
       "44                  0                         0              0   \n",
       "45                  1                         0              0   \n",
       "59                  0                         0              1   \n",
       "\n",
       "    source_signup_google_auth  \n",
       "12                          0  \n",
       "18                          0  \n",
       "44                          1  \n",
       "45                          0  \n",
       "59                          0  "
      ]
     },
     "execution_count": 79,
     "metadata": {},
     "output_type": "execute_result"
    }
   ],
   "source": [
    "# encode categorical variables\n",
    "X_no_losers = pd.get_dummies(\n",
    "    X_no_losers, \n",
    "    prefix={'creation_source': 'source', 'email': 'provider'}).rename(str.lower, axis=1)\n",
    "X_no_losers.head()"
   ]
  },
  {
   "cell_type": "code",
   "execution_count": 80,
   "metadata": {},
   "outputs": [],
   "source": [
    "# split dataset\n",
    "X_train_no_losers, X_test_no_losers, y_train_no_losers, y_test_no_losers = train_test_split(\n",
    "    X_no_losers, y_no_losers, test_size=0.2, random_state=27)"
   ]
  },
  {
   "cell_type": "code",
   "execution_count": 81,
   "metadata": {},
   "outputs": [
    {
     "data": {
      "text/plain": [
       "criterion            gini\n",
       "max_depth            None\n",
       "max_features         auto\n",
       "max_leaf_nodes       None\n",
       "max_samples          None\n",
       "min_samples_leaf        1\n",
       "min_samples_split       2\n",
       "n_estimators          100\n",
       "Name: model_params, dtype: object"
      ]
     },
     "execution_count": 81,
     "metadata": {},
     "output_type": "execute_result"
    }
   ],
   "source": [
    "# instantiate base model and get parameters\n",
    "base_model_no_losers = get_base_model(X_no_losers, y_no_losers)\n",
    "get_params(base_model_no_losers)"
   ]
  },
  {
   "cell_type": "code",
   "execution_count": 82,
   "metadata": {},
   "outputs": [
    {
     "data": {
      "text/html": [
       "<style  type=\"text/css\" >\n",
       "</style><table id=\"T_260ded12_e1e0_11ea_89ca_89f27664e01d\" style='display:inline'><caption>Training Classification Report</caption><thead>    <tr>        <th class=\"blank level0\" ></th>        <th class=\"col_heading level0 col0\" >precision</th>        <th class=\"col_heading level0 col1\" >recall</th>        <th class=\"col_heading level0 col2\" >f1-score</th>        <th class=\"col_heading level0 col3\" >support</th>    </tr></thead><tbody>\n",
       "                <tr>\n",
       "                        <th id=\"T_260ded12_e1e0_11ea_89ca_89f27664e01dlevel0_row0\" class=\"row_heading level0 row0\" >0</th>\n",
       "                        <td id=\"T_260ded12_e1e0_11ea_89ca_89f27664e01drow0_col0\" class=\"data row0 col0\" >0.975166</td>\n",
       "                        <td id=\"T_260ded12_e1e0_11ea_89ca_89f27664e01drow0_col1\" class=\"data row0 col1\" >0.959283</td>\n",
       "                        <td id=\"T_260ded12_e1e0_11ea_89ca_89f27664e01drow0_col2\" class=\"data row0 col2\" >0.967159</td>\n",
       "                        <td id=\"T_260ded12_e1e0_11ea_89ca_89f27664e01drow0_col3\" class=\"data row0 col3\" >614.000000</td>\n",
       "            </tr>\n",
       "            <tr>\n",
       "                        <th id=\"T_260ded12_e1e0_11ea_89ca_89f27664e01dlevel0_row1\" class=\"row_heading level0 row1\" >1</th>\n",
       "                        <td id=\"T_260ded12_e1e0_11ea_89ca_89f27664e01drow1_col0\" class=\"data row1 col0\" >0.976236</td>\n",
       "                        <td id=\"T_260ded12_e1e0_11ea_89ca_89f27664e01drow1_col1\" class=\"data row1 col1\" >0.985605</td>\n",
       "                        <td id=\"T_260ded12_e1e0_11ea_89ca_89f27664e01drow1_col2\" class=\"data row1 col2\" >0.980898</td>\n",
       "                        <td id=\"T_260ded12_e1e0_11ea_89ca_89f27664e01drow1_col3\" class=\"data row1 col3\" >1042.000000</td>\n",
       "            </tr>\n",
       "            <tr>\n",
       "                        <th id=\"T_260ded12_e1e0_11ea_89ca_89f27664e01dlevel0_row2\" class=\"row_heading level0 row2\" >accuracy</th>\n",
       "                        <td id=\"T_260ded12_e1e0_11ea_89ca_89f27664e01drow2_col0\" class=\"data row2 col0\" >0.975845</td>\n",
       "                        <td id=\"T_260ded12_e1e0_11ea_89ca_89f27664e01drow2_col1\" class=\"data row2 col1\" >0.975845</td>\n",
       "                        <td id=\"T_260ded12_e1e0_11ea_89ca_89f27664e01drow2_col2\" class=\"data row2 col2\" >0.975845</td>\n",
       "                        <td id=\"T_260ded12_e1e0_11ea_89ca_89f27664e01drow2_col3\" class=\"data row2 col3\" >0.975845</td>\n",
       "            </tr>\n",
       "            <tr>\n",
       "                        <th id=\"T_260ded12_e1e0_11ea_89ca_89f27664e01dlevel0_row3\" class=\"row_heading level0 row3\" >macro avg</th>\n",
       "                        <td id=\"T_260ded12_e1e0_11ea_89ca_89f27664e01drow3_col0\" class=\"data row3 col0\" >0.975701</td>\n",
       "                        <td id=\"T_260ded12_e1e0_11ea_89ca_89f27664e01drow3_col1\" class=\"data row3 col1\" >0.972444</td>\n",
       "                        <td id=\"T_260ded12_e1e0_11ea_89ca_89f27664e01drow3_col2\" class=\"data row3 col2\" >0.974029</td>\n",
       "                        <td id=\"T_260ded12_e1e0_11ea_89ca_89f27664e01drow3_col3\" class=\"data row3 col3\" >1656.000000</td>\n",
       "            </tr>\n",
       "            <tr>\n",
       "                        <th id=\"T_260ded12_e1e0_11ea_89ca_89f27664e01dlevel0_row4\" class=\"row_heading level0 row4\" >weighted avg</th>\n",
       "                        <td id=\"T_260ded12_e1e0_11ea_89ca_89f27664e01drow4_col0\" class=\"data row4 col0\" >0.975839</td>\n",
       "                        <td id=\"T_260ded12_e1e0_11ea_89ca_89f27664e01drow4_col1\" class=\"data row4 col1\" >0.975845</td>\n",
       "                        <td id=\"T_260ded12_e1e0_11ea_89ca_89f27664e01drow4_col2\" class=\"data row4 col2\" >0.975804</td>\n",
       "                        <td id=\"T_260ded12_e1e0_11ea_89ca_89f27664e01drow4_col3\" class=\"data row4 col3\" >1656.000000</td>\n",
       "            </tr>\n",
       "    </tbody></table><style  type=\"text/css\" >\n",
       "</style><table id=\"T_260e4122_e1e0_11ea_89ca_89f27664e01d\" style='display:inline'><caption>Test Classification Report</caption><thead>    <tr>        <th class=\"blank level0\" ></th>        <th class=\"col_heading level0 col0\" >precision</th>        <th class=\"col_heading level0 col1\" >recall</th>        <th class=\"col_heading level0 col2\" >f1-score</th>        <th class=\"col_heading level0 col3\" >support</th>    </tr></thead><tbody>\n",
       "                <tr>\n",
       "                        <th id=\"T_260e4122_e1e0_11ea_89ca_89f27664e01dlevel0_row0\" class=\"row_heading level0 row0\" >0</th>\n",
       "                        <td id=\"T_260e4122_e1e0_11ea_89ca_89f27664e01drow0_col0\" class=\"data row0 col0\" >0.987421</td>\n",
       "                        <td id=\"T_260e4122_e1e0_11ea_89ca_89f27664e01drow0_col1\" class=\"data row0 col1\" >0.993671</td>\n",
       "                        <td id=\"T_260e4122_e1e0_11ea_89ca_89f27664e01drow0_col2\" class=\"data row0 col2\" >0.990536</td>\n",
       "                        <td id=\"T_260e4122_e1e0_11ea_89ca_89f27664e01drow0_col3\" class=\"data row0 col3\" >158.000000</td>\n",
       "            </tr>\n",
       "            <tr>\n",
       "                        <th id=\"T_260e4122_e1e0_11ea_89ca_89f27664e01dlevel0_row1\" class=\"row_heading level0 row1\" >1</th>\n",
       "                        <td id=\"T_260e4122_e1e0_11ea_89ca_89f27664e01drow1_col0\" class=\"data row1 col0\" >0.996078</td>\n",
       "                        <td id=\"T_260e4122_e1e0_11ea_89ca_89f27664e01drow1_col1\" class=\"data row1 col1\" >0.992188</td>\n",
       "                        <td id=\"T_260e4122_e1e0_11ea_89ca_89f27664e01drow1_col2\" class=\"data row1 col2\" >0.994129</td>\n",
       "                        <td id=\"T_260e4122_e1e0_11ea_89ca_89f27664e01drow1_col3\" class=\"data row1 col3\" >256.000000</td>\n",
       "            </tr>\n",
       "            <tr>\n",
       "                        <th id=\"T_260e4122_e1e0_11ea_89ca_89f27664e01dlevel0_row2\" class=\"row_heading level0 row2\" >accuracy</th>\n",
       "                        <td id=\"T_260e4122_e1e0_11ea_89ca_89f27664e01drow2_col0\" class=\"data row2 col0\" >0.992754</td>\n",
       "                        <td id=\"T_260e4122_e1e0_11ea_89ca_89f27664e01drow2_col1\" class=\"data row2 col1\" >0.992754</td>\n",
       "                        <td id=\"T_260e4122_e1e0_11ea_89ca_89f27664e01drow2_col2\" class=\"data row2 col2\" >0.992754</td>\n",
       "                        <td id=\"T_260e4122_e1e0_11ea_89ca_89f27664e01drow2_col3\" class=\"data row2 col3\" >0.992754</td>\n",
       "            </tr>\n",
       "            <tr>\n",
       "                        <th id=\"T_260e4122_e1e0_11ea_89ca_89f27664e01dlevel0_row3\" class=\"row_heading level0 row3\" >macro avg</th>\n",
       "                        <td id=\"T_260e4122_e1e0_11ea_89ca_89f27664e01drow3_col0\" class=\"data row3 col0\" >0.991750</td>\n",
       "                        <td id=\"T_260e4122_e1e0_11ea_89ca_89f27664e01drow3_col1\" class=\"data row3 col1\" >0.992929</td>\n",
       "                        <td id=\"T_260e4122_e1e0_11ea_89ca_89f27664e01drow3_col2\" class=\"data row3 col2\" >0.992333</td>\n",
       "                        <td id=\"T_260e4122_e1e0_11ea_89ca_89f27664e01drow3_col3\" class=\"data row3 col3\" >414.000000</td>\n",
       "            </tr>\n",
       "            <tr>\n",
       "                        <th id=\"T_260e4122_e1e0_11ea_89ca_89f27664e01dlevel0_row4\" class=\"row_heading level0 row4\" >weighted avg</th>\n",
       "                        <td id=\"T_260e4122_e1e0_11ea_89ca_89f27664e01drow4_col0\" class=\"data row4 col0\" >0.992775</td>\n",
       "                        <td id=\"T_260e4122_e1e0_11ea_89ca_89f27664e01drow4_col1\" class=\"data row4 col1\" >0.992754</td>\n",
       "                        <td id=\"T_260e4122_e1e0_11ea_89ca_89f27664e01drow4_col2\" class=\"data row4 col2\" >0.992758</td>\n",
       "                        <td id=\"T_260e4122_e1e0_11ea_89ca_89f27664e01drow4_col3\" class=\"data row4 col3\" >414.000000</td>\n",
       "            </tr>\n",
       "    </tbody></table><style  type=\"text/css\" >\n",
       "</style><table id=\"T_260e8d08_e1e0_11ea_89ca_89f27664e01d\" style='display:inline'><caption>Training Confusion Matrix</caption><thead>    <tr>        <th class=\"blank level0\" ></th>        <th class=\"col_heading level0 col0\" >0</th>        <th class=\"col_heading level0 col1\" >1</th>    </tr></thead><tbody>\n",
       "                <tr>\n",
       "                        <th id=\"T_260e8d08_e1e0_11ea_89ca_89f27664e01dlevel0_row0\" class=\"row_heading level0 row0\" >0</th>\n",
       "                        <td id=\"T_260e8d08_e1e0_11ea_89ca_89f27664e01drow0_col0\" class=\"data row0 col0\" >589</td>\n",
       "                        <td id=\"T_260e8d08_e1e0_11ea_89ca_89f27664e01drow0_col1\" class=\"data row0 col1\" >25</td>\n",
       "            </tr>\n",
       "            <tr>\n",
       "                        <th id=\"T_260e8d08_e1e0_11ea_89ca_89f27664e01dlevel0_row1\" class=\"row_heading level0 row1\" >1</th>\n",
       "                        <td id=\"T_260e8d08_e1e0_11ea_89ca_89f27664e01drow1_col0\" class=\"data row1 col0\" >15</td>\n",
       "                        <td id=\"T_260e8d08_e1e0_11ea_89ca_89f27664e01drow1_col1\" class=\"data row1 col1\" >1027</td>\n",
       "            </tr>\n",
       "    </tbody></table><style  type=\"text/css\" >\n",
       "</style><table id=\"T_260ea8d8_e1e0_11ea_89ca_89f27664e01d\" style='display:inline'><caption>Test Confusion Matrix</caption><thead>    <tr>        <th class=\"blank level0\" ></th>        <th class=\"col_heading level0 col0\" >0</th>        <th class=\"col_heading level0 col1\" >1</th>    </tr></thead><tbody>\n",
       "                <tr>\n",
       "                        <th id=\"T_260ea8d8_e1e0_11ea_89ca_89f27664e01dlevel0_row0\" class=\"row_heading level0 row0\" >0</th>\n",
       "                        <td id=\"T_260ea8d8_e1e0_11ea_89ca_89f27664e01drow0_col0\" class=\"data row0 col0\" >157</td>\n",
       "                        <td id=\"T_260ea8d8_e1e0_11ea_89ca_89f27664e01drow0_col1\" class=\"data row0 col1\" >1</td>\n",
       "            </tr>\n",
       "            <tr>\n",
       "                        <th id=\"T_260ea8d8_e1e0_11ea_89ca_89f27664e01dlevel0_row1\" class=\"row_heading level0 row1\" >1</th>\n",
       "                        <td id=\"T_260ea8d8_e1e0_11ea_89ca_89f27664e01drow1_col0\" class=\"data row1 col0\" >2</td>\n",
       "                        <td id=\"T_260ea8d8_e1e0_11ea_89ca_89f27664e01drow1_col1\" class=\"data row1 col1\" >254</td>\n",
       "            </tr>\n",
       "    </tbody></table>"
      ]
     },
     "metadata": {},
     "output_type": "display_data"
    },
    {
     "data": {
      "text/plain": [
       "'Training f1 Score: 0.9672    Test f1 Score: 0.9905'"
      ]
     },
     "execution_count": 82,
     "metadata": {},
     "output_type": "execute_result"
    },
    {
     "data": {
      "image/png": "[encoded data removed]",
      "text/plain": [
       "<Figure size 864x288 with 1 Axes>"
      ]
     },
     "metadata": {},
     "output_type": "display_data"
    }
   ],
   "source": [
    "# observe classification metrics\n",
    "get_reports(X_train_no_losers, y_train_no_losers, base_model_no_losers)"
   ]
  },
  {
   "cell_type": "code",
   "execution_count": 83,
   "metadata": {},
   "outputs": [
    {
     "data": {
      "text/html": [
       "<div>\n",
       "<style scoped>\n",
       "    .dataframe tbody tr th:only-of-type {\n",
       "        vertical-align: middle;\n",
       "    }\n",
       "\n",
       "    .dataframe tbody tr th {\n",
       "        vertical-align: top;\n",
       "    }\n",
       "\n",
       "    .dataframe thead th {\n",
       "        text-align: right;\n",
       "    }\n",
       "</style>\n",
       "<table border=\"1\" class=\"dataframe\">\n",
       "  <thead>\n",
       "    <tr style=\"text-align: right;\">\n",
       "      <th></th>\n",
       "      <th>importance</th>\n",
       "    </tr>\n",
       "  </thead>\n",
       "  <tbody>\n",
       "    <tr>\n",
       "      <th>org_id</th>\n",
       "      <td>0.580608</td>\n",
       "    </tr>\n",
       "    <tr>\n",
       "      <th>invitee_id</th>\n",
       "      <td>0.242541</td>\n",
       "    </tr>\n",
       "    <tr>\n",
       "      <th>mailing_list</th>\n",
       "      <td>0.027722</td>\n",
       "    </tr>\n",
       "    <tr>\n",
       "      <th>marketing_drip</th>\n",
       "      <td>0.020142</td>\n",
       "    </tr>\n",
       "    <tr>\n",
       "      <th>provider_gmail</th>\n",
       "      <td>0.013153</td>\n",
       "    </tr>\n",
       "    <tr>\n",
       "      <th>provider_yahoo</th>\n",
       "      <td>0.012641</td>\n",
       "    </tr>\n",
       "    <tr>\n",
       "      <th>provider_other</th>\n",
       "      <td>0.011584</td>\n",
       "    </tr>\n",
       "    <tr>\n",
       "      <th>provider_gustr</th>\n",
       "      <td>0.011576</td>\n",
       "    </tr>\n",
       "    <tr>\n",
       "      <th>provider_jourrapide</th>\n",
       "      <td>0.011049</td>\n",
       "    </tr>\n",
       "    <tr>\n",
       "      <th>provider_hotmail</th>\n",
       "      <td>0.010888</td>\n",
       "    </tr>\n",
       "    <tr>\n",
       "      <th>source_guest_invite</th>\n",
       "      <td>0.010639</td>\n",
       "    </tr>\n",
       "    <tr>\n",
       "      <th>provider_cuvox</th>\n",
       "      <td>0.010535</td>\n",
       "    </tr>\n",
       "    <tr>\n",
       "      <th>source_org_invite</th>\n",
       "      <td>0.010309</td>\n",
       "    </tr>\n",
       "    <tr>\n",
       "      <th>source_personal_projects</th>\n",
       "      <td>0.007078</td>\n",
       "    </tr>\n",
       "    <tr>\n",
       "      <th>source_signup</th>\n",
       "      <td>0.006811</td>\n",
       "    </tr>\n",
       "    <tr>\n",
       "      <th>invited</th>\n",
       "      <td>0.005071</td>\n",
       "    </tr>\n",
       "    <tr>\n",
       "      <th>source_signup_google_auth</th>\n",
       "      <td>0.003887</td>\n",
       "    </tr>\n",
       "    <tr>\n",
       "      <th>org_member</th>\n",
       "      <td>0.003765</td>\n",
       "    </tr>\n",
       "  </tbody>\n",
       "</table>\n",
       "</div>"
      ],
      "text/plain": [
       "                           importance\n",
       "org_id                       0.580608\n",
       "invitee_id                   0.242541\n",
       "mailing_list                 0.027722\n",
       "marketing_drip               0.020142\n",
       "provider_gmail               0.013153\n",
       "provider_yahoo               0.012641\n",
       "provider_other               0.011584\n",
       "provider_gustr               0.011576\n",
       "provider_jourrapide          0.011049\n",
       "provider_hotmail             0.010888\n",
       "source_guest_invite          0.010639\n",
       "provider_cuvox               0.010535\n",
       "source_org_invite            0.010309\n",
       "source_personal_projects     0.007078\n",
       "source_signup                0.006811\n",
       "invited                      0.005071\n",
       "source_signup_google_auth    0.003887\n",
       "org_member                   0.003765"
      ]
     },
     "execution_count": 83,
     "metadata": {},
     "output_type": "execute_result"
    },
    {
     "data": {
      "image/png": "[encoded data removed]",
      "text/plain": [
       "<Figure size 864x576 with 1 Axes>"
      ]
     },
     "metadata": {},
     "output_type": "display_data"
    }
   ],
   "source": [
    "# list feature importances an plot\n",
    "plot_feature_importance(X_train_no_losers, base_model_no_losers)"
   ]
  },
  {
   "cell_type": "markdown",
   "metadata": {},
   "source": [
    "There's not much difference, here.<br>\n",
    "I will note that the particular user invitee and affiliated organization appear important."
   ]
  },
  {
   "cell_type": "code",
   "execution_count": 84,
   "metadata": {},
   "outputs": [
    {
     "data": {
      "image/png": "[encoded data removed]",
      "text/plain": [
       "<Figure size 864x288 with 1 Axes>"
      ]
     },
     "metadata": {},
     "output_type": "display_data"
    }
   ],
   "source": [
    "# plot counts of adopted users and people are just active, split by invitation class\n",
    "sns.countplot(x='adopted_user', data=active_users_df, hue='invited')\n",
    "plt.title('Counts of Adopted Feature');"
   ]
  },
  {
   "cell_type": "code",
   "execution_count": 85,
   "metadata": {},
   "outputs": [
    {
     "data": {
      "image/png": "[encoded data removed]",
      "text/plain": [
       "<Figure size 864x288 with 1 Axes>"
      ]
     },
     "metadata": {},
     "output_type": "display_data"
    }
   ],
   "source": [
    "# plot counts of adopted users and people are just active, split by organization class\n",
    "sns.countplot(x='adopted_user', data=active_users_df, hue='org_member')\n",
    "plt.title('Counts of Adopted Feature');"
   ]
  },
  {
   "cell_type": "markdown",
   "metadata": {},
   "source": [
    "Whether the user was invited to join or is a member of an organization, in general, doesn't seem to correlate with being an adopted user."
   ]
  },
  {
   "cell_type": "markdown",
   "metadata": {},
   "source": [
    "Let me see if I can get some details about the specific organizations and invitees."
   ]
  },
  {
   "cell_type": "code",
   "execution_count": 86,
   "metadata": {},
   "outputs": [
    {
     "data": {
      "text/plain": [
       "{}"
      ]
     },
     "execution_count": 86,
     "metadata": {},
     "output_type": "execute_result"
    }
   ],
   "source": [
    "# sort organizations by their adopted power\n",
    "adopted_dict = adopted_users_df['org_id'].value_counts().to_dict()\n",
    "loser_dict = loser_users_df['org_id'].value_counts().to_dict()\n",
    "average_dict = {}\n",
    "perfect_dict = {}\n",
    "\n",
    "for org, adopted in adopted_dict.items():\n",
    "    if org in loser_dict.keys():\n",
    "        average_dict[org] = loser_dict[org] / adopted\n",
    "    else:\n",
    "        perfect_dict[org] = adopted\n",
    "perfect_dict"
   ]
  },
  {
   "cell_type": "markdown",
   "metadata": {},
   "source": [
    "It looks like there's no organization that has all of its member who are adopted.<br>\n",
    "I'll find the ones that are batting better than .500."
   ]
  },
  {
   "cell_type": "code",
   "execution_count": 87,
   "metadata": {},
   "outputs": [
    {
     "data": {
      "text/plain": [
       "{161: 0.7142857142857143,\n",
       " 387: 0.5714285714285714,\n",
       " 235: 0.6666666666666666,\n",
       " 289: 0.6666666666666666,\n",
       " 248: 0.8333333333333334,\n",
       " 306: 0.8333333333333334,\n",
       " 392: 0.8333333333333334,\n",
       " 273: 0.8,\n",
       " 381: 0.75,\n",
       " 231: 0.75,\n",
       " 352: 0.6666666666666666,\n",
       " 359: 0.5}"
      ]
     },
     "execution_count": 87,
     "metadata": {},
     "output_type": "execute_result"
    }
   ],
   "source": [
    "# get best groups for adopted members\n",
    "best_dict = {k:v for (k, v) in average_dict.items() if v < 1}\n",
    "best_dict"
   ]
  },
  {
   "cell_type": "markdown",
   "metadata": {},
   "source": [
    "These are the organizations with at least half of their members being adopted users.<br>\n",
    "There should be a focus on expanding the membership of these groups, as they may lend themselves to regular activity."
   ]
  },
  {
   "cell_type": "code",
   "execution_count": 88,
   "metadata": {},
   "outputs": [
    {
     "data": {
      "text/plain": [
       "{151: 9,\n",
       " 183: 8,\n",
       " 237: 13,\n",
       " 242: 13,\n",
       " 279: 10,\n",
       " 299: 15,\n",
       " 307: 9,\n",
       " 310: 8,\n",
       " 329: 6,\n",
       " 346: 9,\n",
       " 355: 7,\n",
       " 362: 13,\n",
       " 365: 7,\n",
       " 394: 14,\n",
       " 396: 5,\n",
       " 412: 6,\n",
       " 416: 2}"
      ]
     },
     "execution_count": 88,
     "metadata": {},
     "output_type": "execute_result"
    }
   ],
   "source": [
    "# get groups with no adopted members\n",
    "bad_org_lst = np.setdiff1d(list(loser_dict.keys()), list(average_dict.keys()))\n",
    "bad_dict = {}\n",
    "for org in bad_org_lst:\n",
    "    bad_dict[org] = loser_dict[org]\n",
    "bad_dict"
   ]
  },
  {
   "cell_type": "markdown",
   "metadata": {},
   "source": [
    "These organizations have no adopted members.<br>\n",
    "These two groups of organizations, above, should be compared with additional data."
   ]
  },
  {
   "cell_type": "code",
   "execution_count": 89,
   "metadata": {},
   "outputs": [
    {
     "data": {
      "image/png": "[encoded data removed]",
      "text/plain": [
       "<Figure size 864x288 with 1 Axes>"
      ]
     },
     "metadata": {},
     "output_type": "display_data"
    }
   ],
   "source": [
    "# plot counts of organizations, split by adopted feature among active users\n",
    "plt.ylim(0, 15)\n",
    "\n",
    "sns.countplot(target_users_df['org_id'], label='only active', color=mp.colors(2))\n",
    "sns.countplot(adopted_users_df['org_id'], label='adopted', color=mp.colors(4))\n",
    "\n",
    "plt.xticks([])\n",
    "plt.legend()\n",
    "plt.title('Organization Count Among Active Users');"
   ]
  },
  {
   "cell_type": "markdown",
   "metadata": {},
   "source": [
    "There are some organizations in red, rising above the green, that should have more of their members be adopted.<br>\n",
    "Outreach should be done to these classes to get their members' activities more frequent."
   ]
  },
  {
   "cell_type": "markdown",
   "metadata": {},
   "source": [
    "I'll do the same sorting of people who invited their friends."
   ]
  },
  {
   "cell_type": "code",
   "execution_count": 90,
   "metadata": {},
   "outputs": [
    {
     "data": {
      "text/plain": [
       "{5910: 3, 2776: 3, 8602: 3, 879: 3, 4019: 3}"
      ]
     },
     "execution_count": 90,
     "metadata": {},
     "output_type": "execute_result"
    }
   ],
   "source": [
    "# sort members by their adopted power\n",
    "adopted_friend_dict = adopted_users_df['invitee_id'].value_counts().to_dict()\n",
    "loser_friend_dict = loser_users_df['invitee_id'].value_counts().to_dict()\n",
    "average_friend_dict = {}\n",
    "perfect_friend_dict = {}\n",
    "\n",
    "for org, adopted in adopted_friend_dict.items():\n",
    "    if org in loser_friend_dict.keys():\n",
    "        average_friend_dict[org] = loser_friend_dict[org] / adopted\n",
    "    else:\n",
    "        perfect_friend_dict[org] = adopted\n",
    "# get those people who have recruited more than two adopted users\n",
    "best_perfect_friend_dict = {k:v for (k, v) in perfect_friend_dict.items() if v > 2}\n",
    "best_perfect_friend_dict"
   ]
  },
  {
   "cell_type": "markdown",
   "metadata": {},
   "source": [
    "These four people have recruited the most users who went on to become adopted users."
   ]
  },
  {
   "cell_type": "code",
   "execution_count": 91,
   "metadata": {},
   "outputs": [
    {
     "data": {
      "text/html": [
       "<div>\n",
       "<style scoped>\n",
       "    .dataframe tbody tr th:only-of-type {\n",
       "        vertical-align: middle;\n",
       "    }\n",
       "\n",
       "    .dataframe tbody tr th {\n",
       "        vertical-align: top;\n",
       "    }\n",
       "\n",
       "    .dataframe thead th {\n",
       "        text-align: right;\n",
       "    }\n",
       "</style>\n",
       "<table border=\"1\" class=\"dataframe\">\n",
       "  <thead>\n",
       "    <tr style=\"text-align: right;\">\n",
       "      <th></th>\n",
       "      <th>user_id</th>\n",
       "      <th>creation_time</th>\n",
       "      <th>name</th>\n",
       "      <th>email</th>\n",
       "      <th>creation_source</th>\n",
       "      <th>last_session</th>\n",
       "      <th>mailing_list</th>\n",
       "      <th>marketing_drip</th>\n",
       "      <th>org_id</th>\n",
       "      <th>invitee_id</th>\n",
       "      <th>invited</th>\n",
       "      <th>org_member</th>\n",
       "      <th>adopted_user</th>\n",
       "      <th>loser_class</th>\n",
       "      <th>total_logins</th>\n",
       "      <th>window_count</th>\n",
       "    </tr>\n",
       "  </thead>\n",
       "  <tbody>\n",
       "    <tr>\n",
       "      <th>2017</th>\n",
       "      <td>2776</td>\n",
       "      <td>2012-09-07 02:12:26</td>\n",
       "      <td>Robertson Mia</td>\n",
       "      <td>yahoo</td>\n",
       "      <td>ORG_INVITE</td>\n",
       "      <td>2012-10-31 02:12:26</td>\n",
       "      <td>0</td>\n",
       "      <td>0</td>\n",
       "      <td>24</td>\n",
       "      <td>11085</td>\n",
       "      <td>1</td>\n",
       "      <td>1</td>\n",
       "      <td>0</td>\n",
       "      <td>0</td>\n",
       "      <td>10</td>\n",
       "      <td>[1, 1, 2, 2, 1, 1, 2]</td>\n",
       "    </tr>\n",
       "    <tr>\n",
       "      <th>2956</th>\n",
       "      <td>4019</td>\n",
       "      <td>2012-06-11 08:28:50</td>\n",
       "      <td>Kjær Elias</td>\n",
       "      <td>cuvox</td>\n",
       "      <td>GUEST_INVITE</td>\n",
       "      <td>2014-06-04 08:28:50</td>\n",
       "      <td>0</td>\n",
       "      <td>0</td>\n",
       "      <td>305</td>\n",
       "      <td>4019</td>\n",
       "      <td>1</td>\n",
       "      <td>1</td>\n",
       "      <td>1</td>\n",
       "      <td>0</td>\n",
       "      <td>3085</td>\n",
       "      <td>[1, 2, 1, 1, 2, 3, 4, 1, 1, 2, 2, 3, 3, 3, 2, ...</td>\n",
       "    </tr>\n",
       "    <tr>\n",
       "      <th>4329</th>\n",
       "      <td>5910</td>\n",
       "      <td>2012-09-23 07:04:05</td>\n",
       "      <td>Neudorf Philipp</td>\n",
       "      <td>jourrapide</td>\n",
       "      <td>GUEST_INVITE</td>\n",
       "      <td>2012-09-24 07:04:05</td>\n",
       "      <td>0</td>\n",
       "      <td>0</td>\n",
       "      <td>212</td>\n",
       "      <td>6195</td>\n",
       "      <td>1</td>\n",
       "      <td>1</td>\n",
       "      <td>0</td>\n",
       "      <td>1</td>\n",
       "      <td>1</td>\n",
       "      <td>[1]</td>\n",
       "    </tr>\n",
       "    <tr>\n",
       "      <th>6289</th>\n",
       "      <td>8602</td>\n",
       "      <td>2012-10-25 07:46:58</td>\n",
       "      <td>May Julian</td>\n",
       "      <td>other</td>\n",
       "      <td>ORG_INVITE</td>\n",
       "      <td>2014-06-04 07:46:58</td>\n",
       "      <td>0</td>\n",
       "      <td>0</td>\n",
       "      <td>387</td>\n",
       "      <td>8602</td>\n",
       "      <td>1</td>\n",
       "      <td>1</td>\n",
       "      <td>1</td>\n",
       "      <td>0</td>\n",
       "      <td>1231</td>\n",
       "      <td>[1, 2, 1, 1, 2, 1, 2, 3, 1, 2, 3, 1, 2, 3, 3, ...</td>\n",
       "    </tr>\n",
       "  </tbody>\n",
       "</table>\n",
       "</div>"
      ],
      "text/plain": [
       "      user_id       creation_time             name       email  \\\n",
       "2017     2776 2012-09-07 02:12:26    Robertson Mia       yahoo   \n",
       "2956     4019 2012-06-11 08:28:50       Kjær Elias       cuvox   \n",
       "4329     5910 2012-09-23 07:04:05  Neudorf Philipp  jourrapide   \n",
       "6289     8602 2012-10-25 07:46:58       May Julian       other   \n",
       "\n",
       "     creation_source        last_session  mailing_list  marketing_drip  \\\n",
       "2017      ORG_INVITE 2012-10-31 02:12:26             0               0   \n",
       "2956    GUEST_INVITE 2014-06-04 08:28:50             0               0   \n",
       "4329    GUEST_INVITE 2012-09-24 07:04:05             0               0   \n",
       "6289      ORG_INVITE 2014-06-04 07:46:58             0               0   \n",
       "\n",
       "      org_id  invitee_id  invited  org_member  adopted_user  loser_class  \\\n",
       "2017      24       11085        1           1             0            0   \n",
       "2956     305        4019        1           1             1            0   \n",
       "4329     212        6195        1           1             0            1   \n",
       "6289     387        8602        1           1             1            0   \n",
       "\n",
       "      total_logins                                       window_count  \n",
       "2017            10                              [1, 1, 2, 2, 1, 1, 2]  \n",
       "2956          3085  [1, 2, 1, 1, 2, 3, 4, 1, 1, 2, 2, 3, 3, 3, 2, ...  \n",
       "4329             1                                                [1]  \n",
       "6289          1231  [1, 2, 1, 1, 2, 1, 2, 3, 1, 2, 3, 1, 2, 3, 3, ...  "
      ]
     },
     "execution_count": 91,
     "metadata": {},
     "output_type": "execute_result"
    }
   ],
   "source": [
    "# find the best recruiters\n",
    "df[df['user_id'].isin(best_perfect_friend_dict.keys())]"
   ]
  },
  {
   "cell_type": "markdown",
   "metadata": {},
   "source": [
    "Strangely enough, Neudorf Philipp only has one login, but has recruited three adopted users.<br>\n",
    "Robertson Mia is not an adopted user, either.<br>\n",
    "I recommend collecting further data on users, such as age, gender, occupation, zip code, etc."
   ]
  },
  {
   "cell_type": "markdown",
   "metadata": {},
   "source": [
    "To conclude, there are correlations between the target and the organizations and invitees.<br>\n",
    "Unfortunately, I don't believe the right kind of data is present to present much understanding for said correlations.<br>\n",
    "I would like to see more information about the users and the available organizations, before speculating further."
   ]
  },
  {
   "cell_type": "code",
   "execution_count": null,
   "metadata": {},
   "outputs": [],
   "source": []
  }
 ],
 "metadata": {
  "kernelspec": {
   "display_name": "Python 3",
   "language": "python",
   "name": "python3"
  },
  "language_info": {
   "codemirror_mode": {
    "name": "ipython",
    "version": 3
   },
   "file_extension": ".py",
   "mimetype": "text/x-python",
   "name": "python",
   "nbconvert_exporter": "python",
   "pygments_lexer": "ipython3",
   "version": "3.7.7"
  }
 },
 "nbformat": 4,
 "nbformat_minor": 4
}
